{
 "cells": [
  {
   "cell_type": "markdown",
   "metadata": {},
   "source": [
    "# ML Foreclosure Binary Classification - 2.5% sample data\n",
    "Only \"resolved\" outcomes - Either paid off or default \n",
    "\n",
    "    target = zeroBalCode (set to object dtype) \n",
    "    Binary classification sets zeroBalCode to either \"0\" or \"1\" for the 7 possible outcomes\n",
    "    \n",
    "    \"0\" = \"Loan Success\"\n",
    "        * 01 = Prepaid or Matured\n",
    "        * 06 = Repurchased\n",
    "        * 16 = Reperforming Loan Sale\n",
    "\n",
    "    \"1\" =  \"Loan Failure\" - Most likely loss of money (but not necessarily) one of below conditions:\n",
    "        * 02 = Third Party Sale\n",
    "        * 03 = Short Sale\n",
    "        * 09 = Deed-in-Lieu,REO\n",
    "        * 15 = Note Sale\n"
   ]
  },
  {
   "cell_type": "code",
   "execution_count": 1,
   "metadata": {
    "_cell_guid": "79c7e3d0-c299-4dcb-8224-4455121ee9b0",
    "_kg_hide-output": true,
    "_uuid": "d629ff2d2480ee46fbb7e2d37f6b5fab8052498a"
   },
   "outputs": [],
   "source": [
    "import pandas as pd\n",
    "import numpy as np\n",
    "import matplotlib.pyplot as plt\n",
    "from sklearn.model_selection import train_test_split\n",
    "#!pip install pycaret\n",
    "from imblearn.over_sampling import RandomOverSampler\n",
    "from pycaret.classification import *\n",
    "#from pycaret.regression import *\n",
    "pd.set_option('display.max_columns', None)\n"
   ]
  },
  {
   "cell_type": "markdown",
   "metadata": {},
   "source": [
    "# Importing the data - only use *.ML.csv files!!!\n",
    "If you have *.MLReady.csv then [click here](#MLReady)"
   ]
  },
  {
   "cell_type": "code",
   "execution_count": 2,
   "metadata": {
    "scrolled": false
   },
   "outputs": [
    {
     "data": {
      "text/html": [
       "<div>\n",
       "<style scoped>\n",
       "    .dataframe tbody tr th:only-of-type {\n",
       "        vertical-align: middle;\n",
       "    }\n",
       "\n",
       "    .dataframe tbody tr th {\n",
       "        vertical-align: top;\n",
       "    }\n",
       "\n",
       "    .dataframe thead th {\n",
       "        text-align: right;\n",
       "    }\n",
       "</style>\n",
       "<table border=\"1\" class=\"dataframe\">\n",
       "  <thead>\n",
       "    <tr style=\"text-align: right;\">\n",
       "      <th></th>\n",
       "      <th>Unnamed: 0</th>\n",
       "      <th>id</th>\n",
       "      <th>origChannel</th>\n",
       "      <th>sellerName</th>\n",
       "      <th>origIntRate</th>\n",
       "      <th>origUPB</th>\n",
       "      <th>origLoanTerm</th>\n",
       "      <th>origDate</th>\n",
       "      <th>origLTV</th>\n",
       "      <th>origCLTV</th>\n",
       "      <th>numBorrowers</th>\n",
       "      <th>origDebtIncRatio</th>\n",
       "      <th>loanPurp</th>\n",
       "      <th>propState</th>\n",
       "      <th>zipCode</th>\n",
       "      <th>pMIperct</th>\n",
       "      <th>mortInsType</th>\n",
       "      <th>bestCreditScore</th>\n",
       "      <th>worstCreditScore</th>\n",
       "      <th>avgCreditScore</th>\n",
       "      <th>loanAge</th>\n",
       "      <th>monMatur</th>\n",
       "      <th>mSA</th>\n",
       "      <th>zeroBalCode</th>\n",
       "      <th>deliqGood</th>\n",
       "      <th>deliqBad</th>\n",
       "      <th>deliqMax</th>\n",
       "      <th>fmacRateMax</th>\n",
       "      <th>fmacRateMin</th>\n",
       "      <th>fmacRateAvg</th>\n",
       "      <th>fmacRateVolatility</th>\n",
       "      <th>fredRate</th>\n",
       "      <th>rateDiffAbove</th>\n",
       "      <th>rateDiffBelow</th>\n",
       "      <th>rateDiffAvg</th>\n",
       "      <th>rateDiffAbovePct</th>\n",
       "      <th>rateDiffBelowPct</th>\n",
       "      <th>rateDiffAvgPct</th>\n",
       "    </tr>\n",
       "  </thead>\n",
       "  <tbody>\n",
       "    <tr>\n",
       "      <th>0</th>\n",
       "      <td>0</td>\n",
       "      <td>102718910405</td>\n",
       "      <td>R</td>\n",
       "      <td>JPMORGAN CHASE BANK, NA</td>\n",
       "      <td>8.500</td>\n",
       "      <td>187000</td>\n",
       "      <td>360</td>\n",
       "      <td>2000-02-01</td>\n",
       "      <td>80.0</td>\n",
       "      <td>90.0</td>\n",
       "      <td>2.0</td>\n",
       "      <td>31.0</td>\n",
       "      <td>P</td>\n",
       "      <td>MI</td>\n",
       "      <td>483</td>\n",
       "      <td>0.0</td>\n",
       "      <td>0.0</td>\n",
       "      <td>712.0</td>\n",
       "      <td>706.0</td>\n",
       "      <td>709.0</td>\n",
       "      <td>70</td>\n",
       "      <td>290.0</td>\n",
       "      <td>19820</td>\n",
       "      <td>1.0</td>\n",
       "      <td>50</td>\n",
       "      <td>20</td>\n",
       "      <td>2.0</td>\n",
       "      <td>8.38</td>\n",
       "      <td>8.25</td>\n",
       "      <td>8.325</td>\n",
       "      <td>0.015758</td>\n",
       "      <td>6.62</td>\n",
       "      <td>0.120</td>\n",
       "      <td>-0.250</td>\n",
       "      <td>0.175</td>\n",
       "      <td>0.014320</td>\n",
       "      <td>-0.030303</td>\n",
       "      <td>0.021021</td>\n",
       "    </tr>\n",
       "    <tr>\n",
       "      <th>1</th>\n",
       "      <td>1</td>\n",
       "      <td>103123692845</td>\n",
       "      <td>B</td>\n",
       "      <td>JPMORGAN CHASE BANK, NA</td>\n",
       "      <td>8.500</td>\n",
       "      <td>243000</td>\n",
       "      <td>360</td>\n",
       "      <td>2000-02-01</td>\n",
       "      <td>80.0</td>\n",
       "      <td>95.0</td>\n",
       "      <td>1.0</td>\n",
       "      <td>49.0</td>\n",
       "      <td>P</td>\n",
       "      <td>CA</td>\n",
       "      <td>926</td>\n",
       "      <td>0.0</td>\n",
       "      <td>0.0</td>\n",
       "      <td>682.0</td>\n",
       "      <td>682.0</td>\n",
       "      <td>682.0</td>\n",
       "      <td>21</td>\n",
       "      <td>339.0</td>\n",
       "      <td>31100</td>\n",
       "      <td>1.0</td>\n",
       "      <td>17</td>\n",
       "      <td>4</td>\n",
       "      <td>1.0</td>\n",
       "      <td>8.38</td>\n",
       "      <td>8.25</td>\n",
       "      <td>8.325</td>\n",
       "      <td>0.015758</td>\n",
       "      <td>6.62</td>\n",
       "      <td>0.120</td>\n",
       "      <td>-0.250</td>\n",
       "      <td>0.175</td>\n",
       "      <td>0.014320</td>\n",
       "      <td>-0.030303</td>\n",
       "      <td>0.021021</td>\n",
       "    </tr>\n",
       "    <tr>\n",
       "      <th>2</th>\n",
       "      <td>2</td>\n",
       "      <td>117311391991</td>\n",
       "      <td>B</td>\n",
       "      <td>JPMORGAN CHASE BANK, NA</td>\n",
       "      <td>8.000</td>\n",
       "      <td>253000</td>\n",
       "      <td>360</td>\n",
       "      <td>2000-02-01</td>\n",
       "      <td>79.0</td>\n",
       "      <td>89.0</td>\n",
       "      <td>2.0</td>\n",
       "      <td>34.0</td>\n",
       "      <td>P</td>\n",
       "      <td>CA</td>\n",
       "      <td>953</td>\n",
       "      <td>0.0</td>\n",
       "      <td>0.0</td>\n",
       "      <td>810.0</td>\n",
       "      <td>784.0</td>\n",
       "      <td>797.0</td>\n",
       "      <td>36</td>\n",
       "      <td>324.0</td>\n",
       "      <td>44700</td>\n",
       "      <td>1.0</td>\n",
       "      <td>33</td>\n",
       "      <td>3</td>\n",
       "      <td>1.0</td>\n",
       "      <td>8.38</td>\n",
       "      <td>8.25</td>\n",
       "      <td>8.325</td>\n",
       "      <td>0.015758</td>\n",
       "      <td>6.62</td>\n",
       "      <td>-0.380</td>\n",
       "      <td>0.250</td>\n",
       "      <td>-0.325</td>\n",
       "      <td>-0.045346</td>\n",
       "      <td>0.030303</td>\n",
       "      <td>-0.039039</td>\n",
       "    </tr>\n",
       "    <tr>\n",
       "      <th>3</th>\n",
       "      <td>3</td>\n",
       "      <td>135950664937</td>\n",
       "      <td>R</td>\n",
       "      <td>JPMORGAN CHASE BANK, NA</td>\n",
       "      <td>8.500</td>\n",
       "      <td>138000</td>\n",
       "      <td>360</td>\n",
       "      <td>2000-02-01</td>\n",
       "      <td>80.0</td>\n",
       "      <td>95.0</td>\n",
       "      <td>1.0</td>\n",
       "      <td>30.0</td>\n",
       "      <td>P</td>\n",
       "      <td>MA</td>\n",
       "      <td>17</td>\n",
       "      <td>0.0</td>\n",
       "      <td>0.0</td>\n",
       "      <td>718.0</td>\n",
       "      <td>718.0</td>\n",
       "      <td>718.0</td>\n",
       "      <td>16</td>\n",
       "      <td>344.0</td>\n",
       "      <td>14460</td>\n",
       "      <td>1.0</td>\n",
       "      <td>14</td>\n",
       "      <td>2</td>\n",
       "      <td>1.0</td>\n",
       "      <td>8.38</td>\n",
       "      <td>8.25</td>\n",
       "      <td>8.325</td>\n",
       "      <td>0.015758</td>\n",
       "      <td>6.62</td>\n",
       "      <td>0.120</td>\n",
       "      <td>-0.250</td>\n",
       "      <td>0.175</td>\n",
       "      <td>0.014320</td>\n",
       "      <td>-0.030303</td>\n",
       "      <td>0.021021</td>\n",
       "    </tr>\n",
       "    <tr>\n",
       "      <th>4</th>\n",
       "      <td>4</td>\n",
       "      <td>226095365894</td>\n",
       "      <td>B</td>\n",
       "      <td>JPMORGAN CHASE BANK, NA</td>\n",
       "      <td>8.875</td>\n",
       "      <td>166000</td>\n",
       "      <td>360</td>\n",
       "      <td>2000-02-01</td>\n",
       "      <td>80.0</td>\n",
       "      <td>95.0</td>\n",
       "      <td>2.0</td>\n",
       "      <td>24.0</td>\n",
       "      <td>P</td>\n",
       "      <td>MA</td>\n",
       "      <td>18</td>\n",
       "      <td>0.0</td>\n",
       "      <td>0.0</td>\n",
       "      <td>782.0</td>\n",
       "      <td>752.0</td>\n",
       "      <td>767.0</td>\n",
       "      <td>24</td>\n",
       "      <td>336.0</td>\n",
       "      <td>14460</td>\n",
       "      <td>1.0</td>\n",
       "      <td>23</td>\n",
       "      <td>1</td>\n",
       "      <td>1.0</td>\n",
       "      <td>8.38</td>\n",
       "      <td>8.25</td>\n",
       "      <td>8.325</td>\n",
       "      <td>0.015758</td>\n",
       "      <td>6.62</td>\n",
       "      <td>0.495</td>\n",
       "      <td>-0.625</td>\n",
       "      <td>0.550</td>\n",
       "      <td>0.059069</td>\n",
       "      <td>-0.075758</td>\n",
       "      <td>0.066066</td>\n",
       "    </tr>\n",
       "  </tbody>\n",
       "</table>\n",
       "</div>"
      ],
      "text/plain": [
       "   Unnamed: 0            id origChannel               sellerName  origIntRate  \\\n",
       "0           0  102718910405           R  JPMORGAN CHASE BANK, NA        8.500   \n",
       "1           1  103123692845           B  JPMORGAN CHASE BANK, NA        8.500   \n",
       "2           2  117311391991           B  JPMORGAN CHASE BANK, NA        8.000   \n",
       "3           3  135950664937           R  JPMORGAN CHASE BANK, NA        8.500   \n",
       "4           4  226095365894           B  JPMORGAN CHASE BANK, NA        8.875   \n",
       "\n",
       "   origUPB  origLoanTerm    origDate  origLTV  origCLTV  numBorrowers  \\\n",
       "0   187000           360  2000-02-01     80.0      90.0           2.0   \n",
       "1   243000           360  2000-02-01     80.0      95.0           1.0   \n",
       "2   253000           360  2000-02-01     79.0      89.0           2.0   \n",
       "3   138000           360  2000-02-01     80.0      95.0           1.0   \n",
       "4   166000           360  2000-02-01     80.0      95.0           2.0   \n",
       "\n",
       "   origDebtIncRatio loanPurp propState  zipCode  pMIperct  mortInsType  \\\n",
       "0              31.0        P        MI      483       0.0          0.0   \n",
       "1              49.0        P        CA      926       0.0          0.0   \n",
       "2              34.0        P        CA      953       0.0          0.0   \n",
       "3              30.0        P        MA       17       0.0          0.0   \n",
       "4              24.0        P        MA       18       0.0          0.0   \n",
       "\n",
       "   bestCreditScore  worstCreditScore  avgCreditScore  loanAge  monMatur  \\\n",
       "0            712.0             706.0           709.0       70     290.0   \n",
       "1            682.0             682.0           682.0       21     339.0   \n",
       "2            810.0             784.0           797.0       36     324.0   \n",
       "3            718.0             718.0           718.0       16     344.0   \n",
       "4            782.0             752.0           767.0       24     336.0   \n",
       "\n",
       "     mSA  zeroBalCode  deliqGood  deliqBad  deliqMax  fmacRateMax  \\\n",
       "0  19820          1.0         50        20       2.0         8.38   \n",
       "1  31100          1.0         17         4       1.0         8.38   \n",
       "2  44700          1.0         33         3       1.0         8.38   \n",
       "3  14460          1.0         14         2       1.0         8.38   \n",
       "4  14460          1.0         23         1       1.0         8.38   \n",
       "\n",
       "   fmacRateMin  fmacRateAvg  fmacRateVolatility  fredRate  rateDiffAbove  \\\n",
       "0         8.25        8.325            0.015758      6.62          0.120   \n",
       "1         8.25        8.325            0.015758      6.62          0.120   \n",
       "2         8.25        8.325            0.015758      6.62         -0.380   \n",
       "3         8.25        8.325            0.015758      6.62          0.120   \n",
       "4         8.25        8.325            0.015758      6.62          0.495   \n",
       "\n",
       "   rateDiffBelow  rateDiffAvg  rateDiffAbovePct  rateDiffBelowPct  \\\n",
       "0         -0.250        0.175          0.014320         -0.030303   \n",
       "1         -0.250        0.175          0.014320         -0.030303   \n",
       "2          0.250       -0.325         -0.045346          0.030303   \n",
       "3         -0.250        0.175          0.014320         -0.030303   \n",
       "4         -0.625        0.550          0.059069         -0.075758   \n",
       "\n",
       "   rateDiffAvgPct  \n",
       "0        0.021021  \n",
       "1        0.021021  \n",
       "2       -0.039039  \n",
       "3        0.021021  \n",
       "4        0.066066  "
      ]
     },
     "execution_count": 2,
     "metadata": {},
     "output_type": "execute_result"
    }
   ],
   "source": [
    "df=pd.read_csv(\"data/FM_Acq2_Perf_FMAC_EPOCH1_loanAge.csv\")\n",
    "df.head()"
   ]
  },
  {
   "cell_type": "code",
   "execution_count": 3,
   "metadata": {
    "scrolled": false
   },
   "outputs": [
    {
     "name": "stdout",
     "output_type": "stream",
     "text": [
      "<class 'pandas.core.frame.DataFrame'>\n",
      "RangeIndex: 2278367 entries, 0 to 2278366\n",
      "Data columns (total 38 columns):\n",
      " #   Column              Dtype  \n",
      "---  ------              -----  \n",
      " 0   Unnamed: 0          int64  \n",
      " 1   id                  int64  \n",
      " 2   origChannel         object \n",
      " 3   sellerName          object \n",
      " 4   origIntRate         float64\n",
      " 5   origUPB             int64  \n",
      " 6   origLoanTerm        int64  \n",
      " 7   origDate            object \n",
      " 8   origLTV             float64\n",
      " 9   origCLTV            float64\n",
      " 10  numBorrowers        float64\n",
      " 11  origDebtIncRatio    float64\n",
      " 12  loanPurp            object \n",
      " 13  propState           object \n",
      " 14  zipCode             int64  \n",
      " 15  pMIperct            float64\n",
      " 16  mortInsType         float64\n",
      " 17  bestCreditScore     float64\n",
      " 18  worstCreditScore    float64\n",
      " 19  avgCreditScore      float64\n",
      " 20  loanAge             int64  \n",
      " 21  monMatur            float64\n",
      " 22  mSA                 int64  \n",
      " 23  zeroBalCode         float64\n",
      " 24  deliqGood           int64  \n",
      " 25  deliqBad            int64  \n",
      " 26  deliqMax            float64\n",
      " 27  fmacRateMax         float64\n",
      " 28  fmacRateMin         float64\n",
      " 29  fmacRateAvg         float64\n",
      " 30  fmacRateVolatility  float64\n",
      " 31  fredRate            float64\n",
      " 32  rateDiffAbove       float64\n",
      " 33  rateDiffBelow       float64\n",
      " 34  rateDiffAvg         float64\n",
      " 35  rateDiffAbovePct    float64\n",
      " 36  rateDiffBelowPct    float64\n",
      " 37  rateDiffAvgPct      float64\n",
      "dtypes: float64(24), int64(9), object(5)\n",
      "memory usage: 660.5+ MB\n"
     ]
    }
   ],
   "source": [
    "df.info()"
   ]
  },
  {
   "cell_type": "markdown",
   "metadata": {},
   "source": [
    "## Remove columns not involved in 'Foreclosure or Not' query"
   ]
  },
  {
   "cell_type": "code",
   "execution_count": 4,
   "metadata": {},
   "outputs": [],
   "source": [
    "df.drop(['Unnamed: 0','id','fredRate','monMatur','deliqGood','deliqBad','deliqMax'],1,inplace=True)"
   ]
  },
  {
   "cell_type": "code",
   "execution_count": 5,
   "metadata": {},
   "outputs": [
    {
     "name": "stdout",
     "output_type": "stream",
     "text": [
      "<class 'pandas.core.frame.DataFrame'>\n",
      "RangeIndex: 2278367 entries, 0 to 2278366\n",
      "Data columns (total 31 columns):\n",
      " #   Column              Dtype  \n",
      "---  ------              -----  \n",
      " 0   origChannel         object \n",
      " 1   sellerName          object \n",
      " 2   origIntRate         float64\n",
      " 3   origUPB             int64  \n",
      " 4   origLoanTerm        int64  \n",
      " 5   origDate            object \n",
      " 6   origLTV             float64\n",
      " 7   origCLTV            float64\n",
      " 8   numBorrowers        float64\n",
      " 9   origDebtIncRatio    float64\n",
      " 10  loanPurp            object \n",
      " 11  propState           object \n",
      " 12  zipCode             int64  \n",
      " 13  pMIperct            float64\n",
      " 14  mortInsType         float64\n",
      " 15  bestCreditScore     float64\n",
      " 16  worstCreditScore    float64\n",
      " 17  avgCreditScore      float64\n",
      " 18  loanAge             int64  \n",
      " 19  mSA                 int64  \n",
      " 20  zeroBalCode         float64\n",
      " 21  fmacRateMax         float64\n",
      " 22  fmacRateMin         float64\n",
      " 23  fmacRateAvg         float64\n",
      " 24  fmacRateVolatility  float64\n",
      " 25  rateDiffAbove       float64\n",
      " 26  rateDiffBelow       float64\n",
      " 27  rateDiffAvg         float64\n",
      " 28  rateDiffAbovePct    float64\n",
      " 29  rateDiffBelowPct    float64\n",
      " 30  rateDiffAvgPct      float64\n",
      "dtypes: float64(21), int64(5), object(5)\n",
      "memory usage: 538.9+ MB\n"
     ]
    }
   ],
   "source": [
    "df.info()"
   ]
  },
  {
   "cell_type": "markdown",
   "metadata": {},
   "source": [
    "### Check if any columns have a null value"
   ]
  },
  {
   "cell_type": "code",
   "execution_count": 6,
   "metadata": {},
   "outputs": [
    {
     "data": {
      "text/plain": [
       "origChannel           0\n",
       "sellerName            0\n",
       "origIntRate           0\n",
       "origUPB               0\n",
       "origLoanTerm          0\n",
       "origDate              0\n",
       "origLTV               0\n",
       "origCLTV              0\n",
       "numBorrowers          0\n",
       "origDebtIncRatio      0\n",
       "loanPurp              0\n",
       "propState             0\n",
       "zipCode               0\n",
       "pMIperct              0\n",
       "mortInsType           0\n",
       "bestCreditScore       0\n",
       "worstCreditScore      0\n",
       "avgCreditScore        0\n",
       "loanAge               0\n",
       "mSA                   0\n",
       "zeroBalCode           0\n",
       "fmacRateMax           0\n",
       "fmacRateMin           0\n",
       "fmacRateAvg           0\n",
       "fmacRateVolatility    0\n",
       "rateDiffAbove         0\n",
       "rateDiffBelow         0\n",
       "rateDiffAvg           0\n",
       "rateDiffAbovePct      0\n",
       "rateDiffBelowPct      0\n",
       "rateDiffAvgPct        0\n",
       "dtype: int64"
      ]
     },
     "execution_count": 6,
     "metadata": {},
     "output_type": "execute_result"
    }
   ],
   "source": [
    "df.apply(lambda x: x.isnull().sum(), axis=0)"
   ]
  },
  {
   "cell_type": "markdown",
   "metadata": {},
   "source": [
    "## Engineer originDate into Date features"
   ]
  },
  {
   "cell_type": "code",
   "execution_count": 7,
   "metadata": {},
   "outputs": [],
   "source": [
    "df['origDate'] = pd.to_datetime(df['origDate'])"
   ]
  },
  {
   "cell_type": "code",
   "execution_count": 8,
   "metadata": {},
   "outputs": [],
   "source": [
    "df['origYear'] = df['origDate'].dt.year\n",
    "df['origMonth'] = df['origDate'].dt.month"
   ]
  },
  {
   "cell_type": "code",
   "execution_count": 9,
   "metadata": {},
   "outputs": [],
   "source": [
    "df.drop(['origDate'],1,inplace=True)"
   ]
  },
  {
   "cell_type": "code",
   "execution_count": 10,
   "metadata": {
    "scrolled": true
   },
   "outputs": [
    {
     "data": {
      "text/html": [
       "<div>\n",
       "<style scoped>\n",
       "    .dataframe tbody tr th:only-of-type {\n",
       "        vertical-align: middle;\n",
       "    }\n",
       "\n",
       "    .dataframe tbody tr th {\n",
       "        vertical-align: top;\n",
       "    }\n",
       "\n",
       "    .dataframe thead th {\n",
       "        text-align: right;\n",
       "    }\n",
       "</style>\n",
       "<table border=\"1\" class=\"dataframe\">\n",
       "  <thead>\n",
       "    <tr style=\"text-align: right;\">\n",
       "      <th></th>\n",
       "      <th>origYear</th>\n",
       "      <th>origMonth</th>\n",
       "    </tr>\n",
       "  </thead>\n",
       "  <tbody>\n",
       "    <tr>\n",
       "      <th>0</th>\n",
       "      <td>2000</td>\n",
       "      <td>2</td>\n",
       "    </tr>\n",
       "    <tr>\n",
       "      <th>1</th>\n",
       "      <td>2000</td>\n",
       "      <td>2</td>\n",
       "    </tr>\n",
       "    <tr>\n",
       "      <th>2</th>\n",
       "      <td>2000</td>\n",
       "      <td>2</td>\n",
       "    </tr>\n",
       "    <tr>\n",
       "      <th>3</th>\n",
       "      <td>2000</td>\n",
       "      <td>2</td>\n",
       "    </tr>\n",
       "    <tr>\n",
       "      <th>4</th>\n",
       "      <td>2000</td>\n",
       "      <td>2</td>\n",
       "    </tr>\n",
       "  </tbody>\n",
       "</table>\n",
       "</div>"
      ],
      "text/plain": [
       "   origYear  origMonth\n",
       "0      2000          2\n",
       "1      2000          2\n",
       "2      2000          2\n",
       "3      2000          2\n",
       "4      2000          2"
      ]
     },
     "execution_count": 10,
     "metadata": {},
     "output_type": "execute_result"
    }
   ],
   "source": [
    "df[['origYear','origMonth']].head()"
   ]
  },
  {
   "cell_type": "markdown",
   "metadata": {},
   "source": [
    "## Use a subset of Epoch 1 - 1999-2004"
   ]
  },
  {
   "cell_type": "code",
   "execution_count": 11,
   "metadata": {},
   "outputs": [
    {
     "data": {
      "text/plain": [
       "(1639223, 32)"
      ]
     },
     "execution_count": 11,
     "metadata": {},
     "output_type": "execute_result"
    }
   ],
   "source": [
    "yearFilter = [1999,2000,2001,2002,2003,2004]\n",
    "df = df[df.origYear.isin(yearFilter)]\n",
    "df.shape"
   ]
  },
  {
   "cell_type": "markdown",
   "metadata": {},
   "source": [
    "# Turn zero Balance Code Into binary \"0\" GOOD and \"1\" BAD"
   ]
  },
  {
   "cell_type": "code",
   "execution_count": 12,
   "metadata": {},
   "outputs": [
    {
     "data": {
      "text/plain": [
       "array([ 1.,  6.,  9.,  3.,  2., 15., 16.])"
      ]
     },
     "execution_count": 12,
     "metadata": {},
     "output_type": "execute_result"
    }
   ],
   "source": [
    "df.zeroBalCode.unique()"
   ]
  },
  {
   "cell_type": "code",
   "execution_count": 13,
   "metadata": {},
   "outputs": [],
   "source": [
    "df['zeroBalCode'] = df.zeroBalCode.replace([1,6,16],0)\n",
    "df['zeroBalCode'] = df.zeroBalCode.replace([9,3,2,15],1)"
   ]
  },
  {
   "cell_type": "code",
   "execution_count": 14,
   "metadata": {},
   "outputs": [
    {
     "data": {
      "text/plain": [
       "array([0., 1.])"
      ]
     },
     "execution_count": 14,
     "metadata": {},
     "output_type": "execute_result"
    }
   ],
   "source": [
    "df.zeroBalCode.unique()"
   ]
  },
  {
   "cell_type": "code",
   "execution_count": 15,
   "metadata": {
    "scrolled": false
   },
   "outputs": [
    {
     "data": {
      "text/html": [
       "<div>\n",
       "<style scoped>\n",
       "    .dataframe tbody tr th:only-of-type {\n",
       "        vertical-align: middle;\n",
       "    }\n",
       "\n",
       "    .dataframe tbody tr th {\n",
       "        vertical-align: top;\n",
       "    }\n",
       "\n",
       "    .dataframe thead th {\n",
       "        text-align: right;\n",
       "    }\n",
       "</style>\n",
       "<table border=\"1\" class=\"dataframe\">\n",
       "  <thead>\n",
       "    <tr style=\"text-align: right;\">\n",
       "      <th></th>\n",
       "      <th>origChannel</th>\n",
       "      <th>sellerName</th>\n",
       "      <th>origIntRate</th>\n",
       "      <th>origUPB</th>\n",
       "      <th>origLoanTerm</th>\n",
       "      <th>origLTV</th>\n",
       "      <th>origCLTV</th>\n",
       "      <th>numBorrowers</th>\n",
       "      <th>origDebtIncRatio</th>\n",
       "      <th>loanPurp</th>\n",
       "      <th>propState</th>\n",
       "      <th>zipCode</th>\n",
       "      <th>pMIperct</th>\n",
       "      <th>mortInsType</th>\n",
       "      <th>bestCreditScore</th>\n",
       "      <th>worstCreditScore</th>\n",
       "      <th>avgCreditScore</th>\n",
       "      <th>loanAge</th>\n",
       "      <th>mSA</th>\n",
       "      <th>zeroBalCode</th>\n",
       "      <th>fmacRateMax</th>\n",
       "      <th>fmacRateMin</th>\n",
       "      <th>fmacRateAvg</th>\n",
       "      <th>fmacRateVolatility</th>\n",
       "      <th>rateDiffAbove</th>\n",
       "      <th>rateDiffBelow</th>\n",
       "      <th>rateDiffAvg</th>\n",
       "      <th>rateDiffAbovePct</th>\n",
       "      <th>rateDiffBelowPct</th>\n",
       "      <th>rateDiffAvgPct</th>\n",
       "      <th>origYear</th>\n",
       "      <th>origMonth</th>\n",
       "    </tr>\n",
       "  </thead>\n",
       "  <tbody>\n",
       "    <tr>\n",
       "      <th>0</th>\n",
       "      <td>R</td>\n",
       "      <td>JPMORGAN CHASE BANK, NA</td>\n",
       "      <td>8.500</td>\n",
       "      <td>187000</td>\n",
       "      <td>360</td>\n",
       "      <td>80.0</td>\n",
       "      <td>90.0</td>\n",
       "      <td>2.0</td>\n",
       "      <td>31.0</td>\n",
       "      <td>P</td>\n",
       "      <td>MI</td>\n",
       "      <td>483</td>\n",
       "      <td>0.0</td>\n",
       "      <td>0.0</td>\n",
       "      <td>712.0</td>\n",
       "      <td>706.0</td>\n",
       "      <td>709.0</td>\n",
       "      <td>70</td>\n",
       "      <td>19820</td>\n",
       "      <td>0.0</td>\n",
       "      <td>8.38</td>\n",
       "      <td>8.25</td>\n",
       "      <td>8.325</td>\n",
       "      <td>0.015758</td>\n",
       "      <td>0.120</td>\n",
       "      <td>-0.250</td>\n",
       "      <td>0.175</td>\n",
       "      <td>0.014320</td>\n",
       "      <td>-0.030303</td>\n",
       "      <td>0.021021</td>\n",
       "      <td>2000</td>\n",
       "      <td>2</td>\n",
       "    </tr>\n",
       "    <tr>\n",
       "      <th>1</th>\n",
       "      <td>B</td>\n",
       "      <td>JPMORGAN CHASE BANK, NA</td>\n",
       "      <td>8.500</td>\n",
       "      <td>243000</td>\n",
       "      <td>360</td>\n",
       "      <td>80.0</td>\n",
       "      <td>95.0</td>\n",
       "      <td>1.0</td>\n",
       "      <td>49.0</td>\n",
       "      <td>P</td>\n",
       "      <td>CA</td>\n",
       "      <td>926</td>\n",
       "      <td>0.0</td>\n",
       "      <td>0.0</td>\n",
       "      <td>682.0</td>\n",
       "      <td>682.0</td>\n",
       "      <td>682.0</td>\n",
       "      <td>21</td>\n",
       "      <td>31100</td>\n",
       "      <td>0.0</td>\n",
       "      <td>8.38</td>\n",
       "      <td>8.25</td>\n",
       "      <td>8.325</td>\n",
       "      <td>0.015758</td>\n",
       "      <td>0.120</td>\n",
       "      <td>-0.250</td>\n",
       "      <td>0.175</td>\n",
       "      <td>0.014320</td>\n",
       "      <td>-0.030303</td>\n",
       "      <td>0.021021</td>\n",
       "      <td>2000</td>\n",
       "      <td>2</td>\n",
       "    </tr>\n",
       "    <tr>\n",
       "      <th>2</th>\n",
       "      <td>B</td>\n",
       "      <td>JPMORGAN CHASE BANK, NA</td>\n",
       "      <td>8.000</td>\n",
       "      <td>253000</td>\n",
       "      <td>360</td>\n",
       "      <td>79.0</td>\n",
       "      <td>89.0</td>\n",
       "      <td>2.0</td>\n",
       "      <td>34.0</td>\n",
       "      <td>P</td>\n",
       "      <td>CA</td>\n",
       "      <td>953</td>\n",
       "      <td>0.0</td>\n",
       "      <td>0.0</td>\n",
       "      <td>810.0</td>\n",
       "      <td>784.0</td>\n",
       "      <td>797.0</td>\n",
       "      <td>36</td>\n",
       "      <td>44700</td>\n",
       "      <td>0.0</td>\n",
       "      <td>8.38</td>\n",
       "      <td>8.25</td>\n",
       "      <td>8.325</td>\n",
       "      <td>0.015758</td>\n",
       "      <td>-0.380</td>\n",
       "      <td>0.250</td>\n",
       "      <td>-0.325</td>\n",
       "      <td>-0.045346</td>\n",
       "      <td>0.030303</td>\n",
       "      <td>-0.039039</td>\n",
       "      <td>2000</td>\n",
       "      <td>2</td>\n",
       "    </tr>\n",
       "    <tr>\n",
       "      <th>3</th>\n",
       "      <td>R</td>\n",
       "      <td>JPMORGAN CHASE BANK, NA</td>\n",
       "      <td>8.500</td>\n",
       "      <td>138000</td>\n",
       "      <td>360</td>\n",
       "      <td>80.0</td>\n",
       "      <td>95.0</td>\n",
       "      <td>1.0</td>\n",
       "      <td>30.0</td>\n",
       "      <td>P</td>\n",
       "      <td>MA</td>\n",
       "      <td>17</td>\n",
       "      <td>0.0</td>\n",
       "      <td>0.0</td>\n",
       "      <td>718.0</td>\n",
       "      <td>718.0</td>\n",
       "      <td>718.0</td>\n",
       "      <td>16</td>\n",
       "      <td>14460</td>\n",
       "      <td>0.0</td>\n",
       "      <td>8.38</td>\n",
       "      <td>8.25</td>\n",
       "      <td>8.325</td>\n",
       "      <td>0.015758</td>\n",
       "      <td>0.120</td>\n",
       "      <td>-0.250</td>\n",
       "      <td>0.175</td>\n",
       "      <td>0.014320</td>\n",
       "      <td>-0.030303</td>\n",
       "      <td>0.021021</td>\n",
       "      <td>2000</td>\n",
       "      <td>2</td>\n",
       "    </tr>\n",
       "    <tr>\n",
       "      <th>4</th>\n",
       "      <td>B</td>\n",
       "      <td>JPMORGAN CHASE BANK, NA</td>\n",
       "      <td>8.875</td>\n",
       "      <td>166000</td>\n",
       "      <td>360</td>\n",
       "      <td>80.0</td>\n",
       "      <td>95.0</td>\n",
       "      <td>2.0</td>\n",
       "      <td>24.0</td>\n",
       "      <td>P</td>\n",
       "      <td>MA</td>\n",
       "      <td>18</td>\n",
       "      <td>0.0</td>\n",
       "      <td>0.0</td>\n",
       "      <td>782.0</td>\n",
       "      <td>752.0</td>\n",
       "      <td>767.0</td>\n",
       "      <td>24</td>\n",
       "      <td>14460</td>\n",
       "      <td>0.0</td>\n",
       "      <td>8.38</td>\n",
       "      <td>8.25</td>\n",
       "      <td>8.325</td>\n",
       "      <td>0.015758</td>\n",
       "      <td>0.495</td>\n",
       "      <td>-0.625</td>\n",
       "      <td>0.550</td>\n",
       "      <td>0.059069</td>\n",
       "      <td>-0.075758</td>\n",
       "      <td>0.066066</td>\n",
       "      <td>2000</td>\n",
       "      <td>2</td>\n",
       "    </tr>\n",
       "  </tbody>\n",
       "</table>\n",
       "</div>"
      ],
      "text/plain": [
       "  origChannel               sellerName  origIntRate  origUPB  origLoanTerm  \\\n",
       "0           R  JPMORGAN CHASE BANK, NA        8.500   187000           360   \n",
       "1           B  JPMORGAN CHASE BANK, NA        8.500   243000           360   \n",
       "2           B  JPMORGAN CHASE BANK, NA        8.000   253000           360   \n",
       "3           R  JPMORGAN CHASE BANK, NA        8.500   138000           360   \n",
       "4           B  JPMORGAN CHASE BANK, NA        8.875   166000           360   \n",
       "\n",
       "   origLTV  origCLTV  numBorrowers  origDebtIncRatio loanPurp propState  \\\n",
       "0     80.0      90.0           2.0              31.0        P        MI   \n",
       "1     80.0      95.0           1.0              49.0        P        CA   \n",
       "2     79.0      89.0           2.0              34.0        P        CA   \n",
       "3     80.0      95.0           1.0              30.0        P        MA   \n",
       "4     80.0      95.0           2.0              24.0        P        MA   \n",
       "\n",
       "   zipCode  pMIperct  mortInsType  bestCreditScore  worstCreditScore  \\\n",
       "0      483       0.0          0.0            712.0             706.0   \n",
       "1      926       0.0          0.0            682.0             682.0   \n",
       "2      953       0.0          0.0            810.0             784.0   \n",
       "3       17       0.0          0.0            718.0             718.0   \n",
       "4       18       0.0          0.0            782.0             752.0   \n",
       "\n",
       "   avgCreditScore  loanAge    mSA  zeroBalCode  fmacRateMax  fmacRateMin  \\\n",
       "0           709.0       70  19820          0.0         8.38         8.25   \n",
       "1           682.0       21  31100          0.0         8.38         8.25   \n",
       "2           797.0       36  44700          0.0         8.38         8.25   \n",
       "3           718.0       16  14460          0.0         8.38         8.25   \n",
       "4           767.0       24  14460          0.0         8.38         8.25   \n",
       "\n",
       "   fmacRateAvg  fmacRateVolatility  rateDiffAbove  rateDiffBelow  rateDiffAvg  \\\n",
       "0        8.325            0.015758          0.120         -0.250        0.175   \n",
       "1        8.325            0.015758          0.120         -0.250        0.175   \n",
       "2        8.325            0.015758         -0.380          0.250       -0.325   \n",
       "3        8.325            0.015758          0.120         -0.250        0.175   \n",
       "4        8.325            0.015758          0.495         -0.625        0.550   \n",
       "\n",
       "   rateDiffAbovePct  rateDiffBelowPct  rateDiffAvgPct  origYear  origMonth  \n",
       "0          0.014320         -0.030303        0.021021      2000          2  \n",
       "1          0.014320         -0.030303        0.021021      2000          2  \n",
       "2         -0.045346          0.030303       -0.039039      2000          2  \n",
       "3          0.014320         -0.030303        0.021021      2000          2  \n",
       "4          0.059069         -0.075758        0.066066      2000          2  "
      ]
     },
     "execution_count": 15,
     "metadata": {},
     "output_type": "execute_result"
    }
   ],
   "source": [
    "#Checking datatypes of individual feature\n",
    "df.head()"
   ]
  },
  {
   "cell_type": "markdown",
   "metadata": {},
   "source": [
    "# Review values for dates and slice (if needed) the timeframe you want"
   ]
  },
  {
   "cell_type": "code",
   "execution_count": 16,
   "metadata": {},
   "outputs": [
    {
     "data": {
      "text/plain": [
       "array([2000, 1999, 2001, 2002, 2003, 2004], dtype=int64)"
      ]
     },
     "execution_count": 16,
     "metadata": {},
     "output_type": "execute_result"
    }
   ],
   "source": [
    "df.origYear.unique()"
   ]
  },
  {
   "cell_type": "code",
   "execution_count": 17,
   "metadata": {},
   "outputs": [
    {
     "data": {
      "text/plain": [
       "array([ 2, 12, 10,  1, 11,  9,  4,  3,  5,  6,  8,  7], dtype=int64)"
      ]
     },
     "execution_count": 17,
     "metadata": {},
     "output_type": "execute_result"
    }
   ],
   "source": [
    "df['origMonth'].unique()"
   ]
  },
  {
   "cell_type": "code",
   "execution_count": 18,
   "metadata": {},
   "outputs": [
    {
     "data": {
      "text/html": [
       "<div>\n",
       "<style scoped>\n",
       "    .dataframe tbody tr th:only-of-type {\n",
       "        vertical-align: middle;\n",
       "    }\n",
       "\n",
       "    .dataframe tbody tr th {\n",
       "        vertical-align: top;\n",
       "    }\n",
       "\n",
       "    .dataframe thead th {\n",
       "        text-align: right;\n",
       "    }\n",
       "</style>\n",
       "<table border=\"1\" class=\"dataframe\">\n",
       "  <thead>\n",
       "    <tr style=\"text-align: right;\">\n",
       "      <th></th>\n",
       "      <th>origChannel</th>\n",
       "      <th>sellerName</th>\n",
       "      <th>origIntRate</th>\n",
       "      <th>origUPB</th>\n",
       "      <th>origLoanTerm</th>\n",
       "      <th>origLTV</th>\n",
       "      <th>origCLTV</th>\n",
       "      <th>numBorrowers</th>\n",
       "      <th>origDebtIncRatio</th>\n",
       "      <th>loanPurp</th>\n",
       "      <th>propState</th>\n",
       "      <th>zipCode</th>\n",
       "      <th>pMIperct</th>\n",
       "      <th>mortInsType</th>\n",
       "      <th>bestCreditScore</th>\n",
       "      <th>worstCreditScore</th>\n",
       "      <th>avgCreditScore</th>\n",
       "      <th>loanAge</th>\n",
       "      <th>mSA</th>\n",
       "      <th>zeroBalCode</th>\n",
       "      <th>fmacRateMax</th>\n",
       "      <th>fmacRateMin</th>\n",
       "      <th>fmacRateAvg</th>\n",
       "      <th>fmacRateVolatility</th>\n",
       "      <th>rateDiffAbove</th>\n",
       "      <th>rateDiffBelow</th>\n",
       "      <th>rateDiffAvg</th>\n",
       "      <th>rateDiffAbovePct</th>\n",
       "      <th>rateDiffBelowPct</th>\n",
       "      <th>rateDiffAvgPct</th>\n",
       "      <th>origYear</th>\n",
       "      <th>origMonth</th>\n",
       "    </tr>\n",
       "  </thead>\n",
       "  <tbody>\n",
       "    <tr>\n",
       "      <th>0</th>\n",
       "      <td>R</td>\n",
       "      <td>JPMORGAN CHASE BANK, NA</td>\n",
       "      <td>8.500</td>\n",
       "      <td>187000</td>\n",
       "      <td>360</td>\n",
       "      <td>80.0</td>\n",
       "      <td>90.0</td>\n",
       "      <td>2.0</td>\n",
       "      <td>31.0</td>\n",
       "      <td>P</td>\n",
       "      <td>MI</td>\n",
       "      <td>483</td>\n",
       "      <td>0.0</td>\n",
       "      <td>0.0</td>\n",
       "      <td>712.0</td>\n",
       "      <td>706.0</td>\n",
       "      <td>709.0</td>\n",
       "      <td>70</td>\n",
       "      <td>19820</td>\n",
       "      <td>0.0</td>\n",
       "      <td>8.38</td>\n",
       "      <td>8.25</td>\n",
       "      <td>8.325</td>\n",
       "      <td>0.015758</td>\n",
       "      <td>0.120</td>\n",
       "      <td>-0.250</td>\n",
       "      <td>0.175</td>\n",
       "      <td>0.014320</td>\n",
       "      <td>-0.030303</td>\n",
       "      <td>0.021021</td>\n",
       "      <td>2000</td>\n",
       "      <td>2</td>\n",
       "    </tr>\n",
       "    <tr>\n",
       "      <th>1</th>\n",
       "      <td>B</td>\n",
       "      <td>JPMORGAN CHASE BANK, NA</td>\n",
       "      <td>8.500</td>\n",
       "      <td>243000</td>\n",
       "      <td>360</td>\n",
       "      <td>80.0</td>\n",
       "      <td>95.0</td>\n",
       "      <td>1.0</td>\n",
       "      <td>49.0</td>\n",
       "      <td>P</td>\n",
       "      <td>CA</td>\n",
       "      <td>926</td>\n",
       "      <td>0.0</td>\n",
       "      <td>0.0</td>\n",
       "      <td>682.0</td>\n",
       "      <td>682.0</td>\n",
       "      <td>682.0</td>\n",
       "      <td>21</td>\n",
       "      <td>31100</td>\n",
       "      <td>0.0</td>\n",
       "      <td>8.38</td>\n",
       "      <td>8.25</td>\n",
       "      <td>8.325</td>\n",
       "      <td>0.015758</td>\n",
       "      <td>0.120</td>\n",
       "      <td>-0.250</td>\n",
       "      <td>0.175</td>\n",
       "      <td>0.014320</td>\n",
       "      <td>-0.030303</td>\n",
       "      <td>0.021021</td>\n",
       "      <td>2000</td>\n",
       "      <td>2</td>\n",
       "    </tr>\n",
       "    <tr>\n",
       "      <th>2</th>\n",
       "      <td>B</td>\n",
       "      <td>JPMORGAN CHASE BANK, NA</td>\n",
       "      <td>8.000</td>\n",
       "      <td>253000</td>\n",
       "      <td>360</td>\n",
       "      <td>79.0</td>\n",
       "      <td>89.0</td>\n",
       "      <td>2.0</td>\n",
       "      <td>34.0</td>\n",
       "      <td>P</td>\n",
       "      <td>CA</td>\n",
       "      <td>953</td>\n",
       "      <td>0.0</td>\n",
       "      <td>0.0</td>\n",
       "      <td>810.0</td>\n",
       "      <td>784.0</td>\n",
       "      <td>797.0</td>\n",
       "      <td>36</td>\n",
       "      <td>44700</td>\n",
       "      <td>0.0</td>\n",
       "      <td>8.38</td>\n",
       "      <td>8.25</td>\n",
       "      <td>8.325</td>\n",
       "      <td>0.015758</td>\n",
       "      <td>-0.380</td>\n",
       "      <td>0.250</td>\n",
       "      <td>-0.325</td>\n",
       "      <td>-0.045346</td>\n",
       "      <td>0.030303</td>\n",
       "      <td>-0.039039</td>\n",
       "      <td>2000</td>\n",
       "      <td>2</td>\n",
       "    </tr>\n",
       "    <tr>\n",
       "      <th>3</th>\n",
       "      <td>R</td>\n",
       "      <td>JPMORGAN CHASE BANK, NA</td>\n",
       "      <td>8.500</td>\n",
       "      <td>138000</td>\n",
       "      <td>360</td>\n",
       "      <td>80.0</td>\n",
       "      <td>95.0</td>\n",
       "      <td>1.0</td>\n",
       "      <td>30.0</td>\n",
       "      <td>P</td>\n",
       "      <td>MA</td>\n",
       "      <td>17</td>\n",
       "      <td>0.0</td>\n",
       "      <td>0.0</td>\n",
       "      <td>718.0</td>\n",
       "      <td>718.0</td>\n",
       "      <td>718.0</td>\n",
       "      <td>16</td>\n",
       "      <td>14460</td>\n",
       "      <td>0.0</td>\n",
       "      <td>8.38</td>\n",
       "      <td>8.25</td>\n",
       "      <td>8.325</td>\n",
       "      <td>0.015758</td>\n",
       "      <td>0.120</td>\n",
       "      <td>-0.250</td>\n",
       "      <td>0.175</td>\n",
       "      <td>0.014320</td>\n",
       "      <td>-0.030303</td>\n",
       "      <td>0.021021</td>\n",
       "      <td>2000</td>\n",
       "      <td>2</td>\n",
       "    </tr>\n",
       "    <tr>\n",
       "      <th>4</th>\n",
       "      <td>B</td>\n",
       "      <td>JPMORGAN CHASE BANK, NA</td>\n",
       "      <td>8.875</td>\n",
       "      <td>166000</td>\n",
       "      <td>360</td>\n",
       "      <td>80.0</td>\n",
       "      <td>95.0</td>\n",
       "      <td>2.0</td>\n",
       "      <td>24.0</td>\n",
       "      <td>P</td>\n",
       "      <td>MA</td>\n",
       "      <td>18</td>\n",
       "      <td>0.0</td>\n",
       "      <td>0.0</td>\n",
       "      <td>782.0</td>\n",
       "      <td>752.0</td>\n",
       "      <td>767.0</td>\n",
       "      <td>24</td>\n",
       "      <td>14460</td>\n",
       "      <td>0.0</td>\n",
       "      <td>8.38</td>\n",
       "      <td>8.25</td>\n",
       "      <td>8.325</td>\n",
       "      <td>0.015758</td>\n",
       "      <td>0.495</td>\n",
       "      <td>-0.625</td>\n",
       "      <td>0.550</td>\n",
       "      <td>0.059069</td>\n",
       "      <td>-0.075758</td>\n",
       "      <td>0.066066</td>\n",
       "      <td>2000</td>\n",
       "      <td>2</td>\n",
       "    </tr>\n",
       "  </tbody>\n",
       "</table>\n",
       "</div>"
      ],
      "text/plain": [
       "  origChannel               sellerName  origIntRate  origUPB  origLoanTerm  \\\n",
       "0           R  JPMORGAN CHASE BANK, NA        8.500   187000           360   \n",
       "1           B  JPMORGAN CHASE BANK, NA        8.500   243000           360   \n",
       "2           B  JPMORGAN CHASE BANK, NA        8.000   253000           360   \n",
       "3           R  JPMORGAN CHASE BANK, NA        8.500   138000           360   \n",
       "4           B  JPMORGAN CHASE BANK, NA        8.875   166000           360   \n",
       "\n",
       "   origLTV  origCLTV  numBorrowers  origDebtIncRatio loanPurp propState  \\\n",
       "0     80.0      90.0           2.0              31.0        P        MI   \n",
       "1     80.0      95.0           1.0              49.0        P        CA   \n",
       "2     79.0      89.0           2.0              34.0        P        CA   \n",
       "3     80.0      95.0           1.0              30.0        P        MA   \n",
       "4     80.0      95.0           2.0              24.0        P        MA   \n",
       "\n",
       "   zipCode  pMIperct  mortInsType  bestCreditScore  worstCreditScore  \\\n",
       "0      483       0.0          0.0            712.0             706.0   \n",
       "1      926       0.0          0.0            682.0             682.0   \n",
       "2      953       0.0          0.0            810.0             784.0   \n",
       "3       17       0.0          0.0            718.0             718.0   \n",
       "4       18       0.0          0.0            782.0             752.0   \n",
       "\n",
       "   avgCreditScore  loanAge    mSA  zeroBalCode  fmacRateMax  fmacRateMin  \\\n",
       "0           709.0       70  19820          0.0         8.38         8.25   \n",
       "1           682.0       21  31100          0.0         8.38         8.25   \n",
       "2           797.0       36  44700          0.0         8.38         8.25   \n",
       "3           718.0       16  14460          0.0         8.38         8.25   \n",
       "4           767.0       24  14460          0.0         8.38         8.25   \n",
       "\n",
       "   fmacRateAvg  fmacRateVolatility  rateDiffAbove  rateDiffBelow  rateDiffAvg  \\\n",
       "0        8.325            0.015758          0.120         -0.250        0.175   \n",
       "1        8.325            0.015758          0.120         -0.250        0.175   \n",
       "2        8.325            0.015758         -0.380          0.250       -0.325   \n",
       "3        8.325            0.015758          0.120         -0.250        0.175   \n",
       "4        8.325            0.015758          0.495         -0.625        0.550   \n",
       "\n",
       "   rateDiffAbovePct  rateDiffBelowPct  rateDiffAvgPct  origYear  origMonth  \n",
       "0          0.014320         -0.030303        0.021021      2000          2  \n",
       "1          0.014320         -0.030303        0.021021      2000          2  \n",
       "2         -0.045346          0.030303       -0.039039      2000          2  \n",
       "3          0.014320         -0.030303        0.021021      2000          2  \n",
       "4          0.059069         -0.075758        0.066066      2000          2  "
      ]
     },
     "execution_count": 18,
     "metadata": {},
     "output_type": "execute_result"
    }
   ],
   "source": [
    "df.head()"
   ]
  },
  {
   "cell_type": "code",
   "execution_count": 19,
   "metadata": {},
   "outputs": [],
   "source": [
    "#df = fillna(df)"
   ]
  },
  {
   "cell_type": "markdown",
   "metadata": {},
   "source": [
    "# Coerce the column dtype (int in this case)"
   ]
  },
  {
   "cell_type": "code",
   "execution_count": 20,
   "metadata": {},
   "outputs": [],
   "source": [
    "df = df.astype({'origLTV':'int','origCLTV':'int','numBorrowers':'int','origDebtIncRatio':'int',\\\n",
    "               'mortInsType':'int','bestCreditScore':'int','loanAge':'int',\\\n",
    "               'worstCreditScore':'int','avgCreditScore':'int','zeroBalCode':'int'})\n",
    "#,'zeroBalCode':'int'"
   ]
  },
  {
   "cell_type": "code",
   "execution_count": 21,
   "metadata": {},
   "outputs": [
    {
     "name": "stdout",
     "output_type": "stream",
     "text": [
      "<class 'pandas.core.frame.DataFrame'>\n",
      "Int64Index: 1639223 entries, 0 to 1639222\n",
      "Data columns (total 32 columns):\n",
      " #   Column              Non-Null Count    Dtype  \n",
      "---  ------              --------------    -----  \n",
      " 0   origChannel         1639223 non-null  object \n",
      " 1   sellerName          1639223 non-null  object \n",
      " 2   origIntRate         1639223 non-null  float64\n",
      " 3   origUPB             1639223 non-null  int64  \n",
      " 4   origLoanTerm        1639223 non-null  int64  \n",
      " 5   origLTV             1639223 non-null  int32  \n",
      " 6   origCLTV            1639223 non-null  int32  \n",
      " 7   numBorrowers        1639223 non-null  int32  \n",
      " 8   origDebtIncRatio    1639223 non-null  int32  \n",
      " 9   loanPurp            1639223 non-null  object \n",
      " 10  propState           1639223 non-null  object \n",
      " 11  zipCode             1639223 non-null  int64  \n",
      " 12  pMIperct            1639223 non-null  float64\n",
      " 13  mortInsType         1639223 non-null  int32  \n",
      " 14  bestCreditScore     1639223 non-null  int32  \n",
      " 15  worstCreditScore    1639223 non-null  int32  \n",
      " 16  avgCreditScore      1639223 non-null  int32  \n",
      " 17  loanAge             1639223 non-null  int32  \n",
      " 18  mSA                 1639223 non-null  int64  \n",
      " 19  zeroBalCode         1639223 non-null  int32  \n",
      " 20  fmacRateMax         1639223 non-null  float64\n",
      " 21  fmacRateMin         1639223 non-null  float64\n",
      " 22  fmacRateAvg         1639223 non-null  float64\n",
      " 23  fmacRateVolatility  1639223 non-null  float64\n",
      " 24  rateDiffAbove       1639223 non-null  float64\n",
      " 25  rateDiffBelow       1639223 non-null  float64\n",
      " 26  rateDiffAvg         1639223 non-null  float64\n",
      " 27  rateDiffAbovePct    1639223 non-null  float64\n",
      " 28  rateDiffBelowPct    1639223 non-null  float64\n",
      " 29  rateDiffAvgPct      1639223 non-null  float64\n",
      " 30  origYear            1639223 non-null  int64  \n",
      " 31  origMonth           1639223 non-null  int64  \n",
      "dtypes: float64(12), int32(10), int64(6), object(4)\n",
      "memory usage: 350.2+ MB\n"
     ]
    }
   ],
   "source": [
    "df.info()"
   ]
  },
  {
   "cell_type": "markdown",
   "metadata": {},
   "source": [
    "<a id='MLReady'></a>"
   ]
  },
  {
   "cell_type": "markdown",
   "metadata": {},
   "source": [
    "<a id='MLReady'></a>\n",
    "## *MLReady.csv file loading point\n",
    "uncomment one of the boxes below"
   ]
  },
  {
   "cell_type": "code",
   "execution_count": 22,
   "metadata": {},
   "outputs": [],
   "source": [
    "#df.to_csv('D:\\FM_FULL_EPOCH2_MLReady.csv')"
   ]
  },
  {
   "cell_type": "code",
   "execution_count": 23,
   "metadata": {},
   "outputs": [],
   "source": [
    "#df = pd.read_csv('D:\\FM_FULL_EPOCH2_MLReady.csv')"
   ]
  },
  {
   "cell_type": "markdown",
   "metadata": {},
   "source": [
    "# Oversampling (Since we are starting with only 6.3% of our predicted class)"
   ]
  },
  {
   "cell_type": "code",
   "execution_count": 24,
   "metadata": {},
   "outputs": [
    {
     "name": "stdout",
     "output_type": "stream",
     "text": [
      "We have 9.59% Foreclosures in our dataset\n"
     ]
    }
   ],
   "source": [
    "good = df.zeroBalCode.value_counts()[0]\n",
    "bad = df.zeroBalCode.value_counts()[1]\n",
    "perct_bad = round(bad/(good + bad)*100,2)\n",
    "print(f'We have {perct_bad}% Foreclosures in our dataset')"
   ]
  },
  {
   "cell_type": "code",
   "execution_count": 25,
   "metadata": {},
   "outputs": [],
   "source": [
    "from sklearn.model_selection import train_test_split\n",
    "\n",
    "training_features, test_features, \\\n",
    "training_target, test_target, = train_test_split(\n",
    "    df.drop(['zeroBalCode'], axis=1)\n",
    "    , df['zeroBalCode']\n",
    "    , test_size = .1\n",
    "    , random_state=12\n",
    ")"
   ]
  },
  {
   "cell_type": "code",
   "execution_count": 26,
   "metadata": {},
   "outputs": [],
   "source": [
    "# Further split the training data into training/test\n",
    "x_train, x_val, y_train, y_val = train_test_split(\n",
    "    training_features\n",
    "    , training_target\n",
    "    , test_size = .1\n",
    "    ,random_state=12\n",
    ")"
   ]
  },
  {
   "cell_type": "code",
   "execution_count": 27,
   "metadata": {},
   "outputs": [],
   "source": [
    "# For the training data, randomly sample \n",
    "ros = RandomOverSampler(sampling_strategy='minority')\n",
    "x_train_res, y_train_res = ros.fit_sample(x_train, y_train)"
   ]
  },
  {
   "cell_type": "code",
   "execution_count": 28,
   "metadata": {},
   "outputs": [
    {
     "name": "stdout",
     "output_type": "stream",
     "text": [
      "#############################################\n",
      "Before oversampling: \"Closed\" crushes \"Default\" and causes issues:\n",
      "0    1333945\n",
      "1     141355\n",
      "Name: zeroBalCode, dtype: int64\n",
      "\n",
      "Before oversampling: \"Closed\" and \"Default\" are equal\n",
      "1    1200559\n",
      "0    1200559\n",
      "Name: zeroBalCode, dtype: int64\n"
     ]
    }
   ],
   "source": [
    "print('#############################################')\n",
    "print('Before oversampling: \"Closed\" crushes \"Default\" and causes issues:')\n",
    "print(training_target.value_counts())\n",
    "print('')\n",
    "print('Before oversampling: \"Closed\" and \"Default\" are equal')\n",
    "print(y_train_res.value_counts())"
   ]
  },
  {
   "cell_type": "markdown",
   "metadata": {},
   "source": [
    "# Recombine X_train_res, y_train_res so PyCaret can deal with one df"
   ]
  },
  {
   "cell_type": "code",
   "execution_count": 29,
   "metadata": {},
   "outputs": [
    {
     "data": {
      "text/plain": [
       "(2401118,)"
      ]
     },
     "execution_count": 29,
     "metadata": {},
     "output_type": "execute_result"
    }
   ],
   "source": [
    "y_train_res.shape"
   ]
  },
  {
   "cell_type": "code",
   "execution_count": 30,
   "metadata": {},
   "outputs": [],
   "source": [
    "df = x_train_res.copy()"
   ]
  },
  {
   "cell_type": "code",
   "execution_count": 31,
   "metadata": {},
   "outputs": [],
   "source": [
    "df['zeroBalCode'] = y_train_res"
   ]
  },
  {
   "cell_type": "code",
   "execution_count": 32,
   "metadata": {},
   "outputs": [
    {
     "data": {
      "text/plain": [
       "(2401118, 32)"
      ]
     },
     "execution_count": 32,
     "metadata": {},
     "output_type": "execute_result"
    }
   ],
   "source": [
    "df.shape"
   ]
  },
  {
   "cell_type": "markdown",
   "metadata": {},
   "source": [
    "# Review metrics last time before run (to have record of starting values)"
   ]
  },
  {
   "cell_type": "code",
   "execution_count": 33,
   "metadata": {},
   "outputs": [
    {
     "name": "stdout",
     "output_type": "stream",
     "text": [
      "<class 'pandas.core.frame.DataFrame'>\n",
      "RangeIndex: 2401118 entries, 0 to 2401117\n",
      "Data columns (total 32 columns):\n",
      " #   Column              Dtype  \n",
      "---  ------              -----  \n",
      " 0   origChannel         object \n",
      " 1   sellerName          object \n",
      " 2   origIntRate         float64\n",
      " 3   origUPB             int64  \n",
      " 4   origLoanTerm        int64  \n",
      " 5   origLTV             int32  \n",
      " 6   origCLTV            int32  \n",
      " 7   numBorrowers        int32  \n",
      " 8   origDebtIncRatio    int32  \n",
      " 9   loanPurp            object \n",
      " 10  propState           object \n",
      " 11  zipCode             int64  \n",
      " 12  pMIperct            float64\n",
      " 13  mortInsType         int32  \n",
      " 14  bestCreditScore     int32  \n",
      " 15  worstCreditScore    int32  \n",
      " 16  avgCreditScore      int32  \n",
      " 17  loanAge             int32  \n",
      " 18  mSA                 int64  \n",
      " 19  fmacRateMax         float64\n",
      " 20  fmacRateMin         float64\n",
      " 21  fmacRateAvg         float64\n",
      " 22  fmacRateVolatility  float64\n",
      " 23  rateDiffAbove       float64\n",
      " 24  rateDiffBelow       float64\n",
      " 25  rateDiffAvg         float64\n",
      " 26  rateDiffAbovePct    float64\n",
      " 27  rateDiffBelowPct    float64\n",
      " 28  rateDiffAvgPct      float64\n",
      " 29  origYear            int64  \n",
      " 30  origMonth           int64  \n",
      " 31  zeroBalCode         int32  \n",
      "dtypes: float64(12), int32(10), int64(6), object(4)\n",
      "memory usage: 494.6+ MB\n"
     ]
    }
   ],
   "source": [
    "df.info()"
   ]
  },
  {
   "cell_type": "code",
   "execution_count": 34,
   "metadata": {},
   "outputs": [
    {
     "data": {
      "text/html": [
       "<div>\n",
       "<style scoped>\n",
       "    .dataframe tbody tr th:only-of-type {\n",
       "        vertical-align: middle;\n",
       "    }\n",
       "\n",
       "    .dataframe tbody tr th {\n",
       "        vertical-align: top;\n",
       "    }\n",
       "\n",
       "    .dataframe thead th {\n",
       "        text-align: right;\n",
       "    }\n",
       "</style>\n",
       "<table border=\"1\" class=\"dataframe\">\n",
       "  <thead>\n",
       "    <tr style=\"text-align: right;\">\n",
       "      <th></th>\n",
       "      <th>origChannel</th>\n",
       "      <th>sellerName</th>\n",
       "      <th>origIntRate</th>\n",
       "      <th>origUPB</th>\n",
       "      <th>origLoanTerm</th>\n",
       "      <th>origLTV</th>\n",
       "      <th>origCLTV</th>\n",
       "      <th>numBorrowers</th>\n",
       "      <th>origDebtIncRatio</th>\n",
       "      <th>loanPurp</th>\n",
       "      <th>propState</th>\n",
       "      <th>zipCode</th>\n",
       "      <th>pMIperct</th>\n",
       "      <th>mortInsType</th>\n",
       "      <th>bestCreditScore</th>\n",
       "      <th>worstCreditScore</th>\n",
       "      <th>avgCreditScore</th>\n",
       "      <th>loanAge</th>\n",
       "      <th>mSA</th>\n",
       "      <th>fmacRateMax</th>\n",
       "      <th>fmacRateMin</th>\n",
       "      <th>fmacRateAvg</th>\n",
       "      <th>fmacRateVolatility</th>\n",
       "      <th>rateDiffAbove</th>\n",
       "      <th>rateDiffBelow</th>\n",
       "      <th>rateDiffAvg</th>\n",
       "      <th>rateDiffAbovePct</th>\n",
       "      <th>rateDiffBelowPct</th>\n",
       "      <th>rateDiffAvgPct</th>\n",
       "      <th>origYear</th>\n",
       "      <th>origMonth</th>\n",
       "      <th>zeroBalCode</th>\n",
       "    </tr>\n",
       "  </thead>\n",
       "  <tbody>\n",
       "    <tr>\n",
       "      <th>0</th>\n",
       "      <td>R</td>\n",
       "      <td>GMAC MORTGAGE, LLC</td>\n",
       "      <td>6.750</td>\n",
       "      <td>239000</td>\n",
       "      <td>360</td>\n",
       "      <td>80</td>\n",
       "      <td>80</td>\n",
       "      <td>2</td>\n",
       "      <td>27</td>\n",
       "      <td>C</td>\n",
       "      <td>NJ</td>\n",
       "      <td>76</td>\n",
       "      <td>0.0</td>\n",
       "      <td>0</td>\n",
       "      <td>672</td>\n",
       "      <td>637</td>\n",
       "      <td>654</td>\n",
       "      <td>26</td>\n",
       "      <td>35620</td>\n",
       "      <td>7.15</td>\n",
       "      <td>6.89</td>\n",
       "      <td>7.0325</td>\n",
       "      <td>0.037736</td>\n",
       "      <td>-0.400</td>\n",
       "      <td>0.140</td>\n",
       "      <td>-0.2825</td>\n",
       "      <td>-0.055944</td>\n",
       "      <td>0.020319</td>\n",
       "      <td>-0.040171</td>\n",
       "      <td>2001</td>\n",
       "      <td>1</td>\n",
       "      <td>0</td>\n",
       "    </tr>\n",
       "    <tr>\n",
       "      <th>1</th>\n",
       "      <td>C</td>\n",
       "      <td>OTHER</td>\n",
       "      <td>6.000</td>\n",
       "      <td>255000</td>\n",
       "      <td>360</td>\n",
       "      <td>85</td>\n",
       "      <td>85</td>\n",
       "      <td>1</td>\n",
       "      <td>35</td>\n",
       "      <td>R</td>\n",
       "      <td>AL</td>\n",
       "      <td>367</td>\n",
       "      <td>12.0</td>\n",
       "      <td>1</td>\n",
       "      <td>721</td>\n",
       "      <td>721</td>\n",
       "      <td>721</td>\n",
       "      <td>41</td>\n",
       "      <td>0</td>\n",
       "      <td>6.03</td>\n",
       "      <td>5.83</td>\n",
       "      <td>5.9325</td>\n",
       "      <td>0.034305</td>\n",
       "      <td>-0.030</td>\n",
       "      <td>-0.170</td>\n",
       "      <td>0.0675</td>\n",
       "      <td>-0.004975</td>\n",
       "      <td>-0.029160</td>\n",
       "      <td>0.011378</td>\n",
       "      <td>2003</td>\n",
       "      <td>11</td>\n",
       "      <td>1</td>\n",
       "    </tr>\n",
       "    <tr>\n",
       "      <th>2</th>\n",
       "      <td>R</td>\n",
       "      <td>OTHER</td>\n",
       "      <td>5.750</td>\n",
       "      <td>250000</td>\n",
       "      <td>360</td>\n",
       "      <td>64</td>\n",
       "      <td>64</td>\n",
       "      <td>2</td>\n",
       "      <td>60</td>\n",
       "      <td>C</td>\n",
       "      <td>NJ</td>\n",
       "      <td>88</td>\n",
       "      <td>0.0</td>\n",
       "      <td>0</td>\n",
       "      <td>757</td>\n",
       "      <td>699</td>\n",
       "      <td>728</td>\n",
       "      <td>30</td>\n",
       "      <td>35620</td>\n",
       "      <td>5.97</td>\n",
       "      <td>5.85</td>\n",
       "      <td>5.9160</td>\n",
       "      <td>0.020513</td>\n",
       "      <td>-0.220</td>\n",
       "      <td>0.100</td>\n",
       "      <td>-0.1660</td>\n",
       "      <td>-0.036851</td>\n",
       "      <td>0.017094</td>\n",
       "      <td>-0.028059</td>\n",
       "      <td>2003</td>\n",
       "      <td>1</td>\n",
       "      <td>0</td>\n",
       "    </tr>\n",
       "    <tr>\n",
       "      <th>3</th>\n",
       "      <td>R</td>\n",
       "      <td>OTHER</td>\n",
       "      <td>5.875</td>\n",
       "      <td>172000</td>\n",
       "      <td>360</td>\n",
       "      <td>95</td>\n",
       "      <td>95</td>\n",
       "      <td>2</td>\n",
       "      <td>33</td>\n",
       "      <td>P</td>\n",
       "      <td>FL</td>\n",
       "      <td>327</td>\n",
       "      <td>30.0</td>\n",
       "      <td>1</td>\n",
       "      <td>733</td>\n",
       "      <td>733</td>\n",
       "      <td>733</td>\n",
       "      <td>13</td>\n",
       "      <td>36740</td>\n",
       "      <td>5.81</td>\n",
       "      <td>5.68</td>\n",
       "      <td>5.7520</td>\n",
       "      <td>0.022887</td>\n",
       "      <td>0.065</td>\n",
       "      <td>-0.195</td>\n",
       "      <td>0.1230</td>\n",
       "      <td>0.011188</td>\n",
       "      <td>-0.034331</td>\n",
       "      <td>0.021384</td>\n",
       "      <td>2004</td>\n",
       "      <td>12</td>\n",
       "      <td>0</td>\n",
       "    </tr>\n",
       "    <tr>\n",
       "      <th>4</th>\n",
       "      <td>C</td>\n",
       "      <td>JPMORGAN CHASE BANK, NA</td>\n",
       "      <td>5.000</td>\n",
       "      <td>323000</td>\n",
       "      <td>360</td>\n",
       "      <td>78</td>\n",
       "      <td>78</td>\n",
       "      <td>2</td>\n",
       "      <td>59</td>\n",
       "      <td>R</td>\n",
       "      <td>GA</td>\n",
       "      <td>305</td>\n",
       "      <td>0.0</td>\n",
       "      <td>0</td>\n",
       "      <td>697</td>\n",
       "      <td>697</td>\n",
       "      <td>697</td>\n",
       "      <td>104</td>\n",
       "      <td>0</td>\n",
       "      <td>6.34</td>\n",
       "      <td>6.14</td>\n",
       "      <td>6.2640</td>\n",
       "      <td>0.032573</td>\n",
       "      <td>-1.340</td>\n",
       "      <td>1.140</td>\n",
       "      <td>-1.2640</td>\n",
       "      <td>-0.211356</td>\n",
       "      <td>0.185668</td>\n",
       "      <td>-0.201788</td>\n",
       "      <td>2003</td>\n",
       "      <td>8</td>\n",
       "      <td>0</td>\n",
       "    </tr>\n",
       "  </tbody>\n",
       "</table>\n",
       "</div>"
      ],
      "text/plain": [
       "  origChannel               sellerName  origIntRate  origUPB  origLoanTerm  \\\n",
       "0           R       GMAC MORTGAGE, LLC        6.750   239000           360   \n",
       "1           C                    OTHER        6.000   255000           360   \n",
       "2           R                    OTHER        5.750   250000           360   \n",
       "3           R                    OTHER        5.875   172000           360   \n",
       "4           C  JPMORGAN CHASE BANK, NA        5.000   323000           360   \n",
       "\n",
       "   origLTV  origCLTV  numBorrowers  origDebtIncRatio loanPurp propState  \\\n",
       "0       80        80             2                27        C        NJ   \n",
       "1       85        85             1                35        R        AL   \n",
       "2       64        64             2                60        C        NJ   \n",
       "3       95        95             2                33        P        FL   \n",
       "4       78        78             2                59        R        GA   \n",
       "\n",
       "   zipCode  pMIperct  mortInsType  bestCreditScore  worstCreditScore  \\\n",
       "0       76       0.0            0              672               637   \n",
       "1      367      12.0            1              721               721   \n",
       "2       88       0.0            0              757               699   \n",
       "3      327      30.0            1              733               733   \n",
       "4      305       0.0            0              697               697   \n",
       "\n",
       "   avgCreditScore  loanAge    mSA  fmacRateMax  fmacRateMin  fmacRateAvg  \\\n",
       "0             654       26  35620         7.15         6.89       7.0325   \n",
       "1             721       41      0         6.03         5.83       5.9325   \n",
       "2             728       30  35620         5.97         5.85       5.9160   \n",
       "3             733       13  36740         5.81         5.68       5.7520   \n",
       "4             697      104      0         6.34         6.14       6.2640   \n",
       "\n",
       "   fmacRateVolatility  rateDiffAbove  rateDiffBelow  rateDiffAvg  \\\n",
       "0            0.037736         -0.400          0.140      -0.2825   \n",
       "1            0.034305         -0.030         -0.170       0.0675   \n",
       "2            0.020513         -0.220          0.100      -0.1660   \n",
       "3            0.022887          0.065         -0.195       0.1230   \n",
       "4            0.032573         -1.340          1.140      -1.2640   \n",
       "\n",
       "   rateDiffAbovePct  rateDiffBelowPct  rateDiffAvgPct  origYear  origMonth  \\\n",
       "0         -0.055944          0.020319       -0.040171      2001          1   \n",
       "1         -0.004975         -0.029160        0.011378      2003         11   \n",
       "2         -0.036851          0.017094       -0.028059      2003          1   \n",
       "3          0.011188         -0.034331        0.021384      2004         12   \n",
       "4         -0.211356          0.185668       -0.201788      2003          8   \n",
       "\n",
       "   zeroBalCode  \n",
       "0            0  \n",
       "1            1  \n",
       "2            0  \n",
       "3            0  \n",
       "4            0  "
      ]
     },
     "execution_count": 34,
     "metadata": {},
     "output_type": "execute_result"
    }
   ],
   "source": [
    "df.head()"
   ]
  },
  {
   "cell_type": "markdown",
   "metadata": {},
   "source": [
    "# Pycaret - Setup with categorical definition"
   ]
  },
  {
   "cell_type": "code",
   "execution_count": 37,
   "metadata": {
    "scrolled": false
   },
   "outputs": [
    {
     "name": "stdout",
     "output_type": "stream",
     "text": [
      "Setup Succesfully Completed!\n"
     ]
    },
    {
     "data": {
      "text/html": [
       "<style  type=\"text/css\" >\n",
       "</style><table id=\"T_8ff5a9ae_f884_11ea_9d0d_309c234564f5\" ><thead>    <tr>        <th class=\"blank level0\" ></th>        <th class=\"col_heading level0 col0\" >Description</th>        <th class=\"col_heading level0 col1\" >Value</th>    </tr></thead><tbody>\n",
       "                <tr>\n",
       "                        <th id=\"T_8ff5a9ae_f884_11ea_9d0d_309c234564f5level0_row0\" class=\"row_heading level0 row0\" >0</th>\n",
       "                        <td id=\"T_8ff5a9ae_f884_11ea_9d0d_309c234564f5row0_col0\" class=\"data row0 col0\" >session_id</td>\n",
       "                        <td id=\"T_8ff5a9ae_f884_11ea_9d0d_309c234564f5row0_col1\" class=\"data row0 col1\" >3264</td>\n",
       "            </tr>\n",
       "            <tr>\n",
       "                        <th id=\"T_8ff5a9ae_f884_11ea_9d0d_309c234564f5level0_row1\" class=\"row_heading level0 row1\" >1</th>\n",
       "                        <td id=\"T_8ff5a9ae_f884_11ea_9d0d_309c234564f5row1_col0\" class=\"data row1 col0\" >Target Type</td>\n",
       "                        <td id=\"T_8ff5a9ae_f884_11ea_9d0d_309c234564f5row1_col1\" class=\"data row1 col1\" >Binary</td>\n",
       "            </tr>\n",
       "            <tr>\n",
       "                        <th id=\"T_8ff5a9ae_f884_11ea_9d0d_309c234564f5level0_row2\" class=\"row_heading level0 row2\" >2</th>\n",
       "                        <td id=\"T_8ff5a9ae_f884_11ea_9d0d_309c234564f5row2_col0\" class=\"data row2 col0\" >Label Encoded</td>\n",
       "                        <td id=\"T_8ff5a9ae_f884_11ea_9d0d_309c234564f5row2_col1\" class=\"data row2 col1\" >None</td>\n",
       "            </tr>\n",
       "            <tr>\n",
       "                        <th id=\"T_8ff5a9ae_f884_11ea_9d0d_309c234564f5level0_row3\" class=\"row_heading level0 row3\" >3</th>\n",
       "                        <td id=\"T_8ff5a9ae_f884_11ea_9d0d_309c234564f5row3_col0\" class=\"data row3 col0\" >Original Data</td>\n",
       "                        <td id=\"T_8ff5a9ae_f884_11ea_9d0d_309c234564f5row3_col1\" class=\"data row3 col1\" >(2401118, 32)</td>\n",
       "            </tr>\n",
       "            <tr>\n",
       "                        <th id=\"T_8ff5a9ae_f884_11ea_9d0d_309c234564f5level0_row4\" class=\"row_heading level0 row4\" >4</th>\n",
       "                        <td id=\"T_8ff5a9ae_f884_11ea_9d0d_309c234564f5row4_col0\" class=\"data row4 col0\" >Missing Values </td>\n",
       "                        <td id=\"T_8ff5a9ae_f884_11ea_9d0d_309c234564f5row4_col1\" class=\"data row4 col1\" >False</td>\n",
       "            </tr>\n",
       "            <tr>\n",
       "                        <th id=\"T_8ff5a9ae_f884_11ea_9d0d_309c234564f5level0_row5\" class=\"row_heading level0 row5\" >5</th>\n",
       "                        <td id=\"T_8ff5a9ae_f884_11ea_9d0d_309c234564f5row5_col0\" class=\"data row5 col0\" >Numeric Features </td>\n",
       "                        <td id=\"T_8ff5a9ae_f884_11ea_9d0d_309c234564f5row5_col1\" class=\"data row5 col1\" >25</td>\n",
       "            </tr>\n",
       "            <tr>\n",
       "                        <th id=\"T_8ff5a9ae_f884_11ea_9d0d_309c234564f5level0_row6\" class=\"row_heading level0 row6\" >6</th>\n",
       "                        <td id=\"T_8ff5a9ae_f884_11ea_9d0d_309c234564f5row6_col0\" class=\"data row6 col0\" >Categorical Features </td>\n",
       "                        <td id=\"T_8ff5a9ae_f884_11ea_9d0d_309c234564f5row6_col1\" class=\"data row6 col1\" >6</td>\n",
       "            </tr>\n",
       "            <tr>\n",
       "                        <th id=\"T_8ff5a9ae_f884_11ea_9d0d_309c234564f5level0_row7\" class=\"row_heading level0 row7\" >7</th>\n",
       "                        <td id=\"T_8ff5a9ae_f884_11ea_9d0d_309c234564f5row7_col0\" class=\"data row7 col0\" >Ordinal Features </td>\n",
       "                        <td id=\"T_8ff5a9ae_f884_11ea_9d0d_309c234564f5row7_col1\" class=\"data row7 col1\" >False</td>\n",
       "            </tr>\n",
       "            <tr>\n",
       "                        <th id=\"T_8ff5a9ae_f884_11ea_9d0d_309c234564f5level0_row8\" class=\"row_heading level0 row8\" >8</th>\n",
       "                        <td id=\"T_8ff5a9ae_f884_11ea_9d0d_309c234564f5row8_col0\" class=\"data row8 col0\" >High Cardinality Features </td>\n",
       "                        <td id=\"T_8ff5a9ae_f884_11ea_9d0d_309c234564f5row8_col1\" class=\"data row8 col1\" >False</td>\n",
       "            </tr>\n",
       "            <tr>\n",
       "                        <th id=\"T_8ff5a9ae_f884_11ea_9d0d_309c234564f5level0_row9\" class=\"row_heading level0 row9\" >9</th>\n",
       "                        <td id=\"T_8ff5a9ae_f884_11ea_9d0d_309c234564f5row9_col0\" class=\"data row9 col0\" >High Cardinality Method </td>\n",
       "                        <td id=\"T_8ff5a9ae_f884_11ea_9d0d_309c234564f5row9_col1\" class=\"data row9 col1\" >None</td>\n",
       "            </tr>\n",
       "            <tr>\n",
       "                        <th id=\"T_8ff5a9ae_f884_11ea_9d0d_309c234564f5level0_row10\" class=\"row_heading level0 row10\" >10</th>\n",
       "                        <td id=\"T_8ff5a9ae_f884_11ea_9d0d_309c234564f5row10_col0\" class=\"data row10 col0\" >Sampled Data</td>\n",
       "                        <td id=\"T_8ff5a9ae_f884_11ea_9d0d_309c234564f5row10_col1\" class=\"data row10 col1\" >(960447, 32)</td>\n",
       "            </tr>\n",
       "            <tr>\n",
       "                        <th id=\"T_8ff5a9ae_f884_11ea_9d0d_309c234564f5level0_row11\" class=\"row_heading level0 row11\" >11</th>\n",
       "                        <td id=\"T_8ff5a9ae_f884_11ea_9d0d_309c234564f5row11_col0\" class=\"data row11 col0\" >Transformed Train Set</td>\n",
       "                        <td id=\"T_8ff5a9ae_f884_11ea_9d0d_309c234564f5row11_col1\" class=\"data row11 col1\" >(672312, 142)</td>\n",
       "            </tr>\n",
       "            <tr>\n",
       "                        <th id=\"T_8ff5a9ae_f884_11ea_9d0d_309c234564f5level0_row12\" class=\"row_heading level0 row12\" >12</th>\n",
       "                        <td id=\"T_8ff5a9ae_f884_11ea_9d0d_309c234564f5row12_col0\" class=\"data row12 col0\" >Transformed Test Set</td>\n",
       "                        <td id=\"T_8ff5a9ae_f884_11ea_9d0d_309c234564f5row12_col1\" class=\"data row12 col1\" >(288135, 142)</td>\n",
       "            </tr>\n",
       "            <tr>\n",
       "                        <th id=\"T_8ff5a9ae_f884_11ea_9d0d_309c234564f5level0_row13\" class=\"row_heading level0 row13\" >13</th>\n",
       "                        <td id=\"T_8ff5a9ae_f884_11ea_9d0d_309c234564f5row13_col0\" class=\"data row13 col0\" >Numeric Imputer </td>\n",
       "                        <td id=\"T_8ff5a9ae_f884_11ea_9d0d_309c234564f5row13_col1\" class=\"data row13 col1\" >mean</td>\n",
       "            </tr>\n",
       "            <tr>\n",
       "                        <th id=\"T_8ff5a9ae_f884_11ea_9d0d_309c234564f5level0_row14\" class=\"row_heading level0 row14\" >14</th>\n",
       "                        <td id=\"T_8ff5a9ae_f884_11ea_9d0d_309c234564f5row14_col0\" class=\"data row14 col0\" >Categorical Imputer </td>\n",
       "                        <td id=\"T_8ff5a9ae_f884_11ea_9d0d_309c234564f5row14_col1\" class=\"data row14 col1\" >constant</td>\n",
       "            </tr>\n",
       "            <tr>\n",
       "                        <th id=\"T_8ff5a9ae_f884_11ea_9d0d_309c234564f5level0_row15\" class=\"row_heading level0 row15\" >15</th>\n",
       "                        <td id=\"T_8ff5a9ae_f884_11ea_9d0d_309c234564f5row15_col0\" class=\"data row15 col0\" >Normalize </td>\n",
       "                        <td id=\"T_8ff5a9ae_f884_11ea_9d0d_309c234564f5row15_col1\" class=\"data row15 col1\" >False</td>\n",
       "            </tr>\n",
       "            <tr>\n",
       "                        <th id=\"T_8ff5a9ae_f884_11ea_9d0d_309c234564f5level0_row16\" class=\"row_heading level0 row16\" >16</th>\n",
       "                        <td id=\"T_8ff5a9ae_f884_11ea_9d0d_309c234564f5row16_col0\" class=\"data row16 col0\" >Normalize Method </td>\n",
       "                        <td id=\"T_8ff5a9ae_f884_11ea_9d0d_309c234564f5row16_col1\" class=\"data row16 col1\" >None</td>\n",
       "            </tr>\n",
       "            <tr>\n",
       "                        <th id=\"T_8ff5a9ae_f884_11ea_9d0d_309c234564f5level0_row17\" class=\"row_heading level0 row17\" >17</th>\n",
       "                        <td id=\"T_8ff5a9ae_f884_11ea_9d0d_309c234564f5row17_col0\" class=\"data row17 col0\" >Transformation </td>\n",
       "                        <td id=\"T_8ff5a9ae_f884_11ea_9d0d_309c234564f5row17_col1\" class=\"data row17 col1\" >False</td>\n",
       "            </tr>\n",
       "            <tr>\n",
       "                        <th id=\"T_8ff5a9ae_f884_11ea_9d0d_309c234564f5level0_row18\" class=\"row_heading level0 row18\" >18</th>\n",
       "                        <td id=\"T_8ff5a9ae_f884_11ea_9d0d_309c234564f5row18_col0\" class=\"data row18 col0\" >Transformation Method </td>\n",
       "                        <td id=\"T_8ff5a9ae_f884_11ea_9d0d_309c234564f5row18_col1\" class=\"data row18 col1\" >None</td>\n",
       "            </tr>\n",
       "            <tr>\n",
       "                        <th id=\"T_8ff5a9ae_f884_11ea_9d0d_309c234564f5level0_row19\" class=\"row_heading level0 row19\" >19</th>\n",
       "                        <td id=\"T_8ff5a9ae_f884_11ea_9d0d_309c234564f5row19_col0\" class=\"data row19 col0\" >PCA </td>\n",
       "                        <td id=\"T_8ff5a9ae_f884_11ea_9d0d_309c234564f5row19_col1\" class=\"data row19 col1\" >False</td>\n",
       "            </tr>\n",
       "            <tr>\n",
       "                        <th id=\"T_8ff5a9ae_f884_11ea_9d0d_309c234564f5level0_row20\" class=\"row_heading level0 row20\" >20</th>\n",
       "                        <td id=\"T_8ff5a9ae_f884_11ea_9d0d_309c234564f5row20_col0\" class=\"data row20 col0\" >PCA Method </td>\n",
       "                        <td id=\"T_8ff5a9ae_f884_11ea_9d0d_309c234564f5row20_col1\" class=\"data row20 col1\" >None</td>\n",
       "            </tr>\n",
       "            <tr>\n",
       "                        <th id=\"T_8ff5a9ae_f884_11ea_9d0d_309c234564f5level0_row21\" class=\"row_heading level0 row21\" >21</th>\n",
       "                        <td id=\"T_8ff5a9ae_f884_11ea_9d0d_309c234564f5row21_col0\" class=\"data row21 col0\" >PCA Components </td>\n",
       "                        <td id=\"T_8ff5a9ae_f884_11ea_9d0d_309c234564f5row21_col1\" class=\"data row21 col1\" >None</td>\n",
       "            </tr>\n",
       "            <tr>\n",
       "                        <th id=\"T_8ff5a9ae_f884_11ea_9d0d_309c234564f5level0_row22\" class=\"row_heading level0 row22\" >22</th>\n",
       "                        <td id=\"T_8ff5a9ae_f884_11ea_9d0d_309c234564f5row22_col0\" class=\"data row22 col0\" >Ignore Low Variance </td>\n",
       "                        <td id=\"T_8ff5a9ae_f884_11ea_9d0d_309c234564f5row22_col1\" class=\"data row22 col1\" >False</td>\n",
       "            </tr>\n",
       "            <tr>\n",
       "                        <th id=\"T_8ff5a9ae_f884_11ea_9d0d_309c234564f5level0_row23\" class=\"row_heading level0 row23\" >23</th>\n",
       "                        <td id=\"T_8ff5a9ae_f884_11ea_9d0d_309c234564f5row23_col0\" class=\"data row23 col0\" >Combine Rare Levels </td>\n",
       "                        <td id=\"T_8ff5a9ae_f884_11ea_9d0d_309c234564f5row23_col1\" class=\"data row23 col1\" >False</td>\n",
       "            </tr>\n",
       "            <tr>\n",
       "                        <th id=\"T_8ff5a9ae_f884_11ea_9d0d_309c234564f5level0_row24\" class=\"row_heading level0 row24\" >24</th>\n",
       "                        <td id=\"T_8ff5a9ae_f884_11ea_9d0d_309c234564f5row24_col0\" class=\"data row24 col0\" >Rare Level Threshold </td>\n",
       "                        <td id=\"T_8ff5a9ae_f884_11ea_9d0d_309c234564f5row24_col1\" class=\"data row24 col1\" >None</td>\n",
       "            </tr>\n",
       "            <tr>\n",
       "                        <th id=\"T_8ff5a9ae_f884_11ea_9d0d_309c234564f5level0_row25\" class=\"row_heading level0 row25\" >25</th>\n",
       "                        <td id=\"T_8ff5a9ae_f884_11ea_9d0d_309c234564f5row25_col0\" class=\"data row25 col0\" >Numeric Binning </td>\n",
       "                        <td id=\"T_8ff5a9ae_f884_11ea_9d0d_309c234564f5row25_col1\" class=\"data row25 col1\" >False</td>\n",
       "            </tr>\n",
       "            <tr>\n",
       "                        <th id=\"T_8ff5a9ae_f884_11ea_9d0d_309c234564f5level0_row26\" class=\"row_heading level0 row26\" >26</th>\n",
       "                        <td id=\"T_8ff5a9ae_f884_11ea_9d0d_309c234564f5row26_col0\" class=\"data row26 col0\" >Remove Outliers </td>\n",
       "                        <td id=\"T_8ff5a9ae_f884_11ea_9d0d_309c234564f5row26_col1\" class=\"data row26 col1\" >False</td>\n",
       "            </tr>\n",
       "            <tr>\n",
       "                        <th id=\"T_8ff5a9ae_f884_11ea_9d0d_309c234564f5level0_row27\" class=\"row_heading level0 row27\" >27</th>\n",
       "                        <td id=\"T_8ff5a9ae_f884_11ea_9d0d_309c234564f5row27_col0\" class=\"data row27 col0\" >Outliers Threshold </td>\n",
       "                        <td id=\"T_8ff5a9ae_f884_11ea_9d0d_309c234564f5row27_col1\" class=\"data row27 col1\" >None</td>\n",
       "            </tr>\n",
       "            <tr>\n",
       "                        <th id=\"T_8ff5a9ae_f884_11ea_9d0d_309c234564f5level0_row28\" class=\"row_heading level0 row28\" >28</th>\n",
       "                        <td id=\"T_8ff5a9ae_f884_11ea_9d0d_309c234564f5row28_col0\" class=\"data row28 col0\" >Remove Multicollinearity </td>\n",
       "                        <td id=\"T_8ff5a9ae_f884_11ea_9d0d_309c234564f5row28_col1\" class=\"data row28 col1\" >False</td>\n",
       "            </tr>\n",
       "            <tr>\n",
       "                        <th id=\"T_8ff5a9ae_f884_11ea_9d0d_309c234564f5level0_row29\" class=\"row_heading level0 row29\" >29</th>\n",
       "                        <td id=\"T_8ff5a9ae_f884_11ea_9d0d_309c234564f5row29_col0\" class=\"data row29 col0\" >Multicollinearity Threshold </td>\n",
       "                        <td id=\"T_8ff5a9ae_f884_11ea_9d0d_309c234564f5row29_col1\" class=\"data row29 col1\" >None</td>\n",
       "            </tr>\n",
       "            <tr>\n",
       "                        <th id=\"T_8ff5a9ae_f884_11ea_9d0d_309c234564f5level0_row30\" class=\"row_heading level0 row30\" >30</th>\n",
       "                        <td id=\"T_8ff5a9ae_f884_11ea_9d0d_309c234564f5row30_col0\" class=\"data row30 col0\" >Clustering </td>\n",
       "                        <td id=\"T_8ff5a9ae_f884_11ea_9d0d_309c234564f5row30_col1\" class=\"data row30 col1\" >False</td>\n",
       "            </tr>\n",
       "            <tr>\n",
       "                        <th id=\"T_8ff5a9ae_f884_11ea_9d0d_309c234564f5level0_row31\" class=\"row_heading level0 row31\" >31</th>\n",
       "                        <td id=\"T_8ff5a9ae_f884_11ea_9d0d_309c234564f5row31_col0\" class=\"data row31 col0\" >Clustering Iteration </td>\n",
       "                        <td id=\"T_8ff5a9ae_f884_11ea_9d0d_309c234564f5row31_col1\" class=\"data row31 col1\" >None</td>\n",
       "            </tr>\n",
       "            <tr>\n",
       "                        <th id=\"T_8ff5a9ae_f884_11ea_9d0d_309c234564f5level0_row32\" class=\"row_heading level0 row32\" >32</th>\n",
       "                        <td id=\"T_8ff5a9ae_f884_11ea_9d0d_309c234564f5row32_col0\" class=\"data row32 col0\" >Polynomial Features </td>\n",
       "                        <td id=\"T_8ff5a9ae_f884_11ea_9d0d_309c234564f5row32_col1\" class=\"data row32 col1\" >False</td>\n",
       "            </tr>\n",
       "            <tr>\n",
       "                        <th id=\"T_8ff5a9ae_f884_11ea_9d0d_309c234564f5level0_row33\" class=\"row_heading level0 row33\" >33</th>\n",
       "                        <td id=\"T_8ff5a9ae_f884_11ea_9d0d_309c234564f5row33_col0\" class=\"data row33 col0\" >Polynomial Degree </td>\n",
       "                        <td id=\"T_8ff5a9ae_f884_11ea_9d0d_309c234564f5row33_col1\" class=\"data row33 col1\" >None</td>\n",
       "            </tr>\n",
       "            <tr>\n",
       "                        <th id=\"T_8ff5a9ae_f884_11ea_9d0d_309c234564f5level0_row34\" class=\"row_heading level0 row34\" >34</th>\n",
       "                        <td id=\"T_8ff5a9ae_f884_11ea_9d0d_309c234564f5row34_col0\" class=\"data row34 col0\" >Trignometry Features </td>\n",
       "                        <td id=\"T_8ff5a9ae_f884_11ea_9d0d_309c234564f5row34_col1\" class=\"data row34 col1\" >False</td>\n",
       "            </tr>\n",
       "            <tr>\n",
       "                        <th id=\"T_8ff5a9ae_f884_11ea_9d0d_309c234564f5level0_row35\" class=\"row_heading level0 row35\" >35</th>\n",
       "                        <td id=\"T_8ff5a9ae_f884_11ea_9d0d_309c234564f5row35_col0\" class=\"data row35 col0\" >Polynomial Threshold </td>\n",
       "                        <td id=\"T_8ff5a9ae_f884_11ea_9d0d_309c234564f5row35_col1\" class=\"data row35 col1\" >None</td>\n",
       "            </tr>\n",
       "            <tr>\n",
       "                        <th id=\"T_8ff5a9ae_f884_11ea_9d0d_309c234564f5level0_row36\" class=\"row_heading level0 row36\" >36</th>\n",
       "                        <td id=\"T_8ff5a9ae_f884_11ea_9d0d_309c234564f5row36_col0\" class=\"data row36 col0\" >Group Features </td>\n",
       "                        <td id=\"T_8ff5a9ae_f884_11ea_9d0d_309c234564f5row36_col1\" class=\"data row36 col1\" >False</td>\n",
       "            </tr>\n",
       "            <tr>\n",
       "                        <th id=\"T_8ff5a9ae_f884_11ea_9d0d_309c234564f5level0_row37\" class=\"row_heading level0 row37\" >37</th>\n",
       "                        <td id=\"T_8ff5a9ae_f884_11ea_9d0d_309c234564f5row37_col0\" class=\"data row37 col0\" >Feature Selection </td>\n",
       "                        <td id=\"T_8ff5a9ae_f884_11ea_9d0d_309c234564f5row37_col1\" class=\"data row37 col1\" >False</td>\n",
       "            </tr>\n",
       "            <tr>\n",
       "                        <th id=\"T_8ff5a9ae_f884_11ea_9d0d_309c234564f5level0_row38\" class=\"row_heading level0 row38\" >38</th>\n",
       "                        <td id=\"T_8ff5a9ae_f884_11ea_9d0d_309c234564f5row38_col0\" class=\"data row38 col0\" >Features Selection Threshold </td>\n",
       "                        <td id=\"T_8ff5a9ae_f884_11ea_9d0d_309c234564f5row38_col1\" class=\"data row38 col1\" >None</td>\n",
       "            </tr>\n",
       "            <tr>\n",
       "                        <th id=\"T_8ff5a9ae_f884_11ea_9d0d_309c234564f5level0_row39\" class=\"row_heading level0 row39\" >39</th>\n",
       "                        <td id=\"T_8ff5a9ae_f884_11ea_9d0d_309c234564f5row39_col0\" class=\"data row39 col0\" >Feature Interaction </td>\n",
       "                        <td id=\"T_8ff5a9ae_f884_11ea_9d0d_309c234564f5row39_col1\" class=\"data row39 col1\" >False</td>\n",
       "            </tr>\n",
       "            <tr>\n",
       "                        <th id=\"T_8ff5a9ae_f884_11ea_9d0d_309c234564f5level0_row40\" class=\"row_heading level0 row40\" >40</th>\n",
       "                        <td id=\"T_8ff5a9ae_f884_11ea_9d0d_309c234564f5row40_col0\" class=\"data row40 col0\" >Feature Ratio </td>\n",
       "                        <td id=\"T_8ff5a9ae_f884_11ea_9d0d_309c234564f5row40_col1\" class=\"data row40 col1\" >False</td>\n",
       "            </tr>\n",
       "            <tr>\n",
       "                        <th id=\"T_8ff5a9ae_f884_11ea_9d0d_309c234564f5level0_row41\" class=\"row_heading level0 row41\" >41</th>\n",
       "                        <td id=\"T_8ff5a9ae_f884_11ea_9d0d_309c234564f5row41_col0\" class=\"data row41 col0\" >Interaction Threshold </td>\n",
       "                        <td id=\"T_8ff5a9ae_f884_11ea_9d0d_309c234564f5row41_col1\" class=\"data row41 col1\" >None</td>\n",
       "            </tr>\n",
       "            <tr>\n",
       "                        <th id=\"T_8ff5a9ae_f884_11ea_9d0d_309c234564f5level0_row42\" class=\"row_heading level0 row42\" >42</th>\n",
       "                        <td id=\"T_8ff5a9ae_f884_11ea_9d0d_309c234564f5row42_col0\" class=\"data row42 col0\" >Fix Imbalance</td>\n",
       "                        <td id=\"T_8ff5a9ae_f884_11ea_9d0d_309c234564f5row42_col1\" class=\"data row42 col1\" >False</td>\n",
       "            </tr>\n",
       "            <tr>\n",
       "                        <th id=\"T_8ff5a9ae_f884_11ea_9d0d_309c234564f5level0_row43\" class=\"row_heading level0 row43\" >43</th>\n",
       "                        <td id=\"T_8ff5a9ae_f884_11ea_9d0d_309c234564f5row43_col0\" class=\"data row43 col0\" >Fix Imbalance Method</td>\n",
       "                        <td id=\"T_8ff5a9ae_f884_11ea_9d0d_309c234564f5row43_col1\" class=\"data row43 col1\" >SMOTE</td>\n",
       "            </tr>\n",
       "    </tbody></table>"
      ],
      "text/plain": [
       "<pandas.io.formats.style.Styler at 0x1e10e8e64e0>"
      ]
     },
     "metadata": {},
     "output_type": "display_data"
    }
   ],
   "source": [
    "model_setup = setup(df, target = 'zeroBalCode')"
   ]
  },
  {
   "cell_type": "markdown",
   "metadata": {},
   "source": [
    "### Use complex setup "
   ]
  },
  {
   "cell_type": "code",
   "execution_count": 38,
   "metadata": {
    "scrolled": false
   },
   "outputs": [],
   "source": [
    "# model_setup = setup(\n",
    "#     df\n",
    "#     , target = 'zeroBalCode' # PyCaret will list this as \"Label\"\n",
    "#     , pca = False \n",
    "#     , ignore_low_variance = True # Variance is calculated using the ratio of unique values to the number of samples, and the ratio of the most common value to the frequency of the second most common value.\n",
    "#     , normalize = True\n",
    "#     , ignore_features = None\n",
    "#     , handle_unknown_categorical = True\n",
    "#     , remove_outliers = True # outliers from the training data are removed using PCA linear dimensionality reduction using the Singular Value Decomposition technique.\n",
    "# #     , bin_numeric_features = [\n",
    "# #             'origIntRate'\n",
    "# #             , 'origUPB'\n",
    "# #             , 'origLTV'\n",
    "# #             , 'origDebtIncRatio'\n",
    "# #             , 'bestCreditScore'\n",
    "# #             , 'avgCreditScore'\n",
    "# #             , 'worstCreditScore'\n",
    "# #         ] # Set to True to bin numerics using K Means\n",
    "#     , feature_interaction = False\n",
    "#     , feature_selection = True\n",
    "#     , silent = True\n",
    "#     , profile = False\n",
    "#     , categorical_features = [\n",
    "#              'origChannel'\n",
    "#             , 'sellerName'\n",
    "#             , 'loanPurp'\n",
    "#             , 'propState'\n",
    "#             , 'origYear'\n",
    "#             , 'origMonth'\n",
    "#             , 'mSA'\n",
    "#             , 'zipCode'\n",
    "#             , 'mortInsType'\n",
    "#             , 'origLoanTerm'\n",
    "#         ]\n",
    "#         , numeric_features = [\n",
    "#             'origIntRate'\n",
    "#             , 'numBorrowers'\n",
    "#             , 'origUPB'\n",
    "#             , 'origLTV'\n",
    "#             , 'origCLTV'\n",
    "#             , 'pMIperct'\n",
    "#             , 'loanAge'\n",
    "#             , 'origDebtIncRatio'\n",
    "#             , 'worstCreditScore'\n",
    "#             , 'bestCreditScore'\n",
    "#             , 'avgCreditScore'\n",
    "#             , 'rateDiffAbove'\n",
    "#             , 'rateDiffBelow'\n",
    "#             , 'rateDiffAvg'\n",
    "#             , 'rateDiffAbovePct'\n",
    "#             , 'rateDiffBelowPct'\n",
    "#             , 'rateDiffAvgPct'\n",
    "#             , 'fmacRateMax'\n",
    "#             , 'fmacRateMin'\n",
    "#             , 'fmacRateAvg'\n",
    "#             , 'fmacRateVolatility'\n",
    "#         ]\n",
    "# )\n"
   ]
  },
  {
   "cell_type": "markdown",
   "metadata": {},
   "source": [
    "## Compare Models with no blacklist exclusions"
   ]
  },
  {
   "cell_type": "code",
   "execution_count": 39,
   "metadata": {
    "scrolled": false
   },
   "outputs": [
    {
     "data": {
      "text/html": [
       "<style  type=\"text/css\" >\n",
       "    #T_5ca95e10_f89a_11ea_be75_309c234564f5 th {\n",
       "          text-align: left;\n",
       "    }#T_5ca95e10_f89a_11ea_be75_309c234564f5row0_col0,#T_5ca95e10_f89a_11ea_be75_309c234564f5row0_col3,#T_5ca95e10_f89a_11ea_be75_309c234564f5row1_col0,#T_5ca95e10_f89a_11ea_be75_309c234564f5row1_col1,#T_5ca95e10_f89a_11ea_be75_309c234564f5row1_col2,#T_5ca95e10_f89a_11ea_be75_309c234564f5row1_col3,#T_5ca95e10_f89a_11ea_be75_309c234564f5row1_col4,#T_5ca95e10_f89a_11ea_be75_309c234564f5row1_col5,#T_5ca95e10_f89a_11ea_be75_309c234564f5row1_col6,#T_5ca95e10_f89a_11ea_be75_309c234564f5row1_col7,#T_5ca95e10_f89a_11ea_be75_309c234564f5row2_col0,#T_5ca95e10_f89a_11ea_be75_309c234564f5row2_col1,#T_5ca95e10_f89a_11ea_be75_309c234564f5row2_col2,#T_5ca95e10_f89a_11ea_be75_309c234564f5row2_col3,#T_5ca95e10_f89a_11ea_be75_309c234564f5row2_col4,#T_5ca95e10_f89a_11ea_be75_309c234564f5row2_col5,#T_5ca95e10_f89a_11ea_be75_309c234564f5row2_col6,#T_5ca95e10_f89a_11ea_be75_309c234564f5row2_col7,#T_5ca95e10_f89a_11ea_be75_309c234564f5row3_col0,#T_5ca95e10_f89a_11ea_be75_309c234564f5row3_col1,#T_5ca95e10_f89a_11ea_be75_309c234564f5row3_col2,#T_5ca95e10_f89a_11ea_be75_309c234564f5row3_col3,#T_5ca95e10_f89a_11ea_be75_309c234564f5row3_col4,#T_5ca95e10_f89a_11ea_be75_309c234564f5row3_col5,#T_5ca95e10_f89a_11ea_be75_309c234564f5row3_col6,#T_5ca95e10_f89a_11ea_be75_309c234564f5row3_col7,#T_5ca95e10_f89a_11ea_be75_309c234564f5row4_col0,#T_5ca95e10_f89a_11ea_be75_309c234564f5row4_col1,#T_5ca95e10_f89a_11ea_be75_309c234564f5row4_col2,#T_5ca95e10_f89a_11ea_be75_309c234564f5row4_col3,#T_5ca95e10_f89a_11ea_be75_309c234564f5row4_col4,#T_5ca95e10_f89a_11ea_be75_309c234564f5row4_col5,#T_5ca95e10_f89a_11ea_be75_309c234564f5row4_col6,#T_5ca95e10_f89a_11ea_be75_309c234564f5row4_col7,#T_5ca95e10_f89a_11ea_be75_309c234564f5row5_col0,#T_5ca95e10_f89a_11ea_be75_309c234564f5row5_col1,#T_5ca95e10_f89a_11ea_be75_309c234564f5row5_col2,#T_5ca95e10_f89a_11ea_be75_309c234564f5row5_col3,#T_5ca95e10_f89a_11ea_be75_309c234564f5row5_col4,#T_5ca95e10_f89a_11ea_be75_309c234564f5row5_col5,#T_5ca95e10_f89a_11ea_be75_309c234564f5row5_col6,#T_5ca95e10_f89a_11ea_be75_309c234564f5row5_col7,#T_5ca95e10_f89a_11ea_be75_309c234564f5row6_col0,#T_5ca95e10_f89a_11ea_be75_309c234564f5row6_col1,#T_5ca95e10_f89a_11ea_be75_309c234564f5row6_col2,#T_5ca95e10_f89a_11ea_be75_309c234564f5row6_col3,#T_5ca95e10_f89a_11ea_be75_309c234564f5row6_col4,#T_5ca95e10_f89a_11ea_be75_309c234564f5row6_col5,#T_5ca95e10_f89a_11ea_be75_309c234564f5row6_col6,#T_5ca95e10_f89a_11ea_be75_309c234564f5row6_col7,#T_5ca95e10_f89a_11ea_be75_309c234564f5row7_col0,#T_5ca95e10_f89a_11ea_be75_309c234564f5row7_col1,#T_5ca95e10_f89a_11ea_be75_309c234564f5row7_col2,#T_5ca95e10_f89a_11ea_be75_309c234564f5row7_col3,#T_5ca95e10_f89a_11ea_be75_309c234564f5row7_col4,#T_5ca95e10_f89a_11ea_be75_309c234564f5row7_col5,#T_5ca95e10_f89a_11ea_be75_309c234564f5row7_col6,#T_5ca95e10_f89a_11ea_be75_309c234564f5row7_col7,#T_5ca95e10_f89a_11ea_be75_309c234564f5row8_col0,#T_5ca95e10_f89a_11ea_be75_309c234564f5row8_col1,#T_5ca95e10_f89a_11ea_be75_309c234564f5row8_col2,#T_5ca95e10_f89a_11ea_be75_309c234564f5row8_col3,#T_5ca95e10_f89a_11ea_be75_309c234564f5row8_col4,#T_5ca95e10_f89a_11ea_be75_309c234564f5row8_col5,#T_5ca95e10_f89a_11ea_be75_309c234564f5row8_col6,#T_5ca95e10_f89a_11ea_be75_309c234564f5row8_col7,#T_5ca95e10_f89a_11ea_be75_309c234564f5row9_col0,#T_5ca95e10_f89a_11ea_be75_309c234564f5row9_col1,#T_5ca95e10_f89a_11ea_be75_309c234564f5row9_col2,#T_5ca95e10_f89a_11ea_be75_309c234564f5row9_col3,#T_5ca95e10_f89a_11ea_be75_309c234564f5row9_col4,#T_5ca95e10_f89a_11ea_be75_309c234564f5row9_col5,#T_5ca95e10_f89a_11ea_be75_309c234564f5row9_col6,#T_5ca95e10_f89a_11ea_be75_309c234564f5row9_col7,#T_5ca95e10_f89a_11ea_be75_309c234564f5row10_col0,#T_5ca95e10_f89a_11ea_be75_309c234564f5row10_col1,#T_5ca95e10_f89a_11ea_be75_309c234564f5row10_col2,#T_5ca95e10_f89a_11ea_be75_309c234564f5row10_col3,#T_5ca95e10_f89a_11ea_be75_309c234564f5row10_col4,#T_5ca95e10_f89a_11ea_be75_309c234564f5row10_col5,#T_5ca95e10_f89a_11ea_be75_309c234564f5row10_col6,#T_5ca95e10_f89a_11ea_be75_309c234564f5row10_col7,#T_5ca95e10_f89a_11ea_be75_309c234564f5row11_col0,#T_5ca95e10_f89a_11ea_be75_309c234564f5row11_col1,#T_5ca95e10_f89a_11ea_be75_309c234564f5row11_col2,#T_5ca95e10_f89a_11ea_be75_309c234564f5row11_col3,#T_5ca95e10_f89a_11ea_be75_309c234564f5row11_col4,#T_5ca95e10_f89a_11ea_be75_309c234564f5row11_col5,#T_5ca95e10_f89a_11ea_be75_309c234564f5row11_col6,#T_5ca95e10_f89a_11ea_be75_309c234564f5row11_col7,#T_5ca95e10_f89a_11ea_be75_309c234564f5row12_col0,#T_5ca95e10_f89a_11ea_be75_309c234564f5row12_col1,#T_5ca95e10_f89a_11ea_be75_309c234564f5row12_col2,#T_5ca95e10_f89a_11ea_be75_309c234564f5row12_col3,#T_5ca95e10_f89a_11ea_be75_309c234564f5row12_col4,#T_5ca95e10_f89a_11ea_be75_309c234564f5row12_col5,#T_5ca95e10_f89a_11ea_be75_309c234564f5row12_col6,#T_5ca95e10_f89a_11ea_be75_309c234564f5row12_col7,#T_5ca95e10_f89a_11ea_be75_309c234564f5row13_col0,#T_5ca95e10_f89a_11ea_be75_309c234564f5row13_col1,#T_5ca95e10_f89a_11ea_be75_309c234564f5row13_col2,#T_5ca95e10_f89a_11ea_be75_309c234564f5row13_col4,#T_5ca95e10_f89a_11ea_be75_309c234564f5row13_col5,#T_5ca95e10_f89a_11ea_be75_309c234564f5row13_col6,#T_5ca95e10_f89a_11ea_be75_309c234564f5row13_col7{\n",
       "            text-align:  left;\n",
       "        }#T_5ca95e10_f89a_11ea_be75_309c234564f5row0_col1,#T_5ca95e10_f89a_11ea_be75_309c234564f5row0_col2,#T_5ca95e10_f89a_11ea_be75_309c234564f5row0_col4,#T_5ca95e10_f89a_11ea_be75_309c234564f5row0_col5,#T_5ca95e10_f89a_11ea_be75_309c234564f5row0_col6,#T_5ca95e10_f89a_11ea_be75_309c234564f5row0_col7,#T_5ca95e10_f89a_11ea_be75_309c234564f5row13_col3{\n",
       "            background-color:  yellow;\n",
       "            text-align:  left;\n",
       "        }#T_5ca95e10_f89a_11ea_be75_309c234564f5row0_col8,#T_5ca95e10_f89a_11ea_be75_309c234564f5row1_col8,#T_5ca95e10_f89a_11ea_be75_309c234564f5row2_col8,#T_5ca95e10_f89a_11ea_be75_309c234564f5row3_col8,#T_5ca95e10_f89a_11ea_be75_309c234564f5row4_col8,#T_5ca95e10_f89a_11ea_be75_309c234564f5row5_col8,#T_5ca95e10_f89a_11ea_be75_309c234564f5row6_col8,#T_5ca95e10_f89a_11ea_be75_309c234564f5row7_col8,#T_5ca95e10_f89a_11ea_be75_309c234564f5row8_col8,#T_5ca95e10_f89a_11ea_be75_309c234564f5row9_col8,#T_5ca95e10_f89a_11ea_be75_309c234564f5row10_col8,#T_5ca95e10_f89a_11ea_be75_309c234564f5row11_col8,#T_5ca95e10_f89a_11ea_be75_309c234564f5row12_col8,#T_5ca95e10_f89a_11ea_be75_309c234564f5row13_col8{\n",
       "            background-color:  lightgrey;\n",
       "            text-align:  left;\n",
       "        }</style><table id=\"T_5ca95e10_f89a_11ea_be75_309c234564f5\" ><thead>    <tr>        <th class=\"blank level0\" ></th>        <th class=\"col_heading level0 col0\" >Model</th>        <th class=\"col_heading level0 col1\" >Accuracy</th>        <th class=\"col_heading level0 col2\" >AUC</th>        <th class=\"col_heading level0 col3\" >Recall</th>        <th class=\"col_heading level0 col4\" >Prec.</th>        <th class=\"col_heading level0 col5\" >F1</th>        <th class=\"col_heading level0 col6\" >Kappa</th>        <th class=\"col_heading level0 col7\" >MCC</th>        <th class=\"col_heading level0 col8\" >TT (Sec)</th>    </tr></thead><tbody>\n",
       "                <tr>\n",
       "                        <th id=\"T_5ca95e10_f89a_11ea_be75_309c234564f5level0_row0\" class=\"row_heading level0 row0\" >0</th>\n",
       "                        <td id=\"T_5ca95e10_f89a_11ea_be75_309c234564f5row0_col0\" class=\"data row0 col0\" >Extra Trees Classifier</td>\n",
       "                        <td id=\"T_5ca95e10_f89a_11ea_be75_309c234564f5row0_col1\" class=\"data row0 col1\" >0.9364</td>\n",
       "                        <td id=\"T_5ca95e10_f89a_11ea_be75_309c234564f5row0_col2\" class=\"data row0 col2\" >0.9837</td>\n",
       "                        <td id=\"T_5ca95e10_f89a_11ea_be75_309c234564f5row0_col3\" class=\"data row0 col3\" >0.9439</td>\n",
       "                        <td id=\"T_5ca95e10_f89a_11ea_be75_309c234564f5row0_col4\" class=\"data row0 col4\" >0.9301</td>\n",
       "                        <td id=\"T_5ca95e10_f89a_11ea_be75_309c234564f5row0_col5\" class=\"data row0 col5\" >0.9369</td>\n",
       "                        <td id=\"T_5ca95e10_f89a_11ea_be75_309c234564f5row0_col6\" class=\"data row0 col6\" >0.8729</td>\n",
       "                        <td id=\"T_5ca95e10_f89a_11ea_be75_309c234564f5row0_col7\" class=\"data row0 col7\" >0.8730</td>\n",
       "                        <td id=\"T_5ca95e10_f89a_11ea_be75_309c234564f5row0_col8\" class=\"data row0 col8\" >58.5074</td>\n",
       "            </tr>\n",
       "            <tr>\n",
       "                        <th id=\"T_5ca95e10_f89a_11ea_be75_309c234564f5level0_row1\" class=\"row_heading level0 row1\" >1</th>\n",
       "                        <td id=\"T_5ca95e10_f89a_11ea_be75_309c234564f5row1_col0\" class=\"data row1 col0\" >Random Forest Classifier</td>\n",
       "                        <td id=\"T_5ca95e10_f89a_11ea_be75_309c234564f5row1_col1\" class=\"data row1 col1\" >0.9120</td>\n",
       "                        <td id=\"T_5ca95e10_f89a_11ea_be75_309c234564f5row1_col2\" class=\"data row1 col2\" >0.9718</td>\n",
       "                        <td id=\"T_5ca95e10_f89a_11ea_be75_309c234564f5row1_col3\" class=\"data row1 col3\" >0.9414</td>\n",
       "                        <td id=\"T_5ca95e10_f89a_11ea_be75_309c234564f5row1_col4\" class=\"data row1 col4\" >0.8892</td>\n",
       "                        <td id=\"T_5ca95e10_f89a_11ea_be75_309c234564f5row1_col5\" class=\"data row1 col5\" >0.9145</td>\n",
       "                        <td id=\"T_5ca95e10_f89a_11ea_be75_309c234564f5row1_col6\" class=\"data row1 col6\" >0.8240</td>\n",
       "                        <td id=\"T_5ca95e10_f89a_11ea_be75_309c234564f5row1_col7\" class=\"data row1 col7\" >0.8255</td>\n",
       "                        <td id=\"T_5ca95e10_f89a_11ea_be75_309c234564f5row1_col8\" class=\"data row1 col8\" >4.5182</td>\n",
       "            </tr>\n",
       "            <tr>\n",
       "                        <th id=\"T_5ca95e10_f89a_11ea_be75_309c234564f5level0_row2\" class=\"row_heading level0 row2\" >2</th>\n",
       "                        <td id=\"T_5ca95e10_f89a_11ea_be75_309c234564f5row2_col0\" class=\"data row2 col0\" >Decision Tree Classifier</td>\n",
       "                        <td id=\"T_5ca95e10_f89a_11ea_be75_309c234564f5row2_col1\" class=\"data row2 col1\" >0.8811</td>\n",
       "                        <td id=\"T_5ca95e10_f89a_11ea_be75_309c234564f5row2_col2\" class=\"data row2 col2\" >0.8811</td>\n",
       "                        <td id=\"T_5ca95e10_f89a_11ea_be75_309c234564f5row2_col3\" class=\"data row2 col3\" >0.9546</td>\n",
       "                        <td id=\"T_5ca95e10_f89a_11ea_be75_309c234564f5row2_col4\" class=\"data row2 col4\" >0.8322</td>\n",
       "                        <td id=\"T_5ca95e10_f89a_11ea_be75_309c234564f5row2_col5\" class=\"data row2 col5\" >0.8892</td>\n",
       "                        <td id=\"T_5ca95e10_f89a_11ea_be75_309c234564f5row2_col6\" class=\"data row2 col6\" >0.7621</td>\n",
       "                        <td id=\"T_5ca95e10_f89a_11ea_be75_309c234564f5row2_col7\" class=\"data row2 col7\" >0.7705</td>\n",
       "                        <td id=\"T_5ca95e10_f89a_11ea_be75_309c234564f5row2_col8\" class=\"data row2 col8\" >22.7301</td>\n",
       "            </tr>\n",
       "            <tr>\n",
       "                        <th id=\"T_5ca95e10_f89a_11ea_be75_309c234564f5level0_row3\" class=\"row_heading level0 row3\" >3</th>\n",
       "                        <td id=\"T_5ca95e10_f89a_11ea_be75_309c234564f5row3_col0\" class=\"data row3 col0\" >CatBoost Classifier</td>\n",
       "                        <td id=\"T_5ca95e10_f89a_11ea_be75_309c234564f5row3_col1\" class=\"data row3 col1\" >0.7968</td>\n",
       "                        <td id=\"T_5ca95e10_f89a_11ea_be75_309c234564f5row3_col2\" class=\"data row3 col2\" >0.8795</td>\n",
       "                        <td id=\"T_5ca95e10_f89a_11ea_be75_309c234564f5row3_col3\" class=\"data row3 col3\" >0.8388</td>\n",
       "                        <td id=\"T_5ca95e10_f89a_11ea_be75_309c234564f5row3_col4\" class=\"data row3 col4\" >0.7738</td>\n",
       "                        <td id=\"T_5ca95e10_f89a_11ea_be75_309c234564f5row3_col5\" class=\"data row3 col5\" >0.8050</td>\n",
       "                        <td id=\"T_5ca95e10_f89a_11ea_be75_309c234564f5row3_col6\" class=\"data row3 col6\" >0.5936</td>\n",
       "                        <td id=\"T_5ca95e10_f89a_11ea_be75_309c234564f5row3_col7\" class=\"data row3 col7\" >0.5957</td>\n",
       "                        <td id=\"T_5ca95e10_f89a_11ea_be75_309c234564f5row3_col8\" class=\"data row3 col8\" >53.9799</td>\n",
       "            </tr>\n",
       "            <tr>\n",
       "                        <th id=\"T_5ca95e10_f89a_11ea_be75_309c234564f5level0_row4\" class=\"row_heading level0 row4\" >4</th>\n",
       "                        <td id=\"T_5ca95e10_f89a_11ea_be75_309c234564f5row4_col0\" class=\"data row4 col0\" >Extreme Gradient Boosting</td>\n",
       "                        <td id=\"T_5ca95e10_f89a_11ea_be75_309c234564f5row4_col1\" class=\"data row4 col1\" >0.7864</td>\n",
       "                        <td id=\"T_5ca95e10_f89a_11ea_be75_309c234564f5row4_col2\" class=\"data row4 col2\" >0.8701</td>\n",
       "                        <td id=\"T_5ca95e10_f89a_11ea_be75_309c234564f5row4_col3\" class=\"data row4 col3\" >0.8283</td>\n",
       "                        <td id=\"T_5ca95e10_f89a_11ea_be75_309c234564f5row4_col4\" class=\"data row4 col4\" >0.7643</td>\n",
       "                        <td id=\"T_5ca95e10_f89a_11ea_be75_309c234564f5row4_col5\" class=\"data row4 col5\" >0.7950</td>\n",
       "                        <td id=\"T_5ca95e10_f89a_11ea_be75_309c234564f5row4_col6\" class=\"data row4 col6\" >0.5728</td>\n",
       "                        <td id=\"T_5ca95e10_f89a_11ea_be75_309c234564f5row4_col7\" class=\"data row4 col7\" >0.5748</td>\n",
       "                        <td id=\"T_5ca95e10_f89a_11ea_be75_309c234564f5row4_col8\" class=\"data row4 col8\" >64.2306</td>\n",
       "            </tr>\n",
       "            <tr>\n",
       "                        <th id=\"T_5ca95e10_f89a_11ea_be75_309c234564f5level0_row5\" class=\"row_heading level0 row5\" >5</th>\n",
       "                        <td id=\"T_5ca95e10_f89a_11ea_be75_309c234564f5row5_col0\" class=\"data row5 col0\" >Light Gradient Boosting Machine</td>\n",
       "                        <td id=\"T_5ca95e10_f89a_11ea_be75_309c234564f5row5_col1\" class=\"data row5 col1\" >0.7742</td>\n",
       "                        <td id=\"T_5ca95e10_f89a_11ea_be75_309c234564f5row5_col2\" class=\"data row5 col2\" >0.8575</td>\n",
       "                        <td id=\"T_5ca95e10_f89a_11ea_be75_309c234564f5row5_col3\" class=\"data row5 col3\" >0.8180</td>\n",
       "                        <td id=\"T_5ca95e10_f89a_11ea_be75_309c234564f5row5_col4\" class=\"data row5 col4\" >0.7522</td>\n",
       "                        <td id=\"T_5ca95e10_f89a_11ea_be75_309c234564f5row5_col5\" class=\"data row5 col5\" >0.7837</td>\n",
       "                        <td id=\"T_5ca95e10_f89a_11ea_be75_309c234564f5row5_col6\" class=\"data row5 col6\" >0.5485</td>\n",
       "                        <td id=\"T_5ca95e10_f89a_11ea_be75_309c234564f5row5_col7\" class=\"data row5 col7\" >0.5506</td>\n",
       "                        <td id=\"T_5ca95e10_f89a_11ea_be75_309c234564f5row5_col8\" class=\"data row5 col8\" >4.2854</td>\n",
       "            </tr>\n",
       "            <tr>\n",
       "                        <th id=\"T_5ca95e10_f89a_11ea_be75_309c234564f5level0_row6\" class=\"row_heading level0 row6\" >6</th>\n",
       "                        <td id=\"T_5ca95e10_f89a_11ea_be75_309c234564f5row6_col0\" class=\"data row6 col0\" >Gradient Boosting Classifier</td>\n",
       "                        <td id=\"T_5ca95e10_f89a_11ea_be75_309c234564f5row6_col1\" class=\"data row6 col1\" >0.7531</td>\n",
       "                        <td id=\"T_5ca95e10_f89a_11ea_be75_309c234564f5row6_col2\" class=\"data row6 col2\" >0.8337</td>\n",
       "                        <td id=\"T_5ca95e10_f89a_11ea_be75_309c234564f5row6_col3\" class=\"data row6 col3\" >0.7938</td>\n",
       "                        <td id=\"T_5ca95e10_f89a_11ea_be75_309c234564f5row6_col4\" class=\"data row6 col4\" >0.7341</td>\n",
       "                        <td id=\"T_5ca95e10_f89a_11ea_be75_309c234564f5row6_col5\" class=\"data row6 col5\" >0.7628</td>\n",
       "                        <td id=\"T_5ca95e10_f89a_11ea_be75_309c234564f5row6_col6\" class=\"data row6 col6\" >0.5062</td>\n",
       "                        <td id=\"T_5ca95e10_f89a_11ea_be75_309c234564f5row6_col7\" class=\"data row6 col7\" >0.5079</td>\n",
       "                        <td id=\"T_5ca95e10_f89a_11ea_be75_309c234564f5row6_col8\" class=\"data row6 col8\" >297.7376</td>\n",
       "            </tr>\n",
       "            <tr>\n",
       "                        <th id=\"T_5ca95e10_f89a_11ea_be75_309c234564f5level0_row7\" class=\"row_heading level0 row7\" >7</th>\n",
       "                        <td id=\"T_5ca95e10_f89a_11ea_be75_309c234564f5row7_col0\" class=\"data row7 col0\" >Ada Boost Classifier</td>\n",
       "                        <td id=\"T_5ca95e10_f89a_11ea_be75_309c234564f5row7_col1\" class=\"data row7 col1\" >0.7337</td>\n",
       "                        <td id=\"T_5ca95e10_f89a_11ea_be75_309c234564f5row7_col2\" class=\"data row7 col2\" >0.8119</td>\n",
       "                        <td id=\"T_5ca95e10_f89a_11ea_be75_309c234564f5row7_col3\" class=\"data row7 col3\" >0.7475</td>\n",
       "                        <td id=\"T_5ca95e10_f89a_11ea_be75_309c234564f5row7_col4\" class=\"data row7 col4\" >0.7274</td>\n",
       "                        <td id=\"T_5ca95e10_f89a_11ea_be75_309c234564f5row7_col5\" class=\"data row7 col5\" >0.7373</td>\n",
       "                        <td id=\"T_5ca95e10_f89a_11ea_be75_309c234564f5row7_col6\" class=\"data row7 col6\" >0.4673</td>\n",
       "                        <td id=\"T_5ca95e10_f89a_11ea_be75_309c234564f5row7_col7\" class=\"data row7 col7\" >0.4675</td>\n",
       "                        <td id=\"T_5ca95e10_f89a_11ea_be75_309c234564f5row7_col8\" class=\"data row7 col8\" >78.8008</td>\n",
       "            </tr>\n",
       "            <tr>\n",
       "                        <th id=\"T_5ca95e10_f89a_11ea_be75_309c234564f5level0_row8\" class=\"row_heading level0 row8\" >8</th>\n",
       "                        <td id=\"T_5ca95e10_f89a_11ea_be75_309c234564f5row8_col0\" class=\"data row8 col0\" >K Neighbors Classifier</td>\n",
       "                        <td id=\"T_5ca95e10_f89a_11ea_be75_309c234564f5row8_col1\" class=\"data row8 col1\" >0.7321</td>\n",
       "                        <td id=\"T_5ca95e10_f89a_11ea_be75_309c234564f5row8_col2\" class=\"data row8 col2\" >0.8091</td>\n",
       "                        <td id=\"T_5ca95e10_f89a_11ea_be75_309c234564f5row8_col3\" class=\"data row8 col3\" >0.8414</td>\n",
       "                        <td id=\"T_5ca95e10_f89a_11ea_be75_309c234564f5row8_col4\" class=\"data row8 col4\" >0.6905</td>\n",
       "                        <td id=\"T_5ca95e10_f89a_11ea_be75_309c234564f5row8_col5\" class=\"data row8 col5\" >0.7585</td>\n",
       "                        <td id=\"T_5ca95e10_f89a_11ea_be75_309c234564f5row8_col6\" class=\"data row8 col6\" >0.4643</td>\n",
       "                        <td id=\"T_5ca95e10_f89a_11ea_be75_309c234564f5row8_col7\" class=\"data row8 col7\" >0.4758</td>\n",
       "                        <td id=\"T_5ca95e10_f89a_11ea_be75_309c234564f5row8_col8\" class=\"data row8 col8\" >43.3675</td>\n",
       "            </tr>\n",
       "            <tr>\n",
       "                        <th id=\"T_5ca95e10_f89a_11ea_be75_309c234564f5level0_row9\" class=\"row_heading level0 row9\" >9</th>\n",
       "                        <td id=\"T_5ca95e10_f89a_11ea_be75_309c234564f5row9_col0\" class=\"data row9 col0\" >Ridge Classifier</td>\n",
       "                        <td id=\"T_5ca95e10_f89a_11ea_be75_309c234564f5row9_col1\" class=\"data row9 col1\" >0.7244</td>\n",
       "                        <td id=\"T_5ca95e10_f89a_11ea_be75_309c234564f5row9_col2\" class=\"data row9 col2\" >0.0000</td>\n",
       "                        <td id=\"T_5ca95e10_f89a_11ea_be75_309c234564f5row9_col3\" class=\"data row9 col3\" >0.7480</td>\n",
       "                        <td id=\"T_5ca95e10_f89a_11ea_be75_309c234564f5row9_col4\" class=\"data row9 col4\" >0.7142</td>\n",
       "                        <td id=\"T_5ca95e10_f89a_11ea_be75_309c234564f5row9_col5\" class=\"data row9 col5\" >0.7307</td>\n",
       "                        <td id=\"T_5ca95e10_f89a_11ea_be75_309c234564f5row9_col6\" class=\"data row9 col6\" >0.4487</td>\n",
       "                        <td id=\"T_5ca95e10_f89a_11ea_be75_309c234564f5row9_col7\" class=\"data row9 col7\" >0.4492</td>\n",
       "                        <td id=\"T_5ca95e10_f89a_11ea_be75_309c234564f5row9_col8\" class=\"data row9 col8\" >1.5999</td>\n",
       "            </tr>\n",
       "            <tr>\n",
       "                        <th id=\"T_5ca95e10_f89a_11ea_be75_309c234564f5level0_row10\" class=\"row_heading level0 row10\" >10</th>\n",
       "                        <td id=\"T_5ca95e10_f89a_11ea_be75_309c234564f5row10_col0\" class=\"data row10 col0\" >Logistic Regression</td>\n",
       "                        <td id=\"T_5ca95e10_f89a_11ea_be75_309c234564f5row10_col1\" class=\"data row10 col1\" >0.6790</td>\n",
       "                        <td id=\"T_5ca95e10_f89a_11ea_be75_309c234564f5row10_col2\" class=\"data row10 col2\" >0.7352</td>\n",
       "                        <td id=\"T_5ca95e10_f89a_11ea_be75_309c234564f5row10_col3\" class=\"data row10 col3\" >0.7128</td>\n",
       "                        <td id=\"T_5ca95e10_f89a_11ea_be75_309c234564f5row10_col4\" class=\"data row10 col4\" >0.6677</td>\n",
       "                        <td id=\"T_5ca95e10_f89a_11ea_be75_309c234564f5row10_col5\" class=\"data row10 col5\" >0.6894</td>\n",
       "                        <td id=\"T_5ca95e10_f89a_11ea_be75_309c234564f5row10_col6\" class=\"data row10 col6\" >0.3579</td>\n",
       "                        <td id=\"T_5ca95e10_f89a_11ea_be75_309c234564f5row10_col7\" class=\"data row10 col7\" >0.3588</td>\n",
       "                        <td id=\"T_5ca95e10_f89a_11ea_be75_309c234564f5row10_col8\" class=\"data row10 col8\" >10.7993</td>\n",
       "            </tr>\n",
       "            <tr>\n",
       "                        <th id=\"T_5ca95e10_f89a_11ea_be75_309c234564f5level0_row11\" class=\"row_heading level0 row11\" >11</th>\n",
       "                        <td id=\"T_5ca95e10_f89a_11ea_be75_309c234564f5row11_col0\" class=\"data row11 col0\" >Naive Bayes</td>\n",
       "                        <td id=\"T_5ca95e10_f89a_11ea_be75_309c234564f5row11_col1\" class=\"data row11 col1\" >0.6742</td>\n",
       "                        <td id=\"T_5ca95e10_f89a_11ea_be75_309c234564f5row11_col2\" class=\"data row11 col2\" >0.7319</td>\n",
       "                        <td id=\"T_5ca95e10_f89a_11ea_be75_309c234564f5row11_col3\" class=\"data row11 col3\" >0.7500</td>\n",
       "                        <td id=\"T_5ca95e10_f89a_11ea_be75_309c234564f5row11_col4\" class=\"data row11 col4\" >0.6513</td>\n",
       "                        <td id=\"T_5ca95e10_f89a_11ea_be75_309c234564f5row11_col5\" class=\"data row11 col5\" >0.6971</td>\n",
       "                        <td id=\"T_5ca95e10_f89a_11ea_be75_309c234564f5row11_col6\" class=\"data row11 col6\" >0.3484</td>\n",
       "                        <td id=\"T_5ca95e10_f89a_11ea_be75_309c234564f5row11_col7\" class=\"data row11 col7\" >0.3524</td>\n",
       "                        <td id=\"T_5ca95e10_f89a_11ea_be75_309c234564f5row11_col8\" class=\"data row11 col8\" >1.3968</td>\n",
       "            </tr>\n",
       "            <tr>\n",
       "                        <th id=\"T_5ca95e10_f89a_11ea_be75_309c234564f5level0_row12\" class=\"row_heading level0 row12\" >12</th>\n",
       "                        <td id=\"T_5ca95e10_f89a_11ea_be75_309c234564f5row12_col0\" class=\"data row12 col0\" >SVM - Linear Kernel</td>\n",
       "                        <td id=\"T_5ca95e10_f89a_11ea_be75_309c234564f5row12_col1\" class=\"data row12 col1\" >0.5854</td>\n",
       "                        <td id=\"T_5ca95e10_f89a_11ea_be75_309c234564f5row12_col2\" class=\"data row12 col2\" >0.0000</td>\n",
       "                        <td id=\"T_5ca95e10_f89a_11ea_be75_309c234564f5row12_col3\" class=\"data row12 col3\" >0.5704</td>\n",
       "                        <td id=\"T_5ca95e10_f89a_11ea_be75_309c234564f5row12_col4\" class=\"data row12 col4\" >0.6677</td>\n",
       "                        <td id=\"T_5ca95e10_f89a_11ea_be75_309c234564f5row12_col5\" class=\"data row12 col5\" >0.5067</td>\n",
       "                        <td id=\"T_5ca95e10_f89a_11ea_be75_309c234564f5row12_col6\" class=\"data row12 col6\" >0.1709</td>\n",
       "                        <td id=\"T_5ca95e10_f89a_11ea_be75_309c234564f5row12_col7\" class=\"data row12 col7\" >0.2261</td>\n",
       "                        <td id=\"T_5ca95e10_f89a_11ea_be75_309c234564f5row12_col8\" class=\"data row12 col8\" >201.9826</td>\n",
       "            </tr>\n",
       "            <tr>\n",
       "                        <th id=\"T_5ca95e10_f89a_11ea_be75_309c234564f5level0_row13\" class=\"row_heading level0 row13\" >13</th>\n",
       "                        <td id=\"T_5ca95e10_f89a_11ea_be75_309c234564f5row13_col0\" class=\"data row13 col0\" >Quadratic Discriminant Analysis</td>\n",
       "                        <td id=\"T_5ca95e10_f89a_11ea_be75_309c234564f5row13_col1\" class=\"data row13 col1\" >0.5119</td>\n",
       "                        <td id=\"T_5ca95e10_f89a_11ea_be75_309c234564f5row13_col2\" class=\"data row13 col2\" >0.5316</td>\n",
       "                        <td id=\"T_5ca95e10_f89a_11ea_be75_309c234564f5row13_col3\" class=\"data row13 col3\" >0.9828</td>\n",
       "                        <td id=\"T_5ca95e10_f89a_11ea_be75_309c234564f5row13_col4\" class=\"data row13 col4\" >0.5062</td>\n",
       "                        <td id=\"T_5ca95e10_f89a_11ea_be75_309c234564f5row13_col5\" class=\"data row13 col5\" >0.6682</td>\n",
       "                        <td id=\"T_5ca95e10_f89a_11ea_be75_309c234564f5row13_col6\" class=\"data row13 col6\" >0.0239</td>\n",
       "                        <td id=\"T_5ca95e10_f89a_11ea_be75_309c234564f5row13_col7\" class=\"data row13 col7\" >0.0709</td>\n",
       "                        <td id=\"T_5ca95e10_f89a_11ea_be75_309c234564f5row13_col8\" class=\"data row13 col8\" >8.3486</td>\n",
       "            </tr>\n",
       "    </tbody></table>"
      ],
      "text/plain": [
       "<pandas.io.formats.style.Styler at 0x1e053d36470>"
      ]
     },
     "metadata": {},
     "output_type": "display_data"
    },
    {
     "data": {
      "text/plain": [
       "ExtraTreesClassifier(bootstrap=False, ccp_alpha=0.0, class_weight=None,\n",
       "                     criterion='gini', max_depth=None, max_features='auto',\n",
       "                     max_leaf_nodes=None, max_samples=None,\n",
       "                     min_impurity_decrease=0.0, min_impurity_split=None,\n",
       "                     min_samples_leaf=1, min_samples_split=2,\n",
       "                     min_weight_fraction_leaf=0.0, n_estimators=100, n_jobs=-1,\n",
       "                     oob_score=False, random_state=3264, verbose=0,\n",
       "                     warm_start=False)"
      ]
     },
     "execution_count": 39,
     "metadata": {},
     "output_type": "execute_result"
    }
   ],
   "source": [
    "model_results=compare_models(blacklist = ['lda']) #blacklist = ['tr','ransac'],'lar','par','huber','llar','lasso','en','ridge','omp','br','svm'])\n",
    "model_results"
   ]
  },
  {
   "cell_type": "markdown",
   "metadata": {},
   "source": [
    "## Create models "
   ]
  },
  {
   "cell_type": "markdown",
   "metadata": {},
   "source": [
    "### Extra Trees Classifier"
   ]
  },
  {
   "cell_type": "code",
   "execution_count": 40,
   "metadata": {},
   "outputs": [
    {
     "data": {
      "text/html": [
       "<style  type=\"text/css\" >\n",
       "#T_81ef7b3a_f8a2_11ea_ab49_309c234564f5row10_col0,#T_81ef7b3a_f8a2_11ea_ab49_309c234564f5row10_col1,#T_81ef7b3a_f8a2_11ea_ab49_309c234564f5row10_col2,#T_81ef7b3a_f8a2_11ea_ab49_309c234564f5row10_col3,#T_81ef7b3a_f8a2_11ea_ab49_309c234564f5row10_col4,#T_81ef7b3a_f8a2_11ea_ab49_309c234564f5row10_col5,#T_81ef7b3a_f8a2_11ea_ab49_309c234564f5row10_col6{\n",
       "            background:  yellow;\n",
       "        }</style><table id=\"T_81ef7b3a_f8a2_11ea_ab49_309c234564f5\" ><thead>    <tr>        <th class=\"blank level0\" ></th>        <th class=\"col_heading level0 col0\" >Accuracy</th>        <th class=\"col_heading level0 col1\" >AUC</th>        <th class=\"col_heading level0 col2\" >Recall</th>        <th class=\"col_heading level0 col3\" >Prec.</th>        <th class=\"col_heading level0 col4\" >F1</th>        <th class=\"col_heading level0 col5\" >Kappa</th>        <th class=\"col_heading level0 col6\" >MCC</th>    </tr></thead><tbody>\n",
       "                <tr>\n",
       "                        <th id=\"T_81ef7b3a_f8a2_11ea_ab49_309c234564f5level0_row0\" class=\"row_heading level0 row0\" >0</th>\n",
       "                        <td id=\"T_81ef7b3a_f8a2_11ea_ab49_309c234564f5row0_col0\" class=\"data row0 col0\" >0.9381</td>\n",
       "                        <td id=\"T_81ef7b3a_f8a2_11ea_ab49_309c234564f5row0_col1\" class=\"data row0 col1\" >0.9847</td>\n",
       "                        <td id=\"T_81ef7b3a_f8a2_11ea_ab49_309c234564f5row0_col2\" class=\"data row0 col2\" >0.9463</td>\n",
       "                        <td id=\"T_81ef7b3a_f8a2_11ea_ab49_309c234564f5row0_col3\" class=\"data row0 col3\" >0.9310</td>\n",
       "                        <td id=\"T_81ef7b3a_f8a2_11ea_ab49_309c234564f5row0_col4\" class=\"data row0 col4\" >0.9386</td>\n",
       "                        <td id=\"T_81ef7b3a_f8a2_11ea_ab49_309c234564f5row0_col5\" class=\"data row0 col5\" >0.8761</td>\n",
       "                        <td id=\"T_81ef7b3a_f8a2_11ea_ab49_309c234564f5row0_col6\" class=\"data row0 col6\" >0.8762</td>\n",
       "            </tr>\n",
       "            <tr>\n",
       "                        <th id=\"T_81ef7b3a_f8a2_11ea_ab49_309c234564f5level0_row1\" class=\"row_heading level0 row1\" >1</th>\n",
       "                        <td id=\"T_81ef7b3a_f8a2_11ea_ab49_309c234564f5row1_col0\" class=\"data row1 col0\" >0.9368</td>\n",
       "                        <td id=\"T_81ef7b3a_f8a2_11ea_ab49_309c234564f5row1_col1\" class=\"data row1 col1\" >0.9839</td>\n",
       "                        <td id=\"T_81ef7b3a_f8a2_11ea_ab49_309c234564f5row1_col2\" class=\"data row1 col2\" >0.9440</td>\n",
       "                        <td id=\"T_81ef7b3a_f8a2_11ea_ab49_309c234564f5row1_col3\" class=\"data row1 col3\" >0.9307</td>\n",
       "                        <td id=\"T_81ef7b3a_f8a2_11ea_ab49_309c234564f5row1_col4\" class=\"data row1 col4\" >0.9373</td>\n",
       "                        <td id=\"T_81ef7b3a_f8a2_11ea_ab49_309c234564f5row1_col5\" class=\"data row1 col5\" >0.8736</td>\n",
       "                        <td id=\"T_81ef7b3a_f8a2_11ea_ab49_309c234564f5row1_col6\" class=\"data row1 col6\" >0.8737</td>\n",
       "            </tr>\n",
       "            <tr>\n",
       "                        <th id=\"T_81ef7b3a_f8a2_11ea_ab49_309c234564f5level0_row2\" class=\"row_heading level0 row2\" >2</th>\n",
       "                        <td id=\"T_81ef7b3a_f8a2_11ea_ab49_309c234564f5row2_col0\" class=\"data row2 col0\" >0.9369</td>\n",
       "                        <td id=\"T_81ef7b3a_f8a2_11ea_ab49_309c234564f5row2_col1\" class=\"data row2 col1\" >0.9837</td>\n",
       "                        <td id=\"T_81ef7b3a_f8a2_11ea_ab49_309c234564f5row2_col2\" class=\"data row2 col2\" >0.9426</td>\n",
       "                        <td id=\"T_81ef7b3a_f8a2_11ea_ab49_309c234564f5row2_col3\" class=\"data row2 col3\" >0.9320</td>\n",
       "                        <td id=\"T_81ef7b3a_f8a2_11ea_ab49_309c234564f5row2_col4\" class=\"data row2 col4\" >0.9373</td>\n",
       "                        <td id=\"T_81ef7b3a_f8a2_11ea_ab49_309c234564f5row2_col5\" class=\"data row2 col5\" >0.8739</td>\n",
       "                        <td id=\"T_81ef7b3a_f8a2_11ea_ab49_309c234564f5row2_col6\" class=\"data row2 col6\" >0.8739</td>\n",
       "            </tr>\n",
       "            <tr>\n",
       "                        <th id=\"T_81ef7b3a_f8a2_11ea_ab49_309c234564f5level0_row3\" class=\"row_heading level0 row3\" >3</th>\n",
       "                        <td id=\"T_81ef7b3a_f8a2_11ea_ab49_309c234564f5row3_col0\" class=\"data row3 col0\" >0.9351</td>\n",
       "                        <td id=\"T_81ef7b3a_f8a2_11ea_ab49_309c234564f5row3_col1\" class=\"data row3 col1\" >0.9827</td>\n",
       "                        <td id=\"T_81ef7b3a_f8a2_11ea_ab49_309c234564f5row3_col2\" class=\"data row3 col2\" >0.9440</td>\n",
       "                        <td id=\"T_81ef7b3a_f8a2_11ea_ab49_309c234564f5row3_col3\" class=\"data row3 col3\" >0.9275</td>\n",
       "                        <td id=\"T_81ef7b3a_f8a2_11ea_ab49_309c234564f5row3_col4\" class=\"data row3 col4\" >0.9357</td>\n",
       "                        <td id=\"T_81ef7b3a_f8a2_11ea_ab49_309c234564f5row3_col5\" class=\"data row3 col5\" >0.8702</td>\n",
       "                        <td id=\"T_81ef7b3a_f8a2_11ea_ab49_309c234564f5row3_col6\" class=\"data row3 col6\" >0.8704</td>\n",
       "            </tr>\n",
       "            <tr>\n",
       "                        <th id=\"T_81ef7b3a_f8a2_11ea_ab49_309c234564f5level0_row4\" class=\"row_heading level0 row4\" >4</th>\n",
       "                        <td id=\"T_81ef7b3a_f8a2_11ea_ab49_309c234564f5row4_col0\" class=\"data row4 col0\" >0.9353</td>\n",
       "                        <td id=\"T_81ef7b3a_f8a2_11ea_ab49_309c234564f5row4_col1\" class=\"data row4 col1\" >0.9833</td>\n",
       "                        <td id=\"T_81ef7b3a_f8a2_11ea_ab49_309c234564f5row4_col2\" class=\"data row4 col2\" >0.9433</td>\n",
       "                        <td id=\"T_81ef7b3a_f8a2_11ea_ab49_309c234564f5row4_col3\" class=\"data row4 col3\" >0.9285</td>\n",
       "                        <td id=\"T_81ef7b3a_f8a2_11ea_ab49_309c234564f5row4_col4\" class=\"data row4 col4\" >0.9358</td>\n",
       "                        <td id=\"T_81ef7b3a_f8a2_11ea_ab49_309c234564f5row4_col5\" class=\"data row4 col5\" >0.8706</td>\n",
       "                        <td id=\"T_81ef7b3a_f8a2_11ea_ab49_309c234564f5row4_col6\" class=\"data row4 col6\" >0.8707</td>\n",
       "            </tr>\n",
       "            <tr>\n",
       "                        <th id=\"T_81ef7b3a_f8a2_11ea_ab49_309c234564f5level0_row5\" class=\"row_heading level0 row5\" >5</th>\n",
       "                        <td id=\"T_81ef7b3a_f8a2_11ea_ab49_309c234564f5row5_col0\" class=\"data row5 col0\" >0.9362</td>\n",
       "                        <td id=\"T_81ef7b3a_f8a2_11ea_ab49_309c234564f5row5_col1\" class=\"data row5 col1\" >0.9835</td>\n",
       "                        <td id=\"T_81ef7b3a_f8a2_11ea_ab49_309c234564f5row5_col2\" class=\"data row5 col2\" >0.9429</td>\n",
       "                        <td id=\"T_81ef7b3a_f8a2_11ea_ab49_309c234564f5row5_col3\" class=\"data row5 col3\" >0.9304</td>\n",
       "                        <td id=\"T_81ef7b3a_f8a2_11ea_ab49_309c234564f5row5_col4\" class=\"data row5 col4\" >0.9366</td>\n",
       "                        <td id=\"T_81ef7b3a_f8a2_11ea_ab49_309c234564f5row5_col5\" class=\"data row5 col5\" >0.8724</td>\n",
       "                        <td id=\"T_81ef7b3a_f8a2_11ea_ab49_309c234564f5row5_col6\" class=\"data row5 col6\" >0.8725</td>\n",
       "            </tr>\n",
       "            <tr>\n",
       "                        <th id=\"T_81ef7b3a_f8a2_11ea_ab49_309c234564f5level0_row6\" class=\"row_heading level0 row6\" >6</th>\n",
       "                        <td id=\"T_81ef7b3a_f8a2_11ea_ab49_309c234564f5row6_col0\" class=\"data row6 col0\" >0.9346</td>\n",
       "                        <td id=\"T_81ef7b3a_f8a2_11ea_ab49_309c234564f5row6_col1\" class=\"data row6 col1\" >0.9829</td>\n",
       "                        <td id=\"T_81ef7b3a_f8a2_11ea_ab49_309c234564f5row6_col2\" class=\"data row6 col2\" >0.9414</td>\n",
       "                        <td id=\"T_81ef7b3a_f8a2_11ea_ab49_309c234564f5row6_col3\" class=\"data row6 col3\" >0.9287</td>\n",
       "                        <td id=\"T_81ef7b3a_f8a2_11ea_ab49_309c234564f5row6_col4\" class=\"data row6 col4\" >0.9350</td>\n",
       "                        <td id=\"T_81ef7b3a_f8a2_11ea_ab49_309c234564f5row6_col5\" class=\"data row6 col5\" >0.8691</td>\n",
       "                        <td id=\"T_81ef7b3a_f8a2_11ea_ab49_309c234564f5row6_col6\" class=\"data row6 col6\" >0.8692</td>\n",
       "            </tr>\n",
       "            <tr>\n",
       "                        <th id=\"T_81ef7b3a_f8a2_11ea_ab49_309c234564f5level0_row7\" class=\"row_heading level0 row7\" >7</th>\n",
       "                        <td id=\"T_81ef7b3a_f8a2_11ea_ab49_309c234564f5row7_col0\" class=\"data row7 col0\" >0.9376</td>\n",
       "                        <td id=\"T_81ef7b3a_f8a2_11ea_ab49_309c234564f5row7_col1\" class=\"data row7 col1\" >0.9844</td>\n",
       "                        <td id=\"T_81ef7b3a_f8a2_11ea_ab49_309c234564f5row7_col2\" class=\"data row7 col2\" >0.9446</td>\n",
       "                        <td id=\"T_81ef7b3a_f8a2_11ea_ab49_309c234564f5row7_col3\" class=\"data row7 col3\" >0.9316</td>\n",
       "                        <td id=\"T_81ef7b3a_f8a2_11ea_ab49_309c234564f5row7_col4\" class=\"data row7 col4\" >0.9381</td>\n",
       "                        <td id=\"T_81ef7b3a_f8a2_11ea_ab49_309c234564f5row7_col5\" class=\"data row7 col5\" >0.8753</td>\n",
       "                        <td id=\"T_81ef7b3a_f8a2_11ea_ab49_309c234564f5row7_col6\" class=\"data row7 col6\" >0.8754</td>\n",
       "            </tr>\n",
       "            <tr>\n",
       "                        <th id=\"T_81ef7b3a_f8a2_11ea_ab49_309c234564f5level0_row8\" class=\"row_heading level0 row8\" >8</th>\n",
       "                        <td id=\"T_81ef7b3a_f8a2_11ea_ab49_309c234564f5row8_col0\" class=\"data row8 col0\" >0.9372</td>\n",
       "                        <td id=\"T_81ef7b3a_f8a2_11ea_ab49_309c234564f5row8_col1\" class=\"data row8 col1\" >0.9840</td>\n",
       "                        <td id=\"T_81ef7b3a_f8a2_11ea_ab49_309c234564f5row8_col2\" class=\"data row8 col2\" >0.9451</td>\n",
       "                        <td id=\"T_81ef7b3a_f8a2_11ea_ab49_309c234564f5row8_col3\" class=\"data row8 col3\" >0.9304</td>\n",
       "                        <td id=\"T_81ef7b3a_f8a2_11ea_ab49_309c234564f5row8_col4\" class=\"data row8 col4\" >0.9376</td>\n",
       "                        <td id=\"T_81ef7b3a_f8a2_11ea_ab49_309c234564f5row8_col5\" class=\"data row8 col5\" >0.8743</td>\n",
       "                        <td id=\"T_81ef7b3a_f8a2_11ea_ab49_309c234564f5row8_col6\" class=\"data row8 col6\" >0.8744</td>\n",
       "            </tr>\n",
       "            <tr>\n",
       "                        <th id=\"T_81ef7b3a_f8a2_11ea_ab49_309c234564f5level0_row9\" class=\"row_heading level0 row9\" >9</th>\n",
       "                        <td id=\"T_81ef7b3a_f8a2_11ea_ab49_309c234564f5row9_col0\" class=\"data row9 col0\" >0.9367</td>\n",
       "                        <td id=\"T_81ef7b3a_f8a2_11ea_ab49_309c234564f5row9_col1\" class=\"data row9 col1\" >0.9839</td>\n",
       "                        <td id=\"T_81ef7b3a_f8a2_11ea_ab49_309c234564f5row9_col2\" class=\"data row9 col2\" >0.9445</td>\n",
       "                        <td id=\"T_81ef7b3a_f8a2_11ea_ab49_309c234564f5row9_col3\" class=\"data row9 col3\" >0.9300</td>\n",
       "                        <td id=\"T_81ef7b3a_f8a2_11ea_ab49_309c234564f5row9_col4\" class=\"data row9 col4\" >0.9372</td>\n",
       "                        <td id=\"T_81ef7b3a_f8a2_11ea_ab49_309c234564f5row9_col5\" class=\"data row9 col5\" >0.8734</td>\n",
       "                        <td id=\"T_81ef7b3a_f8a2_11ea_ab49_309c234564f5row9_col6\" class=\"data row9 col6\" >0.8735</td>\n",
       "            </tr>\n",
       "            <tr>\n",
       "                        <th id=\"T_81ef7b3a_f8a2_11ea_ab49_309c234564f5level0_row10\" class=\"row_heading level0 row10\" >Mean</th>\n",
       "                        <td id=\"T_81ef7b3a_f8a2_11ea_ab49_309c234564f5row10_col0\" class=\"data row10 col0\" >0.9364</td>\n",
       "                        <td id=\"T_81ef7b3a_f8a2_11ea_ab49_309c234564f5row10_col1\" class=\"data row10 col1\" >0.9837</td>\n",
       "                        <td id=\"T_81ef7b3a_f8a2_11ea_ab49_309c234564f5row10_col2\" class=\"data row10 col2\" >0.9439</td>\n",
       "                        <td id=\"T_81ef7b3a_f8a2_11ea_ab49_309c234564f5row10_col3\" class=\"data row10 col3\" >0.9301</td>\n",
       "                        <td id=\"T_81ef7b3a_f8a2_11ea_ab49_309c234564f5row10_col4\" class=\"data row10 col4\" >0.9369</td>\n",
       "                        <td id=\"T_81ef7b3a_f8a2_11ea_ab49_309c234564f5row10_col5\" class=\"data row10 col5\" >0.8729</td>\n",
       "                        <td id=\"T_81ef7b3a_f8a2_11ea_ab49_309c234564f5row10_col6\" class=\"data row10 col6\" >0.8730</td>\n",
       "            </tr>\n",
       "            <tr>\n",
       "                        <th id=\"T_81ef7b3a_f8a2_11ea_ab49_309c234564f5level0_row11\" class=\"row_heading level0 row11\" >SD</th>\n",
       "                        <td id=\"T_81ef7b3a_f8a2_11ea_ab49_309c234564f5row11_col0\" class=\"data row11 col0\" >0.0011</td>\n",
       "                        <td id=\"T_81ef7b3a_f8a2_11ea_ab49_309c234564f5row11_col1\" class=\"data row11 col1\" >0.0006</td>\n",
       "                        <td id=\"T_81ef7b3a_f8a2_11ea_ab49_309c234564f5row11_col2\" class=\"data row11 col2\" >0.0013</td>\n",
       "                        <td id=\"T_81ef7b3a_f8a2_11ea_ab49_309c234564f5row11_col3\" class=\"data row11 col3\" >0.0014</td>\n",
       "                        <td id=\"T_81ef7b3a_f8a2_11ea_ab49_309c234564f5row11_col4\" class=\"data row11 col4\" >0.0011</td>\n",
       "                        <td id=\"T_81ef7b3a_f8a2_11ea_ab49_309c234564f5row11_col5\" class=\"data row11 col5\" >0.0021</td>\n",
       "                        <td id=\"T_81ef7b3a_f8a2_11ea_ab49_309c234564f5row11_col6\" class=\"data row11 col6\" >0.0021</td>\n",
       "            </tr>\n",
       "    </tbody></table>"
      ],
      "text/plain": [
       "<pandas.io.formats.style.Styler at 0x1e054501198>"
      ]
     },
     "metadata": {},
     "output_type": "display_data"
    }
   ],
   "source": [
    "et = create_model('et', fold=10)"
   ]
  },
  {
   "cell_type": "markdown",
   "metadata": {},
   "source": [
    "## Evaluate Models"
   ]
  },
  {
   "cell_type": "code",
   "execution_count": 41,
   "metadata": {},
   "outputs": [
    {
     "data": {
      "image/png": "[encoded data removed]",
      "text/plain": [
       "<Figure size 576x396 with 1 Axes>"
      ]
     },
     "metadata": {},
     "output_type": "display_data"
    }
   ],
   "source": [
    "plot_model(et)"
   ]
  },
  {
   "cell_type": "code",
   "execution_count": 42,
   "metadata": {},
   "outputs": [],
   "source": [
    "#plot_model(et, plot = 'threshold')"
   ]
  },
  {
   "cell_type": "code",
   "execution_count": 43,
   "metadata": {},
   "outputs": [
    {
     "data": {
      "image/png": "[encoded data removed]",
      "text/plain": [
       "<Figure size 576x396 with 1 Axes>"
      ]
     },
     "metadata": {},
     "output_type": "display_data"
    }
   ],
   "source": [
    "plot_model(et, plot = 'pr')"
   ]
  },
  {
   "cell_type": "code",
   "execution_count": 44,
   "metadata": {},
   "outputs": [
    {
     "data": {
      "image/png": "[encoded data removed]",
      "text/plain": [
       "<Figure size 576x396 with 1 Axes>"
      ]
     },
     "metadata": {},
     "output_type": "display_data"
    }
   ],
   "source": [
    "plot_model(et, plot='confusion_matrix')"
   ]
  },
  {
   "cell_type": "code",
   "execution_count": 45,
   "metadata": {},
   "outputs": [
    {
     "data": {
      "image/png": "[encoded data removed]",
      "text/plain": [
       "<Figure size 576x396 with 1 Axes>"
      ]
     },
     "metadata": {},
     "output_type": "display_data"
    }
   ],
   "source": [
    "plot_model(et, plot = 'error')"
   ]
  },
  {
   "cell_type": "code",
   "execution_count": 46,
   "metadata": {},
   "outputs": [
    {
     "data": {
      "image/png": "[encoded data removed]",
      "text/plain": [
       "<Figure size 576x396 with 2 Axes>"
      ]
     },
     "metadata": {},
     "output_type": "display_data"
    }
   ],
   "source": [
    "plot_model(et, plot = 'class_report')"
   ]
  },
  {
   "cell_type": "code",
   "execution_count": 49,
   "metadata": {},
   "outputs": [
    {
     "data": {
      "image/png": "[encoded data removed]",
      "text/plain": [
       "<Figure size 576x396 with 1 Axes>"
      ]
     },
     "metadata": {},
     "output_type": "display_data"
    }
   ],
   "source": [
    "plot_model(et, plot = 'boundary')"
   ]
  },
  {
   "cell_type": "code",
   "execution_count": 50,
   "metadata": {},
   "outputs": [],
   "source": [
    "#plot_model(et, plot='learning')"
   ]
  },
  {
   "cell_type": "code",
   "execution_count": 51,
   "metadata": {},
   "outputs": [],
   "source": [
    "#plot_model(et, plot = 'manifold')"
   ]
  },
  {
   "cell_type": "code",
   "execution_count": 52,
   "metadata": {},
   "outputs": [],
   "source": [
    "#plot_model(et, plot = 'calibration')"
   ]
  },
  {
   "cell_type": "code",
   "execution_count": 53,
   "metadata": {},
   "outputs": [],
   "source": [
    "#plot_model(et, plot = 'vc')"
   ]
  },
  {
   "cell_type": "code",
   "execution_count": 54,
   "metadata": {},
   "outputs": [],
   "source": [
    "#plot_model(et, plot='dimension')"
   ]
  },
  {
   "cell_type": "code",
   "execution_count": 55,
   "metadata": {},
   "outputs": [
    {
     "data": {
      "image/png": "[encoded data removed]",
      "text/plain": [
       "<Figure size 576x360 with 1 Axes>"
      ]
     },
     "metadata": {},
     "output_type": "display_data"
    }
   ],
   "source": [
    "plot_model(et, plot = 'feature')"
   ]
  },
  {
   "cell_type": "code",
   "execution_count": 56,
   "metadata": {
    "scrolled": false
   },
   "outputs": [
    {
     "data": {
      "text/html": [
       "<div>\n",
       "<style scoped>\n",
       "    .dataframe tbody tr th:only-of-type {\n",
       "        vertical-align: middle;\n",
       "    }\n",
       "\n",
       "    .dataframe tbody tr th {\n",
       "        vertical-align: top;\n",
       "    }\n",
       "\n",
       "    .dataframe thead th {\n",
       "        text-align: right;\n",
       "    }\n",
       "</style>\n",
       "<table border=\"1\" class=\"dataframe\">\n",
       "  <thead>\n",
       "    <tr style=\"text-align: right;\">\n",
       "      <th></th>\n",
       "      <th>Parameters</th>\n",
       "    </tr>\n",
       "  </thead>\n",
       "  <tbody>\n",
       "    <tr>\n",
       "      <th>bootstrap</th>\n",
       "      <td>False</td>\n",
       "    </tr>\n",
       "    <tr>\n",
       "      <th>ccp_alpha</th>\n",
       "      <td>0</td>\n",
       "    </tr>\n",
       "    <tr>\n",
       "      <th>class_weight</th>\n",
       "      <td>None</td>\n",
       "    </tr>\n",
       "    <tr>\n",
       "      <th>criterion</th>\n",
       "      <td>gini</td>\n",
       "    </tr>\n",
       "    <tr>\n",
       "      <th>max_depth</th>\n",
       "      <td>None</td>\n",
       "    </tr>\n",
       "    <tr>\n",
       "      <th>max_features</th>\n",
       "      <td>auto</td>\n",
       "    </tr>\n",
       "    <tr>\n",
       "      <th>max_leaf_nodes</th>\n",
       "      <td>None</td>\n",
       "    </tr>\n",
       "    <tr>\n",
       "      <th>max_samples</th>\n",
       "      <td>None</td>\n",
       "    </tr>\n",
       "    <tr>\n",
       "      <th>min_impurity_decrease</th>\n",
       "      <td>0</td>\n",
       "    </tr>\n",
       "    <tr>\n",
       "      <th>min_impurity_split</th>\n",
       "      <td>None</td>\n",
       "    </tr>\n",
       "    <tr>\n",
       "      <th>min_samples_leaf</th>\n",
       "      <td>1</td>\n",
       "    </tr>\n",
       "    <tr>\n",
       "      <th>min_samples_split</th>\n",
       "      <td>2</td>\n",
       "    </tr>\n",
       "    <tr>\n",
       "      <th>min_weight_fraction_leaf</th>\n",
       "      <td>0</td>\n",
       "    </tr>\n",
       "    <tr>\n",
       "      <th>n_estimators</th>\n",
       "      <td>100</td>\n",
       "    </tr>\n",
       "    <tr>\n",
       "      <th>n_jobs</th>\n",
       "      <td>-1</td>\n",
       "    </tr>\n",
       "    <tr>\n",
       "      <th>oob_score</th>\n",
       "      <td>False</td>\n",
       "    </tr>\n",
       "    <tr>\n",
       "      <th>random_state</th>\n",
       "      <td>3264</td>\n",
       "    </tr>\n",
       "    <tr>\n",
       "      <th>verbose</th>\n",
       "      <td>0</td>\n",
       "    </tr>\n",
       "    <tr>\n",
       "      <th>warm_start</th>\n",
       "      <td>False</td>\n",
       "    </tr>\n",
       "  </tbody>\n",
       "</table>\n",
       "</div>"
      ],
      "text/plain": [
       "                         Parameters\n",
       "bootstrap                     False\n",
       "ccp_alpha                         0\n",
       "class_weight                   None\n",
       "criterion                      gini\n",
       "max_depth                      None\n",
       "max_features                   auto\n",
       "max_leaf_nodes                 None\n",
       "max_samples                    None\n",
       "min_impurity_decrease             0\n",
       "min_impurity_split             None\n",
       "min_samples_leaf                  1\n",
       "min_samples_split                 2\n",
       "min_weight_fraction_leaf          0\n",
       "n_estimators                    100\n",
       "n_jobs                           -1\n",
       "oob_score                     False\n",
       "random_state                   3264\n",
       "verbose                           0\n",
       "warm_start                    False"
      ]
     },
     "metadata": {},
     "output_type": "display_data"
    }
   ],
   "source": [
    "plot_model(et, plot = 'parameter')"
   ]
  },
  {
   "cell_type": "markdown",
   "metadata": {},
   "source": [
    "## Ensemble et model Bagging"
   ]
  },
  {
   "cell_type": "code",
   "execution_count": 77,
   "metadata": {
    "scrolled": false
   },
   "outputs": [
    {
     "data": {
      "text/html": [
       "<style  type=\"text/css\" >\n",
       "#T_7f9350a4_f904_11ea_8097_309c234564f5row10_col0,#T_7f9350a4_f904_11ea_8097_309c234564f5row10_col1,#T_7f9350a4_f904_11ea_8097_309c234564f5row10_col2,#T_7f9350a4_f904_11ea_8097_309c234564f5row10_col3,#T_7f9350a4_f904_11ea_8097_309c234564f5row10_col4,#T_7f9350a4_f904_11ea_8097_309c234564f5row10_col5,#T_7f9350a4_f904_11ea_8097_309c234564f5row10_col6{\n",
       "            background:  yellow;\n",
       "        }</style><table id=\"T_7f9350a4_f904_11ea_8097_309c234564f5\" ><thead>    <tr>        <th class=\"blank level0\" ></th>        <th class=\"col_heading level0 col0\" >Accuracy</th>        <th class=\"col_heading level0 col1\" >AUC</th>        <th class=\"col_heading level0 col2\" >Recall</th>        <th class=\"col_heading level0 col3\" >Prec.</th>        <th class=\"col_heading level0 col4\" >F1</th>        <th class=\"col_heading level0 col5\" >Kappa</th>        <th class=\"col_heading level0 col6\" >MCC</th>    </tr></thead><tbody>\n",
       "                <tr>\n",
       "                        <th id=\"T_7f9350a4_f904_11ea_8097_309c234564f5level0_row0\" class=\"row_heading level0 row0\" >0</th>\n",
       "                        <td id=\"T_7f9350a4_f904_11ea_8097_309c234564f5row0_col0\" class=\"data row0 col0\" >0.9376</td>\n",
       "                        <td id=\"T_7f9350a4_f904_11ea_8097_309c234564f5row0_col1\" class=\"data row0 col1\" >0.9844</td>\n",
       "                        <td id=\"T_7f9350a4_f904_11ea_8097_309c234564f5row0_col2\" class=\"data row0 col2\" >0.9462</td>\n",
       "                        <td id=\"T_7f9350a4_f904_11ea_8097_309c234564f5row0_col3\" class=\"data row0 col3\" >0.9303</td>\n",
       "                        <td id=\"T_7f9350a4_f904_11ea_8097_309c234564f5row0_col4\" class=\"data row0 col4\" >0.9381</td>\n",
       "                        <td id=\"T_7f9350a4_f904_11ea_8097_309c234564f5row0_col5\" class=\"data row0 col5\" >0.8752</td>\n",
       "                        <td id=\"T_7f9350a4_f904_11ea_8097_309c234564f5row0_col6\" class=\"data row0 col6\" >0.8754</td>\n",
       "            </tr>\n",
       "            <tr>\n",
       "                        <th id=\"T_7f9350a4_f904_11ea_8097_309c234564f5level0_row1\" class=\"row_heading level0 row1\" >1</th>\n",
       "                        <td id=\"T_7f9350a4_f904_11ea_8097_309c234564f5row1_col0\" class=\"data row1 col0\" >0.9350</td>\n",
       "                        <td id=\"T_7f9350a4_f904_11ea_8097_309c234564f5row1_col1\" class=\"data row1 col1\" >0.9833</td>\n",
       "                        <td id=\"T_7f9350a4_f904_11ea_8097_309c234564f5row1_col2\" class=\"data row1 col2\" >0.9436</td>\n",
       "                        <td id=\"T_7f9350a4_f904_11ea_8097_309c234564f5row1_col3\" class=\"data row1 col3\" >0.9276</td>\n",
       "                        <td id=\"T_7f9350a4_f904_11ea_8097_309c234564f5row1_col4\" class=\"data row1 col4\" >0.9355</td>\n",
       "                        <td id=\"T_7f9350a4_f904_11ea_8097_309c234564f5row1_col5\" class=\"data row1 col5\" >0.8699</td>\n",
       "                        <td id=\"T_7f9350a4_f904_11ea_8097_309c234564f5row1_col6\" class=\"data row1 col6\" >0.8700</td>\n",
       "            </tr>\n",
       "            <tr>\n",
       "                        <th id=\"T_7f9350a4_f904_11ea_8097_309c234564f5level0_row2\" class=\"row_heading level0 row2\" >2</th>\n",
       "                        <td id=\"T_7f9350a4_f904_11ea_8097_309c234564f5row2_col0\" class=\"data row2 col0\" >0.9351</td>\n",
       "                        <td id=\"T_7f9350a4_f904_11ea_8097_309c234564f5row2_col1\" class=\"data row2 col1\" >0.9831</td>\n",
       "                        <td id=\"T_7f9350a4_f904_11ea_8097_309c234564f5row2_col2\" class=\"data row2 col2\" >0.9428</td>\n",
       "                        <td id=\"T_7f9350a4_f904_11ea_8097_309c234564f5row2_col3\" class=\"data row2 col3\" >0.9286</td>\n",
       "                        <td id=\"T_7f9350a4_f904_11ea_8097_309c234564f5row2_col4\" class=\"data row2 col4\" >0.9356</td>\n",
       "                        <td id=\"T_7f9350a4_f904_11ea_8097_309c234564f5row2_col5\" class=\"data row2 col5\" >0.8703</td>\n",
       "                        <td id=\"T_7f9350a4_f904_11ea_8097_309c234564f5row2_col6\" class=\"data row2 col6\" >0.8704</td>\n",
       "            </tr>\n",
       "            <tr>\n",
       "                        <th id=\"T_7f9350a4_f904_11ea_8097_309c234564f5level0_row3\" class=\"row_heading level0 row3\" >3</th>\n",
       "                        <td id=\"T_7f9350a4_f904_11ea_8097_309c234564f5row3_col0\" class=\"data row3 col0\" >0.9328</td>\n",
       "                        <td id=\"T_7f9350a4_f904_11ea_8097_309c234564f5row3_col1\" class=\"data row3 col1\" >0.9822</td>\n",
       "                        <td id=\"T_7f9350a4_f904_11ea_8097_309c234564f5row3_col2\" class=\"data row3 col2\" >0.9434</td>\n",
       "                        <td id=\"T_7f9350a4_f904_11ea_8097_309c234564f5row3_col3\" class=\"data row3 col3\" >0.9238</td>\n",
       "                        <td id=\"T_7f9350a4_f904_11ea_8097_309c234564f5row3_col4\" class=\"data row3 col4\" >0.9335</td>\n",
       "                        <td id=\"T_7f9350a4_f904_11ea_8097_309c234564f5row3_col5\" class=\"data row3 col5\" >0.8656</td>\n",
       "                        <td id=\"T_7f9350a4_f904_11ea_8097_309c234564f5row3_col6\" class=\"data row3 col6\" >0.8658</td>\n",
       "            </tr>\n",
       "            <tr>\n",
       "                        <th id=\"T_7f9350a4_f904_11ea_8097_309c234564f5level0_row4\" class=\"row_heading level0 row4\" >4</th>\n",
       "                        <td id=\"T_7f9350a4_f904_11ea_8097_309c234564f5row4_col0\" class=\"data row4 col0\" >0.9343</td>\n",
       "                        <td id=\"T_7f9350a4_f904_11ea_8097_309c234564f5row4_col1\" class=\"data row4 col1\" >0.9829</td>\n",
       "                        <td id=\"T_7f9350a4_f904_11ea_8097_309c234564f5row4_col2\" class=\"data row4 col2\" >0.9433</td>\n",
       "                        <td id=\"T_7f9350a4_f904_11ea_8097_309c234564f5row4_col3\" class=\"data row4 col3\" >0.9267</td>\n",
       "                        <td id=\"T_7f9350a4_f904_11ea_8097_309c234564f5row4_col4\" class=\"data row4 col4\" >0.9349</td>\n",
       "                        <td id=\"T_7f9350a4_f904_11ea_8097_309c234564f5row4_col5\" class=\"data row4 col5\" >0.8687</td>\n",
       "                        <td id=\"T_7f9350a4_f904_11ea_8097_309c234564f5row4_col6\" class=\"data row4 col6\" >0.8688</td>\n",
       "            </tr>\n",
       "            <tr>\n",
       "                        <th id=\"T_7f9350a4_f904_11ea_8097_309c234564f5level0_row5\" class=\"row_heading level0 row5\" >5</th>\n",
       "                        <td id=\"T_7f9350a4_f904_11ea_8097_309c234564f5row5_col0\" class=\"data row5 col0\" >0.9344</td>\n",
       "                        <td id=\"T_7f9350a4_f904_11ea_8097_309c234564f5row5_col1\" class=\"data row5 col1\" >0.9830</td>\n",
       "                        <td id=\"T_7f9350a4_f904_11ea_8097_309c234564f5row5_col2\" class=\"data row5 col2\" >0.9429</td>\n",
       "                        <td id=\"T_7f9350a4_f904_11ea_8097_309c234564f5row5_col3\" class=\"data row5 col3\" >0.9271</td>\n",
       "                        <td id=\"T_7f9350a4_f904_11ea_8097_309c234564f5row5_col4\" class=\"data row5 col4\" >0.9349</td>\n",
       "                        <td id=\"T_7f9350a4_f904_11ea_8097_309c234564f5row5_col5\" class=\"data row5 col5\" >0.8687</td>\n",
       "                        <td id=\"T_7f9350a4_f904_11ea_8097_309c234564f5row5_col6\" class=\"data row5 col6\" >0.8688</td>\n",
       "            </tr>\n",
       "            <tr>\n",
       "                        <th id=\"T_7f9350a4_f904_11ea_8097_309c234564f5level0_row6\" class=\"row_heading level0 row6\" >6</th>\n",
       "                        <td id=\"T_7f9350a4_f904_11ea_8097_309c234564f5row6_col0\" class=\"data row6 col0\" >0.9338</td>\n",
       "                        <td id=\"T_7f9350a4_f904_11ea_8097_309c234564f5row6_col1\" class=\"data row6 col1\" >0.9825</td>\n",
       "                        <td id=\"T_7f9350a4_f904_11ea_8097_309c234564f5row6_col2\" class=\"data row6 col2\" >0.9418</td>\n",
       "                        <td id=\"T_7f9350a4_f904_11ea_8097_309c234564f5row6_col3\" class=\"data row6 col3\" >0.9270</td>\n",
       "                        <td id=\"T_7f9350a4_f904_11ea_8097_309c234564f5row6_col4\" class=\"data row6 col4\" >0.9343</td>\n",
       "                        <td id=\"T_7f9350a4_f904_11ea_8097_309c234564f5row6_col5\" class=\"data row6 col5\" >0.8676</td>\n",
       "                        <td id=\"T_7f9350a4_f904_11ea_8097_309c234564f5row6_col6\" class=\"data row6 col6\" >0.8677</td>\n",
       "            </tr>\n",
       "            <tr>\n",
       "                        <th id=\"T_7f9350a4_f904_11ea_8097_309c234564f5level0_row7\" class=\"row_heading level0 row7\" >7</th>\n",
       "                        <td id=\"T_7f9350a4_f904_11ea_8097_309c234564f5row7_col0\" class=\"data row7 col0\" >0.9353</td>\n",
       "                        <td id=\"T_7f9350a4_f904_11ea_8097_309c234564f5row7_col1\" class=\"data row7 col1\" >0.9836</td>\n",
       "                        <td id=\"T_7f9350a4_f904_11ea_8097_309c234564f5row7_col2\" class=\"data row7 col2\" >0.9459</td>\n",
       "                        <td id=\"T_7f9350a4_f904_11ea_8097_309c234564f5row7_col3\" class=\"data row7 col3\" >0.9264</td>\n",
       "                        <td id=\"T_7f9350a4_f904_11ea_8097_309c234564f5row7_col4\" class=\"data row7 col4\" >0.9360</td>\n",
       "                        <td id=\"T_7f9350a4_f904_11ea_8097_309c234564f5row7_col5\" class=\"data row7 col5\" >0.8707</td>\n",
       "                        <td id=\"T_7f9350a4_f904_11ea_8097_309c234564f5row7_col6\" class=\"data row7 col6\" >0.8709</td>\n",
       "            </tr>\n",
       "            <tr>\n",
       "                        <th id=\"T_7f9350a4_f904_11ea_8097_309c234564f5level0_row8\" class=\"row_heading level0 row8\" >8</th>\n",
       "                        <td id=\"T_7f9350a4_f904_11ea_8097_309c234564f5row8_col0\" class=\"data row8 col0\" >0.9341</td>\n",
       "                        <td id=\"T_7f9350a4_f904_11ea_8097_309c234564f5row8_col1\" class=\"data row8 col1\" >0.9834</td>\n",
       "                        <td id=\"T_7f9350a4_f904_11ea_8097_309c234564f5row8_col2\" class=\"data row8 col2\" >0.9440</td>\n",
       "                        <td id=\"T_7f9350a4_f904_11ea_8097_309c234564f5row8_col3\" class=\"data row8 col3\" >0.9257</td>\n",
       "                        <td id=\"T_7f9350a4_f904_11ea_8097_309c234564f5row8_col4\" class=\"data row8 col4\" >0.9348</td>\n",
       "                        <td id=\"T_7f9350a4_f904_11ea_8097_309c234564f5row8_col5\" class=\"data row8 col5\" >0.8682</td>\n",
       "                        <td id=\"T_7f9350a4_f904_11ea_8097_309c234564f5row8_col6\" class=\"data row8 col6\" >0.8684</td>\n",
       "            </tr>\n",
       "            <tr>\n",
       "                        <th id=\"T_7f9350a4_f904_11ea_8097_309c234564f5level0_row9\" class=\"row_heading level0 row9\" >9</th>\n",
       "                        <td id=\"T_7f9350a4_f904_11ea_8097_309c234564f5row9_col0\" class=\"data row9 col0\" >0.9357</td>\n",
       "                        <td id=\"T_7f9350a4_f904_11ea_8097_309c234564f5row9_col1\" class=\"data row9 col1\" >0.9836</td>\n",
       "                        <td id=\"T_7f9350a4_f904_11ea_8097_309c234564f5row9_col2\" class=\"data row9 col2\" >0.9445</td>\n",
       "                        <td id=\"T_7f9350a4_f904_11ea_8097_309c234564f5row9_col3\" class=\"data row9 col3\" >0.9281</td>\n",
       "                        <td id=\"T_7f9350a4_f904_11ea_8097_309c234564f5row9_col4\" class=\"data row9 col4\" >0.9363</td>\n",
       "                        <td id=\"T_7f9350a4_f904_11ea_8097_309c234564f5row9_col5\" class=\"data row9 col5\" >0.8714</td>\n",
       "                        <td id=\"T_7f9350a4_f904_11ea_8097_309c234564f5row9_col6\" class=\"data row9 col6\" >0.8715</td>\n",
       "            </tr>\n",
       "            <tr>\n",
       "                        <th id=\"T_7f9350a4_f904_11ea_8097_309c234564f5level0_row10\" class=\"row_heading level0 row10\" >Mean</th>\n",
       "                        <td id=\"T_7f9350a4_f904_11ea_8097_309c234564f5row10_col0\" class=\"data row10 col0\" >0.9348</td>\n",
       "                        <td id=\"T_7f9350a4_f904_11ea_8097_309c234564f5row10_col1\" class=\"data row10 col1\" >0.9832</td>\n",
       "                        <td id=\"T_7f9350a4_f904_11ea_8097_309c234564f5row10_col2\" class=\"data row10 col2\" >0.9438</td>\n",
       "                        <td id=\"T_7f9350a4_f904_11ea_8097_309c234564f5row10_col3\" class=\"data row10 col3\" >0.9271</td>\n",
       "                        <td id=\"T_7f9350a4_f904_11ea_8097_309c234564f5row10_col4\" class=\"data row10 col4\" >0.9354</td>\n",
       "                        <td id=\"T_7f9350a4_f904_11ea_8097_309c234564f5row10_col5\" class=\"data row10 col5\" >0.8696</td>\n",
       "                        <td id=\"T_7f9350a4_f904_11ea_8097_309c234564f5row10_col6\" class=\"data row10 col6\" >0.8698</td>\n",
       "            </tr>\n",
       "            <tr>\n",
       "                        <th id=\"T_7f9350a4_f904_11ea_8097_309c234564f5level0_row11\" class=\"row_heading level0 row11\" >SD</th>\n",
       "                        <td id=\"T_7f9350a4_f904_11ea_8097_309c234564f5row11_col0\" class=\"data row11 col0\" >0.0012</td>\n",
       "                        <td id=\"T_7f9350a4_f904_11ea_8097_309c234564f5row11_col1\" class=\"data row11 col1\" >0.0006</td>\n",
       "                        <td id=\"T_7f9350a4_f904_11ea_8097_309c234564f5row11_col2\" class=\"data row11 col2\" >0.0013</td>\n",
       "                        <td id=\"T_7f9350a4_f904_11ea_8097_309c234564f5row11_col3\" class=\"data row11 col3\" >0.0016</td>\n",
       "                        <td id=\"T_7f9350a4_f904_11ea_8097_309c234564f5row11_col4\" class=\"data row11 col4\" >0.0012</td>\n",
       "                        <td id=\"T_7f9350a4_f904_11ea_8097_309c234564f5row11_col5\" class=\"data row11 col5\" >0.0025</td>\n",
       "                        <td id=\"T_7f9350a4_f904_11ea_8097_309c234564f5row11_col6\" class=\"data row11 col6\" >0.0024</td>\n",
       "            </tr>\n",
       "    </tbody></table>"
      ],
      "text/plain": [
       "<pandas.io.formats.style.Styler at 0x1e044070c50>"
      ]
     },
     "metadata": {},
     "output_type": "display_data"
    }
   ],
   "source": [
    "tuned_et = tune_model(et)"
   ]
  },
  {
   "cell_type": "markdown",
   "metadata": {},
   "source": [
    "## Evaluate Models"
   ]
  },
  {
   "cell_type": "code",
   "execution_count": 78,
   "metadata": {},
   "outputs": [
    {
     "data": {
      "image/png": "[encoded data removed]",
      "text/plain": [
       "<Figure size 576x396 with 1 Axes>"
      ]
     },
     "metadata": {},
     "output_type": "display_data"
    }
   ],
   "source": [
    "plot_model(tuned_et)"
   ]
  },
  {
   "cell_type": "code",
   "execution_count": 79,
   "metadata": {},
   "outputs": [],
   "source": [
    "#plot_model(et, plot = 'threshold')"
   ]
  },
  {
   "cell_type": "code",
   "execution_count": 80,
   "metadata": {},
   "outputs": [
    {
     "data": {
      "image/png": "[encoded data removed]",
      "text/plain": [
       "<Figure size 576x396 with 1 Axes>"
      ]
     },
     "metadata": {},
     "output_type": "display_data"
    }
   ],
   "source": [
    "plot_model(tuned_et, plot = 'pr')"
   ]
  },
  {
   "cell_type": "code",
   "execution_count": 81,
   "metadata": {},
   "outputs": [
    {
     "data": {
      "image/png": "[encoded data removed]",
      "text/plain": [
       "<Figure size 576x396 with 1 Axes>"
      ]
     },
     "metadata": {},
     "output_type": "display_data"
    }
   ],
   "source": [
    "plot_model(tuned_et, plot='confusion_matrix')"
   ]
  },
  {
   "cell_type": "code",
   "execution_count": 82,
   "metadata": {},
   "outputs": [
    {
     "data": {
      "image/png": "[encoded data removed]",
      "text/plain": [
       "<Figure size 576x396 with 1 Axes>"
      ]
     },
     "metadata": {},
     "output_type": "display_data"
    }
   ],
   "source": [
    "plot_model(tuned_et, plot = 'error')"
   ]
  },
  {
   "cell_type": "code",
   "execution_count": 83,
   "metadata": {},
   "outputs": [
    {
     "data": {
      "image/png": "[encoded data removed]",
      "text/plain": [
       "<Figure size 576x396 with 2 Axes>"
      ]
     },
     "metadata": {},
     "output_type": "display_data"
    }
   ],
   "source": [
    "plot_model(tuned_et, plot = 'class_report')"
   ]
  },
  {
   "cell_type": "code",
   "execution_count": 85,
   "metadata": {},
   "outputs": [],
   "source": [
    "#plot_model(tuned_et, plot = 'boundary')"
   ]
  },
  {
   "cell_type": "code",
   "execution_count": null,
   "metadata": {},
   "outputs": [],
   "source": [
    "#plot_model(et, plot='learning')"
   ]
  },
  {
   "cell_type": "code",
   "execution_count": null,
   "metadata": {},
   "outputs": [],
   "source": [
    "#plot_model(et, plot = 'manifold')"
   ]
  },
  {
   "cell_type": "code",
   "execution_count": null,
   "metadata": {},
   "outputs": [],
   "source": [
    "#plot_model(et, plot = 'calibration')"
   ]
  },
  {
   "cell_type": "code",
   "execution_count": null,
   "metadata": {},
   "outputs": [],
   "source": [
    "#plot_model(et, plot = 'vc')"
   ]
  },
  {
   "cell_type": "code",
   "execution_count": null,
   "metadata": {},
   "outputs": [],
   "source": [
    "#plot_model(et, plot='dimension')"
   ]
  },
  {
   "cell_type": "code",
   "execution_count": 86,
   "metadata": {},
   "outputs": [
    {
     "data": {
      "image/png": "[encoded data removed]",
      "text/plain": [
       "<Figure size 576x360 with 1 Axes>"
      ]
     },
     "metadata": {},
     "output_type": "display_data"
    }
   ],
   "source": [
    "plot_model(tuned_et, plot = 'feature')"
   ]
  },
  {
   "cell_type": "code",
   "execution_count": 87,
   "metadata": {
    "scrolled": false
   },
   "outputs": [
    {
     "data": {
      "text/html": [
       "<div>\n",
       "<style scoped>\n",
       "    .dataframe tbody tr th:only-of-type {\n",
       "        vertical-align: middle;\n",
       "    }\n",
       "\n",
       "    .dataframe tbody tr th {\n",
       "        vertical-align: top;\n",
       "    }\n",
       "\n",
       "    .dataframe thead th {\n",
       "        text-align: right;\n",
       "    }\n",
       "</style>\n",
       "<table border=\"1\" class=\"dataframe\">\n",
       "  <thead>\n",
       "    <tr style=\"text-align: right;\">\n",
       "      <th></th>\n",
       "      <th>Parameters</th>\n",
       "    </tr>\n",
       "  </thead>\n",
       "  <tbody>\n",
       "    <tr>\n",
       "      <th>bootstrap</th>\n",
       "      <td>False</td>\n",
       "    </tr>\n",
       "    <tr>\n",
       "      <th>ccp_alpha</th>\n",
       "      <td>0</td>\n",
       "    </tr>\n",
       "    <tr>\n",
       "      <th>class_weight</th>\n",
       "      <td>None</td>\n",
       "    </tr>\n",
       "    <tr>\n",
       "      <th>criterion</th>\n",
       "      <td>entropy</td>\n",
       "    </tr>\n",
       "    <tr>\n",
       "      <th>max_depth</th>\n",
       "      <td>70</td>\n",
       "    </tr>\n",
       "    <tr>\n",
       "      <th>max_features</th>\n",
       "      <td>auto</td>\n",
       "    </tr>\n",
       "    <tr>\n",
       "      <th>max_leaf_nodes</th>\n",
       "      <td>None</td>\n",
       "    </tr>\n",
       "    <tr>\n",
       "      <th>max_samples</th>\n",
       "      <td>None</td>\n",
       "    </tr>\n",
       "    <tr>\n",
       "      <th>min_impurity_decrease</th>\n",
       "      <td>0</td>\n",
       "    </tr>\n",
       "    <tr>\n",
       "      <th>min_impurity_split</th>\n",
       "      <td>None</td>\n",
       "    </tr>\n",
       "    <tr>\n",
       "      <th>min_samples_leaf</th>\n",
       "      <td>1</td>\n",
       "    </tr>\n",
       "    <tr>\n",
       "      <th>min_samples_split</th>\n",
       "      <td>2</td>\n",
       "    </tr>\n",
       "    <tr>\n",
       "      <th>min_weight_fraction_leaf</th>\n",
       "      <td>0</td>\n",
       "    </tr>\n",
       "    <tr>\n",
       "      <th>n_estimators</th>\n",
       "      <td>50</td>\n",
       "    </tr>\n",
       "    <tr>\n",
       "      <th>n_jobs</th>\n",
       "      <td>-1</td>\n",
       "    </tr>\n",
       "    <tr>\n",
       "      <th>oob_score</th>\n",
       "      <td>False</td>\n",
       "    </tr>\n",
       "    <tr>\n",
       "      <th>random_state</th>\n",
       "      <td>3264</td>\n",
       "    </tr>\n",
       "    <tr>\n",
       "      <th>verbose</th>\n",
       "      <td>0</td>\n",
       "    </tr>\n",
       "    <tr>\n",
       "      <th>warm_start</th>\n",
       "      <td>False</td>\n",
       "    </tr>\n",
       "  </tbody>\n",
       "</table>\n",
       "</div>"
      ],
      "text/plain": [
       "                         Parameters\n",
       "bootstrap                     False\n",
       "ccp_alpha                         0\n",
       "class_weight                   None\n",
       "criterion                   entropy\n",
       "max_depth                        70\n",
       "max_features                   auto\n",
       "max_leaf_nodes                 None\n",
       "max_samples                    None\n",
       "min_impurity_decrease             0\n",
       "min_impurity_split             None\n",
       "min_samples_leaf                  1\n",
       "min_samples_split                 2\n",
       "min_weight_fraction_leaf          0\n",
       "n_estimators                     50\n",
       "n_jobs                           -1\n",
       "oob_score                     False\n",
       "random_state                   3264\n",
       "verbose                           0\n",
       "warm_start                    False"
      ]
     },
     "metadata": {},
     "output_type": "display_data"
    }
   ],
   "source": [
    "plot_model(tuned_et, plot = 'parameter')"
   ]
  },
  {
   "cell_type": "code",
   "execution_count": null,
   "metadata": {},
   "outputs": [],
   "source": []
  },
  {
   "cell_type": "code",
   "execution_count": null,
   "metadata": {},
   "outputs": [],
   "source": []
  },
  {
   "cell_type": "code",
   "execution_count": null,
   "metadata": {},
   "outputs": [],
   "source": []
  },
  {
   "cell_type": "markdown",
   "metadata": {},
   "source": [
    "# Predict models"
   ]
  },
  {
   "cell_type": "markdown",
   "metadata": {},
   "source": [
    "# The golden moment... put 10% sample test data through the models..."
   ]
  },
  {
   "cell_type": "markdown",
   "metadata": {},
   "source": [
    "# Recombine test_features, test_target at first train/test/split\n",
    " This \"test\" set was split BEFORE Oversampling. PyCaret takes the \"train\" from this split and splits it internally again. Since we have no control of how PyCaret does this we needed to do a train/test split before we input the training set into PyCaret. Now we will recombine the test_features and test_target into one new df"
   ]
  },
  {
   "cell_type": "code",
   "execution_count": 57,
   "metadata": {},
   "outputs": [
    {
     "data": {
      "text/plain": [
       "(163923, 31)"
      ]
     },
     "execution_count": 57,
     "metadata": {},
     "output_type": "execute_result"
    }
   ],
   "source": [
    "test_features.shape"
   ]
  },
  {
   "cell_type": "code",
   "execution_count": 58,
   "metadata": {},
   "outputs": [
    {
     "data": {
      "text/plain": [
       "(163923,)"
      ]
     },
     "execution_count": 58,
     "metadata": {},
     "output_type": "execute_result"
    }
   ],
   "source": [
    "test_target.shape"
   ]
  },
  {
   "cell_type": "code",
   "execution_count": 59,
   "metadata": {},
   "outputs": [],
   "source": [
    "test_df = test_features.copy()"
   ]
  },
  {
   "cell_type": "code",
   "execution_count": 60,
   "metadata": {},
   "outputs": [],
   "source": [
    "test_df['zeroBalCode'] = test_target"
   ]
  },
  {
   "cell_type": "code",
   "execution_count": 61,
   "metadata": {},
   "outputs": [
    {
     "data": {
      "text/plain": [
       "(163923, 32)"
      ]
     },
     "execution_count": 61,
     "metadata": {},
     "output_type": "execute_result"
    }
   ],
   "source": [
    "test_df.shape"
   ]
  },
  {
   "cell_type": "code",
   "execution_count": 62,
   "metadata": {
    "scrolled": true
   },
   "outputs": [
    {
     "name": "stdout",
     "output_type": "stream",
     "text": [
      "#############################################\n",
      "This \"Test\" set has not been oversamplied\n",
      "0    148046\n",
      "1     15877\n",
      "Name: zeroBalCode, dtype: int64\n",
      "Positive samples are 9.69%\n"
     ]
    }
   ],
   "source": [
    "totalTestCount = test_df.zeroBalCode.value_counts().sum()\n",
    "posTestCount = test_df.zeroBalCode.value_counts()[1]\n",
    "print('#############################################')\n",
    "print('This \"Test\" set has not been oversamplied')\n",
    "print(test_df.zeroBalCode.value_counts())\n",
    "print(f'Positive samples are {round(posTestCount/totalTestCount*100,2)}%')"
   ]
  },
  {
   "cell_type": "code",
   "execution_count": 63,
   "metadata": {
    "scrolled": true
   },
   "outputs": [],
   "source": [
    "#plot_model(qda, plot = 'feature')"
   ]
  },
  {
   "cell_type": "code",
   "execution_count": null,
   "metadata": {},
   "outputs": [],
   "source": []
  },
  {
   "cell_type": "markdown",
   "metadata": {},
   "source": [
    "## Create Confusion Matrix output functions"
   ]
  },
  {
   "cell_type": "code",
   "execution_count": 64,
   "metadata": {},
   "outputs": [],
   "source": [
    "def calc_confusion(row):\n",
    "    if ((row['zeroBalCode'] == 0) & (row['Label'] == 0)):\n",
    "        value = 'TrueNegative'\n",
    "    elif ((row['zeroBalCode'] == 0) & (row['Label'] == 1)):\n",
    "        value = 'FalsePositive'\n",
    "    elif ((row['zeroBalCode'] == 1) & (row['Label'] == 1)):\n",
    "        value = 'TruePositive'\n",
    "    elif ((row['zeroBalCode'] == 1) & (row['Label'] == 0)):\n",
    "        value = 'FalseNegative'\n",
    "    else:\n",
    "        value = 'Undefined'\n",
    "    return value"
   ]
  },
  {
   "cell_type": "code",
   "execution_count": 65,
   "metadata": {},
   "outputs": [],
   "source": [
    "def cM(df):\n",
    "    print(f'           ##############################')\n",
    "    print(f'           #             #              #')\n",
    "    print(f'         0 #    {df[\"TrueNegative\"]}     #     {df[\"FalseNegative\"]}      #')\n",
    "    print(f'  True     #             #              #')\n",
    "    print(f'  Class    ##############################')\n",
    "    print(f'           #             #              #')\n",
    "    print(f'         1 #    {df[\"FalsePositive\"]}      #     {df[\"TruePositive\"]}      #')\n",
    "    print(f'           #             #              #')\n",
    "    print(f'           ##############################')\n",
    "    print(f'                  0              1        ')\n",
    "    print(f'                  Predicted Class           ')\n"
   ]
  },
  {
   "cell_type": "code",
   "execution_count": 66,
   "metadata": {},
   "outputs": [],
   "source": [
    "def cMCalc():\n",
    "    # 0 or 2 = Predict equals truth, 1 = Predict doesn't equal truth\n",
    "    totalNegative = confusionMatrix['TrueNegative'] + confusionMatrix['FalseNegative']\n",
    "    totalPositive = confusionMatrix['TruePositive'] + confusionMatrix['FalsePositive']\n",
    "    total = totalNegative + totalPositive\n",
    "    trueNegativePct = confusionMatrix['TrueNegative'] / total * 100\n",
    "    falseNegativePct = confusionMatrix['FalseNegative'] / total * 100\n",
    "    truePositivePct = confusionMatrix['TruePositive'] / total * 100\n",
    "    falsePositivePct = confusionMatrix['FalsePositive'] / total * 100\n",
    "\n",
    "    # Accuracy Calculation\n",
    "    accuracy = (confusionMatrix['TruePositive'] + confusionMatrix['TrueNegative'])/(totalPositive + totalNegative)\n",
    "    # Recall Calculation\n",
    "    recall = (confusionMatrix['TruePositive']/(confusionMatrix['TruePositive'] + confusionMatrix['FalseNegative']))\n",
    "    # Precision Calculation\n",
    "    precision = (confusionMatrix['TruePositive']/(confusionMatrix['TruePositive'] + confusionMatrix['FalsePositive']))\n",
    "\n",
    "    print(f'TrueNegative:  {round(trueNegativePct,2)}%')\n",
    "    print(f'FalseNegative:  {round(falseNegativePct,2)}%')\n",
    "    print(f'TruePositive:   {round(truePositivePct,2)}%')\n",
    "    print(f'FalsePositive: {round(falsePositivePct,2)}%')\n",
    "    print(f'#####################################################')\n",
    "    print(f'Accuracy: {round(accuracy,2)*100}%   Recall: {round(recall,2)*100}%   Precision: {round(precision,2)*100}%')\n",
    "    print(f'#####################################################')"
   ]
  },
  {
   "cell_type": "markdown",
   "metadata": {},
   "source": [
    "# Evaluate Models"
   ]
  },
  {
   "cell_type": "markdown",
   "metadata": {},
   "source": [
    "# Extra Trees Classifier"
   ]
  },
  {
   "cell_type": "code",
   "execution_count": 67,
   "metadata": {},
   "outputs": [],
   "source": [
    "predictions = predict_model(et, data=test_df)"
   ]
  },
  {
   "cell_type": "code",
   "execution_count": 68,
   "metadata": {},
   "outputs": [
    {
     "data": {
      "text/html": [
       "<div>\n",
       "<style scoped>\n",
       "    .dataframe tbody tr th:only-of-type {\n",
       "        vertical-align: middle;\n",
       "    }\n",
       "\n",
       "    .dataframe tbody tr th {\n",
       "        vertical-align: top;\n",
       "    }\n",
       "\n",
       "    .dataframe thead th {\n",
       "        text-align: right;\n",
       "    }\n",
       "</style>\n",
       "<table border=\"1\" class=\"dataframe\">\n",
       "  <thead>\n",
       "    <tr style=\"text-align: right;\">\n",
       "      <th></th>\n",
       "      <th>origChannel</th>\n",
       "      <th>sellerName</th>\n",
       "      <th>origIntRate</th>\n",
       "      <th>origUPB</th>\n",
       "      <th>origLoanTerm</th>\n",
       "      <th>origLTV</th>\n",
       "      <th>origCLTV</th>\n",
       "      <th>numBorrowers</th>\n",
       "      <th>origDebtIncRatio</th>\n",
       "      <th>loanPurp</th>\n",
       "      <th>propState</th>\n",
       "      <th>zipCode</th>\n",
       "      <th>pMIperct</th>\n",
       "      <th>mortInsType</th>\n",
       "      <th>bestCreditScore</th>\n",
       "      <th>worstCreditScore</th>\n",
       "      <th>avgCreditScore</th>\n",
       "      <th>loanAge</th>\n",
       "      <th>mSA</th>\n",
       "      <th>fmacRateMax</th>\n",
       "      <th>fmacRateMin</th>\n",
       "      <th>fmacRateAvg</th>\n",
       "      <th>fmacRateVolatility</th>\n",
       "      <th>rateDiffAbove</th>\n",
       "      <th>rateDiffBelow</th>\n",
       "      <th>rateDiffAvg</th>\n",
       "      <th>rateDiffAbovePct</th>\n",
       "      <th>rateDiffBelowPct</th>\n",
       "      <th>rateDiffAvgPct</th>\n",
       "      <th>origYear</th>\n",
       "      <th>origMonth</th>\n",
       "      <th>zeroBalCode</th>\n",
       "      <th>Label</th>\n",
       "      <th>Score</th>\n",
       "    </tr>\n",
       "  </thead>\n",
       "  <tbody>\n",
       "    <tr>\n",
       "      <th>0</th>\n",
       "      <td>C</td>\n",
       "      <td>SUNTRUST MORTGAGE INC.</td>\n",
       "      <td>5.250</td>\n",
       "      <td>70000</td>\n",
       "      <td>180</td>\n",
       "      <td>65</td>\n",
       "      <td>65</td>\n",
       "      <td>1</td>\n",
       "      <td>25</td>\n",
       "      <td>C</td>\n",
       "      <td>WA</td>\n",
       "      <td>986</td>\n",
       "      <td>0.0</td>\n",
       "      <td>0</td>\n",
       "      <td>757</td>\n",
       "      <td>757</td>\n",
       "      <td>757</td>\n",
       "      <td>127</td>\n",
       "      <td>38900</td>\n",
       "      <td>5.85</td>\n",
       "      <td>5.79</td>\n",
       "      <td>5.8125</td>\n",
       "      <td>0.010363</td>\n",
       "      <td>-0.600</td>\n",
       "      <td>0.540</td>\n",
       "      <td>-0.5625</td>\n",
       "      <td>-0.102564</td>\n",
       "      <td>0.093264</td>\n",
       "      <td>-0.096774</td>\n",
       "      <td>2003</td>\n",
       "      <td>4</td>\n",
       "      <td>0</td>\n",
       "      <td>0</td>\n",
       "      <td>0.05</td>\n",
       "    </tr>\n",
       "    <tr>\n",
       "      <th>1</th>\n",
       "      <td>C</td>\n",
       "      <td>JPMORGAN CHASE BANK, NA</td>\n",
       "      <td>5.875</td>\n",
       "      <td>150000</td>\n",
       "      <td>360</td>\n",
       "      <td>53</td>\n",
       "      <td>53</td>\n",
       "      <td>1</td>\n",
       "      <td>27</td>\n",
       "      <td>P</td>\n",
       "      <td>CA</td>\n",
       "      <td>921</td>\n",
       "      <td>0.0</td>\n",
       "      <td>0</td>\n",
       "      <td>780</td>\n",
       "      <td>780</td>\n",
       "      <td>780</td>\n",
       "      <td>71</td>\n",
       "      <td>41740</td>\n",
       "      <td>5.85</td>\n",
       "      <td>5.79</td>\n",
       "      <td>5.8125</td>\n",
       "      <td>0.010363</td>\n",
       "      <td>0.025</td>\n",
       "      <td>-0.085</td>\n",
       "      <td>0.0625</td>\n",
       "      <td>0.004274</td>\n",
       "      <td>-0.014680</td>\n",
       "      <td>0.010753</td>\n",
       "      <td>2003</td>\n",
       "      <td>4</td>\n",
       "      <td>0</td>\n",
       "      <td>0</td>\n",
       "      <td>0.09</td>\n",
       "    </tr>\n",
       "    <tr>\n",
       "      <th>2</th>\n",
       "      <td>R</td>\n",
       "      <td>OTHER</td>\n",
       "      <td>7.875</td>\n",
       "      <td>180000</td>\n",
       "      <td>360</td>\n",
       "      <td>64</td>\n",
       "      <td>64</td>\n",
       "      <td>1</td>\n",
       "      <td>54</td>\n",
       "      <td>C</td>\n",
       "      <td>FL</td>\n",
       "      <td>331</td>\n",
       "      <td>0.0</td>\n",
       "      <td>0</td>\n",
       "      <td>603</td>\n",
       "      <td>603</td>\n",
       "      <td>603</td>\n",
       "      <td>28</td>\n",
       "      <td>33100</td>\n",
       "      <td>7.65</td>\n",
       "      <td>7.13</td>\n",
       "      <td>7.3820</td>\n",
       "      <td>0.072931</td>\n",
       "      <td>0.225</td>\n",
       "      <td>-0.745</td>\n",
       "      <td>0.4930</td>\n",
       "      <td>0.029412</td>\n",
       "      <td>-0.104488</td>\n",
       "      <td>0.066784</td>\n",
       "      <td>2000</td>\n",
       "      <td>12</td>\n",
       "      <td>0</td>\n",
       "      <td>0</td>\n",
       "      <td>0.11</td>\n",
       "    </tr>\n",
       "    <tr>\n",
       "      <th>3</th>\n",
       "      <td>C</td>\n",
       "      <td>WELLS FARGO BANK, N.A.</td>\n",
       "      <td>5.000</td>\n",
       "      <td>233000</td>\n",
       "      <td>360</td>\n",
       "      <td>60</td>\n",
       "      <td>60</td>\n",
       "      <td>2</td>\n",
       "      <td>25</td>\n",
       "      <td>R</td>\n",
       "      <td>CA</td>\n",
       "      <td>926</td>\n",
       "      <td>0.0</td>\n",
       "      <td>0</td>\n",
       "      <td>759</td>\n",
       "      <td>759</td>\n",
       "      <td>759</td>\n",
       "      <td>108</td>\n",
       "      <td>31100</td>\n",
       "      <td>5.26</td>\n",
       "      <td>5.21</td>\n",
       "      <td>5.2300</td>\n",
       "      <td>0.009597</td>\n",
       "      <td>-0.260</td>\n",
       "      <td>0.210</td>\n",
       "      <td>-0.2300</td>\n",
       "      <td>-0.049430</td>\n",
       "      <td>0.040307</td>\n",
       "      <td>-0.043977</td>\n",
       "      <td>2003</td>\n",
       "      <td>6</td>\n",
       "      <td>0</td>\n",
       "      <td>0</td>\n",
       "      <td>0.13</td>\n",
       "    </tr>\n",
       "    <tr>\n",
       "      <th>4</th>\n",
       "      <td>R</td>\n",
       "      <td>JPMORGAN CHASE BANK, NA</td>\n",
       "      <td>6.500</td>\n",
       "      <td>147000</td>\n",
       "      <td>360</td>\n",
       "      <td>80</td>\n",
       "      <td>80</td>\n",
       "      <td>1</td>\n",
       "      <td>26</td>\n",
       "      <td>P</td>\n",
       "      <td>GA</td>\n",
       "      <td>300</td>\n",
       "      <td>0.0</td>\n",
       "      <td>0</td>\n",
       "      <td>756</td>\n",
       "      <td>756</td>\n",
       "      <td>756</td>\n",
       "      <td>132</td>\n",
       "      <td>12060</td>\n",
       "      <td>7.14</td>\n",
       "      <td>7.01</td>\n",
       "      <td>7.0775</td>\n",
       "      <td>0.018545</td>\n",
       "      <td>-0.640</td>\n",
       "      <td>0.510</td>\n",
       "      <td>-0.5775</td>\n",
       "      <td>-0.089636</td>\n",
       "      <td>0.072753</td>\n",
       "      <td>-0.081597</td>\n",
       "      <td>2001</td>\n",
       "      <td>4</td>\n",
       "      <td>0</td>\n",
       "      <td>0</td>\n",
       "      <td>0.16</td>\n",
       "    </tr>\n",
       "  </tbody>\n",
       "</table>\n",
       "</div>"
      ],
      "text/plain": [
       "  origChannel               sellerName  origIntRate  origUPB  origLoanTerm  \\\n",
       "0           C   SUNTRUST MORTGAGE INC.        5.250    70000           180   \n",
       "1           C  JPMORGAN CHASE BANK, NA        5.875   150000           360   \n",
       "2           R                    OTHER        7.875   180000           360   \n",
       "3           C   WELLS FARGO BANK, N.A.        5.000   233000           360   \n",
       "4           R  JPMORGAN CHASE BANK, NA        6.500   147000           360   \n",
       "\n",
       "   origLTV  origCLTV  numBorrowers  origDebtIncRatio loanPurp propState  \\\n",
       "0       65        65             1                25        C        WA   \n",
       "1       53        53             1                27        P        CA   \n",
       "2       64        64             1                54        C        FL   \n",
       "3       60        60             2                25        R        CA   \n",
       "4       80        80             1                26        P        GA   \n",
       "\n",
       "   zipCode  pMIperct  mortInsType  bestCreditScore  worstCreditScore  \\\n",
       "0      986       0.0            0              757               757   \n",
       "1      921       0.0            0              780               780   \n",
       "2      331       0.0            0              603               603   \n",
       "3      926       0.0            0              759               759   \n",
       "4      300       0.0            0              756               756   \n",
       "\n",
       "   avgCreditScore  loanAge    mSA  fmacRateMax  fmacRateMin  fmacRateAvg  \\\n",
       "0             757      127  38900         5.85         5.79       5.8125   \n",
       "1             780       71  41740         5.85         5.79       5.8125   \n",
       "2             603       28  33100         7.65         7.13       7.3820   \n",
       "3             759      108  31100         5.26         5.21       5.2300   \n",
       "4             756      132  12060         7.14         7.01       7.0775   \n",
       "\n",
       "   fmacRateVolatility  rateDiffAbove  rateDiffBelow  rateDiffAvg  \\\n",
       "0            0.010363         -0.600          0.540      -0.5625   \n",
       "1            0.010363          0.025         -0.085       0.0625   \n",
       "2            0.072931          0.225         -0.745       0.4930   \n",
       "3            0.009597         -0.260          0.210      -0.2300   \n",
       "4            0.018545         -0.640          0.510      -0.5775   \n",
       "\n",
       "   rateDiffAbovePct  rateDiffBelowPct  rateDiffAvgPct  origYear  origMonth  \\\n",
       "0         -0.102564          0.093264       -0.096774      2003          4   \n",
       "1          0.004274         -0.014680        0.010753      2003          4   \n",
       "2          0.029412         -0.104488        0.066784      2000         12   \n",
       "3         -0.049430          0.040307       -0.043977      2003          6   \n",
       "4         -0.089636          0.072753       -0.081597      2001          4   \n",
       "\n",
       "   zeroBalCode  Label  Score  \n",
       "0            0      0   0.05  \n",
       "1            0      0   0.09  \n",
       "2            0      0   0.11  \n",
       "3            0      0   0.13  \n",
       "4            0      0   0.16  "
      ]
     },
     "execution_count": 68,
     "metadata": {},
     "output_type": "execute_result"
    }
   ],
   "source": [
    "pd.set_option('max_columns',None)\n",
    "predictions.head()"
   ]
  },
  {
   "cell_type": "code",
   "execution_count": 69,
   "metadata": {},
   "outputs": [],
   "source": [
    "results = predictions[['zeroBalCode','Label','Score']]"
   ]
  },
  {
   "cell_type": "code",
   "execution_count": 70,
   "metadata": {},
   "outputs": [
    {
     "data": {
      "text/plain": [
       "0    149069\n",
       "1     14854\n",
       "Name: Label, dtype: int64"
      ]
     },
     "execution_count": 70,
     "metadata": {},
     "output_type": "execute_result"
    }
   ],
   "source": [
    "predictions.Label.value_counts()"
   ]
  },
  {
   "cell_type": "code",
   "execution_count": 71,
   "metadata": {},
   "outputs": [],
   "source": [
    "results['Confusion'] = results.apply(calc_confusion, axis=1)"
   ]
  },
  {
   "cell_type": "code",
   "execution_count": 72,
   "metadata": {},
   "outputs": [],
   "source": [
    "confusionMatrix = results.Confusion.value_counts().to_dict()"
   ]
  },
  {
   "cell_type": "code",
   "execution_count": 73,
   "metadata": {
    "scrolled": false
   },
   "outputs": [
    {
     "name": "stdout",
     "output_type": "stream",
     "text": [
      "           ##############################\n",
      "           #             #              #\n",
      "         0 #    138894     #     10175      #\n",
      "  True     #             #              #\n",
      "  Class    ##############################\n",
      "           #             #              #\n",
      "         1 #    9152      #     5702      #\n",
      "           #             #              #\n",
      "           ##############################\n",
      "                  0              1        \n",
      "                  Predicted Class           \n"
     ]
    }
   ],
   "source": [
    "cM(confusionMatrix)"
   ]
  },
  {
   "cell_type": "code",
   "execution_count": 74,
   "metadata": {},
   "outputs": [
    {
     "name": "stdout",
     "output_type": "stream",
     "text": [
      "TrueNegative:  84.73%\n",
      "FalseNegative:  6.21%\n",
      "TruePositive:   3.48%\n",
      "FalsePositive: 5.58%\n",
      "#####################################################\n",
      "Accuracy: 88.0%   Recall: 36.0%   Precision: 38.0%\n",
      "#####################################################\n"
     ]
    }
   ],
   "source": [
    "cMCalc()"
   ]
  },
  {
   "cell_type": "markdown",
   "metadata": {},
   "source": [
    "#### Well this is disappointing... The non-oversampled test dataset performed worse than random flipping a coin!"
   ]
  },
  {
   "cell_type": "code",
   "execution_count": null,
   "metadata": {},
   "outputs": [],
   "source": [
    "#save_model(et, 'extraTrees2.5OS5050_082220')"
   ]
  },
  {
   "cell_type": "code",
   "execution_count": null,
   "metadata": {
    "scrolled": true
   },
   "outputs": [],
   "source": [
    "#save_model(calibrated_et, 'extraTreesCalibrated2.5OS5050_082220')"
   ]
  },
  {
   "cell_type": "code",
   "execution_count": null,
   "metadata": {
    "scrolled": true
   },
   "outputs": [],
   "source": [
    "pred_holdout = predict_model(et)"
   ]
  },
  {
   "cell_type": "markdown",
   "metadata": {},
   "source": [
    "# Tuned Extra Trees Classifier"
   ]
  },
  {
   "cell_type": "code",
   "execution_count": 88,
   "metadata": {},
   "outputs": [],
   "source": [
    "predictions = predict_model(tuned_et, data=test_df)"
   ]
  },
  {
   "cell_type": "code",
   "execution_count": 89,
   "metadata": {},
   "outputs": [
    {
     "data": {
      "text/html": [
       "<div>\n",
       "<style scoped>\n",
       "    .dataframe tbody tr th:only-of-type {\n",
       "        vertical-align: middle;\n",
       "    }\n",
       "\n",
       "    .dataframe tbody tr th {\n",
       "        vertical-align: top;\n",
       "    }\n",
       "\n",
       "    .dataframe thead th {\n",
       "        text-align: right;\n",
       "    }\n",
       "</style>\n",
       "<table border=\"1\" class=\"dataframe\">\n",
       "  <thead>\n",
       "    <tr style=\"text-align: right;\">\n",
       "      <th></th>\n",
       "      <th>origChannel</th>\n",
       "      <th>sellerName</th>\n",
       "      <th>origIntRate</th>\n",
       "      <th>origUPB</th>\n",
       "      <th>origLoanTerm</th>\n",
       "      <th>origLTV</th>\n",
       "      <th>origCLTV</th>\n",
       "      <th>numBorrowers</th>\n",
       "      <th>origDebtIncRatio</th>\n",
       "      <th>loanPurp</th>\n",
       "      <th>propState</th>\n",
       "      <th>zipCode</th>\n",
       "      <th>pMIperct</th>\n",
       "      <th>mortInsType</th>\n",
       "      <th>bestCreditScore</th>\n",
       "      <th>worstCreditScore</th>\n",
       "      <th>avgCreditScore</th>\n",
       "      <th>loanAge</th>\n",
       "      <th>mSA</th>\n",
       "      <th>fmacRateMax</th>\n",
       "      <th>fmacRateMin</th>\n",
       "      <th>fmacRateAvg</th>\n",
       "      <th>fmacRateVolatility</th>\n",
       "      <th>rateDiffAbove</th>\n",
       "      <th>rateDiffBelow</th>\n",
       "      <th>rateDiffAvg</th>\n",
       "      <th>rateDiffAbovePct</th>\n",
       "      <th>rateDiffBelowPct</th>\n",
       "      <th>rateDiffAvgPct</th>\n",
       "      <th>origYear</th>\n",
       "      <th>origMonth</th>\n",
       "      <th>zeroBalCode</th>\n",
       "      <th>Label</th>\n",
       "      <th>Score</th>\n",
       "    </tr>\n",
       "  </thead>\n",
       "  <tbody>\n",
       "    <tr>\n",
       "      <th>0</th>\n",
       "      <td>C</td>\n",
       "      <td>SUNTRUST MORTGAGE INC.</td>\n",
       "      <td>5.250</td>\n",
       "      <td>70000</td>\n",
       "      <td>180</td>\n",
       "      <td>65</td>\n",
       "      <td>65</td>\n",
       "      <td>1</td>\n",
       "      <td>25</td>\n",
       "      <td>C</td>\n",
       "      <td>WA</td>\n",
       "      <td>986</td>\n",
       "      <td>0.0</td>\n",
       "      <td>0</td>\n",
       "      <td>757</td>\n",
       "      <td>757</td>\n",
       "      <td>757</td>\n",
       "      <td>127</td>\n",
       "      <td>38900</td>\n",
       "      <td>5.85</td>\n",
       "      <td>5.79</td>\n",
       "      <td>5.8125</td>\n",
       "      <td>0.010363</td>\n",
       "      <td>-0.600</td>\n",
       "      <td>0.540</td>\n",
       "      <td>-0.5625</td>\n",
       "      <td>-0.102564</td>\n",
       "      <td>0.093264</td>\n",
       "      <td>-0.096774</td>\n",
       "      <td>2003</td>\n",
       "      <td>4</td>\n",
       "      <td>0</td>\n",
       "      <td>0</td>\n",
       "      <td>0.02</td>\n",
       "    </tr>\n",
       "    <tr>\n",
       "      <th>1</th>\n",
       "      <td>C</td>\n",
       "      <td>JPMORGAN CHASE BANK, NA</td>\n",
       "      <td>5.875</td>\n",
       "      <td>150000</td>\n",
       "      <td>360</td>\n",
       "      <td>53</td>\n",
       "      <td>53</td>\n",
       "      <td>1</td>\n",
       "      <td>27</td>\n",
       "      <td>P</td>\n",
       "      <td>CA</td>\n",
       "      <td>921</td>\n",
       "      <td>0.0</td>\n",
       "      <td>0</td>\n",
       "      <td>780</td>\n",
       "      <td>780</td>\n",
       "      <td>780</td>\n",
       "      <td>71</td>\n",
       "      <td>41740</td>\n",
       "      <td>5.85</td>\n",
       "      <td>5.79</td>\n",
       "      <td>5.8125</td>\n",
       "      <td>0.010363</td>\n",
       "      <td>0.025</td>\n",
       "      <td>-0.085</td>\n",
       "      <td>0.0625</td>\n",
       "      <td>0.004274</td>\n",
       "      <td>-0.014680</td>\n",
       "      <td>0.010753</td>\n",
       "      <td>2003</td>\n",
       "      <td>4</td>\n",
       "      <td>0</td>\n",
       "      <td>0</td>\n",
       "      <td>0.16</td>\n",
       "    </tr>\n",
       "    <tr>\n",
       "      <th>2</th>\n",
       "      <td>R</td>\n",
       "      <td>OTHER</td>\n",
       "      <td>7.875</td>\n",
       "      <td>180000</td>\n",
       "      <td>360</td>\n",
       "      <td>64</td>\n",
       "      <td>64</td>\n",
       "      <td>1</td>\n",
       "      <td>54</td>\n",
       "      <td>C</td>\n",
       "      <td>FL</td>\n",
       "      <td>331</td>\n",
       "      <td>0.0</td>\n",
       "      <td>0</td>\n",
       "      <td>603</td>\n",
       "      <td>603</td>\n",
       "      <td>603</td>\n",
       "      <td>28</td>\n",
       "      <td>33100</td>\n",
       "      <td>7.65</td>\n",
       "      <td>7.13</td>\n",
       "      <td>7.3820</td>\n",
       "      <td>0.072931</td>\n",
       "      <td>0.225</td>\n",
       "      <td>-0.745</td>\n",
       "      <td>0.4930</td>\n",
       "      <td>0.029412</td>\n",
       "      <td>-0.104488</td>\n",
       "      <td>0.066784</td>\n",
       "      <td>2000</td>\n",
       "      <td>12</td>\n",
       "      <td>0</td>\n",
       "      <td>0</td>\n",
       "      <td>0.06</td>\n",
       "    </tr>\n",
       "    <tr>\n",
       "      <th>3</th>\n",
       "      <td>C</td>\n",
       "      <td>WELLS FARGO BANK, N.A.</td>\n",
       "      <td>5.000</td>\n",
       "      <td>233000</td>\n",
       "      <td>360</td>\n",
       "      <td>60</td>\n",
       "      <td>60</td>\n",
       "      <td>2</td>\n",
       "      <td>25</td>\n",
       "      <td>R</td>\n",
       "      <td>CA</td>\n",
       "      <td>926</td>\n",
       "      <td>0.0</td>\n",
       "      <td>0</td>\n",
       "      <td>759</td>\n",
       "      <td>759</td>\n",
       "      <td>759</td>\n",
       "      <td>108</td>\n",
       "      <td>31100</td>\n",
       "      <td>5.26</td>\n",
       "      <td>5.21</td>\n",
       "      <td>5.2300</td>\n",
       "      <td>0.009597</td>\n",
       "      <td>-0.260</td>\n",
       "      <td>0.210</td>\n",
       "      <td>-0.2300</td>\n",
       "      <td>-0.049430</td>\n",
       "      <td>0.040307</td>\n",
       "      <td>-0.043977</td>\n",
       "      <td>2003</td>\n",
       "      <td>6</td>\n",
       "      <td>0</td>\n",
       "      <td>0</td>\n",
       "      <td>0.16</td>\n",
       "    </tr>\n",
       "    <tr>\n",
       "      <th>4</th>\n",
       "      <td>R</td>\n",
       "      <td>JPMORGAN CHASE BANK, NA</td>\n",
       "      <td>6.500</td>\n",
       "      <td>147000</td>\n",
       "      <td>360</td>\n",
       "      <td>80</td>\n",
       "      <td>80</td>\n",
       "      <td>1</td>\n",
       "      <td>26</td>\n",
       "      <td>P</td>\n",
       "      <td>GA</td>\n",
       "      <td>300</td>\n",
       "      <td>0.0</td>\n",
       "      <td>0</td>\n",
       "      <td>756</td>\n",
       "      <td>756</td>\n",
       "      <td>756</td>\n",
       "      <td>132</td>\n",
       "      <td>12060</td>\n",
       "      <td>7.14</td>\n",
       "      <td>7.01</td>\n",
       "      <td>7.0775</td>\n",
       "      <td>0.018545</td>\n",
       "      <td>-0.640</td>\n",
       "      <td>0.510</td>\n",
       "      <td>-0.5775</td>\n",
       "      <td>-0.089636</td>\n",
       "      <td>0.072753</td>\n",
       "      <td>-0.081597</td>\n",
       "      <td>2001</td>\n",
       "      <td>4</td>\n",
       "      <td>0</td>\n",
       "      <td>0</td>\n",
       "      <td>0.22</td>\n",
       "    </tr>\n",
       "  </tbody>\n",
       "</table>\n",
       "</div>"
      ],
      "text/plain": [
       "  origChannel               sellerName  origIntRate  origUPB  origLoanTerm  \\\n",
       "0           C   SUNTRUST MORTGAGE INC.        5.250    70000           180   \n",
       "1           C  JPMORGAN CHASE BANK, NA        5.875   150000           360   \n",
       "2           R                    OTHER        7.875   180000           360   \n",
       "3           C   WELLS FARGO BANK, N.A.        5.000   233000           360   \n",
       "4           R  JPMORGAN CHASE BANK, NA        6.500   147000           360   \n",
       "\n",
       "   origLTV  origCLTV  numBorrowers  origDebtIncRatio loanPurp propState  \\\n",
       "0       65        65             1                25        C        WA   \n",
       "1       53        53             1                27        P        CA   \n",
       "2       64        64             1                54        C        FL   \n",
       "3       60        60             2                25        R        CA   \n",
       "4       80        80             1                26        P        GA   \n",
       "\n",
       "   zipCode  pMIperct  mortInsType  bestCreditScore  worstCreditScore  \\\n",
       "0      986       0.0            0              757               757   \n",
       "1      921       0.0            0              780               780   \n",
       "2      331       0.0            0              603               603   \n",
       "3      926       0.0            0              759               759   \n",
       "4      300       0.0            0              756               756   \n",
       "\n",
       "   avgCreditScore  loanAge    mSA  fmacRateMax  fmacRateMin  fmacRateAvg  \\\n",
       "0             757      127  38900         5.85         5.79       5.8125   \n",
       "1             780       71  41740         5.85         5.79       5.8125   \n",
       "2             603       28  33100         7.65         7.13       7.3820   \n",
       "3             759      108  31100         5.26         5.21       5.2300   \n",
       "4             756      132  12060         7.14         7.01       7.0775   \n",
       "\n",
       "   fmacRateVolatility  rateDiffAbove  rateDiffBelow  rateDiffAvg  \\\n",
       "0            0.010363         -0.600          0.540      -0.5625   \n",
       "1            0.010363          0.025         -0.085       0.0625   \n",
       "2            0.072931          0.225         -0.745       0.4930   \n",
       "3            0.009597         -0.260          0.210      -0.2300   \n",
       "4            0.018545         -0.640          0.510      -0.5775   \n",
       "\n",
       "   rateDiffAbovePct  rateDiffBelowPct  rateDiffAvgPct  origYear  origMonth  \\\n",
       "0         -0.102564          0.093264       -0.096774      2003          4   \n",
       "1          0.004274         -0.014680        0.010753      2003          4   \n",
       "2          0.029412         -0.104488        0.066784      2000         12   \n",
       "3         -0.049430          0.040307       -0.043977      2003          6   \n",
       "4         -0.089636          0.072753       -0.081597      2001          4   \n",
       "\n",
       "   zeroBalCode  Label  Score  \n",
       "0            0      0   0.02  \n",
       "1            0      0   0.16  \n",
       "2            0      0   0.06  \n",
       "3            0      0   0.16  \n",
       "4            0      0   0.22  "
      ]
     },
     "execution_count": 89,
     "metadata": {},
     "output_type": "execute_result"
    }
   ],
   "source": [
    "pd.set_option('max_columns',None)\n",
    "predictions.head()"
   ]
  },
  {
   "cell_type": "code",
   "execution_count": 90,
   "metadata": {},
   "outputs": [],
   "source": [
    "results = predictions[['zeroBalCode','Label','Score']]"
   ]
  },
  {
   "cell_type": "code",
   "execution_count": 91,
   "metadata": {},
   "outputs": [
    {
     "data": {
      "text/plain": [
       "0    148755\n",
       "1     15168\n",
       "Name: Label, dtype: int64"
      ]
     },
     "execution_count": 91,
     "metadata": {},
     "output_type": "execute_result"
    }
   ],
   "source": [
    "predictions.Label.value_counts()"
   ]
  },
  {
   "cell_type": "code",
   "execution_count": 92,
   "metadata": {},
   "outputs": [],
   "source": [
    "results['Confusion'] = results.apply(calc_confusion, axis=1)"
   ]
  },
  {
   "cell_type": "code",
   "execution_count": 93,
   "metadata": {},
   "outputs": [],
   "source": [
    "confusionMatrix = results.Confusion.value_counts().to_dict()"
   ]
  },
  {
   "cell_type": "code",
   "execution_count": 96,
   "metadata": {
    "scrolled": false
   },
   "outputs": [
    {
     "name": "stdout",
     "output_type": "stream",
     "text": [
      "           ##############################\n",
      "           #             #              #\n",
      "         0 #    138561     #     10194      #\n",
      "  True     #             #              #\n",
      "  Class    ##############################\n",
      "           #             #              #\n",
      "         1 #    9485      #     5683      #\n",
      "           #             #              #\n",
      "           ##############################\n",
      "                  0              1        \n",
      "                  Predicted Class           \n"
     ]
    }
   ],
   "source": [
    "cM(confusionMatrix)"
   ]
  },
  {
   "cell_type": "code",
   "execution_count": 97,
   "metadata": {},
   "outputs": [
    {
     "name": "stdout",
     "output_type": "stream",
     "text": [
      "TrueNegative:  84.53%\n",
      "FalseNegative:  6.22%\n",
      "TruePositive:   3.47%\n",
      "FalsePositive: 5.79%\n",
      "#####################################################\n",
      "Accuracy: 88.0%   Recall: 36.0%   Precision: 37.0%\n",
      "#####################################################\n"
     ]
    }
   ],
   "source": [
    "cMCalc()"
   ]
  },
  {
   "cell_type": "markdown",
   "metadata": {},
   "source": [
    "#### Well this is disappointing... The non-oversampled test dataset performed worse than random flipping a coin!"
   ]
  },
  {
   "cell_type": "code",
   "execution_count": null,
   "metadata": {},
   "outputs": [],
   "source": [
    "#save_model(et, 'extraTrees2.5OS5050_082220')"
   ]
  },
  {
   "cell_type": "code",
   "execution_count": null,
   "metadata": {
    "scrolled": true
   },
   "outputs": [],
   "source": [
    "#save_model(calibrated_et, 'extraTreesCalibrated2.5OS5050_082220')"
   ]
  },
  {
   "cell_type": "code",
   "execution_count": null,
   "metadata": {
    "scrolled": true
   },
   "outputs": [],
   "source": [
    "pred_holdout = predict_model(et)"
   ]
  },
  {
   "cell_type": "code",
   "execution_count": null,
   "metadata": {},
   "outputs": [],
   "source": []
  }
 ],
 "metadata": {
  "kernelspec": {
   "display_name": "MortgageML",
   "language": "python",
   "name": "mortgageml"
  },
  "language_info": {
   "codemirror_mode": {
    "name": "ipython",
    "version": 3
   },
   "file_extension": ".py",
   "mimetype": "text/x-python",
   "name": "python",
   "nbconvert_exporter": "python",
   "pygments_lexer": "ipython3",
   "version": "3.6.10"
  }
 },
 "nbformat": 4,
 "nbformat_minor": 4
}
