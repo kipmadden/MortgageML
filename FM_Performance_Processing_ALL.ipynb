{
 "cells": [
  {
   "cell_type": "markdown",
   "metadata": {},
   "source": [
    "## Import Dependencies"
   ]
  },
  {
   "cell_type": "code",
   "execution_count": 2,
   "metadata": {},
   "outputs": [],
   "source": [
    "import csv\n",
    "from pathlib import Path\n",
    "import pandas as pd\n",
    "import glob\n",
    "from datetime import datetime, timedelta\n",
    "import numpy as np\n",
    "# from sklearn import preprocessing\n",
    "import matplotlib.pyplot as plt\n",
    "# from sklearn.model_selection import train_test_split\n",
    "# from sklearn.linear_model import LinearRegression, RidgeCV\n",
    "# from sklearn.metrics import mean_squared_error\n",
    "import seaborn as sns\n",
    "import pandas_profiling as pp\n",
    "from settings import *\n",
    "# from settings import DATA_DIR"
   ]
  },
  {
   "cell_type": "code",
   "execution_count": 3,
   "metadata": {},
   "outputs": [
    {
     "data": {
      "text/plain": [
       "'D:\\\\Performance_All'"
      ]
     },
     "execution_count": 3,
     "metadata": {},
     "output_type": "execute_result"
    }
   ],
   "source": [
    "download_dir = 'D:\\Performance_All'\n",
    "download_dir"
   ]
  },
  {
   "cell_type": "code",
   "execution_count": 4,
   "metadata": {},
   "outputs": [
    {
     "data": {
      "text/plain": [
       "'data'"
      ]
     },
     "execution_count": 4,
     "metadata": {},
     "output_type": "execute_result"
    }
   ],
   "source": [
    "DATA_DIR"
   ]
  },
  {
   "cell_type": "code",
   "execution_count": 5,
   "metadata": {},
   "outputs": [
    {
     "data": {
      "text/plain": [
       "'data/FMPerfProcessedALL.csv'"
      ]
     },
     "execution_count": 5,
     "metadata": {},
     "output_type": "execute_result"
    }
   ],
   "source": [
    "outputFileName = 'FMPerfProcessedALL.csv'\n",
    "outpath = \"/\".join([DATA_DIR,outputFileName])\n",
    "outpath"
   ]
  },
  {
   "cell_type": "markdown",
   "metadata": {},
   "source": [
    "# Get the Single-Family Loan Performance Data Files from Fannie Mae\n",
    "\n",
    "From the Fannie Mae [website:](https://loanperformancedata.fanniemae.com/lppub/index.html#Single-Family_Loan_Performance_Data_Files) we downloaded the Performance dataset (26GB zip file)\n",
    "\n",
    "The [Performance file layout](https://loanperformancedata.fanniemae.com/lppub-docs/FNMA_SF_Loan_Performance_File_layout.pdf) was as follows:\n",
    "![Performance File Layout](images/PerformanceFileLayout.jpg)"
   ]
  },
  {
   "cell_type": "code",
   "execution_count": 6,
   "metadata": {},
   "outputs": [],
   "source": [
    "# Create mapping for the header of the files based on above file format\n",
    "allheaderline = ['id','rptPeriod','sellerName','currIntRate','currUPB','loanAge','monMatur','adjMonMatur',\\\n",
    "              'maturDate','mSA','deliqStatus','modFlag','zeroBalCode','zeroBalDate','lastPdInstDate',\\\n",
    "              'forecloDate','dispDate','forecloCost','propRepCost','recovCosts','miscCost','holdTaxCost',\\\n",
    "              'saleProceed','credEnhProceed','repurchProceed','otherForecloProceed','nonIntUPB',\\\n",
    "              'prinForgivBal','repurchMakeWholeProceedFlg','forecloPrinWriteOffAmnt','servActivIndicator']\n",
    "colchoices = [0,1,3,4,5,6,9,10,12,13,14,15,16,17,18,19,20,21,22,23,24,25,26,27,28,29,30]\n",
    "headerline = ['id','rptPeriod','currIntRate','currUPB','loanAge','monMatur',\\\n",
    "              'mSA','deliqStatus','zeroBalCode','zeroBalDate','lastPdInstDate',\\\n",
    "              'forecloDate','dispDate','forecloCost','propRepCost','recovCosts','miscCost','holdTaxCost',\\\n",
    "              'saleProceed','credEnhProceed','repurchProceed','otherForecloProceed','nonIntUPB',\\\n",
    "              'prinForgivBal','repurchMakeWholeProceedFlg','forecloPrinWriteOffAmnt','servActivIndicator']"
   ]
  },
  {
   "cell_type": "code",
   "execution_count": null,
   "metadata": {},
   "outputs": [
    {
     "name": "stderr",
     "output_type": "stream",
     "text": [
      "C:\\ProgramData\\Anaconda3\\lib\\site-packages\\IPython\\core\\interactiveshell.py:3146: DtypeWarning: Columns (14,15,16) have mixed types.Specify dtype option on import or set low_memory=False.\n",
      "  interactivity=interactivity, compiler=compiler, result=result)\n"
     ]
    }
   ],
   "source": [
    "# Loop through each file from the unzipped download file - which gave a set of 76 individual files\n",
    "\n",
    "#Create an empty array to hold dataframes to later concatonate\n",
    "li = []\n",
    "\n",
    "#Loop through every file in the directory and append into array\n",
    "for in_path in Path(download_dir).glob('Performance*.txt'):\n",
    "    df = pd.read_csv(in_path, sep=\"|\", index_col=None, header=None, usecols=colchoices)\n",
    "    df.columns=headerline\n",
    "    df = df.set_index('id')\n",
    "    # Isolate the deliqStatus column to speed up aggregation calculations\n",
    "    deliq = df[['deliqStatus']].copy()\n",
    "    # deliqStatus has one value of 'X' amongst integer values and NaN values\n",
    "    # First replace 'X' values with NaN\n",
    "    deliq['deliqStatus'] = deliq['deliqStatus'].replace('X',np.nan).astype(float)\n",
    "    # Determine the number of zero (0) values representing successful payments for a loan\n",
    "    deliqGood = deliq[deliq['deliqStatus'] == 0].groupby('id').count()\n",
    "    # Determine the number of values > 0 representing delinquent payments for a loan\n",
    "    deliqBad = deliq[deliq['deliqStatus'] > 0].groupby('id').count()\n",
    "    # Determine the max() of deliqStatus representing highest numberdelinquent payments in a row for a loan\n",
    "    deliqMax = deliq[deliq['deliqStatus'] > 0].groupby('id').max()\n",
    "#     # Select only rows that have a zeroBalCode with a value ## Commented out to include ALL records\n",
    "#     zbc_df = df[df['zeroBalCode'].notnull()]\n",
    "    df = df.drop(columns=['deliqStatus'])\n",
    "    #Merge the zbc_df with the deliqGood\n",
    "    zbc_merge = pd.merge(df, deliqGood, on=['id'])\n",
    "    #Merge the zbc_df with the deliqBad\n",
    "    zbc_merge = pd.merge(zbc_merge, deliqBad, on=['id'])\n",
    "    #Merge the zbc_df with the deliqMax\n",
    "    zbc_merge = pd.merge(zbc_merge, deliqMax, on=['id'])\n",
    "    # Rename all the deqliq* columns\n",
    "    zbc_merge = zbc_merge.rename(columns={'deliqStatus_x':'deliqGood','deliqStatus_y':'deliqBad','deliqStatus':'deliqMax'})\n",
    "    # Add the zbc_merge df to the li list to be able to concat them later\n",
    "    li.append(zbc_merge)"
   ]
  },
  {
   "cell_type": "code",
   "execution_count": 7,
   "metadata": {},
   "outputs": [
    {
     "data": {
      "text/plain": [
       "78"
      ]
     },
     "execution_count": 7,
     "metadata": {},
     "output_type": "execute_result"
    }
   ],
   "source": [
    "len(li)"
   ]
  },
  {
   "cell_type": "code",
   "execution_count": 8,
   "metadata": {},
   "outputs": [],
   "source": [
    "#Concatonate all the array elements into one giant dataframe\n",
    "processed_df = pd.concat(li, axis=0)\n",
    "#df.columns = allheaderline"
   ]
  },
  {
   "cell_type": "code",
   "execution_count": 9,
   "metadata": {},
   "outputs": [
    {
     "data": {
      "text/plain": [
       "(4054042, 28)"
      ]
     },
     "execution_count": 9,
     "metadata": {},
     "output_type": "execute_result"
    }
   ],
   "source": [
    "processed_df.shape"
   ]
  },
  {
   "cell_type": "code",
   "execution_count": 10,
   "metadata": {},
   "outputs": [
    {
     "data": {
      "text/html": [
       "<div>\n",
       "<style scoped>\n",
       "    .dataframe tbody tr th:only-of-type {\n",
       "        vertical-align: middle;\n",
       "    }\n",
       "\n",
       "    .dataframe tbody tr th {\n",
       "        vertical-align: top;\n",
       "    }\n",
       "\n",
       "    .dataframe thead th {\n",
       "        text-align: right;\n",
       "    }\n",
       "</style>\n",
       "<table border=\"1\" class=\"dataframe\">\n",
       "  <thead>\n",
       "    <tr style=\"text-align: right;\">\n",
       "      <th></th>\n",
       "      <th>rptPeriod</th>\n",
       "      <th>currIntRate</th>\n",
       "      <th>currUPB</th>\n",
       "      <th>loanAge</th>\n",
       "      <th>monMatur</th>\n",
       "      <th>mSA</th>\n",
       "      <th>zeroBalCode</th>\n",
       "      <th>zeroBalDate</th>\n",
       "      <th>lastPdInstDate</th>\n",
       "      <th>forecloDate</th>\n",
       "      <th>...</th>\n",
       "      <th>repurchProceed</th>\n",
       "      <th>otherForecloProceed</th>\n",
       "      <th>nonIntUPB</th>\n",
       "      <th>prinForgivBal</th>\n",
       "      <th>repurchMakeWholeProceedFlg</th>\n",
       "      <th>forecloPrinWriteOffAmnt</th>\n",
       "      <th>servActivIndicator</th>\n",
       "      <th>deliqGood</th>\n",
       "      <th>deliqBad</th>\n",
       "      <th>deliqMax</th>\n",
       "    </tr>\n",
       "    <tr>\n",
       "      <th>id</th>\n",
       "      <th></th>\n",
       "      <th></th>\n",
       "      <th></th>\n",
       "      <th></th>\n",
       "      <th></th>\n",
       "      <th></th>\n",
       "      <th></th>\n",
       "      <th></th>\n",
       "      <th></th>\n",
       "      <th></th>\n",
       "      <th></th>\n",
       "      <th></th>\n",
       "      <th></th>\n",
       "      <th></th>\n",
       "      <th></th>\n",
       "      <th></th>\n",
       "      <th></th>\n",
       "      <th></th>\n",
       "      <th></th>\n",
       "      <th></th>\n",
       "      <th></th>\n",
       "    </tr>\n",
       "  </thead>\n",
       "  <tbody>\n",
       "    <tr>\n",
       "      <th>100021703104</th>\n",
       "      <td>01/01/2003</td>\n",
       "      <td>8.000</td>\n",
       "      <td>109698.66</td>\n",
       "      <td>34</td>\n",
       "      <td>326.0</td>\n",
       "      <td>35980</td>\n",
       "      <td>1.0</td>\n",
       "      <td>01/2003</td>\n",
       "      <td>NaN</td>\n",
       "      <td>NaN</td>\n",
       "      <td>...</td>\n",
       "      <td>NaN</td>\n",
       "      <td>NaN</td>\n",
       "      <td>NaN</td>\n",
       "      <td>NaN</td>\n",
       "      <td>N</td>\n",
       "      <td>NaN</td>\n",
       "      <td>NaN</td>\n",
       "      <td>33</td>\n",
       "      <td>1</td>\n",
       "      <td>1.0</td>\n",
       "    </tr>\n",
       "    <tr>\n",
       "      <th>100023274028</th>\n",
       "      <td>09/01/2002</td>\n",
       "      <td>8.000</td>\n",
       "      <td>127430.15</td>\n",
       "      <td>31</td>\n",
       "      <td>329.0</td>\n",
       "      <td>12060</td>\n",
       "      <td>1.0</td>\n",
       "      <td>09/2002</td>\n",
       "      <td>NaN</td>\n",
       "      <td>NaN</td>\n",
       "      <td>...</td>\n",
       "      <td>NaN</td>\n",
       "      <td>NaN</td>\n",
       "      <td>NaN</td>\n",
       "      <td>NaN</td>\n",
       "      <td>N</td>\n",
       "      <td>NaN</td>\n",
       "      <td>NaN</td>\n",
       "      <td>20</td>\n",
       "      <td>11</td>\n",
       "      <td>4.0</td>\n",
       "    </tr>\n",
       "    <tr>\n",
       "      <th>100033892603</th>\n",
       "      <td>08/01/2003</td>\n",
       "      <td>8.125</td>\n",
       "      <td>102258.47</td>\n",
       "      <td>42</td>\n",
       "      <td>318.0</td>\n",
       "      <td>33100</td>\n",
       "      <td>1.0</td>\n",
       "      <td>08/2003</td>\n",
       "      <td>NaN</td>\n",
       "      <td>NaN</td>\n",
       "      <td>...</td>\n",
       "      <td>NaN</td>\n",
       "      <td>NaN</td>\n",
       "      <td>NaN</td>\n",
       "      <td>NaN</td>\n",
       "      <td>N</td>\n",
       "      <td>NaN</td>\n",
       "      <td>NaN</td>\n",
       "      <td>40</td>\n",
       "      <td>1</td>\n",
       "      <td>1.0</td>\n",
       "    </tr>\n",
       "    <tr>\n",
       "      <th>100048724218</th>\n",
       "      <td>12/01/2001</td>\n",
       "      <td>7.750</td>\n",
       "      <td>148631.79</td>\n",
       "      <td>23</td>\n",
       "      <td>337.0</td>\n",
       "      <td>13460</td>\n",
       "      <td>1.0</td>\n",
       "      <td>12/2001</td>\n",
       "      <td>NaN</td>\n",
       "      <td>NaN</td>\n",
       "      <td>...</td>\n",
       "      <td>NaN</td>\n",
       "      <td>NaN</td>\n",
       "      <td>NaN</td>\n",
       "      <td>NaN</td>\n",
       "      <td>N</td>\n",
       "      <td>NaN</td>\n",
       "      <td>NaN</td>\n",
       "      <td>22</td>\n",
       "      <td>1</td>\n",
       "      <td>1.0</td>\n",
       "    </tr>\n",
       "    <tr>\n",
       "      <th>100057706656</th>\n",
       "      <td>03/01/2001</td>\n",
       "      <td>8.250</td>\n",
       "      <td>135031.31</td>\n",
       "      <td>14</td>\n",
       "      <td>346.0</td>\n",
       "      <td>17140</td>\n",
       "      <td>6.0</td>\n",
       "      <td>03/2001</td>\n",
       "      <td>NaN</td>\n",
       "      <td>NaN</td>\n",
       "      <td>...</td>\n",
       "      <td>NaN</td>\n",
       "      <td>NaN</td>\n",
       "      <td>NaN</td>\n",
       "      <td>NaN</td>\n",
       "      <td>Y</td>\n",
       "      <td>NaN</td>\n",
       "      <td>NaN</td>\n",
       "      <td>13</td>\n",
       "      <td>1</td>\n",
       "      <td>1.0</td>\n",
       "    </tr>\n",
       "  </tbody>\n",
       "</table>\n",
       "<p>5 rows × 28 columns</p>\n",
       "</div>"
      ],
      "text/plain": [
       "               rptPeriod  currIntRate    currUPB  loanAge  monMatur    mSA  \\\n",
       "id                                                                           \n",
       "100021703104  01/01/2003        8.000  109698.66       34     326.0  35980   \n",
       "100023274028  09/01/2002        8.000  127430.15       31     329.0  12060   \n",
       "100033892603  08/01/2003        8.125  102258.47       42     318.0  33100   \n",
       "100048724218  12/01/2001        7.750  148631.79       23     337.0  13460   \n",
       "100057706656  03/01/2001        8.250  135031.31       14     346.0  17140   \n",
       "\n",
       "              zeroBalCode zeroBalDate lastPdInstDate forecloDate  ...  \\\n",
       "id                                                                ...   \n",
       "100021703104          1.0     01/2003            NaN         NaN  ...   \n",
       "100023274028          1.0     09/2002            NaN         NaN  ...   \n",
       "100033892603          1.0     08/2003            NaN         NaN  ...   \n",
       "100048724218          1.0     12/2001            NaN         NaN  ...   \n",
       "100057706656          6.0     03/2001            NaN         NaN  ...   \n",
       "\n",
       "             repurchProceed  otherForecloProceed  nonIntUPB  prinForgivBal  \\\n",
       "id                                                                           \n",
       "100021703104            NaN                  NaN        NaN            NaN   \n",
       "100023274028            NaN                  NaN        NaN            NaN   \n",
       "100033892603            NaN                  NaN        NaN            NaN   \n",
       "100048724218            NaN                  NaN        NaN            NaN   \n",
       "100057706656            NaN                  NaN        NaN            NaN   \n",
       "\n",
       "              repurchMakeWholeProceedFlg  forecloPrinWriteOffAmnt  \\\n",
       "id                                                                  \n",
       "100021703104                           N                      NaN   \n",
       "100023274028                           N                      NaN   \n",
       "100033892603                           N                      NaN   \n",
       "100048724218                           N                      NaN   \n",
       "100057706656                           Y                      NaN   \n",
       "\n",
       "              servActivIndicator  deliqGood  deliqBad  deliqMax  \n",
       "id                                                               \n",
       "100021703104                 NaN         33         1       1.0  \n",
       "100023274028                 NaN         20        11       4.0  \n",
       "100033892603                 NaN         40         1       1.0  \n",
       "100048724218                 NaN         22         1       1.0  \n",
       "100057706656                 NaN         13         1       1.0  \n",
       "\n",
       "[5 rows x 28 columns]"
      ]
     },
     "execution_count": 10,
     "metadata": {},
     "output_type": "execute_result"
    }
   ],
   "source": [
    "processed_df.head()"
   ]
  },
  {
   "cell_type": "code",
   "execution_count": 11,
   "metadata": {
    "scrolled": false
   },
   "outputs": [
    {
     "name": "stdout",
     "output_type": "stream",
     "text": [
      "<class 'pandas.core.frame.DataFrame'>\n",
      "Int64Index: 4054042 entries, 100021703104 to 998487923072\n",
      "Data columns (total 28 columns):\n",
      "rptPeriod                     object\n",
      "currIntRate                   float64\n",
      "currUPB                       float64\n",
      "loanAge                       int64\n",
      "monMatur                      float64\n",
      "mSA                           int64\n",
      "zeroBalCode                   float64\n",
      "zeroBalDate                   object\n",
      "lastPdInstDate                object\n",
      "forecloDate                   object\n",
      "dispDate                      object\n",
      "forecloCost                   float64\n",
      "propRepCost                   float64\n",
      "recovCosts                    float64\n",
      "miscCost                      float64\n",
      "holdTaxCost                   float64\n",
      "saleProceed                   float64\n",
      "credEnhProceed                float64\n",
      "repurchProceed                float64\n",
      "otherForecloProceed           float64\n",
      "nonIntUPB                     float64\n",
      "prinForgivBal                 float64\n",
      "repurchMakeWholeProceedFlg    object\n",
      "forecloPrinWriteOffAmnt       float64\n",
      "servActivIndicator            object\n",
      "deliqGood                     int64\n",
      "deliqBad                      int64\n",
      "deliqMax                      float64\n",
      "dtypes: float64(17), int64(4), object(7)\n",
      "memory usage: 897.0+ MB\n"
     ]
    }
   ],
   "source": [
    "#Review the columns for datatypes and how many non-null values \n",
    "processed_df.info()"
   ]
  },
  {
   "cell_type": "markdown",
   "metadata": {},
   "source": [
    "### Convert the origDate,firstPmtDate columns from strings to datetime datatypes\n",
    "Since this will be such a large dataset I tested a number of methods to change datatypes"
   ]
  },
  {
   "cell_type": "code",
   "execution_count": 12,
   "metadata": {},
   "outputs": [
    {
     "data": {
      "text/plain": [
       "(4054042, 28)"
      ]
     },
     "execution_count": 12,
     "metadata": {},
     "output_type": "execute_result"
    }
   ],
   "source": [
    "processed_df.shape"
   ]
  },
  {
   "cell_type": "code",
   "execution_count": 13,
   "metadata": {},
   "outputs": [
    {
     "data": {
      "text/plain": [
       "id\n",
       "100021703104           NaN\n",
       "100023274028           NaN\n",
       "100033892603           NaN\n",
       "100048724218           NaN\n",
       "100057706656           NaN\n",
       "100094030068           NaN\n",
       "100100228738           NaN\n",
       "100118647578           NaN\n",
       "100119700071           NaN\n",
       "100135299882           NaN\n",
       "100166340980           NaN\n",
       "100181385102           NaN\n",
       "100187515017           NaN\n",
       "100211950135           NaN\n",
       "100260403844           NaN\n",
       "100289940808           NaN\n",
       "100297620817           NaN\n",
       "100339426081           NaN\n",
       "100366510395           NaN\n",
       "100379332657           NaN\n",
       "100392250518           NaN\n",
       "100416816452           NaN\n",
       "100442840341           NaN\n",
       "100444558979           NaN\n",
       "100507009460           NaN\n",
       "100530507310           NaN\n",
       "100536680291           NaN\n",
       "100557946796    05/01/2004\n",
       "100563946369           NaN\n",
       "100579898395    05/01/2004\n",
       "Name: dispDate, dtype: object"
      ]
     },
     "execution_count": 13,
     "metadata": {},
     "output_type": "execute_result"
    }
   ],
   "source": [
    "processed_df.dispDate.head(30)"
   ]
  },
  {
   "cell_type": "code",
   "execution_count": 14,
   "metadata": {},
   "outputs": [
    {
     "name": "stdout",
     "output_type": "stream",
     "text": [
      "<class 'pandas.core.frame.DataFrame'>\n",
      "Int64Index: 4054042 entries, 100021703104 to 998487923072\n",
      "Data columns (total 28 columns):\n",
      "rptPeriod                     object\n",
      "currIntRate                   float64\n",
      "currUPB                       float64\n",
      "loanAge                       int64\n",
      "monMatur                      float64\n",
      "mSA                           int64\n",
      "zeroBalCode                   float64\n",
      "zeroBalDate                   object\n",
      "lastPdInstDate                object\n",
      "forecloDate                   object\n",
      "dispDate                      object\n",
      "forecloCost                   float64\n",
      "propRepCost                   float64\n",
      "recovCosts                    float64\n",
      "miscCost                      float64\n",
      "holdTaxCost                   float64\n",
      "saleProceed                   float64\n",
      "credEnhProceed                float64\n",
      "repurchProceed                float64\n",
      "otherForecloProceed           float64\n",
      "nonIntUPB                     float64\n",
      "prinForgivBal                 float64\n",
      "repurchMakeWholeProceedFlg    object\n",
      "forecloPrinWriteOffAmnt       float64\n",
      "servActivIndicator            object\n",
      "deliqGood                     int64\n",
      "deliqBad                      int64\n",
      "deliqMax                      float64\n",
      "dtypes: float64(17), int64(4), object(7)\n",
      "memory usage: 897.0+ MB\n"
     ]
    }
   ],
   "source": [
    "processed_df.info()"
   ]
  },
  {
   "cell_type": "code",
   "execution_count": 15,
   "metadata": {},
   "outputs": [],
   "source": [
    "#processed_df['rptPeriod'] = pd.to_datetime(processed_df['rptPeriod'], format='%Y/%m/%d')\n",
    "#processed_df['lastPdInstDate'] = pd.to_datetime(processed_df['lastPdInstDate'], format='%Y/%m/%d')\n",
    "#processed_df['zeroBalDate'] = pd.to_datetime(processed_df['zeroBalDate'], format='%m/%Y')\n",
    "#processed_df['forecloDate'] = pd.to_datetime(processed_df['forecloDate'], format='%m/%d/%Y')\n",
    "processed_df['dispDate'] = pd.to_datetime(processed_df['dispDate'], format='%m/%d/%Y')"
   ]
  },
  {
   "cell_type": "code",
   "execution_count": 16,
   "metadata": {},
   "outputs": [],
   "source": [
    "# Change all occurences of columns with 'Y' and 'N' to 0 and 1\n",
    "processed_df.replace('Y',1, inplace=True)\n",
    "processed_df.replace('N',0, inplace=True)"
   ]
  },
  {
   "cell_type": "code",
   "execution_count": 17,
   "metadata": {},
   "outputs": [
    {
     "name": "stdout",
     "output_type": "stream",
     "text": [
      "<class 'pandas.core.frame.DataFrame'>\n",
      "Int64Index: 4054042 entries, 100021703104 to 998487923072\n",
      "Data columns (total 28 columns):\n",
      "rptPeriod                     object\n",
      "currIntRate                   float64\n",
      "currUPB                       float64\n",
      "loanAge                       int64\n",
      "monMatur                      float64\n",
      "mSA                           int64\n",
      "zeroBalCode                   float64\n",
      "zeroBalDate                   object\n",
      "lastPdInstDate                object\n",
      "forecloDate                   object\n",
      "dispDate                      datetime64[ns]\n",
      "forecloCost                   float64\n",
      "propRepCost                   float64\n",
      "recovCosts                    float64\n",
      "miscCost                      float64\n",
      "holdTaxCost                   float64\n",
      "saleProceed                   float64\n",
      "credEnhProceed                float64\n",
      "repurchProceed                float64\n",
      "otherForecloProceed           float64\n",
      "nonIntUPB                     float64\n",
      "prinForgivBal                 float64\n",
      "repurchMakeWholeProceedFlg    int64\n",
      "forecloPrinWriteOffAmnt       float64\n",
      "servActivIndicator            float64\n",
      "deliqGood                     int64\n",
      "deliqBad                      int64\n",
      "deliqMax                      float64\n",
      "dtypes: datetime64[ns](1), float64(18), int64(5), object(4)\n",
      "memory usage: 897.0+ MB\n"
     ]
    }
   ],
   "source": [
    "processed_df.info()"
   ]
  },
  {
   "cell_type": "markdown",
   "metadata": {},
   "source": [
    "# Write the result df to csv"
   ]
  },
  {
   "cell_type": "code",
   "execution_count": 18,
   "metadata": {},
   "outputs": [],
   "source": [
    "processed_df.to_csv(outpath)"
   ]
  },
  {
   "cell_type": "code",
   "execution_count": null,
   "metadata": {},
   "outputs": [],
   "source": []
  }
 ],
 "metadata": {
  "kernelspec": {
   "display_name": "Python 3",
   "language": "python",
   "name": "python3"
  },
  "language_info": {
   "codemirror_mode": {
    "name": "ipython",
    "version": 3
   },
   "file_extension": ".py",
   "mimetype": "text/x-python",
   "name": "python",
   "nbconvert_exporter": "python",
   "pygments_lexer": "ipython3",
   "version": "3.7.7"
  }
 },
 "nbformat": 4,
 "nbformat_minor": 2
}
