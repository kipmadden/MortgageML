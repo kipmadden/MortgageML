{
 "cells": [
  {
   "cell_type": "markdown",
   "metadata": {},
   "source": [
    "## Import Dependencies"
   ]
  },
  {
   "cell_type": "code",
   "execution_count": 1,
   "metadata": {},
   "outputs": [],
   "source": [
    "import csv\n",
    "from pathlib import Path\n",
    "import pandas as pd\n",
    "import glob\n",
    "from datetime import datetime, timedelta\n",
    "import numpy as np\n",
    "# from sklearn import preprocessing\n",
    "import matplotlib.pyplot as plt\n",
    "# from sklearn.model_selection import train_test_split\n",
    "# from sklearn.linear_model import LinearRegression, RidgeCV\n",
    "# from sklearn.metrics import mean_squared_error\n",
    "import seaborn as sns\n",
    "import pandas_profiling as pp\n",
    "from settings import *\n",
    "# from settings import DATA_DIR"
   ]
  },
  {
   "cell_type": "code",
   "execution_count": 2,
   "metadata": {},
   "outputs": [
    {
     "data": {
      "text/plain": [
       "'D:\\\\Performance_All'"
      ]
     },
     "execution_count": 2,
     "metadata": {},
     "output_type": "execute_result"
    }
   ],
   "source": [
    "download_dir = 'D:\\Performance_All'\n",
    "download_dir"
   ]
  },
  {
   "cell_type": "code",
   "execution_count": 3,
   "metadata": {},
   "outputs": [
    {
     "data": {
      "text/plain": [
       "'data'"
      ]
     },
     "execution_count": 3,
     "metadata": {},
     "output_type": "execute_result"
    }
   ],
   "source": [
    "DATA_DIR"
   ]
  },
  {
   "cell_type": "code",
   "execution_count": 4,
   "metadata": {},
   "outputs": [
    {
     "data": {
      "text/plain": [
       "'data/FMPerfProcessedALL.csv'"
      ]
     },
     "execution_count": 4,
     "metadata": {},
     "output_type": "execute_result"
    }
   ],
   "source": [
    "outputFileName = 'FMPerfProcessedALL.csv'\n",
    "outpath = \"/\".join([DATA_DIR,outputFileName])\n",
    "outpath"
   ]
  },
  {
   "cell_type": "markdown",
   "metadata": {},
   "source": [
    "# Get the Single-Family Loan Performance Data Files from Fannie Mae\n",
    "\n",
    "From the Fannie Mae [website:](https://loanperformancedata.fanniemae.com/lppub/index.html#Single-Family_Loan_Performance_Data_Files) we downloaded the Performance dataset (26GB zip file)\n",
    "\n",
    "The [Performance file layout](https://loanperformancedata.fanniemae.com/lppub-docs/FNMA_SF_Loan_Performance_File_layout.pdf) was as follows:\n",
    "![Performance File Layout](images/PerformanceFileLayout.jpg)"
   ]
  },
  {
   "cell_type": "code",
   "execution_count": 5,
   "metadata": {},
   "outputs": [],
   "source": [
    "# Create mapping for the header of the files based on above file format\n",
    "allheaderline = ['id','rptPeriod','sellerName','currIntRate','currUPB','loanAge','monMatur','adjMonMatur',\\\n",
    "              'maturDate','mSA','deliqStatus','modFlag','zeroBalCode','zeroBalDate','lastPdInstDate',\\\n",
    "              'forecloDate','dispDate','forecloCost','propRepCost','recovCosts','miscCost','holdTaxCost',\\\n",
    "              'saleProceed','credEnhProceed','repurchProceed','otherForecloProceed','nonIntUPB',\\\n",
    "              'prinForgivBal','repurchMakeWholeProceedFlg','forecloPrinWriteOffAmnt','servActivIndicator']\n",
    "colchoices = [0,9,10,12,16]\n",
    "headerline = ['id','mSA','deliqStatus','zeroBalCode']"
   ]
  },
  {
   "cell_type": "code",
   "execution_count": 6,
   "metadata": {
    "scrolled": false
   },
   "outputs": [],
   "source": [
    "# Loop through each file from the unzipped download file - which gave a set of 76 individual files\n",
    "\n",
    "#Create an empty array to hold dataframes to later concatonate\n",
    "li = []\n",
    "\n",
    "#Loop through every file in the directory and append into array\n",
    "for in_path in Path(download_dir).glob('Performance*.txt'):\n",
    "    df = pd.read_csv(in_path, sep=\"|\", index_col=None, header=None, usecols=colchoices)\n",
    "    df.columns=headerline\n",
    "    df = df.set_index('id')\n",
    "    # Isolate the deliqStatus column to speed up aggregation calculations\n",
    "    deliq = df[['deliqStatus']].copy()\n",
    "    # deliqStatus has one value of 'X' amongst integer values and NaN values\n",
    "    # First replace 'X' values with NaN\n",
    "    deliq['deliqStatus'] = deliq['deliqStatus'].replace('X',np.nan).astype(float)\n",
    "    # Determine the number of zero (0) values representing successful payments for a loan\n",
    "    deliqGood = deliq[deliq['deliqStatus'] == 0].groupby('id').count()\n",
    "    # Determine the number of values > 0 representing delinquent payments for a loan\n",
    "    deliqBad = deliq[deliq['deliqStatus'] > 0].groupby('id').count()\n",
    "    # Determine the max() of deliqStatus representing highest numberdelinquent payments in a row for a loan\n",
    "    deliqMax = deliq[deliq['deliqStatus'] > 0].groupby('id').max()\n",
    "#     # Select only rows that have a zeroBalCode with a value ## Commented out to include ALL records\n",
    "#     zbc_df = df[df['zeroBalCode'].notnull()]\n",
    "    df = df.drop(columns=['deliqStatus'])\n",
    "    #Merge the zbc_df with the deliqGood\n",
    "    zbc_merge = pd.merge(df, deliqGood, on=['id'])\n",
    "    #Merge the zbc_df with the deliqBad\n",
    "    zbc_merge = pd.merge(zbc_merge, deliqBad, on=['id'])\n",
    "    #Merge the zbc_df with the deliqMax\n",
    "    zbc_merge = pd.merge(zbc_merge, deliqMax, on=['id'])\n",
    "    # Rename all the deqliq* columns\n",
    "    zbc_merge = zbc_merge.rename(columns={'deliqStatus_x':'deliqGood','deliqStatus_y':'deliqBad','deliqStatus':'deliqMax'})\n",
    "    # Add the zbc_merge df to the li list to be able to concat them later\n",
    "    li.append(zbc_merge)"
   ]
  },
  {
   "cell_type": "code",
   "execution_count": 7,
   "metadata": {},
   "outputs": [
    {
     "data": {
      "text/plain": [
       "78"
      ]
     },
     "execution_count": 7,
     "metadata": {},
     "output_type": "execute_result"
    }
   ],
   "source": [
    "len(li)"
   ]
  },
  {
   "cell_type": "code",
   "execution_count": 8,
   "metadata": {},
   "outputs": [],
   "source": [
    "#Concatonate all the array elements into one giant dataframe\n",
    "processed_df = pd.concat(li, axis=0)\n",
    "#df.columns = allheaderline"
   ]
  },
  {
   "cell_type": "code",
   "execution_count": 9,
   "metadata": {},
   "outputs": [
    {
     "data": {
      "text/plain": [
       "(443356941, 5)"
      ]
     },
     "execution_count": 9,
     "metadata": {},
     "output_type": "execute_result"
    }
   ],
   "source": [
    "processed_df.shape"
   ]
  },
  {
   "cell_type": "code",
   "execution_count": 10,
   "metadata": {},
   "outputs": [
    {
     "data": {
      "text/html": [
       "<div>\n",
       "<style scoped>\n",
       "    .dataframe tbody tr th:only-of-type {\n",
       "        vertical-align: middle;\n",
       "    }\n",
       "\n",
       "    .dataframe tbody tr th {\n",
       "        vertical-align: top;\n",
       "    }\n",
       "\n",
       "    .dataframe thead th {\n",
       "        text-align: right;\n",
       "    }\n",
       "</style>\n",
       "<table border=\"1\" class=\"dataframe\">\n",
       "  <thead>\n",
       "    <tr style=\"text-align: right;\">\n",
       "      <th></th>\n",
       "      <th>mSA</th>\n",
       "      <th>zeroBalCode</th>\n",
       "      <th>deliqGood</th>\n",
       "      <th>deliqBad</th>\n",
       "      <th>deliqMax</th>\n",
       "    </tr>\n",
       "    <tr>\n",
       "      <th>id</th>\n",
       "      <th></th>\n",
       "      <th></th>\n",
       "      <th></th>\n",
       "      <th></th>\n",
       "      <th></th>\n",
       "    </tr>\n",
       "  </thead>\n",
       "  <tbody>\n",
       "    <tr>\n",
       "      <th>100021703104</th>\n",
       "      <td>35980</td>\n",
       "      <td>NaN</td>\n",
       "      <td>33</td>\n",
       "      <td>1</td>\n",
       "      <td>1.0</td>\n",
       "    </tr>\n",
       "    <tr>\n",
       "      <th>100021703104</th>\n",
       "      <td>35980</td>\n",
       "      <td>NaN</td>\n",
       "      <td>33</td>\n",
       "      <td>1</td>\n",
       "      <td>1.0</td>\n",
       "    </tr>\n",
       "    <tr>\n",
       "      <th>100021703104</th>\n",
       "      <td>35980</td>\n",
       "      <td>NaN</td>\n",
       "      <td>33</td>\n",
       "      <td>1</td>\n",
       "      <td>1.0</td>\n",
       "    </tr>\n",
       "    <tr>\n",
       "      <th>100021703104</th>\n",
       "      <td>35980</td>\n",
       "      <td>NaN</td>\n",
       "      <td>33</td>\n",
       "      <td>1</td>\n",
       "      <td>1.0</td>\n",
       "    </tr>\n",
       "    <tr>\n",
       "      <th>100021703104</th>\n",
       "      <td>35980</td>\n",
       "      <td>NaN</td>\n",
       "      <td>33</td>\n",
       "      <td>1</td>\n",
       "      <td>1.0</td>\n",
       "    </tr>\n",
       "  </tbody>\n",
       "</table>\n",
       "</div>"
      ],
      "text/plain": [
       "                mSA  zeroBalCode  deliqGood  deliqBad  deliqMax\n",
       "id                                                             \n",
       "100021703104  35980          NaN         33         1       1.0\n",
       "100021703104  35980          NaN         33         1       1.0\n",
       "100021703104  35980          NaN         33         1       1.0\n",
       "100021703104  35980          NaN         33         1       1.0\n",
       "100021703104  35980          NaN         33         1       1.0"
      ]
     },
     "execution_count": 10,
     "metadata": {},
     "output_type": "execute_result"
    }
   ],
   "source": [
    "processed_df.head()"
   ]
  },
  {
   "cell_type": "code",
   "execution_count": 11,
   "metadata": {
    "scrolled": false
   },
   "outputs": [
    {
     "name": "stdout",
     "output_type": "stream",
     "text": [
      "<class 'pandas.core.frame.DataFrame'>\n",
      "Int64Index: 443356941 entries, 100021703104 to 999888644871\n",
      "Data columns (total 5 columns):\n",
      " #   Column       Dtype  \n",
      "---  ------       -----  \n",
      " 0   mSA          int64  \n",
      " 1   zeroBalCode  float64\n",
      " 2   deliqGood    int64  \n",
      " 3   deliqBad     int64  \n",
      " 4   deliqMax     float64\n",
      "dtypes: float64(2), int64(3)\n",
      "memory usage: 19.8 GB\n"
     ]
    }
   ],
   "source": [
    "#Review the columns for datatypes and how many non-null values \n",
    "processed_df.info()"
   ]
  },
  {
   "cell_type": "markdown",
   "metadata": {},
   "source": [
    "### Convert the origDate,firstPmtDate columns from strings to datetime datatypes\n",
    "Since this will be such a large dataset I tested a number of methods to change datatypes"
   ]
  },
  {
   "cell_type": "code",
   "execution_count": 12,
   "metadata": {},
   "outputs": [
    {
     "data": {
      "text/plain": [
       "(443356941, 5)"
      ]
     },
     "execution_count": 12,
     "metadata": {},
     "output_type": "execute_result"
    }
   ],
   "source": [
    "processed_df.shape"
   ]
  },
  {
   "cell_type": "code",
   "execution_count": 14,
   "metadata": {},
   "outputs": [
    {
     "name": "stdout",
     "output_type": "stream",
     "text": [
      "<class 'pandas.core.frame.DataFrame'>\n",
      "Int64Index: 443356941 entries, 100021703104 to 999888644871\n",
      "Data columns (total 5 columns):\n",
      " #   Column       Dtype  \n",
      "---  ------       -----  \n",
      " 0   mSA          int64  \n",
      " 1   zeroBalCode  float64\n",
      " 2   deliqGood    int64  \n",
      " 3   deliqBad     int64  \n",
      " 4   deliqMax     float64\n",
      "dtypes: float64(2), int64(3)\n",
      "memory usage: 19.8 GB\n"
     ]
    }
   ],
   "source": [
    "processed_df.info()"
   ]
  },
  {
   "cell_type": "code",
   "execution_count": null,
   "metadata": {},
   "outputs": [],
   "source": [
    "# Change all occurences of columns with 'Y' and 'N' to 0 and 1\n",
    "processed_df.replace('Y',1, inplace=True)\n",
    "processed_df.replace('N',0, inplace=True)"
   ]
  },
  {
   "cell_type": "code",
   "execution_count": null,
   "metadata": {},
   "outputs": [],
   "source": [
    "processed_df.info()"
   ]
  },
  {
   "cell_type": "code",
   "execution_count": 19,
   "metadata": {},
   "outputs": [],
   "source": [
    "processed_df.drop_duplicates( keep='last', inplace=True)"
   ]
  },
  {
   "cell_type": "code",
   "execution_count": 20,
   "metadata": {},
   "outputs": [
    {
     "data": {
      "text/html": [
       "<div>\n",
       "<style scoped>\n",
       "    .dataframe tbody tr th:only-of-type {\n",
       "        vertical-align: middle;\n",
       "    }\n",
       "\n",
       "    .dataframe tbody tr th {\n",
       "        vertical-align: top;\n",
       "    }\n",
       "\n",
       "    .dataframe thead th {\n",
       "        text-align: right;\n",
       "    }\n",
       "</style>\n",
       "<table border=\"1\" class=\"dataframe\">\n",
       "  <thead>\n",
       "    <tr style=\"text-align: right;\">\n",
       "      <th></th>\n",
       "      <th>mSA</th>\n",
       "      <th>zeroBalCode</th>\n",
       "      <th>deliqGood</th>\n",
       "      <th>deliqBad</th>\n",
       "      <th>deliqMax</th>\n",
       "    </tr>\n",
       "    <tr>\n",
       "      <th>id</th>\n",
       "      <th></th>\n",
       "      <th></th>\n",
       "      <th></th>\n",
       "      <th></th>\n",
       "      <th></th>\n",
       "    </tr>\n",
       "  </thead>\n",
       "  <tbody>\n",
       "    <tr>\n",
       "      <th>100023274028</th>\n",
       "      <td>12060</td>\n",
       "      <td>NaN</td>\n",
       "      <td>20</td>\n",
       "      <td>11</td>\n",
       "      <td>4.0</td>\n",
       "    </tr>\n",
       "    <tr>\n",
       "      <th>100023274028</th>\n",
       "      <td>12060</td>\n",
       "      <td>1.0</td>\n",
       "      <td>20</td>\n",
       "      <td>11</td>\n",
       "      <td>4.0</td>\n",
       "    </tr>\n",
       "    <tr>\n",
       "      <th>100057706656</th>\n",
       "      <td>17140</td>\n",
       "      <td>6.0</td>\n",
       "      <td>13</td>\n",
       "      <td>1</td>\n",
       "      <td>1.0</td>\n",
       "    </tr>\n",
       "    <tr>\n",
       "      <th>100118647578</th>\n",
       "      <td>38900</td>\n",
       "      <td>NaN</td>\n",
       "      <td>35</td>\n",
       "      <td>21</td>\n",
       "      <td>2.0</td>\n",
       "    </tr>\n",
       "    <tr>\n",
       "      <th>100118647578</th>\n",
       "      <td>38900</td>\n",
       "      <td>1.0</td>\n",
       "      <td>35</td>\n",
       "      <td>21</td>\n",
       "      <td>2.0</td>\n",
       "    </tr>\n",
       "  </tbody>\n",
       "</table>\n",
       "</div>"
      ],
      "text/plain": [
       "                mSA  zeroBalCode  deliqGood  deliqBad  deliqMax\n",
       "id                                                             \n",
       "100023274028  12060          NaN         20        11       4.0\n",
       "100023274028  12060          1.0         20        11       4.0\n",
       "100057706656  17140          6.0         13         1       1.0\n",
       "100118647578  38900          NaN         35        21       2.0\n",
       "100118647578  38900          1.0         35        21       2.0"
      ]
     },
     "execution_count": 20,
     "metadata": {},
     "output_type": "execute_result"
    }
   ],
   "source": [
    "processed_df.head()"
   ]
  },
  {
   "cell_type": "markdown",
   "metadata": {},
   "source": [
    "# Write the result df to csv"
   ]
  },
  {
   "cell_type": "code",
   "execution_count": 21,
   "metadata": {},
   "outputs": [],
   "source": [
    "processed_df.to_csv(outpath)"
   ]
  },
  {
   "cell_type": "code",
   "execution_count": null,
   "metadata": {},
   "outputs": [],
   "source": []
  }
 ],
 "metadata": {
  "kernelspec": {
   "display_name": "Python 3",
   "language": "python",
   "name": "python3"
  },
  "language_info": {
   "codemirror_mode": {
    "name": "ipython",
    "version": 3
   },
   "file_extension": ".py",
   "mimetype": "text/x-python",
   "name": "python",
   "nbconvert_exporter": "python",
   "pygments_lexer": "ipython3",
   "version": "3.6.11"
  }
 },
 "nbformat": 4,
 "nbformat_minor": 2
}
