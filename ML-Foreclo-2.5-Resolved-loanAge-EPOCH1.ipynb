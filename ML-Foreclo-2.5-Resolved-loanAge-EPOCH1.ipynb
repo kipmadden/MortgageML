{
 "cells": [
  {
   "cell_type": "markdown",
   "metadata": {},
   "source": [
    "# ML Foreclosure Binary Classification - 2.5% sample data\n",
    "Only \"resolved\" outcomes - Either paid off or default \n",
    "\n",
    "    target = zeroBalCode (set to object dtype) \n",
    "    Binary classification sets zeroBalCode to either \"0\" or \"1\" for the 7 possible outcomes\n",
    "    \n",
    "    \"0\" = \"Loan Success\"\n",
    "        * 01 = Prepaid or Matured\n",
    "        * 06 = Repurchased\n",
    "        * 16 = Reperforming Loan Sale\n",
    "\n",
    "    \"1\" =  \"Loan Failure\" - Most likely loss of money (but not necessarily) one of below conditions:\n",
    "        * 02 = Third Party Sale\n",
    "        * 03 = Short Sale\n",
    "        * 09 = Deed-in-Lieu,REO\n",
    "        * 15 = Note Sale\n"
   ]
  },
  {
   "cell_type": "code",
   "execution_count": 1,
   "metadata": {
    "_cell_guid": "79c7e3d0-c299-4dcb-8224-4455121ee9b0",
    "_kg_hide-output": true,
    "_uuid": "d629ff2d2480ee46fbb7e2d37f6b5fab8052498a"
   },
   "outputs": [],
   "source": [
    "import pandas as pd\n",
    "import numpy as np\n",
    "import matplotlib.pyplot as plt\n",
    "from sklearn.model_selection import train_test_split\n",
    "#!pip install pycaret\n",
    "from imblearn.over_sampling import RandomOverSampler\n",
    "from pycaret.classification import *\n",
    "#from pycaret.regression import *\n",
    "pd.set_option('display.max_columns', None)\n"
   ]
  },
  {
   "cell_type": "markdown",
   "metadata": {},
   "source": [
    "# Importing the data - only use *.ML.csv files!!!\n",
    "If you have *.MLReady.csv then [click here](#MLReady)"
   ]
  },
  {
   "cell_type": "code",
   "execution_count": 2,
   "metadata": {
    "scrolled": false
   },
   "outputs": [
    {
     "data": {
      "text/html": [
       "<div>\n",
       "<style scoped>\n",
       "    .dataframe tbody tr th:only-of-type {\n",
       "        vertical-align: middle;\n",
       "    }\n",
       "\n",
       "    .dataframe tbody tr th {\n",
       "        vertical-align: top;\n",
       "    }\n",
       "\n",
       "    .dataframe thead th {\n",
       "        text-align: right;\n",
       "    }\n",
       "</style>\n",
       "<table border=\"1\" class=\"dataframe\">\n",
       "  <thead>\n",
       "    <tr style=\"text-align: right;\">\n",
       "      <th></th>\n",
       "      <th>Unnamed: 0</th>\n",
       "      <th>id</th>\n",
       "      <th>origChannel</th>\n",
       "      <th>sellerName</th>\n",
       "      <th>origIntRate</th>\n",
       "      <th>origUPB</th>\n",
       "      <th>origLoanTerm</th>\n",
       "      <th>origDate</th>\n",
       "      <th>origLTV</th>\n",
       "      <th>origCLTV</th>\n",
       "      <th>numBorrowers</th>\n",
       "      <th>origDebtIncRatio</th>\n",
       "      <th>loanPurp</th>\n",
       "      <th>propState</th>\n",
       "      <th>zipCode</th>\n",
       "      <th>pMIperct</th>\n",
       "      <th>mortInsType</th>\n",
       "      <th>bestCreditScore</th>\n",
       "      <th>worstCreditScore</th>\n",
       "      <th>avgCreditScore</th>\n",
       "      <th>loanAge</th>\n",
       "      <th>monMatur</th>\n",
       "      <th>mSA</th>\n",
       "      <th>zeroBalCode</th>\n",
       "      <th>deliqGood</th>\n",
       "      <th>deliqBad</th>\n",
       "      <th>deliqMax</th>\n",
       "      <th>fmacRateMax</th>\n",
       "      <th>fmacRateMin</th>\n",
       "      <th>fmacRateAvg</th>\n",
       "      <th>fmacRateVolatility</th>\n",
       "      <th>fredRate</th>\n",
       "      <th>rateDiffAbove</th>\n",
       "      <th>rateDiffBelow</th>\n",
       "      <th>rateDiffAvg</th>\n",
       "      <th>rateDiffAbovePct</th>\n",
       "      <th>rateDiffBelowPct</th>\n",
       "      <th>rateDiffAvgPct</th>\n",
       "    </tr>\n",
       "  </thead>\n",
       "  <tbody>\n",
       "    <tr>\n",
       "      <th>0</th>\n",
       "      <td>0</td>\n",
       "      <td>102718910405</td>\n",
       "      <td>R</td>\n",
       "      <td>JPMORGAN CHASE BANK, NA</td>\n",
       "      <td>8.500</td>\n",
       "      <td>187000</td>\n",
       "      <td>360</td>\n",
       "      <td>2000-02-01</td>\n",
       "      <td>80.0</td>\n",
       "      <td>90.0</td>\n",
       "      <td>2.0</td>\n",
       "      <td>31.0</td>\n",
       "      <td>P</td>\n",
       "      <td>MI</td>\n",
       "      <td>483</td>\n",
       "      <td>0.0</td>\n",
       "      <td>0.0</td>\n",
       "      <td>712.0</td>\n",
       "      <td>706.0</td>\n",
       "      <td>709.0</td>\n",
       "      <td>70</td>\n",
       "      <td>290.0</td>\n",
       "      <td>19820</td>\n",
       "      <td>1.0</td>\n",
       "      <td>50</td>\n",
       "      <td>20</td>\n",
       "      <td>2.0</td>\n",
       "      <td>8.38</td>\n",
       "      <td>8.25</td>\n",
       "      <td>8.325</td>\n",
       "      <td>0.015758</td>\n",
       "      <td>6.62</td>\n",
       "      <td>0.120</td>\n",
       "      <td>-0.250</td>\n",
       "      <td>0.175</td>\n",
       "      <td>0.014320</td>\n",
       "      <td>-0.030303</td>\n",
       "      <td>0.021021</td>\n",
       "    </tr>\n",
       "    <tr>\n",
       "      <th>1</th>\n",
       "      <td>1</td>\n",
       "      <td>103123692845</td>\n",
       "      <td>B</td>\n",
       "      <td>JPMORGAN CHASE BANK, NA</td>\n",
       "      <td>8.500</td>\n",
       "      <td>243000</td>\n",
       "      <td>360</td>\n",
       "      <td>2000-02-01</td>\n",
       "      <td>80.0</td>\n",
       "      <td>95.0</td>\n",
       "      <td>1.0</td>\n",
       "      <td>49.0</td>\n",
       "      <td>P</td>\n",
       "      <td>CA</td>\n",
       "      <td>926</td>\n",
       "      <td>0.0</td>\n",
       "      <td>0.0</td>\n",
       "      <td>682.0</td>\n",
       "      <td>682.0</td>\n",
       "      <td>682.0</td>\n",
       "      <td>21</td>\n",
       "      <td>339.0</td>\n",
       "      <td>31100</td>\n",
       "      <td>1.0</td>\n",
       "      <td>17</td>\n",
       "      <td>4</td>\n",
       "      <td>1.0</td>\n",
       "      <td>8.38</td>\n",
       "      <td>8.25</td>\n",
       "      <td>8.325</td>\n",
       "      <td>0.015758</td>\n",
       "      <td>6.62</td>\n",
       "      <td>0.120</td>\n",
       "      <td>-0.250</td>\n",
       "      <td>0.175</td>\n",
       "      <td>0.014320</td>\n",
       "      <td>-0.030303</td>\n",
       "      <td>0.021021</td>\n",
       "    </tr>\n",
       "    <tr>\n",
       "      <th>2</th>\n",
       "      <td>2</td>\n",
       "      <td>117311391991</td>\n",
       "      <td>B</td>\n",
       "      <td>JPMORGAN CHASE BANK, NA</td>\n",
       "      <td>8.000</td>\n",
       "      <td>253000</td>\n",
       "      <td>360</td>\n",
       "      <td>2000-02-01</td>\n",
       "      <td>79.0</td>\n",
       "      <td>89.0</td>\n",
       "      <td>2.0</td>\n",
       "      <td>34.0</td>\n",
       "      <td>P</td>\n",
       "      <td>CA</td>\n",
       "      <td>953</td>\n",
       "      <td>0.0</td>\n",
       "      <td>0.0</td>\n",
       "      <td>810.0</td>\n",
       "      <td>784.0</td>\n",
       "      <td>797.0</td>\n",
       "      <td>36</td>\n",
       "      <td>324.0</td>\n",
       "      <td>44700</td>\n",
       "      <td>1.0</td>\n",
       "      <td>33</td>\n",
       "      <td>3</td>\n",
       "      <td>1.0</td>\n",
       "      <td>8.38</td>\n",
       "      <td>8.25</td>\n",
       "      <td>8.325</td>\n",
       "      <td>0.015758</td>\n",
       "      <td>6.62</td>\n",
       "      <td>-0.380</td>\n",
       "      <td>0.250</td>\n",
       "      <td>-0.325</td>\n",
       "      <td>-0.045346</td>\n",
       "      <td>0.030303</td>\n",
       "      <td>-0.039039</td>\n",
       "    </tr>\n",
       "    <tr>\n",
       "      <th>3</th>\n",
       "      <td>3</td>\n",
       "      <td>135950664937</td>\n",
       "      <td>R</td>\n",
       "      <td>JPMORGAN CHASE BANK, NA</td>\n",
       "      <td>8.500</td>\n",
       "      <td>138000</td>\n",
       "      <td>360</td>\n",
       "      <td>2000-02-01</td>\n",
       "      <td>80.0</td>\n",
       "      <td>95.0</td>\n",
       "      <td>1.0</td>\n",
       "      <td>30.0</td>\n",
       "      <td>P</td>\n",
       "      <td>MA</td>\n",
       "      <td>17</td>\n",
       "      <td>0.0</td>\n",
       "      <td>0.0</td>\n",
       "      <td>718.0</td>\n",
       "      <td>718.0</td>\n",
       "      <td>718.0</td>\n",
       "      <td>16</td>\n",
       "      <td>344.0</td>\n",
       "      <td>14460</td>\n",
       "      <td>1.0</td>\n",
       "      <td>14</td>\n",
       "      <td>2</td>\n",
       "      <td>1.0</td>\n",
       "      <td>8.38</td>\n",
       "      <td>8.25</td>\n",
       "      <td>8.325</td>\n",
       "      <td>0.015758</td>\n",
       "      <td>6.62</td>\n",
       "      <td>0.120</td>\n",
       "      <td>-0.250</td>\n",
       "      <td>0.175</td>\n",
       "      <td>0.014320</td>\n",
       "      <td>-0.030303</td>\n",
       "      <td>0.021021</td>\n",
       "    </tr>\n",
       "    <tr>\n",
       "      <th>4</th>\n",
       "      <td>4</td>\n",
       "      <td>226095365894</td>\n",
       "      <td>B</td>\n",
       "      <td>JPMORGAN CHASE BANK, NA</td>\n",
       "      <td>8.875</td>\n",
       "      <td>166000</td>\n",
       "      <td>360</td>\n",
       "      <td>2000-02-01</td>\n",
       "      <td>80.0</td>\n",
       "      <td>95.0</td>\n",
       "      <td>2.0</td>\n",
       "      <td>24.0</td>\n",
       "      <td>P</td>\n",
       "      <td>MA</td>\n",
       "      <td>18</td>\n",
       "      <td>0.0</td>\n",
       "      <td>0.0</td>\n",
       "      <td>782.0</td>\n",
       "      <td>752.0</td>\n",
       "      <td>767.0</td>\n",
       "      <td>24</td>\n",
       "      <td>336.0</td>\n",
       "      <td>14460</td>\n",
       "      <td>1.0</td>\n",
       "      <td>23</td>\n",
       "      <td>1</td>\n",
       "      <td>1.0</td>\n",
       "      <td>8.38</td>\n",
       "      <td>8.25</td>\n",
       "      <td>8.325</td>\n",
       "      <td>0.015758</td>\n",
       "      <td>6.62</td>\n",
       "      <td>0.495</td>\n",
       "      <td>-0.625</td>\n",
       "      <td>0.550</td>\n",
       "      <td>0.059069</td>\n",
       "      <td>-0.075758</td>\n",
       "      <td>0.066066</td>\n",
       "    </tr>\n",
       "  </tbody>\n",
       "</table>\n",
       "</div>"
      ],
      "text/plain": [
       "   Unnamed: 0            id origChannel               sellerName  origIntRate  \\\n",
       "0           0  102718910405           R  JPMORGAN CHASE BANK, NA        8.500   \n",
       "1           1  103123692845           B  JPMORGAN CHASE BANK, NA        8.500   \n",
       "2           2  117311391991           B  JPMORGAN CHASE BANK, NA        8.000   \n",
       "3           3  135950664937           R  JPMORGAN CHASE BANK, NA        8.500   \n",
       "4           4  226095365894           B  JPMORGAN CHASE BANK, NA        8.875   \n",
       "\n",
       "   origUPB  origLoanTerm    origDate  origLTV  origCLTV  numBorrowers  \\\n",
       "0   187000           360  2000-02-01     80.0      90.0           2.0   \n",
       "1   243000           360  2000-02-01     80.0      95.0           1.0   \n",
       "2   253000           360  2000-02-01     79.0      89.0           2.0   \n",
       "3   138000           360  2000-02-01     80.0      95.0           1.0   \n",
       "4   166000           360  2000-02-01     80.0      95.0           2.0   \n",
       "\n",
       "   origDebtIncRatio loanPurp propState  zipCode  pMIperct  mortInsType  \\\n",
       "0              31.0        P        MI      483       0.0          0.0   \n",
       "1              49.0        P        CA      926       0.0          0.0   \n",
       "2              34.0        P        CA      953       0.0          0.0   \n",
       "3              30.0        P        MA       17       0.0          0.0   \n",
       "4              24.0        P        MA       18       0.0          0.0   \n",
       "\n",
       "   bestCreditScore  worstCreditScore  avgCreditScore  loanAge  monMatur  \\\n",
       "0            712.0             706.0           709.0       70     290.0   \n",
       "1            682.0             682.0           682.0       21     339.0   \n",
       "2            810.0             784.0           797.0       36     324.0   \n",
       "3            718.0             718.0           718.0       16     344.0   \n",
       "4            782.0             752.0           767.0       24     336.0   \n",
       "\n",
       "     mSA  zeroBalCode  deliqGood  deliqBad  deliqMax  fmacRateMax  \\\n",
       "0  19820          1.0         50        20       2.0         8.38   \n",
       "1  31100          1.0         17         4       1.0         8.38   \n",
       "2  44700          1.0         33         3       1.0         8.38   \n",
       "3  14460          1.0         14         2       1.0         8.38   \n",
       "4  14460          1.0         23         1       1.0         8.38   \n",
       "\n",
       "   fmacRateMin  fmacRateAvg  fmacRateVolatility  fredRate  rateDiffAbove  \\\n",
       "0         8.25        8.325            0.015758      6.62          0.120   \n",
       "1         8.25        8.325            0.015758      6.62          0.120   \n",
       "2         8.25        8.325            0.015758      6.62         -0.380   \n",
       "3         8.25        8.325            0.015758      6.62          0.120   \n",
       "4         8.25        8.325            0.015758      6.62          0.495   \n",
       "\n",
       "   rateDiffBelow  rateDiffAvg  rateDiffAbovePct  rateDiffBelowPct  \\\n",
       "0         -0.250        0.175          0.014320         -0.030303   \n",
       "1         -0.250        0.175          0.014320         -0.030303   \n",
       "2          0.250       -0.325         -0.045346          0.030303   \n",
       "3         -0.250        0.175          0.014320         -0.030303   \n",
       "4         -0.625        0.550          0.059069         -0.075758   \n",
       "\n",
       "   rateDiffAvgPct  \n",
       "0        0.021021  \n",
       "1        0.021021  \n",
       "2       -0.039039  \n",
       "3        0.021021  \n",
       "4        0.066066  "
      ]
     },
     "execution_count": 2,
     "metadata": {},
     "output_type": "execute_result"
    }
   ],
   "source": [
    "df=pd.read_csv(\"data/FM_Acq2_Perf_FMAC_EPOCH1_loanAge.csv\")\n",
    "df.head()"
   ]
  },
  {
   "cell_type": "code",
   "execution_count": 3,
   "metadata": {
    "scrolled": false
   },
   "outputs": [
    {
     "name": "stdout",
     "output_type": "stream",
     "text": [
      "<class 'pandas.core.frame.DataFrame'>\n",
      "RangeIndex: 2278367 entries, 0 to 2278366\n",
      "Data columns (total 38 columns):\n",
      " #   Column              Dtype  \n",
      "---  ------              -----  \n",
      " 0   Unnamed: 0          int64  \n",
      " 1   id                  int64  \n",
      " 2   origChannel         object \n",
      " 3   sellerName          object \n",
      " 4   origIntRate         float64\n",
      " 5   origUPB             int64  \n",
      " 6   origLoanTerm        int64  \n",
      " 7   origDate            object \n",
      " 8   origLTV             float64\n",
      " 9   origCLTV            float64\n",
      " 10  numBorrowers        float64\n",
      " 11  origDebtIncRatio    float64\n",
      " 12  loanPurp            object \n",
      " 13  propState           object \n",
      " 14  zipCode             int64  \n",
      " 15  pMIperct            float64\n",
      " 16  mortInsType         float64\n",
      " 17  bestCreditScore     float64\n",
      " 18  worstCreditScore    float64\n",
      " 19  avgCreditScore      float64\n",
      " 20  loanAge             int64  \n",
      " 21  monMatur            float64\n",
      " 22  mSA                 int64  \n",
      " 23  zeroBalCode         float64\n",
      " 24  deliqGood           int64  \n",
      " 25  deliqBad            int64  \n",
      " 26  deliqMax            float64\n",
      " 27  fmacRateMax         float64\n",
      " 28  fmacRateMin         float64\n",
      " 29  fmacRateAvg         float64\n",
      " 30  fmacRateVolatility  float64\n",
      " 31  fredRate            float64\n",
      " 32  rateDiffAbove       float64\n",
      " 33  rateDiffBelow       float64\n",
      " 34  rateDiffAvg         float64\n",
      " 35  rateDiffAbovePct    float64\n",
      " 36  rateDiffBelowPct    float64\n",
      " 37  rateDiffAvgPct      float64\n",
      "dtypes: float64(24), int64(9), object(5)\n",
      "memory usage: 660.5+ MB\n"
     ]
    }
   ],
   "source": [
    "df.info()"
   ]
  },
  {
   "cell_type": "markdown",
   "metadata": {},
   "source": [
    "## Remove columns not involved in 'Foreclosure or Not' query"
   ]
  },
  {
   "cell_type": "code",
   "execution_count": 4,
   "metadata": {},
   "outputs": [],
   "source": [
    "df.drop(['Unnamed: 0','id','fredRate','monMatur','deliqGood','deliqBad','deliqMax'],1,inplace=True)"
   ]
  },
  {
   "cell_type": "code",
   "execution_count": 5,
   "metadata": {},
   "outputs": [
    {
     "name": "stdout",
     "output_type": "stream",
     "text": [
      "<class 'pandas.core.frame.DataFrame'>\n",
      "RangeIndex: 2278367 entries, 0 to 2278366\n",
      "Data columns (total 31 columns):\n",
      " #   Column              Dtype  \n",
      "---  ------              -----  \n",
      " 0   origChannel         object \n",
      " 1   sellerName          object \n",
      " 2   origIntRate         float64\n",
      " 3   origUPB             int64  \n",
      " 4   origLoanTerm        int64  \n",
      " 5   origDate            object \n",
      " 6   origLTV             float64\n",
      " 7   origCLTV            float64\n",
      " 8   numBorrowers        float64\n",
      " 9   origDebtIncRatio    float64\n",
      " 10  loanPurp            object \n",
      " 11  propState           object \n",
      " 12  zipCode             int64  \n",
      " 13  pMIperct            float64\n",
      " 14  mortInsType         float64\n",
      " 15  bestCreditScore     float64\n",
      " 16  worstCreditScore    float64\n",
      " 17  avgCreditScore      float64\n",
      " 18  loanAge             int64  \n",
      " 19  mSA                 int64  \n",
      " 20  zeroBalCode         float64\n",
      " 21  fmacRateMax         float64\n",
      " 22  fmacRateMin         float64\n",
      " 23  fmacRateAvg         float64\n",
      " 24  fmacRateVolatility  float64\n",
      " 25  rateDiffAbove       float64\n",
      " 26  rateDiffBelow       float64\n",
      " 27  rateDiffAvg         float64\n",
      " 28  rateDiffAbovePct    float64\n",
      " 29  rateDiffBelowPct    float64\n",
      " 30  rateDiffAvgPct      float64\n",
      "dtypes: float64(21), int64(5), object(5)\n",
      "memory usage: 538.9+ MB\n"
     ]
    }
   ],
   "source": [
    "df.info()"
   ]
  },
  {
   "cell_type": "markdown",
   "metadata": {},
   "source": [
    "### Check if any columns have a null value"
   ]
  },
  {
   "cell_type": "code",
   "execution_count": 6,
   "metadata": {},
   "outputs": [
    {
     "data": {
      "text/plain": [
       "origChannel           0\n",
       "sellerName            0\n",
       "origIntRate           0\n",
       "origUPB               0\n",
       "origLoanTerm          0\n",
       "origDate              0\n",
       "origLTV               0\n",
       "origCLTV              0\n",
       "numBorrowers          0\n",
       "origDebtIncRatio      0\n",
       "loanPurp              0\n",
       "propState             0\n",
       "zipCode               0\n",
       "pMIperct              0\n",
       "mortInsType           0\n",
       "bestCreditScore       0\n",
       "worstCreditScore      0\n",
       "avgCreditScore        0\n",
       "loanAge               0\n",
       "mSA                   0\n",
       "zeroBalCode           0\n",
       "fmacRateMax           0\n",
       "fmacRateMin           0\n",
       "fmacRateAvg           0\n",
       "fmacRateVolatility    0\n",
       "rateDiffAbove         0\n",
       "rateDiffBelow         0\n",
       "rateDiffAvg           0\n",
       "rateDiffAbovePct      0\n",
       "rateDiffBelowPct      0\n",
       "rateDiffAvgPct        0\n",
       "dtype: int64"
      ]
     },
     "execution_count": 6,
     "metadata": {},
     "output_type": "execute_result"
    }
   ],
   "source": [
    "df.apply(lambda x: x.isnull().sum(), axis=0)"
   ]
  },
  {
   "cell_type": "markdown",
   "metadata": {},
   "source": [
    "## Engineer originDate into Date features"
   ]
  },
  {
   "cell_type": "code",
   "execution_count": 7,
   "metadata": {},
   "outputs": [],
   "source": [
    "df['origDate'] = pd.to_datetime(df['origDate'])"
   ]
  },
  {
   "cell_type": "code",
   "execution_count": 8,
   "metadata": {},
   "outputs": [],
   "source": [
    "df['origYear'] = df['origDate'].dt.year\n",
    "df['origMonth'] = df['origDate'].dt.month"
   ]
  },
  {
   "cell_type": "code",
   "execution_count": 9,
   "metadata": {},
   "outputs": [],
   "source": [
    "df.drop(['origDate'],1,inplace=True)"
   ]
  },
  {
   "cell_type": "code",
   "execution_count": 10,
   "metadata": {
    "scrolled": true
   },
   "outputs": [
    {
     "data": {
      "text/html": [
       "<div>\n",
       "<style scoped>\n",
       "    .dataframe tbody tr th:only-of-type {\n",
       "        vertical-align: middle;\n",
       "    }\n",
       "\n",
       "    .dataframe tbody tr th {\n",
       "        vertical-align: top;\n",
       "    }\n",
       "\n",
       "    .dataframe thead th {\n",
       "        text-align: right;\n",
       "    }\n",
       "</style>\n",
       "<table border=\"1\" class=\"dataframe\">\n",
       "  <thead>\n",
       "    <tr style=\"text-align: right;\">\n",
       "      <th></th>\n",
       "      <th>origYear</th>\n",
       "      <th>origMonth</th>\n",
       "    </tr>\n",
       "  </thead>\n",
       "  <tbody>\n",
       "    <tr>\n",
       "      <th>0</th>\n",
       "      <td>2000</td>\n",
       "      <td>2</td>\n",
       "    </tr>\n",
       "    <tr>\n",
       "      <th>1</th>\n",
       "      <td>2000</td>\n",
       "      <td>2</td>\n",
       "    </tr>\n",
       "    <tr>\n",
       "      <th>2</th>\n",
       "      <td>2000</td>\n",
       "      <td>2</td>\n",
       "    </tr>\n",
       "    <tr>\n",
       "      <th>3</th>\n",
       "      <td>2000</td>\n",
       "      <td>2</td>\n",
       "    </tr>\n",
       "    <tr>\n",
       "      <th>4</th>\n",
       "      <td>2000</td>\n",
       "      <td>2</td>\n",
       "    </tr>\n",
       "  </tbody>\n",
       "</table>\n",
       "</div>"
      ],
      "text/plain": [
       "   origYear  origMonth\n",
       "0      2000          2\n",
       "1      2000          2\n",
       "2      2000          2\n",
       "3      2000          2\n",
       "4      2000          2"
      ]
     },
     "execution_count": 10,
     "metadata": {},
     "output_type": "execute_result"
    }
   ],
   "source": [
    "df[['origYear','origMonth']].head()"
   ]
  },
  {
   "cell_type": "markdown",
   "metadata": {},
   "source": [
    "# Turn zero Balance Code Into binary \"0\" GOOD and \"1\" BAD"
   ]
  },
  {
   "cell_type": "code",
   "execution_count": 11,
   "metadata": {},
   "outputs": [
    {
     "data": {
      "text/plain": [
       "array([ 1.,  6.,  9.,  3.,  2., 15., 16.])"
      ]
     },
     "execution_count": 11,
     "metadata": {},
     "output_type": "execute_result"
    }
   ],
   "source": [
    "df.zeroBalCode.unique()"
   ]
  },
  {
   "cell_type": "code",
   "execution_count": 12,
   "metadata": {},
   "outputs": [],
   "source": [
    "df['zeroBalCode'] = df.zeroBalCode.replace([1,6,16],0)\n",
    "df['zeroBalCode'] = df.zeroBalCode.replace([9,3,2,15],1)"
   ]
  },
  {
   "cell_type": "code",
   "execution_count": 13,
   "metadata": {},
   "outputs": [
    {
     "data": {
      "text/plain": [
       "array([0., 1.])"
      ]
     },
     "execution_count": 13,
     "metadata": {},
     "output_type": "execute_result"
    }
   ],
   "source": [
    "df.zeroBalCode.unique()"
   ]
  },
  {
   "cell_type": "code",
   "execution_count": 14,
   "metadata": {
    "scrolled": false
   },
   "outputs": [
    {
     "data": {
      "text/html": [
       "<div>\n",
       "<style scoped>\n",
       "    .dataframe tbody tr th:only-of-type {\n",
       "        vertical-align: middle;\n",
       "    }\n",
       "\n",
       "    .dataframe tbody tr th {\n",
       "        vertical-align: top;\n",
       "    }\n",
       "\n",
       "    .dataframe thead th {\n",
       "        text-align: right;\n",
       "    }\n",
       "</style>\n",
       "<table border=\"1\" class=\"dataframe\">\n",
       "  <thead>\n",
       "    <tr style=\"text-align: right;\">\n",
       "      <th></th>\n",
       "      <th>origChannel</th>\n",
       "      <th>sellerName</th>\n",
       "      <th>origIntRate</th>\n",
       "      <th>origUPB</th>\n",
       "      <th>origLoanTerm</th>\n",
       "      <th>origLTV</th>\n",
       "      <th>origCLTV</th>\n",
       "      <th>numBorrowers</th>\n",
       "      <th>origDebtIncRatio</th>\n",
       "      <th>loanPurp</th>\n",
       "      <th>propState</th>\n",
       "      <th>zipCode</th>\n",
       "      <th>pMIperct</th>\n",
       "      <th>mortInsType</th>\n",
       "      <th>bestCreditScore</th>\n",
       "      <th>worstCreditScore</th>\n",
       "      <th>avgCreditScore</th>\n",
       "      <th>loanAge</th>\n",
       "      <th>mSA</th>\n",
       "      <th>zeroBalCode</th>\n",
       "      <th>fmacRateMax</th>\n",
       "      <th>fmacRateMin</th>\n",
       "      <th>fmacRateAvg</th>\n",
       "      <th>fmacRateVolatility</th>\n",
       "      <th>rateDiffAbove</th>\n",
       "      <th>rateDiffBelow</th>\n",
       "      <th>rateDiffAvg</th>\n",
       "      <th>rateDiffAbovePct</th>\n",
       "      <th>rateDiffBelowPct</th>\n",
       "      <th>rateDiffAvgPct</th>\n",
       "      <th>origYear</th>\n",
       "      <th>origMonth</th>\n",
       "    </tr>\n",
       "  </thead>\n",
       "  <tbody>\n",
       "    <tr>\n",
       "      <th>0</th>\n",
       "      <td>R</td>\n",
       "      <td>JPMORGAN CHASE BANK, NA</td>\n",
       "      <td>8.500</td>\n",
       "      <td>187000</td>\n",
       "      <td>360</td>\n",
       "      <td>80.0</td>\n",
       "      <td>90.0</td>\n",
       "      <td>2.0</td>\n",
       "      <td>31.0</td>\n",
       "      <td>P</td>\n",
       "      <td>MI</td>\n",
       "      <td>483</td>\n",
       "      <td>0.0</td>\n",
       "      <td>0.0</td>\n",
       "      <td>712.0</td>\n",
       "      <td>706.0</td>\n",
       "      <td>709.0</td>\n",
       "      <td>70</td>\n",
       "      <td>19820</td>\n",
       "      <td>0.0</td>\n",
       "      <td>8.38</td>\n",
       "      <td>8.25</td>\n",
       "      <td>8.325</td>\n",
       "      <td>0.015758</td>\n",
       "      <td>0.120</td>\n",
       "      <td>-0.250</td>\n",
       "      <td>0.175</td>\n",
       "      <td>0.014320</td>\n",
       "      <td>-0.030303</td>\n",
       "      <td>0.021021</td>\n",
       "      <td>2000</td>\n",
       "      <td>2</td>\n",
       "    </tr>\n",
       "    <tr>\n",
       "      <th>1</th>\n",
       "      <td>B</td>\n",
       "      <td>JPMORGAN CHASE BANK, NA</td>\n",
       "      <td>8.500</td>\n",
       "      <td>243000</td>\n",
       "      <td>360</td>\n",
       "      <td>80.0</td>\n",
       "      <td>95.0</td>\n",
       "      <td>1.0</td>\n",
       "      <td>49.0</td>\n",
       "      <td>P</td>\n",
       "      <td>CA</td>\n",
       "      <td>926</td>\n",
       "      <td>0.0</td>\n",
       "      <td>0.0</td>\n",
       "      <td>682.0</td>\n",
       "      <td>682.0</td>\n",
       "      <td>682.0</td>\n",
       "      <td>21</td>\n",
       "      <td>31100</td>\n",
       "      <td>0.0</td>\n",
       "      <td>8.38</td>\n",
       "      <td>8.25</td>\n",
       "      <td>8.325</td>\n",
       "      <td>0.015758</td>\n",
       "      <td>0.120</td>\n",
       "      <td>-0.250</td>\n",
       "      <td>0.175</td>\n",
       "      <td>0.014320</td>\n",
       "      <td>-0.030303</td>\n",
       "      <td>0.021021</td>\n",
       "      <td>2000</td>\n",
       "      <td>2</td>\n",
       "    </tr>\n",
       "    <tr>\n",
       "      <th>2</th>\n",
       "      <td>B</td>\n",
       "      <td>JPMORGAN CHASE BANK, NA</td>\n",
       "      <td>8.000</td>\n",
       "      <td>253000</td>\n",
       "      <td>360</td>\n",
       "      <td>79.0</td>\n",
       "      <td>89.0</td>\n",
       "      <td>2.0</td>\n",
       "      <td>34.0</td>\n",
       "      <td>P</td>\n",
       "      <td>CA</td>\n",
       "      <td>953</td>\n",
       "      <td>0.0</td>\n",
       "      <td>0.0</td>\n",
       "      <td>810.0</td>\n",
       "      <td>784.0</td>\n",
       "      <td>797.0</td>\n",
       "      <td>36</td>\n",
       "      <td>44700</td>\n",
       "      <td>0.0</td>\n",
       "      <td>8.38</td>\n",
       "      <td>8.25</td>\n",
       "      <td>8.325</td>\n",
       "      <td>0.015758</td>\n",
       "      <td>-0.380</td>\n",
       "      <td>0.250</td>\n",
       "      <td>-0.325</td>\n",
       "      <td>-0.045346</td>\n",
       "      <td>0.030303</td>\n",
       "      <td>-0.039039</td>\n",
       "      <td>2000</td>\n",
       "      <td>2</td>\n",
       "    </tr>\n",
       "    <tr>\n",
       "      <th>3</th>\n",
       "      <td>R</td>\n",
       "      <td>JPMORGAN CHASE BANK, NA</td>\n",
       "      <td>8.500</td>\n",
       "      <td>138000</td>\n",
       "      <td>360</td>\n",
       "      <td>80.0</td>\n",
       "      <td>95.0</td>\n",
       "      <td>1.0</td>\n",
       "      <td>30.0</td>\n",
       "      <td>P</td>\n",
       "      <td>MA</td>\n",
       "      <td>17</td>\n",
       "      <td>0.0</td>\n",
       "      <td>0.0</td>\n",
       "      <td>718.0</td>\n",
       "      <td>718.0</td>\n",
       "      <td>718.0</td>\n",
       "      <td>16</td>\n",
       "      <td>14460</td>\n",
       "      <td>0.0</td>\n",
       "      <td>8.38</td>\n",
       "      <td>8.25</td>\n",
       "      <td>8.325</td>\n",
       "      <td>0.015758</td>\n",
       "      <td>0.120</td>\n",
       "      <td>-0.250</td>\n",
       "      <td>0.175</td>\n",
       "      <td>0.014320</td>\n",
       "      <td>-0.030303</td>\n",
       "      <td>0.021021</td>\n",
       "      <td>2000</td>\n",
       "      <td>2</td>\n",
       "    </tr>\n",
       "    <tr>\n",
       "      <th>4</th>\n",
       "      <td>B</td>\n",
       "      <td>JPMORGAN CHASE BANK, NA</td>\n",
       "      <td>8.875</td>\n",
       "      <td>166000</td>\n",
       "      <td>360</td>\n",
       "      <td>80.0</td>\n",
       "      <td>95.0</td>\n",
       "      <td>2.0</td>\n",
       "      <td>24.0</td>\n",
       "      <td>P</td>\n",
       "      <td>MA</td>\n",
       "      <td>18</td>\n",
       "      <td>0.0</td>\n",
       "      <td>0.0</td>\n",
       "      <td>782.0</td>\n",
       "      <td>752.0</td>\n",
       "      <td>767.0</td>\n",
       "      <td>24</td>\n",
       "      <td>14460</td>\n",
       "      <td>0.0</td>\n",
       "      <td>8.38</td>\n",
       "      <td>8.25</td>\n",
       "      <td>8.325</td>\n",
       "      <td>0.015758</td>\n",
       "      <td>0.495</td>\n",
       "      <td>-0.625</td>\n",
       "      <td>0.550</td>\n",
       "      <td>0.059069</td>\n",
       "      <td>-0.075758</td>\n",
       "      <td>0.066066</td>\n",
       "      <td>2000</td>\n",
       "      <td>2</td>\n",
       "    </tr>\n",
       "  </tbody>\n",
       "</table>\n",
       "</div>"
      ],
      "text/plain": [
       "  origChannel               sellerName  origIntRate  origUPB  origLoanTerm  \\\n",
       "0           R  JPMORGAN CHASE BANK, NA        8.500   187000           360   \n",
       "1           B  JPMORGAN CHASE BANK, NA        8.500   243000           360   \n",
       "2           B  JPMORGAN CHASE BANK, NA        8.000   253000           360   \n",
       "3           R  JPMORGAN CHASE BANK, NA        8.500   138000           360   \n",
       "4           B  JPMORGAN CHASE BANK, NA        8.875   166000           360   \n",
       "\n",
       "   origLTV  origCLTV  numBorrowers  origDebtIncRatio loanPurp propState  \\\n",
       "0     80.0      90.0           2.0              31.0        P        MI   \n",
       "1     80.0      95.0           1.0              49.0        P        CA   \n",
       "2     79.0      89.0           2.0              34.0        P        CA   \n",
       "3     80.0      95.0           1.0              30.0        P        MA   \n",
       "4     80.0      95.0           2.0              24.0        P        MA   \n",
       "\n",
       "   zipCode  pMIperct  mortInsType  bestCreditScore  worstCreditScore  \\\n",
       "0      483       0.0          0.0            712.0             706.0   \n",
       "1      926       0.0          0.0            682.0             682.0   \n",
       "2      953       0.0          0.0            810.0             784.0   \n",
       "3       17       0.0          0.0            718.0             718.0   \n",
       "4       18       0.0          0.0            782.0             752.0   \n",
       "\n",
       "   avgCreditScore  loanAge    mSA  zeroBalCode  fmacRateMax  fmacRateMin  \\\n",
       "0           709.0       70  19820          0.0         8.38         8.25   \n",
       "1           682.0       21  31100          0.0         8.38         8.25   \n",
       "2           797.0       36  44700          0.0         8.38         8.25   \n",
       "3           718.0       16  14460          0.0         8.38         8.25   \n",
       "4           767.0       24  14460          0.0         8.38         8.25   \n",
       "\n",
       "   fmacRateAvg  fmacRateVolatility  rateDiffAbove  rateDiffBelow  rateDiffAvg  \\\n",
       "0        8.325            0.015758          0.120         -0.250        0.175   \n",
       "1        8.325            0.015758          0.120         -0.250        0.175   \n",
       "2        8.325            0.015758         -0.380          0.250       -0.325   \n",
       "3        8.325            0.015758          0.120         -0.250        0.175   \n",
       "4        8.325            0.015758          0.495         -0.625        0.550   \n",
       "\n",
       "   rateDiffAbovePct  rateDiffBelowPct  rateDiffAvgPct  origYear  origMonth  \n",
       "0          0.014320         -0.030303        0.021021      2000          2  \n",
       "1          0.014320         -0.030303        0.021021      2000          2  \n",
       "2         -0.045346          0.030303       -0.039039      2000          2  \n",
       "3          0.014320         -0.030303        0.021021      2000          2  \n",
       "4          0.059069         -0.075758        0.066066      2000          2  "
      ]
     },
     "execution_count": 14,
     "metadata": {},
     "output_type": "execute_result"
    }
   ],
   "source": [
    "#Checking datatypes of individual feature\n",
    "df.head()"
   ]
  },
  {
   "cell_type": "markdown",
   "metadata": {},
   "source": [
    "# Review values for dates and slice (if needed) the timeframe you want"
   ]
  },
  {
   "cell_type": "code",
   "execution_count": 15,
   "metadata": {},
   "outputs": [
    {
     "data": {
      "text/plain": [
       "array([2000, 1999, 2001, 2002, 2003, 2004, 2005, 2006, 2007, 2008],\n",
       "      dtype=int64)"
      ]
     },
     "execution_count": 15,
     "metadata": {},
     "output_type": "execute_result"
    }
   ],
   "source": [
    "df.origYear.unique()"
   ]
  },
  {
   "cell_type": "code",
   "execution_count": 16,
   "metadata": {},
   "outputs": [
    {
     "data": {
      "text/plain": [
       "array([ 2, 12, 10,  1, 11,  9,  4,  3,  5,  6,  8,  7], dtype=int64)"
      ]
     },
     "execution_count": 16,
     "metadata": {},
     "output_type": "execute_result"
    }
   ],
   "source": [
    "df['origMonth'].unique()"
   ]
  },
  {
   "cell_type": "code",
   "execution_count": 17,
   "metadata": {},
   "outputs": [
    {
     "data": {
      "text/html": [
       "<div>\n",
       "<style scoped>\n",
       "    .dataframe tbody tr th:only-of-type {\n",
       "        vertical-align: middle;\n",
       "    }\n",
       "\n",
       "    .dataframe tbody tr th {\n",
       "        vertical-align: top;\n",
       "    }\n",
       "\n",
       "    .dataframe thead th {\n",
       "        text-align: right;\n",
       "    }\n",
       "</style>\n",
       "<table border=\"1\" class=\"dataframe\">\n",
       "  <thead>\n",
       "    <tr style=\"text-align: right;\">\n",
       "      <th></th>\n",
       "      <th>origChannel</th>\n",
       "      <th>sellerName</th>\n",
       "      <th>origIntRate</th>\n",
       "      <th>origUPB</th>\n",
       "      <th>origLoanTerm</th>\n",
       "      <th>origLTV</th>\n",
       "      <th>origCLTV</th>\n",
       "      <th>numBorrowers</th>\n",
       "      <th>origDebtIncRatio</th>\n",
       "      <th>loanPurp</th>\n",
       "      <th>propState</th>\n",
       "      <th>zipCode</th>\n",
       "      <th>pMIperct</th>\n",
       "      <th>mortInsType</th>\n",
       "      <th>bestCreditScore</th>\n",
       "      <th>worstCreditScore</th>\n",
       "      <th>avgCreditScore</th>\n",
       "      <th>loanAge</th>\n",
       "      <th>mSA</th>\n",
       "      <th>zeroBalCode</th>\n",
       "      <th>fmacRateMax</th>\n",
       "      <th>fmacRateMin</th>\n",
       "      <th>fmacRateAvg</th>\n",
       "      <th>fmacRateVolatility</th>\n",
       "      <th>rateDiffAbove</th>\n",
       "      <th>rateDiffBelow</th>\n",
       "      <th>rateDiffAvg</th>\n",
       "      <th>rateDiffAbovePct</th>\n",
       "      <th>rateDiffBelowPct</th>\n",
       "      <th>rateDiffAvgPct</th>\n",
       "      <th>origYear</th>\n",
       "      <th>origMonth</th>\n",
       "    </tr>\n",
       "  </thead>\n",
       "  <tbody>\n",
       "    <tr>\n",
       "      <th>0</th>\n",
       "      <td>R</td>\n",
       "      <td>JPMORGAN CHASE BANK, NA</td>\n",
       "      <td>8.500</td>\n",
       "      <td>187000</td>\n",
       "      <td>360</td>\n",
       "      <td>80.0</td>\n",
       "      <td>90.0</td>\n",
       "      <td>2.0</td>\n",
       "      <td>31.0</td>\n",
       "      <td>P</td>\n",
       "      <td>MI</td>\n",
       "      <td>483</td>\n",
       "      <td>0.0</td>\n",
       "      <td>0.0</td>\n",
       "      <td>712.0</td>\n",
       "      <td>706.0</td>\n",
       "      <td>709.0</td>\n",
       "      <td>70</td>\n",
       "      <td>19820</td>\n",
       "      <td>0.0</td>\n",
       "      <td>8.38</td>\n",
       "      <td>8.25</td>\n",
       "      <td>8.325</td>\n",
       "      <td>0.015758</td>\n",
       "      <td>0.120</td>\n",
       "      <td>-0.250</td>\n",
       "      <td>0.175</td>\n",
       "      <td>0.014320</td>\n",
       "      <td>-0.030303</td>\n",
       "      <td>0.021021</td>\n",
       "      <td>2000</td>\n",
       "      <td>2</td>\n",
       "    </tr>\n",
       "    <tr>\n",
       "      <th>1</th>\n",
       "      <td>B</td>\n",
       "      <td>JPMORGAN CHASE BANK, NA</td>\n",
       "      <td>8.500</td>\n",
       "      <td>243000</td>\n",
       "      <td>360</td>\n",
       "      <td>80.0</td>\n",
       "      <td>95.0</td>\n",
       "      <td>1.0</td>\n",
       "      <td>49.0</td>\n",
       "      <td>P</td>\n",
       "      <td>CA</td>\n",
       "      <td>926</td>\n",
       "      <td>0.0</td>\n",
       "      <td>0.0</td>\n",
       "      <td>682.0</td>\n",
       "      <td>682.0</td>\n",
       "      <td>682.0</td>\n",
       "      <td>21</td>\n",
       "      <td>31100</td>\n",
       "      <td>0.0</td>\n",
       "      <td>8.38</td>\n",
       "      <td>8.25</td>\n",
       "      <td>8.325</td>\n",
       "      <td>0.015758</td>\n",
       "      <td>0.120</td>\n",
       "      <td>-0.250</td>\n",
       "      <td>0.175</td>\n",
       "      <td>0.014320</td>\n",
       "      <td>-0.030303</td>\n",
       "      <td>0.021021</td>\n",
       "      <td>2000</td>\n",
       "      <td>2</td>\n",
       "    </tr>\n",
       "    <tr>\n",
       "      <th>2</th>\n",
       "      <td>B</td>\n",
       "      <td>JPMORGAN CHASE BANK, NA</td>\n",
       "      <td>8.000</td>\n",
       "      <td>253000</td>\n",
       "      <td>360</td>\n",
       "      <td>79.0</td>\n",
       "      <td>89.0</td>\n",
       "      <td>2.0</td>\n",
       "      <td>34.0</td>\n",
       "      <td>P</td>\n",
       "      <td>CA</td>\n",
       "      <td>953</td>\n",
       "      <td>0.0</td>\n",
       "      <td>0.0</td>\n",
       "      <td>810.0</td>\n",
       "      <td>784.0</td>\n",
       "      <td>797.0</td>\n",
       "      <td>36</td>\n",
       "      <td>44700</td>\n",
       "      <td>0.0</td>\n",
       "      <td>8.38</td>\n",
       "      <td>8.25</td>\n",
       "      <td>8.325</td>\n",
       "      <td>0.015758</td>\n",
       "      <td>-0.380</td>\n",
       "      <td>0.250</td>\n",
       "      <td>-0.325</td>\n",
       "      <td>-0.045346</td>\n",
       "      <td>0.030303</td>\n",
       "      <td>-0.039039</td>\n",
       "      <td>2000</td>\n",
       "      <td>2</td>\n",
       "    </tr>\n",
       "    <tr>\n",
       "      <th>3</th>\n",
       "      <td>R</td>\n",
       "      <td>JPMORGAN CHASE BANK, NA</td>\n",
       "      <td>8.500</td>\n",
       "      <td>138000</td>\n",
       "      <td>360</td>\n",
       "      <td>80.0</td>\n",
       "      <td>95.0</td>\n",
       "      <td>1.0</td>\n",
       "      <td>30.0</td>\n",
       "      <td>P</td>\n",
       "      <td>MA</td>\n",
       "      <td>17</td>\n",
       "      <td>0.0</td>\n",
       "      <td>0.0</td>\n",
       "      <td>718.0</td>\n",
       "      <td>718.0</td>\n",
       "      <td>718.0</td>\n",
       "      <td>16</td>\n",
       "      <td>14460</td>\n",
       "      <td>0.0</td>\n",
       "      <td>8.38</td>\n",
       "      <td>8.25</td>\n",
       "      <td>8.325</td>\n",
       "      <td>0.015758</td>\n",
       "      <td>0.120</td>\n",
       "      <td>-0.250</td>\n",
       "      <td>0.175</td>\n",
       "      <td>0.014320</td>\n",
       "      <td>-0.030303</td>\n",
       "      <td>0.021021</td>\n",
       "      <td>2000</td>\n",
       "      <td>2</td>\n",
       "    </tr>\n",
       "    <tr>\n",
       "      <th>4</th>\n",
       "      <td>B</td>\n",
       "      <td>JPMORGAN CHASE BANK, NA</td>\n",
       "      <td>8.875</td>\n",
       "      <td>166000</td>\n",
       "      <td>360</td>\n",
       "      <td>80.0</td>\n",
       "      <td>95.0</td>\n",
       "      <td>2.0</td>\n",
       "      <td>24.0</td>\n",
       "      <td>P</td>\n",
       "      <td>MA</td>\n",
       "      <td>18</td>\n",
       "      <td>0.0</td>\n",
       "      <td>0.0</td>\n",
       "      <td>782.0</td>\n",
       "      <td>752.0</td>\n",
       "      <td>767.0</td>\n",
       "      <td>24</td>\n",
       "      <td>14460</td>\n",
       "      <td>0.0</td>\n",
       "      <td>8.38</td>\n",
       "      <td>8.25</td>\n",
       "      <td>8.325</td>\n",
       "      <td>0.015758</td>\n",
       "      <td>0.495</td>\n",
       "      <td>-0.625</td>\n",
       "      <td>0.550</td>\n",
       "      <td>0.059069</td>\n",
       "      <td>-0.075758</td>\n",
       "      <td>0.066066</td>\n",
       "      <td>2000</td>\n",
       "      <td>2</td>\n",
       "    </tr>\n",
       "  </tbody>\n",
       "</table>\n",
       "</div>"
      ],
      "text/plain": [
       "  origChannel               sellerName  origIntRate  origUPB  origLoanTerm  \\\n",
       "0           R  JPMORGAN CHASE BANK, NA        8.500   187000           360   \n",
       "1           B  JPMORGAN CHASE BANK, NA        8.500   243000           360   \n",
       "2           B  JPMORGAN CHASE BANK, NA        8.000   253000           360   \n",
       "3           R  JPMORGAN CHASE BANK, NA        8.500   138000           360   \n",
       "4           B  JPMORGAN CHASE BANK, NA        8.875   166000           360   \n",
       "\n",
       "   origLTV  origCLTV  numBorrowers  origDebtIncRatio loanPurp propState  \\\n",
       "0     80.0      90.0           2.0              31.0        P        MI   \n",
       "1     80.0      95.0           1.0              49.0        P        CA   \n",
       "2     79.0      89.0           2.0              34.0        P        CA   \n",
       "3     80.0      95.0           1.0              30.0        P        MA   \n",
       "4     80.0      95.0           2.0              24.0        P        MA   \n",
       "\n",
       "   zipCode  pMIperct  mortInsType  bestCreditScore  worstCreditScore  \\\n",
       "0      483       0.0          0.0            712.0             706.0   \n",
       "1      926       0.0          0.0            682.0             682.0   \n",
       "2      953       0.0          0.0            810.0             784.0   \n",
       "3       17       0.0          0.0            718.0             718.0   \n",
       "4       18       0.0          0.0            782.0             752.0   \n",
       "\n",
       "   avgCreditScore  loanAge    mSA  zeroBalCode  fmacRateMax  fmacRateMin  \\\n",
       "0           709.0       70  19820          0.0         8.38         8.25   \n",
       "1           682.0       21  31100          0.0         8.38         8.25   \n",
       "2           797.0       36  44700          0.0         8.38         8.25   \n",
       "3           718.0       16  14460          0.0         8.38         8.25   \n",
       "4           767.0       24  14460          0.0         8.38         8.25   \n",
       "\n",
       "   fmacRateAvg  fmacRateVolatility  rateDiffAbove  rateDiffBelow  rateDiffAvg  \\\n",
       "0        8.325            0.015758          0.120         -0.250        0.175   \n",
       "1        8.325            0.015758          0.120         -0.250        0.175   \n",
       "2        8.325            0.015758         -0.380          0.250       -0.325   \n",
       "3        8.325            0.015758          0.120         -0.250        0.175   \n",
       "4        8.325            0.015758          0.495         -0.625        0.550   \n",
       "\n",
       "   rateDiffAbovePct  rateDiffBelowPct  rateDiffAvgPct  origYear  origMonth  \n",
       "0          0.014320         -0.030303        0.021021      2000          2  \n",
       "1          0.014320         -0.030303        0.021021      2000          2  \n",
       "2         -0.045346          0.030303       -0.039039      2000          2  \n",
       "3          0.014320         -0.030303        0.021021      2000          2  \n",
       "4          0.059069         -0.075758        0.066066      2000          2  "
      ]
     },
     "execution_count": 17,
     "metadata": {},
     "output_type": "execute_result"
    }
   ],
   "source": [
    "df.head()"
   ]
  },
  {
   "cell_type": "code",
   "execution_count": 18,
   "metadata": {},
   "outputs": [],
   "source": [
    "#df = fillna(df)"
   ]
  },
  {
   "cell_type": "markdown",
   "metadata": {},
   "source": [
    "# Coerce the column dtype (int in this case)"
   ]
  },
  {
   "cell_type": "code",
   "execution_count": 19,
   "metadata": {},
   "outputs": [],
   "source": [
    "df = df.astype({'origLTV':'int','origCLTV':'int','numBorrowers':'int','origDebtIncRatio':'int',\\\n",
    "               'mortInsType':'int','bestCreditScore':'int','loanAge':'int',\\\n",
    "               'worstCreditScore':'int','avgCreditScore':'int','zeroBalCode':'int'})\n",
    "#,'zeroBalCode':'int'"
   ]
  },
  {
   "cell_type": "code",
   "execution_count": 20,
   "metadata": {},
   "outputs": [
    {
     "name": "stdout",
     "output_type": "stream",
     "text": [
      "<class 'pandas.core.frame.DataFrame'>\n",
      "RangeIndex: 2278367 entries, 0 to 2278366\n",
      "Data columns (total 32 columns):\n",
      " #   Column              Dtype  \n",
      "---  ------              -----  \n",
      " 0   origChannel         object \n",
      " 1   sellerName          object \n",
      " 2   origIntRate         float64\n",
      " 3   origUPB             int64  \n",
      " 4   origLoanTerm        int64  \n",
      " 5   origLTV             int32  \n",
      " 6   origCLTV            int32  \n",
      " 7   numBorrowers        int32  \n",
      " 8   origDebtIncRatio    int32  \n",
      " 9   loanPurp            object \n",
      " 10  propState           object \n",
      " 11  zipCode             int64  \n",
      " 12  pMIperct            float64\n",
      " 13  mortInsType         int32  \n",
      " 14  bestCreditScore     int32  \n",
      " 15  worstCreditScore    int32  \n",
      " 16  avgCreditScore      int32  \n",
      " 17  loanAge             int32  \n",
      " 18  mSA                 int64  \n",
      " 19  zeroBalCode         int32  \n",
      " 20  fmacRateMax         float64\n",
      " 21  fmacRateMin         float64\n",
      " 22  fmacRateAvg         float64\n",
      " 23  fmacRateVolatility  float64\n",
      " 24  rateDiffAbove       float64\n",
      " 25  rateDiffBelow       float64\n",
      " 26  rateDiffAvg         float64\n",
      " 27  rateDiffAbovePct    float64\n",
      " 28  rateDiffBelowPct    float64\n",
      " 29  rateDiffAvgPct      float64\n",
      " 30  origYear            int64  \n",
      " 31  origMonth           int64  \n",
      "dtypes: float64(12), int32(10), int64(6), object(4)\n",
      "memory usage: 469.3+ MB\n"
     ]
    }
   ],
   "source": [
    "df.info()"
   ]
  },
  {
   "cell_type": "markdown",
   "metadata": {},
   "source": [
    "<a id='MLReady'></a>"
   ]
  },
  {
   "cell_type": "markdown",
   "metadata": {},
   "source": [
    "<a id='MLReady'></a>\n",
    "## *MLReady.csv file loading point\n",
    "uncomment one of the boxes below"
   ]
  },
  {
   "cell_type": "code",
   "execution_count": 21,
   "metadata": {},
   "outputs": [],
   "source": [
    "#df.to_csv('D:\\FM_FULL_EPOCH2_MLReady.csv')"
   ]
  },
  {
   "cell_type": "code",
   "execution_count": 22,
   "metadata": {},
   "outputs": [],
   "source": [
    "#df = pd.read_csv('D:\\FM_FULL_EPOCH2_MLReady.csv')"
   ]
  },
  {
   "cell_type": "markdown",
   "metadata": {},
   "source": [
    "# Oversampling (Since we are starting with only 6.3% of our predicted class)"
   ]
  },
  {
   "cell_type": "code",
   "execution_count": 23,
   "metadata": {},
   "outputs": [
    {
     "name": "stdout",
     "output_type": "stream",
     "text": [
      "We have 15.44% Foreclosures in our dataset\n"
     ]
    }
   ],
   "source": [
    "good = df.zeroBalCode.value_counts()[0]\n",
    "bad = df.zeroBalCode.value_counts()[1]\n",
    "perct_bad = round(bad/(good + bad)*100,2)\n",
    "print(f'We have {perct_bad}% Foreclosures in our dataset')"
   ]
  },
  {
   "cell_type": "code",
   "execution_count": 24,
   "metadata": {},
   "outputs": [],
   "source": [
    "from sklearn.model_selection import train_test_split\n",
    "\n",
    "training_features, test_features, \\\n",
    "training_target, test_target, = train_test_split(\n",
    "    df.drop(['zeroBalCode'], axis=1)\n",
    "    , df['zeroBalCode']\n",
    "    , test_size = .1\n",
    "    , random_state=12\n",
    ")"
   ]
  },
  {
   "cell_type": "code",
   "execution_count": 25,
   "metadata": {},
   "outputs": [],
   "source": [
    "# Further split the training data into training/test\n",
    "x_train, x_val, y_train, y_val = train_test_split(\n",
    "    training_features\n",
    "    , training_target\n",
    "    , test_size = .1\n",
    "    ,random_state=12\n",
    ")"
   ]
  },
  {
   "cell_type": "code",
   "execution_count": 26,
   "metadata": {},
   "outputs": [],
   "source": [
    "# For the training data, randomly sample \n",
    "ros = RandomOverSampler(sampling_strategy='minority')\n",
    "x_train_res, y_train_res = ros.fit_sample(x_train, y_train)"
   ]
  },
  {
   "cell_type": "code",
   "execution_count": 27,
   "metadata": {},
   "outputs": [
    {
     "name": "stdout",
     "output_type": "stream",
     "text": [
      "#############################################\n",
      "Before oversampling: \"Closed\" crushes \"Default\" and causes issues:\n",
      "0    1733505\n",
      "1     317025\n",
      "Name: zeroBalCode, dtype: int64\n",
      "\n",
      "Before oversampling: \"Closed\" and \"Default\" are equal\n",
      "1    1560171\n",
      "0    1560171\n",
      "Name: zeroBalCode, dtype: int64\n"
     ]
    }
   ],
   "source": [
    "print('#############################################')\n",
    "print('Before oversampling: \"Closed\" crushes \"Default\" and causes issues:')\n",
    "print(training_target.value_counts())\n",
    "print('')\n",
    "print('Before oversampling: \"Closed\" and \"Default\" are equal')\n",
    "print(y_train_res.value_counts())"
   ]
  },
  {
   "cell_type": "markdown",
   "metadata": {},
   "source": [
    "# Recombine X_train_res, y_train_res so PyCaret can deal with one df"
   ]
  },
  {
   "cell_type": "code",
   "execution_count": 28,
   "metadata": {},
   "outputs": [
    {
     "data": {
      "text/plain": [
       "(3120342,)"
      ]
     },
     "execution_count": 28,
     "metadata": {},
     "output_type": "execute_result"
    }
   ],
   "source": [
    "y_train_res.shape"
   ]
  },
  {
   "cell_type": "code",
   "execution_count": 29,
   "metadata": {},
   "outputs": [],
   "source": [
    "df = x_train_res.copy()"
   ]
  },
  {
   "cell_type": "code",
   "execution_count": 30,
   "metadata": {},
   "outputs": [],
   "source": [
    "df['zeroBalCode'] = y_train_res"
   ]
  },
  {
   "cell_type": "code",
   "execution_count": 31,
   "metadata": {},
   "outputs": [
    {
     "data": {
      "text/plain": [
       "(3120342, 32)"
      ]
     },
     "execution_count": 31,
     "metadata": {},
     "output_type": "execute_result"
    }
   ],
   "source": [
    "df.shape"
   ]
  },
  {
   "cell_type": "markdown",
   "metadata": {},
   "source": [
    "# Review metrics last time before run (to have record of starting values)"
   ]
  },
  {
   "cell_type": "code",
   "execution_count": 32,
   "metadata": {},
   "outputs": [
    {
     "name": "stdout",
     "output_type": "stream",
     "text": [
      "<class 'pandas.core.frame.DataFrame'>\n",
      "RangeIndex: 3120342 entries, 0 to 3120341\n",
      "Data columns (total 32 columns):\n",
      " #   Column              Dtype  \n",
      "---  ------              -----  \n",
      " 0   origChannel         object \n",
      " 1   sellerName          object \n",
      " 2   origIntRate         float64\n",
      " 3   origUPB             int64  \n",
      " 4   origLoanTerm        int64  \n",
      " 5   origLTV             int32  \n",
      " 6   origCLTV            int32  \n",
      " 7   numBorrowers        int32  \n",
      " 8   origDebtIncRatio    int32  \n",
      " 9   loanPurp            object \n",
      " 10  propState           object \n",
      " 11  zipCode             int64  \n",
      " 12  pMIperct            float64\n",
      " 13  mortInsType         int32  \n",
      " 14  bestCreditScore     int32  \n",
      " 15  worstCreditScore    int32  \n",
      " 16  avgCreditScore      int32  \n",
      " 17  loanAge             int32  \n",
      " 18  mSA                 int64  \n",
      " 19  fmacRateMax         float64\n",
      " 20  fmacRateMin         float64\n",
      " 21  fmacRateAvg         float64\n",
      " 22  fmacRateVolatility  float64\n",
      " 23  rateDiffAbove       float64\n",
      " 24  rateDiffBelow       float64\n",
      " 25  rateDiffAvg         float64\n",
      " 26  rateDiffAbovePct    float64\n",
      " 27  rateDiffBelowPct    float64\n",
      " 28  rateDiffAvgPct      float64\n",
      " 29  origYear            int64  \n",
      " 30  origMonth           int64  \n",
      " 31  zeroBalCode         int32  \n",
      "dtypes: float64(12), int32(10), int64(6), object(4)\n",
      "memory usage: 642.8+ MB\n"
     ]
    }
   ],
   "source": [
    "df.info()"
   ]
  },
  {
   "cell_type": "code",
   "execution_count": 33,
   "metadata": {},
   "outputs": [
    {
     "data": {
      "text/html": [
       "<div>\n",
       "<style scoped>\n",
       "    .dataframe tbody tr th:only-of-type {\n",
       "        vertical-align: middle;\n",
       "    }\n",
       "\n",
       "    .dataframe tbody tr th {\n",
       "        vertical-align: top;\n",
       "    }\n",
       "\n",
       "    .dataframe thead th {\n",
       "        text-align: right;\n",
       "    }\n",
       "</style>\n",
       "<table border=\"1\" class=\"dataframe\">\n",
       "  <thead>\n",
       "    <tr style=\"text-align: right;\">\n",
       "      <th></th>\n",
       "      <th>origChannel</th>\n",
       "      <th>sellerName</th>\n",
       "      <th>origIntRate</th>\n",
       "      <th>origUPB</th>\n",
       "      <th>origLoanTerm</th>\n",
       "      <th>origLTV</th>\n",
       "      <th>origCLTV</th>\n",
       "      <th>numBorrowers</th>\n",
       "      <th>origDebtIncRatio</th>\n",
       "      <th>loanPurp</th>\n",
       "      <th>propState</th>\n",
       "      <th>zipCode</th>\n",
       "      <th>pMIperct</th>\n",
       "      <th>mortInsType</th>\n",
       "      <th>bestCreditScore</th>\n",
       "      <th>worstCreditScore</th>\n",
       "      <th>avgCreditScore</th>\n",
       "      <th>loanAge</th>\n",
       "      <th>mSA</th>\n",
       "      <th>fmacRateMax</th>\n",
       "      <th>fmacRateMin</th>\n",
       "      <th>fmacRateAvg</th>\n",
       "      <th>fmacRateVolatility</th>\n",
       "      <th>rateDiffAbove</th>\n",
       "      <th>rateDiffBelow</th>\n",
       "      <th>rateDiffAvg</th>\n",
       "      <th>rateDiffAbovePct</th>\n",
       "      <th>rateDiffBelowPct</th>\n",
       "      <th>rateDiffAvgPct</th>\n",
       "      <th>origYear</th>\n",
       "      <th>origMonth</th>\n",
       "      <th>zeroBalCode</th>\n",
       "    </tr>\n",
       "  </thead>\n",
       "  <tbody>\n",
       "    <tr>\n",
       "      <th>0</th>\n",
       "      <td>R</td>\n",
       "      <td>JPMORGAN CHASE BANK, NA</td>\n",
       "      <td>5.625</td>\n",
       "      <td>143000</td>\n",
       "      <td>360</td>\n",
       "      <td>73</td>\n",
       "      <td>73</td>\n",
       "      <td>1</td>\n",
       "      <td>23</td>\n",
       "      <td>R</td>\n",
       "      <td>WA</td>\n",
       "      <td>983</td>\n",
       "      <td>0.0</td>\n",
       "      <td>0</td>\n",
       "      <td>655</td>\n",
       "      <td>655</td>\n",
       "      <td>655</td>\n",
       "      <td>48</td>\n",
       "      <td>42660</td>\n",
       "      <td>5.91</td>\n",
       "      <td>5.61</td>\n",
       "      <td>5.7450</td>\n",
       "      <td>0.053476</td>\n",
       "      <td>-0.285</td>\n",
       "      <td>-0.015</td>\n",
       "      <td>-0.1200</td>\n",
       "      <td>-0.048223</td>\n",
       "      <td>-0.002674</td>\n",
       "      <td>-0.020888</td>\n",
       "      <td>2003</td>\n",
       "      <td>3</td>\n",
       "      <td>0</td>\n",
       "    </tr>\n",
       "    <tr>\n",
       "      <th>1</th>\n",
       "      <td>C</td>\n",
       "      <td>NETBANK FUNDING SERVICES</td>\n",
       "      <td>7.125</td>\n",
       "      <td>133000</td>\n",
       "      <td>360</td>\n",
       "      <td>90</td>\n",
       "      <td>90</td>\n",
       "      <td>1</td>\n",
       "      <td>40</td>\n",
       "      <td>R</td>\n",
       "      <td>MI</td>\n",
       "      <td>484</td>\n",
       "      <td>25.0</td>\n",
       "      <td>1</td>\n",
       "      <td>784</td>\n",
       "      <td>784</td>\n",
       "      <td>784</td>\n",
       "      <td>9</td>\n",
       "      <td>19820</td>\n",
       "      <td>6.89</td>\n",
       "      <td>6.72</td>\n",
       "      <td>6.8175</td>\n",
       "      <td>0.025298</td>\n",
       "      <td>0.235</td>\n",
       "      <td>-0.405</td>\n",
       "      <td>0.3075</td>\n",
       "      <td>0.034107</td>\n",
       "      <td>-0.060268</td>\n",
       "      <td>0.045105</td>\n",
       "      <td>2001</td>\n",
       "      <td>9</td>\n",
       "      <td>0</td>\n",
       "    </tr>\n",
       "    <tr>\n",
       "      <th>2</th>\n",
       "      <td>B</td>\n",
       "      <td>SUNTRUST MORTGAGE INC.</td>\n",
       "      <td>6.875</td>\n",
       "      <td>29000</td>\n",
       "      <td>180</td>\n",
       "      <td>73</td>\n",
       "      <td>73</td>\n",
       "      <td>2</td>\n",
       "      <td>23</td>\n",
       "      <td>C</td>\n",
       "      <td>PA</td>\n",
       "      <td>196</td>\n",
       "      <td>0.0</td>\n",
       "      <td>0</td>\n",
       "      <td>547</td>\n",
       "      <td>525</td>\n",
       "      <td>536</td>\n",
       "      <td>64</td>\n",
       "      <td>39740</td>\n",
       "      <td>6.46</td>\n",
       "      <td>6.31</td>\n",
       "      <td>6.3825</td>\n",
       "      <td>0.023772</td>\n",
       "      <td>0.415</td>\n",
       "      <td>-0.565</td>\n",
       "      <td>0.4925</td>\n",
       "      <td>0.064241</td>\n",
       "      <td>-0.089540</td>\n",
       "      <td>0.077164</td>\n",
       "      <td>2007</td>\n",
       "      <td>9</td>\n",
       "      <td>0</td>\n",
       "    </tr>\n",
       "    <tr>\n",
       "      <th>3</th>\n",
       "      <td>C</td>\n",
       "      <td>SUNTRUST MORTGAGE INC.</td>\n",
       "      <td>5.625</td>\n",
       "      <td>46000</td>\n",
       "      <td>360</td>\n",
       "      <td>55</td>\n",
       "      <td>55</td>\n",
       "      <td>2</td>\n",
       "      <td>26</td>\n",
       "      <td>R</td>\n",
       "      <td>CO</td>\n",
       "      <td>812</td>\n",
       "      <td>0.0</td>\n",
       "      <td>0</td>\n",
       "      <td>775</td>\n",
       "      <td>774</td>\n",
       "      <td>774</td>\n",
       "      <td>46</td>\n",
       "      <td>0</td>\n",
       "      <td>5.85</td>\n",
       "      <td>5.79</td>\n",
       "      <td>5.8125</td>\n",
       "      <td>0.010363</td>\n",
       "      <td>-0.225</td>\n",
       "      <td>0.165</td>\n",
       "      <td>-0.1875</td>\n",
       "      <td>-0.038462</td>\n",
       "      <td>0.028497</td>\n",
       "      <td>-0.032258</td>\n",
       "      <td>2003</td>\n",
       "      <td>4</td>\n",
       "      <td>0</td>\n",
       "    </tr>\n",
       "    <tr>\n",
       "      <th>4</th>\n",
       "      <td>B</td>\n",
       "      <td>WITMER FUNDING, LLC</td>\n",
       "      <td>6.250</td>\n",
       "      <td>300000</td>\n",
       "      <td>360</td>\n",
       "      <td>67</td>\n",
       "      <td>67</td>\n",
       "      <td>2</td>\n",
       "      <td>30</td>\n",
       "      <td>R</td>\n",
       "      <td>CT</td>\n",
       "      <td>69</td>\n",
       "      <td>0.0</td>\n",
       "      <td>0</td>\n",
       "      <td>760</td>\n",
       "      <td>713</td>\n",
       "      <td>736</td>\n",
       "      <td>13</td>\n",
       "      <td>14860</td>\n",
       "      <td>5.97</td>\n",
       "      <td>5.85</td>\n",
       "      <td>5.9160</td>\n",
       "      <td>0.020513</td>\n",
       "      <td>0.280</td>\n",
       "      <td>-0.400</td>\n",
       "      <td>0.3340</td>\n",
       "      <td>0.046901</td>\n",
       "      <td>-0.068376</td>\n",
       "      <td>0.056457</td>\n",
       "      <td>2003</td>\n",
       "      <td>1</td>\n",
       "      <td>0</td>\n",
       "    </tr>\n",
       "  </tbody>\n",
       "</table>\n",
       "</div>"
      ],
      "text/plain": [
       "  origChannel                sellerName  origIntRate  origUPB  origLoanTerm  \\\n",
       "0           R   JPMORGAN CHASE BANK, NA        5.625   143000           360   \n",
       "1           C  NETBANK FUNDING SERVICES        7.125   133000           360   \n",
       "2           B    SUNTRUST MORTGAGE INC.        6.875    29000           180   \n",
       "3           C    SUNTRUST MORTGAGE INC.        5.625    46000           360   \n",
       "4           B       WITMER FUNDING, LLC        6.250   300000           360   \n",
       "\n",
       "   origLTV  origCLTV  numBorrowers  origDebtIncRatio loanPurp propState  \\\n",
       "0       73        73             1                23        R        WA   \n",
       "1       90        90             1                40        R        MI   \n",
       "2       73        73             2                23        C        PA   \n",
       "3       55        55             2                26        R        CO   \n",
       "4       67        67             2                30        R        CT   \n",
       "\n",
       "   zipCode  pMIperct  mortInsType  bestCreditScore  worstCreditScore  \\\n",
       "0      983       0.0            0              655               655   \n",
       "1      484      25.0            1              784               784   \n",
       "2      196       0.0            0              547               525   \n",
       "3      812       0.0            0              775               774   \n",
       "4       69       0.0            0              760               713   \n",
       "\n",
       "   avgCreditScore  loanAge    mSA  fmacRateMax  fmacRateMin  fmacRateAvg  \\\n",
       "0             655       48  42660         5.91         5.61       5.7450   \n",
       "1             784        9  19820         6.89         6.72       6.8175   \n",
       "2             536       64  39740         6.46         6.31       6.3825   \n",
       "3             774       46      0         5.85         5.79       5.8125   \n",
       "4             736       13  14860         5.97         5.85       5.9160   \n",
       "\n",
       "   fmacRateVolatility  rateDiffAbove  rateDiffBelow  rateDiffAvg  \\\n",
       "0            0.053476         -0.285         -0.015      -0.1200   \n",
       "1            0.025298          0.235         -0.405       0.3075   \n",
       "2            0.023772          0.415         -0.565       0.4925   \n",
       "3            0.010363         -0.225          0.165      -0.1875   \n",
       "4            0.020513          0.280         -0.400       0.3340   \n",
       "\n",
       "   rateDiffAbovePct  rateDiffBelowPct  rateDiffAvgPct  origYear  origMonth  \\\n",
       "0         -0.048223         -0.002674       -0.020888      2003          3   \n",
       "1          0.034107         -0.060268        0.045105      2001          9   \n",
       "2          0.064241         -0.089540        0.077164      2007          9   \n",
       "3         -0.038462          0.028497       -0.032258      2003          4   \n",
       "4          0.046901         -0.068376        0.056457      2003          1   \n",
       "\n",
       "   zeroBalCode  \n",
       "0            0  \n",
       "1            0  \n",
       "2            0  \n",
       "3            0  \n",
       "4            0  "
      ]
     },
     "execution_count": 33,
     "metadata": {},
     "output_type": "execute_result"
    }
   ],
   "source": [
    "df.head()"
   ]
  },
  {
   "cell_type": "markdown",
   "metadata": {},
   "source": [
    "# Pycaret - Setup with categorical definition"
   ]
  },
  {
   "cell_type": "code",
   "execution_count": 34,
   "metadata": {
    "scrolled": false
   },
   "outputs": [],
   "source": [
    "#model_setup = setup(df, target = 'zeroBalCode')"
   ]
  },
  {
   "cell_type": "markdown",
   "metadata": {},
   "source": [
    "### Use complex setup "
   ]
  },
  {
   "cell_type": "code",
   "execution_count": 35,
   "metadata": {
    "scrolled": false
   },
   "outputs": [
    {
     "data": {
      "application/vnd.jupyter.widget-view+json": {
       "model_id": "47bf0cb75fba463186cf15969600f70a",
       "version_major": 2,
       "version_minor": 0
      },
      "text/plain": [
       "IntProgress(value=0, description='Processing: ', max=3)"
      ]
     },
     "metadata": {},
     "output_type": "display_data"
    },
    {
     "data": {
      "text/html": [
       "<div>\n",
       "<style scoped>\n",
       "    .dataframe tbody tr th:only-of-type {\n",
       "        vertical-align: middle;\n",
       "    }\n",
       "\n",
       "    .dataframe tbody tr th {\n",
       "        vertical-align: top;\n",
       "    }\n",
       "\n",
       "    .dataframe thead th {\n",
       "        text-align: right;\n",
       "    }\n",
       "</style>\n",
       "<table border=\"1\" class=\"dataframe\">\n",
       "  <thead>\n",
       "    <tr style=\"text-align: right;\">\n",
       "      <th></th>\n",
       "      <th></th>\n",
       "      <th></th>\n",
       "    </tr>\n",
       "    <tr>\n",
       "      <th></th>\n",
       "      <th></th>\n",
       "      <th></th>\n",
       "    </tr>\n",
       "  </thead>\n",
       "  <tbody>\n",
       "    <tr>\n",
       "      <th>Initiated</th>\n",
       "      <td>. . . . . . . . . . . . . . . . . .</td>\n",
       "      <td>19:33:41</td>\n",
       "    </tr>\n",
       "    <tr>\n",
       "      <th>Status</th>\n",
       "      <td>. . . . . . . . . . . . . . . . . .</td>\n",
       "      <td>Preparing Data for Modeling</td>\n",
       "    </tr>\n",
       "    <tr>\n",
       "      <th>ETC</th>\n",
       "      <td>. . . . . . . . . . . . . . . . . .</td>\n",
       "      <td>Calculating ETC</td>\n",
       "    </tr>\n",
       "  </tbody>\n",
       "</table>\n",
       "</div>"
      ],
      "text/plain": [
       "                                                                           \n",
       "                                                                           \n",
       "Initiated  . . . . . . . . . . . . . . . . . .                     19:33:41\n",
       "Status     . . . . . . . . . . . . . . . . . .  Preparing Data for Modeling\n",
       "ETC        . . . . . . . . . . . . . . . . . .              Calculating ETC"
      ]
     },
     "metadata": {},
     "output_type": "display_data"
    },
    {
     "data": {
      "text/html": [
       "        <script type=\"text/javascript\">\n",
       "        window.PlotlyConfig = {MathJaxConfig: 'local'};\n",
       "        if (window.MathJax) {MathJax.Hub.Config({SVG: {font: \"STIX-Web\"}});}\n",
       "        if (typeof require !== 'undefined') {\n",
       "        require.undef(\"plotly\");\n",
       "        requirejs.config({\n",
       "            paths: {\n",
       "                'plotly': ['https://cdn.plot.ly/plotly-latest.min']\n",
       "            }\n",
       "        });\n",
       "        require(['plotly'], function(Plotly) {\n",
       "            window._Plotly = Plotly;\n",
       "        });\n",
       "        }\n",
       "        </script>\n",
       "        "
      ]
     },
     "metadata": {},
     "output_type": "display_data"
    },
    {
     "ename": "MemoryError",
     "evalue": "Unable to allocate 41.1 GiB for an array with shape (3120342, 1770) and data type float64",
     "output_type": "error",
     "traceback": [
      "\u001b[1;31m---------------------------------------------------------------------------\u001b[0m",
      "\u001b[1;31mMemoryError\u001b[0m                               Traceback (most recent call last)",
      "\u001b[1;32m<ipython-input-35-4b6b2805ac68>\u001b[0m in \u001b[0;36m<module>\u001b[1;34m\u001b[0m\n\u001b[0;32m     54\u001b[0m             \u001b[1;33m,\u001b[0m \u001b[1;34m'fmacRateMin'\u001b[0m\u001b[1;33m\u001b[0m\u001b[1;33m\u001b[0m\u001b[0m\n\u001b[0;32m     55\u001b[0m             \u001b[1;33m,\u001b[0m \u001b[1;34m'fmacRateAvg'\u001b[0m\u001b[1;33m\u001b[0m\u001b[1;33m\u001b[0m\u001b[0m\n\u001b[1;32m---> 56\u001b[1;33m             \u001b[1;33m,\u001b[0m \u001b[1;34m'fmacRateVolatility'\u001b[0m\u001b[1;33m\u001b[0m\u001b[1;33m\u001b[0m\u001b[0m\n\u001b[0m\u001b[0;32m     57\u001b[0m         ]\n\u001b[0;32m     58\u001b[0m )\n",
      "\u001b[1;32mC:\\ProgramData\\Anaconda3\\envs\\MortgageML\\lib\\site-packages\\pycaret\\classification.py\u001b[0m in \u001b[0;36msetup\u001b[1;34m(data, target, train_size, sampling, sample_estimator, categorical_features, categorical_imputation, ordinal_features, high_cardinality_features, high_cardinality_method, numeric_features, numeric_imputation, date_features, ignore_features, normalize, normalize_method, transformation, transformation_method, handle_unknown_categorical, unknown_categorical_method, pca, pca_method, pca_components, ignore_low_variance, combine_rare_levels, rare_level_threshold, bin_numeric_features, remove_outliers, outliers_threshold, remove_multicollinearity, multicollinearity_threshold, remove_perfect_collinearity, create_clusters, cluster_iter, polynomial_features, polynomial_degree, trigonometry_features, polynomial_threshold, group_features, group_names, feature_selection, feature_selection_threshold, feature_interaction, feature_ratio, interaction_threshold, fix_imbalance, fix_imbalance_method, data_split_shuffle, folds_shuffle, n_jobs, html, session_id, log_experiment, experiment_name, log_plots, log_profile, log_data, silent, verbose, profile)\u001b[0m\n\u001b[0;32m   1206\u001b[0m                                           \u001b[0mdisplay_types\u001b[0m \u001b[1;33m=\u001b[0m \u001b[0mdisplay_dtypes_pass\u001b[0m\u001b[1;33m,\u001b[0m \u001b[1;31m#this is for inferred input box\u001b[0m\u001b[1;33m\u001b[0m\u001b[1;33m\u001b[0m\u001b[0m\n\u001b[0;32m   1207\u001b[0m                                           \u001b[0mtarget_transformation\u001b[0m \u001b[1;33m=\u001b[0m \u001b[1;32mFalse\u001b[0m\u001b[1;33m,\u001b[0m \u001b[1;31m#not needed for classification\u001b[0m\u001b[1;33m\u001b[0m\u001b[1;33m\u001b[0m\u001b[0m\n\u001b[1;32m-> 1208\u001b[1;33m                                           random_state = seed)\n\u001b[0m\u001b[0;32m   1209\u001b[0m \u001b[1;33m\u001b[0m\u001b[0m\n\u001b[0;32m   1210\u001b[0m     \u001b[0mprogress\u001b[0m\u001b[1;33m.\u001b[0m\u001b[0mvalue\u001b[0m \u001b[1;33m+=\u001b[0m \u001b[1;36m1\u001b[0m\u001b[1;33m\u001b[0m\u001b[1;33m\u001b[0m\u001b[0m\n",
      "\u001b[1;32mC:\\ProgramData\\Anaconda3\\envs\\MortgageML\\lib\\site-packages\\pycaret\\preprocess.py\u001b[0m in \u001b[0;36mPreprocess_Path_One\u001b[1;34m(train_data, target_variable, ml_usecase, test_data, categorical_features, numerical_features, time_features, features_todrop, display_types, imputation_type, numeric_imputation_strategy, categorical_imputation_strategy, apply_zero_nearZero_variance, club_rare_levels, rara_level_threshold_percentage, apply_untrained_levels_treatment, untrained_levels_treatment_method, apply_ordinal_encoding, ordinal_columns_and_categories, apply_cardinality_reduction, cardinal_method, cardinal_features, apply_binning, features_to_binn, apply_grouping, group_name, features_to_group_ListofList, apply_polynomial_trigonometry_features, max_polynomial, trigonometry_calculations, top_poly_trig_features_to_select_percentage, scale_data, scaling_method, Power_transform_data, Power_transform_method, target_transformation, target_transformation_method, remove_outliers, outlier_contamination_percentage, outlier_methods, apply_feature_selection, feature_selection_top_features_percentage, remove_multicollinearity, maximum_correlation_between_features, remove_perfect_collinearity, apply_feature_interactions, feature_interactions_to_apply, feature_interactions_top_features_to_select_percentage, cluster_entire_data, range_of_clusters_to_try, apply_pca, pca_method, pca_variance_retained_or_number_of_components, random_state)\u001b[0m\n\u001b[0;32m   2563\u001b[0m     \u001b[1;32mreturn\u001b[0m\u001b[1;33m(\u001b[0m\u001b[0mpipe\u001b[0m\u001b[1;33m.\u001b[0m\u001b[0mfit_transform\u001b[0m\u001b[1;33m(\u001b[0m\u001b[0mtrain_data\u001b[0m\u001b[1;33m)\u001b[0m\u001b[1;33m,\u001b[0m\u001b[0mpipe\u001b[0m\u001b[1;33m.\u001b[0m\u001b[0mtransform\u001b[0m\u001b[1;33m(\u001b[0m\u001b[0mtest_data\u001b[0m\u001b[1;33m)\u001b[0m\u001b[1;33m)\u001b[0m\u001b[1;33m\u001b[0m\u001b[1;33m\u001b[0m\u001b[0m\n\u001b[0;32m   2564\u001b[0m   \u001b[1;32melse\u001b[0m\u001b[1;33m:\u001b[0m\u001b[1;33m\u001b[0m\u001b[1;33m\u001b[0m\u001b[0m\n\u001b[1;32m-> 2565\u001b[1;33m     \u001b[1;32mreturn\u001b[0m\u001b[1;33m(\u001b[0m\u001b[0mpipe\u001b[0m\u001b[1;33m.\u001b[0m\u001b[0mfit_transform\u001b[0m\u001b[1;33m(\u001b[0m\u001b[0mtrain_data\u001b[0m\u001b[1;33m)\u001b[0m\u001b[1;33m)\u001b[0m\u001b[1;33m\u001b[0m\u001b[1;33m\u001b[0m\u001b[0m\n\u001b[0m\u001b[0;32m   2566\u001b[0m \u001b[1;33m\u001b[0m\u001b[0m\n\u001b[0;32m   2567\u001b[0m \u001b[1;33m\u001b[0m\u001b[0m\n",
      "\u001b[1;32mC:\\ProgramData\\Anaconda3\\envs\\MortgageML\\lib\\site-packages\\sklearn\\pipeline.py\u001b[0m in \u001b[0;36mfit_transform\u001b[1;34m(self, X, y, **fit_params)\u001b[0m\n\u001b[0;32m    365\u001b[0m         \"\"\"\n\u001b[0;32m    366\u001b[0m         \u001b[0mfit_params_steps\u001b[0m \u001b[1;33m=\u001b[0m \u001b[0mself\u001b[0m\u001b[1;33m.\u001b[0m\u001b[0m_check_fit_params\u001b[0m\u001b[1;33m(\u001b[0m\u001b[1;33m**\u001b[0m\u001b[0mfit_params\u001b[0m\u001b[1;33m)\u001b[0m\u001b[1;33m\u001b[0m\u001b[1;33m\u001b[0m\u001b[0m\n\u001b[1;32m--> 367\u001b[1;33m         \u001b[0mXt\u001b[0m \u001b[1;33m=\u001b[0m \u001b[0mself\u001b[0m\u001b[1;33m.\u001b[0m\u001b[0m_fit\u001b[0m\u001b[1;33m(\u001b[0m\u001b[0mX\u001b[0m\u001b[1;33m,\u001b[0m \u001b[0my\u001b[0m\u001b[1;33m,\u001b[0m \u001b[1;33m**\u001b[0m\u001b[0mfit_params_steps\u001b[0m\u001b[1;33m)\u001b[0m\u001b[1;33m\u001b[0m\u001b[1;33m\u001b[0m\u001b[0m\n\u001b[0m\u001b[0;32m    368\u001b[0m \u001b[1;33m\u001b[0m\u001b[0m\n\u001b[0;32m    369\u001b[0m         \u001b[0mlast_step\u001b[0m \u001b[1;33m=\u001b[0m \u001b[0mself\u001b[0m\u001b[1;33m.\u001b[0m\u001b[0m_final_estimator\u001b[0m\u001b[1;33m\u001b[0m\u001b[1;33m\u001b[0m\u001b[0m\n",
      "\u001b[1;32mC:\\ProgramData\\Anaconda3\\envs\\MortgageML\\lib\\site-packages\\sklearn\\pipeline.py\u001b[0m in \u001b[0;36m_fit\u001b[1;34m(self, X, y, **fit_params_steps)\u001b[0m\n\u001b[0;32m    294\u001b[0m                 \u001b[0mmessage_clsname\u001b[0m\u001b[1;33m=\u001b[0m\u001b[1;34m'Pipeline'\u001b[0m\u001b[1;33m,\u001b[0m\u001b[1;33m\u001b[0m\u001b[1;33m\u001b[0m\u001b[0m\n\u001b[0;32m    295\u001b[0m                 \u001b[0mmessage\u001b[0m\u001b[1;33m=\u001b[0m\u001b[0mself\u001b[0m\u001b[1;33m.\u001b[0m\u001b[0m_log_message\u001b[0m\u001b[1;33m(\u001b[0m\u001b[0mstep_idx\u001b[0m\u001b[1;33m)\u001b[0m\u001b[1;33m,\u001b[0m\u001b[1;33m\u001b[0m\u001b[1;33m\u001b[0m\u001b[0m\n\u001b[1;32m--> 296\u001b[1;33m                 **fit_params_steps[name])\n\u001b[0m\u001b[0;32m    297\u001b[0m             \u001b[1;31m# Replace the transformer of the step with the fitted\u001b[0m\u001b[1;33m\u001b[0m\u001b[1;33m\u001b[0m\u001b[1;33m\u001b[0m\u001b[0m\n\u001b[0;32m    298\u001b[0m             \u001b[1;31m# transformer. This is necessary when loading the transformer\u001b[0m\u001b[1;33m\u001b[0m\u001b[1;33m\u001b[0m\u001b[1;33m\u001b[0m\u001b[0m\n",
      "\u001b[1;32mC:\\ProgramData\\Anaconda3\\envs\\MortgageML\\lib\\site-packages\\joblib\\memory.py\u001b[0m in \u001b[0;36m__call__\u001b[1;34m(self, *args, **kwargs)\u001b[0m\n\u001b[0;32m    350\u001b[0m \u001b[1;33m\u001b[0m\u001b[0m\n\u001b[0;32m    351\u001b[0m     \u001b[1;32mdef\u001b[0m \u001b[0m__call__\u001b[0m\u001b[1;33m(\u001b[0m\u001b[0mself\u001b[0m\u001b[1;33m,\u001b[0m \u001b[1;33m*\u001b[0m\u001b[0margs\u001b[0m\u001b[1;33m,\u001b[0m \u001b[1;33m**\u001b[0m\u001b[0mkwargs\u001b[0m\u001b[1;33m)\u001b[0m\u001b[1;33m:\u001b[0m\u001b[1;33m\u001b[0m\u001b[1;33m\u001b[0m\u001b[0m\n\u001b[1;32m--> 352\u001b[1;33m         \u001b[1;32mreturn\u001b[0m \u001b[0mself\u001b[0m\u001b[1;33m.\u001b[0m\u001b[0mfunc\u001b[0m\u001b[1;33m(\u001b[0m\u001b[1;33m*\u001b[0m\u001b[0margs\u001b[0m\u001b[1;33m,\u001b[0m \u001b[1;33m**\u001b[0m\u001b[0mkwargs\u001b[0m\u001b[1;33m)\u001b[0m\u001b[1;33m\u001b[0m\u001b[1;33m\u001b[0m\u001b[0m\n\u001b[0m\u001b[0;32m    353\u001b[0m \u001b[1;33m\u001b[0m\u001b[0m\n\u001b[0;32m    354\u001b[0m     \u001b[1;32mdef\u001b[0m \u001b[0mcall_and_shelve\u001b[0m\u001b[1;33m(\u001b[0m\u001b[0mself\u001b[0m\u001b[1;33m,\u001b[0m \u001b[1;33m*\u001b[0m\u001b[0margs\u001b[0m\u001b[1;33m,\u001b[0m \u001b[1;33m**\u001b[0m\u001b[0mkwargs\u001b[0m\u001b[1;33m)\u001b[0m\u001b[1;33m:\u001b[0m\u001b[1;33m\u001b[0m\u001b[1;33m\u001b[0m\u001b[0m\n",
      "\u001b[1;32mC:\\ProgramData\\Anaconda3\\envs\\MortgageML\\lib\\site-packages\\sklearn\\pipeline.py\u001b[0m in \u001b[0;36m_fit_transform_one\u001b[1;34m(transformer, X, y, weight, message_clsname, message, **fit_params)\u001b[0m\n\u001b[0;32m    738\u001b[0m     \u001b[1;32mwith\u001b[0m \u001b[0m_print_elapsed_time\u001b[0m\u001b[1;33m(\u001b[0m\u001b[0mmessage_clsname\u001b[0m\u001b[1;33m,\u001b[0m \u001b[0mmessage\u001b[0m\u001b[1;33m)\u001b[0m\u001b[1;33m:\u001b[0m\u001b[1;33m\u001b[0m\u001b[1;33m\u001b[0m\u001b[0m\n\u001b[0;32m    739\u001b[0m         \u001b[1;32mif\u001b[0m \u001b[0mhasattr\u001b[0m\u001b[1;33m(\u001b[0m\u001b[0mtransformer\u001b[0m\u001b[1;33m,\u001b[0m \u001b[1;34m'fit_transform'\u001b[0m\u001b[1;33m)\u001b[0m\u001b[1;33m:\u001b[0m\u001b[1;33m\u001b[0m\u001b[1;33m\u001b[0m\u001b[0m\n\u001b[1;32m--> 740\u001b[1;33m             \u001b[0mres\u001b[0m \u001b[1;33m=\u001b[0m \u001b[0mtransformer\u001b[0m\u001b[1;33m.\u001b[0m\u001b[0mfit_transform\u001b[0m\u001b[1;33m(\u001b[0m\u001b[0mX\u001b[0m\u001b[1;33m,\u001b[0m \u001b[0my\u001b[0m\u001b[1;33m,\u001b[0m \u001b[1;33m**\u001b[0m\u001b[0mfit_params\u001b[0m\u001b[1;33m)\u001b[0m\u001b[1;33m\u001b[0m\u001b[1;33m\u001b[0m\u001b[0m\n\u001b[0m\u001b[0;32m    741\u001b[0m         \u001b[1;32melse\u001b[0m\u001b[1;33m:\u001b[0m\u001b[1;33m\u001b[0m\u001b[1;33m\u001b[0m\u001b[0m\n\u001b[0;32m    742\u001b[0m             \u001b[0mres\u001b[0m \u001b[1;33m=\u001b[0m \u001b[0mtransformer\u001b[0m\u001b[1;33m.\u001b[0m\u001b[0mfit\u001b[0m\u001b[1;33m(\u001b[0m\u001b[0mX\u001b[0m\u001b[1;33m,\u001b[0m \u001b[0my\u001b[0m\u001b[1;33m,\u001b[0m \u001b[1;33m**\u001b[0m\u001b[0mfit_params\u001b[0m\u001b[1;33m)\u001b[0m\u001b[1;33m.\u001b[0m\u001b[0mtransform\u001b[0m\u001b[1;33m(\u001b[0m\u001b[0mX\u001b[0m\u001b[1;33m)\u001b[0m\u001b[1;33m\u001b[0m\u001b[1;33m\u001b[0m\u001b[0m\n",
      "\u001b[1;32mC:\\ProgramData\\Anaconda3\\envs\\MortgageML\\lib\\site-packages\\pycaret\\preprocess.py\u001b[0m in \u001b[0;36mfit_transform\u001b[1;34m(self, dataset, y)\u001b[0m\n\u001b[0;32m   1237\u001b[0m     \u001b[1;32mif\u001b[0m \u001b[1;34m'pca'\u001b[0m \u001b[1;32min\u001b[0m \u001b[0mself\u001b[0m\u001b[1;33m.\u001b[0m\u001b[0mmethods\u001b[0m\u001b[1;33m:\u001b[0m\u001b[1;33m\u001b[0m\u001b[1;33m\u001b[0m\u001b[0m\n\u001b[0;32m   1238\u001b[0m       \u001b[0mself\u001b[0m\u001b[1;33m.\u001b[0m\u001b[0mpca\u001b[0m \u001b[1;33m=\u001b[0m \u001b[0mPCA_od\u001b[0m\u001b[1;33m(\u001b[0m\u001b[0mcontamination\u001b[0m\u001b[1;33m=\u001b[0m\u001b[0mself\u001b[0m\u001b[1;33m.\u001b[0m\u001b[0mcontamination\u001b[0m\u001b[1;33m,\u001b[0m\u001b[0mrandom_state\u001b[0m\u001b[1;33m=\u001b[0m\u001b[0mself\u001b[0m\u001b[1;33m.\u001b[0m\u001b[0mrandom_state\u001b[0m\u001b[1;33m)\u001b[0m\u001b[1;33m\u001b[0m\u001b[1;33m\u001b[0m\u001b[0m\n\u001b[1;32m-> 1239\u001b[1;33m       \u001b[0mself\u001b[0m\u001b[1;33m.\u001b[0m\u001b[0mpca\u001b[0m\u001b[1;33m.\u001b[0m\u001b[0mfit\u001b[0m\u001b[1;33m(\u001b[0m\u001b[0mdata\u001b[0m\u001b[1;33m.\u001b[0m\u001b[0mdrop\u001b[0m\u001b[1;33m(\u001b[0m\u001b[0mself\u001b[0m\u001b[1;33m.\u001b[0m\u001b[0mtarget\u001b[0m\u001b[1;33m,\u001b[0m\u001b[0maxis\u001b[0m\u001b[1;33m=\u001b[0m\u001b[1;36m1\u001b[0m\u001b[1;33m)\u001b[0m\u001b[1;33m)\u001b[0m\u001b[1;33m\u001b[0m\u001b[1;33m\u001b[0m\u001b[0m\n\u001b[0m\u001b[0;32m   1240\u001b[0m       \u001b[0mpca_predict\u001b[0m \u001b[1;33m=\u001b[0m \u001b[0mself\u001b[0m\u001b[1;33m.\u001b[0m\u001b[0mpca\u001b[0m\u001b[1;33m.\u001b[0m\u001b[0mpredict\u001b[0m\u001b[1;33m(\u001b[0m\u001b[0mdata\u001b[0m\u001b[1;33m.\u001b[0m\u001b[0mdrop\u001b[0m\u001b[1;33m(\u001b[0m\u001b[0mself\u001b[0m\u001b[1;33m.\u001b[0m\u001b[0mtarget\u001b[0m\u001b[1;33m,\u001b[0m\u001b[0maxis\u001b[0m\u001b[1;33m=\u001b[0m\u001b[1;36m1\u001b[0m\u001b[1;33m)\u001b[0m\u001b[1;33m)\u001b[0m\u001b[1;33m\u001b[0m\u001b[1;33m\u001b[0m\u001b[0m\n\u001b[0;32m   1241\u001b[0m       \u001b[0mdata\u001b[0m\u001b[1;33m[\u001b[0m\u001b[1;34m'pca'\u001b[0m\u001b[1;33m]\u001b[0m \u001b[1;33m=\u001b[0m \u001b[0mpca_predict\u001b[0m\u001b[1;33m\u001b[0m\u001b[1;33m\u001b[0m\u001b[0m\n",
      "\u001b[1;32mC:\\ProgramData\\Anaconda3\\envs\\MortgageML\\lib\\site-packages\\pyod\\models\\pca.py\u001b[0m in \u001b[0;36mfit\u001b[1;34m(self, X, y)\u001b[0m\n\u001b[0;32m    226\u001b[0m         \u001b[1;31m# unit variance).\u001b[0m\u001b[1;33m\u001b[0m\u001b[1;33m\u001b[0m\u001b[1;33m\u001b[0m\u001b[0m\n\u001b[0;32m    227\u001b[0m         \u001b[1;32mif\u001b[0m \u001b[0mself\u001b[0m\u001b[1;33m.\u001b[0m\u001b[0mstandardization\u001b[0m\u001b[1;33m:\u001b[0m\u001b[1;33m\u001b[0m\u001b[1;33m\u001b[0m\u001b[0m\n\u001b[1;32m--> 228\u001b[1;33m             \u001b[0mX\u001b[0m\u001b[1;33m,\u001b[0m \u001b[0mself\u001b[0m\u001b[1;33m.\u001b[0m\u001b[0mscaler_\u001b[0m \u001b[1;33m=\u001b[0m \u001b[0mstandardizer\u001b[0m\u001b[1;33m(\u001b[0m\u001b[0mX\u001b[0m\u001b[1;33m,\u001b[0m \u001b[0mkeep_scalar\u001b[0m\u001b[1;33m=\u001b[0m\u001b[1;32mTrue\u001b[0m\u001b[1;33m)\u001b[0m\u001b[1;33m\u001b[0m\u001b[1;33m\u001b[0m\u001b[0m\n\u001b[0m\u001b[0;32m    229\u001b[0m \u001b[1;33m\u001b[0m\u001b[0m\n\u001b[0;32m    230\u001b[0m         self.detector_ = sklearn_PCA(n_components=self.n_components,\n",
      "\u001b[1;32mC:\\ProgramData\\Anaconda3\\envs\\MortgageML\\lib\\site-packages\\pyod\\utils\\utility.py\u001b[0m in \u001b[0;36mstandardizer\u001b[1;34m(X, X_t, keep_scalar)\u001b[0m\n\u001b[0;32m    153\u001b[0m     \"\"\"\n\u001b[0;32m    154\u001b[0m     \u001b[0mX\u001b[0m \u001b[1;33m=\u001b[0m \u001b[0mcheck_array\u001b[0m\u001b[1;33m(\u001b[0m\u001b[0mX\u001b[0m\u001b[1;33m)\u001b[0m\u001b[1;33m\u001b[0m\u001b[1;33m\u001b[0m\u001b[0m\n\u001b[1;32m--> 155\u001b[1;33m     \u001b[0mscaler\u001b[0m \u001b[1;33m=\u001b[0m \u001b[0mStandardScaler\u001b[0m\u001b[1;33m(\u001b[0m\u001b[1;33m)\u001b[0m\u001b[1;33m.\u001b[0m\u001b[0mfit\u001b[0m\u001b[1;33m(\u001b[0m\u001b[0mX\u001b[0m\u001b[1;33m)\u001b[0m\u001b[1;33m\u001b[0m\u001b[1;33m\u001b[0m\u001b[0m\n\u001b[0m\u001b[0;32m    156\u001b[0m \u001b[1;33m\u001b[0m\u001b[0m\n\u001b[0;32m    157\u001b[0m     \u001b[1;32mif\u001b[0m \u001b[0mX_t\u001b[0m \u001b[1;32mis\u001b[0m \u001b[1;32mNone\u001b[0m\u001b[1;33m:\u001b[0m\u001b[1;33m\u001b[0m\u001b[1;33m\u001b[0m\u001b[0m\n",
      "\u001b[1;32mC:\\ProgramData\\Anaconda3\\envs\\MortgageML\\lib\\site-packages\\sklearn\\preprocessing\\_data.py\u001b[0m in \u001b[0;36mfit\u001b[1;34m(self, X, y)\u001b[0m\n\u001b[0;32m    665\u001b[0m         \u001b[1;31m# Reset internal state before fitting\u001b[0m\u001b[1;33m\u001b[0m\u001b[1;33m\u001b[0m\u001b[1;33m\u001b[0m\u001b[0m\n\u001b[0;32m    666\u001b[0m         \u001b[0mself\u001b[0m\u001b[1;33m.\u001b[0m\u001b[0m_reset\u001b[0m\u001b[1;33m(\u001b[0m\u001b[1;33m)\u001b[0m\u001b[1;33m\u001b[0m\u001b[1;33m\u001b[0m\u001b[0m\n\u001b[1;32m--> 667\u001b[1;33m         \u001b[1;32mreturn\u001b[0m \u001b[0mself\u001b[0m\u001b[1;33m.\u001b[0m\u001b[0mpartial_fit\u001b[0m\u001b[1;33m(\u001b[0m\u001b[0mX\u001b[0m\u001b[1;33m,\u001b[0m \u001b[0my\u001b[0m\u001b[1;33m)\u001b[0m\u001b[1;33m\u001b[0m\u001b[1;33m\u001b[0m\u001b[0m\n\u001b[0m\u001b[0;32m    668\u001b[0m \u001b[1;33m\u001b[0m\u001b[0m\n\u001b[0;32m    669\u001b[0m     \u001b[1;32mdef\u001b[0m \u001b[0mpartial_fit\u001b[0m\u001b[1;33m(\u001b[0m\u001b[0mself\u001b[0m\u001b[1;33m,\u001b[0m \u001b[0mX\u001b[0m\u001b[1;33m,\u001b[0m \u001b[0my\u001b[0m\u001b[1;33m=\u001b[0m\u001b[1;32mNone\u001b[0m\u001b[1;33m)\u001b[0m\u001b[1;33m:\u001b[0m\u001b[1;33m\u001b[0m\u001b[1;33m\u001b[0m\u001b[0m\n",
      "\u001b[1;32mC:\\ProgramData\\Anaconda3\\envs\\MortgageML\\lib\\site-packages\\sklearn\\preprocessing\\_data.py\u001b[0m in \u001b[0;36mpartial_fit\u001b[1;34m(self, X, y)\u001b[0m\n\u001b[0;32m    761\u001b[0m                 \u001b[0mself\u001b[0m\u001b[1;33m.\u001b[0m\u001b[0mmean_\u001b[0m\u001b[1;33m,\u001b[0m \u001b[0mself\u001b[0m\u001b[1;33m.\u001b[0m\u001b[0mvar_\u001b[0m\u001b[1;33m,\u001b[0m \u001b[0mself\u001b[0m\u001b[1;33m.\u001b[0m\u001b[0mn_samples_seen_\u001b[0m \u001b[1;33m=\u001b[0m\u001b[0;31m \u001b[0m\u001b[0;31m\\\u001b[0m\u001b[1;33m\u001b[0m\u001b[1;33m\u001b[0m\u001b[0m\n\u001b[0;32m    762\u001b[0m                     _incremental_mean_and_var(X, self.mean_, self.var_,\n\u001b[1;32m--> 763\u001b[1;33m                                               self.n_samples_seen_)\n\u001b[0m\u001b[0;32m    764\u001b[0m \u001b[1;33m\u001b[0m\u001b[0m\n\u001b[0;32m    765\u001b[0m         \u001b[1;31m# for backward-compatibility, reduce n_samples_seen_ to an integer\u001b[0m\u001b[1;33m\u001b[0m\u001b[1;33m\u001b[0m\u001b[1;33m\u001b[0m\u001b[0m\n",
      "\u001b[1;32mC:\\ProgramData\\Anaconda3\\envs\\MortgageML\\lib\\site-packages\\sklearn\\utils\\extmath.py\u001b[0m in \u001b[0;36m_incremental_mean_and_var\u001b[1;34m(X, last_mean, last_variance, last_sample_count)\u001b[0m\n\u001b[0;32m    763\u001b[0m     \u001b[1;31m# updated = the aggregated stats\u001b[0m\u001b[1;33m\u001b[0m\u001b[1;33m\u001b[0m\u001b[1;33m\u001b[0m\u001b[0m\n\u001b[0;32m    764\u001b[0m     \u001b[0mlast_sum\u001b[0m \u001b[1;33m=\u001b[0m \u001b[0mlast_mean\u001b[0m \u001b[1;33m*\u001b[0m \u001b[0mlast_sample_count\u001b[0m\u001b[1;33m\u001b[0m\u001b[1;33m\u001b[0m\u001b[0m\n\u001b[1;32m--> 765\u001b[1;33m     \u001b[0mnew_sum\u001b[0m \u001b[1;33m=\u001b[0m \u001b[0m_safe_accumulator_op\u001b[0m\u001b[1;33m(\u001b[0m\u001b[0mnp\u001b[0m\u001b[1;33m.\u001b[0m\u001b[0mnansum\u001b[0m\u001b[1;33m,\u001b[0m \u001b[0mX\u001b[0m\u001b[1;33m,\u001b[0m \u001b[0maxis\u001b[0m\u001b[1;33m=\u001b[0m\u001b[1;36m0\u001b[0m\u001b[1;33m)\u001b[0m\u001b[1;33m\u001b[0m\u001b[1;33m\u001b[0m\u001b[0m\n\u001b[0m\u001b[0;32m    766\u001b[0m \u001b[1;33m\u001b[0m\u001b[0m\n\u001b[0;32m    767\u001b[0m     \u001b[0mnew_sample_count\u001b[0m \u001b[1;33m=\u001b[0m \u001b[0mnp\u001b[0m\u001b[1;33m.\u001b[0m\u001b[0msum\u001b[0m\u001b[1;33m(\u001b[0m\u001b[1;33m~\u001b[0m\u001b[0mnp\u001b[0m\u001b[1;33m.\u001b[0m\u001b[0misnan\u001b[0m\u001b[1;33m(\u001b[0m\u001b[0mX\u001b[0m\u001b[1;33m)\u001b[0m\u001b[1;33m,\u001b[0m \u001b[0maxis\u001b[0m\u001b[1;33m=\u001b[0m\u001b[1;36m0\u001b[0m\u001b[1;33m)\u001b[0m\u001b[1;33m\u001b[0m\u001b[1;33m\u001b[0m\u001b[0m\n",
      "\u001b[1;32mC:\\ProgramData\\Anaconda3\\envs\\MortgageML\\lib\\site-packages\\sklearn\\utils\\extmath.py\u001b[0m in \u001b[0;36m_safe_accumulator_op\u001b[1;34m(op, x, *args, **kwargs)\u001b[0m\n\u001b[0;32m    709\u001b[0m         \u001b[0mresult\u001b[0m \u001b[1;33m=\u001b[0m \u001b[0mop\u001b[0m\u001b[1;33m(\u001b[0m\u001b[0mx\u001b[0m\u001b[1;33m,\u001b[0m \u001b[1;33m*\u001b[0m\u001b[0margs\u001b[0m\u001b[1;33m,\u001b[0m \u001b[1;33m**\u001b[0m\u001b[0mkwargs\u001b[0m\u001b[1;33m,\u001b[0m \u001b[0mdtype\u001b[0m\u001b[1;33m=\u001b[0m\u001b[0mnp\u001b[0m\u001b[1;33m.\u001b[0m\u001b[0mfloat64\u001b[0m\u001b[1;33m)\u001b[0m\u001b[1;33m\u001b[0m\u001b[1;33m\u001b[0m\u001b[0m\n\u001b[0;32m    710\u001b[0m     \u001b[1;32melse\u001b[0m\u001b[1;33m:\u001b[0m\u001b[1;33m\u001b[0m\u001b[1;33m\u001b[0m\u001b[0m\n\u001b[1;32m--> 711\u001b[1;33m         \u001b[0mresult\u001b[0m \u001b[1;33m=\u001b[0m \u001b[0mop\u001b[0m\u001b[1;33m(\u001b[0m\u001b[0mx\u001b[0m\u001b[1;33m,\u001b[0m \u001b[1;33m*\u001b[0m\u001b[0margs\u001b[0m\u001b[1;33m,\u001b[0m \u001b[1;33m**\u001b[0m\u001b[0mkwargs\u001b[0m\u001b[1;33m)\u001b[0m\u001b[1;33m\u001b[0m\u001b[1;33m\u001b[0m\u001b[0m\n\u001b[0m\u001b[0;32m    712\u001b[0m     \u001b[1;32mreturn\u001b[0m \u001b[0mresult\u001b[0m\u001b[1;33m\u001b[0m\u001b[1;33m\u001b[0m\u001b[0m\n\u001b[0;32m    713\u001b[0m \u001b[1;33m\u001b[0m\u001b[0m\n",
      "\u001b[1;32m<__array_function__ internals>\u001b[0m in \u001b[0;36mnansum\u001b[1;34m(*args, **kwargs)\u001b[0m\n",
      "\u001b[1;32mC:\\ProgramData\\Anaconda3\\envs\\MortgageML\\lib\\site-packages\\numpy\\lib\\nanfunctions.py\u001b[0m in \u001b[0;36mnansum\u001b[1;34m(a, axis, dtype, out, keepdims)\u001b[0m\n\u001b[0;32m    645\u001b[0m \u001b[1;33m\u001b[0m\u001b[0m\n\u001b[0;32m    646\u001b[0m     \"\"\"\n\u001b[1;32m--> 647\u001b[1;33m     \u001b[0ma\u001b[0m\u001b[1;33m,\u001b[0m \u001b[0mmask\u001b[0m \u001b[1;33m=\u001b[0m \u001b[0m_replace_nan\u001b[0m\u001b[1;33m(\u001b[0m\u001b[0ma\u001b[0m\u001b[1;33m,\u001b[0m \u001b[1;36m0\u001b[0m\u001b[1;33m)\u001b[0m\u001b[1;33m\u001b[0m\u001b[1;33m\u001b[0m\u001b[0m\n\u001b[0m\u001b[0;32m    648\u001b[0m     \u001b[1;32mreturn\u001b[0m \u001b[0mnp\u001b[0m\u001b[1;33m.\u001b[0m\u001b[0msum\u001b[0m\u001b[1;33m(\u001b[0m\u001b[0ma\u001b[0m\u001b[1;33m,\u001b[0m \u001b[0maxis\u001b[0m\u001b[1;33m=\u001b[0m\u001b[0maxis\u001b[0m\u001b[1;33m,\u001b[0m \u001b[0mdtype\u001b[0m\u001b[1;33m=\u001b[0m\u001b[0mdtype\u001b[0m\u001b[1;33m,\u001b[0m \u001b[0mout\u001b[0m\u001b[1;33m=\u001b[0m\u001b[0mout\u001b[0m\u001b[1;33m,\u001b[0m \u001b[0mkeepdims\u001b[0m\u001b[1;33m=\u001b[0m\u001b[0mkeepdims\u001b[0m\u001b[1;33m)\u001b[0m\u001b[1;33m\u001b[0m\u001b[1;33m\u001b[0m\u001b[0m\n\u001b[0;32m    649\u001b[0m \u001b[1;33m\u001b[0m\u001b[0m\n",
      "\u001b[1;32mC:\\ProgramData\\Anaconda3\\envs\\MortgageML\\lib\\site-packages\\numpy\\lib\\nanfunctions.py\u001b[0m in \u001b[0;36m_replace_nan\u001b[1;34m(a, val)\u001b[0m\n\u001b[0;32m    105\u001b[0m \u001b[1;33m\u001b[0m\u001b[0m\n\u001b[0;32m    106\u001b[0m     \u001b[1;32mif\u001b[0m \u001b[0mmask\u001b[0m \u001b[1;32mis\u001b[0m \u001b[1;32mnot\u001b[0m \u001b[1;32mNone\u001b[0m\u001b[1;33m:\u001b[0m\u001b[1;33m\u001b[0m\u001b[1;33m\u001b[0m\u001b[0m\n\u001b[1;32m--> 107\u001b[1;33m         \u001b[0ma\u001b[0m \u001b[1;33m=\u001b[0m \u001b[0mnp\u001b[0m\u001b[1;33m.\u001b[0m\u001b[0marray\u001b[0m\u001b[1;33m(\u001b[0m\u001b[0ma\u001b[0m\u001b[1;33m,\u001b[0m \u001b[0msubok\u001b[0m\u001b[1;33m=\u001b[0m\u001b[1;32mTrue\u001b[0m\u001b[1;33m,\u001b[0m \u001b[0mcopy\u001b[0m\u001b[1;33m=\u001b[0m\u001b[1;32mTrue\u001b[0m\u001b[1;33m)\u001b[0m\u001b[1;33m\u001b[0m\u001b[1;33m\u001b[0m\u001b[0m\n\u001b[0m\u001b[0;32m    108\u001b[0m         \u001b[0mnp\u001b[0m\u001b[1;33m.\u001b[0m\u001b[0mcopyto\u001b[0m\u001b[1;33m(\u001b[0m\u001b[0ma\u001b[0m\u001b[1;33m,\u001b[0m \u001b[0mval\u001b[0m\u001b[1;33m,\u001b[0m \u001b[0mwhere\u001b[0m\u001b[1;33m=\u001b[0m\u001b[0mmask\u001b[0m\u001b[1;33m)\u001b[0m\u001b[1;33m\u001b[0m\u001b[1;33m\u001b[0m\u001b[0m\n\u001b[0;32m    109\u001b[0m \u001b[1;33m\u001b[0m\u001b[0m\n",
      "\u001b[1;31mMemoryError\u001b[0m: Unable to allocate 41.1 GiB for an array with shape (3120342, 1770) and data type float64"
     ]
    }
   ],
   "source": [
    "model_setup = setup(\n",
    "    df\n",
    "    , target = 'zeroBalCode' # PyCaret will list this as \"Label\"\n",
    "    , pca = False \n",
    "    , ignore_low_variance = True # Variance is calculated using the ratio of unique values to the number of samples, and the ratio of the most common value to the frequency of the second most common value.\n",
    "    , normalize = True\n",
    "    , ignore_features = None\n",
    "    , handle_unknown_categorical = True\n",
    "    , remove_outliers = True # outliers from the training data are removed using PCA linear dimensionality reduction using the Singular Value Decomposition technique.\n",
    "#     , bin_numeric_features = [\n",
    "#             'origIntRate'\n",
    "#             , 'origUPB'\n",
    "#             , 'origLTV'\n",
    "#             , 'origDebtIncRatio'\n",
    "#             , 'bestCreditScore'\n",
    "#             , 'avgCreditScore'\n",
    "#             , 'worstCreditScore'\n",
    "#         ] # Set to True to bin numerics using K Means\n",
    "    , feature_interaction = False\n",
    "    , feature_selection = True\n",
    "    , silent = True\n",
    "    , profile = False\n",
    "    , categorical_features = [\n",
    "             'origChannel'\n",
    "            , 'sellerName'\n",
    "            , 'loanPurp'\n",
    "            , 'propState'\n",
    "            , 'origYear'\n",
    "            , 'origMonth'\n",
    "            , 'mSA'\n",
    "            , 'zipCode'\n",
    "            , 'mortInsType'\n",
    "            , 'origLoanTerm'\n",
    "        ]\n",
    "        , numeric_features = [\n",
    "            'origIntRate'\n",
    "            , 'numBorrowers'\n",
    "            , 'origUPB'\n",
    "            , 'origLTV'\n",
    "            , 'origCLTV'\n",
    "            , 'pMIperct'\n",
    "            , 'loanAge'\n",
    "            , 'origDebtIncRatio'\n",
    "            , 'worstCreditScore'\n",
    "            , 'bestCreditScore'\n",
    "            , 'avgCreditScore'\n",
    "            , 'rateDiffAbove'\n",
    "            , 'rateDiffBelow'\n",
    "            , 'rateDiffAvg'\n",
    "            , 'rateDiffAbovePct'\n",
    "            , 'rateDiffBelowPct'\n",
    "            , 'rateDiffAvgPct'\n",
    "            , 'fmacRateMax'\n",
    "            , 'fmacRateMin'\n",
    "            , 'fmacRateAvg'\n",
    "            , 'fmacRateVolatility'\n",
    "        ]\n",
    ")\n"
   ]
  },
  {
   "cell_type": "markdown",
   "metadata": {},
   "source": [
    "## Compare Models with no blacklist exclusions"
   ]
  },
  {
   "cell_type": "code",
   "execution_count": 34,
   "metadata": {
    "scrolled": false
   },
   "outputs": [
    {
     "data": {
      "text/html": [
       "<style  type=\"text/css\" >\n",
       "    #T_ff0adafe_f468_11ea_923f_309c234564f5 th {\n",
       "          text-align: left;\n",
       "    }#T_ff0adafe_f468_11ea_923f_309c234564f5row0_col0,#T_ff0adafe_f468_11ea_923f_309c234564f5row1_col0,#T_ff0adafe_f468_11ea_923f_309c234564f5row1_col1,#T_ff0adafe_f468_11ea_923f_309c234564f5row1_col2,#T_ff0adafe_f468_11ea_923f_309c234564f5row1_col4,#T_ff0adafe_f468_11ea_923f_309c234564f5row1_col5,#T_ff0adafe_f468_11ea_923f_309c234564f5row1_col6,#T_ff0adafe_f468_11ea_923f_309c234564f5row1_col7,#T_ff0adafe_f468_11ea_923f_309c234564f5row2_col0,#T_ff0adafe_f468_11ea_923f_309c234564f5row2_col1,#T_ff0adafe_f468_11ea_923f_309c234564f5row2_col2,#T_ff0adafe_f468_11ea_923f_309c234564f5row2_col4,#T_ff0adafe_f468_11ea_923f_309c234564f5row2_col5,#T_ff0adafe_f468_11ea_923f_309c234564f5row2_col6,#T_ff0adafe_f468_11ea_923f_309c234564f5row2_col7,#T_ff0adafe_f468_11ea_923f_309c234564f5row3_col0,#T_ff0adafe_f468_11ea_923f_309c234564f5row3_col1,#T_ff0adafe_f468_11ea_923f_309c234564f5row3_col2,#T_ff0adafe_f468_11ea_923f_309c234564f5row3_col3,#T_ff0adafe_f468_11ea_923f_309c234564f5row3_col4,#T_ff0adafe_f468_11ea_923f_309c234564f5row3_col5,#T_ff0adafe_f468_11ea_923f_309c234564f5row3_col6,#T_ff0adafe_f468_11ea_923f_309c234564f5row3_col7,#T_ff0adafe_f468_11ea_923f_309c234564f5row4_col0,#T_ff0adafe_f468_11ea_923f_309c234564f5row4_col1,#T_ff0adafe_f468_11ea_923f_309c234564f5row4_col2,#T_ff0adafe_f468_11ea_923f_309c234564f5row4_col3,#T_ff0adafe_f468_11ea_923f_309c234564f5row4_col4,#T_ff0adafe_f468_11ea_923f_309c234564f5row4_col5,#T_ff0adafe_f468_11ea_923f_309c234564f5row4_col6,#T_ff0adafe_f468_11ea_923f_309c234564f5row4_col7,#T_ff0adafe_f468_11ea_923f_309c234564f5row5_col0,#T_ff0adafe_f468_11ea_923f_309c234564f5row5_col1,#T_ff0adafe_f468_11ea_923f_309c234564f5row5_col2,#T_ff0adafe_f468_11ea_923f_309c234564f5row5_col3,#T_ff0adafe_f468_11ea_923f_309c234564f5row5_col4,#T_ff0adafe_f468_11ea_923f_309c234564f5row5_col5,#T_ff0adafe_f468_11ea_923f_309c234564f5row5_col6,#T_ff0adafe_f468_11ea_923f_309c234564f5row5_col7,#T_ff0adafe_f468_11ea_923f_309c234564f5row6_col0,#T_ff0adafe_f468_11ea_923f_309c234564f5row6_col1,#T_ff0adafe_f468_11ea_923f_309c234564f5row6_col2,#T_ff0adafe_f468_11ea_923f_309c234564f5row6_col3,#T_ff0adafe_f468_11ea_923f_309c234564f5row6_col4,#T_ff0adafe_f468_11ea_923f_309c234564f5row6_col5,#T_ff0adafe_f468_11ea_923f_309c234564f5row6_col6,#T_ff0adafe_f468_11ea_923f_309c234564f5row6_col7,#T_ff0adafe_f468_11ea_923f_309c234564f5row7_col0,#T_ff0adafe_f468_11ea_923f_309c234564f5row7_col1,#T_ff0adafe_f468_11ea_923f_309c234564f5row7_col2,#T_ff0adafe_f468_11ea_923f_309c234564f5row7_col3,#T_ff0adafe_f468_11ea_923f_309c234564f5row7_col4,#T_ff0adafe_f468_11ea_923f_309c234564f5row7_col5,#T_ff0adafe_f468_11ea_923f_309c234564f5row7_col6,#T_ff0adafe_f468_11ea_923f_309c234564f5row7_col7,#T_ff0adafe_f468_11ea_923f_309c234564f5row8_col0,#T_ff0adafe_f468_11ea_923f_309c234564f5row8_col1,#T_ff0adafe_f468_11ea_923f_309c234564f5row8_col2,#T_ff0adafe_f468_11ea_923f_309c234564f5row8_col3,#T_ff0adafe_f468_11ea_923f_309c234564f5row8_col4,#T_ff0adafe_f468_11ea_923f_309c234564f5row8_col5,#T_ff0adafe_f468_11ea_923f_309c234564f5row8_col6,#T_ff0adafe_f468_11ea_923f_309c234564f5row8_col7,#T_ff0adafe_f468_11ea_923f_309c234564f5row9_col0,#T_ff0adafe_f468_11ea_923f_309c234564f5row9_col1,#T_ff0adafe_f468_11ea_923f_309c234564f5row9_col2,#T_ff0adafe_f468_11ea_923f_309c234564f5row9_col3,#T_ff0adafe_f468_11ea_923f_309c234564f5row9_col4,#T_ff0adafe_f468_11ea_923f_309c234564f5row9_col5,#T_ff0adafe_f468_11ea_923f_309c234564f5row9_col6,#T_ff0adafe_f468_11ea_923f_309c234564f5row9_col7,#T_ff0adafe_f468_11ea_923f_309c234564f5row10_col0,#T_ff0adafe_f468_11ea_923f_309c234564f5row10_col1,#T_ff0adafe_f468_11ea_923f_309c234564f5row10_col2,#T_ff0adafe_f468_11ea_923f_309c234564f5row10_col3,#T_ff0adafe_f468_11ea_923f_309c234564f5row10_col4,#T_ff0adafe_f468_11ea_923f_309c234564f5row10_col5,#T_ff0adafe_f468_11ea_923f_309c234564f5row10_col6,#T_ff0adafe_f468_11ea_923f_309c234564f5row10_col7,#T_ff0adafe_f468_11ea_923f_309c234564f5row11_col0,#T_ff0adafe_f468_11ea_923f_309c234564f5row11_col1,#T_ff0adafe_f468_11ea_923f_309c234564f5row11_col2,#T_ff0adafe_f468_11ea_923f_309c234564f5row11_col3,#T_ff0adafe_f468_11ea_923f_309c234564f5row11_col4,#T_ff0adafe_f468_11ea_923f_309c234564f5row11_col5,#T_ff0adafe_f468_11ea_923f_309c234564f5row11_col6,#T_ff0adafe_f468_11ea_923f_309c234564f5row11_col7,#T_ff0adafe_f468_11ea_923f_309c234564f5row12_col0,#T_ff0adafe_f468_11ea_923f_309c234564f5row12_col1,#T_ff0adafe_f468_11ea_923f_309c234564f5row12_col2,#T_ff0adafe_f468_11ea_923f_309c234564f5row12_col3,#T_ff0adafe_f468_11ea_923f_309c234564f5row12_col4,#T_ff0adafe_f468_11ea_923f_309c234564f5row12_col5,#T_ff0adafe_f468_11ea_923f_309c234564f5row12_col6,#T_ff0adafe_f468_11ea_923f_309c234564f5row12_col7,#T_ff0adafe_f468_11ea_923f_309c234564f5row13_col0,#T_ff0adafe_f468_11ea_923f_309c234564f5row13_col1,#T_ff0adafe_f468_11ea_923f_309c234564f5row13_col2,#T_ff0adafe_f468_11ea_923f_309c234564f5row13_col3,#T_ff0adafe_f468_11ea_923f_309c234564f5row13_col4,#T_ff0adafe_f468_11ea_923f_309c234564f5row13_col5,#T_ff0adafe_f468_11ea_923f_309c234564f5row13_col6,#T_ff0adafe_f468_11ea_923f_309c234564f5row13_col7{\n",
       "            text-align:  left;\n",
       "        }#T_ff0adafe_f468_11ea_923f_309c234564f5row0_col1,#T_ff0adafe_f468_11ea_923f_309c234564f5row0_col2,#T_ff0adafe_f468_11ea_923f_309c234564f5row0_col3,#T_ff0adafe_f468_11ea_923f_309c234564f5row0_col4,#T_ff0adafe_f468_11ea_923f_309c234564f5row0_col5,#T_ff0adafe_f468_11ea_923f_309c234564f5row0_col6,#T_ff0adafe_f468_11ea_923f_309c234564f5row0_col7,#T_ff0adafe_f468_11ea_923f_309c234564f5row1_col3,#T_ff0adafe_f468_11ea_923f_309c234564f5row2_col3{\n",
       "            background-color:  yellow;\n",
       "            text-align:  left;\n",
       "        }#T_ff0adafe_f468_11ea_923f_309c234564f5row0_col8,#T_ff0adafe_f468_11ea_923f_309c234564f5row1_col8,#T_ff0adafe_f468_11ea_923f_309c234564f5row2_col8,#T_ff0adafe_f468_11ea_923f_309c234564f5row3_col8,#T_ff0adafe_f468_11ea_923f_309c234564f5row4_col8,#T_ff0adafe_f468_11ea_923f_309c234564f5row5_col8,#T_ff0adafe_f468_11ea_923f_309c234564f5row6_col8,#T_ff0adafe_f468_11ea_923f_309c234564f5row7_col8,#T_ff0adafe_f468_11ea_923f_309c234564f5row8_col8,#T_ff0adafe_f468_11ea_923f_309c234564f5row9_col8,#T_ff0adafe_f468_11ea_923f_309c234564f5row10_col8,#T_ff0adafe_f468_11ea_923f_309c234564f5row11_col8,#T_ff0adafe_f468_11ea_923f_309c234564f5row12_col8,#T_ff0adafe_f468_11ea_923f_309c234564f5row13_col8{\n",
       "            background-color:  lightgrey;\n",
       "            text-align:  left;\n",
       "        }</style><table id=\"T_ff0adafe_f468_11ea_923f_309c234564f5\" ><thead>    <tr>        <th class=\"blank level0\" ></th>        <th class=\"col_heading level0 col0\" >Model</th>        <th class=\"col_heading level0 col1\" >Accuracy</th>        <th class=\"col_heading level0 col2\" >AUC</th>        <th class=\"col_heading level0 col3\" >Recall</th>        <th class=\"col_heading level0 col4\" >Prec.</th>        <th class=\"col_heading level0 col5\" >F1</th>        <th class=\"col_heading level0 col6\" >Kappa</th>        <th class=\"col_heading level0 col7\" >MCC</th>        <th class=\"col_heading level0 col8\" >TT (Sec)</th>    </tr></thead><tbody>\n",
       "                <tr>\n",
       "                        <th id=\"T_ff0adafe_f468_11ea_923f_309c234564f5level0_row0\" class=\"row_heading level0 row0\" >0</th>\n",
       "                        <td id=\"T_ff0adafe_f468_11ea_923f_309c234564f5row0_col0\" class=\"data row0 col0\" >Extra Trees Classifier</td>\n",
       "                        <td id=\"T_ff0adafe_f468_11ea_923f_309c234564f5row0_col1\" class=\"data row0 col1\" >0.9987</td>\n",
       "                        <td id=\"T_ff0adafe_f468_11ea_923f_309c234564f5row0_col2\" class=\"data row0 col2\" >1.0000</td>\n",
       "                        <td id=\"T_ff0adafe_f468_11ea_923f_309c234564f5row0_col3\" class=\"data row0 col3\" >1.0000</td>\n",
       "                        <td id=\"T_ff0adafe_f468_11ea_923f_309c234564f5row0_col4\" class=\"data row0 col4\" >0.9974</td>\n",
       "                        <td id=\"T_ff0adafe_f468_11ea_923f_309c234564f5row0_col5\" class=\"data row0 col5\" >0.9987</td>\n",
       "                        <td id=\"T_ff0adafe_f468_11ea_923f_309c234564f5row0_col6\" class=\"data row0 col6\" >0.9974</td>\n",
       "                        <td id=\"T_ff0adafe_f468_11ea_923f_309c234564f5row0_col7\" class=\"data row0 col7\" >0.9974</td>\n",
       "                        <td id=\"T_ff0adafe_f468_11ea_923f_309c234564f5row0_col8\" class=\"data row0 col8\" >24.6878</td>\n",
       "            </tr>\n",
       "            <tr>\n",
       "                        <th id=\"T_ff0adafe_f468_11ea_923f_309c234564f5level0_row1\" class=\"row_heading level0 row1\" >1</th>\n",
       "                        <td id=\"T_ff0adafe_f468_11ea_923f_309c234564f5row1_col0\" class=\"data row1 col0\" >Random Forest Classifier</td>\n",
       "                        <td id=\"T_ff0adafe_f468_11ea_923f_309c234564f5row1_col1\" class=\"data row1 col1\" >0.9925</td>\n",
       "                        <td id=\"T_ff0adafe_f468_11ea_923f_309c234564f5row1_col2\" class=\"data row1 col2\" >0.9999</td>\n",
       "                        <td id=\"T_ff0adafe_f468_11ea_923f_309c234564f5row1_col3\" class=\"data row1 col3\" >1.0000</td>\n",
       "                        <td id=\"T_ff0adafe_f468_11ea_923f_309c234564f5row1_col4\" class=\"data row1 col4\" >0.9854</td>\n",
       "                        <td id=\"T_ff0adafe_f468_11ea_923f_309c234564f5row1_col5\" class=\"data row1 col5\" >0.9926</td>\n",
       "                        <td id=\"T_ff0adafe_f468_11ea_923f_309c234564f5row1_col6\" class=\"data row1 col6\" >0.9850</td>\n",
       "                        <td id=\"T_ff0adafe_f468_11ea_923f_309c234564f5row1_col7\" class=\"data row1 col7\" >0.9851</td>\n",
       "                        <td id=\"T_ff0adafe_f468_11ea_923f_309c234564f5row1_col8\" class=\"data row1 col8\" >1.6073</td>\n",
       "            </tr>\n",
       "            <tr>\n",
       "                        <th id=\"T_ff0adafe_f468_11ea_923f_309c234564f5level0_row2\" class=\"row_heading level0 row2\" >2</th>\n",
       "                        <td id=\"T_ff0adafe_f468_11ea_923f_309c234564f5row2_col0\" class=\"data row2 col0\" >Decision Tree Classifier</td>\n",
       "                        <td id=\"T_ff0adafe_f468_11ea_923f_309c234564f5row2_col1\" class=\"data row2 col1\" >0.9537</td>\n",
       "                        <td id=\"T_ff0adafe_f468_11ea_923f_309c234564f5row2_col2\" class=\"data row2 col2\" >0.9535</td>\n",
       "                        <td id=\"T_ff0adafe_f468_11ea_923f_309c234564f5row2_col3\" class=\"data row2 col3\" >1.0000</td>\n",
       "                        <td id=\"T_ff0adafe_f468_11ea_923f_309c234564f5row2_col4\" class=\"data row2 col4\" >0.9156</td>\n",
       "                        <td id=\"T_ff0adafe_f468_11ea_923f_309c234564f5row2_col5\" class=\"data row2 col5\" >0.9559</td>\n",
       "                        <td id=\"T_ff0adafe_f468_11ea_923f_309c234564f5row2_col6\" class=\"data row2 col6\" >0.9073</td>\n",
       "                        <td id=\"T_ff0adafe_f468_11ea_923f_309c234564f5row2_col7\" class=\"data row2 col7\" >0.9112</td>\n",
       "                        <td id=\"T_ff0adafe_f468_11ea_923f_309c234564f5row2_col8\" class=\"data row2 col8\" >15.9493</td>\n",
       "            </tr>\n",
       "            <tr>\n",
       "                        <th id=\"T_ff0adafe_f468_11ea_923f_309c234564f5level0_row3\" class=\"row_heading level0 row3\" >3</th>\n",
       "                        <td id=\"T_ff0adafe_f468_11ea_923f_309c234564f5row3_col0\" class=\"data row3 col0\" >K Neighbors Classifier</td>\n",
       "                        <td id=\"T_ff0adafe_f468_11ea_923f_309c234564f5row3_col1\" class=\"data row3 col1\" >0.9092</td>\n",
       "                        <td id=\"T_ff0adafe_f468_11ea_923f_309c234564f5row3_col2\" class=\"data row3 col2\" >0.9660</td>\n",
       "                        <td id=\"T_ff0adafe_f468_11ea_923f_309c234564f5row3_col3\" class=\"data row3 col3\" >0.9993</td>\n",
       "                        <td id=\"T_ff0adafe_f468_11ea_923f_309c234564f5row3_col4\" class=\"data row3 col4\" >0.8473</td>\n",
       "                        <td id=\"T_ff0adafe_f468_11ea_923f_309c234564f5row3_col5\" class=\"data row3 col5\" >0.9170</td>\n",
       "                        <td id=\"T_ff0adafe_f468_11ea_923f_309c234564f5row3_col6\" class=\"data row3 col6\" >0.8182</td>\n",
       "                        <td id=\"T_ff0adafe_f468_11ea_923f_309c234564f5row3_col7\" class=\"data row3 col7\" >0.8318</td>\n",
       "                        <td id=\"T_ff0adafe_f468_11ea_923f_309c234564f5row3_col8\" class=\"data row3 col8\" >32.6830</td>\n",
       "            </tr>\n",
       "            <tr>\n",
       "                        <th id=\"T_ff0adafe_f468_11ea_923f_309c234564f5level0_row4\" class=\"row_heading level0 row4\" >4</th>\n",
       "                        <td id=\"T_ff0adafe_f468_11ea_923f_309c234564f5row4_col0\" class=\"data row4 col0\" >CatBoost Classifier</td>\n",
       "                        <td id=\"T_ff0adafe_f468_11ea_923f_309c234564f5row4_col1\" class=\"data row4 col1\" >0.8986</td>\n",
       "                        <td id=\"T_ff0adafe_f468_11ea_923f_309c234564f5row4_col2\" class=\"data row4 col2\" >0.9543</td>\n",
       "                        <td id=\"T_ff0adafe_f468_11ea_923f_309c234564f5row4_col3\" class=\"data row4 col3\" >0.9623</td>\n",
       "                        <td id=\"T_ff0adafe_f468_11ea_923f_309c234564f5row4_col4\" class=\"data row4 col4\" >0.8543</td>\n",
       "                        <td id=\"T_ff0adafe_f468_11ea_923f_309c234564f5row4_col5\" class=\"data row4 col5\" >0.9051</td>\n",
       "                        <td id=\"T_ff0adafe_f468_11ea_923f_309c234564f5row4_col6\" class=\"data row4 col6\" >0.7971</td>\n",
       "                        <td id=\"T_ff0adafe_f468_11ea_923f_309c234564f5row4_col7\" class=\"data row4 col7\" >0.8037</td>\n",
       "                        <td id=\"T_ff0adafe_f468_11ea_923f_309c234564f5row4_col8\" class=\"data row4 col8\" >16.8089</td>\n",
       "            </tr>\n",
       "            <tr>\n",
       "                        <th id=\"T_ff0adafe_f468_11ea_923f_309c234564f5level0_row5\" class=\"row_heading level0 row5\" >5</th>\n",
       "                        <td id=\"T_ff0adafe_f468_11ea_923f_309c234564f5row5_col0\" class=\"data row5 col0\" >Extreme Gradient Boosting</td>\n",
       "                        <td id=\"T_ff0adafe_f468_11ea_923f_309c234564f5row5_col1\" class=\"data row5 col1\" >0.8613</td>\n",
       "                        <td id=\"T_ff0adafe_f468_11ea_923f_309c234564f5row5_col2\" class=\"data row5 col2\" >0.9278</td>\n",
       "                        <td id=\"T_ff0adafe_f468_11ea_923f_309c234564f5row5_col3\" class=\"data row5 col3\" >0.9240</td>\n",
       "                        <td id=\"T_ff0adafe_f468_11ea_923f_309c234564f5row5_col4\" class=\"data row5 col4\" >0.8220</td>\n",
       "                        <td id=\"T_ff0adafe_f468_11ea_923f_309c234564f5row5_col5\" class=\"data row5 col5\" >0.8700</td>\n",
       "                        <td id=\"T_ff0adafe_f468_11ea_923f_309c234564f5row5_col6\" class=\"data row5 col6\" >0.7225</td>\n",
       "                        <td id=\"T_ff0adafe_f468_11ea_923f_309c234564f5row5_col7\" class=\"data row5 col7\" >0.7282</td>\n",
       "                        <td id=\"T_ff0adafe_f468_11ea_923f_309c234564f5row5_col8\" class=\"data row5 col8\" >66.9088</td>\n",
       "            </tr>\n",
       "            <tr>\n",
       "                        <th id=\"T_ff0adafe_f468_11ea_923f_309c234564f5level0_row6\" class=\"row_heading level0 row6\" >6</th>\n",
       "                        <td id=\"T_ff0adafe_f468_11ea_923f_309c234564f5row6_col0\" class=\"data row6 col0\" >Light Gradient Boosting Machine</td>\n",
       "                        <td id=\"T_ff0adafe_f468_11ea_923f_309c234564f5row6_col1\" class=\"data row6 col1\" >0.8298</td>\n",
       "                        <td id=\"T_ff0adafe_f468_11ea_923f_309c234564f5row6_col2\" class=\"data row6 col2\" >0.9036</td>\n",
       "                        <td id=\"T_ff0adafe_f468_11ea_923f_309c234564f5row6_col3\" class=\"data row6 col3\" >0.8908</td>\n",
       "                        <td id=\"T_ff0adafe_f468_11ea_923f_309c234564f5row6_col4\" class=\"data row6 col4\" >0.7951</td>\n",
       "                        <td id=\"T_ff0adafe_f468_11ea_923f_309c234564f5row6_col5\" class=\"data row6 col5\" >0.8402</td>\n",
       "                        <td id=\"T_ff0adafe_f468_11ea_923f_309c234564f5row6_col6\" class=\"data row6 col6\" >0.6595</td>\n",
       "                        <td id=\"T_ff0adafe_f468_11ea_923f_309c234564f5row6_col7\" class=\"data row6 col7\" >0.6644</td>\n",
       "                        <td id=\"T_ff0adafe_f468_11ea_923f_309c234564f5row6_col8\" class=\"data row6 col8\" >2.3342</td>\n",
       "            </tr>\n",
       "            <tr>\n",
       "                        <th id=\"T_ff0adafe_f468_11ea_923f_309c234564f5level0_row7\" class=\"row_heading level0 row7\" >7</th>\n",
       "                        <td id=\"T_ff0adafe_f468_11ea_923f_309c234564f5row7_col0\" class=\"data row7 col0\" >Ridge Classifier</td>\n",
       "                        <td id=\"T_ff0adafe_f468_11ea_923f_309c234564f5row7_col1\" class=\"data row7 col1\" >0.7794</td>\n",
       "                        <td id=\"T_ff0adafe_f468_11ea_923f_309c234564f5row7_col2\" class=\"data row7 col2\" >0.0000</td>\n",
       "                        <td id=\"T_ff0adafe_f468_11ea_923f_309c234564f5row7_col3\" class=\"data row7 col3\" >0.8217</td>\n",
       "                        <td id=\"T_ff0adafe_f468_11ea_923f_309c234564f5row7_col4\" class=\"data row7 col4\" >0.7590</td>\n",
       "                        <td id=\"T_ff0adafe_f468_11ea_923f_309c234564f5row7_col5\" class=\"data row7 col5\" >0.7891</td>\n",
       "                        <td id=\"T_ff0adafe_f468_11ea_923f_309c234564f5row7_col6\" class=\"data row7 col6\" >0.5586</td>\n",
       "                        <td id=\"T_ff0adafe_f468_11ea_923f_309c234564f5row7_col7\" class=\"data row7 col7\" >0.5606</td>\n",
       "                        <td id=\"T_ff0adafe_f468_11ea_923f_309c234564f5row7_col8\" class=\"data row7 col8\" >2.5866</td>\n",
       "            </tr>\n",
       "            <tr>\n",
       "                        <th id=\"T_ff0adafe_f468_11ea_923f_309c234564f5level0_row8\" class=\"row_heading level0 row8\" >8</th>\n",
       "                        <td id=\"T_ff0adafe_f468_11ea_923f_309c234564f5row8_col0\" class=\"data row8 col0\" >Logistic Regression</td>\n",
       "                        <td id=\"T_ff0adafe_f468_11ea_923f_309c234564f5row8_col1\" class=\"data row8 col1\" >0.7766</td>\n",
       "                        <td id=\"T_ff0adafe_f468_11ea_923f_309c234564f5row8_col2\" class=\"data row8 col2\" >0.8508</td>\n",
       "                        <td id=\"T_ff0adafe_f468_11ea_923f_309c234564f5row8_col3\" class=\"data row8 col3\" >0.8121</td>\n",
       "                        <td id=\"T_ff0adafe_f468_11ea_923f_309c234564f5row8_col4\" class=\"data row8 col4\" >0.7596</td>\n",
       "                        <td id=\"T_ff0adafe_f468_11ea_923f_309c234564f5row8_col5\" class=\"data row8 col5\" >0.7850</td>\n",
       "                        <td id=\"T_ff0adafe_f468_11ea_923f_309c234564f5row8_col6\" class=\"data row8 col6\" >0.5530</td>\n",
       "                        <td id=\"T_ff0adafe_f468_11ea_923f_309c234564f5row8_col7\" class=\"data row8 col7\" >0.5543</td>\n",
       "                        <td id=\"T_ff0adafe_f468_11ea_923f_309c234564f5row8_col8\" class=\"data row8 col8\" >6.1925</td>\n",
       "            </tr>\n",
       "            <tr>\n",
       "                        <th id=\"T_ff0adafe_f468_11ea_923f_309c234564f5level0_row9\" class=\"row_heading level0 row9\" >9</th>\n",
       "                        <td id=\"T_ff0adafe_f468_11ea_923f_309c234564f5row9_col0\" class=\"data row9 col0\" >SVM - Linear Kernel</td>\n",
       "                        <td id=\"T_ff0adafe_f468_11ea_923f_309c234564f5row9_col1\" class=\"data row9 col1\" >0.7757</td>\n",
       "                        <td id=\"T_ff0adafe_f468_11ea_923f_309c234564f5row9_col2\" class=\"data row9 col2\" >0.0000</td>\n",
       "                        <td id=\"T_ff0adafe_f468_11ea_923f_309c234564f5row9_col3\" class=\"data row9 col3\" >0.8186</td>\n",
       "                        <td id=\"T_ff0adafe_f468_11ea_923f_309c234564f5row9_col4\" class=\"data row9 col4\" >0.7554</td>\n",
       "                        <td id=\"T_ff0adafe_f468_11ea_923f_309c234564f5row9_col5\" class=\"data row9 col5\" >0.7856</td>\n",
       "                        <td id=\"T_ff0adafe_f468_11ea_923f_309c234564f5row9_col6\" class=\"data row9 col6\" >0.5513</td>\n",
       "                        <td id=\"T_ff0adafe_f468_11ea_923f_309c234564f5row9_col7\" class=\"data row9 col7\" >0.5536</td>\n",
       "                        <td id=\"T_ff0adafe_f468_11ea_923f_309c234564f5row9_col8\" class=\"data row9 col8\" >5.8986</td>\n",
       "            </tr>\n",
       "            <tr>\n",
       "                        <th id=\"T_ff0adafe_f468_11ea_923f_309c234564f5level0_row10\" class=\"row_heading level0 row10\" >10</th>\n",
       "                        <td id=\"T_ff0adafe_f468_11ea_923f_309c234564f5row10_col0\" class=\"data row10 col0\" >Gradient Boosting Classifier</td>\n",
       "                        <td id=\"T_ff0adafe_f468_11ea_923f_309c234564f5row10_col1\" class=\"data row10 col1\" >0.7671</td>\n",
       "                        <td id=\"T_ff0adafe_f468_11ea_923f_309c234564f5row10_col2\" class=\"data row10 col2\" >0.8471</td>\n",
       "                        <td id=\"T_ff0adafe_f468_11ea_923f_309c234564f5row10_col3\" class=\"data row10 col3\" >0.8049</td>\n",
       "                        <td id=\"T_ff0adafe_f468_11ea_923f_309c234564f5row10_col4\" class=\"data row10 col4\" >0.7497</td>\n",
       "                        <td id=\"T_ff0adafe_f468_11ea_923f_309c234564f5row10_col5\" class=\"data row10 col5\" >0.7763</td>\n",
       "                        <td id=\"T_ff0adafe_f468_11ea_923f_309c234564f5row10_col6\" class=\"data row10 col6\" >0.5340</td>\n",
       "                        <td id=\"T_ff0adafe_f468_11ea_923f_309c234564f5row10_col7\" class=\"data row10 col7\" >0.5354</td>\n",
       "                        <td id=\"T_ff0adafe_f468_11ea_923f_309c234564f5row10_col8\" class=\"data row10 col8\" >140.6041</td>\n",
       "            </tr>\n",
       "            <tr>\n",
       "                        <th id=\"T_ff0adafe_f468_11ea_923f_309c234564f5level0_row11\" class=\"row_heading level0 row11\" >11</th>\n",
       "                        <td id=\"T_ff0adafe_f468_11ea_923f_309c234564f5row11_col0\" class=\"data row11 col0\" >Ada Boost Classifier</td>\n",
       "                        <td id=\"T_ff0adafe_f468_11ea_923f_309c234564f5row11_col1\" class=\"data row11 col1\" >0.7484</td>\n",
       "                        <td id=\"T_ff0adafe_f468_11ea_923f_309c234564f5row11_col2\" class=\"data row11 col2\" >0.8291</td>\n",
       "                        <td id=\"T_ff0adafe_f468_11ea_923f_309c234564f5row11_col3\" class=\"data row11 col3\" >0.7552</td>\n",
       "                        <td id=\"T_ff0adafe_f468_11ea_923f_309c234564f5row11_col4\" class=\"data row11 col4\" >0.7466</td>\n",
       "                        <td id=\"T_ff0adafe_f468_11ea_923f_309c234564f5row11_col5\" class=\"data row11 col5\" >0.7509</td>\n",
       "                        <td id=\"T_ff0adafe_f468_11ea_923f_309c234564f5row11_col6\" class=\"data row11 col6\" >0.4967</td>\n",
       "                        <td id=\"T_ff0adafe_f468_11ea_923f_309c234564f5row11_col7\" class=\"data row11 col7\" >0.4968</td>\n",
       "                        <td id=\"T_ff0adafe_f468_11ea_923f_309c234564f5row11_col8\" class=\"data row11 col8\" >50.1835</td>\n",
       "            </tr>\n",
       "            <tr>\n",
       "                        <th id=\"T_ff0adafe_f468_11ea_923f_309c234564f5level0_row12\" class=\"row_heading level0 row12\" >12</th>\n",
       "                        <td id=\"T_ff0adafe_f468_11ea_923f_309c234564f5row12_col0\" class=\"data row12 col0\" >Naive Bayes</td>\n",
       "                        <td id=\"T_ff0adafe_f468_11ea_923f_309c234564f5row12_col1\" class=\"data row12 col1\" >0.6857</td>\n",
       "                        <td id=\"T_ff0adafe_f468_11ea_923f_309c234564f5row12_col2\" class=\"data row12 col2\" >0.6973</td>\n",
       "                        <td id=\"T_ff0adafe_f468_11ea_923f_309c234564f5row12_col3\" class=\"data row12 col3\" >0.9018</td>\n",
       "                        <td id=\"T_ff0adafe_f468_11ea_923f_309c234564f5row12_col4\" class=\"data row12 col4\" >0.6309</td>\n",
       "                        <td id=\"T_ff0adafe_f468_11ea_923f_309c234564f5row12_col5\" class=\"data row12 col5\" >0.7424</td>\n",
       "                        <td id=\"T_ff0adafe_f468_11ea_923f_309c234564f5row12_col6\" class=\"data row12 col6\" >0.3702</td>\n",
       "                        <td id=\"T_ff0adafe_f468_11ea_923f_309c234564f5row12_col7\" class=\"data row12 col7\" >0.4106</td>\n",
       "                        <td id=\"T_ff0adafe_f468_11ea_923f_309c234564f5row12_col8\" class=\"data row12 col8\" >1.8532</td>\n",
       "            </tr>\n",
       "            <tr>\n",
       "                        <th id=\"T_ff0adafe_f468_11ea_923f_309c234564f5level0_row13\" class=\"row_heading level0 row13\" >13</th>\n",
       "                        <td id=\"T_ff0adafe_f468_11ea_923f_309c234564f5row13_col0\" class=\"data row13 col0\" >Quadratic Discriminant Analysis</td>\n",
       "                        <td id=\"T_ff0adafe_f468_11ea_923f_309c234564f5row13_col1\" class=\"data row13 col1\" >0.5482</td>\n",
       "                        <td id=\"T_ff0adafe_f468_11ea_923f_309c234564f5row13_col2\" class=\"data row13 col2\" >0.5467</td>\n",
       "                        <td id=\"T_ff0adafe_f468_11ea_923f_309c234564f5row13_col3\" class=\"data row13 col3\" >0.9983</td>\n",
       "                        <td id=\"T_ff0adafe_f468_11ea_923f_309c234564f5row13_col4\" class=\"data row13 col4\" >0.5265</td>\n",
       "                        <td id=\"T_ff0adafe_f468_11ea_923f_309c234564f5row13_col5\" class=\"data row13 col5\" >0.6894</td>\n",
       "                        <td id=\"T_ff0adafe_f468_11ea_923f_309c234564f5row13_col6\" class=\"data row13 col6\" >0.0929</td>\n",
       "                        <td id=\"T_ff0adafe_f468_11ea_923f_309c234564f5row13_col7\" class=\"data row13 col7\" >0.2170</td>\n",
       "                        <td id=\"T_ff0adafe_f468_11ea_923f_309c234564f5row13_col8\" class=\"data row13 col8\" >11.1388</td>\n",
       "            </tr>\n",
       "    </tbody></table>"
      ],
      "text/plain": [
       "<pandas.io.formats.style.Styler at 0x1c5346e6828>"
      ]
     },
     "metadata": {},
     "output_type": "display_data"
    },
    {
     "data": {
      "text/plain": [
       "ExtraTreesClassifier(bootstrap=False, ccp_alpha=0.0, class_weight=None,\n",
       "                     criterion='gini', max_depth=None, max_features='auto',\n",
       "                     max_leaf_nodes=None, max_samples=None,\n",
       "                     min_impurity_decrease=0.0, min_impurity_split=None,\n",
       "                     min_samples_leaf=1, min_samples_split=2,\n",
       "                     min_weight_fraction_leaf=0.0, n_estimators=100, n_jobs=-1,\n",
       "                     oob_score=False, random_state=6498, verbose=0,\n",
       "                     warm_start=False)"
      ]
     },
     "execution_count": 34,
     "metadata": {},
     "output_type": "execute_result"
    }
   ],
   "source": [
    "model_results=compare_models(blacklist = ['lda']) #blacklist = ['tr','ransac'],'lar','par','huber','llar','lasso','en','ridge','omp','br','svm'])\n",
    "model_results"
   ]
  },
  {
   "cell_type": "markdown",
   "metadata": {},
   "source": [
    "## Create models "
   ]
  },
  {
   "cell_type": "markdown",
   "metadata": {},
   "source": [
    "### Extra Trees Classifier"
   ]
  },
  {
   "cell_type": "code",
   "execution_count": 35,
   "metadata": {},
   "outputs": [
    {
     "data": {
      "text/html": [
       "<style  type=\"text/css\" >\n",
       "#T_bdf0579a_f51d_11ea_b84e_309c234564f5row10_col0,#T_bdf0579a_f51d_11ea_b84e_309c234564f5row10_col1,#T_bdf0579a_f51d_11ea_b84e_309c234564f5row10_col2,#T_bdf0579a_f51d_11ea_b84e_309c234564f5row10_col3,#T_bdf0579a_f51d_11ea_b84e_309c234564f5row10_col4,#T_bdf0579a_f51d_11ea_b84e_309c234564f5row10_col5,#T_bdf0579a_f51d_11ea_b84e_309c234564f5row10_col6{\n",
       "            background:  yellow;\n",
       "        }</style><table id=\"T_bdf0579a_f51d_11ea_b84e_309c234564f5\" ><thead>    <tr>        <th class=\"blank level0\" ></th>        <th class=\"col_heading level0 col0\" >Accuracy</th>        <th class=\"col_heading level0 col1\" >AUC</th>        <th class=\"col_heading level0 col2\" >Recall</th>        <th class=\"col_heading level0 col3\" >Prec.</th>        <th class=\"col_heading level0 col4\" >F1</th>        <th class=\"col_heading level0 col5\" >Kappa</th>        <th class=\"col_heading level0 col6\" >MCC</th>    </tr></thead><tbody>\n",
       "                <tr>\n",
       "                        <th id=\"T_bdf0579a_f51d_11ea_b84e_309c234564f5level0_row0\" class=\"row_heading level0 row0\" >0</th>\n",
       "                        <td id=\"T_bdf0579a_f51d_11ea_b84e_309c234564f5row0_col0\" class=\"data row0 col0\" >0.9992</td>\n",
       "                        <td id=\"T_bdf0579a_f51d_11ea_b84e_309c234564f5row0_col1\" class=\"data row0 col1\" >1.0000</td>\n",
       "                        <td id=\"T_bdf0579a_f51d_11ea_b84e_309c234564f5row0_col2\" class=\"data row0 col2\" >1.0000</td>\n",
       "                        <td id=\"T_bdf0579a_f51d_11ea_b84e_309c234564f5row0_col3\" class=\"data row0 col3\" >0.9985</td>\n",
       "                        <td id=\"T_bdf0579a_f51d_11ea_b84e_309c234564f5row0_col4\" class=\"data row0 col4\" >0.9992</td>\n",
       "                        <td id=\"T_bdf0579a_f51d_11ea_b84e_309c234564f5row0_col5\" class=\"data row0 col5\" >0.9985</td>\n",
       "                        <td id=\"T_bdf0579a_f51d_11ea_b84e_309c234564f5row0_col6\" class=\"data row0 col6\" >0.9985</td>\n",
       "            </tr>\n",
       "            <tr>\n",
       "                        <th id=\"T_bdf0579a_f51d_11ea_b84e_309c234564f5level0_row1\" class=\"row_heading level0 row1\" >1</th>\n",
       "                        <td id=\"T_bdf0579a_f51d_11ea_b84e_309c234564f5row1_col0\" class=\"data row1 col0\" >0.9992</td>\n",
       "                        <td id=\"T_bdf0579a_f51d_11ea_b84e_309c234564f5row1_col1\" class=\"data row1 col1\" >1.0000</td>\n",
       "                        <td id=\"T_bdf0579a_f51d_11ea_b84e_309c234564f5row1_col2\" class=\"data row1 col2\" >1.0000</td>\n",
       "                        <td id=\"T_bdf0579a_f51d_11ea_b84e_309c234564f5row1_col3\" class=\"data row1 col3\" >0.9985</td>\n",
       "                        <td id=\"T_bdf0579a_f51d_11ea_b84e_309c234564f5row1_col4\" class=\"data row1 col4\" >0.9992</td>\n",
       "                        <td id=\"T_bdf0579a_f51d_11ea_b84e_309c234564f5row1_col5\" class=\"data row1 col5\" >0.9985</td>\n",
       "                        <td id=\"T_bdf0579a_f51d_11ea_b84e_309c234564f5row1_col6\" class=\"data row1 col6\" >0.9985</td>\n",
       "            </tr>\n",
       "            <tr>\n",
       "                        <th id=\"T_bdf0579a_f51d_11ea_b84e_309c234564f5level0_row2\" class=\"row_heading level0 row2\" >2</th>\n",
       "                        <td id=\"T_bdf0579a_f51d_11ea_b84e_309c234564f5row2_col0\" class=\"data row2 col0\" >0.9989</td>\n",
       "                        <td id=\"T_bdf0579a_f51d_11ea_b84e_309c234564f5row2_col1\" class=\"data row2 col1\" >1.0000</td>\n",
       "                        <td id=\"T_bdf0579a_f51d_11ea_b84e_309c234564f5row2_col2\" class=\"data row2 col2\" >1.0000</td>\n",
       "                        <td id=\"T_bdf0579a_f51d_11ea_b84e_309c234564f5row2_col3\" class=\"data row2 col3\" >0.9978</td>\n",
       "                        <td id=\"T_bdf0579a_f51d_11ea_b84e_309c234564f5row2_col4\" class=\"data row2 col4\" >0.9989</td>\n",
       "                        <td id=\"T_bdf0579a_f51d_11ea_b84e_309c234564f5row2_col5\" class=\"data row2 col5\" >0.9978</td>\n",
       "                        <td id=\"T_bdf0579a_f51d_11ea_b84e_309c234564f5row2_col6\" class=\"data row2 col6\" >0.9978</td>\n",
       "            </tr>\n",
       "            <tr>\n",
       "                        <th id=\"T_bdf0579a_f51d_11ea_b84e_309c234564f5level0_row3\" class=\"row_heading level0 row3\" >3</th>\n",
       "                        <td id=\"T_bdf0579a_f51d_11ea_b84e_309c234564f5row3_col0\" class=\"data row3 col0\" >0.9989</td>\n",
       "                        <td id=\"T_bdf0579a_f51d_11ea_b84e_309c234564f5row3_col1\" class=\"data row3 col1\" >1.0000</td>\n",
       "                        <td id=\"T_bdf0579a_f51d_11ea_b84e_309c234564f5row3_col2\" class=\"data row3 col2\" >1.0000</td>\n",
       "                        <td id=\"T_bdf0579a_f51d_11ea_b84e_309c234564f5row3_col3\" class=\"data row3 col3\" >0.9978</td>\n",
       "                        <td id=\"T_bdf0579a_f51d_11ea_b84e_309c234564f5row3_col4\" class=\"data row3 col4\" >0.9989</td>\n",
       "                        <td id=\"T_bdf0579a_f51d_11ea_b84e_309c234564f5row3_col5\" class=\"data row3 col5\" >0.9978</td>\n",
       "                        <td id=\"T_bdf0579a_f51d_11ea_b84e_309c234564f5row3_col6\" class=\"data row3 col6\" >0.9978</td>\n",
       "            </tr>\n",
       "            <tr>\n",
       "                        <th id=\"T_bdf0579a_f51d_11ea_b84e_309c234564f5level0_row4\" class=\"row_heading level0 row4\" >4</th>\n",
       "                        <td id=\"T_bdf0579a_f51d_11ea_b84e_309c234564f5row4_col0\" class=\"data row4 col0\" >0.9991</td>\n",
       "                        <td id=\"T_bdf0579a_f51d_11ea_b84e_309c234564f5row4_col1\" class=\"data row4 col1\" >1.0000</td>\n",
       "                        <td id=\"T_bdf0579a_f51d_11ea_b84e_309c234564f5row4_col2\" class=\"data row4 col2\" >1.0000</td>\n",
       "                        <td id=\"T_bdf0579a_f51d_11ea_b84e_309c234564f5row4_col3\" class=\"data row4 col3\" >0.9983</td>\n",
       "                        <td id=\"T_bdf0579a_f51d_11ea_b84e_309c234564f5row4_col4\" class=\"data row4 col4\" >0.9991</td>\n",
       "                        <td id=\"T_bdf0579a_f51d_11ea_b84e_309c234564f5row4_col5\" class=\"data row4 col5\" >0.9983</td>\n",
       "                        <td id=\"T_bdf0579a_f51d_11ea_b84e_309c234564f5row4_col6\" class=\"data row4 col6\" >0.9983</td>\n",
       "            </tr>\n",
       "            <tr>\n",
       "                        <th id=\"T_bdf0579a_f51d_11ea_b84e_309c234564f5level0_row5\" class=\"row_heading level0 row5\" >5</th>\n",
       "                        <td id=\"T_bdf0579a_f51d_11ea_b84e_309c234564f5row5_col0\" class=\"data row5 col0\" >0.9983</td>\n",
       "                        <td id=\"T_bdf0579a_f51d_11ea_b84e_309c234564f5row5_col1\" class=\"data row5 col1\" >1.0000</td>\n",
       "                        <td id=\"T_bdf0579a_f51d_11ea_b84e_309c234564f5row5_col2\" class=\"data row5 col2\" >1.0000</td>\n",
       "                        <td id=\"T_bdf0579a_f51d_11ea_b84e_309c234564f5row5_col3\" class=\"data row5 col3\" >0.9966</td>\n",
       "                        <td id=\"T_bdf0579a_f51d_11ea_b84e_309c234564f5row5_col4\" class=\"data row5 col4\" >0.9983</td>\n",
       "                        <td id=\"T_bdf0579a_f51d_11ea_b84e_309c234564f5row5_col5\" class=\"data row5 col5\" >0.9965</td>\n",
       "                        <td id=\"T_bdf0579a_f51d_11ea_b84e_309c234564f5row5_col6\" class=\"data row5 col6\" >0.9965</td>\n",
       "            </tr>\n",
       "            <tr>\n",
       "                        <th id=\"T_bdf0579a_f51d_11ea_b84e_309c234564f5level0_row6\" class=\"row_heading level0 row6\" >6</th>\n",
       "                        <td id=\"T_bdf0579a_f51d_11ea_b84e_309c234564f5row6_col0\" class=\"data row6 col0\" >0.9988</td>\n",
       "                        <td id=\"T_bdf0579a_f51d_11ea_b84e_309c234564f5row6_col1\" class=\"data row6 col1\" >1.0000</td>\n",
       "                        <td id=\"T_bdf0579a_f51d_11ea_b84e_309c234564f5row6_col2\" class=\"data row6 col2\" >1.0000</td>\n",
       "                        <td id=\"T_bdf0579a_f51d_11ea_b84e_309c234564f5row6_col3\" class=\"data row6 col3\" >0.9976</td>\n",
       "                        <td id=\"T_bdf0579a_f51d_11ea_b84e_309c234564f5row6_col4\" class=\"data row6 col4\" >0.9988</td>\n",
       "                        <td id=\"T_bdf0579a_f51d_11ea_b84e_309c234564f5row6_col5\" class=\"data row6 col5\" >0.9976</td>\n",
       "                        <td id=\"T_bdf0579a_f51d_11ea_b84e_309c234564f5row6_col6\" class=\"data row6 col6\" >0.9976</td>\n",
       "            </tr>\n",
       "            <tr>\n",
       "                        <th id=\"T_bdf0579a_f51d_11ea_b84e_309c234564f5level0_row7\" class=\"row_heading level0 row7\" >7</th>\n",
       "                        <td id=\"T_bdf0579a_f51d_11ea_b84e_309c234564f5row7_col0\" class=\"data row7 col0\" >0.9987</td>\n",
       "                        <td id=\"T_bdf0579a_f51d_11ea_b84e_309c234564f5row7_col1\" class=\"data row7 col1\" >1.0000</td>\n",
       "                        <td id=\"T_bdf0579a_f51d_11ea_b84e_309c234564f5row7_col2\" class=\"data row7 col2\" >1.0000</td>\n",
       "                        <td id=\"T_bdf0579a_f51d_11ea_b84e_309c234564f5row7_col3\" class=\"data row7 col3\" >0.9974</td>\n",
       "                        <td id=\"T_bdf0579a_f51d_11ea_b84e_309c234564f5row7_col4\" class=\"data row7 col4\" >0.9987</td>\n",
       "                        <td id=\"T_bdf0579a_f51d_11ea_b84e_309c234564f5row7_col5\" class=\"data row7 col5\" >0.9974</td>\n",
       "                        <td id=\"T_bdf0579a_f51d_11ea_b84e_309c234564f5row7_col6\" class=\"data row7 col6\" >0.9974</td>\n",
       "            </tr>\n",
       "            <tr>\n",
       "                        <th id=\"T_bdf0579a_f51d_11ea_b84e_309c234564f5level0_row8\" class=\"row_heading level0 row8\" >8</th>\n",
       "                        <td id=\"T_bdf0579a_f51d_11ea_b84e_309c234564f5row8_col0\" class=\"data row8 col0\" >0.9992</td>\n",
       "                        <td id=\"T_bdf0579a_f51d_11ea_b84e_309c234564f5row8_col1\" class=\"data row8 col1\" >1.0000</td>\n",
       "                        <td id=\"T_bdf0579a_f51d_11ea_b84e_309c234564f5row8_col2\" class=\"data row8 col2\" >1.0000</td>\n",
       "                        <td id=\"T_bdf0579a_f51d_11ea_b84e_309c234564f5row8_col3\" class=\"data row8 col3\" >0.9985</td>\n",
       "                        <td id=\"T_bdf0579a_f51d_11ea_b84e_309c234564f5row8_col4\" class=\"data row8 col4\" >0.9992</td>\n",
       "                        <td id=\"T_bdf0579a_f51d_11ea_b84e_309c234564f5row8_col5\" class=\"data row8 col5\" >0.9985</td>\n",
       "                        <td id=\"T_bdf0579a_f51d_11ea_b84e_309c234564f5row8_col6\" class=\"data row8 col6\" >0.9985</td>\n",
       "            </tr>\n",
       "            <tr>\n",
       "                        <th id=\"T_bdf0579a_f51d_11ea_b84e_309c234564f5level0_row9\" class=\"row_heading level0 row9\" >9</th>\n",
       "                        <td id=\"T_bdf0579a_f51d_11ea_b84e_309c234564f5row9_col0\" class=\"data row9 col0\" >0.9992</td>\n",
       "                        <td id=\"T_bdf0579a_f51d_11ea_b84e_309c234564f5row9_col1\" class=\"data row9 col1\" >1.0000</td>\n",
       "                        <td id=\"T_bdf0579a_f51d_11ea_b84e_309c234564f5row9_col2\" class=\"data row9 col2\" >1.0000</td>\n",
       "                        <td id=\"T_bdf0579a_f51d_11ea_b84e_309c234564f5row9_col3\" class=\"data row9 col3\" >0.9985</td>\n",
       "                        <td id=\"T_bdf0579a_f51d_11ea_b84e_309c234564f5row9_col4\" class=\"data row9 col4\" >0.9992</td>\n",
       "                        <td id=\"T_bdf0579a_f51d_11ea_b84e_309c234564f5row9_col5\" class=\"data row9 col5\" >0.9985</td>\n",
       "                        <td id=\"T_bdf0579a_f51d_11ea_b84e_309c234564f5row9_col6\" class=\"data row9 col6\" >0.9985</td>\n",
       "            </tr>\n",
       "            <tr>\n",
       "                        <th id=\"T_bdf0579a_f51d_11ea_b84e_309c234564f5level0_row10\" class=\"row_heading level0 row10\" >Mean</th>\n",
       "                        <td id=\"T_bdf0579a_f51d_11ea_b84e_309c234564f5row10_col0\" class=\"data row10 col0\" >0.9990</td>\n",
       "                        <td id=\"T_bdf0579a_f51d_11ea_b84e_309c234564f5row10_col1\" class=\"data row10 col1\" >1.0000</td>\n",
       "                        <td id=\"T_bdf0579a_f51d_11ea_b84e_309c234564f5row10_col2\" class=\"data row10 col2\" >1.0000</td>\n",
       "                        <td id=\"T_bdf0579a_f51d_11ea_b84e_309c234564f5row10_col3\" class=\"data row10 col3\" >0.9980</td>\n",
       "                        <td id=\"T_bdf0579a_f51d_11ea_b84e_309c234564f5row10_col4\" class=\"data row10 col4\" >0.9990</td>\n",
       "                        <td id=\"T_bdf0579a_f51d_11ea_b84e_309c234564f5row10_col5\" class=\"data row10 col5\" >0.9979</td>\n",
       "                        <td id=\"T_bdf0579a_f51d_11ea_b84e_309c234564f5row10_col6\" class=\"data row10 col6\" >0.9979</td>\n",
       "            </tr>\n",
       "            <tr>\n",
       "                        <th id=\"T_bdf0579a_f51d_11ea_b84e_309c234564f5level0_row11\" class=\"row_heading level0 row11\" >SD</th>\n",
       "                        <td id=\"T_bdf0579a_f51d_11ea_b84e_309c234564f5row11_col0\" class=\"data row11 col0\" >0.0003</td>\n",
       "                        <td id=\"T_bdf0579a_f51d_11ea_b84e_309c234564f5row11_col1\" class=\"data row11 col1\" >0.0000</td>\n",
       "                        <td id=\"T_bdf0579a_f51d_11ea_b84e_309c234564f5row11_col2\" class=\"data row11 col2\" >0.0000</td>\n",
       "                        <td id=\"T_bdf0579a_f51d_11ea_b84e_309c234564f5row11_col3\" class=\"data row11 col3\" >0.0006</td>\n",
       "                        <td id=\"T_bdf0579a_f51d_11ea_b84e_309c234564f5row11_col4\" class=\"data row11 col4\" >0.0003</td>\n",
       "                        <td id=\"T_bdf0579a_f51d_11ea_b84e_309c234564f5row11_col5\" class=\"data row11 col5\" >0.0006</td>\n",
       "                        <td id=\"T_bdf0579a_f51d_11ea_b84e_309c234564f5row11_col6\" class=\"data row11 col6\" >0.0006</td>\n",
       "            </tr>\n",
       "    </tbody></table>"
      ],
      "text/plain": [
       "<pandas.io.formats.style.Styler at 0x2e8dba910f0>"
      ]
     },
     "metadata": {},
     "output_type": "display_data"
    }
   ],
   "source": [
    "et = create_model('et', fold=10)"
   ]
  },
  {
   "cell_type": "markdown",
   "metadata": {},
   "source": [
    "## Evaluate Models"
   ]
  },
  {
   "cell_type": "code",
   "execution_count": 36,
   "metadata": {},
   "outputs": [
    {
     "data": {
      "image/png": "[encoded data removed]",
      "text/plain": [
       "<Figure size 576x396 with 1 Axes>"
      ]
     },
     "metadata": {},
     "output_type": "display_data"
    }
   ],
   "source": [
    "plot_model(et)"
   ]
  },
  {
   "cell_type": "code",
   "execution_count": 37,
   "metadata": {},
   "outputs": [],
   "source": [
    "#plot_model(et, plot = 'threshold')"
   ]
  },
  {
   "cell_type": "code",
   "execution_count": 38,
   "metadata": {},
   "outputs": [
    {
     "data": {
      "image/png": "[encoded data removed]",
      "text/plain": [
       "<Figure size 576x396 with 1 Axes>"
      ]
     },
     "metadata": {},
     "output_type": "display_data"
    }
   ],
   "source": [
    "plot_model(et, plot = 'pr')"
   ]
  },
  {
   "cell_type": "code",
   "execution_count": 39,
   "metadata": {},
   "outputs": [
    {
     "data": {
      "image/png": "[encoded data removed]",
      "text/plain": [
       "<Figure size 576x396 with 1 Axes>"
      ]
     },
     "metadata": {},
     "output_type": "display_data"
    }
   ],
   "source": [
    "plot_model(et, plot='confusion_matrix')"
   ]
  },
  {
   "cell_type": "code",
   "execution_count": 40,
   "metadata": {},
   "outputs": [
    {
     "data": {
      "image/png": "[encoded data removed]",
      "text/plain": [
       "<Figure size 576x396 with 1 Axes>"
      ]
     },
     "metadata": {},
     "output_type": "display_data"
    }
   ],
   "source": [
    "plot_model(et, plot = 'error')"
   ]
  },
  {
   "cell_type": "code",
   "execution_count": 41,
   "metadata": {},
   "outputs": [
    {
     "data": {
      "image/png": "[encoded data removed]",
      "text/plain": [
       "<Figure size 576x396 with 2 Axes>"
      ]
     },
     "metadata": {},
     "output_type": "display_data"
    }
   ],
   "source": [
    "plot_model(et, plot = 'class_report')"
   ]
  },
  {
   "cell_type": "code",
   "execution_count": 42,
   "metadata": {},
   "outputs": [
    {
     "data": {
      "image/png": "[encoded data removed]",
      "text/plain": [
       "<Figure size 576x396 with 1 Axes>"
      ]
     },
     "metadata": {},
     "output_type": "display_data"
    }
   ],
   "source": [
    "plot_model(et, plot = 'boundary')"
   ]
  },
  {
   "cell_type": "code",
   "execution_count": 43,
   "metadata": {},
   "outputs": [],
   "source": [
    "#plot_model(et, plot='learning')"
   ]
  },
  {
   "cell_type": "code",
   "execution_count": 44,
   "metadata": {},
   "outputs": [],
   "source": [
    "#plot_model(et, plot = 'manifold')"
   ]
  },
  {
   "cell_type": "code",
   "execution_count": 45,
   "metadata": {},
   "outputs": [],
   "source": [
    "#plot_model(et, plot = 'calibration')"
   ]
  },
  {
   "cell_type": "code",
   "execution_count": 46,
   "metadata": {},
   "outputs": [],
   "source": [
    "#plot_model(et, plot = 'vc')"
   ]
  },
  {
   "cell_type": "code",
   "execution_count": 47,
   "metadata": {},
   "outputs": [],
   "source": [
    "#plot_model(et, plot='dimension')"
   ]
  },
  {
   "cell_type": "code",
   "execution_count": 48,
   "metadata": {},
   "outputs": [
    {
     "data": {
      "image/png": "[encoded data removed]",
      "text/plain": [
       "<Figure size 576x360 with 1 Axes>"
      ]
     },
     "metadata": {},
     "output_type": "display_data"
    }
   ],
   "source": [
    "plot_model(et, plot = 'feature')"
   ]
  },
  {
   "cell_type": "code",
   "execution_count": 49,
   "metadata": {
    "scrolled": false
   },
   "outputs": [
    {
     "data": {
      "text/html": [
       "<div>\n",
       "<style scoped>\n",
       "    .dataframe tbody tr th:only-of-type {\n",
       "        vertical-align: middle;\n",
       "    }\n",
       "\n",
       "    .dataframe tbody tr th {\n",
       "        vertical-align: top;\n",
       "    }\n",
       "\n",
       "    .dataframe thead th {\n",
       "        text-align: right;\n",
       "    }\n",
       "</style>\n",
       "<table border=\"1\" class=\"dataframe\">\n",
       "  <thead>\n",
       "    <tr style=\"text-align: right;\">\n",
       "      <th></th>\n",
       "      <th>Parameters</th>\n",
       "    </tr>\n",
       "  </thead>\n",
       "  <tbody>\n",
       "    <tr>\n",
       "      <th>bootstrap</th>\n",
       "      <td>False</td>\n",
       "    </tr>\n",
       "    <tr>\n",
       "      <th>ccp_alpha</th>\n",
       "      <td>0</td>\n",
       "    </tr>\n",
       "    <tr>\n",
       "      <th>class_weight</th>\n",
       "      <td>None</td>\n",
       "    </tr>\n",
       "    <tr>\n",
       "      <th>criterion</th>\n",
       "      <td>gini</td>\n",
       "    </tr>\n",
       "    <tr>\n",
       "      <th>max_depth</th>\n",
       "      <td>None</td>\n",
       "    </tr>\n",
       "    <tr>\n",
       "      <th>max_features</th>\n",
       "      <td>auto</td>\n",
       "    </tr>\n",
       "    <tr>\n",
       "      <th>max_leaf_nodes</th>\n",
       "      <td>None</td>\n",
       "    </tr>\n",
       "    <tr>\n",
       "      <th>max_samples</th>\n",
       "      <td>None</td>\n",
       "    </tr>\n",
       "    <tr>\n",
       "      <th>min_impurity_decrease</th>\n",
       "      <td>0</td>\n",
       "    </tr>\n",
       "    <tr>\n",
       "      <th>min_impurity_split</th>\n",
       "      <td>None</td>\n",
       "    </tr>\n",
       "    <tr>\n",
       "      <th>min_samples_leaf</th>\n",
       "      <td>1</td>\n",
       "    </tr>\n",
       "    <tr>\n",
       "      <th>min_samples_split</th>\n",
       "      <td>2</td>\n",
       "    </tr>\n",
       "    <tr>\n",
       "      <th>min_weight_fraction_leaf</th>\n",
       "      <td>0</td>\n",
       "    </tr>\n",
       "    <tr>\n",
       "      <th>n_estimators</th>\n",
       "      <td>100</td>\n",
       "    </tr>\n",
       "    <tr>\n",
       "      <th>n_jobs</th>\n",
       "      <td>-1</td>\n",
       "    </tr>\n",
       "    <tr>\n",
       "      <th>oob_score</th>\n",
       "      <td>False</td>\n",
       "    </tr>\n",
       "    <tr>\n",
       "      <th>random_state</th>\n",
       "      <td>7077</td>\n",
       "    </tr>\n",
       "    <tr>\n",
       "      <th>verbose</th>\n",
       "      <td>0</td>\n",
       "    </tr>\n",
       "    <tr>\n",
       "      <th>warm_start</th>\n",
       "      <td>False</td>\n",
       "    </tr>\n",
       "  </tbody>\n",
       "</table>\n",
       "</div>"
      ],
      "text/plain": [
       "                         Parameters\n",
       "bootstrap                     False\n",
       "ccp_alpha                         0\n",
       "class_weight                   None\n",
       "criterion                      gini\n",
       "max_depth                      None\n",
       "max_features                   auto\n",
       "max_leaf_nodes                 None\n",
       "max_samples                    None\n",
       "min_impurity_decrease             0\n",
       "min_impurity_split             None\n",
       "min_samples_leaf                  1\n",
       "min_samples_split                 2\n",
       "min_weight_fraction_leaf          0\n",
       "n_estimators                    100\n",
       "n_jobs                           -1\n",
       "oob_score                     False\n",
       "random_state                   7077\n",
       "verbose                           0\n",
       "warm_start                    False"
      ]
     },
     "metadata": {},
     "output_type": "display_data"
    }
   ],
   "source": [
    "plot_model(et, plot = 'parameter')"
   ]
  },
  {
   "cell_type": "markdown",
   "metadata": {},
   "source": [
    "## Ensemble et model Bagging"
   ]
  },
  {
   "cell_type": "code",
   "execution_count": null,
   "metadata": {},
   "outputs": [
    {
     "data": {
      "application/vnd.jupyter.widget-view+json": {
       "model_id": "1bf00b84d3c1467dbfb2a126980b07d3",
       "version_major": 2,
       "version_minor": 0
      },
      "text/plain": [
       "IntProgress(value=0, description='Processing: ', max=14)"
      ]
     },
     "metadata": {},
     "output_type": "display_data"
    },
    {
     "data": {
      "text/html": [
       "<div>\n",
       "<style scoped>\n",
       "    .dataframe tbody tr th:only-of-type {\n",
       "        vertical-align: middle;\n",
       "    }\n",
       "\n",
       "    .dataframe tbody tr th {\n",
       "        vertical-align: top;\n",
       "    }\n",
       "\n",
       "    .dataframe thead th {\n",
       "        text-align: right;\n",
       "    }\n",
       "</style>\n",
       "<table border=\"1\" class=\"dataframe\">\n",
       "  <thead>\n",
       "    <tr style=\"text-align: right;\">\n",
       "      <th></th>\n",
       "      <th></th>\n",
       "      <th></th>\n",
       "    </tr>\n",
       "    <tr>\n",
       "      <th></th>\n",
       "      <th></th>\n",
       "      <th></th>\n",
       "    </tr>\n",
       "  </thead>\n",
       "  <tbody>\n",
       "    <tr>\n",
       "      <th>Initiated</th>\n",
       "      <td>. . . . . . . . . . . . . . . . . .</td>\n",
       "      <td>12:31:25</td>\n",
       "    </tr>\n",
       "    <tr>\n",
       "      <th>Status</th>\n",
       "      <td>. . . . . . . . . . . . . . . . . .</td>\n",
       "      <td>Fitting Fold 1 of 10</td>\n",
       "    </tr>\n",
       "    <tr>\n",
       "      <th>ETC</th>\n",
       "      <td>. . . . . . . . . . . . . . . . . .</td>\n",
       "      <td>Calculating ETC</td>\n",
       "    </tr>\n",
       "  </tbody>\n",
       "</table>\n",
       "</div>"
      ],
      "text/plain": [
       "                                                                    \n",
       "                                                                    \n",
       "Initiated  . . . . . . . . . . . . . . . . . .              12:31:25\n",
       "Status     . . . . . . . . . . . . . . . . . .  Fitting Fold 1 of 10\n",
       "ETC        . . . . . . . . . . . . . . . . . .       Calculating ETC"
      ]
     },
     "metadata": {},
     "output_type": "display_data"
    },
    {
     "data": {
      "text/html": [
       "<div>\n",
       "<style scoped>\n",
       "    .dataframe tbody tr th:only-of-type {\n",
       "        vertical-align: middle;\n",
       "    }\n",
       "\n",
       "    .dataframe tbody tr th {\n",
       "        vertical-align: top;\n",
       "    }\n",
       "\n",
       "    .dataframe thead th {\n",
       "        text-align: right;\n",
       "    }\n",
       "</style>\n",
       "<table border=\"1\" class=\"dataframe\">\n",
       "  <thead>\n",
       "    <tr style=\"text-align: right;\">\n",
       "      <th></th>\n",
       "      <th>Accuracy</th>\n",
       "      <th>AUC</th>\n",
       "      <th>Recall</th>\n",
       "      <th>Prec.</th>\n",
       "      <th>F1</th>\n",
       "      <th>Kappa</th>\n",
       "      <th>MCC</th>\n",
       "    </tr>\n",
       "  </thead>\n",
       "  <tbody>\n",
       "  </tbody>\n",
       "</table>\n",
       "</div>"
      ],
      "text/plain": [
       "Empty DataFrame\n",
       "Columns: [Accuracy, AUC, Recall, Prec., F1, Kappa, MCC]\n",
       "Index: []"
      ]
     },
     "metadata": {},
     "output_type": "display_data"
    }
   ],
   "source": [
    "bagged_et = ensemble_model(et, method='Bagging', n_estimators = 100, fold=10)"
   ]
  },
  {
   "cell_type": "markdown",
   "metadata": {},
   "source": [
    "## Evaluate Models"
   ]
  },
  {
   "cell_type": "code",
   "execution_count": null,
   "metadata": {},
   "outputs": [],
   "source": [
    "plot_model(bagged_et)"
   ]
  },
  {
   "cell_type": "code",
   "execution_count": null,
   "metadata": {},
   "outputs": [],
   "source": [
    "#plot_model(et, plot = 'threshold')"
   ]
  },
  {
   "cell_type": "code",
   "execution_count": null,
   "metadata": {},
   "outputs": [],
   "source": [
    "plot_model(bagged_et, plot = 'pr')"
   ]
  },
  {
   "cell_type": "code",
   "execution_count": null,
   "metadata": {},
   "outputs": [],
   "source": [
    "plot_model(bagged_et, plot='confusion_matrix')"
   ]
  },
  {
   "cell_type": "code",
   "execution_count": null,
   "metadata": {},
   "outputs": [],
   "source": [
    "plot_model(bagged_et, plot = 'error')"
   ]
  },
  {
   "cell_type": "code",
   "execution_count": null,
   "metadata": {},
   "outputs": [],
   "source": [
    "plot_model(bagged_et, plot = 'class_report')"
   ]
  },
  {
   "cell_type": "code",
   "execution_count": null,
   "metadata": {},
   "outputs": [],
   "source": [
    "plot_model(bagged_et, plot = 'boundary')"
   ]
  },
  {
   "cell_type": "code",
   "execution_count": null,
   "metadata": {},
   "outputs": [],
   "source": [
    "#plot_model(et, plot='learning')"
   ]
  },
  {
   "cell_type": "code",
   "execution_count": null,
   "metadata": {},
   "outputs": [],
   "source": [
    "#plot_model(et, plot = 'manifold')"
   ]
  },
  {
   "cell_type": "code",
   "execution_count": null,
   "metadata": {},
   "outputs": [],
   "source": [
    "#plot_model(et, plot = 'calibration')"
   ]
  },
  {
   "cell_type": "code",
   "execution_count": null,
   "metadata": {},
   "outputs": [],
   "source": [
    "#plot_model(et, plot = 'vc')"
   ]
  },
  {
   "cell_type": "code",
   "execution_count": null,
   "metadata": {},
   "outputs": [],
   "source": [
    "#plot_model(et, plot='dimension')"
   ]
  },
  {
   "cell_type": "code",
   "execution_count": null,
   "metadata": {},
   "outputs": [],
   "source": [
    "plot_model(bagged_et, plot = 'feature')"
   ]
  },
  {
   "cell_type": "code",
   "execution_count": null,
   "metadata": {
    "scrolled": false
   },
   "outputs": [],
   "source": [
    "plot_model(bagged_et, plot = 'parameter')"
   ]
  },
  {
   "cell_type": "code",
   "execution_count": null,
   "metadata": {},
   "outputs": [],
   "source": []
  },
  {
   "cell_type": "code",
   "execution_count": null,
   "metadata": {},
   "outputs": [],
   "source": []
  },
  {
   "cell_type": "code",
   "execution_count": null,
   "metadata": {},
   "outputs": [],
   "source": []
  },
  {
   "cell_type": "markdown",
   "metadata": {},
   "source": [
    "# Predict models"
   ]
  },
  {
   "cell_type": "markdown",
   "metadata": {},
   "source": [
    "# The golden moment... put 10% sample test data through the models..."
   ]
  },
  {
   "cell_type": "markdown",
   "metadata": {},
   "source": [
    "# Recombine test_features, test_target at first train/test/split\n",
    " This \"test\" set was split BEFORE Oversampling. PyCaret takes the \"train\" from this split and splits it internally again. Since we have no control of how PyCaret does this we needed to do a train/test split before we input the training set into PyCaret. Now we will recombine the test_features and test_target into one new df"
   ]
  },
  {
   "cell_type": "code",
   "execution_count": null,
   "metadata": {},
   "outputs": [],
   "source": [
    "test_features.shape"
   ]
  },
  {
   "cell_type": "code",
   "execution_count": null,
   "metadata": {},
   "outputs": [],
   "source": [
    "test_target.shape"
   ]
  },
  {
   "cell_type": "code",
   "execution_count": null,
   "metadata": {},
   "outputs": [],
   "source": [
    "test_df = test_features.copy()"
   ]
  },
  {
   "cell_type": "code",
   "execution_count": null,
   "metadata": {},
   "outputs": [],
   "source": [
    "test_df['zeroBalCode'] = test_target"
   ]
  },
  {
   "cell_type": "code",
   "execution_count": null,
   "metadata": {},
   "outputs": [],
   "source": [
    "test_df.shape"
   ]
  },
  {
   "cell_type": "code",
   "execution_count": null,
   "metadata": {
    "scrolled": true
   },
   "outputs": [],
   "source": [
    "totalTestCount = test_df.zeroBalCode.value_counts().sum()\n",
    "posTestCount = test_df.zeroBalCode.value_counts()[1]\n",
    "print('#############################################')\n",
    "print('This \"Test\" set has not been oversamplied')\n",
    "print(test_df.zeroBalCode.value_counts())\n",
    "print(f'Positive samples are {round(posTestCount/totalTestCount*100,2)}%')"
   ]
  },
  {
   "cell_type": "code",
   "execution_count": null,
   "metadata": {
    "scrolled": true
   },
   "outputs": [],
   "source": [
    "#plot_model(qda, plot = 'feature')"
   ]
  },
  {
   "cell_type": "code",
   "execution_count": null,
   "metadata": {},
   "outputs": [],
   "source": []
  },
  {
   "cell_type": "markdown",
   "metadata": {},
   "source": [
    "## Create Confusion Matrix output functions"
   ]
  },
  {
   "cell_type": "code",
   "execution_count": null,
   "metadata": {},
   "outputs": [],
   "source": [
    "def calc_confusion(row):\n",
    "    if ((row['zeroBalCode'] == 0) & (row['Label'] == 0)):\n",
    "        value = 'TrueNegative'\n",
    "    elif ((row['zeroBalCode'] == 0) & (row['Label'] == 1)):\n",
    "        value = 'FalsePositive'\n",
    "    elif ((row['zeroBalCode'] == 1) & (row['Label'] == 1)):\n",
    "        value = 'TruePositive'\n",
    "    elif ((row['zeroBalCode'] == 1) & (row['Label'] == 0)):\n",
    "        value = 'FalseNegative'\n",
    "    else:\n",
    "        value = 'Undefined'\n",
    "    return value"
   ]
  },
  {
   "cell_type": "code",
   "execution_count": null,
   "metadata": {},
   "outputs": [],
   "source": [
    "def cM(df):\n",
    "    print(f'           ##############################')\n",
    "    print(f'           #             #              #')\n",
    "    print(f'         0 #    {df[\"TrueNegative\"]}     #     {df[\"FalseNegative\"]}      #')\n",
    "    print(f'  True     #             #              #')\n",
    "    print(f'  Class    ##############################')\n",
    "    print(f'           #             #              #')\n",
    "    print(f'         1 #    {df[\"FalsePositive\"]}      #     {df[\"TruePositive\"]}      #')\n",
    "    print(f'           #             #              #')\n",
    "    print(f'           ##############################')\n",
    "    print(f'                  0              1        ')\n",
    "    print(f'                  Predicted Class           ')\n"
   ]
  },
  {
   "cell_type": "code",
   "execution_count": null,
   "metadata": {},
   "outputs": [],
   "source": [
    "def cMCalc():\n",
    "    # 0 or 2 = Predict equals truth, 1 = Predict doesn't equal truth\n",
    "    totalNegative = confusionMatrix['TrueNegative'] + confusionMatrix['FalseNegative']\n",
    "    totalPositive = confusionMatrix['TruePositive'] + confusionMatrix['FalsePositive']\n",
    "    total = totalNegative + totalPositive\n",
    "    trueNegativePct = confusionMatrix['TrueNegative'] / total * 100\n",
    "    falseNegativePct = confusionMatrix['FalseNegative'] / total * 100\n",
    "    truePositivePct = confusionMatrix['TruePositive'] / total * 100\n",
    "    falsePositivePct = confusionMatrix['FalsePositive'] / total * 100\n",
    "\n",
    "    # Accuracy Calculation\n",
    "    accuracy = (confusionMatrix['TruePositive'] + confusionMatrix['TrueNegative'])/(totalPositive + totalNegative)\n",
    "    # Recall Calculation\n",
    "    recall = (confusionMatrix['TruePositive']/(confusionMatrix['TruePositive'] + confusionMatrix['FalseNegative']))\n",
    "    # Precision Calculation\n",
    "    precision = (confusionMatrix['TruePositive']/(confusionMatrix['TruePositive'] + confusionMatrix['FalsePositive']))\n",
    "\n",
    "    print(f'TrueNegative:  {round(trueNegativePct,2)}%')\n",
    "    print(f'FalseNegative:  {round(falseNegativePct,2)}%')\n",
    "    print(f'TruePositive:   {round(truePositivePct,2)}%')\n",
    "    print(f'FalsePositive: {round(falsePositivePct,2)}%')\n",
    "    print(f'#####################################################')\n",
    "    print(f'Accuracy: {round(accuracy,2)*100}%   Recall: {round(recall,2)*100}%   Precision: {round(precision,2)*100}%')\n",
    "    print(f'#####################################################')"
   ]
  },
  {
   "cell_type": "markdown",
   "metadata": {},
   "source": [
    "# Evaluate Models"
   ]
  },
  {
   "cell_type": "markdown",
   "metadata": {},
   "source": [
    "# Extra Trees Classifier"
   ]
  },
  {
   "cell_type": "code",
   "execution_count": null,
   "metadata": {},
   "outputs": [],
   "source": [
    "predictions = predict_model(et, data=test_df)"
   ]
  },
  {
   "cell_type": "code",
   "execution_count": null,
   "metadata": {},
   "outputs": [],
   "source": [
    "pd.set_option('max_columns',None)\n",
    "predictions.head()"
   ]
  },
  {
   "cell_type": "code",
   "execution_count": null,
   "metadata": {},
   "outputs": [],
   "source": [
    "results = predictions[['zeroBalCode','Label','Score']]"
   ]
  },
  {
   "cell_type": "code",
   "execution_count": null,
   "metadata": {},
   "outputs": [],
   "source": [
    "predictions.Label.value_counts()"
   ]
  },
  {
   "cell_type": "code",
   "execution_count": null,
   "metadata": {},
   "outputs": [],
   "source": [
    "results['Confusion'] = results.apply(calc_confusion, axis=1)"
   ]
  },
  {
   "cell_type": "code",
   "execution_count": null,
   "metadata": {},
   "outputs": [],
   "source": [
    "confusionMatrix = results.Confusion.value_counts().to_dict()"
   ]
  },
  {
   "cell_type": "code",
   "execution_count": null,
   "metadata": {
    "scrolled": false
   },
   "outputs": [],
   "source": [
    "cM(confusionMatrix)"
   ]
  },
  {
   "cell_type": "code",
   "execution_count": null,
   "metadata": {},
   "outputs": [],
   "source": [
    "cMCalc()"
   ]
  },
  {
   "cell_type": "markdown",
   "metadata": {},
   "source": [
    "#### Well this is disappointing... The non-oversampled test dataset performed worse than random flipping a coin!"
   ]
  },
  {
   "cell_type": "code",
   "execution_count": null,
   "metadata": {},
   "outputs": [],
   "source": [
    "#save_model(et, 'extraTrees2.5OS5050_082220')"
   ]
  },
  {
   "cell_type": "code",
   "execution_count": null,
   "metadata": {
    "scrolled": true
   },
   "outputs": [],
   "source": [
    "#save_model(calibrated_et, 'extraTreesCalibrated2.5OS5050_082220')"
   ]
  },
  {
   "cell_type": "code",
   "execution_count": null,
   "metadata": {
    "scrolled": true
   },
   "outputs": [],
   "source": [
    "pred_holdout = predict_model(et)"
   ]
  },
  {
   "cell_type": "markdown",
   "metadata": {},
   "source": [
    "# Ensemble Bagged Extra Trees Classifier"
   ]
  },
  {
   "cell_type": "code",
   "execution_count": null,
   "metadata": {},
   "outputs": [],
   "source": [
    "predictions = predict_model(bagged_et, data=test_df)"
   ]
  },
  {
   "cell_type": "code",
   "execution_count": null,
   "metadata": {},
   "outputs": [],
   "source": [
    "pd.set_option('max_columns',None)\n",
    "predictions.head()"
   ]
  },
  {
   "cell_type": "code",
   "execution_count": null,
   "metadata": {},
   "outputs": [],
   "source": [
    "results = predictions[['zeroBalCode','Label','Score']]"
   ]
  },
  {
   "cell_type": "code",
   "execution_count": null,
   "metadata": {},
   "outputs": [],
   "source": [
    "predictions.Label.value_counts()"
   ]
  },
  {
   "cell_type": "code",
   "execution_count": null,
   "metadata": {},
   "outputs": [],
   "source": [
    "results['Confusion'] = results.apply(calc_confusion, axis=1)"
   ]
  },
  {
   "cell_type": "code",
   "execution_count": null,
   "metadata": {},
   "outputs": [],
   "source": [
    "confusionMatrix = results.Confusion.value_counts().to_dict()"
   ]
  },
  {
   "cell_type": "code",
   "execution_count": null,
   "metadata": {
    "scrolled": false
   },
   "outputs": [],
   "source": [
    "cM(confusionMatrix_bagged)"
   ]
  },
  {
   "cell_type": "code",
   "execution_count": null,
   "metadata": {},
   "outputs": [],
   "source": [
    "cMCalc()"
   ]
  },
  {
   "cell_type": "markdown",
   "metadata": {},
   "source": [
    "#### Well this is disappointing... The non-oversampled test dataset performed worse than random flipping a coin!"
   ]
  },
  {
   "cell_type": "code",
   "execution_count": null,
   "metadata": {},
   "outputs": [],
   "source": [
    "#save_model(et, 'extraTrees2.5OS5050_082220')"
   ]
  },
  {
   "cell_type": "code",
   "execution_count": null,
   "metadata": {
    "scrolled": true
   },
   "outputs": [],
   "source": [
    "#save_model(calibrated_et, 'extraTreesCalibrated2.5OS5050_082220')"
   ]
  },
  {
   "cell_type": "code",
   "execution_count": null,
   "metadata": {
    "scrolled": true
   },
   "outputs": [],
   "source": [
    "pred_holdout = predict_model(et)"
   ]
  },
  {
   "cell_type": "code",
   "execution_count": null,
   "metadata": {},
   "outputs": [],
   "source": []
  }
 ],
 "metadata": {
  "kernelspec": {
   "display_name": "MortgageML",
   "language": "python",
   "name": "mortgageml"
  },
  "language_info": {
   "codemirror_mode": {
    "name": "ipython",
    "version": 3
   },
   "file_extension": ".py",
   "mimetype": "text/x-python",
   "name": "python",
   "nbconvert_exporter": "python",
   "pygments_lexer": "ipython3",
   "version": "3.6.10"
  }
 },
 "nbformat": 4,
 "nbformat_minor": 4
}
