{
 "cells": [
  {
   "cell_type": "markdown",
   "metadata": {},
   "source": [
    "# ML Foreclosure Binary Classification - 10% sample dataset\n",
    "Only \"resolved\" outcomes - Either paid off or default \n",
    "\n",
    "    target = zeroBalCode (set to object dtype) \n",
    "    Binary classification sets zeroBalCode to either \"0\" or \"1\" for the 7 possible outcomes\n",
    "    \n",
    "    \"0\" = \"Loan Success\"\n",
    "        * 01 = Prepaid or Matured\n",
    "        * 06 = Repurchased\n",
    "        * 16 = Reperforming Loan Sale\n",
    "\n",
    "    \"1\" =  \"Loan Failure\" - Most likely loss of money (but not necessarily) one of below conditions:\n",
    "        * 02 = Third Party Sale\n",
    "        * 03 = Short Sale\n",
    "        * 09 = Deed-in-Lieu,REO\n",
    "        * 15 = Note Sale\n"
   ]
  },
  {
   "cell_type": "code",
   "execution_count": 1,
   "metadata": {
    "_cell_guid": "79c7e3d0-c299-4dcb-8224-4455121ee9b0",
    "_kg_hide-output": true,
    "_uuid": "d629ff2d2480ee46fbb7e2d37f6b5fab8052498a"
   },
   "outputs": [],
   "source": [
    "import pandas as pd\n",
    "import numpy as np\n",
    "import matplotlib.pyplot as plt\n",
    "from sklearn.model_selection import train_test_split\n",
    "#!pip install pycaret\n",
    "from imblearn.over_sampling import RandomOverSampler\n",
    "from pycaret.classification import *\n",
    "#from pycaret.regression import *\n",
    "pd.set_option('display.max_columns', None)\n"
   ]
  },
  {
   "cell_type": "markdown",
   "metadata": {},
   "source": [
    "# Importing the data - only use *.ML.csv files!!!\n",
    "If you have *.MLReady.csv then [click here](#MLReady)"
   ]
  },
  {
   "cell_type": "code",
   "execution_count": 2,
   "metadata": {
    "scrolled": false
   },
   "outputs": [
    {
     "data": {
      "text/html": [
       "<div>\n",
       "<style scoped>\n",
       "    .dataframe tbody tr th:only-of-type {\n",
       "        vertical-align: middle;\n",
       "    }\n",
       "\n",
       "    .dataframe tbody tr th {\n",
       "        vertical-align: top;\n",
       "    }\n",
       "\n",
       "    .dataframe thead th {\n",
       "        text-align: right;\n",
       "    }\n",
       "</style>\n",
       "<table border=\"1\" class=\"dataframe\">\n",
       "  <thead>\n",
       "    <tr style=\"text-align: right;\">\n",
       "      <th></th>\n",
       "      <th>Unnamed: 0</th>\n",
       "      <th>Unnamed: 0.1</th>\n",
       "      <th>id</th>\n",
       "      <th>origChannel</th>\n",
       "      <th>sellerName</th>\n",
       "      <th>origIntRate</th>\n",
       "      <th>origUPB</th>\n",
       "      <th>origLoanTerm</th>\n",
       "      <th>origDate</th>\n",
       "      <th>origLTV</th>\n",
       "      <th>origCLTV</th>\n",
       "      <th>numBorrowers</th>\n",
       "      <th>origDebtIncRatio</th>\n",
       "      <th>loanPurp</th>\n",
       "      <th>propState</th>\n",
       "      <th>zipCode</th>\n",
       "      <th>pMIperct</th>\n",
       "      <th>mortInsType</th>\n",
       "      <th>bestCreditScore</th>\n",
       "      <th>worstCreditScore</th>\n",
       "      <th>avgCreditScore</th>\n",
       "      <th>loanAge</th>\n",
       "      <th>monMatur</th>\n",
       "      <th>mSA</th>\n",
       "      <th>zeroBalCode</th>\n",
       "      <th>deliqGood</th>\n",
       "      <th>deliqBad</th>\n",
       "      <th>deliqMax</th>\n",
       "      <th>fmacRateMax</th>\n",
       "      <th>fmacRateMin</th>\n",
       "      <th>fmacRateAvg</th>\n",
       "      <th>fmacRateVolatility</th>\n",
       "      <th>fredRate</th>\n",
       "      <th>rateDiffAbove</th>\n",
       "      <th>rateDiffBelow</th>\n",
       "      <th>rateDiffAvg</th>\n",
       "      <th>rateDiffAbovePct</th>\n",
       "      <th>rateDiffBelowPct</th>\n",
       "      <th>rateDiffAvgPct</th>\n",
       "    </tr>\n",
       "  </thead>\n",
       "  <tbody>\n",
       "    <tr>\n",
       "      <th>0</th>\n",
       "      <td>1541969</td>\n",
       "      <td>1541969</td>\n",
       "      <td>146748469526</td>\n",
       "      <td>C</td>\n",
       "      <td>IRWIN MORTGAGE, CORPORATION</td>\n",
       "      <td>6.250</td>\n",
       "      <td>25000</td>\n",
       "      <td>360</td>\n",
       "      <td>2004-05-01</td>\n",
       "      <td>79.0</td>\n",
       "      <td>79.0</td>\n",
       "      <td>1.0</td>\n",
       "      <td>35.0</td>\n",
       "      <td>C</td>\n",
       "      <td>IA</td>\n",
       "      <td>508</td>\n",
       "      <td>0.0</td>\n",
       "      <td>0.0</td>\n",
       "      <td>651.0</td>\n",
       "      <td>651.0</td>\n",
       "      <td>651.0</td>\n",
       "      <td>105</td>\n",
       "      <td>255.0</td>\n",
       "      <td>0</td>\n",
       "      <td>1.0</td>\n",
       "      <td>77</td>\n",
       "      <td>27</td>\n",
       "      <td>27.0</td>\n",
       "      <td>6.34</td>\n",
       "      <td>6.12</td>\n",
       "      <td>6.270</td>\n",
       "      <td>0.035948</td>\n",
       "      <td>4.53</td>\n",
       "      <td>-0.090</td>\n",
       "      <td>-0.130</td>\n",
       "      <td>-0.020</td>\n",
       "      <td>-0.014196</td>\n",
       "      <td>-0.021242</td>\n",
       "      <td>-0.003190</td>\n",
       "    </tr>\n",
       "    <tr>\n",
       "      <th>1</th>\n",
       "      <td>632878</td>\n",
       "      <td>632878</td>\n",
       "      <td>240610336325</td>\n",
       "      <td>R</td>\n",
       "      <td>SUNTRUST MORTGAGE INC.</td>\n",
       "      <td>6.500</td>\n",
       "      <td>150000</td>\n",
       "      <td>360</td>\n",
       "      <td>2002-08-01</td>\n",
       "      <td>67.0</td>\n",
       "      <td>67.0</td>\n",
       "      <td>2.0</td>\n",
       "      <td>52.0</td>\n",
       "      <td>C</td>\n",
       "      <td>FL</td>\n",
       "      <td>339</td>\n",
       "      <td>0.0</td>\n",
       "      <td>0.0</td>\n",
       "      <td>700.0</td>\n",
       "      <td>671.0</td>\n",
       "      <td>685.5</td>\n",
       "      <td>49</td>\n",
       "      <td>311.0</td>\n",
       "      <td>39460</td>\n",
       "      <td>1.0</td>\n",
       "      <td>41</td>\n",
       "      <td>3</td>\n",
       "      <td>1.0</td>\n",
       "      <td>6.43</td>\n",
       "      <td>6.22</td>\n",
       "      <td>6.290</td>\n",
       "      <td>0.033762</td>\n",
       "      <td>4.47</td>\n",
       "      <td>0.070</td>\n",
       "      <td>-0.280</td>\n",
       "      <td>0.210</td>\n",
       "      <td>0.010886</td>\n",
       "      <td>-0.045016</td>\n",
       "      <td>0.033386</td>\n",
       "    </tr>\n",
       "    <tr>\n",
       "      <th>2</th>\n",
       "      <td>2594139</td>\n",
       "      <td>2594139</td>\n",
       "      <td>859946282181</td>\n",
       "      <td>R</td>\n",
       "      <td>QUICKEN LOANS INC.</td>\n",
       "      <td>3.990</td>\n",
       "      <td>75000</td>\n",
       "      <td>180</td>\n",
       "      <td>2014-08-01</td>\n",
       "      <td>65.0</td>\n",
       "      <td>65.0</td>\n",
       "      <td>2.0</td>\n",
       "      <td>12.0</td>\n",
       "      <td>C</td>\n",
       "      <td>MI</td>\n",
       "      <td>483</td>\n",
       "      <td>0.0</td>\n",
       "      <td>0.0</td>\n",
       "      <td>658.0</td>\n",
       "      <td>629.0</td>\n",
       "      <td>643.5</td>\n",
       "      <td>25</td>\n",
       "      <td>155.0</td>\n",
       "      <td>19820</td>\n",
       "      <td>1.0</td>\n",
       "      <td>24</td>\n",
       "      <td>1</td>\n",
       "      <td>1.0</td>\n",
       "      <td>4.14</td>\n",
       "      <td>4.10</td>\n",
       "      <td>4.115</td>\n",
       "      <td>0.009756</td>\n",
       "      <td>2.52</td>\n",
       "      <td>-0.150</td>\n",
       "      <td>0.110</td>\n",
       "      <td>-0.125</td>\n",
       "      <td>-0.036232</td>\n",
       "      <td>0.026829</td>\n",
       "      <td>-0.030377</td>\n",
       "    </tr>\n",
       "    <tr>\n",
       "      <th>3</th>\n",
       "      <td>74236</td>\n",
       "      <td>74236</td>\n",
       "      <td>594440322319</td>\n",
       "      <td>R</td>\n",
       "      <td>BISHOPS GATE RESIDENTIAL MORTGAGE TRUST</td>\n",
       "      <td>8.125</td>\n",
       "      <td>124000</td>\n",
       "      <td>360</td>\n",
       "      <td>2000-09-01</td>\n",
       "      <td>80.0</td>\n",
       "      <td>80.0</td>\n",
       "      <td>2.0</td>\n",
       "      <td>42.0</td>\n",
       "      <td>P</td>\n",
       "      <td>WI</td>\n",
       "      <td>530</td>\n",
       "      <td>0.0</td>\n",
       "      <td>0.0</td>\n",
       "      <td>671.0</td>\n",
       "      <td>658.0</td>\n",
       "      <td>664.5</td>\n",
       "      <td>15</td>\n",
       "      <td>345.0</td>\n",
       "      <td>33340</td>\n",
       "      <td>1.0</td>\n",
       "      <td>8</td>\n",
       "      <td>7</td>\n",
       "      <td>1.0</td>\n",
       "      <td>7.96</td>\n",
       "      <td>7.88</td>\n",
       "      <td>7.912</td>\n",
       "      <td>0.010152</td>\n",
       "      <td>5.68</td>\n",
       "      <td>0.165</td>\n",
       "      <td>-0.245</td>\n",
       "      <td>0.213</td>\n",
       "      <td>0.020729</td>\n",
       "      <td>-0.031091</td>\n",
       "      <td>0.026921</td>\n",
       "    </tr>\n",
       "    <tr>\n",
       "      <th>4</th>\n",
       "      <td>1192968</td>\n",
       "      <td>1192968</td>\n",
       "      <td>273895531783</td>\n",
       "      <td>C</td>\n",
       "      <td>OTHER</td>\n",
       "      <td>4.875</td>\n",
       "      <td>38000</td>\n",
       "      <td>120</td>\n",
       "      <td>2003-08-01</td>\n",
       "      <td>40.0</td>\n",
       "      <td>40.0</td>\n",
       "      <td>2.0</td>\n",
       "      <td>19.0</td>\n",
       "      <td>R</td>\n",
       "      <td>MN</td>\n",
       "      <td>559</td>\n",
       "      <td>0.0</td>\n",
       "      <td>0.0</td>\n",
       "      <td>727.0</td>\n",
       "      <td>727.0</td>\n",
       "      <td>727.0</td>\n",
       "      <td>66</td>\n",
       "      <td>54.0</td>\n",
       "      <td>0</td>\n",
       "      <td>1.0</td>\n",
       "      <td>65</td>\n",
       "      <td>1</td>\n",
       "      <td>1.0</td>\n",
       "      <td>6.34</td>\n",
       "      <td>6.14</td>\n",
       "      <td>6.264</td>\n",
       "      <td>0.032573</td>\n",
       "      <td>4.44</td>\n",
       "      <td>-1.465</td>\n",
       "      <td>1.265</td>\n",
       "      <td>-1.389</td>\n",
       "      <td>-0.231073</td>\n",
       "      <td>0.206026</td>\n",
       "      <td>-0.221743</td>\n",
       "    </tr>\n",
       "  </tbody>\n",
       "</table>\n",
       "</div>"
      ],
      "text/plain": [
       "   Unnamed: 0  Unnamed: 0.1            id origChannel  \\\n",
       "0     1541969       1541969  146748469526           C   \n",
       "1      632878        632878  240610336325           R   \n",
       "2     2594139       2594139  859946282181           R   \n",
       "3       74236         74236  594440322319           R   \n",
       "4     1192968       1192968  273895531783           C   \n",
       "\n",
       "                                sellerName  origIntRate  origUPB  \\\n",
       "0              IRWIN MORTGAGE, CORPORATION        6.250    25000   \n",
       "1                   SUNTRUST MORTGAGE INC.        6.500   150000   \n",
       "2                       QUICKEN LOANS INC.        3.990    75000   \n",
       "3  BISHOPS GATE RESIDENTIAL MORTGAGE TRUST        8.125   124000   \n",
       "4                                    OTHER        4.875    38000   \n",
       "\n",
       "   origLoanTerm    origDate  origLTV  origCLTV  numBorrowers  \\\n",
       "0           360  2004-05-01     79.0      79.0           1.0   \n",
       "1           360  2002-08-01     67.0      67.0           2.0   \n",
       "2           180  2014-08-01     65.0      65.0           2.0   \n",
       "3           360  2000-09-01     80.0      80.0           2.0   \n",
       "4           120  2003-08-01     40.0      40.0           2.0   \n",
       "\n",
       "   origDebtIncRatio loanPurp propState  zipCode  pMIperct  mortInsType  \\\n",
       "0              35.0        C        IA      508       0.0          0.0   \n",
       "1              52.0        C        FL      339       0.0          0.0   \n",
       "2              12.0        C        MI      483       0.0          0.0   \n",
       "3              42.0        P        WI      530       0.0          0.0   \n",
       "4              19.0        R        MN      559       0.0          0.0   \n",
       "\n",
       "   bestCreditScore  worstCreditScore  avgCreditScore  loanAge  monMatur  \\\n",
       "0            651.0             651.0           651.0      105     255.0   \n",
       "1            700.0             671.0           685.5       49     311.0   \n",
       "2            658.0             629.0           643.5       25     155.0   \n",
       "3            671.0             658.0           664.5       15     345.0   \n",
       "4            727.0             727.0           727.0       66      54.0   \n",
       "\n",
       "     mSA  zeroBalCode  deliqGood  deliqBad  deliqMax  fmacRateMax  \\\n",
       "0      0          1.0         77        27      27.0         6.34   \n",
       "1  39460          1.0         41         3       1.0         6.43   \n",
       "2  19820          1.0         24         1       1.0         4.14   \n",
       "3  33340          1.0          8         7       1.0         7.96   \n",
       "4      0          1.0         65         1       1.0         6.34   \n",
       "\n",
       "   fmacRateMin  fmacRateAvg  fmacRateVolatility  fredRate  rateDiffAbove  \\\n",
       "0         6.12        6.270            0.035948      4.53         -0.090   \n",
       "1         6.22        6.290            0.033762      4.47          0.070   \n",
       "2         4.10        4.115            0.009756      2.52         -0.150   \n",
       "3         7.88        7.912            0.010152      5.68          0.165   \n",
       "4         6.14        6.264            0.032573      4.44         -1.465   \n",
       "\n",
       "   rateDiffBelow  rateDiffAvg  rateDiffAbovePct  rateDiffBelowPct  \\\n",
       "0         -0.130       -0.020         -0.014196         -0.021242   \n",
       "1         -0.280        0.210          0.010886         -0.045016   \n",
       "2          0.110       -0.125         -0.036232          0.026829   \n",
       "3         -0.245        0.213          0.020729         -0.031091   \n",
       "4          1.265       -1.389         -0.231073          0.206026   \n",
       "\n",
       "   rateDiffAvgPct  \n",
       "0       -0.003190  \n",
       "1        0.033386  \n",
       "2       -0.030377  \n",
       "3        0.026921  \n",
       "4       -0.221743  "
      ]
     },
     "execution_count": 2,
     "metadata": {},
     "output_type": "execute_result"
    }
   ],
   "source": [
    "df=pd.read_csv(\"data/FM_Acq2_Perf_FMAC2_loanAge_sample10.csv\")\n",
    "df.head()"
   ]
  },
  {
   "cell_type": "code",
   "execution_count": 3,
   "metadata": {
    "scrolled": false
   },
   "outputs": [
    {
     "name": "stdout",
     "output_type": "stream",
     "text": [
      "<class 'pandas.core.frame.DataFrame'>\n",
      "RangeIndex: 266326 entries, 0 to 266325\n",
      "Data columns (total 39 columns):\n",
      " #   Column              Non-Null Count   Dtype  \n",
      "---  ------              --------------   -----  \n",
      " 0   Unnamed: 0          266326 non-null  int64  \n",
      " 1   Unnamed: 0.1        266326 non-null  int64  \n",
      " 2   id                  266326 non-null  int64  \n",
      " 3   origChannel         266326 non-null  object \n",
      " 4   sellerName          266326 non-null  object \n",
      " 5   origIntRate         266326 non-null  float64\n",
      " 6   origUPB             266326 non-null  int64  \n",
      " 7   origLoanTerm        266326 non-null  int64  \n",
      " 8   origDate            266326 non-null  object \n",
      " 9   origLTV             266326 non-null  float64\n",
      " 10  origCLTV            266326 non-null  float64\n",
      " 11  numBorrowers        266326 non-null  float64\n",
      " 12  origDebtIncRatio    266326 non-null  float64\n",
      " 13  loanPurp            266326 non-null  object \n",
      " 14  propState           266326 non-null  object \n",
      " 15  zipCode             266326 non-null  int64  \n",
      " 16  pMIperct            266326 non-null  float64\n",
      " 17  mortInsType         266326 non-null  float64\n",
      " 18  bestCreditScore     266326 non-null  float64\n",
      " 19  worstCreditScore    266326 non-null  float64\n",
      " 20  avgCreditScore      266326 non-null  float64\n",
      " 21  loanAge             266326 non-null  int64  \n",
      " 22  monMatur            266185 non-null  float64\n",
      " 23  mSA                 266326 non-null  int64  \n",
      " 24  zeroBalCode         266326 non-null  float64\n",
      " 25  deliqGood           266326 non-null  int64  \n",
      " 26  deliqBad            266326 non-null  int64  \n",
      " 27  deliqMax            266326 non-null  float64\n",
      " 28  fmacRateMax         266326 non-null  float64\n",
      " 29  fmacRateMin         266326 non-null  float64\n",
      " 30  fmacRateAvg         266326 non-null  float64\n",
      " 31  fmacRateVolatility  266326 non-null  float64\n",
      " 32  fredRate            266326 non-null  float64\n",
      " 33  rateDiffAbove       266326 non-null  float64\n",
      " 34  rateDiffBelow       266326 non-null  float64\n",
      " 35  rateDiffAvg         266326 non-null  float64\n",
      " 36  rateDiffAbovePct    266326 non-null  float64\n",
      " 37  rateDiffBelowPct    266326 non-null  float64\n",
      " 38  rateDiffAvgPct      266326 non-null  float64\n",
      "dtypes: float64(24), int64(10), object(5)\n",
      "memory usage: 79.2+ MB\n"
     ]
    }
   ],
   "source": [
    "df.info()"
   ]
  },
  {
   "cell_type": "markdown",
   "metadata": {},
   "source": [
    "## Remove columns not involved in 'Foreclosure or Not' query"
   ]
  },
  {
   "cell_type": "code",
   "execution_count": 4,
   "metadata": {},
   "outputs": [],
   "source": [
    "df.drop(['Unnamed: 0','id','fredRate','monMatur','deliqGood','deliqBad','deliqMax'],1,inplace=True)"
   ]
  },
  {
   "cell_type": "code",
   "execution_count": 5,
   "metadata": {},
   "outputs": [
    {
     "name": "stdout",
     "output_type": "stream",
     "text": [
      "<class 'pandas.core.frame.DataFrame'>\n",
      "RangeIndex: 266326 entries, 0 to 266325\n",
      "Data columns (total 32 columns):\n",
      " #   Column              Non-Null Count   Dtype  \n",
      "---  ------              --------------   -----  \n",
      " 0   Unnamed: 0.1        266326 non-null  int64  \n",
      " 1   origChannel         266326 non-null  object \n",
      " 2   sellerName          266326 non-null  object \n",
      " 3   origIntRate         266326 non-null  float64\n",
      " 4   origUPB             266326 non-null  int64  \n",
      " 5   origLoanTerm        266326 non-null  int64  \n",
      " 6   origDate            266326 non-null  object \n",
      " 7   origLTV             266326 non-null  float64\n",
      " 8   origCLTV            266326 non-null  float64\n",
      " 9   numBorrowers        266326 non-null  float64\n",
      " 10  origDebtIncRatio    266326 non-null  float64\n",
      " 11  loanPurp            266326 non-null  object \n",
      " 12  propState           266326 non-null  object \n",
      " 13  zipCode             266326 non-null  int64  \n",
      " 14  pMIperct            266326 non-null  float64\n",
      " 15  mortInsType         266326 non-null  float64\n",
      " 16  bestCreditScore     266326 non-null  float64\n",
      " 17  worstCreditScore    266326 non-null  float64\n",
      " 18  avgCreditScore      266326 non-null  float64\n",
      " 19  loanAge             266326 non-null  int64  \n",
      " 20  mSA                 266326 non-null  int64  \n",
      " 21  zeroBalCode         266326 non-null  float64\n",
      " 22  fmacRateMax         266326 non-null  float64\n",
      " 23  fmacRateMin         266326 non-null  float64\n",
      " 24  fmacRateAvg         266326 non-null  float64\n",
      " 25  fmacRateVolatility  266326 non-null  float64\n",
      " 26  rateDiffAbove       266326 non-null  float64\n",
      " 27  rateDiffBelow       266326 non-null  float64\n",
      " 28  rateDiffAvg         266326 non-null  float64\n",
      " 29  rateDiffAbovePct    266326 non-null  float64\n",
      " 30  rateDiffBelowPct    266326 non-null  float64\n",
      " 31  rateDiffAvgPct      266326 non-null  float64\n",
      "dtypes: float64(21), int64(6), object(5)\n",
      "memory usage: 65.0+ MB\n"
     ]
    }
   ],
   "source": [
    "df.info()"
   ]
  },
  {
   "cell_type": "markdown",
   "metadata": {},
   "source": [
    "### Check if any columns have a null value"
   ]
  },
  {
   "cell_type": "code",
   "execution_count": 6,
   "metadata": {},
   "outputs": [
    {
     "data": {
      "text/plain": [
       "Unnamed: 0.1          0\n",
       "origChannel           0\n",
       "sellerName            0\n",
       "origIntRate           0\n",
       "origUPB               0\n",
       "origLoanTerm          0\n",
       "origDate              0\n",
       "origLTV               0\n",
       "origCLTV              0\n",
       "numBorrowers          0\n",
       "origDebtIncRatio      0\n",
       "loanPurp              0\n",
       "propState             0\n",
       "zipCode               0\n",
       "pMIperct              0\n",
       "mortInsType           0\n",
       "bestCreditScore       0\n",
       "worstCreditScore      0\n",
       "avgCreditScore        0\n",
       "loanAge               0\n",
       "mSA                   0\n",
       "zeroBalCode           0\n",
       "fmacRateMax           0\n",
       "fmacRateMin           0\n",
       "fmacRateAvg           0\n",
       "fmacRateVolatility    0\n",
       "rateDiffAbove         0\n",
       "rateDiffBelow         0\n",
       "rateDiffAvg           0\n",
       "rateDiffAbovePct      0\n",
       "rateDiffBelowPct      0\n",
       "rateDiffAvgPct        0\n",
       "dtype: int64"
      ]
     },
     "execution_count": 6,
     "metadata": {},
     "output_type": "execute_result"
    }
   ],
   "source": [
    "df.apply(lambda x: x.isnull().sum(), axis=0)"
   ]
  },
  {
   "cell_type": "markdown",
   "metadata": {},
   "source": [
    "## Engineer originDate into Date features"
   ]
  },
  {
   "cell_type": "code",
   "execution_count": 7,
   "metadata": {},
   "outputs": [],
   "source": [
    "df['origDate'] = pd.to_datetime(df['origDate'])"
   ]
  },
  {
   "cell_type": "code",
   "execution_count": 8,
   "metadata": {},
   "outputs": [],
   "source": [
    "df['origYear'] = df['origDate'].dt.year\n",
    "df['origMonth'] = df['origDate'].dt.month"
   ]
  },
  {
   "cell_type": "code",
   "execution_count": 9,
   "metadata": {},
   "outputs": [],
   "source": [
    "df.drop(['origDate'],1,inplace=True)"
   ]
  },
  {
   "cell_type": "code",
   "execution_count": 10,
   "metadata": {
    "scrolled": true
   },
   "outputs": [
    {
     "data": {
      "text/html": [
       "<div>\n",
       "<style scoped>\n",
       "    .dataframe tbody tr th:only-of-type {\n",
       "        vertical-align: middle;\n",
       "    }\n",
       "\n",
       "    .dataframe tbody tr th {\n",
       "        vertical-align: top;\n",
       "    }\n",
       "\n",
       "    .dataframe thead th {\n",
       "        text-align: right;\n",
       "    }\n",
       "</style>\n",
       "<table border=\"1\" class=\"dataframe\">\n",
       "  <thead>\n",
       "    <tr style=\"text-align: right;\">\n",
       "      <th></th>\n",
       "      <th>origYear</th>\n",
       "      <th>origMonth</th>\n",
       "    </tr>\n",
       "  </thead>\n",
       "  <tbody>\n",
       "    <tr>\n",
       "      <th>0</th>\n",
       "      <td>2004</td>\n",
       "      <td>5</td>\n",
       "    </tr>\n",
       "    <tr>\n",
       "      <th>1</th>\n",
       "      <td>2002</td>\n",
       "      <td>8</td>\n",
       "    </tr>\n",
       "    <tr>\n",
       "      <th>2</th>\n",
       "      <td>2014</td>\n",
       "      <td>8</td>\n",
       "    </tr>\n",
       "    <tr>\n",
       "      <th>3</th>\n",
       "      <td>2000</td>\n",
       "      <td>9</td>\n",
       "    </tr>\n",
       "    <tr>\n",
       "      <th>4</th>\n",
       "      <td>2003</td>\n",
       "      <td>8</td>\n",
       "    </tr>\n",
       "  </tbody>\n",
       "</table>\n",
       "</div>"
      ],
      "text/plain": [
       "   origYear  origMonth\n",
       "0      2004          5\n",
       "1      2002          8\n",
       "2      2014          8\n",
       "3      2000          9\n",
       "4      2003          8"
      ]
     },
     "execution_count": 10,
     "metadata": {},
     "output_type": "execute_result"
    }
   ],
   "source": [
    "df[['origYear','origMonth']].head()"
   ]
  },
  {
   "cell_type": "markdown",
   "metadata": {},
   "source": [
    "# Turn zero Balance Code Into binary \"0\" GOOD and \"1\" BAD"
   ]
  },
  {
   "cell_type": "code",
   "execution_count": 11,
   "metadata": {},
   "outputs": [
    {
     "data": {
      "text/plain": [
       "array([ 1.,  9., 16.,  6.,  3.,  2., 15.])"
      ]
     },
     "execution_count": 11,
     "metadata": {},
     "output_type": "execute_result"
    }
   ],
   "source": [
    "df.zeroBalCode.unique()"
   ]
  },
  {
   "cell_type": "code",
   "execution_count": 12,
   "metadata": {},
   "outputs": [],
   "source": [
    "df['zeroBalCode'] = df.zeroBalCode.replace([1,6,16],0)\n",
    "df['zeroBalCode'] = df.zeroBalCode.replace([9,3,2,15],1)"
   ]
  },
  {
   "cell_type": "code",
   "execution_count": 13,
   "metadata": {},
   "outputs": [
    {
     "data": {
      "text/plain": [
       "array([0., 1.])"
      ]
     },
     "execution_count": 13,
     "metadata": {},
     "output_type": "execute_result"
    }
   ],
   "source": [
    "df.zeroBalCode.unique()"
   ]
  },
  {
   "cell_type": "code",
   "execution_count": 14,
   "metadata": {
    "scrolled": false
   },
   "outputs": [
    {
     "data": {
      "text/html": [
       "<div>\n",
       "<style scoped>\n",
       "    .dataframe tbody tr th:only-of-type {\n",
       "        vertical-align: middle;\n",
       "    }\n",
       "\n",
       "    .dataframe tbody tr th {\n",
       "        vertical-align: top;\n",
       "    }\n",
       "\n",
       "    .dataframe thead th {\n",
       "        text-align: right;\n",
       "    }\n",
       "</style>\n",
       "<table border=\"1\" class=\"dataframe\">\n",
       "  <thead>\n",
       "    <tr style=\"text-align: right;\">\n",
       "      <th></th>\n",
       "      <th>Unnamed: 0.1</th>\n",
       "      <th>origChannel</th>\n",
       "      <th>sellerName</th>\n",
       "      <th>origIntRate</th>\n",
       "      <th>origUPB</th>\n",
       "      <th>origLoanTerm</th>\n",
       "      <th>origLTV</th>\n",
       "      <th>origCLTV</th>\n",
       "      <th>numBorrowers</th>\n",
       "      <th>origDebtIncRatio</th>\n",
       "      <th>loanPurp</th>\n",
       "      <th>propState</th>\n",
       "      <th>zipCode</th>\n",
       "      <th>pMIperct</th>\n",
       "      <th>mortInsType</th>\n",
       "      <th>bestCreditScore</th>\n",
       "      <th>worstCreditScore</th>\n",
       "      <th>avgCreditScore</th>\n",
       "      <th>loanAge</th>\n",
       "      <th>mSA</th>\n",
       "      <th>zeroBalCode</th>\n",
       "      <th>fmacRateMax</th>\n",
       "      <th>fmacRateMin</th>\n",
       "      <th>fmacRateAvg</th>\n",
       "      <th>fmacRateVolatility</th>\n",
       "      <th>rateDiffAbove</th>\n",
       "      <th>rateDiffBelow</th>\n",
       "      <th>rateDiffAvg</th>\n",
       "      <th>rateDiffAbovePct</th>\n",
       "      <th>rateDiffBelowPct</th>\n",
       "      <th>rateDiffAvgPct</th>\n",
       "      <th>origYear</th>\n",
       "      <th>origMonth</th>\n",
       "    </tr>\n",
       "  </thead>\n",
       "  <tbody>\n",
       "    <tr>\n",
       "      <th>0</th>\n",
       "      <td>1541969</td>\n",
       "      <td>C</td>\n",
       "      <td>IRWIN MORTGAGE, CORPORATION</td>\n",
       "      <td>6.250</td>\n",
       "      <td>25000</td>\n",
       "      <td>360</td>\n",
       "      <td>79.0</td>\n",
       "      <td>79.0</td>\n",
       "      <td>1.0</td>\n",
       "      <td>35.0</td>\n",
       "      <td>C</td>\n",
       "      <td>IA</td>\n",
       "      <td>508</td>\n",
       "      <td>0.0</td>\n",
       "      <td>0.0</td>\n",
       "      <td>651.0</td>\n",
       "      <td>651.0</td>\n",
       "      <td>651.0</td>\n",
       "      <td>105</td>\n",
       "      <td>0</td>\n",
       "      <td>0.0</td>\n",
       "      <td>6.34</td>\n",
       "      <td>6.12</td>\n",
       "      <td>6.270</td>\n",
       "      <td>0.035948</td>\n",
       "      <td>-0.090</td>\n",
       "      <td>-0.130</td>\n",
       "      <td>-0.020</td>\n",
       "      <td>-0.014196</td>\n",
       "      <td>-0.021242</td>\n",
       "      <td>-0.003190</td>\n",
       "      <td>2004</td>\n",
       "      <td>5</td>\n",
       "    </tr>\n",
       "    <tr>\n",
       "      <th>1</th>\n",
       "      <td>632878</td>\n",
       "      <td>R</td>\n",
       "      <td>SUNTRUST MORTGAGE INC.</td>\n",
       "      <td>6.500</td>\n",
       "      <td>150000</td>\n",
       "      <td>360</td>\n",
       "      <td>67.0</td>\n",
       "      <td>67.0</td>\n",
       "      <td>2.0</td>\n",
       "      <td>52.0</td>\n",
       "      <td>C</td>\n",
       "      <td>FL</td>\n",
       "      <td>339</td>\n",
       "      <td>0.0</td>\n",
       "      <td>0.0</td>\n",
       "      <td>700.0</td>\n",
       "      <td>671.0</td>\n",
       "      <td>685.5</td>\n",
       "      <td>49</td>\n",
       "      <td>39460</td>\n",
       "      <td>0.0</td>\n",
       "      <td>6.43</td>\n",
       "      <td>6.22</td>\n",
       "      <td>6.290</td>\n",
       "      <td>0.033762</td>\n",
       "      <td>0.070</td>\n",
       "      <td>-0.280</td>\n",
       "      <td>0.210</td>\n",
       "      <td>0.010886</td>\n",
       "      <td>-0.045016</td>\n",
       "      <td>0.033386</td>\n",
       "      <td>2002</td>\n",
       "      <td>8</td>\n",
       "    </tr>\n",
       "    <tr>\n",
       "      <th>2</th>\n",
       "      <td>2594139</td>\n",
       "      <td>R</td>\n",
       "      <td>QUICKEN LOANS INC.</td>\n",
       "      <td>3.990</td>\n",
       "      <td>75000</td>\n",
       "      <td>180</td>\n",
       "      <td>65.0</td>\n",
       "      <td>65.0</td>\n",
       "      <td>2.0</td>\n",
       "      <td>12.0</td>\n",
       "      <td>C</td>\n",
       "      <td>MI</td>\n",
       "      <td>483</td>\n",
       "      <td>0.0</td>\n",
       "      <td>0.0</td>\n",
       "      <td>658.0</td>\n",
       "      <td>629.0</td>\n",
       "      <td>643.5</td>\n",
       "      <td>25</td>\n",
       "      <td>19820</td>\n",
       "      <td>0.0</td>\n",
       "      <td>4.14</td>\n",
       "      <td>4.10</td>\n",
       "      <td>4.115</td>\n",
       "      <td>0.009756</td>\n",
       "      <td>-0.150</td>\n",
       "      <td>0.110</td>\n",
       "      <td>-0.125</td>\n",
       "      <td>-0.036232</td>\n",
       "      <td>0.026829</td>\n",
       "      <td>-0.030377</td>\n",
       "      <td>2014</td>\n",
       "      <td>8</td>\n",
       "    </tr>\n",
       "    <tr>\n",
       "      <th>3</th>\n",
       "      <td>74236</td>\n",
       "      <td>R</td>\n",
       "      <td>BISHOPS GATE RESIDENTIAL MORTGAGE TRUST</td>\n",
       "      <td>8.125</td>\n",
       "      <td>124000</td>\n",
       "      <td>360</td>\n",
       "      <td>80.0</td>\n",
       "      <td>80.0</td>\n",
       "      <td>2.0</td>\n",
       "      <td>42.0</td>\n",
       "      <td>P</td>\n",
       "      <td>WI</td>\n",
       "      <td>530</td>\n",
       "      <td>0.0</td>\n",
       "      <td>0.0</td>\n",
       "      <td>671.0</td>\n",
       "      <td>658.0</td>\n",
       "      <td>664.5</td>\n",
       "      <td>15</td>\n",
       "      <td>33340</td>\n",
       "      <td>0.0</td>\n",
       "      <td>7.96</td>\n",
       "      <td>7.88</td>\n",
       "      <td>7.912</td>\n",
       "      <td>0.010152</td>\n",
       "      <td>0.165</td>\n",
       "      <td>-0.245</td>\n",
       "      <td>0.213</td>\n",
       "      <td>0.020729</td>\n",
       "      <td>-0.031091</td>\n",
       "      <td>0.026921</td>\n",
       "      <td>2000</td>\n",
       "      <td>9</td>\n",
       "    </tr>\n",
       "    <tr>\n",
       "      <th>4</th>\n",
       "      <td>1192968</td>\n",
       "      <td>C</td>\n",
       "      <td>OTHER</td>\n",
       "      <td>4.875</td>\n",
       "      <td>38000</td>\n",
       "      <td>120</td>\n",
       "      <td>40.0</td>\n",
       "      <td>40.0</td>\n",
       "      <td>2.0</td>\n",
       "      <td>19.0</td>\n",
       "      <td>R</td>\n",
       "      <td>MN</td>\n",
       "      <td>559</td>\n",
       "      <td>0.0</td>\n",
       "      <td>0.0</td>\n",
       "      <td>727.0</td>\n",
       "      <td>727.0</td>\n",
       "      <td>727.0</td>\n",
       "      <td>66</td>\n",
       "      <td>0</td>\n",
       "      <td>0.0</td>\n",
       "      <td>6.34</td>\n",
       "      <td>6.14</td>\n",
       "      <td>6.264</td>\n",
       "      <td>0.032573</td>\n",
       "      <td>-1.465</td>\n",
       "      <td>1.265</td>\n",
       "      <td>-1.389</td>\n",
       "      <td>-0.231073</td>\n",
       "      <td>0.206026</td>\n",
       "      <td>-0.221743</td>\n",
       "      <td>2003</td>\n",
       "      <td>8</td>\n",
       "    </tr>\n",
       "  </tbody>\n",
       "</table>\n",
       "</div>"
      ],
      "text/plain": [
       "   Unnamed: 0.1 origChannel                               sellerName  \\\n",
       "0       1541969           C              IRWIN MORTGAGE, CORPORATION   \n",
       "1        632878           R                   SUNTRUST MORTGAGE INC.   \n",
       "2       2594139           R                       QUICKEN LOANS INC.   \n",
       "3         74236           R  BISHOPS GATE RESIDENTIAL MORTGAGE TRUST   \n",
       "4       1192968           C                                    OTHER   \n",
       "\n",
       "   origIntRate  origUPB  origLoanTerm  origLTV  origCLTV  numBorrowers  \\\n",
       "0        6.250    25000           360     79.0      79.0           1.0   \n",
       "1        6.500   150000           360     67.0      67.0           2.0   \n",
       "2        3.990    75000           180     65.0      65.0           2.0   \n",
       "3        8.125   124000           360     80.0      80.0           2.0   \n",
       "4        4.875    38000           120     40.0      40.0           2.0   \n",
       "\n",
       "   origDebtIncRatio loanPurp propState  zipCode  pMIperct  mortInsType  \\\n",
       "0              35.0        C        IA      508       0.0          0.0   \n",
       "1              52.0        C        FL      339       0.0          0.0   \n",
       "2              12.0        C        MI      483       0.0          0.0   \n",
       "3              42.0        P        WI      530       0.0          0.0   \n",
       "4              19.0        R        MN      559       0.0          0.0   \n",
       "\n",
       "   bestCreditScore  worstCreditScore  avgCreditScore  loanAge    mSA  \\\n",
       "0            651.0             651.0           651.0      105      0   \n",
       "1            700.0             671.0           685.5       49  39460   \n",
       "2            658.0             629.0           643.5       25  19820   \n",
       "3            671.0             658.0           664.5       15  33340   \n",
       "4            727.0             727.0           727.0       66      0   \n",
       "\n",
       "   zeroBalCode  fmacRateMax  fmacRateMin  fmacRateAvg  fmacRateVolatility  \\\n",
       "0          0.0         6.34         6.12        6.270            0.035948   \n",
       "1          0.0         6.43         6.22        6.290            0.033762   \n",
       "2          0.0         4.14         4.10        4.115            0.009756   \n",
       "3          0.0         7.96         7.88        7.912            0.010152   \n",
       "4          0.0         6.34         6.14        6.264            0.032573   \n",
       "\n",
       "   rateDiffAbove  rateDiffBelow  rateDiffAvg  rateDiffAbovePct  \\\n",
       "0         -0.090         -0.130       -0.020         -0.014196   \n",
       "1          0.070         -0.280        0.210          0.010886   \n",
       "2         -0.150          0.110       -0.125         -0.036232   \n",
       "3          0.165         -0.245        0.213          0.020729   \n",
       "4         -1.465          1.265       -1.389         -0.231073   \n",
       "\n",
       "   rateDiffBelowPct  rateDiffAvgPct  origYear  origMonth  \n",
       "0         -0.021242       -0.003190      2004          5  \n",
       "1         -0.045016        0.033386      2002          8  \n",
       "2          0.026829       -0.030377      2014          8  \n",
       "3         -0.031091        0.026921      2000          9  \n",
       "4          0.206026       -0.221743      2003          8  "
      ]
     },
     "execution_count": 14,
     "metadata": {},
     "output_type": "execute_result"
    }
   ],
   "source": [
    "#Checking datatypes of individual feature\n",
    "df.head()"
   ]
  },
  {
   "cell_type": "markdown",
   "metadata": {},
   "source": [
    "# Review values for dates and slice (if needed) the timeframe you want"
   ]
  },
  {
   "cell_type": "code",
   "execution_count": 15,
   "metadata": {},
   "outputs": [
    {
     "data": {
      "text/plain": [
       "array([2004, 2002, 2014, 2000, 2003, 2005, 2012, 2007, 2006, 2008, 2009,\n",
       "       2001, 2013, 2011, 2016, 2010, 2015, 2018, 2017, 1999, 2019],\n",
       "      dtype=int64)"
      ]
     },
     "execution_count": 15,
     "metadata": {},
     "output_type": "execute_result"
    }
   ],
   "source": [
    "df.origYear.unique()"
   ]
  },
  {
   "cell_type": "code",
   "execution_count": 16,
   "metadata": {},
   "outputs": [
    {
     "data": {
      "text/plain": [
       "array([ 5,  8,  9,  4, 10,  2,  6,  1, 12,  3,  7, 11], dtype=int64)"
      ]
     },
     "execution_count": 16,
     "metadata": {},
     "output_type": "execute_result"
    }
   ],
   "source": [
    "df['origMonth'].unique()"
   ]
  },
  {
   "cell_type": "code",
   "execution_count": 17,
   "metadata": {},
   "outputs": [
    {
     "data": {
      "text/html": [
       "<div>\n",
       "<style scoped>\n",
       "    .dataframe tbody tr th:only-of-type {\n",
       "        vertical-align: middle;\n",
       "    }\n",
       "\n",
       "    .dataframe tbody tr th {\n",
       "        vertical-align: top;\n",
       "    }\n",
       "\n",
       "    .dataframe thead th {\n",
       "        text-align: right;\n",
       "    }\n",
       "</style>\n",
       "<table border=\"1\" class=\"dataframe\">\n",
       "  <thead>\n",
       "    <tr style=\"text-align: right;\">\n",
       "      <th></th>\n",
       "      <th>Unnamed: 0.1</th>\n",
       "      <th>origChannel</th>\n",
       "      <th>sellerName</th>\n",
       "      <th>origIntRate</th>\n",
       "      <th>origUPB</th>\n",
       "      <th>origLoanTerm</th>\n",
       "      <th>origLTV</th>\n",
       "      <th>origCLTV</th>\n",
       "      <th>numBorrowers</th>\n",
       "      <th>origDebtIncRatio</th>\n",
       "      <th>loanPurp</th>\n",
       "      <th>propState</th>\n",
       "      <th>zipCode</th>\n",
       "      <th>pMIperct</th>\n",
       "      <th>mortInsType</th>\n",
       "      <th>bestCreditScore</th>\n",
       "      <th>worstCreditScore</th>\n",
       "      <th>avgCreditScore</th>\n",
       "      <th>loanAge</th>\n",
       "      <th>mSA</th>\n",
       "      <th>zeroBalCode</th>\n",
       "      <th>fmacRateMax</th>\n",
       "      <th>fmacRateMin</th>\n",
       "      <th>fmacRateAvg</th>\n",
       "      <th>fmacRateVolatility</th>\n",
       "      <th>rateDiffAbove</th>\n",
       "      <th>rateDiffBelow</th>\n",
       "      <th>rateDiffAvg</th>\n",
       "      <th>rateDiffAbovePct</th>\n",
       "      <th>rateDiffBelowPct</th>\n",
       "      <th>rateDiffAvgPct</th>\n",
       "      <th>origYear</th>\n",
       "      <th>origMonth</th>\n",
       "    </tr>\n",
       "  </thead>\n",
       "  <tbody>\n",
       "    <tr>\n",
       "      <th>0</th>\n",
       "      <td>1541969</td>\n",
       "      <td>C</td>\n",
       "      <td>IRWIN MORTGAGE, CORPORATION</td>\n",
       "      <td>6.250</td>\n",
       "      <td>25000</td>\n",
       "      <td>360</td>\n",
       "      <td>79.0</td>\n",
       "      <td>79.0</td>\n",
       "      <td>1.0</td>\n",
       "      <td>35.0</td>\n",
       "      <td>C</td>\n",
       "      <td>IA</td>\n",
       "      <td>508</td>\n",
       "      <td>0.0</td>\n",
       "      <td>0.0</td>\n",
       "      <td>651.0</td>\n",
       "      <td>651.0</td>\n",
       "      <td>651.0</td>\n",
       "      <td>105</td>\n",
       "      <td>0</td>\n",
       "      <td>0.0</td>\n",
       "      <td>6.34</td>\n",
       "      <td>6.12</td>\n",
       "      <td>6.270</td>\n",
       "      <td>0.035948</td>\n",
       "      <td>-0.090</td>\n",
       "      <td>-0.130</td>\n",
       "      <td>-0.020</td>\n",
       "      <td>-0.014196</td>\n",
       "      <td>-0.021242</td>\n",
       "      <td>-0.003190</td>\n",
       "      <td>2004</td>\n",
       "      <td>5</td>\n",
       "    </tr>\n",
       "    <tr>\n",
       "      <th>1</th>\n",
       "      <td>632878</td>\n",
       "      <td>R</td>\n",
       "      <td>SUNTRUST MORTGAGE INC.</td>\n",
       "      <td>6.500</td>\n",
       "      <td>150000</td>\n",
       "      <td>360</td>\n",
       "      <td>67.0</td>\n",
       "      <td>67.0</td>\n",
       "      <td>2.0</td>\n",
       "      <td>52.0</td>\n",
       "      <td>C</td>\n",
       "      <td>FL</td>\n",
       "      <td>339</td>\n",
       "      <td>0.0</td>\n",
       "      <td>0.0</td>\n",
       "      <td>700.0</td>\n",
       "      <td>671.0</td>\n",
       "      <td>685.5</td>\n",
       "      <td>49</td>\n",
       "      <td>39460</td>\n",
       "      <td>0.0</td>\n",
       "      <td>6.43</td>\n",
       "      <td>6.22</td>\n",
       "      <td>6.290</td>\n",
       "      <td>0.033762</td>\n",
       "      <td>0.070</td>\n",
       "      <td>-0.280</td>\n",
       "      <td>0.210</td>\n",
       "      <td>0.010886</td>\n",
       "      <td>-0.045016</td>\n",
       "      <td>0.033386</td>\n",
       "      <td>2002</td>\n",
       "      <td>8</td>\n",
       "    </tr>\n",
       "    <tr>\n",
       "      <th>2</th>\n",
       "      <td>2594139</td>\n",
       "      <td>R</td>\n",
       "      <td>QUICKEN LOANS INC.</td>\n",
       "      <td>3.990</td>\n",
       "      <td>75000</td>\n",
       "      <td>180</td>\n",
       "      <td>65.0</td>\n",
       "      <td>65.0</td>\n",
       "      <td>2.0</td>\n",
       "      <td>12.0</td>\n",
       "      <td>C</td>\n",
       "      <td>MI</td>\n",
       "      <td>483</td>\n",
       "      <td>0.0</td>\n",
       "      <td>0.0</td>\n",
       "      <td>658.0</td>\n",
       "      <td>629.0</td>\n",
       "      <td>643.5</td>\n",
       "      <td>25</td>\n",
       "      <td>19820</td>\n",
       "      <td>0.0</td>\n",
       "      <td>4.14</td>\n",
       "      <td>4.10</td>\n",
       "      <td>4.115</td>\n",
       "      <td>0.009756</td>\n",
       "      <td>-0.150</td>\n",
       "      <td>0.110</td>\n",
       "      <td>-0.125</td>\n",
       "      <td>-0.036232</td>\n",
       "      <td>0.026829</td>\n",
       "      <td>-0.030377</td>\n",
       "      <td>2014</td>\n",
       "      <td>8</td>\n",
       "    </tr>\n",
       "    <tr>\n",
       "      <th>3</th>\n",
       "      <td>74236</td>\n",
       "      <td>R</td>\n",
       "      <td>BISHOPS GATE RESIDENTIAL MORTGAGE TRUST</td>\n",
       "      <td>8.125</td>\n",
       "      <td>124000</td>\n",
       "      <td>360</td>\n",
       "      <td>80.0</td>\n",
       "      <td>80.0</td>\n",
       "      <td>2.0</td>\n",
       "      <td>42.0</td>\n",
       "      <td>P</td>\n",
       "      <td>WI</td>\n",
       "      <td>530</td>\n",
       "      <td>0.0</td>\n",
       "      <td>0.0</td>\n",
       "      <td>671.0</td>\n",
       "      <td>658.0</td>\n",
       "      <td>664.5</td>\n",
       "      <td>15</td>\n",
       "      <td>33340</td>\n",
       "      <td>0.0</td>\n",
       "      <td>7.96</td>\n",
       "      <td>7.88</td>\n",
       "      <td>7.912</td>\n",
       "      <td>0.010152</td>\n",
       "      <td>0.165</td>\n",
       "      <td>-0.245</td>\n",
       "      <td>0.213</td>\n",
       "      <td>0.020729</td>\n",
       "      <td>-0.031091</td>\n",
       "      <td>0.026921</td>\n",
       "      <td>2000</td>\n",
       "      <td>9</td>\n",
       "    </tr>\n",
       "    <tr>\n",
       "      <th>4</th>\n",
       "      <td>1192968</td>\n",
       "      <td>C</td>\n",
       "      <td>OTHER</td>\n",
       "      <td>4.875</td>\n",
       "      <td>38000</td>\n",
       "      <td>120</td>\n",
       "      <td>40.0</td>\n",
       "      <td>40.0</td>\n",
       "      <td>2.0</td>\n",
       "      <td>19.0</td>\n",
       "      <td>R</td>\n",
       "      <td>MN</td>\n",
       "      <td>559</td>\n",
       "      <td>0.0</td>\n",
       "      <td>0.0</td>\n",
       "      <td>727.0</td>\n",
       "      <td>727.0</td>\n",
       "      <td>727.0</td>\n",
       "      <td>66</td>\n",
       "      <td>0</td>\n",
       "      <td>0.0</td>\n",
       "      <td>6.34</td>\n",
       "      <td>6.14</td>\n",
       "      <td>6.264</td>\n",
       "      <td>0.032573</td>\n",
       "      <td>-1.465</td>\n",
       "      <td>1.265</td>\n",
       "      <td>-1.389</td>\n",
       "      <td>-0.231073</td>\n",
       "      <td>0.206026</td>\n",
       "      <td>-0.221743</td>\n",
       "      <td>2003</td>\n",
       "      <td>8</td>\n",
       "    </tr>\n",
       "  </tbody>\n",
       "</table>\n",
       "</div>"
      ],
      "text/plain": [
       "   Unnamed: 0.1 origChannel                               sellerName  \\\n",
       "0       1541969           C              IRWIN MORTGAGE, CORPORATION   \n",
       "1        632878           R                   SUNTRUST MORTGAGE INC.   \n",
       "2       2594139           R                       QUICKEN LOANS INC.   \n",
       "3         74236           R  BISHOPS GATE RESIDENTIAL MORTGAGE TRUST   \n",
       "4       1192968           C                                    OTHER   \n",
       "\n",
       "   origIntRate  origUPB  origLoanTerm  origLTV  origCLTV  numBorrowers  \\\n",
       "0        6.250    25000           360     79.0      79.0           1.0   \n",
       "1        6.500   150000           360     67.0      67.0           2.0   \n",
       "2        3.990    75000           180     65.0      65.0           2.0   \n",
       "3        8.125   124000           360     80.0      80.0           2.0   \n",
       "4        4.875    38000           120     40.0      40.0           2.0   \n",
       "\n",
       "   origDebtIncRatio loanPurp propState  zipCode  pMIperct  mortInsType  \\\n",
       "0              35.0        C        IA      508       0.0          0.0   \n",
       "1              52.0        C        FL      339       0.0          0.0   \n",
       "2              12.0        C        MI      483       0.0          0.0   \n",
       "3              42.0        P        WI      530       0.0          0.0   \n",
       "4              19.0        R        MN      559       0.0          0.0   \n",
       "\n",
       "   bestCreditScore  worstCreditScore  avgCreditScore  loanAge    mSA  \\\n",
       "0            651.0             651.0           651.0      105      0   \n",
       "1            700.0             671.0           685.5       49  39460   \n",
       "2            658.0             629.0           643.5       25  19820   \n",
       "3            671.0             658.0           664.5       15  33340   \n",
       "4            727.0             727.0           727.0       66      0   \n",
       "\n",
       "   zeroBalCode  fmacRateMax  fmacRateMin  fmacRateAvg  fmacRateVolatility  \\\n",
       "0          0.0         6.34         6.12        6.270            0.035948   \n",
       "1          0.0         6.43         6.22        6.290            0.033762   \n",
       "2          0.0         4.14         4.10        4.115            0.009756   \n",
       "3          0.0         7.96         7.88        7.912            0.010152   \n",
       "4          0.0         6.34         6.14        6.264            0.032573   \n",
       "\n",
       "   rateDiffAbove  rateDiffBelow  rateDiffAvg  rateDiffAbovePct  \\\n",
       "0         -0.090         -0.130       -0.020         -0.014196   \n",
       "1          0.070         -0.280        0.210          0.010886   \n",
       "2         -0.150          0.110       -0.125         -0.036232   \n",
       "3          0.165         -0.245        0.213          0.020729   \n",
       "4         -1.465          1.265       -1.389         -0.231073   \n",
       "\n",
       "   rateDiffBelowPct  rateDiffAvgPct  origYear  origMonth  \n",
       "0         -0.021242       -0.003190      2004          5  \n",
       "1         -0.045016        0.033386      2002          8  \n",
       "2          0.026829       -0.030377      2014          8  \n",
       "3         -0.031091        0.026921      2000          9  \n",
       "4          0.206026       -0.221743      2003          8  "
      ]
     },
     "execution_count": 17,
     "metadata": {},
     "output_type": "execute_result"
    }
   ],
   "source": [
    "df.head()"
   ]
  },
  {
   "cell_type": "code",
   "execution_count": 18,
   "metadata": {},
   "outputs": [],
   "source": [
    "#df = fillna(df)"
   ]
  },
  {
   "cell_type": "markdown",
   "metadata": {},
   "source": [
    "# Coerce the column dtype (int in this case)"
   ]
  },
  {
   "cell_type": "code",
   "execution_count": 19,
   "metadata": {},
   "outputs": [],
   "source": [
    "df = df.astype({'origLTV':'int','origCLTV':'int','numBorrowers':'int','origDebtIncRatio':'int',\\\n",
    "               'mortInsType':'int','bestCreditScore':'int','loanAge':'int',\\\n",
    "               'worstCreditScore':'int','avgCreditScore':'int','zeroBalCode':'int'})\n",
    "#,'zeroBalCode':'int'"
   ]
  },
  {
   "cell_type": "code",
   "execution_count": 20,
   "metadata": {},
   "outputs": [
    {
     "name": "stdout",
     "output_type": "stream",
     "text": [
      "<class 'pandas.core.frame.DataFrame'>\n",
      "RangeIndex: 266326 entries, 0 to 266325\n",
      "Data columns (total 33 columns):\n",
      " #   Column              Non-Null Count   Dtype  \n",
      "---  ------              --------------   -----  \n",
      " 0   Unnamed: 0.1        266326 non-null  int64  \n",
      " 1   origChannel         266326 non-null  object \n",
      " 2   sellerName          266326 non-null  object \n",
      " 3   origIntRate         266326 non-null  float64\n",
      " 4   origUPB             266326 non-null  int64  \n",
      " 5   origLoanTerm        266326 non-null  int64  \n",
      " 6   origLTV             266326 non-null  int32  \n",
      " 7   origCLTV            266326 non-null  int32  \n",
      " 8   numBorrowers        266326 non-null  int32  \n",
      " 9   origDebtIncRatio    266326 non-null  int32  \n",
      " 10  loanPurp            266326 non-null  object \n",
      " 11  propState           266326 non-null  object \n",
      " 12  zipCode             266326 non-null  int64  \n",
      " 13  pMIperct            266326 non-null  float64\n",
      " 14  mortInsType         266326 non-null  int32  \n",
      " 15  bestCreditScore     266326 non-null  int32  \n",
      " 16  worstCreditScore    266326 non-null  int32  \n",
      " 17  avgCreditScore      266326 non-null  int32  \n",
      " 18  loanAge             266326 non-null  int32  \n",
      " 19  mSA                 266326 non-null  int64  \n",
      " 20  zeroBalCode         266326 non-null  int32  \n",
      " 21  fmacRateMax         266326 non-null  float64\n",
      " 22  fmacRateMin         266326 non-null  float64\n",
      " 23  fmacRateAvg         266326 non-null  float64\n",
      " 24  fmacRateVolatility  266326 non-null  float64\n",
      " 25  rateDiffAbove       266326 non-null  float64\n",
      " 26  rateDiffBelow       266326 non-null  float64\n",
      " 27  rateDiffAvg         266326 non-null  float64\n",
      " 28  rateDiffAbovePct    266326 non-null  float64\n",
      " 29  rateDiffBelowPct    266326 non-null  float64\n",
      " 30  rateDiffAvgPct      266326 non-null  float64\n",
      " 31  origYear            266326 non-null  int64  \n",
      " 32  origMonth           266326 non-null  int64  \n",
      "dtypes: float64(12), int32(10), int64(7), object(4)\n",
      "memory usage: 56.9+ MB\n"
     ]
    }
   ],
   "source": [
    "df.info()"
   ]
  },
  {
   "cell_type": "markdown",
   "metadata": {},
   "source": [
    "<a id='MLReady'></a>"
   ]
  },
  {
   "cell_type": "markdown",
   "metadata": {},
   "source": [
    "# Oversampling (Since we are starting with only 14.52% of our predicted class)"
   ]
  },
  {
   "cell_type": "code",
   "execution_count": 21,
   "metadata": {},
   "outputs": [
    {
     "name": "stdout",
     "output_type": "stream",
     "text": [
      "We have 14.53% Foreclosures in our dataset\n"
     ]
    }
   ],
   "source": [
    "good = df.zeroBalCode.value_counts()[0]\n",
    "bad = df.zeroBalCode.value_counts()[1]\n",
    "perct_bad = round(bad/(good + bad)*100,2)\n",
    "print(f'We have {perct_bad}% Foreclosures in our dataset')"
   ]
  },
  {
   "cell_type": "code",
   "execution_count": 22,
   "metadata": {},
   "outputs": [],
   "source": [
    "from sklearn.model_selection import train_test_split\n",
    "\n",
    "training_features, test_features, \\\n",
    "training_target, test_target, = train_test_split(\n",
    "    df.drop(['zeroBalCode'], axis=1)\n",
    "    , df['zeroBalCode']\n",
    "    , test_size = .1\n",
    "    , random_state=12\n",
    ")"
   ]
  },
  {
   "cell_type": "code",
   "execution_count": 23,
   "metadata": {},
   "outputs": [],
   "source": [
    "# Further split the training data into training/test\n",
    "x_train, x_val, y_train, y_val = train_test_split(\n",
    "    training_features\n",
    "    , training_target\n",
    "    , test_size = .1\n",
    "    ,random_state=12\n",
    ")"
   ]
  },
  {
   "cell_type": "code",
   "execution_count": 24,
   "metadata": {},
   "outputs": [],
   "source": [
    "# For the training data, randomly sample \n",
    "# ros = RandomOverSampler(sampling_strategy='minority')\n",
    "# x_train_res, y_train_res = ros.fit_sample(x_train, y_train)"
   ]
  },
  {
   "cell_type": "code",
   "execution_count": 25,
   "metadata": {},
   "outputs": [
    {
     "name": "stdout",
     "output_type": "stream",
     "text": [
      "#############################################\n",
      "Before oversampling: \"Closed\" crushes \"Default\" and causes issues:\n",
      "0    204921\n",
      "1     34772\n",
      "Name: zeroBalCode, dtype: int64\n"
     ]
    }
   ],
   "source": [
    "print('#############################################')\n",
    "print('Before oversampling: \"Closed\" crushes \"Default\" and causes issues:')\n",
    "print(training_target.value_counts())\n",
    "# print('')\n",
    "# print('Before oversampling: \"Closed\" and \"Default\" are equal')\n",
    "# print(y_train_res.value_counts())"
   ]
  },
  {
   "cell_type": "markdown",
   "metadata": {},
   "source": [
    "# Recombine X_train_res, y_train_res so PyCaret can deal with one df"
   ]
  },
  {
   "cell_type": "code",
   "execution_count": 26,
   "metadata": {},
   "outputs": [
    {
     "data": {
      "text/plain": [
       "(215723,)"
      ]
     },
     "execution_count": 26,
     "metadata": {},
     "output_type": "execute_result"
    }
   ],
   "source": [
    "y_train.shape"
   ]
  },
  {
   "cell_type": "code",
   "execution_count": 27,
   "metadata": {},
   "outputs": [],
   "source": [
    "df = x_train.copy()"
   ]
  },
  {
   "cell_type": "code",
   "execution_count": 28,
   "metadata": {},
   "outputs": [],
   "source": [
    "df['zeroBalCode'] = y_train"
   ]
  },
  {
   "cell_type": "code",
   "execution_count": 29,
   "metadata": {},
   "outputs": [
    {
     "data": {
      "text/plain": [
       "(215723, 33)"
      ]
     },
     "execution_count": 29,
     "metadata": {},
     "output_type": "execute_result"
    }
   ],
   "source": [
    "df.shape"
   ]
  },
  {
   "cell_type": "markdown",
   "metadata": {},
   "source": [
    "# Review metrics last time before run (to have record of starting values)"
   ]
  },
  {
   "cell_type": "code",
   "execution_count": 30,
   "metadata": {},
   "outputs": [
    {
     "name": "stdout",
     "output_type": "stream",
     "text": [
      "<class 'pandas.core.frame.DataFrame'>\n",
      "Int64Index: 215723 entries, 17506 to 114576\n",
      "Data columns (total 33 columns):\n",
      " #   Column              Non-Null Count   Dtype  \n",
      "---  ------              --------------   -----  \n",
      " 0   Unnamed: 0.1        215723 non-null  int64  \n",
      " 1   origChannel         215723 non-null  object \n",
      " 2   sellerName          215723 non-null  object \n",
      " 3   origIntRate         215723 non-null  float64\n",
      " 4   origUPB             215723 non-null  int64  \n",
      " 5   origLoanTerm        215723 non-null  int64  \n",
      " 6   origLTV             215723 non-null  int32  \n",
      " 7   origCLTV            215723 non-null  int32  \n",
      " 8   numBorrowers        215723 non-null  int32  \n",
      " 9   origDebtIncRatio    215723 non-null  int32  \n",
      " 10  loanPurp            215723 non-null  object \n",
      " 11  propState           215723 non-null  object \n",
      " 12  zipCode             215723 non-null  int64  \n",
      " 13  pMIperct            215723 non-null  float64\n",
      " 14  mortInsType         215723 non-null  int32  \n",
      " 15  bestCreditScore     215723 non-null  int32  \n",
      " 16  worstCreditScore    215723 non-null  int32  \n",
      " 17  avgCreditScore      215723 non-null  int32  \n",
      " 18  loanAge             215723 non-null  int32  \n",
      " 19  mSA                 215723 non-null  int64  \n",
      " 20  fmacRateMax         215723 non-null  float64\n",
      " 21  fmacRateMin         215723 non-null  float64\n",
      " 22  fmacRateAvg         215723 non-null  float64\n",
      " 23  fmacRateVolatility  215723 non-null  float64\n",
      " 24  rateDiffAbove       215723 non-null  float64\n",
      " 25  rateDiffBelow       215723 non-null  float64\n",
      " 26  rateDiffAvg         215723 non-null  float64\n",
      " 27  rateDiffAbovePct    215723 non-null  float64\n",
      " 28  rateDiffBelowPct    215723 non-null  float64\n",
      " 29  rateDiffAvgPct      215723 non-null  float64\n",
      " 30  origYear            215723 non-null  int64  \n",
      " 31  origMonth           215723 non-null  int64  \n",
      " 32  zeroBalCode         215723 non-null  int32  \n",
      "dtypes: float64(12), int32(10), int64(7), object(4)\n",
      "memory usage: 47.7+ MB\n"
     ]
    }
   ],
   "source": [
    "df.info()"
   ]
  },
  {
   "cell_type": "code",
   "execution_count": 31,
   "metadata": {},
   "outputs": [
    {
     "data": {
      "text/html": [
       "<div>\n",
       "<style scoped>\n",
       "    .dataframe tbody tr th:only-of-type {\n",
       "        vertical-align: middle;\n",
       "    }\n",
       "\n",
       "    .dataframe tbody tr th {\n",
       "        vertical-align: top;\n",
       "    }\n",
       "\n",
       "    .dataframe thead th {\n",
       "        text-align: right;\n",
       "    }\n",
       "</style>\n",
       "<table border=\"1\" class=\"dataframe\">\n",
       "  <thead>\n",
       "    <tr style=\"text-align: right;\">\n",
       "      <th></th>\n",
       "      <th>Unnamed: 0.1</th>\n",
       "      <th>origChannel</th>\n",
       "      <th>sellerName</th>\n",
       "      <th>origIntRate</th>\n",
       "      <th>origUPB</th>\n",
       "      <th>origLoanTerm</th>\n",
       "      <th>origLTV</th>\n",
       "      <th>origCLTV</th>\n",
       "      <th>numBorrowers</th>\n",
       "      <th>origDebtIncRatio</th>\n",
       "      <th>loanPurp</th>\n",
       "      <th>propState</th>\n",
       "      <th>zipCode</th>\n",
       "      <th>pMIperct</th>\n",
       "      <th>mortInsType</th>\n",
       "      <th>bestCreditScore</th>\n",
       "      <th>worstCreditScore</th>\n",
       "      <th>avgCreditScore</th>\n",
       "      <th>loanAge</th>\n",
       "      <th>mSA</th>\n",
       "      <th>fmacRateMax</th>\n",
       "      <th>fmacRateMin</th>\n",
       "      <th>fmacRateAvg</th>\n",
       "      <th>fmacRateVolatility</th>\n",
       "      <th>rateDiffAbove</th>\n",
       "      <th>rateDiffBelow</th>\n",
       "      <th>rateDiffAvg</th>\n",
       "      <th>rateDiffAbovePct</th>\n",
       "      <th>rateDiffBelowPct</th>\n",
       "      <th>rateDiffAvgPct</th>\n",
       "      <th>origYear</th>\n",
       "      <th>origMonth</th>\n",
       "      <th>zeroBalCode</th>\n",
       "    </tr>\n",
       "  </thead>\n",
       "  <tbody>\n",
       "    <tr>\n",
       "      <th>17506</th>\n",
       "      <td>2569897</td>\n",
       "      <td>R</td>\n",
       "      <td>OTHER</td>\n",
       "      <td>4.500</td>\n",
       "      <td>178000</td>\n",
       "      <td>360</td>\n",
       "      <td>97</td>\n",
       "      <td>97</td>\n",
       "      <td>2</td>\n",
       "      <td>34</td>\n",
       "      <td>P</td>\n",
       "      <td>OR</td>\n",
       "      <td>970</td>\n",
       "      <td>35.0</td>\n",
       "      <td>1</td>\n",
       "      <td>741</td>\n",
       "      <td>729</td>\n",
       "      <td>735</td>\n",
       "      <td>44</td>\n",
       "      <td>41420</td>\n",
       "      <td>4.28</td>\n",
       "      <td>4.10</td>\n",
       "      <td>4.1920</td>\n",
       "      <td>0.043902</td>\n",
       "      <td>0.220</td>\n",
       "      <td>-0.400</td>\n",
       "      <td>0.3080</td>\n",
       "      <td>0.051402</td>\n",
       "      <td>-0.097561</td>\n",
       "      <td>0.073473</td>\n",
       "      <td>2013</td>\n",
       "      <td>10</td>\n",
       "      <td>0</td>\n",
       "    </tr>\n",
       "    <tr>\n",
       "      <th>24119</th>\n",
       "      <td>1271261</td>\n",
       "      <td>C</td>\n",
       "      <td>JPMORGAN CHASE BANK, NA</td>\n",
       "      <td>5.875</td>\n",
       "      <td>76000</td>\n",
       "      <td>180</td>\n",
       "      <td>30</td>\n",
       "      <td>30</td>\n",
       "      <td>1</td>\n",
       "      <td>31</td>\n",
       "      <td>R</td>\n",
       "      <td>DC</td>\n",
       "      <td>200</td>\n",
       "      <td>0.0</td>\n",
       "      <td>0</td>\n",
       "      <td>777</td>\n",
       "      <td>777</td>\n",
       "      <td>777</td>\n",
       "      <td>179</td>\n",
       "      <td>47900</td>\n",
       "      <td>5.94</td>\n",
       "      <td>5.40</td>\n",
       "      <td>5.6325</td>\n",
       "      <td>0.100000</td>\n",
       "      <td>-0.065</td>\n",
       "      <td>-0.475</td>\n",
       "      <td>0.2425</td>\n",
       "      <td>-0.010943</td>\n",
       "      <td>-0.087963</td>\n",
       "      <td>0.043054</td>\n",
       "      <td>2003</td>\n",
       "      <td>7</td>\n",
       "      <td>0</td>\n",
       "    </tr>\n",
       "    <tr>\n",
       "      <th>170279</th>\n",
       "      <td>1036923</td>\n",
       "      <td>B</td>\n",
       "      <td>JPMORGAN CHASE BANK, NA</td>\n",
       "      <td>6.500</td>\n",
       "      <td>89000</td>\n",
       "      <td>360</td>\n",
       "      <td>80</td>\n",
       "      <td>80</td>\n",
       "      <td>2</td>\n",
       "      <td>18</td>\n",
       "      <td>C</td>\n",
       "      <td>MN</td>\n",
       "      <td>558</td>\n",
       "      <td>0.0</td>\n",
       "      <td>0</td>\n",
       "      <td>599</td>\n",
       "      <td>599</td>\n",
       "      <td>599</td>\n",
       "      <td>30</td>\n",
       "      <td>20260</td>\n",
       "      <td>5.85</td>\n",
       "      <td>5.79</td>\n",
       "      <td>5.8125</td>\n",
       "      <td>0.010363</td>\n",
       "      <td>0.650</td>\n",
       "      <td>-0.710</td>\n",
       "      <td>0.6875</td>\n",
       "      <td>0.111111</td>\n",
       "      <td>-0.122625</td>\n",
       "      <td>0.118280</td>\n",
       "      <td>2003</td>\n",
       "      <td>4</td>\n",
       "      <td>0</td>\n",
       "    </tr>\n",
       "    <tr>\n",
       "      <th>74642</th>\n",
       "      <td>703080</td>\n",
       "      <td>B</td>\n",
       "      <td>JPMORGAN CHASE BANK, NA</td>\n",
       "      <td>5.375</td>\n",
       "      <td>31000</td>\n",
       "      <td>180</td>\n",
       "      <td>75</td>\n",
       "      <td>75</td>\n",
       "      <td>1</td>\n",
       "      <td>31</td>\n",
       "      <td>R</td>\n",
       "      <td>PA</td>\n",
       "      <td>179</td>\n",
       "      <td>0.0</td>\n",
       "      <td>0</td>\n",
       "      <td>693</td>\n",
       "      <td>693</td>\n",
       "      <td>693</td>\n",
       "      <td>126</td>\n",
       "      <td>0</td>\n",
       "      <td>6.31</td>\n",
       "      <td>5.98</td>\n",
       "      <td>6.1125</td>\n",
       "      <td>0.055184</td>\n",
       "      <td>-0.935</td>\n",
       "      <td>0.605</td>\n",
       "      <td>-0.7375</td>\n",
       "      <td>-0.148177</td>\n",
       "      <td>0.101171</td>\n",
       "      <td>-0.120654</td>\n",
       "      <td>2002</td>\n",
       "      <td>10</td>\n",
       "      <td>0</td>\n",
       "    </tr>\n",
       "    <tr>\n",
       "      <th>184025</th>\n",
       "      <td>2090081</td>\n",
       "      <td>C</td>\n",
       "      <td>AMTRUST BANK</td>\n",
       "      <td>6.625</td>\n",
       "      <td>310000</td>\n",
       "      <td>360</td>\n",
       "      <td>94</td>\n",
       "      <td>94</td>\n",
       "      <td>2</td>\n",
       "      <td>48</td>\n",
       "      <td>R</td>\n",
       "      <td>LA</td>\n",
       "      <td>705</td>\n",
       "      <td>30.0</td>\n",
       "      <td>1</td>\n",
       "      <td>667</td>\n",
       "      <td>663</td>\n",
       "      <td>665</td>\n",
       "      <td>119</td>\n",
       "      <td>29180</td>\n",
       "      <td>6.73</td>\n",
       "      <td>6.63</td>\n",
       "      <td>6.6950</td>\n",
       "      <td>0.015083</td>\n",
       "      <td>-0.105</td>\n",
       "      <td>0.005</td>\n",
       "      <td>-0.0700</td>\n",
       "      <td>-0.015602</td>\n",
       "      <td>0.000754</td>\n",
       "      <td>-0.010456</td>\n",
       "      <td>2007</td>\n",
       "      <td>7</td>\n",
       "      <td>0</td>\n",
       "    </tr>\n",
       "  </tbody>\n",
       "</table>\n",
       "</div>"
      ],
      "text/plain": [
       "        Unnamed: 0.1 origChannel               sellerName  origIntRate  \\\n",
       "17506        2569897           R                    OTHER        4.500   \n",
       "24119        1271261           C  JPMORGAN CHASE BANK, NA        5.875   \n",
       "170279       1036923           B  JPMORGAN CHASE BANK, NA        6.500   \n",
       "74642         703080           B  JPMORGAN CHASE BANK, NA        5.375   \n",
       "184025       2090081           C             AMTRUST BANK        6.625   \n",
       "\n",
       "        origUPB  origLoanTerm  origLTV  origCLTV  numBorrowers  \\\n",
       "17506    178000           360       97        97             2   \n",
       "24119     76000           180       30        30             1   \n",
       "170279    89000           360       80        80             2   \n",
       "74642     31000           180       75        75             1   \n",
       "184025   310000           360       94        94             2   \n",
       "\n",
       "        origDebtIncRatio loanPurp propState  zipCode  pMIperct  mortInsType  \\\n",
       "17506                 34        P        OR      970      35.0            1   \n",
       "24119                 31        R        DC      200       0.0            0   \n",
       "170279                18        C        MN      558       0.0            0   \n",
       "74642                 31        R        PA      179       0.0            0   \n",
       "184025                48        R        LA      705      30.0            1   \n",
       "\n",
       "        bestCreditScore  worstCreditScore  avgCreditScore  loanAge    mSA  \\\n",
       "17506               741               729             735       44  41420   \n",
       "24119               777               777             777      179  47900   \n",
       "170279              599               599             599       30  20260   \n",
       "74642               693               693             693      126      0   \n",
       "184025              667               663             665      119  29180   \n",
       "\n",
       "        fmacRateMax  fmacRateMin  fmacRateAvg  fmacRateVolatility  \\\n",
       "17506          4.28         4.10       4.1920            0.043902   \n",
       "24119          5.94         5.40       5.6325            0.100000   \n",
       "170279         5.85         5.79       5.8125            0.010363   \n",
       "74642          6.31         5.98       6.1125            0.055184   \n",
       "184025         6.73         6.63       6.6950            0.015083   \n",
       "\n",
       "        rateDiffAbove  rateDiffBelow  rateDiffAvg  rateDiffAbovePct  \\\n",
       "17506           0.220         -0.400       0.3080          0.051402   \n",
       "24119          -0.065         -0.475       0.2425         -0.010943   \n",
       "170279          0.650         -0.710       0.6875          0.111111   \n",
       "74642          -0.935          0.605      -0.7375         -0.148177   \n",
       "184025         -0.105          0.005      -0.0700         -0.015602   \n",
       "\n",
       "        rateDiffBelowPct  rateDiffAvgPct  origYear  origMonth  zeroBalCode  \n",
       "17506          -0.097561        0.073473      2013         10            0  \n",
       "24119          -0.087963        0.043054      2003          7            0  \n",
       "170279         -0.122625        0.118280      2003          4            0  \n",
       "74642           0.101171       -0.120654      2002         10            0  \n",
       "184025          0.000754       -0.010456      2007          7            0  "
      ]
     },
     "execution_count": 31,
     "metadata": {},
     "output_type": "execute_result"
    }
   ],
   "source": [
    "df.head()"
   ]
  },
  {
   "cell_type": "markdown",
   "metadata": {},
   "source": [
    "# Pycaret - Setup with categorical definition"
   ]
  },
  {
   "cell_type": "markdown",
   "metadata": {},
   "source": [
    "### Use complex setup "
   ]
  },
  {
   "cell_type": "code",
   "execution_count": 32,
   "metadata": {
    "scrolled": false
   },
   "outputs": [
    {
     "name": "stdout",
     "output_type": "stream",
     "text": [
      "Setup Succesfully Completed!\n"
     ]
    },
    {
     "data": {
      "text/html": [
       "<style  type=\"text/css\" >\n",
       "#T_205e0c52_fab3_11ea_b139_309c234564f5row8_col1,#T_205e0c52_fab3_11ea_b139_309c234564f5row15_col1,#T_205e0c52_fab3_11ea_b139_309c234564f5row22_col1,#T_205e0c52_fab3_11ea_b139_309c234564f5row26_col1,#T_205e0c52_fab3_11ea_b139_309c234564f5row28_col1,#T_205e0c52_fab3_11ea_b139_309c234564f5row42_col1{\n",
       "            background-color:  lightgreen;\n",
       "        }</style><table id=\"T_205e0c52_fab3_11ea_b139_309c234564f5\" ><thead>    <tr>        <th class=\"blank level0\" ></th>        <th class=\"col_heading level0 col0\" >Description</th>        <th class=\"col_heading level0 col1\" >Value</th>    </tr></thead><tbody>\n",
       "                <tr>\n",
       "                        <th id=\"T_205e0c52_fab3_11ea_b139_309c234564f5level0_row0\" class=\"row_heading level0 row0\" >0</th>\n",
       "                        <td id=\"T_205e0c52_fab3_11ea_b139_309c234564f5row0_col0\" class=\"data row0 col0\" >session_id</td>\n",
       "                        <td id=\"T_205e0c52_fab3_11ea_b139_309c234564f5row0_col1\" class=\"data row0 col1\" >8024</td>\n",
       "            </tr>\n",
       "            <tr>\n",
       "                        <th id=\"T_205e0c52_fab3_11ea_b139_309c234564f5level0_row1\" class=\"row_heading level0 row1\" >1</th>\n",
       "                        <td id=\"T_205e0c52_fab3_11ea_b139_309c234564f5row1_col0\" class=\"data row1 col0\" >Target Type</td>\n",
       "                        <td id=\"T_205e0c52_fab3_11ea_b139_309c234564f5row1_col1\" class=\"data row1 col1\" >Binary</td>\n",
       "            </tr>\n",
       "            <tr>\n",
       "                        <th id=\"T_205e0c52_fab3_11ea_b139_309c234564f5level0_row2\" class=\"row_heading level0 row2\" >2</th>\n",
       "                        <td id=\"T_205e0c52_fab3_11ea_b139_309c234564f5row2_col0\" class=\"data row2 col0\" >Label Encoded</td>\n",
       "                        <td id=\"T_205e0c52_fab3_11ea_b139_309c234564f5row2_col1\" class=\"data row2 col1\" >None</td>\n",
       "            </tr>\n",
       "            <tr>\n",
       "                        <th id=\"T_205e0c52_fab3_11ea_b139_309c234564f5level0_row3\" class=\"row_heading level0 row3\" >3</th>\n",
       "                        <td id=\"T_205e0c52_fab3_11ea_b139_309c234564f5row3_col0\" class=\"data row3 col0\" >Original Data</td>\n",
       "                        <td id=\"T_205e0c52_fab3_11ea_b139_309c234564f5row3_col1\" class=\"data row3 col1\" >(215723, 33)</td>\n",
       "            </tr>\n",
       "            <tr>\n",
       "                        <th id=\"T_205e0c52_fab3_11ea_b139_309c234564f5level0_row4\" class=\"row_heading level0 row4\" >4</th>\n",
       "                        <td id=\"T_205e0c52_fab3_11ea_b139_309c234564f5row4_col0\" class=\"data row4 col0\" >Missing Values </td>\n",
       "                        <td id=\"T_205e0c52_fab3_11ea_b139_309c234564f5row4_col1\" class=\"data row4 col1\" >False</td>\n",
       "            </tr>\n",
       "            <tr>\n",
       "                        <th id=\"T_205e0c52_fab3_11ea_b139_309c234564f5level0_row5\" class=\"row_heading level0 row5\" >5</th>\n",
       "                        <td id=\"T_205e0c52_fab3_11ea_b139_309c234564f5row5_col0\" class=\"data row5 col0\" >Numeric Features </td>\n",
       "                        <td id=\"T_205e0c52_fab3_11ea_b139_309c234564f5row5_col1\" class=\"data row5 col1\" >24</td>\n",
       "            </tr>\n",
       "            <tr>\n",
       "                        <th id=\"T_205e0c52_fab3_11ea_b139_309c234564f5level0_row6\" class=\"row_heading level0 row6\" >6</th>\n",
       "                        <td id=\"T_205e0c52_fab3_11ea_b139_309c234564f5row6_col0\" class=\"data row6 col0\" >Categorical Features </td>\n",
       "                        <td id=\"T_205e0c52_fab3_11ea_b139_309c234564f5row6_col1\" class=\"data row6 col1\" >8</td>\n",
       "            </tr>\n",
       "            <tr>\n",
       "                        <th id=\"T_205e0c52_fab3_11ea_b139_309c234564f5level0_row7\" class=\"row_heading level0 row7\" >7</th>\n",
       "                        <td id=\"T_205e0c52_fab3_11ea_b139_309c234564f5row7_col0\" class=\"data row7 col0\" >Ordinal Features </td>\n",
       "                        <td id=\"T_205e0c52_fab3_11ea_b139_309c234564f5row7_col1\" class=\"data row7 col1\" >False</td>\n",
       "            </tr>\n",
       "            <tr>\n",
       "                        <th id=\"T_205e0c52_fab3_11ea_b139_309c234564f5level0_row8\" class=\"row_heading level0 row8\" >8</th>\n",
       "                        <td id=\"T_205e0c52_fab3_11ea_b139_309c234564f5row8_col0\" class=\"data row8 col0\" >High Cardinality Features </td>\n",
       "                        <td id=\"T_205e0c52_fab3_11ea_b139_309c234564f5row8_col1\" class=\"data row8 col1\" >True</td>\n",
       "            </tr>\n",
       "            <tr>\n",
       "                        <th id=\"T_205e0c52_fab3_11ea_b139_309c234564f5level0_row9\" class=\"row_heading level0 row9\" >9</th>\n",
       "                        <td id=\"T_205e0c52_fab3_11ea_b139_309c234564f5row9_col0\" class=\"data row9 col0\" >High Cardinality Method </td>\n",
       "                        <td id=\"T_205e0c52_fab3_11ea_b139_309c234564f5row9_col1\" class=\"data row9 col1\" >clustering</td>\n",
       "            </tr>\n",
       "            <tr>\n",
       "                        <th id=\"T_205e0c52_fab3_11ea_b139_309c234564f5level0_row10\" class=\"row_heading level0 row10\" >10</th>\n",
       "                        <td id=\"T_205e0c52_fab3_11ea_b139_309c234564f5row10_col0\" class=\"data row10 col0\" >Sampled Data</td>\n",
       "                        <td id=\"T_205e0c52_fab3_11ea_b139_309c234564f5row10_col1\" class=\"data row10 col1\" >(204936, 33)</td>\n",
       "            </tr>\n",
       "            <tr>\n",
       "                        <th id=\"T_205e0c52_fab3_11ea_b139_309c234564f5level0_row11\" class=\"row_heading level0 row11\" >11</th>\n",
       "                        <td id=\"T_205e0c52_fab3_11ea_b139_309c234564f5row11_col0\" class=\"data row11 col0\" >Transformed Train Set</td>\n",
       "                        <td id=\"T_205e0c52_fab3_11ea_b139_309c234564f5row11_col1\" class=\"data row11 col1\" >(143455, 55)</td>\n",
       "            </tr>\n",
       "            <tr>\n",
       "                        <th id=\"T_205e0c52_fab3_11ea_b139_309c234564f5level0_row12\" class=\"row_heading level0 row12\" >12</th>\n",
       "                        <td id=\"T_205e0c52_fab3_11ea_b139_309c234564f5row12_col0\" class=\"data row12 col0\" >Transformed Test Set</td>\n",
       "                        <td id=\"T_205e0c52_fab3_11ea_b139_309c234564f5row12_col1\" class=\"data row12 col1\" >(61481, 55)</td>\n",
       "            </tr>\n",
       "            <tr>\n",
       "                        <th id=\"T_205e0c52_fab3_11ea_b139_309c234564f5level0_row13\" class=\"row_heading level0 row13\" >13</th>\n",
       "                        <td id=\"T_205e0c52_fab3_11ea_b139_309c234564f5row13_col0\" class=\"data row13 col0\" >Numeric Imputer </td>\n",
       "                        <td id=\"T_205e0c52_fab3_11ea_b139_309c234564f5row13_col1\" class=\"data row13 col1\" >mean</td>\n",
       "            </tr>\n",
       "            <tr>\n",
       "                        <th id=\"T_205e0c52_fab3_11ea_b139_309c234564f5level0_row14\" class=\"row_heading level0 row14\" >14</th>\n",
       "                        <td id=\"T_205e0c52_fab3_11ea_b139_309c234564f5row14_col0\" class=\"data row14 col0\" >Categorical Imputer </td>\n",
       "                        <td id=\"T_205e0c52_fab3_11ea_b139_309c234564f5row14_col1\" class=\"data row14 col1\" >constant</td>\n",
       "            </tr>\n",
       "            <tr>\n",
       "                        <th id=\"T_205e0c52_fab3_11ea_b139_309c234564f5level0_row15\" class=\"row_heading level0 row15\" >15</th>\n",
       "                        <td id=\"T_205e0c52_fab3_11ea_b139_309c234564f5row15_col0\" class=\"data row15 col0\" >Normalize </td>\n",
       "                        <td id=\"T_205e0c52_fab3_11ea_b139_309c234564f5row15_col1\" class=\"data row15 col1\" >True</td>\n",
       "            </tr>\n",
       "            <tr>\n",
       "                        <th id=\"T_205e0c52_fab3_11ea_b139_309c234564f5level0_row16\" class=\"row_heading level0 row16\" >16</th>\n",
       "                        <td id=\"T_205e0c52_fab3_11ea_b139_309c234564f5row16_col0\" class=\"data row16 col0\" >Normalize Method </td>\n",
       "                        <td id=\"T_205e0c52_fab3_11ea_b139_309c234564f5row16_col1\" class=\"data row16 col1\" >zscore</td>\n",
       "            </tr>\n",
       "            <tr>\n",
       "                        <th id=\"T_205e0c52_fab3_11ea_b139_309c234564f5level0_row17\" class=\"row_heading level0 row17\" >17</th>\n",
       "                        <td id=\"T_205e0c52_fab3_11ea_b139_309c234564f5row17_col0\" class=\"data row17 col0\" >Transformation </td>\n",
       "                        <td id=\"T_205e0c52_fab3_11ea_b139_309c234564f5row17_col1\" class=\"data row17 col1\" >False</td>\n",
       "            </tr>\n",
       "            <tr>\n",
       "                        <th id=\"T_205e0c52_fab3_11ea_b139_309c234564f5level0_row18\" class=\"row_heading level0 row18\" >18</th>\n",
       "                        <td id=\"T_205e0c52_fab3_11ea_b139_309c234564f5row18_col0\" class=\"data row18 col0\" >Transformation Method </td>\n",
       "                        <td id=\"T_205e0c52_fab3_11ea_b139_309c234564f5row18_col1\" class=\"data row18 col1\" >None</td>\n",
       "            </tr>\n",
       "            <tr>\n",
       "                        <th id=\"T_205e0c52_fab3_11ea_b139_309c234564f5level0_row19\" class=\"row_heading level0 row19\" >19</th>\n",
       "                        <td id=\"T_205e0c52_fab3_11ea_b139_309c234564f5row19_col0\" class=\"data row19 col0\" >PCA </td>\n",
       "                        <td id=\"T_205e0c52_fab3_11ea_b139_309c234564f5row19_col1\" class=\"data row19 col1\" >False</td>\n",
       "            </tr>\n",
       "            <tr>\n",
       "                        <th id=\"T_205e0c52_fab3_11ea_b139_309c234564f5level0_row20\" class=\"row_heading level0 row20\" >20</th>\n",
       "                        <td id=\"T_205e0c52_fab3_11ea_b139_309c234564f5row20_col0\" class=\"data row20 col0\" >PCA Method </td>\n",
       "                        <td id=\"T_205e0c52_fab3_11ea_b139_309c234564f5row20_col1\" class=\"data row20 col1\" >None</td>\n",
       "            </tr>\n",
       "            <tr>\n",
       "                        <th id=\"T_205e0c52_fab3_11ea_b139_309c234564f5level0_row21\" class=\"row_heading level0 row21\" >21</th>\n",
       "                        <td id=\"T_205e0c52_fab3_11ea_b139_309c234564f5row21_col0\" class=\"data row21 col0\" >PCA Components </td>\n",
       "                        <td id=\"T_205e0c52_fab3_11ea_b139_309c234564f5row21_col1\" class=\"data row21 col1\" >None</td>\n",
       "            </tr>\n",
       "            <tr>\n",
       "                        <th id=\"T_205e0c52_fab3_11ea_b139_309c234564f5level0_row22\" class=\"row_heading level0 row22\" >22</th>\n",
       "                        <td id=\"T_205e0c52_fab3_11ea_b139_309c234564f5row22_col0\" class=\"data row22 col0\" >Ignore Low Variance </td>\n",
       "                        <td id=\"T_205e0c52_fab3_11ea_b139_309c234564f5row22_col1\" class=\"data row22 col1\" >True</td>\n",
       "            </tr>\n",
       "            <tr>\n",
       "                        <th id=\"T_205e0c52_fab3_11ea_b139_309c234564f5level0_row23\" class=\"row_heading level0 row23\" >23</th>\n",
       "                        <td id=\"T_205e0c52_fab3_11ea_b139_309c234564f5row23_col0\" class=\"data row23 col0\" >Combine Rare Levels </td>\n",
       "                        <td id=\"T_205e0c52_fab3_11ea_b139_309c234564f5row23_col1\" class=\"data row23 col1\" >False</td>\n",
       "            </tr>\n",
       "            <tr>\n",
       "                        <th id=\"T_205e0c52_fab3_11ea_b139_309c234564f5level0_row24\" class=\"row_heading level0 row24\" >24</th>\n",
       "                        <td id=\"T_205e0c52_fab3_11ea_b139_309c234564f5row24_col0\" class=\"data row24 col0\" >Rare Level Threshold </td>\n",
       "                        <td id=\"T_205e0c52_fab3_11ea_b139_309c234564f5row24_col1\" class=\"data row24 col1\" >None</td>\n",
       "            </tr>\n",
       "            <tr>\n",
       "                        <th id=\"T_205e0c52_fab3_11ea_b139_309c234564f5level0_row25\" class=\"row_heading level0 row25\" >25</th>\n",
       "                        <td id=\"T_205e0c52_fab3_11ea_b139_309c234564f5row25_col0\" class=\"data row25 col0\" >Numeric Binning </td>\n",
       "                        <td id=\"T_205e0c52_fab3_11ea_b139_309c234564f5row25_col1\" class=\"data row25 col1\" >False</td>\n",
       "            </tr>\n",
       "            <tr>\n",
       "                        <th id=\"T_205e0c52_fab3_11ea_b139_309c234564f5level0_row26\" class=\"row_heading level0 row26\" >26</th>\n",
       "                        <td id=\"T_205e0c52_fab3_11ea_b139_309c234564f5row26_col0\" class=\"data row26 col0\" >Remove Outliers </td>\n",
       "                        <td id=\"T_205e0c52_fab3_11ea_b139_309c234564f5row26_col1\" class=\"data row26 col1\" >True</td>\n",
       "            </tr>\n",
       "            <tr>\n",
       "                        <th id=\"T_205e0c52_fab3_11ea_b139_309c234564f5level0_row27\" class=\"row_heading level0 row27\" >27</th>\n",
       "                        <td id=\"T_205e0c52_fab3_11ea_b139_309c234564f5row27_col0\" class=\"data row27 col0\" >Outliers Threshold </td>\n",
       "                        <td id=\"T_205e0c52_fab3_11ea_b139_309c234564f5row27_col1\" class=\"data row27 col1\" >0.050000</td>\n",
       "            </tr>\n",
       "            <tr>\n",
       "                        <th id=\"T_205e0c52_fab3_11ea_b139_309c234564f5level0_row28\" class=\"row_heading level0 row28\" >28</th>\n",
       "                        <td id=\"T_205e0c52_fab3_11ea_b139_309c234564f5row28_col0\" class=\"data row28 col0\" >Remove Multicollinearity </td>\n",
       "                        <td id=\"T_205e0c52_fab3_11ea_b139_309c234564f5row28_col1\" class=\"data row28 col1\" >True</td>\n",
       "            </tr>\n",
       "            <tr>\n",
       "                        <th id=\"T_205e0c52_fab3_11ea_b139_309c234564f5level0_row29\" class=\"row_heading level0 row29\" >29</th>\n",
       "                        <td id=\"T_205e0c52_fab3_11ea_b139_309c234564f5row29_col0\" class=\"data row29 col0\" >Multicollinearity Threshold </td>\n",
       "                        <td id=\"T_205e0c52_fab3_11ea_b139_309c234564f5row29_col1\" class=\"data row29 col1\" >0.900000</td>\n",
       "            </tr>\n",
       "            <tr>\n",
       "                        <th id=\"T_205e0c52_fab3_11ea_b139_309c234564f5level0_row30\" class=\"row_heading level0 row30\" >30</th>\n",
       "                        <td id=\"T_205e0c52_fab3_11ea_b139_309c234564f5row30_col0\" class=\"data row30 col0\" >Clustering </td>\n",
       "                        <td id=\"T_205e0c52_fab3_11ea_b139_309c234564f5row30_col1\" class=\"data row30 col1\" >False</td>\n",
       "            </tr>\n",
       "            <tr>\n",
       "                        <th id=\"T_205e0c52_fab3_11ea_b139_309c234564f5level0_row31\" class=\"row_heading level0 row31\" >31</th>\n",
       "                        <td id=\"T_205e0c52_fab3_11ea_b139_309c234564f5row31_col0\" class=\"data row31 col0\" >Clustering Iteration </td>\n",
       "                        <td id=\"T_205e0c52_fab3_11ea_b139_309c234564f5row31_col1\" class=\"data row31 col1\" >None</td>\n",
       "            </tr>\n",
       "            <tr>\n",
       "                        <th id=\"T_205e0c52_fab3_11ea_b139_309c234564f5level0_row32\" class=\"row_heading level0 row32\" >32</th>\n",
       "                        <td id=\"T_205e0c52_fab3_11ea_b139_309c234564f5row32_col0\" class=\"data row32 col0\" >Polynomial Features </td>\n",
       "                        <td id=\"T_205e0c52_fab3_11ea_b139_309c234564f5row32_col1\" class=\"data row32 col1\" >False</td>\n",
       "            </tr>\n",
       "            <tr>\n",
       "                        <th id=\"T_205e0c52_fab3_11ea_b139_309c234564f5level0_row33\" class=\"row_heading level0 row33\" >33</th>\n",
       "                        <td id=\"T_205e0c52_fab3_11ea_b139_309c234564f5row33_col0\" class=\"data row33 col0\" >Polynomial Degree </td>\n",
       "                        <td id=\"T_205e0c52_fab3_11ea_b139_309c234564f5row33_col1\" class=\"data row33 col1\" >None</td>\n",
       "            </tr>\n",
       "            <tr>\n",
       "                        <th id=\"T_205e0c52_fab3_11ea_b139_309c234564f5level0_row34\" class=\"row_heading level0 row34\" >34</th>\n",
       "                        <td id=\"T_205e0c52_fab3_11ea_b139_309c234564f5row34_col0\" class=\"data row34 col0\" >Trignometry Features </td>\n",
       "                        <td id=\"T_205e0c52_fab3_11ea_b139_309c234564f5row34_col1\" class=\"data row34 col1\" >False</td>\n",
       "            </tr>\n",
       "            <tr>\n",
       "                        <th id=\"T_205e0c52_fab3_11ea_b139_309c234564f5level0_row35\" class=\"row_heading level0 row35\" >35</th>\n",
       "                        <td id=\"T_205e0c52_fab3_11ea_b139_309c234564f5row35_col0\" class=\"data row35 col0\" >Polynomial Threshold </td>\n",
       "                        <td id=\"T_205e0c52_fab3_11ea_b139_309c234564f5row35_col1\" class=\"data row35 col1\" >None</td>\n",
       "            </tr>\n",
       "            <tr>\n",
       "                        <th id=\"T_205e0c52_fab3_11ea_b139_309c234564f5level0_row36\" class=\"row_heading level0 row36\" >36</th>\n",
       "                        <td id=\"T_205e0c52_fab3_11ea_b139_309c234564f5row36_col0\" class=\"data row36 col0\" >Group Features </td>\n",
       "                        <td id=\"T_205e0c52_fab3_11ea_b139_309c234564f5row36_col1\" class=\"data row36 col1\" >False</td>\n",
       "            </tr>\n",
       "            <tr>\n",
       "                        <th id=\"T_205e0c52_fab3_11ea_b139_309c234564f5level0_row37\" class=\"row_heading level0 row37\" >37</th>\n",
       "                        <td id=\"T_205e0c52_fab3_11ea_b139_309c234564f5row37_col0\" class=\"data row37 col0\" >Feature Selection </td>\n",
       "                        <td id=\"T_205e0c52_fab3_11ea_b139_309c234564f5row37_col1\" class=\"data row37 col1\" >False</td>\n",
       "            </tr>\n",
       "            <tr>\n",
       "                        <th id=\"T_205e0c52_fab3_11ea_b139_309c234564f5level0_row38\" class=\"row_heading level0 row38\" >38</th>\n",
       "                        <td id=\"T_205e0c52_fab3_11ea_b139_309c234564f5row38_col0\" class=\"data row38 col0\" >Features Selection Threshold </td>\n",
       "                        <td id=\"T_205e0c52_fab3_11ea_b139_309c234564f5row38_col1\" class=\"data row38 col1\" >None</td>\n",
       "            </tr>\n",
       "            <tr>\n",
       "                        <th id=\"T_205e0c52_fab3_11ea_b139_309c234564f5level0_row39\" class=\"row_heading level0 row39\" >39</th>\n",
       "                        <td id=\"T_205e0c52_fab3_11ea_b139_309c234564f5row39_col0\" class=\"data row39 col0\" >Feature Interaction </td>\n",
       "                        <td id=\"T_205e0c52_fab3_11ea_b139_309c234564f5row39_col1\" class=\"data row39 col1\" >False</td>\n",
       "            </tr>\n",
       "            <tr>\n",
       "                        <th id=\"T_205e0c52_fab3_11ea_b139_309c234564f5level0_row40\" class=\"row_heading level0 row40\" >40</th>\n",
       "                        <td id=\"T_205e0c52_fab3_11ea_b139_309c234564f5row40_col0\" class=\"data row40 col0\" >Feature Ratio </td>\n",
       "                        <td id=\"T_205e0c52_fab3_11ea_b139_309c234564f5row40_col1\" class=\"data row40 col1\" >False</td>\n",
       "            </tr>\n",
       "            <tr>\n",
       "                        <th id=\"T_205e0c52_fab3_11ea_b139_309c234564f5level0_row41\" class=\"row_heading level0 row41\" >41</th>\n",
       "                        <td id=\"T_205e0c52_fab3_11ea_b139_309c234564f5row41_col0\" class=\"data row41 col0\" >Interaction Threshold </td>\n",
       "                        <td id=\"T_205e0c52_fab3_11ea_b139_309c234564f5row41_col1\" class=\"data row41 col1\" >None</td>\n",
       "            </tr>\n",
       "            <tr>\n",
       "                        <th id=\"T_205e0c52_fab3_11ea_b139_309c234564f5level0_row42\" class=\"row_heading level0 row42\" >42</th>\n",
       "                        <td id=\"T_205e0c52_fab3_11ea_b139_309c234564f5row42_col0\" class=\"data row42 col0\" >Fix Imbalance</td>\n",
       "                        <td id=\"T_205e0c52_fab3_11ea_b139_309c234564f5row42_col1\" class=\"data row42 col1\" >True</td>\n",
       "            </tr>\n",
       "            <tr>\n",
       "                        <th id=\"T_205e0c52_fab3_11ea_b139_309c234564f5level0_row43\" class=\"row_heading level0 row43\" >43</th>\n",
       "                        <td id=\"T_205e0c52_fab3_11ea_b139_309c234564f5row43_col0\" class=\"data row43 col0\" >Fix Imbalance Method</td>\n",
       "                        <td id=\"T_205e0c52_fab3_11ea_b139_309c234564f5row43_col1\" class=\"data row43 col1\" >SMOTE</td>\n",
       "            </tr>\n",
       "    </tbody></table>"
      ],
      "text/plain": [
       "<pandas.io.formats.style.Styler at 0x242960fff28>"
      ]
     },
     "metadata": {},
     "output_type": "display_data"
    }
   ],
   "source": [
    "model_setup = setup(\n",
    "    df\n",
    "    , target = 'zeroBalCode' # PyCaret will list this as \"Label\"\n",
    "    , normalize = True\n",
    "    , transformation = False\n",
    "    , pca = False \n",
    "    , ignore_low_variance = True # Variance is calculated using the ratio of unique values to the number of samples, and the ratio of the most common value to the frequency of the second most common value. \n",
    "    , ignore_features = None\n",
    "    , handle_unknown_categorical = True\n",
    "    , remove_outliers = True\n",
    "    , remove_multicollinearity = True\n",
    "    , polynomial_features = False\n",
    "    , trigonometry_features = False\n",
    "    , feature_selection = False\n",
    "    , feature_interaction = False\n",
    "    , fix_imbalance = True\n",
    "    , silent = True\n",
    "    , profile = False\n",
    "    # outliers from the training data are removed using PCA linear dimensionality reduction using the Singular Value Decomposition technique.\n",
    "#     , bin_numeric_features = [\n",
    "#         'origIntRate'\n",
    "#         , 'origUPB'\n",
    "#         , 'origLTV'\n",
    "#         , 'origDebtIncRatio'\n",
    "#         , 'bestCreditScore'\n",
    "#         , 'avgCreditScore'\n",
    "#         , 'worstCreditScore'\n",
    "#         ] # Set to True to bin numerics using K Means\n",
    "    , categorical_features = [\n",
    "         'origChannel'\n",
    "        , 'loanPurp'\n",
    "        , 'origYear'\n",
    "        , 'origMonth'\n",
    "        , 'mortInsType'\n",
    "        , 'origLoanTerm'\n",
    "        ]\n",
    "    , high_cardinality_features = [\n",
    "         'propState'\n",
    "        , 'sellerName'\n",
    "        , 'mSA'\n",
    "        , 'zipCode'\n",
    "    ]\n",
    "    , high_cardinality_method = 'clustering'\n",
    "    , numeric_features = [\n",
    "        'origIntRate'\n",
    "        , 'numBorrowers'\n",
    "        , 'origUPB'\n",
    "        , 'origLTV'\n",
    "        , 'origCLTV'\n",
    "        , 'pMIperct'\n",
    "        , 'loanAge'\n",
    "        , 'origDebtIncRatio'\n",
    "        , 'worstCreditScore'\n",
    "        , 'bestCreditScore'\n",
    "        , 'avgCreditScore'\n",
    "        , 'rateDiffAbove'\n",
    "        , 'rateDiffBelow'\n",
    "        , 'rateDiffAvg'\n",
    "        , 'rateDiffAbovePct'\n",
    "        , 'rateDiffBelowPct'\n",
    "        , 'rateDiffAvgPct'\n",
    "        , 'fmacRateMax'\n",
    "        , 'fmacRateMin'\n",
    "        , 'fmacRateAvg'\n",
    "        , 'fmacRateVolatility'\n",
    "    ]\n",
    ")\n"
   ]
  },
  {
   "cell_type": "markdown",
   "metadata": {},
   "source": [
    "## Compare Models with no blacklist exclusions"
   ]
  },
  {
   "cell_type": "code",
   "execution_count": 33,
   "metadata": {
    "scrolled": false
   },
   "outputs": [
    {
     "data": {
      "text/html": [
       "<style  type=\"text/css\" >\n",
       "    #T_b6c64e1a_fac0_11ea_b569_309c234564f5 th {\n",
       "          text-align: left;\n",
       "    }#T_b6c64e1a_fac0_11ea_b569_309c234564f5row0_col0,#T_b6c64e1a_fac0_11ea_b569_309c234564f5row0_col3,#T_b6c64e1a_fac0_11ea_b569_309c234564f5row0_col5,#T_b6c64e1a_fac0_11ea_b569_309c234564f5row0_col6,#T_b6c64e1a_fac0_11ea_b569_309c234564f5row0_col7,#T_b6c64e1a_fac0_11ea_b569_309c234564f5row1_col0,#T_b6c64e1a_fac0_11ea_b569_309c234564f5row1_col1,#T_b6c64e1a_fac0_11ea_b569_309c234564f5row1_col2,#T_b6c64e1a_fac0_11ea_b569_309c234564f5row1_col3,#T_b6c64e1a_fac0_11ea_b569_309c234564f5row1_col4,#T_b6c64e1a_fac0_11ea_b569_309c234564f5row1_col5,#T_b6c64e1a_fac0_11ea_b569_309c234564f5row1_col6,#T_b6c64e1a_fac0_11ea_b569_309c234564f5row1_col7,#T_b6c64e1a_fac0_11ea_b569_309c234564f5row2_col0,#T_b6c64e1a_fac0_11ea_b569_309c234564f5row2_col1,#T_b6c64e1a_fac0_11ea_b569_309c234564f5row2_col2,#T_b6c64e1a_fac0_11ea_b569_309c234564f5row2_col3,#T_b6c64e1a_fac0_11ea_b569_309c234564f5row2_col4,#T_b6c64e1a_fac0_11ea_b569_309c234564f5row2_col5,#T_b6c64e1a_fac0_11ea_b569_309c234564f5row2_col6,#T_b6c64e1a_fac0_11ea_b569_309c234564f5row2_col7,#T_b6c64e1a_fac0_11ea_b569_309c234564f5row3_col0,#T_b6c64e1a_fac0_11ea_b569_309c234564f5row3_col1,#T_b6c64e1a_fac0_11ea_b569_309c234564f5row3_col2,#T_b6c64e1a_fac0_11ea_b569_309c234564f5row3_col3,#T_b6c64e1a_fac0_11ea_b569_309c234564f5row3_col4,#T_b6c64e1a_fac0_11ea_b569_309c234564f5row4_col0,#T_b6c64e1a_fac0_11ea_b569_309c234564f5row4_col1,#T_b6c64e1a_fac0_11ea_b569_309c234564f5row4_col2,#T_b6c64e1a_fac0_11ea_b569_309c234564f5row4_col3,#T_b6c64e1a_fac0_11ea_b569_309c234564f5row4_col4,#T_b6c64e1a_fac0_11ea_b569_309c234564f5row4_col5,#T_b6c64e1a_fac0_11ea_b569_309c234564f5row4_col6,#T_b6c64e1a_fac0_11ea_b569_309c234564f5row4_col7,#T_b6c64e1a_fac0_11ea_b569_309c234564f5row5_col0,#T_b6c64e1a_fac0_11ea_b569_309c234564f5row5_col1,#T_b6c64e1a_fac0_11ea_b569_309c234564f5row5_col2,#T_b6c64e1a_fac0_11ea_b569_309c234564f5row5_col3,#T_b6c64e1a_fac0_11ea_b569_309c234564f5row5_col4,#T_b6c64e1a_fac0_11ea_b569_309c234564f5row5_col5,#T_b6c64e1a_fac0_11ea_b569_309c234564f5row5_col6,#T_b6c64e1a_fac0_11ea_b569_309c234564f5row5_col7,#T_b6c64e1a_fac0_11ea_b569_309c234564f5row6_col0,#T_b6c64e1a_fac0_11ea_b569_309c234564f5row6_col1,#T_b6c64e1a_fac0_11ea_b569_309c234564f5row6_col2,#T_b6c64e1a_fac0_11ea_b569_309c234564f5row6_col3,#T_b6c64e1a_fac0_11ea_b569_309c234564f5row6_col4,#T_b6c64e1a_fac0_11ea_b569_309c234564f5row6_col5,#T_b6c64e1a_fac0_11ea_b569_309c234564f5row6_col6,#T_b6c64e1a_fac0_11ea_b569_309c234564f5row6_col7,#T_b6c64e1a_fac0_11ea_b569_309c234564f5row7_col0,#T_b6c64e1a_fac0_11ea_b569_309c234564f5row7_col1,#T_b6c64e1a_fac0_11ea_b569_309c234564f5row7_col2,#T_b6c64e1a_fac0_11ea_b569_309c234564f5row7_col3,#T_b6c64e1a_fac0_11ea_b569_309c234564f5row7_col4,#T_b6c64e1a_fac0_11ea_b569_309c234564f5row7_col5,#T_b6c64e1a_fac0_11ea_b569_309c234564f5row7_col6,#T_b6c64e1a_fac0_11ea_b569_309c234564f5row7_col7,#T_b6c64e1a_fac0_11ea_b569_309c234564f5row8_col0,#T_b6c64e1a_fac0_11ea_b569_309c234564f5row8_col1,#T_b6c64e1a_fac0_11ea_b569_309c234564f5row8_col2,#T_b6c64e1a_fac0_11ea_b569_309c234564f5row8_col3,#T_b6c64e1a_fac0_11ea_b569_309c234564f5row8_col4,#T_b6c64e1a_fac0_11ea_b569_309c234564f5row8_col5,#T_b6c64e1a_fac0_11ea_b569_309c234564f5row8_col6,#T_b6c64e1a_fac0_11ea_b569_309c234564f5row8_col7,#T_b6c64e1a_fac0_11ea_b569_309c234564f5row9_col0,#T_b6c64e1a_fac0_11ea_b569_309c234564f5row9_col1,#T_b6c64e1a_fac0_11ea_b569_309c234564f5row9_col2,#T_b6c64e1a_fac0_11ea_b569_309c234564f5row9_col4,#T_b6c64e1a_fac0_11ea_b569_309c234564f5row9_col5,#T_b6c64e1a_fac0_11ea_b569_309c234564f5row9_col6,#T_b6c64e1a_fac0_11ea_b569_309c234564f5row9_col7,#T_b6c64e1a_fac0_11ea_b569_309c234564f5row10_col0,#T_b6c64e1a_fac0_11ea_b569_309c234564f5row10_col1,#T_b6c64e1a_fac0_11ea_b569_309c234564f5row10_col2,#T_b6c64e1a_fac0_11ea_b569_309c234564f5row10_col3,#T_b6c64e1a_fac0_11ea_b569_309c234564f5row10_col4,#T_b6c64e1a_fac0_11ea_b569_309c234564f5row10_col5,#T_b6c64e1a_fac0_11ea_b569_309c234564f5row10_col6,#T_b6c64e1a_fac0_11ea_b569_309c234564f5row10_col7,#T_b6c64e1a_fac0_11ea_b569_309c234564f5row11_col0,#T_b6c64e1a_fac0_11ea_b569_309c234564f5row11_col1,#T_b6c64e1a_fac0_11ea_b569_309c234564f5row11_col2,#T_b6c64e1a_fac0_11ea_b569_309c234564f5row11_col3,#T_b6c64e1a_fac0_11ea_b569_309c234564f5row11_col4,#T_b6c64e1a_fac0_11ea_b569_309c234564f5row11_col5,#T_b6c64e1a_fac0_11ea_b569_309c234564f5row11_col6,#T_b6c64e1a_fac0_11ea_b569_309c234564f5row11_col7,#T_b6c64e1a_fac0_11ea_b569_309c234564f5row12_col0,#T_b6c64e1a_fac0_11ea_b569_309c234564f5row12_col1,#T_b6c64e1a_fac0_11ea_b569_309c234564f5row12_col2,#T_b6c64e1a_fac0_11ea_b569_309c234564f5row12_col3,#T_b6c64e1a_fac0_11ea_b569_309c234564f5row12_col4,#T_b6c64e1a_fac0_11ea_b569_309c234564f5row12_col5,#T_b6c64e1a_fac0_11ea_b569_309c234564f5row12_col6,#T_b6c64e1a_fac0_11ea_b569_309c234564f5row12_col7,#T_b6c64e1a_fac0_11ea_b569_309c234564f5row13_col0,#T_b6c64e1a_fac0_11ea_b569_309c234564f5row13_col1,#T_b6c64e1a_fac0_11ea_b569_309c234564f5row13_col2,#T_b6c64e1a_fac0_11ea_b569_309c234564f5row13_col3,#T_b6c64e1a_fac0_11ea_b569_309c234564f5row13_col4,#T_b6c64e1a_fac0_11ea_b569_309c234564f5row13_col5,#T_b6c64e1a_fac0_11ea_b569_309c234564f5row13_col6,#T_b6c64e1a_fac0_11ea_b569_309c234564f5row13_col7,#T_b6c64e1a_fac0_11ea_b569_309c234564f5row14_col0,#T_b6c64e1a_fac0_11ea_b569_309c234564f5row14_col1,#T_b6c64e1a_fac0_11ea_b569_309c234564f5row14_col2,#T_b6c64e1a_fac0_11ea_b569_309c234564f5row14_col3,#T_b6c64e1a_fac0_11ea_b569_309c234564f5row14_col4,#T_b6c64e1a_fac0_11ea_b569_309c234564f5row14_col5,#T_b6c64e1a_fac0_11ea_b569_309c234564f5row14_col6,#T_b6c64e1a_fac0_11ea_b569_309c234564f5row14_col7{\n",
       "            text-align:  left;\n",
       "        }#T_b6c64e1a_fac0_11ea_b569_309c234564f5row0_col1,#T_b6c64e1a_fac0_11ea_b569_309c234564f5row0_col2,#T_b6c64e1a_fac0_11ea_b569_309c234564f5row0_col4,#T_b6c64e1a_fac0_11ea_b569_309c234564f5row3_col5,#T_b6c64e1a_fac0_11ea_b569_309c234564f5row3_col6,#T_b6c64e1a_fac0_11ea_b569_309c234564f5row3_col7,#T_b6c64e1a_fac0_11ea_b569_309c234564f5row9_col3{\n",
       "            background-color:  yellow;\n",
       "            text-align:  left;\n",
       "        }#T_b6c64e1a_fac0_11ea_b569_309c234564f5row0_col8,#T_b6c64e1a_fac0_11ea_b569_309c234564f5row1_col8,#T_b6c64e1a_fac0_11ea_b569_309c234564f5row2_col8,#T_b6c64e1a_fac0_11ea_b569_309c234564f5row3_col8,#T_b6c64e1a_fac0_11ea_b569_309c234564f5row4_col8,#T_b6c64e1a_fac0_11ea_b569_309c234564f5row5_col8,#T_b6c64e1a_fac0_11ea_b569_309c234564f5row6_col8,#T_b6c64e1a_fac0_11ea_b569_309c234564f5row7_col8,#T_b6c64e1a_fac0_11ea_b569_309c234564f5row8_col8,#T_b6c64e1a_fac0_11ea_b569_309c234564f5row9_col8,#T_b6c64e1a_fac0_11ea_b569_309c234564f5row10_col8,#T_b6c64e1a_fac0_11ea_b569_309c234564f5row11_col8,#T_b6c64e1a_fac0_11ea_b569_309c234564f5row12_col8,#T_b6c64e1a_fac0_11ea_b569_309c234564f5row13_col8,#T_b6c64e1a_fac0_11ea_b569_309c234564f5row14_col8{\n",
       "            background-color:  lightgrey;\n",
       "            text-align:  left;\n",
       "        }</style><table id=\"T_b6c64e1a_fac0_11ea_b569_309c234564f5\" ><thead>    <tr>        <th class=\"blank level0\" ></th>        <th class=\"col_heading level0 col0\" >Model</th>        <th class=\"col_heading level0 col1\" >Accuracy</th>        <th class=\"col_heading level0 col2\" >AUC</th>        <th class=\"col_heading level0 col3\" >Recall</th>        <th class=\"col_heading level0 col4\" >Prec.</th>        <th class=\"col_heading level0 col5\" >F1</th>        <th class=\"col_heading level0 col6\" >Kappa</th>        <th class=\"col_heading level0 col7\" >MCC</th>        <th class=\"col_heading level0 col8\" >TT (Sec)</th>    </tr></thead><tbody>\n",
       "                <tr>\n",
       "                        <th id=\"T_b6c64e1a_fac0_11ea_b569_309c234564f5level0_row0\" class=\"row_heading level0 row0\" >0</th>\n",
       "                        <td id=\"T_b6c64e1a_fac0_11ea_b569_309c234564f5row0_col0\" class=\"data row0 col0\" >CatBoost Classifier</td>\n",
       "                        <td id=\"T_b6c64e1a_fac0_11ea_b569_309c234564f5row0_col1\" class=\"data row0 col1\" >0.8618</td>\n",
       "                        <td id=\"T_b6c64e1a_fac0_11ea_b569_309c234564f5row0_col2\" class=\"data row0 col2\" >0.8248</td>\n",
       "                        <td id=\"T_b6c64e1a_fac0_11ea_b569_309c234564f5row0_col3\" class=\"data row0 col3\" >0.2454</td>\n",
       "                        <td id=\"T_b6c64e1a_fac0_11ea_b569_309c234564f5row0_col4\" class=\"data row0 col4\" >0.5784</td>\n",
       "                        <td id=\"T_b6c64e1a_fac0_11ea_b569_309c234564f5row0_col5\" class=\"data row0 col5\" >0.3445</td>\n",
       "                        <td id=\"T_b6c64e1a_fac0_11ea_b569_309c234564f5row0_col6\" class=\"data row0 col6\" >0.2811</td>\n",
       "                        <td id=\"T_b6c64e1a_fac0_11ea_b569_309c234564f5row0_col7\" class=\"data row0 col7\" >0.3136</td>\n",
       "                        <td id=\"T_b6c64e1a_fac0_11ea_b569_309c234564f5row0_col8\" class=\"data row0 col8\" >28.0920</td>\n",
       "            </tr>\n",
       "            <tr>\n",
       "                        <th id=\"T_b6c64e1a_fac0_11ea_b569_309c234564f5level0_row1\" class=\"row_heading level0 row1\" >1</th>\n",
       "                        <td id=\"T_b6c64e1a_fac0_11ea_b569_309c234564f5row1_col0\" class=\"data row1 col0\" >Light Gradient Boosting Machine</td>\n",
       "                        <td id=\"T_b6c64e1a_fac0_11ea_b569_309c234564f5row1_col1\" class=\"data row1 col1\" >0.8558</td>\n",
       "                        <td id=\"T_b6c64e1a_fac0_11ea_b569_309c234564f5row1_col2\" class=\"data row1 col2\" >0.8187</td>\n",
       "                        <td id=\"T_b6c64e1a_fac0_11ea_b569_309c234564f5row1_col3\" class=\"data row1 col3\" >0.2853</td>\n",
       "                        <td id=\"T_b6c64e1a_fac0_11ea_b569_309c234564f5row1_col4\" class=\"data row1 col4\" >0.5238</td>\n",
       "                        <td id=\"T_b6c64e1a_fac0_11ea_b569_309c234564f5row1_col5\" class=\"data row1 col5\" >0.3693</td>\n",
       "                        <td id=\"T_b6c64e1a_fac0_11ea_b569_309c234564f5row1_col6\" class=\"data row1 col6\" >0.2958</td>\n",
       "                        <td id=\"T_b6c64e1a_fac0_11ea_b569_309c234564f5row1_col7\" class=\"data row1 col7\" >0.3133</td>\n",
       "                        <td id=\"T_b6c64e1a_fac0_11ea_b569_309c234564f5row1_col8\" class=\"data row1 col8\" >1.9531</td>\n",
       "            </tr>\n",
       "            <tr>\n",
       "                        <th id=\"T_b6c64e1a_fac0_11ea_b569_309c234564f5level0_row2\" class=\"row_heading level0 row2\" >2</th>\n",
       "                        <td id=\"T_b6c64e1a_fac0_11ea_b569_309c234564f5row2_col0\" class=\"data row2 col0\" >Extreme Gradient Boosting</td>\n",
       "                        <td id=\"T_b6c64e1a_fac0_11ea_b569_309c234564f5row2_col1\" class=\"data row2 col1\" >0.8570</td>\n",
       "                        <td id=\"T_b6c64e1a_fac0_11ea_b569_309c234564f5row2_col2\" class=\"data row2 col2\" >0.8172</td>\n",
       "                        <td id=\"T_b6c64e1a_fac0_11ea_b569_309c234564f5row2_col3\" class=\"data row2 col3\" >0.2699</td>\n",
       "                        <td id=\"T_b6c64e1a_fac0_11ea_b569_309c234564f5row2_col4\" class=\"data row2 col4\" >0.5336</td>\n",
       "                        <td id=\"T_b6c64e1a_fac0_11ea_b569_309c234564f5row2_col5\" class=\"data row2 col5\" >0.3584</td>\n",
       "                        <td id=\"T_b6c64e1a_fac0_11ea_b569_309c234564f5row2_col6\" class=\"data row2 col6\" >0.2876</td>\n",
       "                        <td id=\"T_b6c64e1a_fac0_11ea_b569_309c234564f5row2_col7\" class=\"data row2 col7\" >0.3088</td>\n",
       "                        <td id=\"T_b6c64e1a_fac0_11ea_b569_309c234564f5row2_col8\" class=\"data row2 col8\" >12.4670</td>\n",
       "            </tr>\n",
       "            <tr>\n",
       "                        <th id=\"T_b6c64e1a_fac0_11ea_b569_309c234564f5level0_row3\" class=\"row_heading level0 row3\" >3</th>\n",
       "                        <td id=\"T_b6c64e1a_fac0_11ea_b569_309c234564f5row3_col0\" class=\"data row3 col0\" >Gradient Boosting Classifier</td>\n",
       "                        <td id=\"T_b6c64e1a_fac0_11ea_b569_309c234564f5row3_col1\" class=\"data row3 col1\" >0.8035</td>\n",
       "                        <td id=\"T_b6c64e1a_fac0_11ea_b569_309c234564f5row3_col2\" class=\"data row3 col2\" >0.7988</td>\n",
       "                        <td id=\"T_b6c64e1a_fac0_11ea_b569_309c234564f5row3_col3\" class=\"data row3 col3\" >0.5386</td>\n",
       "                        <td id=\"T_b6c64e1a_fac0_11ea_b569_309c234564f5row3_col4\" class=\"data row3 col4\" >0.3834</td>\n",
       "                        <td id=\"T_b6c64e1a_fac0_11ea_b569_309c234564f5row3_col5\" class=\"data row3 col5\" >0.4479</td>\n",
       "                        <td id=\"T_b6c64e1a_fac0_11ea_b569_309c234564f5row3_col6\" class=\"data row3 col6\" >0.3325</td>\n",
       "                        <td id=\"T_b6c64e1a_fac0_11ea_b569_309c234564f5row3_col7\" class=\"data row3 col7\" >0.3396</td>\n",
       "                        <td id=\"T_b6c64e1a_fac0_11ea_b569_309c234564f5row3_col8\" class=\"data row3 col8\" >67.3126</td>\n",
       "            </tr>\n",
       "            <tr>\n",
       "                        <th id=\"T_b6c64e1a_fac0_11ea_b569_309c234564f5level0_row4\" class=\"row_heading level0 row4\" >4</th>\n",
       "                        <td id=\"T_b6c64e1a_fac0_11ea_b569_309c234564f5row4_col0\" class=\"data row4 col0\" >Extra Trees Classifier</td>\n",
       "                        <td id=\"T_b6c64e1a_fac0_11ea_b569_309c234564f5row4_col1\" class=\"data row4 col1\" >0.8472</td>\n",
       "                        <td id=\"T_b6c64e1a_fac0_11ea_b569_309c234564f5row4_col2\" class=\"data row4 col2\" >0.7856</td>\n",
       "                        <td id=\"T_b6c64e1a_fac0_11ea_b569_309c234564f5row4_col3\" class=\"data row4 col3\" >0.2623</td>\n",
       "                        <td id=\"T_b6c64e1a_fac0_11ea_b569_309c234564f5row4_col4\" class=\"data row4 col4\" >0.4709</td>\n",
       "                        <td id=\"T_b6c64e1a_fac0_11ea_b569_309c234564f5row4_col5\" class=\"data row4 col5\" >0.3369</td>\n",
       "                        <td id=\"T_b6c64e1a_fac0_11ea_b569_309c234564f5row4_col6\" class=\"data row4 col6\" >0.2584</td>\n",
       "                        <td id=\"T_b6c64e1a_fac0_11ea_b569_309c234564f5row4_col7\" class=\"data row4 col7\" >0.2725</td>\n",
       "                        <td id=\"T_b6c64e1a_fac0_11ea_b569_309c234564f5row4_col8\" class=\"data row4 col8\" >10.4168</td>\n",
       "            </tr>\n",
       "            <tr>\n",
       "                        <th id=\"T_b6c64e1a_fac0_11ea_b569_309c234564f5level0_row5\" class=\"row_heading level0 row5\" >5</th>\n",
       "                        <td id=\"T_b6c64e1a_fac0_11ea_b569_309c234564f5row5_col0\" class=\"data row5 col0\" >Linear Discriminant Analysis</td>\n",
       "                        <td id=\"T_b6c64e1a_fac0_11ea_b569_309c234564f5row5_col1\" class=\"data row5 col1\" >0.7019</td>\n",
       "                        <td id=\"T_b6c64e1a_fac0_11ea_b569_309c234564f5row5_col2\" class=\"data row5 col2\" >0.7813</td>\n",
       "                        <td id=\"T_b6c64e1a_fac0_11ea_b569_309c234564f5row5_col3\" class=\"data row5 col3\" >0.7332</td>\n",
       "                        <td id=\"T_b6c64e1a_fac0_11ea_b569_309c234564f5row5_col4\" class=\"data row5 col4\" >0.2957</td>\n",
       "                        <td id=\"T_b6c64e1a_fac0_11ea_b569_309c234564f5row5_col5\" class=\"data row5 col5\" >0.4214</td>\n",
       "                        <td id=\"T_b6c64e1a_fac0_11ea_b569_309c234564f5row5_col6\" class=\"data row5 col6\" >0.2666</td>\n",
       "                        <td id=\"T_b6c64e1a_fac0_11ea_b569_309c234564f5row5_col7\" class=\"data row5 col7\" >0.3166</td>\n",
       "                        <td id=\"T_b6c64e1a_fac0_11ea_b569_309c234564f5row5_col8\" class=\"data row5 col8\" >1.4714</td>\n",
       "            </tr>\n",
       "            <tr>\n",
       "                        <th id=\"T_b6c64e1a_fac0_11ea_b569_309c234564f5level0_row6\" class=\"row_heading level0 row6\" >6</th>\n",
       "                        <td id=\"T_b6c64e1a_fac0_11ea_b569_309c234564f5row6_col0\" class=\"data row6 col0\" >Logistic Regression</td>\n",
       "                        <td id=\"T_b6c64e1a_fac0_11ea_b569_309c234564f5row6_col1\" class=\"data row6 col1\" >0.7054</td>\n",
       "                        <td id=\"T_b6c64e1a_fac0_11ea_b569_309c234564f5row6_col2\" class=\"data row6 col2\" >0.7806</td>\n",
       "                        <td id=\"T_b6c64e1a_fac0_11ea_b569_309c234564f5row6_col3\" class=\"data row6 col3\" >0.7269</td>\n",
       "                        <td id=\"T_b6c64e1a_fac0_11ea_b569_309c234564f5row6_col4\" class=\"data row6 col4\" >0.2975</td>\n",
       "                        <td id=\"T_b6c64e1a_fac0_11ea_b569_309c234564f5row6_col5\" class=\"data row6 col5\" >0.4222</td>\n",
       "                        <td id=\"T_b6c64e1a_fac0_11ea_b569_309c234564f5row6_col6\" class=\"data row6 col6\" >0.2685</td>\n",
       "                        <td id=\"T_b6c64e1a_fac0_11ea_b569_309c234564f5row6_col7\" class=\"data row6 col7\" >0.3168</td>\n",
       "                        <td id=\"T_b6c64e1a_fac0_11ea_b569_309c234564f5row6_col8\" class=\"data row6 col8\" >2.8184</td>\n",
       "            </tr>\n",
       "            <tr>\n",
       "                        <th id=\"T_b6c64e1a_fac0_11ea_b569_309c234564f5level0_row7\" class=\"row_heading level0 row7\" >7</th>\n",
       "                        <td id=\"T_b6c64e1a_fac0_11ea_b569_309c234564f5row7_col0\" class=\"data row7 col0\" >Ada Boost Classifier</td>\n",
       "                        <td id=\"T_b6c64e1a_fac0_11ea_b569_309c234564f5row7_col1\" class=\"data row7 col1\" >0.7561</td>\n",
       "                        <td id=\"T_b6c64e1a_fac0_11ea_b569_309c234564f5row7_col2\" class=\"data row7 col2\" >0.7749</td>\n",
       "                        <td id=\"T_b6c64e1a_fac0_11ea_b569_309c234564f5row7_col3\" class=\"data row7 col3\" >0.5987</td>\n",
       "                        <td id=\"T_b6c64e1a_fac0_11ea_b569_309c234564f5row7_col4\" class=\"data row7 col4\" >0.3245</td>\n",
       "                        <td id=\"T_b6c64e1a_fac0_11ea_b569_309c234564f5row7_col5\" class=\"data row7 col5\" >0.4209</td>\n",
       "                        <td id=\"T_b6c64e1a_fac0_11ea_b569_309c234564f5row7_col6\" class=\"data row7 col6\" >0.2833</td>\n",
       "                        <td id=\"T_b6c64e1a_fac0_11ea_b569_309c234564f5row7_col7\" class=\"data row7 col7\" >0.3046</td>\n",
       "                        <td id=\"T_b6c64e1a_fac0_11ea_b569_309c234564f5row7_col8\" class=\"data row7 col8\" >15.4735</td>\n",
       "            </tr>\n",
       "            <tr>\n",
       "                        <th id=\"T_b6c64e1a_fac0_11ea_b569_309c234564f5level0_row8\" class=\"row_heading level0 row8\" >8</th>\n",
       "                        <td id=\"T_b6c64e1a_fac0_11ea_b569_309c234564f5row8_col0\" class=\"data row8 col0\" >Random Forest Classifier</td>\n",
       "                        <td id=\"T_b6c64e1a_fac0_11ea_b569_309c234564f5row8_col1\" class=\"data row8 col1\" >0.8382</td>\n",
       "                        <td id=\"T_b6c64e1a_fac0_11ea_b569_309c234564f5row8_col2\" class=\"data row8 col2\" >0.7612</td>\n",
       "                        <td id=\"T_b6c64e1a_fac0_11ea_b569_309c234564f5row8_col3\" class=\"data row8 col3\" >0.2900</td>\n",
       "                        <td id=\"T_b6c64e1a_fac0_11ea_b569_309c234564f5row8_col4\" class=\"data row8 col4\" >0.4308</td>\n",
       "                        <td id=\"T_b6c64e1a_fac0_11ea_b569_309c234564f5row8_col5\" class=\"data row8 col5\" >0.3466</td>\n",
       "                        <td id=\"T_b6c64e1a_fac0_11ea_b569_309c234564f5row8_col6\" class=\"data row8 col6\" >0.2583</td>\n",
       "                        <td id=\"T_b6c64e1a_fac0_11ea_b569_309c234564f5row8_col7\" class=\"data row8 col7\" >0.2649</td>\n",
       "                        <td id=\"T_b6c64e1a_fac0_11ea_b569_309c234564f5row8_col8\" class=\"data row8 col8\" >1.0322</td>\n",
       "            </tr>\n",
       "            <tr>\n",
       "                        <th id=\"T_b6c64e1a_fac0_11ea_b569_309c234564f5level0_row9\" class=\"row_heading level0 row9\" >9</th>\n",
       "                        <td id=\"T_b6c64e1a_fac0_11ea_b569_309c234564f5row9_col0\" class=\"data row9 col0\" >Naive Bayes</td>\n",
       "                        <td id=\"T_b6c64e1a_fac0_11ea_b569_309c234564f5row9_col1\" class=\"data row9 col1\" >0.5007</td>\n",
       "                        <td id=\"T_b6c64e1a_fac0_11ea_b569_309c234564f5row9_col2\" class=\"data row9 col2\" >0.7320</td>\n",
       "                        <td id=\"T_b6c64e1a_fac0_11ea_b569_309c234564f5row9_col3\" class=\"data row9 col3\" >0.8342</td>\n",
       "                        <td id=\"T_b6c64e1a_fac0_11ea_b569_309c234564f5row9_col4\" class=\"data row9 col4\" >0.2064</td>\n",
       "                        <td id=\"T_b6c64e1a_fac0_11ea_b569_309c234564f5row9_col5\" class=\"data row9 col5\" >0.3310</td>\n",
       "                        <td id=\"T_b6c64e1a_fac0_11ea_b569_309c234564f5row9_col6\" class=\"data row9 col6\" >0.1228</td>\n",
       "                        <td id=\"T_b6c64e1a_fac0_11ea_b569_309c234564f5row9_col7\" class=\"data row9 col7\" >0.2006</td>\n",
       "                        <td id=\"T_b6c64e1a_fac0_11ea_b569_309c234564f5row9_col8\" class=\"data row9 col8\" >0.1683</td>\n",
       "            </tr>\n",
       "            <tr>\n",
       "                        <th id=\"T_b6c64e1a_fac0_11ea_b569_309c234564f5level0_row10\" class=\"row_heading level0 row10\" >10</th>\n",
       "                        <td id=\"T_b6c64e1a_fac0_11ea_b569_309c234564f5row10_col0\" class=\"data row10 col0\" >K Neighbors Classifier</td>\n",
       "                        <td id=\"T_b6c64e1a_fac0_11ea_b569_309c234564f5row10_col1\" class=\"data row10 col1\" >0.6752</td>\n",
       "                        <td id=\"T_b6c64e1a_fac0_11ea_b569_309c234564f5row10_col2\" class=\"data row10 col2\" >0.7141</td>\n",
       "                        <td id=\"T_b6c64e1a_fac0_11ea_b569_309c234564f5row10_col3\" class=\"data row10 col3\" >0.6559</td>\n",
       "                        <td id=\"T_b6c64e1a_fac0_11ea_b569_309c234564f5row10_col4\" class=\"data row10 col4\" >0.2618</td>\n",
       "                        <td id=\"T_b6c64e1a_fac0_11ea_b569_309c234564f5row10_col5\" class=\"data row10 col5\" >0.3742</td>\n",
       "                        <td id=\"T_b6c64e1a_fac0_11ea_b569_309c234564f5row10_col6\" class=\"data row10 col6\" >0.2062</td>\n",
       "                        <td id=\"T_b6c64e1a_fac0_11ea_b569_309c234564f5row10_col7\" class=\"data row10 col7\" >0.2459</td>\n",
       "                        <td id=\"T_b6c64e1a_fac0_11ea_b569_309c234564f5row10_col8\" class=\"data row10 col8\" >40.5727</td>\n",
       "            </tr>\n",
       "            <tr>\n",
       "                        <th id=\"T_b6c64e1a_fac0_11ea_b569_309c234564f5level0_row11\" class=\"row_heading level0 row11\" >11</th>\n",
       "                        <td id=\"T_b6c64e1a_fac0_11ea_b569_309c234564f5row11_col0\" class=\"data row11 col0\" >Quadratic Discriminant Analysis</td>\n",
       "                        <td id=\"T_b6c64e1a_fac0_11ea_b569_309c234564f5row11_col1\" class=\"data row11 col1\" >0.5895</td>\n",
       "                        <td id=\"T_b6c64e1a_fac0_11ea_b569_309c234564f5row11_col2\" class=\"data row11 col2\" >0.7126</td>\n",
       "                        <td id=\"T_b6c64e1a_fac0_11ea_b569_309c234564f5row11_col3\" class=\"data row11 col3\" >0.7518</td>\n",
       "                        <td id=\"T_b6c64e1a_fac0_11ea_b569_309c234564f5row11_col4\" class=\"data row11 col4\" >0.2308</td>\n",
       "                        <td id=\"T_b6c64e1a_fac0_11ea_b569_309c234564f5row11_col5\" class=\"data row11 col5\" >0.3524</td>\n",
       "                        <td id=\"T_b6c64e1a_fac0_11ea_b569_309c234564f5row11_col6\" class=\"data row11 col6\" >0.1628</td>\n",
       "                        <td id=\"T_b6c64e1a_fac0_11ea_b569_309c234564f5row11_col7\" class=\"data row11 col7\" >0.2237</td>\n",
       "                        <td id=\"T_b6c64e1a_fac0_11ea_b569_309c234564f5row11_col8\" class=\"data row11 col8\" >0.6934</td>\n",
       "            </tr>\n",
       "            <tr>\n",
       "                        <th id=\"T_b6c64e1a_fac0_11ea_b569_309c234564f5level0_row12\" class=\"row_heading level0 row12\" >12</th>\n",
       "                        <td id=\"T_b6c64e1a_fac0_11ea_b569_309c234564f5row12_col0\" class=\"data row12 col0\" >Decision Tree Classifier</td>\n",
       "                        <td id=\"T_b6c64e1a_fac0_11ea_b569_309c234564f5row12_col1\" class=\"data row12 col1\" >0.7703</td>\n",
       "                        <td id=\"T_b6c64e1a_fac0_11ea_b569_309c234564f5row12_col2\" class=\"data row12 col2\" >0.6147</td>\n",
       "                        <td id=\"T_b6c64e1a_fac0_11ea_b569_309c234564f5row12_col3\" class=\"data row12 col3\" >0.3938</td>\n",
       "                        <td id=\"T_b6c64e1a_fac0_11ea_b569_309c234564f5row12_col4\" class=\"data row12 col4\" >0.2941</td>\n",
       "                        <td id=\"T_b6c64e1a_fac0_11ea_b569_309c234564f5row12_col5\" class=\"data row12 col5\" >0.3367</td>\n",
       "                        <td id=\"T_b6c64e1a_fac0_11ea_b569_309c234564f5row12_col6\" class=\"data row12 col6\" >0.2013</td>\n",
       "                        <td id=\"T_b6c64e1a_fac0_11ea_b569_309c234564f5row12_col7\" class=\"data row12 col7\" >0.2044</td>\n",
       "                        <td id=\"T_b6c64e1a_fac0_11ea_b569_309c234564f5row12_col8\" class=\"data row12 col8\" >4.2512</td>\n",
       "            </tr>\n",
       "            <tr>\n",
       "                        <th id=\"T_b6c64e1a_fac0_11ea_b569_309c234564f5level0_row13\" class=\"row_heading level0 row13\" >13</th>\n",
       "                        <td id=\"T_b6c64e1a_fac0_11ea_b569_309c234564f5row13_col0\" class=\"data row13 col0\" >SVM - Linear Kernel</td>\n",
       "                        <td id=\"T_b6c64e1a_fac0_11ea_b569_309c234564f5row13_col1\" class=\"data row13 col1\" >0.6840</td>\n",
       "                        <td id=\"T_b6c64e1a_fac0_11ea_b569_309c234564f5row13_col2\" class=\"data row13 col2\" >0.0000</td>\n",
       "                        <td id=\"T_b6c64e1a_fac0_11ea_b569_309c234564f5row13_col3\" class=\"data row13 col3\" >0.7556</td>\n",
       "                        <td id=\"T_b6c64e1a_fac0_11ea_b569_309c234564f5row13_col4\" class=\"data row13 col4\" >0.2859</td>\n",
       "                        <td id=\"T_b6c64e1a_fac0_11ea_b569_309c234564f5row13_col5\" class=\"data row13 col5\" >0.4147</td>\n",
       "                        <td id=\"T_b6c64e1a_fac0_11ea_b569_309c234564f5row13_col6\" class=\"data row13 col6\" >0.2545</td>\n",
       "                        <td id=\"T_b6c64e1a_fac0_11ea_b569_309c234564f5row13_col7\" class=\"data row13 col7\" >0.3110</td>\n",
       "                        <td id=\"T_b6c64e1a_fac0_11ea_b569_309c234564f5row13_col8\" class=\"data row13 col8\" >0.9110</td>\n",
       "            </tr>\n",
       "            <tr>\n",
       "                        <th id=\"T_b6c64e1a_fac0_11ea_b569_309c234564f5level0_row14\" class=\"row_heading level0 row14\" >14</th>\n",
       "                        <td id=\"T_b6c64e1a_fac0_11ea_b569_309c234564f5row14_col0\" class=\"data row14 col0\" >Ridge Classifier</td>\n",
       "                        <td id=\"T_b6c64e1a_fac0_11ea_b569_309c234564f5row14_col1\" class=\"data row14 col1\" >0.7018</td>\n",
       "                        <td id=\"T_b6c64e1a_fac0_11ea_b569_309c234564f5row14_col2\" class=\"data row14 col2\" >0.0000</td>\n",
       "                        <td id=\"T_b6c64e1a_fac0_11ea_b569_309c234564f5row14_col3\" class=\"data row14 col3\" >0.7331</td>\n",
       "                        <td id=\"T_b6c64e1a_fac0_11ea_b569_309c234564f5row14_col4\" class=\"data row14 col4\" >0.2956</td>\n",
       "                        <td id=\"T_b6c64e1a_fac0_11ea_b569_309c234564f5row14_col5\" class=\"data row14 col5\" >0.4213</td>\n",
       "                        <td id=\"T_b6c64e1a_fac0_11ea_b569_309c234564f5row14_col6\" class=\"data row14 col6\" >0.2666</td>\n",
       "                        <td id=\"T_b6c64e1a_fac0_11ea_b569_309c234564f5row14_col7\" class=\"data row14 col7\" >0.3165</td>\n",
       "                        <td id=\"T_b6c64e1a_fac0_11ea_b569_309c234564f5row14_col8\" class=\"data row14 col8\" >0.2336</td>\n",
       "            </tr>\n",
       "    </tbody></table>"
      ],
      "text/plain": [
       "<pandas.io.formats.style.Styler at 0x242f1022320>"
      ]
     },
     "metadata": {},
     "output_type": "display_data"
    },
    {
     "data": {
      "text/plain": [
       "<catboost.core.CatBoostClassifier at 0x242f111e588>"
      ]
     },
     "execution_count": 33,
     "metadata": {},
     "output_type": "execute_result"
    }
   ],
   "source": [
    "model_results=compare_models(sort='AUC') #blacklist = ['tr','ransac'],'lar','par','huber','llar','lasso','en','ridge','omp','br','svm'])\n",
    "model_results"
   ]
  },
  {
   "cell_type": "markdown",
   "metadata": {},
   "source": [
    "## Create models "
   ]
  },
  {
   "cell_type": "markdown",
   "metadata": {},
   "source": [
    "### Naive Bayes Classifier"
   ]
  },
  {
   "cell_type": "code",
   "execution_count": 34,
   "metadata": {},
   "outputs": [
    {
     "data": {
      "text/html": [
       "<style  type=\"text/css\" >\n",
       "#T_c745621c_fac9_11ea_b358_309c234564f5row10_col0,#T_c745621c_fac9_11ea_b358_309c234564f5row10_col1,#T_c745621c_fac9_11ea_b358_309c234564f5row10_col2,#T_c745621c_fac9_11ea_b358_309c234564f5row10_col3,#T_c745621c_fac9_11ea_b358_309c234564f5row10_col4,#T_c745621c_fac9_11ea_b358_309c234564f5row10_col5,#T_c745621c_fac9_11ea_b358_309c234564f5row10_col6{\n",
       "            background:  yellow;\n",
       "        }</style><table id=\"T_c745621c_fac9_11ea_b358_309c234564f5\" ><thead>    <tr>        <th class=\"blank level0\" ></th>        <th class=\"col_heading level0 col0\" >Accuracy</th>        <th class=\"col_heading level0 col1\" >AUC</th>        <th class=\"col_heading level0 col2\" >Recall</th>        <th class=\"col_heading level0 col3\" >Prec.</th>        <th class=\"col_heading level0 col4\" >F1</th>        <th class=\"col_heading level0 col5\" >Kappa</th>        <th class=\"col_heading level0 col6\" >MCC</th>    </tr></thead><tbody>\n",
       "                <tr>\n",
       "                        <th id=\"T_c745621c_fac9_11ea_b358_309c234564f5level0_row0\" class=\"row_heading level0 row0\" >0</th>\n",
       "                        <td id=\"T_c745621c_fac9_11ea_b358_309c234564f5row0_col0\" class=\"data row0 col0\" >0.4995</td>\n",
       "                        <td id=\"T_c745621c_fac9_11ea_b358_309c234564f5row0_col1\" class=\"data row0 col1\" >0.7275</td>\n",
       "                        <td id=\"T_c745621c_fac9_11ea_b358_309c234564f5row0_col2\" class=\"data row0 col2\" >0.8305</td>\n",
       "                        <td id=\"T_c745621c_fac9_11ea_b358_309c234564f5row0_col3\" class=\"data row0 col3\" >0.2055</td>\n",
       "                        <td id=\"T_c745621c_fac9_11ea_b358_309c234564f5row0_col4\" class=\"data row0 col4\" >0.3295</td>\n",
       "                        <td id=\"T_c745621c_fac9_11ea_b358_309c234564f5row0_col5\" class=\"data row0 col5\" >0.1208</td>\n",
       "                        <td id=\"T_c745621c_fac9_11ea_b358_309c234564f5row0_col6\" class=\"data row0 col6\" >0.1974</td>\n",
       "            </tr>\n",
       "            <tr>\n",
       "                        <th id=\"T_c745621c_fac9_11ea_b358_309c234564f5level0_row1\" class=\"row_heading level0 row1\" >1</th>\n",
       "                        <td id=\"T_c745621c_fac9_11ea_b358_309c234564f5row1_col0\" class=\"data row1 col0\" >0.5014</td>\n",
       "                        <td id=\"T_c745621c_fac9_11ea_b358_309c234564f5row1_col1\" class=\"data row1 col1\" >0.7384</td>\n",
       "                        <td id=\"T_c745621c_fac9_11ea_b358_309c234564f5row1_col2\" class=\"data row1 col2\" >0.8451</td>\n",
       "                        <td id=\"T_c745621c_fac9_11ea_b358_309c234564f5row1_col3\" class=\"data row1 col3\" >0.2083</td>\n",
       "                        <td id=\"T_c745621c_fac9_11ea_b358_309c234564f5row1_col4\" class=\"data row1 col4\" >0.3342</td>\n",
       "                        <td id=\"T_c745621c_fac9_11ea_b358_309c234564f5row1_col5\" class=\"data row1 col5\" >0.1267</td>\n",
       "                        <td id=\"T_c745621c_fac9_11ea_b358_309c234564f5row1_col6\" class=\"data row1 col6\" >0.2080</td>\n",
       "            </tr>\n",
       "            <tr>\n",
       "                        <th id=\"T_c745621c_fac9_11ea_b358_309c234564f5level0_row2\" class=\"row_heading level0 row2\" >2</th>\n",
       "                        <td id=\"T_c745621c_fac9_11ea_b358_309c234564f5row2_col0\" class=\"data row2 col0\" >0.4997</td>\n",
       "                        <td id=\"T_c745621c_fac9_11ea_b358_309c234564f5row2_col1\" class=\"data row2 col1\" >0.7274</td>\n",
       "                        <td id=\"T_c745621c_fac9_11ea_b358_309c234564f5row2_col2\" class=\"data row2 col2\" >0.8216</td>\n",
       "                        <td id=\"T_c745621c_fac9_11ea_b358_309c234564f5row2_col3\" class=\"data row2 col3\" >0.2042</td>\n",
       "                        <td id=\"T_c745621c_fac9_11ea_b358_309c234564f5row2_col4\" class=\"data row2 col4\" >0.3271</td>\n",
       "                        <td id=\"T_c745621c_fac9_11ea_b358_309c234564f5row2_col5\" class=\"data row2 col5\" >0.1180</td>\n",
       "                        <td id=\"T_c745621c_fac9_11ea_b358_309c234564f5row2_col6\" class=\"data row2 col6\" >0.1920</td>\n",
       "            </tr>\n",
       "            <tr>\n",
       "                        <th id=\"T_c745621c_fac9_11ea_b358_309c234564f5level0_row3\" class=\"row_heading level0 row3\" >3</th>\n",
       "                        <td id=\"T_c745621c_fac9_11ea_b358_309c234564f5row3_col0\" class=\"data row3 col0\" >0.4974</td>\n",
       "                        <td id=\"T_c745621c_fac9_11ea_b358_309c234564f5row3_col1\" class=\"data row3 col1\" >0.7264</td>\n",
       "                        <td id=\"T_c745621c_fac9_11ea_b358_309c234564f5row3_col2\" class=\"data row3 col2\" >0.8343</td>\n",
       "                        <td id=\"T_c745621c_fac9_11ea_b358_309c234564f5row3_col3\" class=\"data row3 col3\" >0.2053</td>\n",
       "                        <td id=\"T_c745621c_fac9_11ea_b358_309c234564f5row3_col4\" class=\"data row3 col4\" >0.3296</td>\n",
       "                        <td id=\"T_c745621c_fac9_11ea_b358_309c234564f5row3_col5\" class=\"data row3 col5\" >0.1206</td>\n",
       "                        <td id=\"T_c745621c_fac9_11ea_b358_309c234564f5row3_col6\" class=\"data row3 col6\" >0.1982</td>\n",
       "            </tr>\n",
       "            <tr>\n",
       "                        <th id=\"T_c745621c_fac9_11ea_b358_309c234564f5level0_row4\" class=\"row_heading level0 row4\" >4</th>\n",
       "                        <td id=\"T_c745621c_fac9_11ea_b358_309c234564f5row4_col0\" class=\"data row4 col0\" >0.5075</td>\n",
       "                        <td id=\"T_c745621c_fac9_11ea_b358_309c234564f5row4_col1\" class=\"data row4 col1\" >0.7350</td>\n",
       "                        <td id=\"T_c745621c_fac9_11ea_b358_309c234564f5row4_col2\" class=\"data row4 col2\" >0.8413</td>\n",
       "                        <td id=\"T_c745621c_fac9_11ea_b358_309c234564f5row4_col3\" class=\"data row4 col3\" >0.2099</td>\n",
       "                        <td id=\"T_c745621c_fac9_11ea_b358_309c234564f5row4_col4\" class=\"data row4 col4\" >0.3359</td>\n",
       "                        <td id=\"T_c745621c_fac9_11ea_b358_309c234564f5row4_col5\" class=\"data row4 col5\" >0.1297</td>\n",
       "                        <td id=\"T_c745621c_fac9_11ea_b358_309c234564f5row4_col6\" class=\"data row4 col6\" >0.2103</td>\n",
       "            </tr>\n",
       "            <tr>\n",
       "                        <th id=\"T_c745621c_fac9_11ea_b358_309c234564f5level0_row5\" class=\"row_heading level0 row5\" >5</th>\n",
       "                        <td id=\"T_c745621c_fac9_11ea_b358_309c234564f5row5_col0\" class=\"data row5 col0\" >0.4966</td>\n",
       "                        <td id=\"T_c745621c_fac9_11ea_b358_309c234564f5row5_col1\" class=\"data row5 col1\" >0.7393</td>\n",
       "                        <td id=\"T_c745621c_fac9_11ea_b358_309c234564f5row5_col2\" class=\"data row5 col2\" >0.8479</td>\n",
       "                        <td id=\"T_c745621c_fac9_11ea_b358_309c234564f5row5_col3\" class=\"data row5 col3\" >0.2069</td>\n",
       "                        <td id=\"T_c745621c_fac9_11ea_b358_309c234564f5row5_col4\" class=\"data row5 col4\" >0.3327</td>\n",
       "                        <td id=\"T_c745621c_fac9_11ea_b358_309c234564f5row5_col5\" class=\"data row5 col5\" >0.1244</td>\n",
       "                        <td id=\"T_c745621c_fac9_11ea_b358_309c234564f5row5_col6\" class=\"data row5 col6\" >0.2060</td>\n",
       "            </tr>\n",
       "            <tr>\n",
       "                        <th id=\"T_c745621c_fac9_11ea_b358_309c234564f5level0_row6\" class=\"row_heading level0 row6\" >6</th>\n",
       "                        <td id=\"T_c745621c_fac9_11ea_b358_309c234564f5row6_col0\" class=\"data row6 col0\" >0.5022</td>\n",
       "                        <td id=\"T_c745621c_fac9_11ea_b358_309c234564f5row6_col1\" class=\"data row6 col1\" >0.7265</td>\n",
       "                        <td id=\"T_c745621c_fac9_11ea_b358_309c234564f5row6_col2\" class=\"data row6 col2\" >0.8234</td>\n",
       "                        <td id=\"T_c745621c_fac9_11ea_b358_309c234564f5row6_col3\" class=\"data row6 col3\" >0.2054</td>\n",
       "                        <td id=\"T_c745621c_fac9_11ea_b358_309c234564f5row6_col4\" class=\"data row6 col4\" >0.3288</td>\n",
       "                        <td id=\"T_c745621c_fac9_11ea_b358_309c234564f5row6_col5\" class=\"data row6 col5\" >0.1203</td>\n",
       "                        <td id=\"T_c745621c_fac9_11ea_b358_309c234564f5row6_col6\" class=\"data row6 col6\" >0.1951</td>\n",
       "            </tr>\n",
       "            <tr>\n",
       "                        <th id=\"T_c745621c_fac9_11ea_b358_309c234564f5level0_row7\" class=\"row_heading level0 row7\" >7</th>\n",
       "                        <td id=\"T_c745621c_fac9_11ea_b358_309c234564f5row7_col0\" class=\"data row7 col0\" >0.4920</td>\n",
       "                        <td id=\"T_c745621c_fac9_11ea_b358_309c234564f5row7_col1\" class=\"data row7 col1\" >0.7277</td>\n",
       "                        <td id=\"T_c745621c_fac9_11ea_b358_309c234564f5row7_col2\" class=\"data row7 col2\" >0.8286</td>\n",
       "                        <td id=\"T_c745621c_fac9_11ea_b358_309c234564f5row7_col3\" class=\"data row7 col3\" >0.2027</td>\n",
       "                        <td id=\"T_c745621c_fac9_11ea_b358_309c234564f5row7_col4\" class=\"data row7 col4\" >0.3257</td>\n",
       "                        <td id=\"T_c745621c_fac9_11ea_b358_309c234564f5row7_col5\" class=\"data row7 col5\" >0.1152</td>\n",
       "                        <td id=\"T_c745621c_fac9_11ea_b358_309c234564f5row7_col6\" class=\"data row7 col6\" >0.1905</td>\n",
       "            </tr>\n",
       "            <tr>\n",
       "                        <th id=\"T_c745621c_fac9_11ea_b358_309c234564f5level0_row8\" class=\"row_heading level0 row8\" >8</th>\n",
       "                        <td id=\"T_c745621c_fac9_11ea_b358_309c234564f5row8_col0\" class=\"data row8 col0\" >0.5060</td>\n",
       "                        <td id=\"T_c745621c_fac9_11ea_b358_309c234564f5row8_col1\" class=\"data row8 col1\" >0.7272</td>\n",
       "                        <td id=\"T_c745621c_fac9_11ea_b358_309c234564f5row8_col2\" class=\"data row8 col2\" >0.8249</td>\n",
       "                        <td id=\"T_c745621c_fac9_11ea_b358_309c234564f5row8_col3\" class=\"data row8 col3\" >0.2069</td>\n",
       "                        <td id=\"T_c745621c_fac9_11ea_b358_309c234564f5row8_col4\" class=\"data row8 col4\" >0.3308</td>\n",
       "                        <td id=\"T_c745621c_fac9_11ea_b358_309c234564f5row8_col5\" class=\"data row8 col5\" >0.1233</td>\n",
       "                        <td id=\"T_c745621c_fac9_11ea_b358_309c234564f5row8_col6\" class=\"data row8 col6\" >0.1989</td>\n",
       "            </tr>\n",
       "            <tr>\n",
       "                        <th id=\"T_c745621c_fac9_11ea_b358_309c234564f5level0_row9\" class=\"row_heading level0 row9\" >9</th>\n",
       "                        <td id=\"T_c745621c_fac9_11ea_b358_309c234564f5row9_col0\" class=\"data row9 col0\" >0.5046</td>\n",
       "                        <td id=\"T_c745621c_fac9_11ea_b358_309c234564f5row9_col1\" class=\"data row9 col1\" >0.7443</td>\n",
       "                        <td id=\"T_c745621c_fac9_11ea_b358_309c234564f5row9_col2\" class=\"data row9 col2\" >0.8446</td>\n",
       "                        <td id=\"T_c745621c_fac9_11ea_b358_309c234564f5row9_col3\" class=\"data row9 col3\" >0.2093</td>\n",
       "                        <td id=\"T_c745621c_fac9_11ea_b358_309c234564f5row9_col4\" class=\"data row9 col4\" >0.3355</td>\n",
       "                        <td id=\"T_c745621c_fac9_11ea_b358_309c234564f5row9_col5\" class=\"data row9 col5\" >0.1287</td>\n",
       "                        <td id=\"T_c745621c_fac9_11ea_b358_309c234564f5row9_col6\" class=\"data row9 col6\" >0.2101</td>\n",
       "            </tr>\n",
       "            <tr>\n",
       "                        <th id=\"T_c745621c_fac9_11ea_b358_309c234564f5level0_row10\" class=\"row_heading level0 row10\" >Mean</th>\n",
       "                        <td id=\"T_c745621c_fac9_11ea_b358_309c234564f5row10_col0\" class=\"data row10 col0\" >0.5007</td>\n",
       "                        <td id=\"T_c745621c_fac9_11ea_b358_309c234564f5row10_col1\" class=\"data row10 col1\" >0.7320</td>\n",
       "                        <td id=\"T_c745621c_fac9_11ea_b358_309c234564f5row10_col2\" class=\"data row10 col2\" >0.8342</td>\n",
       "                        <td id=\"T_c745621c_fac9_11ea_b358_309c234564f5row10_col3\" class=\"data row10 col3\" >0.2064</td>\n",
       "                        <td id=\"T_c745621c_fac9_11ea_b358_309c234564f5row10_col4\" class=\"data row10 col4\" >0.3310</td>\n",
       "                        <td id=\"T_c745621c_fac9_11ea_b358_309c234564f5row10_col5\" class=\"data row10 col5\" >0.1228</td>\n",
       "                        <td id=\"T_c745621c_fac9_11ea_b358_309c234564f5row10_col6\" class=\"data row10 col6\" >0.2006</td>\n",
       "            </tr>\n",
       "            <tr>\n",
       "                        <th id=\"T_c745621c_fac9_11ea_b358_309c234564f5level0_row11\" class=\"row_heading level0 row11\" >SD</th>\n",
       "                        <td id=\"T_c745621c_fac9_11ea_b358_309c234564f5row11_col0\" class=\"data row11 col0\" >0.0044</td>\n",
       "                        <td id=\"T_c745621c_fac9_11ea_b358_309c234564f5row11_col1\" class=\"data row11 col1\" >0.0063</td>\n",
       "                        <td id=\"T_c745621c_fac9_11ea_b358_309c234564f5row11_col2\" class=\"data row11 col2\" >0.0093</td>\n",
       "                        <td id=\"T_c745621c_fac9_11ea_b358_309c234564f5row11_col3\" class=\"data row11 col3\" >0.0021</td>\n",
       "                        <td id=\"T_c745621c_fac9_11ea_b358_309c234564f5row11_col4\" class=\"data row11 col4\" >0.0033</td>\n",
       "                        <td id=\"T_c745621c_fac9_11ea_b358_309c234564f5row11_col5\" class=\"data row11 col5\" >0.0044</td>\n",
       "                        <td id=\"T_c745621c_fac9_11ea_b358_309c234564f5row11_col6\" class=\"data row11 col6\" >0.0070</td>\n",
       "            </tr>\n",
       "    </tbody></table>"
      ],
      "text/plain": [
       "<pandas.io.formats.style.Styler at 0x242f1237748>"
      ]
     },
     "metadata": {},
     "output_type": "display_data"
    }
   ],
   "source": [
    "nb = create_model('nb', fold=10)"
   ]
  },
  {
   "cell_type": "markdown",
   "metadata": {},
   "source": [
    "## Evaluate Models"
   ]
  },
  {
   "cell_type": "code",
   "execution_count": 35,
   "metadata": {},
   "outputs": [
    {
     "data": {
      "image/png": "[encoded data removed]",
      "text/plain": [
       "<Figure size 576x396 with 1 Axes>"
      ]
     },
     "metadata": {},
     "output_type": "display_data"
    }
   ],
   "source": [
    "plot_model(nb)"
   ]
  },
  {
   "cell_type": "code",
   "execution_count": 36,
   "metadata": {},
   "outputs": [],
   "source": [
    "#plot_model(nb, plot = 'threshold')"
   ]
  },
  {
   "cell_type": "code",
   "execution_count": 37,
   "metadata": {},
   "outputs": [
    {
     "data": {
      "image/png": "[encoded data removed]",
      "text/plain": [
       "<Figure size 576x396 with 1 Axes>"
      ]
     },
     "metadata": {},
     "output_type": "display_data"
    }
   ],
   "source": [
    "plot_model(nb, plot = 'pr')"
   ]
  },
  {
   "cell_type": "code",
   "execution_count": 38,
   "metadata": {},
   "outputs": [
    {
     "data": {
      "image/png": "[encoded data removed]",
      "text/plain": [
       "<Figure size 576x396 with 1 Axes>"
      ]
     },
     "metadata": {},
     "output_type": "display_data"
    }
   ],
   "source": [
    "plot_model(nb, plot='confusion_matrix')"
   ]
  },
  {
   "cell_type": "code",
   "execution_count": 39,
   "metadata": {},
   "outputs": [
    {
     "data": {
      "image/png": "[encoded data removed]",
      "text/plain": [
       "<Figure size 576x396 with 1 Axes>"
      ]
     },
     "metadata": {},
     "output_type": "display_data"
    }
   ],
   "source": [
    "plot_model(nb, plot = 'error')"
   ]
  },
  {
   "cell_type": "code",
   "execution_count": 40,
   "metadata": {},
   "outputs": [
    {
     "data": {
      "image/png": "[encoded data removed]",
      "text/plain": [
       "<Figure size 576x396 with 2 Axes>"
      ]
     },
     "metadata": {},
     "output_type": "display_data"
    }
   ],
   "source": [
    "plot_model(nb, plot = 'class_report')"
   ]
  },
  {
   "cell_type": "code",
   "execution_count": 42,
   "metadata": {},
   "outputs": [
    {
     "data": {
      "image/png": "[encoded data removed]",
      "text/plain": [
       "<Figure size 576x396 with 1 Axes>"
      ]
     },
     "metadata": {},
     "output_type": "display_data"
    }
   ],
   "source": [
    "plot_model(nb, plot = 'boundary')"
   ]
  },
  {
   "cell_type": "code",
   "execution_count": 43,
   "metadata": {},
   "outputs": [],
   "source": [
    "#plot_model(nb, plot='learning')"
   ]
  },
  {
   "cell_type": "code",
   "execution_count": 44,
   "metadata": {},
   "outputs": [],
   "source": [
    "#plot_model(nb, plot = 'manifold')"
   ]
  },
  {
   "cell_type": "code",
   "execution_count": 45,
   "metadata": {},
   "outputs": [],
   "source": [
    "#plot_model(nb, plot = 'calibration')"
   ]
  },
  {
   "cell_type": "code",
   "execution_count": 46,
   "metadata": {},
   "outputs": [],
   "source": [
    "#plot_model(nb, plot = 'vc')"
   ]
  },
  {
   "cell_type": "code",
   "execution_count": 47,
   "metadata": {},
   "outputs": [],
   "source": [
    "#plot_model(nb, plot='dimension')"
   ]
  },
  {
   "cell_type": "code",
   "execution_count": 48,
   "metadata": {},
   "outputs": [],
   "source": [
    "#plot_model(nb, plot = 'feature')"
   ]
  },
  {
   "cell_type": "code",
   "execution_count": 49,
   "metadata": {
    "scrolled": true
   },
   "outputs": [
    {
     "data": {
      "text/html": [
       "<div>\n",
       "<style scoped>\n",
       "    .dataframe tbody tr th:only-of-type {\n",
       "        vertical-align: middle;\n",
       "    }\n",
       "\n",
       "    .dataframe tbody tr th {\n",
       "        vertical-align: top;\n",
       "    }\n",
       "\n",
       "    .dataframe thead th {\n",
       "        text-align: right;\n",
       "    }\n",
       "</style>\n",
       "<table border=\"1\" class=\"dataframe\">\n",
       "  <thead>\n",
       "    <tr style=\"text-align: right;\">\n",
       "      <th></th>\n",
       "      <th>Parameters</th>\n",
       "    </tr>\n",
       "  </thead>\n",
       "  <tbody>\n",
       "    <tr>\n",
       "      <th>priors</th>\n",
       "      <td>NaN</td>\n",
       "    </tr>\n",
       "    <tr>\n",
       "      <th>var_smoothing</th>\n",
       "      <td>1.000000e-09</td>\n",
       "    </tr>\n",
       "  </tbody>\n",
       "</table>\n",
       "</div>"
      ],
      "text/plain": [
       "                 Parameters\n",
       "priors                  NaN\n",
       "var_smoothing  1.000000e-09"
      ]
     },
     "metadata": {},
     "output_type": "display_data"
    }
   ],
   "source": [
    "plot_model(nb, plot = 'parameter')"
   ]
  },
  {
   "cell_type": "markdown",
   "metadata": {},
   "source": [
    "# Predict models"
   ]
  },
  {
   "cell_type": "code",
   "execution_count": 50,
   "metadata": {
    "scrolled": true
   },
   "outputs": [
    {
     "data": {
      "text/html": [
       "<div>\n",
       "<style scoped>\n",
       "    .dataframe tbody tr th:only-of-type {\n",
       "        vertical-align: middle;\n",
       "    }\n",
       "\n",
       "    .dataframe tbody tr th {\n",
       "        vertical-align: top;\n",
       "    }\n",
       "\n",
       "    .dataframe thead th {\n",
       "        text-align: right;\n",
       "    }\n",
       "</style>\n",
       "<table border=\"1\" class=\"dataframe\">\n",
       "  <thead>\n",
       "    <tr style=\"text-align: right;\">\n",
       "      <th></th>\n",
       "      <th>Model</th>\n",
       "      <th>Accuracy</th>\n",
       "      <th>AUC</th>\n",
       "      <th>Recall</th>\n",
       "      <th>Prec.</th>\n",
       "      <th>F1</th>\n",
       "      <th>Kappa</th>\n",
       "      <th>MCC</th>\n",
       "    </tr>\n",
       "  </thead>\n",
       "  <tbody>\n",
       "    <tr>\n",
       "      <th>0</th>\n",
       "      <td>Naive Bayes</td>\n",
       "      <td>0.6177</td>\n",
       "      <td>0.7414</td>\n",
       "      <td>0.7715</td>\n",
       "      <td>0.2469</td>\n",
       "      <td>0.3741</td>\n",
       "      <td>0.193</td>\n",
       "      <td>0.2582</td>\n",
       "    </tr>\n",
       "  </tbody>\n",
       "</table>\n",
       "</div>"
      ],
      "text/plain": [
       "         Model  Accuracy     AUC  Recall   Prec.      F1  Kappa     MCC\n",
       "0  Naive Bayes    0.6177  0.7414  0.7715  0.2469  0.3741  0.193  0.2582"
      ]
     },
     "metadata": {},
     "output_type": "display_data"
    }
   ],
   "source": [
    "predicted_et = predict_model(nb)"
   ]
  },
  {
   "cell_type": "markdown",
   "metadata": {},
   "source": [
    "# The golden moment... put 10% sample test data through the models..."
   ]
  },
  {
   "cell_type": "markdown",
   "metadata": {},
   "source": [
    "# Recombine test_features, test_target at first train/test/split\n",
    " This \"test\" set was split BEFORE Oversampling. PyCaret takes the \"train\" from this split and splits it internally again. Since we have no control of how PyCaret does this we needed to do a train/test split before we input the training set into PyCaret. Now we will recombine the test_features and test_target into one new df"
   ]
  },
  {
   "cell_type": "code",
   "execution_count": 51,
   "metadata": {},
   "outputs": [
    {
     "data": {
      "text/plain": [
       "(26633, 32)"
      ]
     },
     "execution_count": 51,
     "metadata": {},
     "output_type": "execute_result"
    }
   ],
   "source": [
    "test_features.shape"
   ]
  },
  {
   "cell_type": "code",
   "execution_count": 52,
   "metadata": {},
   "outputs": [
    {
     "data": {
      "text/plain": [
       "(26633,)"
      ]
     },
     "execution_count": 52,
     "metadata": {},
     "output_type": "execute_result"
    }
   ],
   "source": [
    "test_target.shape"
   ]
  },
  {
   "cell_type": "code",
   "execution_count": 53,
   "metadata": {},
   "outputs": [],
   "source": [
    "test_df = test_features.copy()"
   ]
  },
  {
   "cell_type": "code",
   "execution_count": 54,
   "metadata": {},
   "outputs": [],
   "source": [
    "test_df['zeroBalCode'] = test_target"
   ]
  },
  {
   "cell_type": "code",
   "execution_count": 55,
   "metadata": {},
   "outputs": [
    {
     "data": {
      "text/plain": [
       "(26633, 33)"
      ]
     },
     "execution_count": 55,
     "metadata": {},
     "output_type": "execute_result"
    }
   ],
   "source": [
    "test_df.shape"
   ]
  },
  {
   "cell_type": "code",
   "execution_count": 56,
   "metadata": {
    "scrolled": true
   },
   "outputs": [
    {
     "name": "stdout",
     "output_type": "stream",
     "text": [
      "#############################################\n",
      "This \"Test\" set has not been oversamplied\n",
      "0    22708\n",
      "1     3925\n",
      "Name: zeroBalCode, dtype: int64\n",
      "Positive samples are 14.74%\n"
     ]
    }
   ],
   "source": [
    "totalTestCount = test_df.zeroBalCode.value_counts().sum()\n",
    "posTestCount = test_df.zeroBalCode.value_counts()[1]\n",
    "print('#############################################')\n",
    "print('This \"Test\" set has not been oversamplied')\n",
    "print(test_df.zeroBalCode.value_counts())\n",
    "print(f'Positive samples are {round(posTestCount/totalTestCount*100,2)}%')"
   ]
  },
  {
   "cell_type": "markdown",
   "metadata": {},
   "source": [
    "## Create Confusion Matrix output functions"
   ]
  },
  {
   "cell_type": "code",
   "execution_count": 57,
   "metadata": {},
   "outputs": [],
   "source": [
    "def calc_confusion(row):\n",
    "    if ((row['zeroBalCode'] == 0) & (row['Label'] == 0)):\n",
    "        value = 'TrueNegative'\n",
    "    elif ((row['zeroBalCode'] == 0) & (row['Label'] == 1)):\n",
    "        value = 'FalsePositive'\n",
    "    elif ((row['zeroBalCode'] == 1) & (row['Label'] == 1)):\n",
    "        value = 'TruePositive'\n",
    "    elif ((row['zeroBalCode'] == 1) & (row['Label'] == 0)):\n",
    "        value = 'FalseNegative'\n",
    "    else:\n",
    "        value = 'Undefined'\n",
    "    return value"
   ]
  },
  {
   "cell_type": "code",
   "execution_count": 58,
   "metadata": {},
   "outputs": [],
   "source": [
    "def cM(df):\n",
    "    print(f'           ##############################')\n",
    "    print(f'           #             #              #')\n",
    "    print(f'         0 #    {df[\"TrueNegative\"]}     #     {df[\"FalsePositive\"]}      #')\n",
    "    print(f'  True     #             #              #')\n",
    "    print(f'  Class    ##############################')\n",
    "    print(f'           #             #              #')\n",
    "    print(f'         1 #    {df[\"FalseNegative\"]}      #     {df[\"TruePositive\"]}      #')\n",
    "    print(f'           #             #              #')\n",
    "    print(f'           ##############################')\n",
    "    print(f'                  0              1        ')\n",
    "    print(f'                  Predicted Class           ')\n"
   ]
  },
  {
   "cell_type": "code",
   "execution_count": 59,
   "metadata": {},
   "outputs": [],
   "source": [
    "def cMCalc():\n",
    "    # 0 or 2 = Predict equals truth, 1 = Predict doesn't equal truth\n",
    "    totalNegative = confusionMatrix['TrueNegative'] + confusionMatrix['FalseNegative']\n",
    "    totalPositive = confusionMatrix['TruePositive'] + confusionMatrix['FalsePositive']\n",
    "    total = totalNegative + totalPositive\n",
    "    trueNegativePct = confusionMatrix['TrueNegative'] / total * 100\n",
    "    falseNegativePct = confusionMatrix['FalseNegative'] / total * 100\n",
    "    truePositivePct = confusionMatrix['TruePositive'] / total * 100\n",
    "    falsePositivePct = confusionMatrix['FalsePositive'] / total * 100\n",
    "\n",
    "    # Accuracy Calculation\n",
    "    accuracy = (confusionMatrix['TruePositive'] + confusionMatrix['TrueNegative'])/(totalPositive + totalNegative)\n",
    "    # Recall Calculation\n",
    "    recall = (confusionMatrix['TruePositive']/(confusionMatrix['TruePositive'] + confusionMatrix['FalseNegative']))\n",
    "    # Precision Calculation\n",
    "    precision = (confusionMatrix['TruePositive']/(confusionMatrix['TruePositive'] + confusionMatrix['FalsePositive']))\n",
    "\n",
    "    print(f'TrueNegative:  {round(trueNegativePct,2)}%')\n",
    "    print(f'FalseNegative:  {round(falseNegativePct,2)}%')\n",
    "    print(f'TruePositive:   {round(truePositivePct,2)}%')\n",
    "    print(f'FalsePositive: {round(falsePositivePct,2)}%')\n",
    "    print(f'#####################################################')\n",
    "    print(f'Accuracy: {round(accuracy,2)*100}%   Recall: {round(recall,2)*100}%   Precision: {round(precision,2)*100}%')\n",
    "    print(f'#####################################################')"
   ]
  },
  {
   "cell_type": "markdown",
   "metadata": {},
   "source": [
    "# Evaluate Models"
   ]
  },
  {
   "cell_type": "markdown",
   "metadata": {},
   "source": [
    "# Naive Bayes Classifier"
   ]
  },
  {
   "cell_type": "code",
   "execution_count": 176,
   "metadata": {},
   "outputs": [
    {
     "data": {
      "text/html": [
       "<style  type=\"text/css\" >\n",
       "#T_88101680_fad9_11ea_954c_309c234564f5row10_col0,#T_88101680_fad9_11ea_954c_309c234564f5row10_col1,#T_88101680_fad9_11ea_954c_309c234564f5row10_col2,#T_88101680_fad9_11ea_954c_309c234564f5row10_col3,#T_88101680_fad9_11ea_954c_309c234564f5row10_col4,#T_88101680_fad9_11ea_954c_309c234564f5row10_col5,#T_88101680_fad9_11ea_954c_309c234564f5row10_col6{\n",
       "            background:  yellow;\n",
       "        }</style><table id=\"T_88101680_fad9_11ea_954c_309c234564f5\" ><thead>    <tr>        <th class=\"blank level0\" ></th>        <th class=\"col_heading level0 col0\" >Accuracy</th>        <th class=\"col_heading level0 col1\" >AUC</th>        <th class=\"col_heading level0 col2\" >Recall</th>        <th class=\"col_heading level0 col3\" >Prec.</th>        <th class=\"col_heading level0 col4\" >F1</th>        <th class=\"col_heading level0 col5\" >Kappa</th>        <th class=\"col_heading level0 col6\" >MCC</th>    </tr></thead><tbody>\n",
       "                <tr>\n",
       "                        <th id=\"T_88101680_fad9_11ea_954c_309c234564f5level0_row0\" class=\"row_heading level0 row0\" >0</th>\n",
       "                        <td id=\"T_88101680_fad9_11ea_954c_309c234564f5row0_col0\" class=\"data row0 col0\" >0.5997</td>\n",
       "                        <td id=\"T_88101680_fad9_11ea_954c_309c234564f5row0_col1\" class=\"data row0 col1\" >0.7389</td>\n",
       "                        <td id=\"T_88101680_fad9_11ea_954c_309c234564f5row0_col2\" class=\"data row0 col2\" >0.7566</td>\n",
       "                        <td id=\"T_88101680_fad9_11ea_954c_309c234564f5row0_col3\" class=\"data row0 col3\" >0.2352</td>\n",
       "                        <td id=\"T_88101680_fad9_11ea_954c_309c234564f5row0_col4\" class=\"data row0 col4\" >0.3589</td>\n",
       "                        <td id=\"T_88101680_fad9_11ea_954c_309c234564f5row0_col5\" class=\"data row0 col5\" >0.1718</td>\n",
       "                        <td id=\"T_88101680_fad9_11ea_954c_309c234564f5row0_col6\" class=\"data row0 col6\" >0.2340</td>\n",
       "            </tr>\n",
       "            <tr>\n",
       "                        <th id=\"T_88101680_fad9_11ea_954c_309c234564f5level0_row1\" class=\"row_heading level0 row1\" >1</th>\n",
       "                        <td id=\"T_88101680_fad9_11ea_954c_309c234564f5row1_col0\" class=\"data row1 col0\" >0.6060</td>\n",
       "                        <td id=\"T_88101680_fad9_11ea_954c_309c234564f5row1_col1\" class=\"data row1 col1\" >0.7492</td>\n",
       "                        <td id=\"T_88101680_fad9_11ea_954c_309c234564f5row1_col2\" class=\"data row1 col2\" >0.7820</td>\n",
       "                        <td id=\"T_88101680_fad9_11ea_954c_309c234564f5row1_col3\" class=\"data row1 col3\" >0.2424</td>\n",
       "                        <td id=\"T_88101680_fad9_11ea_954c_309c234564f5row1_col4\" class=\"data row1 col4\" >0.3701</td>\n",
       "                        <td id=\"T_88101680_fad9_11ea_954c_309c234564f5row1_col5\" class=\"data row1 col5\" >0.1862</td>\n",
       "                        <td id=\"T_88101680_fad9_11ea_954c_309c234564f5row1_col6\" class=\"data row1 col6\" >0.2541</td>\n",
       "            </tr>\n",
       "            <tr>\n",
       "                        <th id=\"T_88101680_fad9_11ea_954c_309c234564f5level0_row2\" class=\"row_heading level0 row2\" >2</th>\n",
       "                        <td id=\"T_88101680_fad9_11ea_954c_309c234564f5row2_col0\" class=\"data row2 col0\" >0.6023</td>\n",
       "                        <td id=\"T_88101680_fad9_11ea_954c_309c234564f5row2_col1\" class=\"data row2 col1\" >0.7402</td>\n",
       "                        <td id=\"T_88101680_fad9_11ea_954c_309c234564f5row2_col2\" class=\"data row2 col2\" >0.7528</td>\n",
       "                        <td id=\"T_88101680_fad9_11ea_954c_309c234564f5row2_col3\" class=\"data row2 col3\" >0.2358</td>\n",
       "                        <td id=\"T_88101680_fad9_11ea_954c_309c234564f5row2_col4\" class=\"data row2 col4\" >0.3592</td>\n",
       "                        <td id=\"T_88101680_fad9_11ea_954c_309c234564f5row2_col5\" class=\"data row2 col5\" >0.1726</td>\n",
       "                        <td id=\"T_88101680_fad9_11ea_954c_309c234564f5row2_col6\" class=\"data row2 col6\" >0.2340</td>\n",
       "            </tr>\n",
       "            <tr>\n",
       "                        <th id=\"T_88101680_fad9_11ea_954c_309c234564f5level0_row3\" class=\"row_heading level0 row3\" >3</th>\n",
       "                        <td id=\"T_88101680_fad9_11ea_954c_309c234564f5row3_col0\" class=\"data row3 col0\" >0.6005</td>\n",
       "                        <td id=\"T_88101680_fad9_11ea_954c_309c234564f5row3_col1\" class=\"data row3 col1\" >0.7358</td>\n",
       "                        <td id=\"T_88101680_fad9_11ea_954c_309c234564f5row3_col2\" class=\"data row3 col2\" >0.7669</td>\n",
       "                        <td id=\"T_88101680_fad9_11ea_954c_309c234564f5row3_col3\" class=\"data row3 col3\" >0.2373</td>\n",
       "                        <td id=\"T_88101680_fad9_11ea_954c_309c234564f5row3_col4\" class=\"data row3 col4\" >0.3624</td>\n",
       "                        <td id=\"T_88101680_fad9_11ea_954c_309c234564f5row3_col5\" class=\"data row3 col5\" >0.1761</td>\n",
       "                        <td id=\"T_88101680_fad9_11ea_954c_309c234564f5row3_col6\" class=\"data row3 col6\" >0.2407</td>\n",
       "            </tr>\n",
       "            <tr>\n",
       "                        <th id=\"T_88101680_fad9_11ea_954c_309c234564f5level0_row4\" class=\"row_heading level0 row4\" >4</th>\n",
       "                        <td id=\"T_88101680_fad9_11ea_954c_309c234564f5row4_col0\" class=\"data row4 col0\" >0.6115</td>\n",
       "                        <td id=\"T_88101680_fad9_11ea_954c_309c234564f5row4_col1\" class=\"data row4 col1\" >0.7472</td>\n",
       "                        <td id=\"T_88101680_fad9_11ea_954c_309c234564f5row4_col2\" class=\"data row4 col2\" >0.7792</td>\n",
       "                        <td id=\"T_88101680_fad9_11ea_954c_309c234564f5row4_col3\" class=\"data row4 col3\" >0.2449</td>\n",
       "                        <td id=\"T_88101680_fad9_11ea_954c_309c234564f5row4_col4\" class=\"data row4 col4\" >0.3726</td>\n",
       "                        <td id=\"T_88101680_fad9_11ea_954c_309c234564f5row4_col5\" class=\"data row4 col5\" >0.1902</td>\n",
       "                        <td id=\"T_88101680_fad9_11ea_954c_309c234564f5row4_col6\" class=\"data row4 col6\" >0.2573</td>\n",
       "            </tr>\n",
       "            <tr>\n",
       "                        <th id=\"T_88101680_fad9_11ea_954c_309c234564f5level0_row5\" class=\"row_heading level0 row5\" >5</th>\n",
       "                        <td id=\"T_88101680_fad9_11ea_954c_309c234564f5row5_col0\" class=\"data row5 col0\" >0.6024</td>\n",
       "                        <td id=\"T_88101680_fad9_11ea_954c_309c234564f5row5_col1\" class=\"data row5 col1\" >0.7501</td>\n",
       "                        <td id=\"T_88101680_fad9_11ea_954c_309c234564f5row5_col2\" class=\"data row5 col2\" >0.7843</td>\n",
       "                        <td id=\"T_88101680_fad9_11ea_954c_309c234564f5row5_col3\" class=\"data row5 col3\" >0.2410</td>\n",
       "                        <td id=\"T_88101680_fad9_11ea_954c_309c234564f5row5_col4\" class=\"data row5 col4\" >0.3686</td>\n",
       "                        <td id=\"T_88101680_fad9_11ea_954c_309c234564f5row5_col5\" class=\"data row5 col5\" >0.1839</td>\n",
       "                        <td id=\"T_88101680_fad9_11ea_954c_309c234564f5row5_col6\" class=\"data row5 col6\" >0.2524</td>\n",
       "            </tr>\n",
       "            <tr>\n",
       "                        <th id=\"T_88101680_fad9_11ea_954c_309c234564f5level0_row6\" class=\"row_heading level0 row6\" >6</th>\n",
       "                        <td id=\"T_88101680_fad9_11ea_954c_309c234564f5row6_col0\" class=\"data row6 col0\" >0.6004</td>\n",
       "                        <td id=\"T_88101680_fad9_11ea_954c_309c234564f5row6_col1\" class=\"data row6 col1\" >0.7389</td>\n",
       "                        <td id=\"T_88101680_fad9_11ea_954c_309c234564f5row6_col2\" class=\"data row6 col2\" >0.7613</td>\n",
       "                        <td id=\"T_88101680_fad9_11ea_954c_309c234564f5row6_col3\" class=\"data row6 col3\" >0.2363</td>\n",
       "                        <td id=\"T_88101680_fad9_11ea_954c_309c234564f5row6_col4\" class=\"data row6 col4\" >0.3607</td>\n",
       "                        <td id=\"T_88101680_fad9_11ea_954c_309c234564f5row6_col5\" class=\"data row6 col5\" >0.1740</td>\n",
       "                        <td id=\"T_88101680_fad9_11ea_954c_309c234564f5row6_col6\" class=\"data row6 col6\" >0.2373</td>\n",
       "            </tr>\n",
       "            <tr>\n",
       "                        <th id=\"T_88101680_fad9_11ea_954c_309c234564f5level0_row7\" class=\"row_heading level0 row7\" >7</th>\n",
       "                        <td id=\"T_88101680_fad9_11ea_954c_309c234564f5row7_col0\" class=\"data row7 col0\" >0.5954</td>\n",
       "                        <td id=\"T_88101680_fad9_11ea_954c_309c234564f5row7_col1\" class=\"data row7 col1\" >0.7393</td>\n",
       "                        <td id=\"T_88101680_fad9_11ea_954c_309c234564f5row7_col2\" class=\"data row7 col2\" >0.7646</td>\n",
       "                        <td id=\"T_88101680_fad9_11ea_954c_309c234564f5row7_col3\" class=\"data row7 col3\" >0.2344</td>\n",
       "                        <td id=\"T_88101680_fad9_11ea_954c_309c234564f5row7_col4\" class=\"data row7 col4\" >0.3588</td>\n",
       "                        <td id=\"T_88101680_fad9_11ea_954c_309c234564f5row7_col5\" class=\"data row7 col5\" >0.1709</td>\n",
       "                        <td id=\"T_88101680_fad9_11ea_954c_309c234564f5row7_col6\" class=\"data row7 col6\" >0.2350</td>\n",
       "            </tr>\n",
       "            <tr>\n",
       "                        <th id=\"T_88101680_fad9_11ea_954c_309c234564f5level0_row8\" class=\"row_heading level0 row8\" >8</th>\n",
       "                        <td id=\"T_88101680_fad9_11ea_954c_309c234564f5row8_col0\" class=\"data row8 col0\" >0.6072</td>\n",
       "                        <td id=\"T_88101680_fad9_11ea_954c_309c234564f5row8_col1\" class=\"data row8 col1\" >0.7410</td>\n",
       "                        <td id=\"T_88101680_fad9_11ea_954c_309c234564f5row8_col2\" class=\"data row8 col2\" >0.7646</td>\n",
       "                        <td id=\"T_88101680_fad9_11ea_954c_309c234564f5row8_col3\" class=\"data row8 col3\" >0.2403</td>\n",
       "                        <td id=\"T_88101680_fad9_11ea_954c_309c234564f5row8_col4\" class=\"data row8 col4\" >0.3656</td>\n",
       "                        <td id=\"T_88101680_fad9_11ea_954c_309c234564f5row8_col5\" class=\"data row8 col5\" >0.1811</td>\n",
       "                        <td id=\"T_88101680_fad9_11ea_954c_309c234564f5row8_col6\" class=\"data row8 col6\" >0.2451</td>\n",
       "            </tr>\n",
       "            <tr>\n",
       "                        <th id=\"T_88101680_fad9_11ea_954c_309c234564f5level0_row9\" class=\"row_heading level0 row9\" >9</th>\n",
       "                        <td id=\"T_88101680_fad9_11ea_954c_309c234564f5row9_col0\" class=\"data row9 col0\" >0.6102</td>\n",
       "                        <td id=\"T_88101680_fad9_11ea_954c_309c234564f5row9_col1\" class=\"data row9 col1\" >0.7556</td>\n",
       "                        <td id=\"T_88101680_fad9_11ea_954c_309c234564f5row9_col2\" class=\"data row9 col2\" >0.7877</td>\n",
       "                        <td id=\"T_88101680_fad9_11ea_954c_309c234564f5row9_col3\" class=\"data row9 col3\" >0.2455</td>\n",
       "                        <td id=\"T_88101680_fad9_11ea_954c_309c234564f5row9_col4\" class=\"data row9 col4\" >0.3744</td>\n",
       "                        <td id=\"T_88101680_fad9_11ea_954c_309c234564f5row9_col5\" class=\"data row9 col5\" >0.1919</td>\n",
       "                        <td id=\"T_88101680_fad9_11ea_954c_309c234564f5row9_col6\" class=\"data row9 col6\" >0.2610</td>\n",
       "            </tr>\n",
       "            <tr>\n",
       "                        <th id=\"T_88101680_fad9_11ea_954c_309c234564f5level0_row10\" class=\"row_heading level0 row10\" >Mean</th>\n",
       "                        <td id=\"T_88101680_fad9_11ea_954c_309c234564f5row10_col0\" class=\"data row10 col0\" >0.6036</td>\n",
       "                        <td id=\"T_88101680_fad9_11ea_954c_309c234564f5row10_col1\" class=\"data row10 col1\" >0.7436</td>\n",
       "                        <td id=\"T_88101680_fad9_11ea_954c_309c234564f5row10_col2\" class=\"data row10 col2\" >0.7700</td>\n",
       "                        <td id=\"T_88101680_fad9_11ea_954c_309c234564f5row10_col3\" class=\"data row10 col3\" >0.2393</td>\n",
       "                        <td id=\"T_88101680_fad9_11ea_954c_309c234564f5row10_col4\" class=\"data row10 col4\" >0.3651</td>\n",
       "                        <td id=\"T_88101680_fad9_11ea_954c_309c234564f5row10_col5\" class=\"data row10 col5\" >0.1799</td>\n",
       "                        <td id=\"T_88101680_fad9_11ea_954c_309c234564f5row10_col6\" class=\"data row10 col6\" >0.2451</td>\n",
       "            </tr>\n",
       "            <tr>\n",
       "                        <th id=\"T_88101680_fad9_11ea_954c_309c234564f5level0_row11\" class=\"row_heading level0 row11\" >SD</th>\n",
       "                        <td id=\"T_88101680_fad9_11ea_954c_309c234564f5row11_col0\" class=\"data row11 col0\" >0.0048</td>\n",
       "                        <td id=\"T_88101680_fad9_11ea_954c_309c234564f5row11_col1\" class=\"data row11 col1\" >0.0061</td>\n",
       "                        <td id=\"T_88101680_fad9_11ea_954c_309c234564f5row11_col2\" class=\"data row11 col2\" >0.0117</td>\n",
       "                        <td id=\"T_88101680_fad9_11ea_954c_309c234564f5row11_col3\" class=\"data row11 col3\" >0.0039</td>\n",
       "                        <td id=\"T_88101680_fad9_11ea_954c_309c234564f5row11_col4\" class=\"data row11 col4\" >0.0057</td>\n",
       "                        <td id=\"T_88101680_fad9_11ea_954c_309c234564f5row11_col5\" class=\"data row11 col5\" >0.0074</td>\n",
       "                        <td id=\"T_88101680_fad9_11ea_954c_309c234564f5row11_col6\" class=\"data row11 col6\" >0.0098</td>\n",
       "            </tr>\n",
       "    </tbody></table>"
      ],
      "text/plain": [
       "<pandas.io.formats.style.Styler at 0x24281596c18>"
      ]
     },
     "metadata": {},
     "output_type": "display_data"
    }
   ],
   "source": [
    "tuned_nb = tune_model(nb, optimize = 'AUC')"
   ]
  },
  {
   "cell_type": "code",
   "execution_count": 177,
   "metadata": {},
   "outputs": [
    {
     "data": {
      "text/html": [
       "<style  type=\"text/css\" >\n",
       "#T_0d584236_fada_11ea_a044_309c234564f5row10_col0,#T_0d584236_fada_11ea_a044_309c234564f5row10_col1,#T_0d584236_fada_11ea_a044_309c234564f5row10_col2,#T_0d584236_fada_11ea_a044_309c234564f5row10_col3,#T_0d584236_fada_11ea_a044_309c234564f5row10_col4,#T_0d584236_fada_11ea_a044_309c234564f5row10_col5,#T_0d584236_fada_11ea_a044_309c234564f5row10_col6{\n",
       "            background:  yellow;\n",
       "        }</style><table id=\"T_0d584236_fada_11ea_a044_309c234564f5\" ><thead>    <tr>        <th class=\"blank level0\" ></th>        <th class=\"col_heading level0 col0\" >Accuracy</th>        <th class=\"col_heading level0 col1\" >AUC</th>        <th class=\"col_heading level0 col2\" >Recall</th>        <th class=\"col_heading level0 col3\" >Prec.</th>        <th class=\"col_heading level0 col4\" >F1</th>        <th class=\"col_heading level0 col5\" >Kappa</th>        <th class=\"col_heading level0 col6\" >MCC</th>    </tr></thead><tbody>\n",
       "                <tr>\n",
       "                        <th id=\"T_0d584236_fada_11ea_a044_309c234564f5level0_row0\" class=\"row_heading level0 row0\" >0</th>\n",
       "                        <td id=\"T_0d584236_fada_11ea_a044_309c234564f5row0_col0\" class=\"data row0 col0\" >0.6232</td>\n",
       "                        <td id=\"T_0d584236_fada_11ea_a044_309c234564f5row0_col1\" class=\"data row0 col1\" >0.7390</td>\n",
       "                        <td id=\"T_0d584236_fada_11ea_a044_309c234564f5row0_col2\" class=\"data row0 col2\" >0.7345</td>\n",
       "                        <td id=\"T_0d584236_fada_11ea_a044_309c234564f5row0_col3\" class=\"data row0 col3\" >0.2437</td>\n",
       "                        <td id=\"T_0d584236_fada_11ea_a044_309c234564f5row0_col4\" class=\"data row0 col4\" >0.3660</td>\n",
       "                        <td id=\"T_0d584236_fada_11ea_a044_309c234564f5row0_col5\" class=\"data row0 col5\" >0.1847</td>\n",
       "                        <td id=\"T_0d584236_fada_11ea_a044_309c234564f5row0_col6\" class=\"data row0 col6\" >0.2418</td>\n",
       "            </tr>\n",
       "            <tr>\n",
       "                        <th id=\"T_0d584236_fada_11ea_a044_309c234564f5level0_row1\" class=\"row_heading level0 row1\" >1</th>\n",
       "                        <td id=\"T_0d584236_fada_11ea_a044_309c234564f5row1_col0\" class=\"data row1 col0\" >0.6307</td>\n",
       "                        <td id=\"T_0d584236_fada_11ea_a044_309c234564f5row1_col1\" class=\"data row1 col1\" >0.7493</td>\n",
       "                        <td id=\"T_0d584236_fada_11ea_a044_309c234564f5row1_col2\" class=\"data row1 col2\" >0.7613</td>\n",
       "                        <td id=\"T_0d584236_fada_11ea_a044_309c234564f5row1_col3\" class=\"data row1 col3\" >0.2523</td>\n",
       "                        <td id=\"T_0d584236_fada_11ea_a044_309c234564f5row1_col4\" class=\"data row1 col4\" >0.3790</td>\n",
       "                        <td id=\"T_0d584236_fada_11ea_a044_309c234564f5row1_col5\" class=\"data row1 col5\" >0.2014</td>\n",
       "                        <td id=\"T_0d584236_fada_11ea_a044_309c234564f5row1_col6\" class=\"data row1 col6\" >0.2638</td>\n",
       "            </tr>\n",
       "            <tr>\n",
       "                        <th id=\"T_0d584236_fada_11ea_a044_309c234564f5level0_row2\" class=\"row_heading level0 row2\" >2</th>\n",
       "                        <td id=\"T_0d584236_fada_11ea_a044_309c234564f5row2_col0\" class=\"data row2 col0\" >0.6291</td>\n",
       "                        <td id=\"T_0d584236_fada_11ea_a044_309c234564f5row2_col1\" class=\"data row2 col1\" >0.7403</td>\n",
       "                        <td id=\"T_0d584236_fada_11ea_a044_309c234564f5row2_col2\" class=\"data row2 col2\" >0.7387</td>\n",
       "                        <td id=\"T_0d584236_fada_11ea_a044_309c234564f5row2_col3\" class=\"data row2 col3\" >0.2477</td>\n",
       "                        <td id=\"T_0d584236_fada_11ea_a044_309c234564f5row2_col4\" class=\"data row2 col4\" >0.3710</td>\n",
       "                        <td id=\"T_0d584236_fada_11ea_a044_309c234564f5row2_col5\" class=\"data row2 col5\" >0.1917</td>\n",
       "                        <td id=\"T_0d584236_fada_11ea_a044_309c234564f5row2_col6\" class=\"data row2 col6\" >0.2494</td>\n",
       "            </tr>\n",
       "            <tr>\n",
       "                        <th id=\"T_0d584236_fada_11ea_a044_309c234564f5level0_row3\" class=\"row_heading level0 row3\" >3</th>\n",
       "                        <td id=\"T_0d584236_fada_11ea_a044_309c234564f5row3_col0\" class=\"data row3 col0\" >0.6239</td>\n",
       "                        <td id=\"T_0d584236_fada_11ea_a044_309c234564f5row3_col1\" class=\"data row3 col1\" >0.7358</td>\n",
       "                        <td id=\"T_0d584236_fada_11ea_a044_309c234564f5row3_col2\" class=\"data row3 col2\" >0.7448</td>\n",
       "                        <td id=\"T_0d584236_fada_11ea_a044_309c234564f5row3_col3\" class=\"data row3 col3\" >0.2458</td>\n",
       "                        <td id=\"T_0d584236_fada_11ea_a044_309c234564f5row3_col4\" class=\"data row3 col4\" >0.3697</td>\n",
       "                        <td id=\"T_0d584236_fada_11ea_a044_309c234564f5row3_col5\" class=\"data row3 col5\" >0.1892</td>\n",
       "                        <td id=\"T_0d584236_fada_11ea_a044_309c234564f5row3_col6\" class=\"data row3 col6\" >0.2483</td>\n",
       "            </tr>\n",
       "            <tr>\n",
       "                        <th id=\"T_0d584236_fada_11ea_a044_309c234564f5level0_row4\" class=\"row_heading level0 row4\" >4</th>\n",
       "                        <td id=\"T_0d584236_fada_11ea_a044_309c234564f5row4_col0\" class=\"data row4 col0\" >0.6353</td>\n",
       "                        <td id=\"T_0d584236_fada_11ea_a044_309c234564f5row4_col1\" class=\"data row4 col1\" >0.7473</td>\n",
       "                        <td id=\"T_0d584236_fada_11ea_a044_309c234564f5row4_col2\" class=\"data row4 col2\" >0.7556</td>\n",
       "                        <td id=\"T_0d584236_fada_11ea_a044_309c234564f5row4_col3\" class=\"data row4 col3\" >0.2540</td>\n",
       "                        <td id=\"T_0d584236_fada_11ea_a044_309c234564f5row4_col4\" class=\"data row4 col4\" >0.3802</td>\n",
       "                        <td id=\"T_0d584236_fada_11ea_a044_309c234564f5row4_col5\" class=\"data row4 col5\" >0.2038</td>\n",
       "                        <td id=\"T_0d584236_fada_11ea_a044_309c234564f5row4_col6\" class=\"data row4 col6\" >0.2647</td>\n",
       "            </tr>\n",
       "            <tr>\n",
       "                        <th id=\"T_0d584236_fada_11ea_a044_309c234564f5level0_row5\" class=\"row_heading level0 row5\" >5</th>\n",
       "                        <td id=\"T_0d584236_fada_11ea_a044_309c234564f5row5_col0\" class=\"data row5 col0\" >0.6265</td>\n",
       "                        <td id=\"T_0d584236_fada_11ea_a044_309c234564f5row5_col1\" class=\"data row5 col1\" >0.7501</td>\n",
       "                        <td id=\"T_0d584236_fada_11ea_a044_309c234564f5row5_col2\" class=\"data row5 col2\" >0.7569</td>\n",
       "                        <td id=\"T_0d584236_fada_11ea_a044_309c234564f5row5_col3\" class=\"data row5 col3\" >0.2492</td>\n",
       "                        <td id=\"T_0d584236_fada_11ea_a044_309c234564f5row5_col4\" class=\"data row5 col4\" >0.3749</td>\n",
       "                        <td id=\"T_0d584236_fada_11ea_a044_309c234564f5row5_col5\" class=\"data row5 col5\" >0.1959</td>\n",
       "                        <td id=\"T_0d584236_fada_11ea_a044_309c234564f5row5_col6\" class=\"data row5 col6\" >0.2575</td>\n",
       "            </tr>\n",
       "            <tr>\n",
       "                        <th id=\"T_0d584236_fada_11ea_a044_309c234564f5level0_row6\" class=\"row_heading level0 row6\" >6</th>\n",
       "                        <td id=\"T_0d584236_fada_11ea_a044_309c234564f5row6_col0\" class=\"data row6 col0\" >0.6260</td>\n",
       "                        <td id=\"T_0d584236_fada_11ea_a044_309c234564f5row6_col1\" class=\"data row6 col1\" >0.7389</td>\n",
       "                        <td id=\"T_0d584236_fada_11ea_a044_309c234564f5row6_col2\" class=\"data row6 col2\" >0.7392</td>\n",
       "                        <td id=\"T_0d584236_fada_11ea_a044_309c234564f5row6_col3\" class=\"data row6 col3\" >0.2460</td>\n",
       "                        <td id=\"T_0d584236_fada_11ea_a044_309c234564f5row6_col4\" class=\"data row6 col4\" >0.3692</td>\n",
       "                        <td id=\"T_0d584236_fada_11ea_a044_309c234564f5row6_col5\" class=\"data row6 col5\" >0.1890</td>\n",
       "                        <td id=\"T_0d584236_fada_11ea_a044_309c234564f5row6_col6\" class=\"data row6 col6\" >0.2469</td>\n",
       "            </tr>\n",
       "            <tr>\n",
       "                        <th id=\"T_0d584236_fada_11ea_a044_309c234564f5level0_row7\" class=\"row_heading level0 row7\" >7</th>\n",
       "                        <td id=\"T_0d584236_fada_11ea_a044_309c234564f5row7_col0\" class=\"data row7 col0\" >0.6227</td>\n",
       "                        <td id=\"T_0d584236_fada_11ea_a044_309c234564f5row7_col1\" class=\"data row7 col1\" >0.7393</td>\n",
       "                        <td id=\"T_0d584236_fada_11ea_a044_309c234564f5row7_col2\" class=\"data row7 col2\" >0.7382</td>\n",
       "                        <td id=\"T_0d584236_fada_11ea_a044_309c234564f5row7_col3\" class=\"data row7 col3\" >0.2440</td>\n",
       "                        <td id=\"T_0d584236_fada_11ea_a044_309c234564f5row7_col4\" class=\"data row7 col4\" >0.3668</td>\n",
       "                        <td id=\"T_0d584236_fada_11ea_a044_309c234564f5row7_col5\" class=\"data row7 col5\" >0.1856</td>\n",
       "                        <td id=\"T_0d584236_fada_11ea_a044_309c234564f5row7_col6\" class=\"data row7 col6\" >0.2434</td>\n",
       "            </tr>\n",
       "            <tr>\n",
       "                        <th id=\"T_0d584236_fada_11ea_a044_309c234564f5level0_row8\" class=\"row_heading level0 row8\" >8</th>\n",
       "                        <td id=\"T_0d584236_fada_11ea_a044_309c234564f5row8_col0\" class=\"data row8 col0\" >0.6316</td>\n",
       "                        <td id=\"T_0d584236_fada_11ea_a044_309c234564f5row8_col1\" class=\"data row8 col1\" >0.7410</td>\n",
       "                        <td id=\"T_0d584236_fada_11ea_a044_309c234564f5row8_col2\" class=\"data row8 col2\" >0.7425</td>\n",
       "                        <td id=\"T_0d584236_fada_11ea_a044_309c234564f5row8_col3\" class=\"data row8 col3\" >0.2498</td>\n",
       "                        <td id=\"T_0d584236_fada_11ea_a044_309c234564f5row8_col4\" class=\"data row8 col4\" >0.3738</td>\n",
       "                        <td id=\"T_0d584236_fada_11ea_a044_309c234564f5row8_col5\" class=\"data row8 col5\" >0.1955</td>\n",
       "                        <td id=\"T_0d584236_fada_11ea_a044_309c234564f5row8_col6\" class=\"data row8 col6\" >0.2539</td>\n",
       "            </tr>\n",
       "            <tr>\n",
       "                        <th id=\"T_0d584236_fada_11ea_a044_309c234564f5level0_row9\" class=\"row_heading level0 row9\" >9</th>\n",
       "                        <td id=\"T_0d584236_fada_11ea_a044_309c234564f5row9_col0\" class=\"data row9 col0\" >0.6344</td>\n",
       "                        <td id=\"T_0d584236_fada_11ea_a044_309c234564f5row9_col1\" class=\"data row9 col1\" >0.7556</td>\n",
       "                        <td id=\"T_0d584236_fada_11ea_a044_309c234564f5row9_col2\" class=\"data row9 col2\" >0.7637</td>\n",
       "                        <td id=\"T_0d584236_fada_11ea_a044_309c234564f5row9_col3\" class=\"data row9 col3\" >0.2548</td>\n",
       "                        <td id=\"T_0d584236_fada_11ea_a044_309c234564f5row9_col4\" class=\"data row9 col4\" >0.3821</td>\n",
       "                        <td id=\"T_0d584236_fada_11ea_a044_309c234564f5row9_col5\" class=\"data row9 col5\" >0.2058</td>\n",
       "                        <td id=\"T_0d584236_fada_11ea_a044_309c234564f5row9_col6\" class=\"data row9 col6\" >0.2685</td>\n",
       "            </tr>\n",
       "            <tr>\n",
       "                        <th id=\"T_0d584236_fada_11ea_a044_309c234564f5level0_row10\" class=\"row_heading level0 row10\" >Mean</th>\n",
       "                        <td id=\"T_0d584236_fada_11ea_a044_309c234564f5row10_col0\" class=\"data row10 col0\" >0.6283</td>\n",
       "                        <td id=\"T_0d584236_fada_11ea_a044_309c234564f5row10_col1\" class=\"data row10 col1\" >0.7437</td>\n",
       "                        <td id=\"T_0d584236_fada_11ea_a044_309c234564f5row10_col2\" class=\"data row10 col2\" >0.7475</td>\n",
       "                        <td id=\"T_0d584236_fada_11ea_a044_309c234564f5row10_col3\" class=\"data row10 col3\" >0.2487</td>\n",
       "                        <td id=\"T_0d584236_fada_11ea_a044_309c234564f5row10_col4\" class=\"data row10 col4\" >0.3733</td>\n",
       "                        <td id=\"T_0d584236_fada_11ea_a044_309c234564f5row10_col5\" class=\"data row10 col5\" >0.1943</td>\n",
       "                        <td id=\"T_0d584236_fada_11ea_a044_309c234564f5row10_col6\" class=\"data row10 col6\" >0.2538</td>\n",
       "            </tr>\n",
       "            <tr>\n",
       "                        <th id=\"T_0d584236_fada_11ea_a044_309c234564f5level0_row11\" class=\"row_heading level0 row11\" >SD</th>\n",
       "                        <td id=\"T_0d584236_fada_11ea_a044_309c234564f5row11_col0\" class=\"data row11 col0\" >0.0043</td>\n",
       "                        <td id=\"T_0d584236_fada_11ea_a044_309c234564f5row11_col1\" class=\"data row11 col1\" >0.0061</td>\n",
       "                        <td id=\"T_0d584236_fada_11ea_a044_309c234564f5row11_col2\" class=\"data row11 col2\" >0.0102</td>\n",
       "                        <td id=\"T_0d584236_fada_11ea_a044_309c234564f5row11_col3\" class=\"data row11 col3\" >0.0038</td>\n",
       "                        <td id=\"T_0d584236_fada_11ea_a044_309c234564f5row11_col4\" class=\"data row11 col4\" >0.0054</td>\n",
       "                        <td id=\"T_0d584236_fada_11ea_a044_309c234564f5row11_col5\" class=\"data row11 col5\" >0.0071</td>\n",
       "                        <td id=\"T_0d584236_fada_11ea_a044_309c234564f5row11_col6\" class=\"data row11 col6\" >0.0089</td>\n",
       "            </tr>\n",
       "    </tbody></table>"
      ],
      "text/plain": [
       "<pandas.io.formats.style.Styler at 0x24281596d30>"
      ]
     },
     "metadata": {},
     "output_type": "display_data"
    }
   ],
   "source": [
    "calibrated_nb = calibrate_model(tuned_nb)"
   ]
  },
  {
   "cell_type": "code",
   "execution_count": 140,
   "metadata": {},
   "outputs": [
    {
     "data": {
      "text/html": [
       "        <script type=\"text/javascript\">\n",
       "        window.PlotlyConfig = {MathJaxConfig: 'local'};\n",
       "        if (window.MathJax) {MathJax.Hub.Config({SVG: {font: \"STIX-Web\"}});}\n",
       "        if (typeof require !== 'undefined') {\n",
       "        require.undef(\"plotly\");\n",
       "        requirejs.config({\n",
       "            paths: {\n",
       "                'plotly': ['https://cdn.plot.ly/plotly-latest.min']\n",
       "            }\n",
       "        });\n",
       "        require(['plotly'], function(Plotly) {\n",
       "            window._Plotly = Plotly;\n",
       "        });\n",
       "        }\n",
       "        </script>\n",
       "        "
      ]
     },
     "metadata": {},
     "output_type": "display_data"
    },
    {
     "data": {
      "application/vnd.plotly.v1+json": {
       "config": {
        "plotlyServerURL": "https://plot.ly"
       },
       "data": [
        {
         "hovertemplate": "Probability Threshold=%{x}<br>Cost Function=%{y}<extra></extra>",
         "legendgroup": "",
         "line": {
          "color": "#636efa",
          "dash": "solid",
          "shape": "linear"
         },
         "mode": "lines",
         "name": "",
         "orientation": "v",
         "showlegend": false,
         "type": "scatter",
         "x": [
          0,
          0.01,
          0.02,
          0.03,
          0.04,
          0.05,
          0.06,
          0.07,
          0.08,
          0.09,
          0.1,
          0.11,
          0.12,
          0.13,
          0.14,
          0.15,
          0.16,
          0.17,
          0.18,
          0.19,
          0.2,
          0.21,
          0.22,
          0.23,
          0.24,
          0.25,
          0.26,
          0.27,
          0.28,
          0.29,
          0.3,
          0.31,
          0.32,
          0.33,
          0.34,
          0.35000000000000003,
          0.36,
          0.37,
          0.38,
          0.39,
          0.4,
          0.41000000000000003,
          0.42,
          0.43,
          0.44,
          0.45,
          0.46,
          0.47000000000000003,
          0.48,
          0.49,
          0.5,
          0.51,
          0.52,
          0.53,
          0.54,
          0.55,
          0.56,
          0.5700000000000001,
          0.58,
          0.59,
          0.6,
          0.61,
          0.62,
          0.63,
          0.64,
          0.65,
          0.66,
          0.67,
          0.68,
          0.6900000000000001,
          0.7000000000000001,
          0.71,
          0.72,
          0.73,
          0.74,
          0.75,
          0.76,
          0.77,
          0.78,
          0.79,
          0.8,
          0.81,
          0.8200000000000001,
          0.8300000000000001,
          0.84,
          0.85,
          0.86,
          0.87,
          0.88,
          0.89,
          0.9,
          0.91,
          0.92,
          0.93,
          0.9400000000000001,
          0.9500000000000001,
          0.96,
          0.97,
          0.98,
          0.99
         ],
         "xaxis": "x",
         "y": [
          0,
          14454000,
          14891000,
          15205000,
          15537000,
          15797000,
          16062000,
          16330000,
          16507000,
          16757000,
          16971000,
          17158000,
          17340000,
          17526000,
          17705000,
          17783000,
          17889000,
          18000000,
          18097000,
          18230000,
          18336000,
          18448000,
          18545000,
          18664000,
          18775000,
          18832000,
          18936000,
          19040000,
          19092000,
          19161000,
          19272000,
          19345000,
          19463000,
          19506000,
          19582000,
          19611000,
          19704000,
          19778000,
          19803000,
          19865000,
          19947000,
          20015000,
          20104000,
          20124000,
          20136000,
          20193000,
          20245000,
          20306000,
          20411000,
          20499000,
          20554000,
          20615000,
          20672000,
          20676000,
          20781000,
          20826000,
          20895000,
          20935000,
          21013000,
          21014000,
          21095000,
          21126000,
          21157000,
          21204000,
          21178000,
          21232000,
          21232000,
          21246000,
          21326000,
          21368000,
          21375000,
          21416000,
          21433000,
          21510000,
          21591000,
          21671000,
          21774000,
          21820000,
          21891000,
          21957000,
          21994000,
          21991000,
          21988000,
          22016000,
          22022000,
          22091000,
          22074000,
          22092000,
          22153000,
          22117000,
          22027000,
          22024000,
          22059000,
          22043000,
          22004000,
          21970000,
          21876000,
          21716000,
          21531000,
          21190000
         ],
         "yaxis": "y"
        }
       ],
       "layout": {
        "legend": {
         "tracegroupgap": 0
        },
        "margin": {
         "t": 60
        },
        "plot_bgcolor": "rgb(245,245,245)",
        "shapes": [
         {
          "line": {
           "color": "red",
           "width": 2
          },
          "type": "line",
          "x0": 0.88,
          "x1": 0.88,
          "y0": 0,
          "y1": 22153000
         }
        ],
        "template": {
         "data": {
          "bar": [
           {
            "error_x": {
             "color": "#2a3f5f"
            },
            "error_y": {
             "color": "#2a3f5f"
            },
            "marker": {
             "line": {
              "color": "#E5ECF6",
              "width": 0.5
             }
            },
            "type": "bar"
           }
          ],
          "barpolar": [
           {
            "marker": {
             "line": {
              "color": "#E5ECF6",
              "width": 0.5
             }
            },
            "type": "barpolar"
           }
          ],
          "carpet": [
           {
            "aaxis": {
             "endlinecolor": "#2a3f5f",
             "gridcolor": "white",
             "linecolor": "white",
             "minorgridcolor": "white",
             "startlinecolor": "#2a3f5f"
            },
            "baxis": {
             "endlinecolor": "#2a3f5f",
             "gridcolor": "white",
             "linecolor": "white",
             "minorgridcolor": "white",
             "startlinecolor": "#2a3f5f"
            },
            "type": "carpet"
           }
          ],
          "choropleth": [
           {
            "colorbar": {
             "outlinewidth": 0,
             "ticks": ""
            },
            "type": "choropleth"
           }
          ],
          "contour": [
           {
            "colorbar": {
             "outlinewidth": 0,
             "ticks": ""
            },
            "colorscale": [
             [
              0,
              "#0d0887"
             ],
             [
              0.1111111111111111,
              "#46039f"
             ],
             [
              0.2222222222222222,
              "#7201a8"
             ],
             [
              0.3333333333333333,
              "#9c179e"
             ],
             [
              0.4444444444444444,
              "#bd3786"
             ],
             [
              0.5555555555555556,
              "#d8576b"
             ],
             [
              0.6666666666666666,
              "#ed7953"
             ],
             [
              0.7777777777777778,
              "#fb9f3a"
             ],
             [
              0.8888888888888888,
              "#fdca26"
             ],
             [
              1,
              "#f0f921"
             ]
            ],
            "type": "contour"
           }
          ],
          "contourcarpet": [
           {
            "colorbar": {
             "outlinewidth": 0,
             "ticks": ""
            },
            "type": "contourcarpet"
           }
          ],
          "heatmap": [
           {
            "colorbar": {
             "outlinewidth": 0,
             "ticks": ""
            },
            "colorscale": [
             [
              0,
              "#0d0887"
             ],
             [
              0.1111111111111111,
              "#46039f"
             ],
             [
              0.2222222222222222,
              "#7201a8"
             ],
             [
              0.3333333333333333,
              "#9c179e"
             ],
             [
              0.4444444444444444,
              "#bd3786"
             ],
             [
              0.5555555555555556,
              "#d8576b"
             ],
             [
              0.6666666666666666,
              "#ed7953"
             ],
             [
              0.7777777777777778,
              "#fb9f3a"
             ],
             [
              0.8888888888888888,
              "#fdca26"
             ],
             [
              1,
              "#f0f921"
             ]
            ],
            "type": "heatmap"
           }
          ],
          "heatmapgl": [
           {
            "colorbar": {
             "outlinewidth": 0,
             "ticks": ""
            },
            "colorscale": [
             [
              0,
              "#0d0887"
             ],
             [
              0.1111111111111111,
              "#46039f"
             ],
             [
              0.2222222222222222,
              "#7201a8"
             ],
             [
              0.3333333333333333,
              "#9c179e"
             ],
             [
              0.4444444444444444,
              "#bd3786"
             ],
             [
              0.5555555555555556,
              "#d8576b"
             ],
             [
              0.6666666666666666,
              "#ed7953"
             ],
             [
              0.7777777777777778,
              "#fb9f3a"
             ],
             [
              0.8888888888888888,
              "#fdca26"
             ],
             [
              1,
              "#f0f921"
             ]
            ],
            "type": "heatmapgl"
           }
          ],
          "histogram": [
           {
            "marker": {
             "colorbar": {
              "outlinewidth": 0,
              "ticks": ""
             }
            },
            "type": "histogram"
           }
          ],
          "histogram2d": [
           {
            "colorbar": {
             "outlinewidth": 0,
             "ticks": ""
            },
            "colorscale": [
             [
              0,
              "#0d0887"
             ],
             [
              0.1111111111111111,
              "#46039f"
             ],
             [
              0.2222222222222222,
              "#7201a8"
             ],
             [
              0.3333333333333333,
              "#9c179e"
             ],
             [
              0.4444444444444444,
              "#bd3786"
             ],
             [
              0.5555555555555556,
              "#d8576b"
             ],
             [
              0.6666666666666666,
              "#ed7953"
             ],
             [
              0.7777777777777778,
              "#fb9f3a"
             ],
             [
              0.8888888888888888,
              "#fdca26"
             ],
             [
              1,
              "#f0f921"
             ]
            ],
            "type": "histogram2d"
           }
          ],
          "histogram2dcontour": [
           {
            "colorbar": {
             "outlinewidth": 0,
             "ticks": ""
            },
            "colorscale": [
             [
              0,
              "#0d0887"
             ],
             [
              0.1111111111111111,
              "#46039f"
             ],
             [
              0.2222222222222222,
              "#7201a8"
             ],
             [
              0.3333333333333333,
              "#9c179e"
             ],
             [
              0.4444444444444444,
              "#bd3786"
             ],
             [
              0.5555555555555556,
              "#d8576b"
             ],
             [
              0.6666666666666666,
              "#ed7953"
             ],
             [
              0.7777777777777778,
              "#fb9f3a"
             ],
             [
              0.8888888888888888,
              "#fdca26"
             ],
             [
              1,
              "#f0f921"
             ]
            ],
            "type": "histogram2dcontour"
           }
          ],
          "mesh3d": [
           {
            "colorbar": {
             "outlinewidth": 0,
             "ticks": ""
            },
            "type": "mesh3d"
           }
          ],
          "parcoords": [
           {
            "line": {
             "colorbar": {
              "outlinewidth": 0,
              "ticks": ""
             }
            },
            "type": "parcoords"
           }
          ],
          "pie": [
           {
            "automargin": true,
            "type": "pie"
           }
          ],
          "scatter": [
           {
            "marker": {
             "colorbar": {
              "outlinewidth": 0,
              "ticks": ""
             }
            },
            "type": "scatter"
           }
          ],
          "scatter3d": [
           {
            "line": {
             "colorbar": {
              "outlinewidth": 0,
              "ticks": ""
             }
            },
            "marker": {
             "colorbar": {
              "outlinewidth": 0,
              "ticks": ""
             }
            },
            "type": "scatter3d"
           }
          ],
          "scattercarpet": [
           {
            "marker": {
             "colorbar": {
              "outlinewidth": 0,
              "ticks": ""
             }
            },
            "type": "scattercarpet"
           }
          ],
          "scattergeo": [
           {
            "marker": {
             "colorbar": {
              "outlinewidth": 0,
              "ticks": ""
             }
            },
            "type": "scattergeo"
           }
          ],
          "scattergl": [
           {
            "marker": {
             "colorbar": {
              "outlinewidth": 0,
              "ticks": ""
             }
            },
            "type": "scattergl"
           }
          ],
          "scattermapbox": [
           {
            "marker": {
             "colorbar": {
              "outlinewidth": 0,
              "ticks": ""
             }
            },
            "type": "scattermapbox"
           }
          ],
          "scatterpolar": [
           {
            "marker": {
             "colorbar": {
              "outlinewidth": 0,
              "ticks": ""
             }
            },
            "type": "scatterpolar"
           }
          ],
          "scatterpolargl": [
           {
            "marker": {
             "colorbar": {
              "outlinewidth": 0,
              "ticks": ""
             }
            },
            "type": "scatterpolargl"
           }
          ],
          "scatterternary": [
           {
            "marker": {
             "colorbar": {
              "outlinewidth": 0,
              "ticks": ""
             }
            },
            "type": "scatterternary"
           }
          ],
          "surface": [
           {
            "colorbar": {
             "outlinewidth": 0,
             "ticks": ""
            },
            "colorscale": [
             [
              0,
              "#0d0887"
             ],
             [
              0.1111111111111111,
              "#46039f"
             ],
             [
              0.2222222222222222,
              "#7201a8"
             ],
             [
              0.3333333333333333,
              "#9c179e"
             ],
             [
              0.4444444444444444,
              "#bd3786"
             ],
             [
              0.5555555555555556,
              "#d8576b"
             ],
             [
              0.6666666666666666,
              "#ed7953"
             ],
             [
              0.7777777777777778,
              "#fb9f3a"
             ],
             [
              0.8888888888888888,
              "#fdca26"
             ],
             [
              1,
              "#f0f921"
             ]
            ],
            "type": "surface"
           }
          ],
          "table": [
           {
            "cells": {
             "fill": {
              "color": "#EBF0F8"
             },
             "line": {
              "color": "white"
             }
            },
            "header": {
             "fill": {
              "color": "#C8D4E3"
             },
             "line": {
              "color": "white"
             }
            },
            "type": "table"
           }
          ]
         },
         "layout": {
          "annotationdefaults": {
           "arrowcolor": "#2a3f5f",
           "arrowhead": 0,
           "arrowwidth": 1
          },
          "coloraxis": {
           "colorbar": {
            "outlinewidth": 0,
            "ticks": ""
           }
          },
          "colorscale": {
           "diverging": [
            [
             0,
             "#8e0152"
            ],
            [
             0.1,
             "#c51b7d"
            ],
            [
             0.2,
             "#de77ae"
            ],
            [
             0.3,
             "#f1b6da"
            ],
            [
             0.4,
             "#fde0ef"
            ],
            [
             0.5,
             "#f7f7f7"
            ],
            [
             0.6,
             "#e6f5d0"
            ],
            [
             0.7,
             "#b8e186"
            ],
            [
             0.8,
             "#7fbc41"
            ],
            [
             0.9,
             "#4d9221"
            ],
            [
             1,
             "#276419"
            ]
           ],
           "sequential": [
            [
             0,
             "#0d0887"
            ],
            [
             0.1111111111111111,
             "#46039f"
            ],
            [
             0.2222222222222222,
             "#7201a8"
            ],
            [
             0.3333333333333333,
             "#9c179e"
            ],
            [
             0.4444444444444444,
             "#bd3786"
            ],
            [
             0.5555555555555556,
             "#d8576b"
            ],
            [
             0.6666666666666666,
             "#ed7953"
            ],
            [
             0.7777777777777778,
             "#fb9f3a"
            ],
            [
             0.8888888888888888,
             "#fdca26"
            ],
            [
             1,
             "#f0f921"
            ]
           ],
           "sequentialminus": [
            [
             0,
             "#0d0887"
            ],
            [
             0.1111111111111111,
             "#46039f"
            ],
            [
             0.2222222222222222,
             "#7201a8"
            ],
            [
             0.3333333333333333,
             "#9c179e"
            ],
            [
             0.4444444444444444,
             "#bd3786"
            ],
            [
             0.5555555555555556,
             "#d8576b"
            ],
            [
             0.6666666666666666,
             "#ed7953"
            ],
            [
             0.7777777777777778,
             "#fb9f3a"
            ],
            [
             0.8888888888888888,
             "#fdca26"
            ],
            [
             1,
             "#f0f921"
            ]
           ]
          },
          "colorway": [
           "#636efa",
           "#EF553B",
           "#00cc96",
           "#ab63fa",
           "#FFA15A",
           "#19d3f3",
           "#FF6692",
           "#B6E880",
           "#FF97FF",
           "#FECB52"
          ],
          "font": {
           "color": "#2a3f5f"
          },
          "geo": {
           "bgcolor": "white",
           "lakecolor": "white",
           "landcolor": "#E5ECF6",
           "showlakes": true,
           "showland": true,
           "subunitcolor": "white"
          },
          "hoverlabel": {
           "align": "left"
          },
          "hovermode": "closest",
          "mapbox": {
           "style": "light"
          },
          "paper_bgcolor": "white",
          "plot_bgcolor": "#E5ECF6",
          "polar": {
           "angularaxis": {
            "gridcolor": "white",
            "linecolor": "white",
            "ticks": ""
           },
           "bgcolor": "#E5ECF6",
           "radialaxis": {
            "gridcolor": "white",
            "linecolor": "white",
            "ticks": ""
           }
          },
          "scene": {
           "xaxis": {
            "backgroundcolor": "#E5ECF6",
            "gridcolor": "white",
            "gridwidth": 2,
            "linecolor": "white",
            "showbackground": true,
            "ticks": "",
            "zerolinecolor": "white"
           },
           "yaxis": {
            "backgroundcolor": "#E5ECF6",
            "gridcolor": "white",
            "gridwidth": 2,
            "linecolor": "white",
            "showbackground": true,
            "ticks": "",
            "zerolinecolor": "white"
           },
           "zaxis": {
            "backgroundcolor": "#E5ECF6",
            "gridcolor": "white",
            "gridwidth": 2,
            "linecolor": "white",
            "showbackground": true,
            "ticks": "",
            "zerolinecolor": "white"
           }
          },
          "shapedefaults": {
           "line": {
            "color": "#2a3f5f"
           }
          },
          "ternary": {
           "aaxis": {
            "gridcolor": "white",
            "linecolor": "white",
            "ticks": ""
           },
           "baxis": {
            "gridcolor": "white",
            "linecolor": "white",
            "ticks": ""
           },
           "bgcolor": "#E5ECF6",
           "caxis": {
            "gridcolor": "white",
            "linecolor": "white",
            "ticks": ""
           }
          },
          "title": {
           "x": 0.05
          },
          "xaxis": {
           "automargin": true,
           "gridcolor": "white",
           "linecolor": "white",
           "ticks": "",
           "title": {
            "standoff": 15
           },
           "zerolinecolor": "white",
           "zerolinewidth": 2
          },
          "yaxis": {
           "automargin": true,
           "gridcolor": "white",
           "linecolor": "white",
           "ticks": "",
           "title": {
            "standoff": 15
           },
           "zerolinecolor": "white",
           "zerolinewidth": 2
          }
         }
        },
        "title": {
         "text": "GaussianNB Probability Threshold Optimization",
         "x": 0.45,
         "xanchor": "center",
         "y": 0.95,
         "yanchor": "top"
        },
        "xaxis": {
         "anchor": "y",
         "domain": [
          0,
          1
         ],
         "title": {
          "text": "Probability Threshold"
         }
        },
        "yaxis": {
         "anchor": "x",
         "domain": [
          0,
          1
         ],
         "title": {
          "text": "Cost Function"
         }
        }
       }
      },
      "text/html": [
       "<div>\n",
       "        \n",
       "        \n",
       "            <div id=\"5a826ece-055c-41cf-86a7-48dcf82c59c9\" class=\"plotly-graph-div\" style=\"height:525px; width:100%;\"></div>\n",
       "            <script type=\"text/javascript\">\n",
       "                require([\"plotly\"], function(Plotly) {\n",
       "                    window.PLOTLYENV=window.PLOTLYENV || {};\n",
       "                    \n",
       "                if (document.getElementById(\"5a826ece-055c-41cf-86a7-48dcf82c59c9\")) {\n",
       "                    Plotly.newPlot(\n",
       "                        '5a826ece-055c-41cf-86a7-48dcf82c59c9',\n",
       "                        [{\"hovertemplate\": \"Probability Threshold=%{x}<br>Cost Function=%{y}<extra></extra>\", \"legendgroup\": \"\", \"line\": {\"color\": \"#636efa\", \"dash\": \"solid\", \"shape\": \"linear\"}, \"mode\": \"lines\", \"name\": \"\", \"orientation\": \"v\", \"showlegend\": false, \"type\": \"scatter\", \"x\": [0.0, 0.01, 0.02, 0.03, 0.04, 0.05, 0.06, 0.07, 0.08, 0.09, 0.1, 0.11, 0.12, 0.13, 0.14, 0.15, 0.16, 0.17, 0.18, 0.19, 0.2, 0.21, 0.22, 0.23, 0.24, 0.25, 0.26, 0.27, 0.28, 0.29, 0.3, 0.31, 0.32, 0.33, 0.34, 0.35000000000000003, 0.36, 0.37, 0.38, 0.39, 0.4, 0.41000000000000003, 0.42, 0.43, 0.44, 0.45, 0.46, 0.47000000000000003, 0.48, 0.49, 0.5, 0.51, 0.52, 0.53, 0.54, 0.55, 0.56, 0.5700000000000001, 0.58, 0.59, 0.6, 0.61, 0.62, 0.63, 0.64, 0.65, 0.66, 0.67, 0.68, 0.6900000000000001, 0.7000000000000001, 0.71, 0.72, 0.73, 0.74, 0.75, 0.76, 0.77, 0.78, 0.79, 0.8, 0.81, 0.8200000000000001, 0.8300000000000001, 0.84, 0.85, 0.86, 0.87, 0.88, 0.89, 0.9, 0.91, 0.92, 0.93, 0.9400000000000001, 0.9500000000000001, 0.96, 0.97, 0.98, 0.99], \"xaxis\": \"x\", \"y\": [0, 14454000, 14891000, 15205000, 15537000, 15797000, 16062000, 16330000, 16507000, 16757000, 16971000, 17158000, 17340000, 17526000, 17705000, 17783000, 17889000, 18000000, 18097000, 18230000, 18336000, 18448000, 18545000, 18664000, 18775000, 18832000, 18936000, 19040000, 19092000, 19161000, 19272000, 19345000, 19463000, 19506000, 19582000, 19611000, 19704000, 19778000, 19803000, 19865000, 19947000, 20015000, 20104000, 20124000, 20136000, 20193000, 20245000, 20306000, 20411000, 20499000, 20554000, 20615000, 20672000, 20676000, 20781000, 20826000, 20895000, 20935000, 21013000, 21014000, 21095000, 21126000, 21157000, 21204000, 21178000, 21232000, 21232000, 21246000, 21326000, 21368000, 21375000, 21416000, 21433000, 21510000, 21591000, 21671000, 21774000, 21820000, 21891000, 21957000, 21994000, 21991000, 21988000, 22016000, 22022000, 22091000, 22074000, 22092000, 22153000, 22117000, 22027000, 22024000, 22059000, 22043000, 22004000, 21970000, 21876000, 21716000, 21531000, 21190000], \"yaxis\": \"y\"}],\n",
       "                        {\"legend\": {\"tracegroupgap\": 0}, \"margin\": {\"t\": 60}, \"plot_bgcolor\": \"rgb(245,245,245)\", \"shapes\": [{\"line\": {\"color\": \"red\", \"width\": 2}, \"type\": \"line\", \"x0\": 0.88, \"x1\": 0.88, \"y0\": 0, \"y1\": 22153000}], \"template\": {\"data\": {\"bar\": [{\"error_x\": {\"color\": \"#2a3f5f\"}, \"error_y\": {\"color\": \"#2a3f5f\"}, \"marker\": {\"line\": {\"color\": \"#E5ECF6\", \"width\": 0.5}}, \"type\": \"bar\"}], \"barpolar\": [{\"marker\": {\"line\": {\"color\": \"#E5ECF6\", \"width\": 0.5}}, \"type\": \"barpolar\"}], \"carpet\": [{\"aaxis\": {\"endlinecolor\": \"#2a3f5f\", \"gridcolor\": \"white\", \"linecolor\": \"white\", \"minorgridcolor\": \"white\", \"startlinecolor\": \"#2a3f5f\"}, \"baxis\": {\"endlinecolor\": \"#2a3f5f\", \"gridcolor\": \"white\", \"linecolor\": \"white\", \"minorgridcolor\": \"white\", \"startlinecolor\": \"#2a3f5f\"}, \"type\": \"carpet\"}], \"choropleth\": [{\"colorbar\": {\"outlinewidth\": 0, \"ticks\": \"\"}, \"type\": \"choropleth\"}], \"contour\": [{\"colorbar\": {\"outlinewidth\": 0, \"ticks\": \"\"}, \"colorscale\": [[0.0, \"#0d0887\"], [0.1111111111111111, \"#46039f\"], [0.2222222222222222, \"#7201a8\"], [0.3333333333333333, \"#9c179e\"], [0.4444444444444444, \"#bd3786\"], [0.5555555555555556, \"#d8576b\"], [0.6666666666666666, \"#ed7953\"], [0.7777777777777778, \"#fb9f3a\"], [0.8888888888888888, \"#fdca26\"], [1.0, \"#f0f921\"]], \"type\": \"contour\"}], \"contourcarpet\": [{\"colorbar\": {\"outlinewidth\": 0, \"ticks\": \"\"}, \"type\": \"contourcarpet\"}], \"heatmap\": [{\"colorbar\": {\"outlinewidth\": 0, \"ticks\": \"\"}, \"colorscale\": [[0.0, \"#0d0887\"], [0.1111111111111111, \"#46039f\"], [0.2222222222222222, \"#7201a8\"], [0.3333333333333333, \"#9c179e\"], [0.4444444444444444, \"#bd3786\"], [0.5555555555555556, \"#d8576b\"], [0.6666666666666666, \"#ed7953\"], [0.7777777777777778, \"#fb9f3a\"], [0.8888888888888888, \"#fdca26\"], [1.0, \"#f0f921\"]], \"type\": \"heatmap\"}], \"heatmapgl\": [{\"colorbar\": {\"outlinewidth\": 0, \"ticks\": \"\"}, \"colorscale\": [[0.0, \"#0d0887\"], [0.1111111111111111, \"#46039f\"], [0.2222222222222222, \"#7201a8\"], [0.3333333333333333, \"#9c179e\"], [0.4444444444444444, \"#bd3786\"], [0.5555555555555556, \"#d8576b\"], [0.6666666666666666, \"#ed7953\"], [0.7777777777777778, \"#fb9f3a\"], [0.8888888888888888, \"#fdca26\"], [1.0, \"#f0f921\"]], \"type\": \"heatmapgl\"}], \"histogram\": [{\"marker\": {\"colorbar\": {\"outlinewidth\": 0, \"ticks\": \"\"}}, \"type\": \"histogram\"}], \"histogram2d\": [{\"colorbar\": {\"outlinewidth\": 0, \"ticks\": \"\"}, \"colorscale\": [[0.0, \"#0d0887\"], [0.1111111111111111, \"#46039f\"], [0.2222222222222222, \"#7201a8\"], [0.3333333333333333, \"#9c179e\"], [0.4444444444444444, \"#bd3786\"], [0.5555555555555556, \"#d8576b\"], [0.6666666666666666, \"#ed7953\"], [0.7777777777777778, \"#fb9f3a\"], [0.8888888888888888, \"#fdca26\"], [1.0, \"#f0f921\"]], \"type\": \"histogram2d\"}], \"histogram2dcontour\": [{\"colorbar\": {\"outlinewidth\": 0, \"ticks\": \"\"}, \"colorscale\": [[0.0, \"#0d0887\"], [0.1111111111111111, \"#46039f\"], [0.2222222222222222, \"#7201a8\"], [0.3333333333333333, \"#9c179e\"], [0.4444444444444444, \"#bd3786\"], [0.5555555555555556, \"#d8576b\"], [0.6666666666666666, \"#ed7953\"], [0.7777777777777778, \"#fb9f3a\"], [0.8888888888888888, \"#fdca26\"], [1.0, \"#f0f921\"]], \"type\": \"histogram2dcontour\"}], \"mesh3d\": [{\"colorbar\": {\"outlinewidth\": 0, \"ticks\": \"\"}, \"type\": \"mesh3d\"}], \"parcoords\": [{\"line\": {\"colorbar\": {\"outlinewidth\": 0, \"ticks\": \"\"}}, \"type\": \"parcoords\"}], \"pie\": [{\"automargin\": true, \"type\": \"pie\"}], \"scatter\": [{\"marker\": {\"colorbar\": {\"outlinewidth\": 0, \"ticks\": \"\"}}, \"type\": \"scatter\"}], \"scatter3d\": [{\"line\": {\"colorbar\": {\"outlinewidth\": 0, \"ticks\": \"\"}}, \"marker\": {\"colorbar\": {\"outlinewidth\": 0, \"ticks\": \"\"}}, \"type\": \"scatter3d\"}], \"scattercarpet\": [{\"marker\": {\"colorbar\": {\"outlinewidth\": 0, \"ticks\": \"\"}}, \"type\": \"scattercarpet\"}], \"scattergeo\": [{\"marker\": {\"colorbar\": {\"outlinewidth\": 0, \"ticks\": \"\"}}, \"type\": \"scattergeo\"}], \"scattergl\": [{\"marker\": {\"colorbar\": {\"outlinewidth\": 0, \"ticks\": \"\"}}, \"type\": \"scattergl\"}], \"scattermapbox\": [{\"marker\": {\"colorbar\": {\"outlinewidth\": 0, \"ticks\": \"\"}}, \"type\": \"scattermapbox\"}], \"scatterpolar\": [{\"marker\": {\"colorbar\": {\"outlinewidth\": 0, \"ticks\": \"\"}}, \"type\": \"scatterpolar\"}], \"scatterpolargl\": [{\"marker\": {\"colorbar\": {\"outlinewidth\": 0, \"ticks\": \"\"}}, \"type\": \"scatterpolargl\"}], \"scatterternary\": [{\"marker\": {\"colorbar\": {\"outlinewidth\": 0, \"ticks\": \"\"}}, \"type\": \"scatterternary\"}], \"surface\": [{\"colorbar\": {\"outlinewidth\": 0, \"ticks\": \"\"}, \"colorscale\": [[0.0, \"#0d0887\"], [0.1111111111111111, \"#46039f\"], [0.2222222222222222, \"#7201a8\"], [0.3333333333333333, \"#9c179e\"], [0.4444444444444444, \"#bd3786\"], [0.5555555555555556, \"#d8576b\"], [0.6666666666666666, \"#ed7953\"], [0.7777777777777778, \"#fb9f3a\"], [0.8888888888888888, \"#fdca26\"], [1.0, \"#f0f921\"]], \"type\": \"surface\"}], \"table\": [{\"cells\": {\"fill\": {\"color\": \"#EBF0F8\"}, \"line\": {\"color\": \"white\"}}, \"header\": {\"fill\": {\"color\": \"#C8D4E3\"}, \"line\": {\"color\": \"white\"}}, \"type\": \"table\"}]}, \"layout\": {\"annotationdefaults\": {\"arrowcolor\": \"#2a3f5f\", \"arrowhead\": 0, \"arrowwidth\": 1}, \"coloraxis\": {\"colorbar\": {\"outlinewidth\": 0, \"ticks\": \"\"}}, \"colorscale\": {\"diverging\": [[0, \"#8e0152\"], [0.1, \"#c51b7d\"], [0.2, \"#de77ae\"], [0.3, \"#f1b6da\"], [0.4, \"#fde0ef\"], [0.5, \"#f7f7f7\"], [0.6, \"#e6f5d0\"], [0.7, \"#b8e186\"], [0.8, \"#7fbc41\"], [0.9, \"#4d9221\"], [1, \"#276419\"]], \"sequential\": [[0.0, \"#0d0887\"], [0.1111111111111111, \"#46039f\"], [0.2222222222222222, \"#7201a8\"], [0.3333333333333333, \"#9c179e\"], [0.4444444444444444, \"#bd3786\"], [0.5555555555555556, \"#d8576b\"], [0.6666666666666666, \"#ed7953\"], [0.7777777777777778, \"#fb9f3a\"], [0.8888888888888888, \"#fdca26\"], [1.0, \"#f0f921\"]], \"sequentialminus\": [[0.0, \"#0d0887\"], [0.1111111111111111, \"#46039f\"], [0.2222222222222222, \"#7201a8\"], [0.3333333333333333, \"#9c179e\"], [0.4444444444444444, \"#bd3786\"], [0.5555555555555556, \"#d8576b\"], [0.6666666666666666, \"#ed7953\"], [0.7777777777777778, \"#fb9f3a\"], [0.8888888888888888, \"#fdca26\"], [1.0, \"#f0f921\"]]}, \"colorway\": [\"#636efa\", \"#EF553B\", \"#00cc96\", \"#ab63fa\", \"#FFA15A\", \"#19d3f3\", \"#FF6692\", \"#B6E880\", \"#FF97FF\", \"#FECB52\"], \"font\": {\"color\": \"#2a3f5f\"}, \"geo\": {\"bgcolor\": \"white\", \"lakecolor\": \"white\", \"landcolor\": \"#E5ECF6\", \"showlakes\": true, \"showland\": true, \"subunitcolor\": \"white\"}, \"hoverlabel\": {\"align\": \"left\"}, \"hovermode\": \"closest\", \"mapbox\": {\"style\": \"light\"}, \"paper_bgcolor\": \"white\", \"plot_bgcolor\": \"#E5ECF6\", \"polar\": {\"angularaxis\": {\"gridcolor\": \"white\", \"linecolor\": \"white\", \"ticks\": \"\"}, \"bgcolor\": \"#E5ECF6\", \"radialaxis\": {\"gridcolor\": \"white\", \"linecolor\": \"white\", \"ticks\": \"\"}}, \"scene\": {\"xaxis\": {\"backgroundcolor\": \"#E5ECF6\", \"gridcolor\": \"white\", \"gridwidth\": 2, \"linecolor\": \"white\", \"showbackground\": true, \"ticks\": \"\", \"zerolinecolor\": \"white\"}, \"yaxis\": {\"backgroundcolor\": \"#E5ECF6\", \"gridcolor\": \"white\", \"gridwidth\": 2, \"linecolor\": \"white\", \"showbackground\": true, \"ticks\": \"\", \"zerolinecolor\": \"white\"}, \"zaxis\": {\"backgroundcolor\": \"#E5ECF6\", \"gridcolor\": \"white\", \"gridwidth\": 2, \"linecolor\": \"white\", \"showbackground\": true, \"ticks\": \"\", \"zerolinecolor\": \"white\"}}, \"shapedefaults\": {\"line\": {\"color\": \"#2a3f5f\"}}, \"ternary\": {\"aaxis\": {\"gridcolor\": \"white\", \"linecolor\": \"white\", \"ticks\": \"\"}, \"baxis\": {\"gridcolor\": \"white\", \"linecolor\": \"white\", \"ticks\": \"\"}, \"bgcolor\": \"#E5ECF6\", \"caxis\": {\"gridcolor\": \"white\", \"linecolor\": \"white\", \"ticks\": \"\"}}, \"title\": {\"x\": 0.05}, \"xaxis\": {\"automargin\": true, \"gridcolor\": \"white\", \"linecolor\": \"white\", \"ticks\": \"\", \"title\": {\"standoff\": 15}, \"zerolinecolor\": \"white\", \"zerolinewidth\": 2}, \"yaxis\": {\"automargin\": true, \"gridcolor\": \"white\", \"linecolor\": \"white\", \"ticks\": \"\", \"title\": {\"standoff\": 15}, \"zerolinecolor\": \"white\", \"zerolinewidth\": 2}}}, \"title\": {\"text\": \"GaussianNB Probability Threshold Optimization\", \"x\": 0.45, \"xanchor\": \"center\", \"y\": 0.95, \"yanchor\": \"top\"}, \"xaxis\": {\"anchor\": \"y\", \"domain\": [0.0, 1.0], \"title\": {\"text\": \"Probability Threshold\"}}, \"yaxis\": {\"anchor\": \"x\", \"domain\": [0.0, 1.0], \"title\": {\"text\": \"Cost Function\"}}},\n",
       "                        {\"responsive\": true}\n",
       "                    ).then(function(){\n",
       "                            \n",
       "var gd = document.getElementById('5a826ece-055c-41cf-86a7-48dcf82c59c9');\n",
       "var x = new MutationObserver(function (mutations, observer) {{\n",
       "        var display = window.getComputedStyle(gd).display;\n",
       "        if (!display || display === 'none') {{\n",
       "            console.log([gd, 'removed!']);\n",
       "            Plotly.purge(gd);\n",
       "            observer.disconnect();\n",
       "        }}\n",
       "}});\n",
       "\n",
       "// Listen for the removal of the full notebook cells\n",
       "var notebookContainer = gd.closest('#notebook-container');\n",
       "if (notebookContainer) {{\n",
       "    x.observe(notebookContainer, {childList: true});\n",
       "}}\n",
       "\n",
       "// Listen for the clearing of the current output cell\n",
       "var outputEl = gd.closest('.output');\n",
       "if (outputEl) {{\n",
       "    x.observe(outputEl, {childList: true});\n",
       "}}\n",
       "\n",
       "                        })\n",
       "                };\n",
       "                });\n",
       "            </script>\n",
       "        </div>"
      ]
     },
     "metadata": {},
     "output_type": "display_data"
    },
    {
     "name": "stdout",
     "output_type": "stream",
     "text": [
      "Optimized Probability Threshold: 0.88 | Optimized Cost Function: 22153000\n"
     ]
    }
   ],
   "source": [
    "#optimize threshold for trained model\n",
    "optimize_threshold(tuned_nb, true_negative = 1000, false_negative = -5000)"
   ]
  },
  {
   "cell_type": "code",
   "execution_count": 166,
   "metadata": {},
   "outputs": [],
   "source": [
    "final_nb = finalize_model(tuned_nb)"
   ]
  },
  {
   "cell_type": "code",
   "execution_count": 167,
   "metadata": {},
   "outputs": [],
   "source": [
    "predictions = predict_model(final_nb, data=test_df)"
   ]
  },
  {
   "cell_type": "code",
   "execution_count": 168,
   "metadata": {},
   "outputs": [
    {
     "data": {
      "text/html": [
       "<div>\n",
       "<style scoped>\n",
       "    .dataframe tbody tr th:only-of-type {\n",
       "        vertical-align: middle;\n",
       "    }\n",
       "\n",
       "    .dataframe tbody tr th {\n",
       "        vertical-align: top;\n",
       "    }\n",
       "\n",
       "    .dataframe thead th {\n",
       "        text-align: right;\n",
       "    }\n",
       "</style>\n",
       "<table border=\"1\" class=\"dataframe\">\n",
       "  <thead>\n",
       "    <tr style=\"text-align: right;\">\n",
       "      <th></th>\n",
       "      <th>Unnamed: 0.1</th>\n",
       "      <th>origChannel</th>\n",
       "      <th>sellerName</th>\n",
       "      <th>origIntRate</th>\n",
       "      <th>origUPB</th>\n",
       "      <th>origLoanTerm</th>\n",
       "      <th>origLTV</th>\n",
       "      <th>origCLTV</th>\n",
       "      <th>numBorrowers</th>\n",
       "      <th>origDebtIncRatio</th>\n",
       "      <th>loanPurp</th>\n",
       "      <th>propState</th>\n",
       "      <th>zipCode</th>\n",
       "      <th>pMIperct</th>\n",
       "      <th>mortInsType</th>\n",
       "      <th>bestCreditScore</th>\n",
       "      <th>worstCreditScore</th>\n",
       "      <th>avgCreditScore</th>\n",
       "      <th>loanAge</th>\n",
       "      <th>mSA</th>\n",
       "      <th>fmacRateMax</th>\n",
       "      <th>fmacRateMin</th>\n",
       "      <th>fmacRateAvg</th>\n",
       "      <th>fmacRateVolatility</th>\n",
       "      <th>rateDiffAbove</th>\n",
       "      <th>rateDiffBelow</th>\n",
       "      <th>rateDiffAvg</th>\n",
       "      <th>rateDiffAbovePct</th>\n",
       "      <th>rateDiffBelowPct</th>\n",
       "      <th>rateDiffAvgPct</th>\n",
       "      <th>origYear</th>\n",
       "      <th>origMonth</th>\n",
       "      <th>zeroBalCode</th>\n",
       "      <th>Label</th>\n",
       "      <th>Score</th>\n",
       "    </tr>\n",
       "  </thead>\n",
       "  <tbody>\n",
       "    <tr>\n",
       "      <th>0</th>\n",
       "      <td>1362689</td>\n",
       "      <td>C</td>\n",
       "      <td>JPMORGAN CHASE BANK, NA</td>\n",
       "      <td>6.000</td>\n",
       "      <td>42000</td>\n",
       "      <td>360</td>\n",
       "      <td>68</td>\n",
       "      <td>68</td>\n",
       "      <td>1</td>\n",
       "      <td>30</td>\n",
       "      <td>C</td>\n",
       "      <td>MO</td>\n",
       "      <td>656</td>\n",
       "      <td>0.0</td>\n",
       "      <td>0</td>\n",
       "      <td>698</td>\n",
       "      <td>698</td>\n",
       "      <td>698</td>\n",
       "      <td>99</td>\n",
       "      <td>44180</td>\n",
       "      <td>6.03</td>\n",
       "      <td>5.83</td>\n",
       "      <td>5.9325</td>\n",
       "      <td>0.034305</td>\n",
       "      <td>-0.030</td>\n",
       "      <td>-0.170</td>\n",
       "      <td>0.0675</td>\n",
       "      <td>-0.004975</td>\n",
       "      <td>-0.029160</td>\n",
       "      <td>0.011378</td>\n",
       "      <td>2003</td>\n",
       "      <td>11</td>\n",
       "      <td>1</td>\n",
       "      <td>1</td>\n",
       "      <td>0.6684</td>\n",
       "    </tr>\n",
       "    <tr>\n",
       "      <th>1</th>\n",
       "      <td>1450254</td>\n",
       "      <td>R</td>\n",
       "      <td>OTHER</td>\n",
       "      <td>5.375</td>\n",
       "      <td>63000</td>\n",
       "      <td>180</td>\n",
       "      <td>79</td>\n",
       "      <td>79</td>\n",
       "      <td>2</td>\n",
       "      <td>43</td>\n",
       "      <td>C</td>\n",
       "      <td>LA</td>\n",
       "      <td>703</td>\n",
       "      <td>0.0</td>\n",
       "      <td>0</td>\n",
       "      <td>665</td>\n",
       "      <td>636</td>\n",
       "      <td>650</td>\n",
       "      <td>100</td>\n",
       "      <td>12940</td>\n",
       "      <td>5.72</td>\n",
       "      <td>5.58</td>\n",
       "      <td>5.6350</td>\n",
       "      <td>0.025090</td>\n",
       "      <td>-0.345</td>\n",
       "      <td>0.205</td>\n",
       "      <td>-0.2600</td>\n",
       "      <td>-0.060315</td>\n",
       "      <td>0.036738</td>\n",
       "      <td>-0.046140</td>\n",
       "      <td>2004</td>\n",
       "      <td>2</td>\n",
       "      <td>0</td>\n",
       "      <td>1</td>\n",
       "      <td>0.5075</td>\n",
       "    </tr>\n",
       "    <tr>\n",
       "      <th>2</th>\n",
       "      <td>2306435</td>\n",
       "      <td>C</td>\n",
       "      <td>BANK OF AMERICA, N.A.</td>\n",
       "      <td>5.000</td>\n",
       "      <td>256000</td>\n",
       "      <td>360</td>\n",
       "      <td>48</td>\n",
       "      <td>48</td>\n",
       "      <td>2</td>\n",
       "      <td>40</td>\n",
       "      <td>R</td>\n",
       "      <td>KY</td>\n",
       "      <td>410</td>\n",
       "      <td>0.0</td>\n",
       "      <td>0</td>\n",
       "      <td>771</td>\n",
       "      <td>769</td>\n",
       "      <td>770</td>\n",
       "      <td>95</td>\n",
       "      <td>17140</td>\n",
       "      <td>5.53</td>\n",
       "      <td>5.10</td>\n",
       "      <td>5.2860</td>\n",
       "      <td>0.084314</td>\n",
       "      <td>-0.530</td>\n",
       "      <td>0.100</td>\n",
       "      <td>-0.2860</td>\n",
       "      <td>-0.095841</td>\n",
       "      <td>0.019608</td>\n",
       "      <td>-0.054105</td>\n",
       "      <td>2008</td>\n",
       "      <td>12</td>\n",
       "      <td>0</td>\n",
       "      <td>0</td>\n",
       "      <td>0.0146</td>\n",
       "    </tr>\n",
       "    <tr>\n",
       "      <th>3</th>\n",
       "      <td>64951</td>\n",
       "      <td>B</td>\n",
       "      <td>OTHER</td>\n",
       "      <td>7.875</td>\n",
       "      <td>107000</td>\n",
       "      <td>240</td>\n",
       "      <td>80</td>\n",
       "      <td>80</td>\n",
       "      <td>2</td>\n",
       "      <td>28</td>\n",
       "      <td>P</td>\n",
       "      <td>CO</td>\n",
       "      <td>809</td>\n",
       "      <td>0.0</td>\n",
       "      <td>0</td>\n",
       "      <td>698</td>\n",
       "      <td>657</td>\n",
       "      <td>677</td>\n",
       "      <td>66</td>\n",
       "      <td>17820</td>\n",
       "      <td>8.12</td>\n",
       "      <td>7.96</td>\n",
       "      <td>8.0275</td>\n",
       "      <td>0.020101</td>\n",
       "      <td>-0.245</td>\n",
       "      <td>0.085</td>\n",
       "      <td>-0.1525</td>\n",
       "      <td>-0.030172</td>\n",
       "      <td>0.010678</td>\n",
       "      <td>-0.018997</td>\n",
       "      <td>2000</td>\n",
       "      <td>8</td>\n",
       "      <td>0</td>\n",
       "      <td>0</td>\n",
       "      <td>0.0476</td>\n",
       "    </tr>\n",
       "    <tr>\n",
       "      <th>4</th>\n",
       "      <td>1237528</td>\n",
       "      <td>B</td>\n",
       "      <td>FLAGSTAR BANK, FSB</td>\n",
       "      <td>5.875</td>\n",
       "      <td>210000</td>\n",
       "      <td>240</td>\n",
       "      <td>71</td>\n",
       "      <td>71</td>\n",
       "      <td>1</td>\n",
       "      <td>49</td>\n",
       "      <td>C</td>\n",
       "      <td>NY</td>\n",
       "      <td>115</td>\n",
       "      <td>0.0</td>\n",
       "      <td>0</td>\n",
       "      <td>604</td>\n",
       "      <td>604</td>\n",
       "      <td>604</td>\n",
       "      <td>138</td>\n",
       "      <td>35620</td>\n",
       "      <td>6.34</td>\n",
       "      <td>6.14</td>\n",
       "      <td>6.2640</td>\n",
       "      <td>0.032573</td>\n",
       "      <td>-0.465</td>\n",
       "      <td>0.265</td>\n",
       "      <td>-0.3890</td>\n",
       "      <td>-0.073344</td>\n",
       "      <td>0.043160</td>\n",
       "      <td>-0.062101</td>\n",
       "      <td>2003</td>\n",
       "      <td>8</td>\n",
       "      <td>0</td>\n",
       "      <td>1</td>\n",
       "      <td>0.6378</td>\n",
       "    </tr>\n",
       "  </tbody>\n",
       "</table>\n",
       "</div>"
      ],
      "text/plain": [
       "   Unnamed: 0.1 origChannel               sellerName  origIntRate  origUPB  \\\n",
       "0       1362689           C  JPMORGAN CHASE BANK, NA        6.000    42000   \n",
       "1       1450254           R                    OTHER        5.375    63000   \n",
       "2       2306435           C    BANK OF AMERICA, N.A.        5.000   256000   \n",
       "3         64951           B                    OTHER        7.875   107000   \n",
       "4       1237528           B       FLAGSTAR BANK, FSB        5.875   210000   \n",
       "\n",
       "   origLoanTerm  origLTV  origCLTV  numBorrowers  origDebtIncRatio loanPurp  \\\n",
       "0           360       68        68             1                30        C   \n",
       "1           180       79        79             2                43        C   \n",
       "2           360       48        48             2                40        R   \n",
       "3           240       80        80             2                28        P   \n",
       "4           240       71        71             1                49        C   \n",
       "\n",
       "  propState  zipCode  pMIperct  mortInsType  bestCreditScore  \\\n",
       "0        MO      656       0.0            0              698   \n",
       "1        LA      703       0.0            0              665   \n",
       "2        KY      410       0.0            0              771   \n",
       "3        CO      809       0.0            0              698   \n",
       "4        NY      115       0.0            0              604   \n",
       "\n",
       "   worstCreditScore  avgCreditScore  loanAge    mSA  fmacRateMax  fmacRateMin  \\\n",
       "0               698             698       99  44180         6.03         5.83   \n",
       "1               636             650      100  12940         5.72         5.58   \n",
       "2               769             770       95  17140         5.53         5.10   \n",
       "3               657             677       66  17820         8.12         7.96   \n",
       "4               604             604      138  35620         6.34         6.14   \n",
       "\n",
       "   fmacRateAvg  fmacRateVolatility  rateDiffAbove  rateDiffBelow  rateDiffAvg  \\\n",
       "0       5.9325            0.034305         -0.030         -0.170       0.0675   \n",
       "1       5.6350            0.025090         -0.345          0.205      -0.2600   \n",
       "2       5.2860            0.084314         -0.530          0.100      -0.2860   \n",
       "3       8.0275            0.020101         -0.245          0.085      -0.1525   \n",
       "4       6.2640            0.032573         -0.465          0.265      -0.3890   \n",
       "\n",
       "   rateDiffAbovePct  rateDiffBelowPct  rateDiffAvgPct  origYear  origMonth  \\\n",
       "0         -0.004975         -0.029160        0.011378      2003         11   \n",
       "1         -0.060315          0.036738       -0.046140      2004          2   \n",
       "2         -0.095841          0.019608       -0.054105      2008         12   \n",
       "3         -0.030172          0.010678       -0.018997      2000          8   \n",
       "4         -0.073344          0.043160       -0.062101      2003          8   \n",
       "\n",
       "   zeroBalCode  Label   Score  \n",
       "0            1      1  0.6684  \n",
       "1            0      1  0.5075  \n",
       "2            0      0  0.0146  \n",
       "3            0      0  0.0476  \n",
       "4            0      1  0.6378  "
      ]
     },
     "execution_count": 168,
     "metadata": {},
     "output_type": "execute_result"
    }
   ],
   "source": [
    "pd.set_option('max_columns',None)\n",
    "predictions.head()"
   ]
  },
  {
   "cell_type": "code",
   "execution_count": 169,
   "metadata": {},
   "outputs": [],
   "source": [
    "results = predictions[['zeroBalCode','Label','Score']]"
   ]
  },
  {
   "cell_type": "code",
   "execution_count": 170,
   "metadata": {},
   "outputs": [
    {
     "data": {
      "text/plain": [
       "0    17594\n",
       "1     9039\n",
       "Name: Label, dtype: int64"
      ]
     },
     "execution_count": 170,
     "metadata": {},
     "output_type": "execute_result"
    }
   ],
   "source": [
    "predictions.Label.value_counts()"
   ]
  },
  {
   "cell_type": "code",
   "execution_count": 171,
   "metadata": {},
   "outputs": [],
   "source": [
    "results['Confusion'] = results.apply(calc_confusion, axis=1)"
   ]
  },
  {
   "cell_type": "code",
   "execution_count": 172,
   "metadata": {},
   "outputs": [],
   "source": [
    "confusionMatrix = results.Confusion.value_counts().to_dict()"
   ]
  },
  {
   "cell_type": "code",
   "execution_count": 173,
   "metadata": {
    "scrolled": false
   },
   "outputs": [
    {
     "name": "stdout",
     "output_type": "stream",
     "text": [
      "           ##############################\n",
      "           #             #              #\n",
      "         0 #    16256     #     6452      #\n",
      "  True     #             #              #\n",
      "  Class    ##############################\n",
      "           #             #              #\n",
      "         1 #    1338      #     2587      #\n",
      "           #             #              #\n",
      "           ##############################\n",
      "                  0              1        \n",
      "                  Predicted Class           \n"
     ]
    }
   ],
   "source": [
    "cM(confusionMatrix)"
   ]
  },
  {
   "cell_type": "code",
   "execution_count": 174,
   "metadata": {},
   "outputs": [
    {
     "name": "stdout",
     "output_type": "stream",
     "text": [
      "TrueNegative:  61.04%\n",
      "FalseNegative:  5.02%\n",
      "TruePositive:   9.71%\n",
      "FalsePositive: 24.23%\n",
      "#####################################################\n",
      "Accuracy: 71.0%   Recall: 66.0%   Precision: 28.999999999999996%\n",
      "#####################################################\n"
     ]
    }
   ],
   "source": [
    "cMCalc()"
   ]
  },
  {
   "cell_type": "code",
   "execution_count": null,
   "metadata": {},
   "outputs": [],
   "source": []
  },
  {
   "cell_type": "code",
   "execution_count": 175,
   "metadata": {
    "scrolled": false
   },
   "outputs": [
    {
     "data": {
      "text/html": [
       "<div>\n",
       "<style scoped>\n",
       "    .dataframe tbody tr th:only-of-type {\n",
       "        vertical-align: middle;\n",
       "    }\n",
       "\n",
       "    .dataframe tbody tr th {\n",
       "        vertical-align: top;\n",
       "    }\n",
       "\n",
       "    .dataframe thead th {\n",
       "        text-align: right;\n",
       "    }\n",
       "</style>\n",
       "<table border=\"1\" class=\"dataframe\">\n",
       "  <thead>\n",
       "    <tr style=\"text-align: right;\">\n",
       "      <th></th>\n",
       "      <th>Model</th>\n",
       "      <th>Accuracy</th>\n",
       "      <th>AUC</th>\n",
       "      <th>Recall</th>\n",
       "      <th>Prec.</th>\n",
       "      <th>F1</th>\n",
       "      <th>Kappa</th>\n",
       "      <th>MCC</th>\n",
       "    </tr>\n",
       "  </thead>\n",
       "  <tbody>\n",
       "    <tr>\n",
       "      <th>0</th>\n",
       "      <td>Naive Bayes</td>\n",
       "      <td>0.6269</td>\n",
       "      <td>0.7423</td>\n",
       "      <td>0.7649</td>\n",
       "      <td>0.2508</td>\n",
       "      <td>0.3778</td>\n",
       "      <td>0.1992</td>\n",
       "      <td>0.2625</td>\n",
       "    </tr>\n",
       "  </tbody>\n",
       "</table>\n",
       "</div>"
      ],
      "text/plain": [
       "         Model  Accuracy     AUC  Recall   Prec.      F1   Kappa     MCC\n",
       "0  Naive Bayes    0.6269  0.7423  0.7649  0.2508  0.3778  0.1992  0.2625"
      ]
     },
     "metadata": {},
     "output_type": "display_data"
    }
   ],
   "source": [
    "pred_holdout = predict_model(final_nb)"
   ]
  },
  {
   "cell_type": "code",
   "execution_count": 179,
   "metadata": {},
   "outputs": [
    {
     "name": "stdout",
     "output_type": "stream",
     "text": [
      "Transformation Pipeline and Model Succesfully Saved\n"
     ]
    }
   ],
   "source": [
    "save_model(tuned_nb, 'np.tuned10pct_091920')"
   ]
  },
  {
   "cell_type": "code",
   "execution_count": 137,
   "metadata": {
    "scrolled": true
   },
   "outputs": [],
   "source": [
    "#save_model(calibrated_et, 'extraTreesCalibrated2.5OS5050_082220')"
   ]
  }
 ],
 "metadata": {
  "kernelspec": {
   "display_name": "MortgageML",
   "language": "python",
   "name": "mortgageml"
  },
  "language_info": {
   "codemirror_mode": {
    "name": "ipython",
    "version": 3
   },
   "file_extension": ".py",
   "mimetype": "text/x-python",
   "name": "python",
   "nbconvert_exporter": "python",
   "pygments_lexer": "ipython3",
   "version": "3.6.10"
  }
 },
 "nbformat": 4,
 "nbformat_minor": 4
}
