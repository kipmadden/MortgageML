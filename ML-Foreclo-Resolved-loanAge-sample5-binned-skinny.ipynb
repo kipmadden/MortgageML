{
 "cells": [
  {
   "cell_type": "markdown",
   "metadata": {},
   "source": [
    "# ML Foreclosure Binary Classification - 5% sample dataset\n",
    "Only \"resolved\" outcomes - Either paid off or default \n",
    "\n",
    "    target = zeroBalCode (set to object dtype) \n",
    "    Binary classification sets zeroBalCode to either \"0\" or \"1\" for the 7 possible outcomes\n",
    "    \n",
    "    \"0\" = \"Loan Success\"\n",
    "        * 01 = Prepaid or Matured\n",
    "        * 06 = Repurchased\n",
    "        * 16 = Reperforming Loan Sale\n",
    "\n",
    "    \"1\" =  \"Loan Failure\" - Most likely loss of money (but not necessarily) one of below conditions:\n",
    "        * 02 = Third Party Sale\n",
    "        * 03 = Short Sale\n",
    "        * 09 = Deed-in-Lieu,REO\n",
    "        * 15 = Note Sale\n"
   ]
  },
  {
   "cell_type": "code",
   "execution_count": 7,
   "metadata": {
    "_cell_guid": "79c7e3d0-c299-4dcb-8224-4455121ee9b0",
    "_kg_hide-output": true,
    "_uuid": "d629ff2d2480ee46fbb7e2d37f6b5fab8052498a"
   },
   "outputs": [],
   "source": [
    "import pandas as pd\n",
    "import numpy as np\n",
    "import matplotlib.pyplot as plt\n",
    "from sklearn.model_selection import train_test_split\n",
    "#!pip install pycaret\n",
    "from imblearn.over_sampling import RandomOverSampler\n",
    "from pycaret.classification import *\n",
    "#from pycaret.regression import *\n",
    "pd.set_option('display.max_columns', None)\n"
   ]
  },
  {
   "cell_type": "markdown",
   "metadata": {},
   "source": [
    "# Importing the data - don't use *.ML.csv files!!!\n",
    "If you have *.MLReady.csv then [click here](#MLReady)"
   ]
  },
  {
   "cell_type": "code",
   "execution_count": 8,
   "metadata": {
    "scrolled": false
   },
   "outputs": [
    {
     "data": {
      "text/html": [
       "<div>\n",
       "<style scoped>\n",
       "    .dataframe tbody tr th:only-of-type {\n",
       "        vertical-align: middle;\n",
       "    }\n",
       "\n",
       "    .dataframe tbody tr th {\n",
       "        vertical-align: top;\n",
       "    }\n",
       "\n",
       "    .dataframe thead th {\n",
       "        text-align: right;\n",
       "    }\n",
       "</style>\n",
       "<table border=\"1\" class=\"dataframe\">\n",
       "  <thead>\n",
       "    <tr style=\"text-align: right;\">\n",
       "      <th></th>\n",
       "      <th>Unnamed: 0</th>\n",
       "      <th>Unnamed: 0.1</th>\n",
       "      <th>id</th>\n",
       "      <th>origChannel</th>\n",
       "      <th>sellerName</th>\n",
       "      <th>origIntRate</th>\n",
       "      <th>origUPB</th>\n",
       "      <th>origLoanTerm</th>\n",
       "      <th>origDate</th>\n",
       "      <th>origLTV</th>\n",
       "      <th>origCLTV</th>\n",
       "      <th>numBorrowers</th>\n",
       "      <th>origDebtIncRatio</th>\n",
       "      <th>loanPurp</th>\n",
       "      <th>propState</th>\n",
       "      <th>zipCode</th>\n",
       "      <th>pMIperct</th>\n",
       "      <th>mortInsType</th>\n",
       "      <th>bestCreditScore</th>\n",
       "      <th>worstCreditScore</th>\n",
       "      <th>avgCreditScore</th>\n",
       "      <th>loanAge</th>\n",
       "      <th>monMatur</th>\n",
       "      <th>mSA</th>\n",
       "      <th>zeroBalCode</th>\n",
       "      <th>deliqGood</th>\n",
       "      <th>deliqBad</th>\n",
       "      <th>deliqMax</th>\n",
       "      <th>fmacRateMax</th>\n",
       "      <th>fmacRateMin</th>\n",
       "      <th>fmacRateAvg</th>\n",
       "      <th>fmacRateVolatility</th>\n",
       "      <th>fredRate</th>\n",
       "      <th>rateDiffAbove</th>\n",
       "      <th>rateDiffBelow</th>\n",
       "      <th>rateDiffAvg</th>\n",
       "      <th>rateDiffAbovePct</th>\n",
       "      <th>rateDiffBelowPct</th>\n",
       "      <th>rateDiffAvgPct</th>\n",
       "    </tr>\n",
       "  </thead>\n",
       "  <tbody>\n",
       "    <tr>\n",
       "      <th>0</th>\n",
       "      <td>2008203</td>\n",
       "      <td>2008203</td>\n",
       "      <td>994088840298</td>\n",
       "      <td>B</td>\n",
       "      <td>OTHER</td>\n",
       "      <td>6.500</td>\n",
       "      <td>79000</td>\n",
       "      <td>360</td>\n",
       "      <td>2007-02-01</td>\n",
       "      <td>69.0</td>\n",
       "      <td>69.0</td>\n",
       "      <td>1.0</td>\n",
       "      <td>27.0</td>\n",
       "      <td>R</td>\n",
       "      <td>OH</td>\n",
       "      <td>447</td>\n",
       "      <td>0.0</td>\n",
       "      <td>0.0</td>\n",
       "      <td>633.0</td>\n",
       "      <td>633.0</td>\n",
       "      <td>633.0</td>\n",
       "      <td>77</td>\n",
       "      <td>283.0</td>\n",
       "      <td>15940</td>\n",
       "      <td>1.0</td>\n",
       "      <td>75</td>\n",
       "      <td>2</td>\n",
       "      <td>1.0</td>\n",
       "      <td>6.34</td>\n",
       "      <td>6.22</td>\n",
       "      <td>6.2850</td>\n",
       "      <td>0.019293</td>\n",
       "      <td>4.84</td>\n",
       "      <td>0.160</td>\n",
       "      <td>-0.280</td>\n",
       "      <td>0.2150</td>\n",
       "      <td>0.025237</td>\n",
       "      <td>-0.045016</td>\n",
       "      <td>0.034208</td>\n",
       "    </tr>\n",
       "    <tr>\n",
       "      <th>1</th>\n",
       "      <td>1174043</td>\n",
       "      <td>1174043</td>\n",
       "      <td>842724479742</td>\n",
       "      <td>C</td>\n",
       "      <td>BANK OF AMERICA, N.A.</td>\n",
       "      <td>5.250</td>\n",
       "      <td>140000</td>\n",
       "      <td>360</td>\n",
       "      <td>2003-06-01</td>\n",
       "      <td>49.0</td>\n",
       "      <td>49.0</td>\n",
       "      <td>1.0</td>\n",
       "      <td>31.0</td>\n",
       "      <td>R</td>\n",
       "      <td>CA</td>\n",
       "      <td>956</td>\n",
       "      <td>0.0</td>\n",
       "      <td>0.0</td>\n",
       "      <td>673.0</td>\n",
       "      <td>673.0</td>\n",
       "      <td>673.0</td>\n",
       "      <td>15</td>\n",
       "      <td>345.0</td>\n",
       "      <td>40900</td>\n",
       "      <td>1.0</td>\n",
       "      <td>8</td>\n",
       "      <td>7</td>\n",
       "      <td>6.0</td>\n",
       "      <td>5.26</td>\n",
       "      <td>5.21</td>\n",
       "      <td>5.2300</td>\n",
       "      <td>0.009597</td>\n",
       "      <td>3.37</td>\n",
       "      <td>-0.010</td>\n",
       "      <td>-0.040</td>\n",
       "      <td>0.0200</td>\n",
       "      <td>-0.001901</td>\n",
       "      <td>-0.007678</td>\n",
       "      <td>0.003824</td>\n",
       "    </tr>\n",
       "    <tr>\n",
       "      <th>2</th>\n",
       "      <td>460151</td>\n",
       "      <td>460151</td>\n",
       "      <td>870246392264</td>\n",
       "      <td>R</td>\n",
       "      <td>WITMER FUNDING, LLC</td>\n",
       "      <td>7.375</td>\n",
       "      <td>64000</td>\n",
       "      <td>180</td>\n",
       "      <td>2001-12-01</td>\n",
       "      <td>80.0</td>\n",
       "      <td>80.0</td>\n",
       "      <td>2.0</td>\n",
       "      <td>24.0</td>\n",
       "      <td>C</td>\n",
       "      <td>TX</td>\n",
       "      <td>761</td>\n",
       "      <td>0.0</td>\n",
       "      <td>0.0</td>\n",
       "      <td>615.0</td>\n",
       "      <td>591.0</td>\n",
       "      <td>603.0</td>\n",
       "      <td>60</td>\n",
       "      <td>120.0</td>\n",
       "      <td>19100</td>\n",
       "      <td>1.0</td>\n",
       "      <td>44</td>\n",
       "      <td>16</td>\n",
       "      <td>2.0</td>\n",
       "      <td>7.17</td>\n",
       "      <td>6.84</td>\n",
       "      <td>7.0650</td>\n",
       "      <td>0.048246</td>\n",
       "      <td>4.78</td>\n",
       "      <td>0.205</td>\n",
       "      <td>-0.535</td>\n",
       "      <td>0.3100</td>\n",
       "      <td>0.028591</td>\n",
       "      <td>-0.078216</td>\n",
       "      <td>0.043878</td>\n",
       "    </tr>\n",
       "    <tr>\n",
       "      <th>3</th>\n",
       "      <td>1633794</td>\n",
       "      <td>1633794</td>\n",
       "      <td>694595496729</td>\n",
       "      <td>C</td>\n",
       "      <td>OTHER</td>\n",
       "      <td>5.500</td>\n",
       "      <td>90000</td>\n",
       "      <td>360</td>\n",
       "      <td>2004-10-01</td>\n",
       "      <td>97.0</td>\n",
       "      <td>97.0</td>\n",
       "      <td>1.0</td>\n",
       "      <td>46.0</td>\n",
       "      <td>P</td>\n",
       "      <td>IA</td>\n",
       "      <td>525</td>\n",
       "      <td>30.0</td>\n",
       "      <td>1.0</td>\n",
       "      <td>781.0</td>\n",
       "      <td>781.0</td>\n",
       "      <td>781.0</td>\n",
       "      <td>72</td>\n",
       "      <td>288.0</td>\n",
       "      <td>0</td>\n",
       "      <td>9.0</td>\n",
       "      <td>21</td>\n",
       "      <td>50</td>\n",
       "      <td>21.0</td>\n",
       "      <td>5.82</td>\n",
       "      <td>5.64</td>\n",
       "      <td>5.7225</td>\n",
       "      <td>0.031915</td>\n",
       "      <td>4.21</td>\n",
       "      <td>-0.320</td>\n",
       "      <td>0.140</td>\n",
       "      <td>-0.2225</td>\n",
       "      <td>-0.054983</td>\n",
       "      <td>0.024823</td>\n",
       "      <td>-0.038882</td>\n",
       "    </tr>\n",
       "    <tr>\n",
       "      <th>4</th>\n",
       "      <td>1151647</td>\n",
       "      <td>1151647</td>\n",
       "      <td>517731724074</td>\n",
       "      <td>R</td>\n",
       "      <td>JPMORGAN CHASE BANK, NA</td>\n",
       "      <td>5.500</td>\n",
       "      <td>210000</td>\n",
       "      <td>360</td>\n",
       "      <td>2003-06-01</td>\n",
       "      <td>64.0</td>\n",
       "      <td>64.0</td>\n",
       "      <td>2.0</td>\n",
       "      <td>34.0</td>\n",
       "      <td>C</td>\n",
       "      <td>CA</td>\n",
       "      <td>920</td>\n",
       "      <td>0.0</td>\n",
       "      <td>0.0</td>\n",
       "      <td>689.0</td>\n",
       "      <td>689.0</td>\n",
       "      <td>689.0</td>\n",
       "      <td>77</td>\n",
       "      <td>283.0</td>\n",
       "      <td>41740</td>\n",
       "      <td>1.0</td>\n",
       "      <td>73</td>\n",
       "      <td>3</td>\n",
       "      <td>1.0</td>\n",
       "      <td>5.26</td>\n",
       "      <td>5.21</td>\n",
       "      <td>5.2300</td>\n",
       "      <td>0.009597</td>\n",
       "      <td>3.37</td>\n",
       "      <td>0.240</td>\n",
       "      <td>-0.290</td>\n",
       "      <td>0.2700</td>\n",
       "      <td>0.045627</td>\n",
       "      <td>-0.055662</td>\n",
       "      <td>0.051625</td>\n",
       "    </tr>\n",
       "  </tbody>\n",
       "</table>\n",
       "</div>"
      ],
      "text/plain": [
       "   Unnamed: 0  Unnamed: 0.1            id origChannel  \\\n",
       "0     2008203       2008203  994088840298           B   \n",
       "1     1174043       1174043  842724479742           C   \n",
       "2      460151        460151  870246392264           R   \n",
       "3     1633794       1633794  694595496729           C   \n",
       "4     1151647       1151647  517731724074           R   \n",
       "\n",
       "                sellerName  origIntRate  origUPB  origLoanTerm    origDate  \\\n",
       "0                    OTHER        6.500    79000           360  2007-02-01   \n",
       "1    BANK OF AMERICA, N.A.        5.250   140000           360  2003-06-01   \n",
       "2      WITMER FUNDING, LLC        7.375    64000           180  2001-12-01   \n",
       "3                    OTHER        5.500    90000           360  2004-10-01   \n",
       "4  JPMORGAN CHASE BANK, NA        5.500   210000           360  2003-06-01   \n",
       "\n",
       "   origLTV  origCLTV  numBorrowers  origDebtIncRatio loanPurp propState  \\\n",
       "0     69.0      69.0           1.0              27.0        R        OH   \n",
       "1     49.0      49.0           1.0              31.0        R        CA   \n",
       "2     80.0      80.0           2.0              24.0        C        TX   \n",
       "3     97.0      97.0           1.0              46.0        P        IA   \n",
       "4     64.0      64.0           2.0              34.0        C        CA   \n",
       "\n",
       "   zipCode  pMIperct  mortInsType  bestCreditScore  worstCreditScore  \\\n",
       "0      447       0.0          0.0            633.0             633.0   \n",
       "1      956       0.0          0.0            673.0             673.0   \n",
       "2      761       0.0          0.0            615.0             591.0   \n",
       "3      525      30.0          1.0            781.0             781.0   \n",
       "4      920       0.0          0.0            689.0             689.0   \n",
       "\n",
       "   avgCreditScore  loanAge  monMatur    mSA  zeroBalCode  deliqGood  deliqBad  \\\n",
       "0           633.0       77     283.0  15940          1.0         75         2   \n",
       "1           673.0       15     345.0  40900          1.0          8         7   \n",
       "2           603.0       60     120.0  19100          1.0         44        16   \n",
       "3           781.0       72     288.0      0          9.0         21        50   \n",
       "4           689.0       77     283.0  41740          1.0         73         3   \n",
       "\n",
       "   deliqMax  fmacRateMax  fmacRateMin  fmacRateAvg  fmacRateVolatility  \\\n",
       "0       1.0         6.34         6.22       6.2850            0.019293   \n",
       "1       6.0         5.26         5.21       5.2300            0.009597   \n",
       "2       2.0         7.17         6.84       7.0650            0.048246   \n",
       "3      21.0         5.82         5.64       5.7225            0.031915   \n",
       "4       1.0         5.26         5.21       5.2300            0.009597   \n",
       "\n",
       "   fredRate  rateDiffAbove  rateDiffBelow  rateDiffAvg  rateDiffAbovePct  \\\n",
       "0      4.84          0.160         -0.280       0.2150          0.025237   \n",
       "1      3.37         -0.010         -0.040       0.0200         -0.001901   \n",
       "2      4.78          0.205         -0.535       0.3100          0.028591   \n",
       "3      4.21         -0.320          0.140      -0.2225         -0.054983   \n",
       "4      3.37          0.240         -0.290       0.2700          0.045627   \n",
       "\n",
       "   rateDiffBelowPct  rateDiffAvgPct  \n",
       "0         -0.045016        0.034208  \n",
       "1         -0.007678        0.003824  \n",
       "2         -0.078216        0.043878  \n",
       "3          0.024823       -0.038882  \n",
       "4         -0.055662        0.051625  "
      ]
     },
     "execution_count": 8,
     "metadata": {},
     "output_type": "execute_result"
    }
   ],
   "source": [
    "df=pd.read_csv(\"data/FM_Acq2_Perf_FMAC2_loanAge_sample5.csv\")\n",
    "df.head()"
   ]
  },
  {
   "cell_type": "code",
   "execution_count": 9,
   "metadata": {
    "scrolled": false
   },
   "outputs": [
    {
     "name": "stdout",
     "output_type": "stream",
     "text": [
      "<class 'pandas.core.frame.DataFrame'>\n",
      "RangeIndex: 133163 entries, 0 to 133162\n",
      "Data columns (total 39 columns):\n",
      " #   Column              Non-Null Count   Dtype  \n",
      "---  ------              --------------   -----  \n",
      " 0   Unnamed: 0          133163 non-null  int64  \n",
      " 1   Unnamed: 0.1        133163 non-null  int64  \n",
      " 2   id                  133163 non-null  int64  \n",
      " 3   origChannel         133163 non-null  object \n",
      " 4   sellerName          133163 non-null  object \n",
      " 5   origIntRate         133163 non-null  float64\n",
      " 6   origUPB             133163 non-null  int64  \n",
      " 7   origLoanTerm        133163 non-null  int64  \n",
      " 8   origDate            133163 non-null  object \n",
      " 9   origLTV             133163 non-null  float64\n",
      " 10  origCLTV            133163 non-null  float64\n",
      " 11  numBorrowers        133163 non-null  float64\n",
      " 12  origDebtIncRatio    133163 non-null  float64\n",
      " 13  loanPurp            133163 non-null  object \n",
      " 14  propState           133163 non-null  object \n",
      " 15  zipCode             133163 non-null  int64  \n",
      " 16  pMIperct            133163 non-null  float64\n",
      " 17  mortInsType         133163 non-null  float64\n",
      " 18  bestCreditScore     133163 non-null  float64\n",
      " 19  worstCreditScore    133163 non-null  float64\n",
      " 20  avgCreditScore      133163 non-null  float64\n",
      " 21  loanAge             133163 non-null  int64  \n",
      " 22  monMatur            133087 non-null  float64\n",
      " 23  mSA                 133163 non-null  int64  \n",
      " 24  zeroBalCode         133163 non-null  float64\n",
      " 25  deliqGood           133163 non-null  int64  \n",
      " 26  deliqBad            133163 non-null  int64  \n",
      " 27  deliqMax            133163 non-null  float64\n",
      " 28  fmacRateMax         133163 non-null  float64\n",
      " 29  fmacRateMin         133163 non-null  float64\n",
      " 30  fmacRateAvg         133163 non-null  float64\n",
      " 31  fmacRateVolatility  133163 non-null  float64\n",
      " 32  fredRate            133163 non-null  float64\n",
      " 33  rateDiffAbove       133163 non-null  float64\n",
      " 34  rateDiffBelow       133163 non-null  float64\n",
      " 35  rateDiffAvg         133163 non-null  float64\n",
      " 36  rateDiffAbovePct    133163 non-null  float64\n",
      " 37  rateDiffBelowPct    133163 non-null  float64\n",
      " 38  rateDiffAvgPct      133163 non-null  float64\n",
      "dtypes: float64(24), int64(10), object(5)\n",
      "memory usage: 39.6+ MB\n"
     ]
    }
   ],
   "source": [
    "df.info()"
   ]
  },
  {
   "cell_type": "markdown",
   "metadata": {},
   "source": [
    "## Remove columns not involved in 'Foreclosure or Not' query"
   ]
  },
  {
   "cell_type": "code",
   "execution_count": 10,
   "metadata": {},
   "outputs": [],
   "source": [
    "df.drop(['Unnamed: 0','Unnamed: 0.1','id','fredRate',\\\n",
    "         'bestCreditScore','worstCreditScore','monMatur',\\\n",
    "         'deliqGood','deliqBad','deliqMax',\\\n",
    "        'fmacRateMax','fmacRateMin','fmacRateVolatility',\\\n",
    "        'rateDiffAbove','rateDiffBelow','rateDiffAbovePct','rateDiffBelowPct',\\\n",
    "        ],1,inplace=True)"
   ]
  },
  {
   "cell_type": "code",
   "execution_count": 11,
   "metadata": {},
   "outputs": [
    {
     "name": "stdout",
     "output_type": "stream",
     "text": [
      "<class 'pandas.core.frame.DataFrame'>\n",
      "RangeIndex: 133163 entries, 0 to 133162\n",
      "Data columns (total 22 columns):\n",
      " #   Column            Non-Null Count   Dtype  \n",
      "---  ------            --------------   -----  \n",
      " 0   origChannel       133163 non-null  object \n",
      " 1   sellerName        133163 non-null  object \n",
      " 2   origIntRate       133163 non-null  float64\n",
      " 3   origUPB           133163 non-null  int64  \n",
      " 4   origLoanTerm      133163 non-null  int64  \n",
      " 5   origDate          133163 non-null  object \n",
      " 6   origLTV           133163 non-null  float64\n",
      " 7   origCLTV          133163 non-null  float64\n",
      " 8   numBorrowers      133163 non-null  float64\n",
      " 9   origDebtIncRatio  133163 non-null  float64\n",
      " 10  loanPurp          133163 non-null  object \n",
      " 11  propState         133163 non-null  object \n",
      " 12  zipCode           133163 non-null  int64  \n",
      " 13  pMIperct          133163 non-null  float64\n",
      " 14  mortInsType       133163 non-null  float64\n",
      " 15  avgCreditScore    133163 non-null  float64\n",
      " 16  loanAge           133163 non-null  int64  \n",
      " 17  mSA               133163 non-null  int64  \n",
      " 18  zeroBalCode       133163 non-null  float64\n",
      " 19  fmacRateAvg       133163 non-null  float64\n",
      " 20  rateDiffAvg       133163 non-null  float64\n",
      " 21  rateDiffAvgPct    133163 non-null  float64\n",
      "dtypes: float64(12), int64(5), object(5)\n",
      "memory usage: 22.4+ MB\n"
     ]
    }
   ],
   "source": [
    "df.info()"
   ]
  },
  {
   "cell_type": "markdown",
   "metadata": {},
   "source": [
    "### Check if any columns have a null value"
   ]
  },
  {
   "cell_type": "code",
   "execution_count": 12,
   "metadata": {},
   "outputs": [
    {
     "data": {
      "text/plain": [
       "origChannel         0\n",
       "sellerName          0\n",
       "origIntRate         0\n",
       "origUPB             0\n",
       "origLoanTerm        0\n",
       "origDate            0\n",
       "origLTV             0\n",
       "origCLTV            0\n",
       "numBorrowers        0\n",
       "origDebtIncRatio    0\n",
       "loanPurp            0\n",
       "propState           0\n",
       "zipCode             0\n",
       "pMIperct            0\n",
       "mortInsType         0\n",
       "avgCreditScore      0\n",
       "loanAge             0\n",
       "mSA                 0\n",
       "zeroBalCode         0\n",
       "fmacRateAvg         0\n",
       "rateDiffAvg         0\n",
       "rateDiffAvgPct      0\n",
       "dtype: int64"
      ]
     },
     "execution_count": 12,
     "metadata": {},
     "output_type": "execute_result"
    }
   ],
   "source": [
    "df.apply(lambda x: x.isnull().sum(), axis=0)"
   ]
  },
  {
   "cell_type": "markdown",
   "metadata": {},
   "source": [
    "## Engineer originDate into Date features"
   ]
  },
  {
   "cell_type": "code",
   "execution_count": 13,
   "metadata": {},
   "outputs": [],
   "source": [
    "df['origDate'] = pd.to_datetime(df['origDate'])"
   ]
  },
  {
   "cell_type": "code",
   "execution_count": 14,
   "metadata": {},
   "outputs": [],
   "source": [
    "df['origYear'] = df['origDate'].dt.year\n",
    "df['origMonth'] = df['origDate'].dt.month"
   ]
  },
  {
   "cell_type": "code",
   "execution_count": 15,
   "metadata": {},
   "outputs": [],
   "source": [
    "df.drop(['origDate'],1,inplace=True)"
   ]
  },
  {
   "cell_type": "code",
   "execution_count": 16,
   "metadata": {
    "scrolled": true
   },
   "outputs": [
    {
     "data": {
      "text/html": [
       "<div>\n",
       "<style scoped>\n",
       "    .dataframe tbody tr th:only-of-type {\n",
       "        vertical-align: middle;\n",
       "    }\n",
       "\n",
       "    .dataframe tbody tr th {\n",
       "        vertical-align: top;\n",
       "    }\n",
       "\n",
       "    .dataframe thead th {\n",
       "        text-align: right;\n",
       "    }\n",
       "</style>\n",
       "<table border=\"1\" class=\"dataframe\">\n",
       "  <thead>\n",
       "    <tr style=\"text-align: right;\">\n",
       "      <th></th>\n",
       "      <th>origYear</th>\n",
       "      <th>origMonth</th>\n",
       "    </tr>\n",
       "  </thead>\n",
       "  <tbody>\n",
       "    <tr>\n",
       "      <th>0</th>\n",
       "      <td>2007</td>\n",
       "      <td>2</td>\n",
       "    </tr>\n",
       "    <tr>\n",
       "      <th>1</th>\n",
       "      <td>2003</td>\n",
       "      <td>6</td>\n",
       "    </tr>\n",
       "    <tr>\n",
       "      <th>2</th>\n",
       "      <td>2001</td>\n",
       "      <td>12</td>\n",
       "    </tr>\n",
       "    <tr>\n",
       "      <th>3</th>\n",
       "      <td>2004</td>\n",
       "      <td>10</td>\n",
       "    </tr>\n",
       "    <tr>\n",
       "      <th>4</th>\n",
       "      <td>2003</td>\n",
       "      <td>6</td>\n",
       "    </tr>\n",
       "  </tbody>\n",
       "</table>\n",
       "</div>"
      ],
      "text/plain": [
       "   origYear  origMonth\n",
       "0      2007          2\n",
       "1      2003          6\n",
       "2      2001         12\n",
       "3      2004         10\n",
       "4      2003          6"
      ]
     },
     "execution_count": 16,
     "metadata": {},
     "output_type": "execute_result"
    }
   ],
   "source": [
    "df[['origYear','origMonth']].head()"
   ]
  },
  {
   "cell_type": "markdown",
   "metadata": {},
   "source": [
    "# Turn zero Balance Code Into binary \"0\" GOOD and \"1\" BAD"
   ]
  },
  {
   "cell_type": "code",
   "execution_count": 17,
   "metadata": {},
   "outputs": [
    {
     "data": {
      "text/plain": [
       "array([ 1.,  9.,  6., 16., 15.,  3.,  2.])"
      ]
     },
     "execution_count": 17,
     "metadata": {},
     "output_type": "execute_result"
    }
   ],
   "source": [
    "df.zeroBalCode.unique()"
   ]
  },
  {
   "cell_type": "code",
   "execution_count": 18,
   "metadata": {},
   "outputs": [],
   "source": [
    "df['zeroBalCode'] = df.zeroBalCode.replace([1,6,16],0)\n",
    "df['zeroBalCode'] = df.zeroBalCode.replace([9,3,2,15],1)"
   ]
  },
  {
   "cell_type": "code",
   "execution_count": 19,
   "metadata": {},
   "outputs": [
    {
     "data": {
      "text/plain": [
       "array([0., 1.])"
      ]
     },
     "execution_count": 19,
     "metadata": {},
     "output_type": "execute_result"
    }
   ],
   "source": [
    "df.zeroBalCode.unique()"
   ]
  },
  {
   "cell_type": "code",
   "execution_count": 20,
   "metadata": {
    "scrolled": false
   },
   "outputs": [
    {
     "data": {
      "text/html": [
       "<div>\n",
       "<style scoped>\n",
       "    .dataframe tbody tr th:only-of-type {\n",
       "        vertical-align: middle;\n",
       "    }\n",
       "\n",
       "    .dataframe tbody tr th {\n",
       "        vertical-align: top;\n",
       "    }\n",
       "\n",
       "    .dataframe thead th {\n",
       "        text-align: right;\n",
       "    }\n",
       "</style>\n",
       "<table border=\"1\" class=\"dataframe\">\n",
       "  <thead>\n",
       "    <tr style=\"text-align: right;\">\n",
       "      <th></th>\n",
       "      <th>origChannel</th>\n",
       "      <th>sellerName</th>\n",
       "      <th>origIntRate</th>\n",
       "      <th>origUPB</th>\n",
       "      <th>origLoanTerm</th>\n",
       "      <th>origLTV</th>\n",
       "      <th>origCLTV</th>\n",
       "      <th>numBorrowers</th>\n",
       "      <th>origDebtIncRatio</th>\n",
       "      <th>loanPurp</th>\n",
       "      <th>propState</th>\n",
       "      <th>zipCode</th>\n",
       "      <th>pMIperct</th>\n",
       "      <th>mortInsType</th>\n",
       "      <th>avgCreditScore</th>\n",
       "      <th>loanAge</th>\n",
       "      <th>mSA</th>\n",
       "      <th>zeroBalCode</th>\n",
       "      <th>fmacRateAvg</th>\n",
       "      <th>rateDiffAvg</th>\n",
       "      <th>rateDiffAvgPct</th>\n",
       "      <th>origYear</th>\n",
       "      <th>origMonth</th>\n",
       "    </tr>\n",
       "  </thead>\n",
       "  <tbody>\n",
       "    <tr>\n",
       "      <th>0</th>\n",
       "      <td>B</td>\n",
       "      <td>OTHER</td>\n",
       "      <td>6.500</td>\n",
       "      <td>79000</td>\n",
       "      <td>360</td>\n",
       "      <td>69.0</td>\n",
       "      <td>69.0</td>\n",
       "      <td>1.0</td>\n",
       "      <td>27.0</td>\n",
       "      <td>R</td>\n",
       "      <td>OH</td>\n",
       "      <td>447</td>\n",
       "      <td>0.0</td>\n",
       "      <td>0.0</td>\n",
       "      <td>633.0</td>\n",
       "      <td>77</td>\n",
       "      <td>15940</td>\n",
       "      <td>0.0</td>\n",
       "      <td>6.2850</td>\n",
       "      <td>0.2150</td>\n",
       "      <td>0.034208</td>\n",
       "      <td>2007</td>\n",
       "      <td>2</td>\n",
       "    </tr>\n",
       "    <tr>\n",
       "      <th>1</th>\n",
       "      <td>C</td>\n",
       "      <td>BANK OF AMERICA, N.A.</td>\n",
       "      <td>5.250</td>\n",
       "      <td>140000</td>\n",
       "      <td>360</td>\n",
       "      <td>49.0</td>\n",
       "      <td>49.0</td>\n",
       "      <td>1.0</td>\n",
       "      <td>31.0</td>\n",
       "      <td>R</td>\n",
       "      <td>CA</td>\n",
       "      <td>956</td>\n",
       "      <td>0.0</td>\n",
       "      <td>0.0</td>\n",
       "      <td>673.0</td>\n",
       "      <td>15</td>\n",
       "      <td>40900</td>\n",
       "      <td>0.0</td>\n",
       "      <td>5.2300</td>\n",
       "      <td>0.0200</td>\n",
       "      <td>0.003824</td>\n",
       "      <td>2003</td>\n",
       "      <td>6</td>\n",
       "    </tr>\n",
       "    <tr>\n",
       "      <th>2</th>\n",
       "      <td>R</td>\n",
       "      <td>WITMER FUNDING, LLC</td>\n",
       "      <td>7.375</td>\n",
       "      <td>64000</td>\n",
       "      <td>180</td>\n",
       "      <td>80.0</td>\n",
       "      <td>80.0</td>\n",
       "      <td>2.0</td>\n",
       "      <td>24.0</td>\n",
       "      <td>C</td>\n",
       "      <td>TX</td>\n",
       "      <td>761</td>\n",
       "      <td>0.0</td>\n",
       "      <td>0.0</td>\n",
       "      <td>603.0</td>\n",
       "      <td>60</td>\n",
       "      <td>19100</td>\n",
       "      <td>0.0</td>\n",
       "      <td>7.0650</td>\n",
       "      <td>0.3100</td>\n",
       "      <td>0.043878</td>\n",
       "      <td>2001</td>\n",
       "      <td>12</td>\n",
       "    </tr>\n",
       "    <tr>\n",
       "      <th>3</th>\n",
       "      <td>C</td>\n",
       "      <td>OTHER</td>\n",
       "      <td>5.500</td>\n",
       "      <td>90000</td>\n",
       "      <td>360</td>\n",
       "      <td>97.0</td>\n",
       "      <td>97.0</td>\n",
       "      <td>1.0</td>\n",
       "      <td>46.0</td>\n",
       "      <td>P</td>\n",
       "      <td>IA</td>\n",
       "      <td>525</td>\n",
       "      <td>30.0</td>\n",
       "      <td>1.0</td>\n",
       "      <td>781.0</td>\n",
       "      <td>72</td>\n",
       "      <td>0</td>\n",
       "      <td>1.0</td>\n",
       "      <td>5.7225</td>\n",
       "      <td>-0.2225</td>\n",
       "      <td>-0.038882</td>\n",
       "      <td>2004</td>\n",
       "      <td>10</td>\n",
       "    </tr>\n",
       "    <tr>\n",
       "      <th>4</th>\n",
       "      <td>R</td>\n",
       "      <td>JPMORGAN CHASE BANK, NA</td>\n",
       "      <td>5.500</td>\n",
       "      <td>210000</td>\n",
       "      <td>360</td>\n",
       "      <td>64.0</td>\n",
       "      <td>64.0</td>\n",
       "      <td>2.0</td>\n",
       "      <td>34.0</td>\n",
       "      <td>C</td>\n",
       "      <td>CA</td>\n",
       "      <td>920</td>\n",
       "      <td>0.0</td>\n",
       "      <td>0.0</td>\n",
       "      <td>689.0</td>\n",
       "      <td>77</td>\n",
       "      <td>41740</td>\n",
       "      <td>0.0</td>\n",
       "      <td>5.2300</td>\n",
       "      <td>0.2700</td>\n",
       "      <td>0.051625</td>\n",
       "      <td>2003</td>\n",
       "      <td>6</td>\n",
       "    </tr>\n",
       "  </tbody>\n",
       "</table>\n",
       "</div>"
      ],
      "text/plain": [
       "  origChannel               sellerName  origIntRate  origUPB  origLoanTerm  \\\n",
       "0           B                    OTHER        6.500    79000           360   \n",
       "1           C    BANK OF AMERICA, N.A.        5.250   140000           360   \n",
       "2           R      WITMER FUNDING, LLC        7.375    64000           180   \n",
       "3           C                    OTHER        5.500    90000           360   \n",
       "4           R  JPMORGAN CHASE BANK, NA        5.500   210000           360   \n",
       "\n",
       "   origLTV  origCLTV  numBorrowers  origDebtIncRatio loanPurp propState  \\\n",
       "0     69.0      69.0           1.0              27.0        R        OH   \n",
       "1     49.0      49.0           1.0              31.0        R        CA   \n",
       "2     80.0      80.0           2.0              24.0        C        TX   \n",
       "3     97.0      97.0           1.0              46.0        P        IA   \n",
       "4     64.0      64.0           2.0              34.0        C        CA   \n",
       "\n",
       "   zipCode  pMIperct  mortInsType  avgCreditScore  loanAge    mSA  \\\n",
       "0      447       0.0          0.0           633.0       77  15940   \n",
       "1      956       0.0          0.0           673.0       15  40900   \n",
       "2      761       0.0          0.0           603.0       60  19100   \n",
       "3      525      30.0          1.0           781.0       72      0   \n",
       "4      920       0.0          0.0           689.0       77  41740   \n",
       "\n",
       "   zeroBalCode  fmacRateAvg  rateDiffAvg  rateDiffAvgPct  origYear  origMonth  \n",
       "0          0.0       6.2850       0.2150        0.034208      2007          2  \n",
       "1          0.0       5.2300       0.0200        0.003824      2003          6  \n",
       "2          0.0       7.0650       0.3100        0.043878      2001         12  \n",
       "3          1.0       5.7225      -0.2225       -0.038882      2004         10  \n",
       "4          0.0       5.2300       0.2700        0.051625      2003          6  "
      ]
     },
     "execution_count": 20,
     "metadata": {},
     "output_type": "execute_result"
    }
   ],
   "source": [
    "#Checking datatypes of individual feature\n",
    "df.head()"
   ]
  },
  {
   "cell_type": "markdown",
   "metadata": {},
   "source": [
    "# Review values for dates and slice (if needed) the timeframe you want"
   ]
  },
  {
   "cell_type": "code",
   "execution_count": 21,
   "metadata": {},
   "outputs": [
    {
     "data": {
      "text/plain": [
       "array([2007, 2003, 2001, 2004, 2005, 2011, 2002, 2013, 2000, 2006, 2010,\n",
       "       2012, 2015, 2009, 2008, 2016, 2014, 2018, 1999, 2017, 2019],\n",
       "      dtype=int64)"
      ]
     },
     "execution_count": 21,
     "metadata": {},
     "output_type": "execute_result"
    }
   ],
   "source": [
    "df.origYear.unique()"
   ]
  },
  {
   "cell_type": "code",
   "execution_count": 22,
   "metadata": {},
   "outputs": [
    {
     "data": {
      "text/plain": [
       "array([ 2,  6, 12, 10,  8,  9, 11,  1,  5,  4,  7,  3], dtype=int64)"
      ]
     },
     "execution_count": 22,
     "metadata": {},
     "output_type": "execute_result"
    }
   ],
   "source": [
    "df['origMonth'].unique()"
   ]
  },
  {
   "cell_type": "code",
   "execution_count": 23,
   "metadata": {},
   "outputs": [
    {
     "data": {
      "text/html": [
       "<div>\n",
       "<style scoped>\n",
       "    .dataframe tbody tr th:only-of-type {\n",
       "        vertical-align: middle;\n",
       "    }\n",
       "\n",
       "    .dataframe tbody tr th {\n",
       "        vertical-align: top;\n",
       "    }\n",
       "\n",
       "    .dataframe thead th {\n",
       "        text-align: right;\n",
       "    }\n",
       "</style>\n",
       "<table border=\"1\" class=\"dataframe\">\n",
       "  <thead>\n",
       "    <tr style=\"text-align: right;\">\n",
       "      <th></th>\n",
       "      <th>origChannel</th>\n",
       "      <th>sellerName</th>\n",
       "      <th>origIntRate</th>\n",
       "      <th>origUPB</th>\n",
       "      <th>origLoanTerm</th>\n",
       "      <th>origLTV</th>\n",
       "      <th>origCLTV</th>\n",
       "      <th>numBorrowers</th>\n",
       "      <th>origDebtIncRatio</th>\n",
       "      <th>loanPurp</th>\n",
       "      <th>propState</th>\n",
       "      <th>zipCode</th>\n",
       "      <th>pMIperct</th>\n",
       "      <th>mortInsType</th>\n",
       "      <th>avgCreditScore</th>\n",
       "      <th>loanAge</th>\n",
       "      <th>mSA</th>\n",
       "      <th>zeroBalCode</th>\n",
       "      <th>fmacRateAvg</th>\n",
       "      <th>rateDiffAvg</th>\n",
       "      <th>rateDiffAvgPct</th>\n",
       "      <th>origYear</th>\n",
       "      <th>origMonth</th>\n",
       "    </tr>\n",
       "  </thead>\n",
       "  <tbody>\n",
       "    <tr>\n",
       "      <th>0</th>\n",
       "      <td>B</td>\n",
       "      <td>OTHER</td>\n",
       "      <td>6.500</td>\n",
       "      <td>79000</td>\n",
       "      <td>360</td>\n",
       "      <td>69.0</td>\n",
       "      <td>69.0</td>\n",
       "      <td>1.0</td>\n",
       "      <td>27.0</td>\n",
       "      <td>R</td>\n",
       "      <td>OH</td>\n",
       "      <td>447</td>\n",
       "      <td>0.0</td>\n",
       "      <td>0.0</td>\n",
       "      <td>633.0</td>\n",
       "      <td>77</td>\n",
       "      <td>15940</td>\n",
       "      <td>0.0</td>\n",
       "      <td>6.2850</td>\n",
       "      <td>0.2150</td>\n",
       "      <td>0.034208</td>\n",
       "      <td>2007</td>\n",
       "      <td>2</td>\n",
       "    </tr>\n",
       "    <tr>\n",
       "      <th>1</th>\n",
       "      <td>C</td>\n",
       "      <td>BANK OF AMERICA, N.A.</td>\n",
       "      <td>5.250</td>\n",
       "      <td>140000</td>\n",
       "      <td>360</td>\n",
       "      <td>49.0</td>\n",
       "      <td>49.0</td>\n",
       "      <td>1.0</td>\n",
       "      <td>31.0</td>\n",
       "      <td>R</td>\n",
       "      <td>CA</td>\n",
       "      <td>956</td>\n",
       "      <td>0.0</td>\n",
       "      <td>0.0</td>\n",
       "      <td>673.0</td>\n",
       "      <td>15</td>\n",
       "      <td>40900</td>\n",
       "      <td>0.0</td>\n",
       "      <td>5.2300</td>\n",
       "      <td>0.0200</td>\n",
       "      <td>0.003824</td>\n",
       "      <td>2003</td>\n",
       "      <td>6</td>\n",
       "    </tr>\n",
       "    <tr>\n",
       "      <th>2</th>\n",
       "      <td>R</td>\n",
       "      <td>WITMER FUNDING, LLC</td>\n",
       "      <td>7.375</td>\n",
       "      <td>64000</td>\n",
       "      <td>180</td>\n",
       "      <td>80.0</td>\n",
       "      <td>80.0</td>\n",
       "      <td>2.0</td>\n",
       "      <td>24.0</td>\n",
       "      <td>C</td>\n",
       "      <td>TX</td>\n",
       "      <td>761</td>\n",
       "      <td>0.0</td>\n",
       "      <td>0.0</td>\n",
       "      <td>603.0</td>\n",
       "      <td>60</td>\n",
       "      <td>19100</td>\n",
       "      <td>0.0</td>\n",
       "      <td>7.0650</td>\n",
       "      <td>0.3100</td>\n",
       "      <td>0.043878</td>\n",
       "      <td>2001</td>\n",
       "      <td>12</td>\n",
       "    </tr>\n",
       "    <tr>\n",
       "      <th>3</th>\n",
       "      <td>C</td>\n",
       "      <td>OTHER</td>\n",
       "      <td>5.500</td>\n",
       "      <td>90000</td>\n",
       "      <td>360</td>\n",
       "      <td>97.0</td>\n",
       "      <td>97.0</td>\n",
       "      <td>1.0</td>\n",
       "      <td>46.0</td>\n",
       "      <td>P</td>\n",
       "      <td>IA</td>\n",
       "      <td>525</td>\n",
       "      <td>30.0</td>\n",
       "      <td>1.0</td>\n",
       "      <td>781.0</td>\n",
       "      <td>72</td>\n",
       "      <td>0</td>\n",
       "      <td>1.0</td>\n",
       "      <td>5.7225</td>\n",
       "      <td>-0.2225</td>\n",
       "      <td>-0.038882</td>\n",
       "      <td>2004</td>\n",
       "      <td>10</td>\n",
       "    </tr>\n",
       "    <tr>\n",
       "      <th>4</th>\n",
       "      <td>R</td>\n",
       "      <td>JPMORGAN CHASE BANK, NA</td>\n",
       "      <td>5.500</td>\n",
       "      <td>210000</td>\n",
       "      <td>360</td>\n",
       "      <td>64.0</td>\n",
       "      <td>64.0</td>\n",
       "      <td>2.0</td>\n",
       "      <td>34.0</td>\n",
       "      <td>C</td>\n",
       "      <td>CA</td>\n",
       "      <td>920</td>\n",
       "      <td>0.0</td>\n",
       "      <td>0.0</td>\n",
       "      <td>689.0</td>\n",
       "      <td>77</td>\n",
       "      <td>41740</td>\n",
       "      <td>0.0</td>\n",
       "      <td>5.2300</td>\n",
       "      <td>0.2700</td>\n",
       "      <td>0.051625</td>\n",
       "      <td>2003</td>\n",
       "      <td>6</td>\n",
       "    </tr>\n",
       "  </tbody>\n",
       "</table>\n",
       "</div>"
      ],
      "text/plain": [
       "  origChannel               sellerName  origIntRate  origUPB  origLoanTerm  \\\n",
       "0           B                    OTHER        6.500    79000           360   \n",
       "1           C    BANK OF AMERICA, N.A.        5.250   140000           360   \n",
       "2           R      WITMER FUNDING, LLC        7.375    64000           180   \n",
       "3           C                    OTHER        5.500    90000           360   \n",
       "4           R  JPMORGAN CHASE BANK, NA        5.500   210000           360   \n",
       "\n",
       "   origLTV  origCLTV  numBorrowers  origDebtIncRatio loanPurp propState  \\\n",
       "0     69.0      69.0           1.0              27.0        R        OH   \n",
       "1     49.0      49.0           1.0              31.0        R        CA   \n",
       "2     80.0      80.0           2.0              24.0        C        TX   \n",
       "3     97.0      97.0           1.0              46.0        P        IA   \n",
       "4     64.0      64.0           2.0              34.0        C        CA   \n",
       "\n",
       "   zipCode  pMIperct  mortInsType  avgCreditScore  loanAge    mSA  \\\n",
       "0      447       0.0          0.0           633.0       77  15940   \n",
       "1      956       0.0          0.0           673.0       15  40900   \n",
       "2      761       0.0          0.0           603.0       60  19100   \n",
       "3      525      30.0          1.0           781.0       72      0   \n",
       "4      920       0.0          0.0           689.0       77  41740   \n",
       "\n",
       "   zeroBalCode  fmacRateAvg  rateDiffAvg  rateDiffAvgPct  origYear  origMonth  \n",
       "0          0.0       6.2850       0.2150        0.034208      2007          2  \n",
       "1          0.0       5.2300       0.0200        0.003824      2003          6  \n",
       "2          0.0       7.0650       0.3100        0.043878      2001         12  \n",
       "3          1.0       5.7225      -0.2225       -0.038882      2004         10  \n",
       "4          0.0       5.2300       0.2700        0.051625      2003          6  "
      ]
     },
     "execution_count": 23,
     "metadata": {},
     "output_type": "execute_result"
    }
   ],
   "source": [
    "df.head()"
   ]
  },
  {
   "cell_type": "markdown",
   "metadata": {},
   "source": [
    "# Coerce the column dtype (int in this case)"
   ]
  },
  {
   "cell_type": "code",
   "execution_count": 26,
   "metadata": {},
   "outputs": [],
   "source": [
    "df = df.astype({'origLTV':'int','origCLTV':'int','numBorrowers':'int','origDebtIncRatio':'int',\\\n",
    "               'mortInsType':'int','loanAge':'int',\\\n",
    "               'avgCreditScore':'int','zeroBalCode':'int'})\n",
    "#,'zeroBalCode':'int'"
   ]
  },
  {
   "cell_type": "code",
   "execution_count": 27,
   "metadata": {},
   "outputs": [
    {
     "name": "stdout",
     "output_type": "stream",
     "text": [
      "<class 'pandas.core.frame.DataFrame'>\n",
      "RangeIndex: 133163 entries, 0 to 133162\n",
      "Data columns (total 23 columns):\n",
      " #   Column            Non-Null Count   Dtype  \n",
      "---  ------            --------------   -----  \n",
      " 0   origChannel       133163 non-null  object \n",
      " 1   sellerName        133163 non-null  object \n",
      " 2   origIntRate       133163 non-null  float64\n",
      " 3   origUPB           133163 non-null  int64  \n",
      " 4   origLoanTerm      133163 non-null  int64  \n",
      " 5   origLTV           133163 non-null  int32  \n",
      " 6   origCLTV          133163 non-null  int32  \n",
      " 7   numBorrowers      133163 non-null  int32  \n",
      " 8   origDebtIncRatio  133163 non-null  int32  \n",
      " 9   loanPurp          133163 non-null  object \n",
      " 10  propState         133163 non-null  object \n",
      " 11  zipCode           133163 non-null  int64  \n",
      " 12  pMIperct          133163 non-null  float64\n",
      " 13  mortInsType       133163 non-null  int32  \n",
      " 14  avgCreditScore    133163 non-null  int32  \n",
      " 15  loanAge           133163 non-null  int32  \n",
      " 16  mSA               133163 non-null  int64  \n",
      " 17  zeroBalCode       133163 non-null  int32  \n",
      " 18  fmacRateAvg       133163 non-null  float64\n",
      " 19  rateDiffAvg       133163 non-null  float64\n",
      " 20  rateDiffAvgPct    133163 non-null  float64\n",
      " 21  origYear          133163 non-null  int64  \n",
      " 22  origMonth         133163 non-null  int64  \n",
      "dtypes: float64(5), int32(8), int64(6), object(4)\n",
      "memory usage: 19.3+ MB\n"
     ]
    }
   ],
   "source": [
    "df.info()"
   ]
  },
  {
   "cell_type": "markdown",
   "metadata": {},
   "source": [
    "<a id='MLReady'></a>"
   ]
  },
  {
   "cell_type": "markdown",
   "metadata": {},
   "source": [
    "# Oversampling (Since we are starting with only 14.51% of our predicted class)"
   ]
  },
  {
   "cell_type": "code",
   "execution_count": 28,
   "metadata": {},
   "outputs": [
    {
     "name": "stdout",
     "output_type": "stream",
     "text": [
      "We have 14.51% Foreclosures in our dataset\n"
     ]
    }
   ],
   "source": [
    "good = df.zeroBalCode.value_counts()[0]\n",
    "bad = df.zeroBalCode.value_counts()[1]\n",
    "perct_bad = round(bad/(good + bad)*100,2)\n",
    "print(f'We have {perct_bad}% Foreclosures in our dataset')"
   ]
  },
  {
   "cell_type": "code",
   "execution_count": 29,
   "metadata": {},
   "outputs": [],
   "source": [
    "from sklearn.model_selection import train_test_split\n",
    "\n",
    "training_features, test_features, \\\n",
    "training_target, test_target, = train_test_split(\n",
    "    df.drop(['zeroBalCode'], axis=1)\n",
    "    , df['zeroBalCode']\n",
    "    , test_size = .1\n",
    "    , random_state=12\n",
    ")"
   ]
  },
  {
   "cell_type": "code",
   "execution_count": 30,
   "metadata": {},
   "outputs": [],
   "source": [
    "# Further split the training data into training/test\n",
    "x_train, x_val, y_train, y_val = train_test_split(\n",
    "    training_features\n",
    "    , training_target\n",
    "    , test_size = .1\n",
    "    ,random_state=12\n",
    ")"
   ]
  },
  {
   "cell_type": "code",
   "execution_count": 31,
   "metadata": {},
   "outputs": [],
   "source": [
    "# For the training data, randomly sample \n",
    "# ros = RandomOverSampler(sampling_strategy='minority')\n",
    "# x_train_res, y_train_res = ros.fit_sample(x_train, y_train)"
   ]
  },
  {
   "cell_type": "code",
   "execution_count": 32,
   "metadata": {},
   "outputs": [
    {
     "name": "stdout",
     "output_type": "stream",
     "text": [
      "#############################################\n",
      "Before oversampling: \"Closed\" crushes \"Default\" and causes issues:\n",
      "0    102437\n",
      "1     17409\n",
      "Name: zeroBalCode, dtype: int64\n"
     ]
    }
   ],
   "source": [
    "print('#############################################')\n",
    "print('Before oversampling: \"Closed\" crushes \"Default\" and causes issues:')\n",
    "print(training_target.value_counts())\n",
    "# print('')\n",
    "# print('Before oversampling: \"Closed\" and \"Default\" are equal')\n",
    "# print(y_train_res.value_counts())"
   ]
  },
  {
   "cell_type": "markdown",
   "metadata": {},
   "source": [
    "# Recombine X_train_res, y_train_res so PyCaret can deal with one df"
   ]
  },
  {
   "cell_type": "code",
   "execution_count": 33,
   "metadata": {},
   "outputs": [
    {
     "data": {
      "text/plain": [
       "(107861,)"
      ]
     },
     "execution_count": 33,
     "metadata": {},
     "output_type": "execute_result"
    }
   ],
   "source": [
    "y_train.shape"
   ]
  },
  {
   "cell_type": "code",
   "execution_count": 34,
   "metadata": {},
   "outputs": [],
   "source": [
    "df = x_train.copy()"
   ]
  },
  {
   "cell_type": "code",
   "execution_count": 35,
   "metadata": {},
   "outputs": [],
   "source": [
    "df['zeroBalCode'] = y_train"
   ]
  },
  {
   "cell_type": "code",
   "execution_count": 36,
   "metadata": {},
   "outputs": [
    {
     "data": {
      "text/plain": [
       "(107861, 23)"
      ]
     },
     "execution_count": 36,
     "metadata": {},
     "output_type": "execute_result"
    }
   ],
   "source": [
    "df.shape"
   ]
  },
  {
   "cell_type": "markdown",
   "metadata": {},
   "source": [
    "# Review metrics last time before run (to have record of starting values)"
   ]
  },
  {
   "cell_type": "code",
   "execution_count": 37,
   "metadata": {},
   "outputs": [
    {
     "name": "stdout",
     "output_type": "stream",
     "text": [
      "<class 'pandas.core.frame.DataFrame'>\n",
      "Int64Index: 107861 entries, 80129 to 48202\n",
      "Data columns (total 23 columns):\n",
      " #   Column            Non-Null Count   Dtype  \n",
      "---  ------            --------------   -----  \n",
      " 0   origChannel       107861 non-null  object \n",
      " 1   sellerName        107861 non-null  object \n",
      " 2   origIntRate       107861 non-null  float64\n",
      " 3   origUPB           107861 non-null  int64  \n",
      " 4   origLoanTerm      107861 non-null  int64  \n",
      " 5   origLTV           107861 non-null  int32  \n",
      " 6   origCLTV          107861 non-null  int32  \n",
      " 7   numBorrowers      107861 non-null  int32  \n",
      " 8   origDebtIncRatio  107861 non-null  int32  \n",
      " 9   loanPurp          107861 non-null  object \n",
      " 10  propState         107861 non-null  object \n",
      " 11  zipCode           107861 non-null  int64  \n",
      " 12  pMIperct          107861 non-null  float64\n",
      " 13  mortInsType       107861 non-null  int32  \n",
      " 14  avgCreditScore    107861 non-null  int32  \n",
      " 15  loanAge           107861 non-null  int32  \n",
      " 16  mSA               107861 non-null  int64  \n",
      " 17  fmacRateAvg       107861 non-null  float64\n",
      " 18  rateDiffAvg       107861 non-null  float64\n",
      " 19  rateDiffAvgPct    107861 non-null  float64\n",
      " 20  origYear          107861 non-null  int64  \n",
      " 21  origMonth         107861 non-null  int64  \n",
      " 22  zeroBalCode       107861 non-null  int32  \n",
      "dtypes: float64(5), int32(8), int64(6), object(4)\n",
      "memory usage: 16.5+ MB\n"
     ]
    }
   ],
   "source": [
    "df.info()"
   ]
  },
  {
   "cell_type": "code",
   "execution_count": 38,
   "metadata": {},
   "outputs": [
    {
     "data": {
      "text/html": [
       "<div>\n",
       "<style scoped>\n",
       "    .dataframe tbody tr th:only-of-type {\n",
       "        vertical-align: middle;\n",
       "    }\n",
       "\n",
       "    .dataframe tbody tr th {\n",
       "        vertical-align: top;\n",
       "    }\n",
       "\n",
       "    .dataframe thead th {\n",
       "        text-align: right;\n",
       "    }\n",
       "</style>\n",
       "<table border=\"1\" class=\"dataframe\">\n",
       "  <thead>\n",
       "    <tr style=\"text-align: right;\">\n",
       "      <th></th>\n",
       "      <th>origChannel</th>\n",
       "      <th>sellerName</th>\n",
       "      <th>origIntRate</th>\n",
       "      <th>origUPB</th>\n",
       "      <th>origLoanTerm</th>\n",
       "      <th>origLTV</th>\n",
       "      <th>origCLTV</th>\n",
       "      <th>numBorrowers</th>\n",
       "      <th>origDebtIncRatio</th>\n",
       "      <th>loanPurp</th>\n",
       "      <th>propState</th>\n",
       "      <th>zipCode</th>\n",
       "      <th>pMIperct</th>\n",
       "      <th>mortInsType</th>\n",
       "      <th>avgCreditScore</th>\n",
       "      <th>loanAge</th>\n",
       "      <th>mSA</th>\n",
       "      <th>fmacRateAvg</th>\n",
       "      <th>rateDiffAvg</th>\n",
       "      <th>rateDiffAvgPct</th>\n",
       "      <th>origYear</th>\n",
       "      <th>origMonth</th>\n",
       "      <th>zeroBalCode</th>\n",
       "    </tr>\n",
       "  </thead>\n",
       "  <tbody>\n",
       "    <tr>\n",
       "      <th>80129</th>\n",
       "      <td>B</td>\n",
       "      <td>JPMORGAN CHASE BANK, NATIONAL ASSOCIATION</td>\n",
       "      <td>7.000</td>\n",
       "      <td>56000</td>\n",
       "      <td>240</td>\n",
       "      <td>73</td>\n",
       "      <td>73</td>\n",
       "      <td>1</td>\n",
       "      <td>20</td>\n",
       "      <td>C</td>\n",
       "      <td>IL</td>\n",
       "      <td>627</td>\n",
       "      <td>0.0</td>\n",
       "      <td>0</td>\n",
       "      <td>624</td>\n",
       "      <td>145</td>\n",
       "      <td>44100</td>\n",
       "      <td>6.068</td>\n",
       "      <td>0.932</td>\n",
       "      <td>0.153593</td>\n",
       "      <td>2002</td>\n",
       "      <td>11</td>\n",
       "      <td>0</td>\n",
       "    </tr>\n",
       "    <tr>\n",
       "      <th>1974</th>\n",
       "      <td>C</td>\n",
       "      <td>OTHER</td>\n",
       "      <td>5.375</td>\n",
       "      <td>70000</td>\n",
       "      <td>180</td>\n",
       "      <td>37</td>\n",
       "      <td>37</td>\n",
       "      <td>1</td>\n",
       "      <td>43</td>\n",
       "      <td>C</td>\n",
       "      <td>AZ</td>\n",
       "      <td>850</td>\n",
       "      <td>0.0</td>\n",
       "      <td>0</td>\n",
       "      <td>749</td>\n",
       "      <td>158</td>\n",
       "      <td>38060</td>\n",
       "      <td>6.272</td>\n",
       "      <td>-0.897</td>\n",
       "      <td>-0.143017</td>\n",
       "      <td>2005</td>\n",
       "      <td>12</td>\n",
       "      <td>0</td>\n",
       "    </tr>\n",
       "    <tr>\n",
       "      <th>96616</th>\n",
       "      <td>C</td>\n",
       "      <td>OTHER</td>\n",
       "      <td>7.250</td>\n",
       "      <td>119000</td>\n",
       "      <td>360</td>\n",
       "      <td>84</td>\n",
       "      <td>84</td>\n",
       "      <td>1</td>\n",
       "      <td>15</td>\n",
       "      <td>R</td>\n",
       "      <td>TX</td>\n",
       "      <td>762</td>\n",
       "      <td>12.0</td>\n",
       "      <td>1</td>\n",
       "      <td>698</td>\n",
       "      <td>147</td>\n",
       "      <td>0</td>\n",
       "      <td>7.050</td>\n",
       "      <td>0.200</td>\n",
       "      <td>0.028369</td>\n",
       "      <td>2001</td>\n",
       "      <td>2</td>\n",
       "      <td>0</td>\n",
       "    </tr>\n",
       "    <tr>\n",
       "      <th>98170</th>\n",
       "      <td>R</td>\n",
       "      <td>BANK OF AMERICA, N.A.</td>\n",
       "      <td>6.125</td>\n",
       "      <td>66000</td>\n",
       "      <td>240</td>\n",
       "      <td>85</td>\n",
       "      <td>85</td>\n",
       "      <td>1</td>\n",
       "      <td>38</td>\n",
       "      <td>R</td>\n",
       "      <td>AL</td>\n",
       "      <td>356</td>\n",
       "      <td>6.0</td>\n",
       "      <td>1</td>\n",
       "      <td>618</td>\n",
       "      <td>145</td>\n",
       "      <td>22520</td>\n",
       "      <td>5.745</td>\n",
       "      <td>0.380</td>\n",
       "      <td>0.066144</td>\n",
       "      <td>2003</td>\n",
       "      <td>3</td>\n",
       "      <td>0</td>\n",
       "    </tr>\n",
       "    <tr>\n",
       "      <th>42259</th>\n",
       "      <td>C</td>\n",
       "      <td>AMTRUST BANK</td>\n",
       "      <td>5.875</td>\n",
       "      <td>184000</td>\n",
       "      <td>180</td>\n",
       "      <td>80</td>\n",
       "      <td>80</td>\n",
       "      <td>1</td>\n",
       "      <td>39</td>\n",
       "      <td>C</td>\n",
       "      <td>WI</td>\n",
       "      <td>548</td>\n",
       "      <td>0.0</td>\n",
       "      <td>0</td>\n",
       "      <td>709</td>\n",
       "      <td>86</td>\n",
       "      <td>0</td>\n",
       "      <td>6.156</td>\n",
       "      <td>-0.281</td>\n",
       "      <td>-0.045647</td>\n",
       "      <td>2007</td>\n",
       "      <td>3</td>\n",
       "      <td>1</td>\n",
       "    </tr>\n",
       "  </tbody>\n",
       "</table>\n",
       "</div>"
      ],
      "text/plain": [
       "      origChannel                                 sellerName  origIntRate  \\\n",
       "80129           B  JPMORGAN CHASE BANK, NATIONAL ASSOCIATION        7.000   \n",
       "1974            C                                      OTHER        5.375   \n",
       "96616           C                                      OTHER        7.250   \n",
       "98170           R                      BANK OF AMERICA, N.A.        6.125   \n",
       "42259           C                               AMTRUST BANK        5.875   \n",
       "\n",
       "       origUPB  origLoanTerm  origLTV  origCLTV  numBorrowers  \\\n",
       "80129    56000           240       73        73             1   \n",
       "1974     70000           180       37        37             1   \n",
       "96616   119000           360       84        84             1   \n",
       "98170    66000           240       85        85             1   \n",
       "42259   184000           180       80        80             1   \n",
       "\n",
       "       origDebtIncRatio loanPurp propState  zipCode  pMIperct  mortInsType  \\\n",
       "80129                20        C        IL      627       0.0            0   \n",
       "1974                 43        C        AZ      850       0.0            0   \n",
       "96616                15        R        TX      762      12.0            1   \n",
       "98170                38        R        AL      356       6.0            1   \n",
       "42259                39        C        WI      548       0.0            0   \n",
       "\n",
       "       avgCreditScore  loanAge    mSA  fmacRateAvg  rateDiffAvg  \\\n",
       "80129             624      145  44100        6.068        0.932   \n",
       "1974              749      158  38060        6.272       -0.897   \n",
       "96616             698      147      0        7.050        0.200   \n",
       "98170             618      145  22520        5.745        0.380   \n",
       "42259             709       86      0        6.156       -0.281   \n",
       "\n",
       "       rateDiffAvgPct  origYear  origMonth  zeroBalCode  \n",
       "80129        0.153593      2002         11            0  \n",
       "1974        -0.143017      2005         12            0  \n",
       "96616        0.028369      2001          2            0  \n",
       "98170        0.066144      2003          3            0  \n",
       "42259       -0.045647      2007          3            1  "
      ]
     },
     "execution_count": 38,
     "metadata": {},
     "output_type": "execute_result"
    }
   ],
   "source": [
    "df.head()"
   ]
  },
  {
   "cell_type": "markdown",
   "metadata": {},
   "source": [
    "# Pycaret - Setup with categorical definition"
   ]
  },
  {
   "cell_type": "markdown",
   "metadata": {},
   "source": [
    "### Use complex setup "
   ]
  },
  {
   "cell_type": "code",
   "execution_count": 40,
   "metadata": {
    "scrolled": false
   },
   "outputs": [
    {
     "name": "stdout",
     "output_type": "stream",
     "text": [
      "Setup Succesfully Completed!\n"
     ]
    },
    {
     "data": {
      "text/html": [
       "<style  type=\"text/css\" >\n",
       "#T_b0ae1b9e_fc27_11ea_9e2b_309c234564f5row8_col1,#T_b0ae1b9e_fc27_11ea_9e2b_309c234564f5row15_col1,#T_b0ae1b9e_fc27_11ea_9e2b_309c234564f5row25_col1,#T_b0ae1b9e_fc27_11ea_9e2b_309c234564f5row26_col1,#T_b0ae1b9e_fc27_11ea_9e2b_309c234564f5row42_col1{\n",
       "            background-color:  lightgreen;\n",
       "        }</style><table id=\"T_b0ae1b9e_fc27_11ea_9e2b_309c234564f5\" ><thead>    <tr>        <th class=\"blank level0\" ></th>        <th class=\"col_heading level0 col0\" >Description</th>        <th class=\"col_heading level0 col1\" >Value</th>    </tr></thead><tbody>\n",
       "                <tr>\n",
       "                        <th id=\"T_b0ae1b9e_fc27_11ea_9e2b_309c234564f5level0_row0\" class=\"row_heading level0 row0\" >0</th>\n",
       "                        <td id=\"T_b0ae1b9e_fc27_11ea_9e2b_309c234564f5row0_col0\" class=\"data row0 col0\" >session_id</td>\n",
       "                        <td id=\"T_b0ae1b9e_fc27_11ea_9e2b_309c234564f5row0_col1\" class=\"data row0 col1\" >883</td>\n",
       "            </tr>\n",
       "            <tr>\n",
       "                        <th id=\"T_b0ae1b9e_fc27_11ea_9e2b_309c234564f5level0_row1\" class=\"row_heading level0 row1\" >1</th>\n",
       "                        <td id=\"T_b0ae1b9e_fc27_11ea_9e2b_309c234564f5row1_col0\" class=\"data row1 col0\" >Target Type</td>\n",
       "                        <td id=\"T_b0ae1b9e_fc27_11ea_9e2b_309c234564f5row1_col1\" class=\"data row1 col1\" >Binary</td>\n",
       "            </tr>\n",
       "            <tr>\n",
       "                        <th id=\"T_b0ae1b9e_fc27_11ea_9e2b_309c234564f5level0_row2\" class=\"row_heading level0 row2\" >2</th>\n",
       "                        <td id=\"T_b0ae1b9e_fc27_11ea_9e2b_309c234564f5row2_col0\" class=\"data row2 col0\" >Label Encoded</td>\n",
       "                        <td id=\"T_b0ae1b9e_fc27_11ea_9e2b_309c234564f5row2_col1\" class=\"data row2 col1\" >None</td>\n",
       "            </tr>\n",
       "            <tr>\n",
       "                        <th id=\"T_b0ae1b9e_fc27_11ea_9e2b_309c234564f5level0_row3\" class=\"row_heading level0 row3\" >3</th>\n",
       "                        <td id=\"T_b0ae1b9e_fc27_11ea_9e2b_309c234564f5row3_col0\" class=\"data row3 col0\" >Original Data</td>\n",
       "                        <td id=\"T_b0ae1b9e_fc27_11ea_9e2b_309c234564f5row3_col1\" class=\"data row3 col1\" >(107861, 23)</td>\n",
       "            </tr>\n",
       "            <tr>\n",
       "                        <th id=\"T_b0ae1b9e_fc27_11ea_9e2b_309c234564f5level0_row4\" class=\"row_heading level0 row4\" >4</th>\n",
       "                        <td id=\"T_b0ae1b9e_fc27_11ea_9e2b_309c234564f5row4_col0\" class=\"data row4 col0\" >Missing Values </td>\n",
       "                        <td id=\"T_b0ae1b9e_fc27_11ea_9e2b_309c234564f5row4_col1\" class=\"data row4 col1\" >False</td>\n",
       "            </tr>\n",
       "            <tr>\n",
       "                        <th id=\"T_b0ae1b9e_fc27_11ea_9e2b_309c234564f5level0_row5\" class=\"row_heading level0 row5\" >5</th>\n",
       "                        <td id=\"T_b0ae1b9e_fc27_11ea_9e2b_309c234564f5row5_col0\" class=\"data row5 col0\" >Numeric Features </td>\n",
       "                        <td id=\"T_b0ae1b9e_fc27_11ea_9e2b_309c234564f5row5_col1\" class=\"data row5 col1\" >14</td>\n",
       "            </tr>\n",
       "            <tr>\n",
       "                        <th id=\"T_b0ae1b9e_fc27_11ea_9e2b_309c234564f5level0_row6\" class=\"row_heading level0 row6\" >6</th>\n",
       "                        <td id=\"T_b0ae1b9e_fc27_11ea_9e2b_309c234564f5row6_col0\" class=\"data row6 col0\" >Categorical Features </td>\n",
       "                        <td id=\"T_b0ae1b9e_fc27_11ea_9e2b_309c234564f5row6_col1\" class=\"data row6 col1\" >8</td>\n",
       "            </tr>\n",
       "            <tr>\n",
       "                        <th id=\"T_b0ae1b9e_fc27_11ea_9e2b_309c234564f5level0_row7\" class=\"row_heading level0 row7\" >7</th>\n",
       "                        <td id=\"T_b0ae1b9e_fc27_11ea_9e2b_309c234564f5row7_col0\" class=\"data row7 col0\" >Ordinal Features </td>\n",
       "                        <td id=\"T_b0ae1b9e_fc27_11ea_9e2b_309c234564f5row7_col1\" class=\"data row7 col1\" >False</td>\n",
       "            </tr>\n",
       "            <tr>\n",
       "                        <th id=\"T_b0ae1b9e_fc27_11ea_9e2b_309c234564f5level0_row8\" class=\"row_heading level0 row8\" >8</th>\n",
       "                        <td id=\"T_b0ae1b9e_fc27_11ea_9e2b_309c234564f5row8_col0\" class=\"data row8 col0\" >High Cardinality Features </td>\n",
       "                        <td id=\"T_b0ae1b9e_fc27_11ea_9e2b_309c234564f5row8_col1\" class=\"data row8 col1\" >True</td>\n",
       "            </tr>\n",
       "            <tr>\n",
       "                        <th id=\"T_b0ae1b9e_fc27_11ea_9e2b_309c234564f5level0_row9\" class=\"row_heading level0 row9\" >9</th>\n",
       "                        <td id=\"T_b0ae1b9e_fc27_11ea_9e2b_309c234564f5row9_col0\" class=\"data row9 col0\" >High Cardinality Method </td>\n",
       "                        <td id=\"T_b0ae1b9e_fc27_11ea_9e2b_309c234564f5row9_col1\" class=\"data row9 col1\" >clustering</td>\n",
       "            </tr>\n",
       "            <tr>\n",
       "                        <th id=\"T_b0ae1b9e_fc27_11ea_9e2b_309c234564f5level0_row10\" class=\"row_heading level0 row10\" >10</th>\n",
       "                        <td id=\"T_b0ae1b9e_fc27_11ea_9e2b_309c234564f5row10_col0\" class=\"data row10 col0\" >Sampled Data</td>\n",
       "                        <td id=\"T_b0ae1b9e_fc27_11ea_9e2b_309c234564f5row10_col1\" class=\"data row10 col1\" >(102468, 23)</td>\n",
       "            </tr>\n",
       "            <tr>\n",
       "                        <th id=\"T_b0ae1b9e_fc27_11ea_9e2b_309c234564f5level0_row11\" class=\"row_heading level0 row11\" >11</th>\n",
       "                        <td id=\"T_b0ae1b9e_fc27_11ea_9e2b_309c234564f5row11_col0\" class=\"data row11 col0\" >Transformed Train Set</td>\n",
       "                        <td id=\"T_b0ae1b9e_fc27_11ea_9e2b_309c234564f5row11_col1\" class=\"data row11 col1\" >(71727, 76)</td>\n",
       "            </tr>\n",
       "            <tr>\n",
       "                        <th id=\"T_b0ae1b9e_fc27_11ea_9e2b_309c234564f5level0_row12\" class=\"row_heading level0 row12\" >12</th>\n",
       "                        <td id=\"T_b0ae1b9e_fc27_11ea_9e2b_309c234564f5row12_col0\" class=\"data row12 col0\" >Transformed Test Set</td>\n",
       "                        <td id=\"T_b0ae1b9e_fc27_11ea_9e2b_309c234564f5row12_col1\" class=\"data row12 col1\" >(30741, 76)</td>\n",
       "            </tr>\n",
       "            <tr>\n",
       "                        <th id=\"T_b0ae1b9e_fc27_11ea_9e2b_309c234564f5level0_row13\" class=\"row_heading level0 row13\" >13</th>\n",
       "                        <td id=\"T_b0ae1b9e_fc27_11ea_9e2b_309c234564f5row13_col0\" class=\"data row13 col0\" >Numeric Imputer </td>\n",
       "                        <td id=\"T_b0ae1b9e_fc27_11ea_9e2b_309c234564f5row13_col1\" class=\"data row13 col1\" >mean</td>\n",
       "            </tr>\n",
       "            <tr>\n",
       "                        <th id=\"T_b0ae1b9e_fc27_11ea_9e2b_309c234564f5level0_row14\" class=\"row_heading level0 row14\" >14</th>\n",
       "                        <td id=\"T_b0ae1b9e_fc27_11ea_9e2b_309c234564f5row14_col0\" class=\"data row14 col0\" >Categorical Imputer </td>\n",
       "                        <td id=\"T_b0ae1b9e_fc27_11ea_9e2b_309c234564f5row14_col1\" class=\"data row14 col1\" >constant</td>\n",
       "            </tr>\n",
       "            <tr>\n",
       "                        <th id=\"T_b0ae1b9e_fc27_11ea_9e2b_309c234564f5level0_row15\" class=\"row_heading level0 row15\" >15</th>\n",
       "                        <td id=\"T_b0ae1b9e_fc27_11ea_9e2b_309c234564f5row15_col0\" class=\"data row15 col0\" >Normalize </td>\n",
       "                        <td id=\"T_b0ae1b9e_fc27_11ea_9e2b_309c234564f5row15_col1\" class=\"data row15 col1\" >True</td>\n",
       "            </tr>\n",
       "            <tr>\n",
       "                        <th id=\"T_b0ae1b9e_fc27_11ea_9e2b_309c234564f5level0_row16\" class=\"row_heading level0 row16\" >16</th>\n",
       "                        <td id=\"T_b0ae1b9e_fc27_11ea_9e2b_309c234564f5row16_col0\" class=\"data row16 col0\" >Normalize Method </td>\n",
       "                        <td id=\"T_b0ae1b9e_fc27_11ea_9e2b_309c234564f5row16_col1\" class=\"data row16 col1\" >zscore</td>\n",
       "            </tr>\n",
       "            <tr>\n",
       "                        <th id=\"T_b0ae1b9e_fc27_11ea_9e2b_309c234564f5level0_row17\" class=\"row_heading level0 row17\" >17</th>\n",
       "                        <td id=\"T_b0ae1b9e_fc27_11ea_9e2b_309c234564f5row17_col0\" class=\"data row17 col0\" >Transformation </td>\n",
       "                        <td id=\"T_b0ae1b9e_fc27_11ea_9e2b_309c234564f5row17_col1\" class=\"data row17 col1\" >False</td>\n",
       "            </tr>\n",
       "            <tr>\n",
       "                        <th id=\"T_b0ae1b9e_fc27_11ea_9e2b_309c234564f5level0_row18\" class=\"row_heading level0 row18\" >18</th>\n",
       "                        <td id=\"T_b0ae1b9e_fc27_11ea_9e2b_309c234564f5row18_col0\" class=\"data row18 col0\" >Transformation Method </td>\n",
       "                        <td id=\"T_b0ae1b9e_fc27_11ea_9e2b_309c234564f5row18_col1\" class=\"data row18 col1\" >None</td>\n",
       "            </tr>\n",
       "            <tr>\n",
       "                        <th id=\"T_b0ae1b9e_fc27_11ea_9e2b_309c234564f5level0_row19\" class=\"row_heading level0 row19\" >19</th>\n",
       "                        <td id=\"T_b0ae1b9e_fc27_11ea_9e2b_309c234564f5row19_col0\" class=\"data row19 col0\" >PCA </td>\n",
       "                        <td id=\"T_b0ae1b9e_fc27_11ea_9e2b_309c234564f5row19_col1\" class=\"data row19 col1\" >False</td>\n",
       "            </tr>\n",
       "            <tr>\n",
       "                        <th id=\"T_b0ae1b9e_fc27_11ea_9e2b_309c234564f5level0_row20\" class=\"row_heading level0 row20\" >20</th>\n",
       "                        <td id=\"T_b0ae1b9e_fc27_11ea_9e2b_309c234564f5row20_col0\" class=\"data row20 col0\" >PCA Method </td>\n",
       "                        <td id=\"T_b0ae1b9e_fc27_11ea_9e2b_309c234564f5row20_col1\" class=\"data row20 col1\" >None</td>\n",
       "            </tr>\n",
       "            <tr>\n",
       "                        <th id=\"T_b0ae1b9e_fc27_11ea_9e2b_309c234564f5level0_row21\" class=\"row_heading level0 row21\" >21</th>\n",
       "                        <td id=\"T_b0ae1b9e_fc27_11ea_9e2b_309c234564f5row21_col0\" class=\"data row21 col0\" >PCA Components </td>\n",
       "                        <td id=\"T_b0ae1b9e_fc27_11ea_9e2b_309c234564f5row21_col1\" class=\"data row21 col1\" >None</td>\n",
       "            </tr>\n",
       "            <tr>\n",
       "                        <th id=\"T_b0ae1b9e_fc27_11ea_9e2b_309c234564f5level0_row22\" class=\"row_heading level0 row22\" >22</th>\n",
       "                        <td id=\"T_b0ae1b9e_fc27_11ea_9e2b_309c234564f5row22_col0\" class=\"data row22 col0\" >Ignore Low Variance </td>\n",
       "                        <td id=\"T_b0ae1b9e_fc27_11ea_9e2b_309c234564f5row22_col1\" class=\"data row22 col1\" >False</td>\n",
       "            </tr>\n",
       "            <tr>\n",
       "                        <th id=\"T_b0ae1b9e_fc27_11ea_9e2b_309c234564f5level0_row23\" class=\"row_heading level0 row23\" >23</th>\n",
       "                        <td id=\"T_b0ae1b9e_fc27_11ea_9e2b_309c234564f5row23_col0\" class=\"data row23 col0\" >Combine Rare Levels </td>\n",
       "                        <td id=\"T_b0ae1b9e_fc27_11ea_9e2b_309c234564f5row23_col1\" class=\"data row23 col1\" >False</td>\n",
       "            </tr>\n",
       "            <tr>\n",
       "                        <th id=\"T_b0ae1b9e_fc27_11ea_9e2b_309c234564f5level0_row24\" class=\"row_heading level0 row24\" >24</th>\n",
       "                        <td id=\"T_b0ae1b9e_fc27_11ea_9e2b_309c234564f5row24_col0\" class=\"data row24 col0\" >Rare Level Threshold </td>\n",
       "                        <td id=\"T_b0ae1b9e_fc27_11ea_9e2b_309c234564f5row24_col1\" class=\"data row24 col1\" >None</td>\n",
       "            </tr>\n",
       "            <tr>\n",
       "                        <th id=\"T_b0ae1b9e_fc27_11ea_9e2b_309c234564f5level0_row25\" class=\"row_heading level0 row25\" >25</th>\n",
       "                        <td id=\"T_b0ae1b9e_fc27_11ea_9e2b_309c234564f5row25_col0\" class=\"data row25 col0\" >Numeric Binning </td>\n",
       "                        <td id=\"T_b0ae1b9e_fc27_11ea_9e2b_309c234564f5row25_col1\" class=\"data row25 col1\" >True</td>\n",
       "            </tr>\n",
       "            <tr>\n",
       "                        <th id=\"T_b0ae1b9e_fc27_11ea_9e2b_309c234564f5level0_row26\" class=\"row_heading level0 row26\" >26</th>\n",
       "                        <td id=\"T_b0ae1b9e_fc27_11ea_9e2b_309c234564f5row26_col0\" class=\"data row26 col0\" >Remove Outliers </td>\n",
       "                        <td id=\"T_b0ae1b9e_fc27_11ea_9e2b_309c234564f5row26_col1\" class=\"data row26 col1\" >True</td>\n",
       "            </tr>\n",
       "            <tr>\n",
       "                        <th id=\"T_b0ae1b9e_fc27_11ea_9e2b_309c234564f5level0_row27\" class=\"row_heading level0 row27\" >27</th>\n",
       "                        <td id=\"T_b0ae1b9e_fc27_11ea_9e2b_309c234564f5row27_col0\" class=\"data row27 col0\" >Outliers Threshold </td>\n",
       "                        <td id=\"T_b0ae1b9e_fc27_11ea_9e2b_309c234564f5row27_col1\" class=\"data row27 col1\" >0.050000</td>\n",
       "            </tr>\n",
       "            <tr>\n",
       "                        <th id=\"T_b0ae1b9e_fc27_11ea_9e2b_309c234564f5level0_row28\" class=\"row_heading level0 row28\" >28</th>\n",
       "                        <td id=\"T_b0ae1b9e_fc27_11ea_9e2b_309c234564f5row28_col0\" class=\"data row28 col0\" >Remove Multicollinearity </td>\n",
       "                        <td id=\"T_b0ae1b9e_fc27_11ea_9e2b_309c234564f5row28_col1\" class=\"data row28 col1\" >False</td>\n",
       "            </tr>\n",
       "            <tr>\n",
       "                        <th id=\"T_b0ae1b9e_fc27_11ea_9e2b_309c234564f5level0_row29\" class=\"row_heading level0 row29\" >29</th>\n",
       "                        <td id=\"T_b0ae1b9e_fc27_11ea_9e2b_309c234564f5row29_col0\" class=\"data row29 col0\" >Multicollinearity Threshold </td>\n",
       "                        <td id=\"T_b0ae1b9e_fc27_11ea_9e2b_309c234564f5row29_col1\" class=\"data row29 col1\" >None</td>\n",
       "            </tr>\n",
       "            <tr>\n",
       "                        <th id=\"T_b0ae1b9e_fc27_11ea_9e2b_309c234564f5level0_row30\" class=\"row_heading level0 row30\" >30</th>\n",
       "                        <td id=\"T_b0ae1b9e_fc27_11ea_9e2b_309c234564f5row30_col0\" class=\"data row30 col0\" >Clustering </td>\n",
       "                        <td id=\"T_b0ae1b9e_fc27_11ea_9e2b_309c234564f5row30_col1\" class=\"data row30 col1\" >False</td>\n",
       "            </tr>\n",
       "            <tr>\n",
       "                        <th id=\"T_b0ae1b9e_fc27_11ea_9e2b_309c234564f5level0_row31\" class=\"row_heading level0 row31\" >31</th>\n",
       "                        <td id=\"T_b0ae1b9e_fc27_11ea_9e2b_309c234564f5row31_col0\" class=\"data row31 col0\" >Clustering Iteration </td>\n",
       "                        <td id=\"T_b0ae1b9e_fc27_11ea_9e2b_309c234564f5row31_col1\" class=\"data row31 col1\" >None</td>\n",
       "            </tr>\n",
       "            <tr>\n",
       "                        <th id=\"T_b0ae1b9e_fc27_11ea_9e2b_309c234564f5level0_row32\" class=\"row_heading level0 row32\" >32</th>\n",
       "                        <td id=\"T_b0ae1b9e_fc27_11ea_9e2b_309c234564f5row32_col0\" class=\"data row32 col0\" >Polynomial Features </td>\n",
       "                        <td id=\"T_b0ae1b9e_fc27_11ea_9e2b_309c234564f5row32_col1\" class=\"data row32 col1\" >False</td>\n",
       "            </tr>\n",
       "            <tr>\n",
       "                        <th id=\"T_b0ae1b9e_fc27_11ea_9e2b_309c234564f5level0_row33\" class=\"row_heading level0 row33\" >33</th>\n",
       "                        <td id=\"T_b0ae1b9e_fc27_11ea_9e2b_309c234564f5row33_col0\" class=\"data row33 col0\" >Polynomial Degree </td>\n",
       "                        <td id=\"T_b0ae1b9e_fc27_11ea_9e2b_309c234564f5row33_col1\" class=\"data row33 col1\" >None</td>\n",
       "            </tr>\n",
       "            <tr>\n",
       "                        <th id=\"T_b0ae1b9e_fc27_11ea_9e2b_309c234564f5level0_row34\" class=\"row_heading level0 row34\" >34</th>\n",
       "                        <td id=\"T_b0ae1b9e_fc27_11ea_9e2b_309c234564f5row34_col0\" class=\"data row34 col0\" >Trignometry Features </td>\n",
       "                        <td id=\"T_b0ae1b9e_fc27_11ea_9e2b_309c234564f5row34_col1\" class=\"data row34 col1\" >False</td>\n",
       "            </tr>\n",
       "            <tr>\n",
       "                        <th id=\"T_b0ae1b9e_fc27_11ea_9e2b_309c234564f5level0_row35\" class=\"row_heading level0 row35\" >35</th>\n",
       "                        <td id=\"T_b0ae1b9e_fc27_11ea_9e2b_309c234564f5row35_col0\" class=\"data row35 col0\" >Polynomial Threshold </td>\n",
       "                        <td id=\"T_b0ae1b9e_fc27_11ea_9e2b_309c234564f5row35_col1\" class=\"data row35 col1\" >None</td>\n",
       "            </tr>\n",
       "            <tr>\n",
       "                        <th id=\"T_b0ae1b9e_fc27_11ea_9e2b_309c234564f5level0_row36\" class=\"row_heading level0 row36\" >36</th>\n",
       "                        <td id=\"T_b0ae1b9e_fc27_11ea_9e2b_309c234564f5row36_col0\" class=\"data row36 col0\" >Group Features </td>\n",
       "                        <td id=\"T_b0ae1b9e_fc27_11ea_9e2b_309c234564f5row36_col1\" class=\"data row36 col1\" >False</td>\n",
       "            </tr>\n",
       "            <tr>\n",
       "                        <th id=\"T_b0ae1b9e_fc27_11ea_9e2b_309c234564f5level0_row37\" class=\"row_heading level0 row37\" >37</th>\n",
       "                        <td id=\"T_b0ae1b9e_fc27_11ea_9e2b_309c234564f5row37_col0\" class=\"data row37 col0\" >Feature Selection </td>\n",
       "                        <td id=\"T_b0ae1b9e_fc27_11ea_9e2b_309c234564f5row37_col1\" class=\"data row37 col1\" >False</td>\n",
       "            </tr>\n",
       "            <tr>\n",
       "                        <th id=\"T_b0ae1b9e_fc27_11ea_9e2b_309c234564f5level0_row38\" class=\"row_heading level0 row38\" >38</th>\n",
       "                        <td id=\"T_b0ae1b9e_fc27_11ea_9e2b_309c234564f5row38_col0\" class=\"data row38 col0\" >Features Selection Threshold </td>\n",
       "                        <td id=\"T_b0ae1b9e_fc27_11ea_9e2b_309c234564f5row38_col1\" class=\"data row38 col1\" >None</td>\n",
       "            </tr>\n",
       "            <tr>\n",
       "                        <th id=\"T_b0ae1b9e_fc27_11ea_9e2b_309c234564f5level0_row39\" class=\"row_heading level0 row39\" >39</th>\n",
       "                        <td id=\"T_b0ae1b9e_fc27_11ea_9e2b_309c234564f5row39_col0\" class=\"data row39 col0\" >Feature Interaction </td>\n",
       "                        <td id=\"T_b0ae1b9e_fc27_11ea_9e2b_309c234564f5row39_col1\" class=\"data row39 col1\" >False</td>\n",
       "            </tr>\n",
       "            <tr>\n",
       "                        <th id=\"T_b0ae1b9e_fc27_11ea_9e2b_309c234564f5level0_row40\" class=\"row_heading level0 row40\" >40</th>\n",
       "                        <td id=\"T_b0ae1b9e_fc27_11ea_9e2b_309c234564f5row40_col0\" class=\"data row40 col0\" >Feature Ratio </td>\n",
       "                        <td id=\"T_b0ae1b9e_fc27_11ea_9e2b_309c234564f5row40_col1\" class=\"data row40 col1\" >False</td>\n",
       "            </tr>\n",
       "            <tr>\n",
       "                        <th id=\"T_b0ae1b9e_fc27_11ea_9e2b_309c234564f5level0_row41\" class=\"row_heading level0 row41\" >41</th>\n",
       "                        <td id=\"T_b0ae1b9e_fc27_11ea_9e2b_309c234564f5row41_col0\" class=\"data row41 col0\" >Interaction Threshold </td>\n",
       "                        <td id=\"T_b0ae1b9e_fc27_11ea_9e2b_309c234564f5row41_col1\" class=\"data row41 col1\" >None</td>\n",
       "            </tr>\n",
       "            <tr>\n",
       "                        <th id=\"T_b0ae1b9e_fc27_11ea_9e2b_309c234564f5level0_row42\" class=\"row_heading level0 row42\" >42</th>\n",
       "                        <td id=\"T_b0ae1b9e_fc27_11ea_9e2b_309c234564f5row42_col0\" class=\"data row42 col0\" >Fix Imbalance</td>\n",
       "                        <td id=\"T_b0ae1b9e_fc27_11ea_9e2b_309c234564f5row42_col1\" class=\"data row42 col1\" >True</td>\n",
       "            </tr>\n",
       "            <tr>\n",
       "                        <th id=\"T_b0ae1b9e_fc27_11ea_9e2b_309c234564f5level0_row43\" class=\"row_heading level0 row43\" >43</th>\n",
       "                        <td id=\"T_b0ae1b9e_fc27_11ea_9e2b_309c234564f5row43_col0\" class=\"data row43 col0\" >Fix Imbalance Method</td>\n",
       "                        <td id=\"T_b0ae1b9e_fc27_11ea_9e2b_309c234564f5row43_col1\" class=\"data row43 col1\" >SMOTE</td>\n",
       "            </tr>\n",
       "    </tbody></table>"
      ],
      "text/plain": [
       "<pandas.io.formats.style.Styler at 0x2b1ba41a828>"
      ]
     },
     "metadata": {},
     "output_type": "display_data"
    }
   ],
   "source": [
    "model_setup = setup(\n",
    "    df\n",
    "    , target = 'zeroBalCode' # PyCaret will list this as \"Label\"\n",
    "    , normalize = True\n",
    "    , transformation = False\n",
    "    , pca = False \n",
    "    , ignore_low_variance = False # Variance is calculated using the ratio of unique values to the number of samples, and the ratio of the most common value to the frequency of the second most common value. \n",
    "    , ignore_features = None\n",
    "    , handle_unknown_categorical = True\n",
    "    , remove_outliers = True\n",
    "    , remove_multicollinearity = False\n",
    "    , polynomial_features = False\n",
    "    , trigonometry_features = False\n",
    "    , feature_selection = False\n",
    "    , feature_interaction = False\n",
    "    , fix_imbalance = True\n",
    "    , silent = True\n",
    "    , profile = False\n",
    "    # outliers from the training data are removed using PCA linear dimensionality reduction using the Singular Value Decomposition technique.\n",
    "    , bin_numeric_features = [\n",
    "        'avgCreditScore'\n",
    "        ] # Set to True to bin numerics using K Means\n",
    "    , categorical_features = [\n",
    "         'origChannel'\n",
    "        , 'loanPurp'\n",
    "        , 'origYear'\n",
    "        , 'origMonth'\n",
    "        , 'mortInsType'\n",
    "        , 'origLoanTerm'\n",
    "        ]\n",
    "    , high_cardinality_features = [\n",
    "         'propState'\n",
    "        , 'sellerName'\n",
    "        , 'mSA'\n",
    "        , 'zipCode'\n",
    "    ]\n",
    "    , high_cardinality_method = 'clustering'\n",
    "    , numeric_features = [\n",
    "        'origIntRate'\n",
    "        , 'numBorrowers'\n",
    "        , 'origUPB'\n",
    "        , 'origLTV'\n",
    "        , 'origCLTV'\n",
    "        , 'pMIperct'\n",
    "        , 'loanAge'\n",
    "        , 'origDebtIncRatio'\n",
    "        , 'avgCreditScore'\n",
    "        , 'rateDiffAvg'\n",
    "        , 'rateDiffAvgPct'\n",
    "        , 'fmacRateAvg'\n",
    "    ]\n",
    ")\n"
   ]
  },
  {
   "cell_type": "markdown",
   "metadata": {},
   "source": [
    "## Compare Models with no blacklist exclusions"
   ]
  },
  {
   "cell_type": "code",
   "execution_count": null,
   "metadata": {
    "scrolled": false
   },
   "outputs": [
    {
     "data": {
      "application/vnd.jupyter.widget-view+json": {
       "model_id": "87e33cf91ba346f5b7b85c198816a99f",
       "version_major": 2,
       "version_minor": 0
      },
      "text/plain": [
       "IntProgress(value=0, description='Processing: ', max=176)"
      ]
     },
     "metadata": {},
     "output_type": "display_data"
    },
    {
     "data": {
      "text/html": [
       "<div>\n",
       "<style scoped>\n",
       "    .dataframe tbody tr th:only-of-type {\n",
       "        vertical-align: middle;\n",
       "    }\n",
       "\n",
       "    .dataframe tbody tr th {\n",
       "        vertical-align: top;\n",
       "    }\n",
       "\n",
       "    .dataframe thead th {\n",
       "        text-align: right;\n",
       "    }\n",
       "</style>\n",
       "<table border=\"1\" class=\"dataframe\">\n",
       "  <thead>\n",
       "    <tr style=\"text-align: right;\">\n",
       "      <th></th>\n",
       "      <th></th>\n",
       "      <th></th>\n",
       "    </tr>\n",
       "    <tr>\n",
       "      <th></th>\n",
       "      <th></th>\n",
       "      <th></th>\n",
       "    </tr>\n",
       "  </thead>\n",
       "  <tbody>\n",
       "    <tr>\n",
       "      <th>Initiated</th>\n",
       "      <td>. . . . . . . . . . . . . . . . . .</td>\n",
       "      <td>11:32:08</td>\n",
       "    </tr>\n",
       "    <tr>\n",
       "      <th>Status</th>\n",
       "      <td>. . . . . . . . . . . . . . . . . .</td>\n",
       "      <td>Fitting Fold 5 of 10</td>\n",
       "    </tr>\n",
       "    <tr>\n",
       "      <th>Estimator</th>\n",
       "      <td>. . . . . . . . . . . . . . . . . .</td>\n",
       "      <td>K Neighbors Classifier</td>\n",
       "    </tr>\n",
       "    <tr>\n",
       "      <th>ETC</th>\n",
       "      <td>. . . . . . . . . . . . . . . . . .</td>\n",
       "      <td>2.28 Minutes Remaining</td>\n",
       "    </tr>\n",
       "  </tbody>\n",
       "</table>\n",
       "</div>"
      ],
      "text/plain": [
       "                                                                      \n",
       "                                                                      \n",
       "Initiated  . . . . . . . . . . . . . . . . . .                11:32:08\n",
       "Status     . . . . . . . . . . . . . . . . . .    Fitting Fold 5 of 10\n",
       "Estimator  . . . . . . . . . . . . . . . . . .  K Neighbors Classifier\n",
       "ETC        . . . . . . . . . . . . . . . . . .  2.28 Minutes Remaining"
      ]
     },
     "metadata": {},
     "output_type": "display_data"
    },
    {
     "data": {
      "text/html": [
       "<div>\n",
       "<style scoped>\n",
       "    .dataframe tbody tr th:only-of-type {\n",
       "        vertical-align: middle;\n",
       "    }\n",
       "\n",
       "    .dataframe tbody tr th {\n",
       "        vertical-align: top;\n",
       "    }\n",
       "\n",
       "    .dataframe thead th {\n",
       "        text-align: right;\n",
       "    }\n",
       "</style>\n",
       "<table border=\"1\" class=\"dataframe\">\n",
       "  <thead>\n",
       "    <tr style=\"text-align: right;\">\n",
       "      <th></th>\n",
       "      <th>Model</th>\n",
       "      <th>Accuracy</th>\n",
       "      <th>AUC</th>\n",
       "      <th>Recall</th>\n",
       "      <th>Prec.</th>\n",
       "      <th>F1</th>\n",
       "      <th>Kappa</th>\n",
       "      <th>MCC</th>\n",
       "      <th>TT (Sec)</th>\n",
       "    </tr>\n",
       "  </thead>\n",
       "  <tbody>\n",
       "    <tr>\n",
       "      <th>0</th>\n",
       "      <td>Logistic Regression</td>\n",
       "      <td>0.7101</td>\n",
       "      <td>0.7826</td>\n",
       "      <td>0.7265</td>\n",
       "      <td>0.2985</td>\n",
       "      <td>0.4231</td>\n",
       "      <td>0.2722</td>\n",
       "      <td>0.3202</td>\n",
       "      <td>1.2974</td>\n",
       "    </tr>\n",
       "  </tbody>\n",
       "</table>\n",
       "</div>"
      ],
      "text/plain": [
       "                 Model  Accuracy     AUC  Recall   Prec.      F1   Kappa  \\\n",
       "0  Logistic Regression    0.7101  0.7826  0.7265  0.2985  0.4231  0.2722   \n",
       "\n",
       "      MCC  TT (Sec)  \n",
       "0  0.3202    1.2974  "
      ]
     },
     "metadata": {},
     "output_type": "display_data"
    }
   ],
   "source": [
    "model_results=compare_models(sort='Recall') #blacklist = ['tr','ransac'],'lar','par','huber','llar','lasso','en','ridge','omp','br','svm'])\n",
    "model_results"
   ]
  },
  {
   "cell_type": "markdown",
   "metadata": {},
   "source": [
    "## Create models "
   ]
  },
  {
   "cell_type": "markdown",
   "metadata": {},
   "source": [
    "### Naive Bayes Classifier"
   ]
  },
  {
   "cell_type": "code",
   "execution_count": 33,
   "metadata": {},
   "outputs": [
    {
     "data": {
      "text/html": [
       "<style  type=\"text/css\" >\n",
       "#T_a1530d6c_fc21_11ea_a660_309c234564f5row10_col0,#T_a1530d6c_fc21_11ea_a660_309c234564f5row10_col1,#T_a1530d6c_fc21_11ea_a660_309c234564f5row10_col2,#T_a1530d6c_fc21_11ea_a660_309c234564f5row10_col3,#T_a1530d6c_fc21_11ea_a660_309c234564f5row10_col4,#T_a1530d6c_fc21_11ea_a660_309c234564f5row10_col5,#T_a1530d6c_fc21_11ea_a660_309c234564f5row10_col6{\n",
       "            background:  yellow;\n",
       "        }</style><table id=\"T_a1530d6c_fc21_11ea_a660_309c234564f5\" ><thead>    <tr>        <th class=\"blank level0\" ></th>        <th class=\"col_heading level0 col0\" >Accuracy</th>        <th class=\"col_heading level0 col1\" >AUC</th>        <th class=\"col_heading level0 col2\" >Recall</th>        <th class=\"col_heading level0 col3\" >Prec.</th>        <th class=\"col_heading level0 col4\" >F1</th>        <th class=\"col_heading level0 col5\" >Kappa</th>        <th class=\"col_heading level0 col6\" >MCC</th>    </tr></thead><tbody>\n",
       "                <tr>\n",
       "                        <th id=\"T_a1530d6c_fc21_11ea_a660_309c234564f5level0_row0\" class=\"row_heading level0 row0\" >0</th>\n",
       "                        <td id=\"T_a1530d6c_fc21_11ea_a660_309c234564f5row0_col0\" class=\"data row0 col0\" >0.4670</td>\n",
       "                        <td id=\"T_a1530d6c_fc21_11ea_a660_309c234564f5row0_col1\" class=\"data row0 col1\" >0.6980</td>\n",
       "                        <td id=\"T_a1530d6c_fc21_11ea_a660_309c234564f5row0_col2\" class=\"data row0 col2\" >0.8500</td>\n",
       "                        <td id=\"T_a1530d6c_fc21_11ea_a660_309c234564f5row0_col3\" class=\"data row0 col3\" >0.1974</td>\n",
       "                        <td id=\"T_a1530d6c_fc21_11ea_a660_309c234564f5row0_col4\" class=\"data row0 col4\" >0.3204</td>\n",
       "                        <td id=\"T_a1530d6c_fc21_11ea_a660_309c234564f5row0_col5\" class=\"data row0 col5\" >0.1059</td>\n",
       "                        <td id=\"T_a1530d6c_fc21_11ea_a660_309c234564f5row0_col6\" class=\"data row0 col6\" >0.1849</td>\n",
       "            </tr>\n",
       "            <tr>\n",
       "                        <th id=\"T_a1530d6c_fc21_11ea_a660_309c234564f5level0_row1\" class=\"row_heading level0 row1\" >1</th>\n",
       "                        <td id=\"T_a1530d6c_fc21_11ea_a660_309c234564f5row1_col0\" class=\"data row1 col0\" >0.4971</td>\n",
       "                        <td id=\"T_a1530d6c_fc21_11ea_a660_309c234564f5row1_col1\" class=\"data row1 col1\" >0.7094</td>\n",
       "                        <td id=\"T_a1530d6c_fc21_11ea_a660_309c234564f5row1_col2\" class=\"data row1 col2\" >0.8443</td>\n",
       "                        <td id=\"T_a1530d6c_fc21_11ea_a660_309c234564f5row1_col3\" class=\"data row1 col3\" >0.2064</td>\n",
       "                        <td id=\"T_a1530d6c_fc21_11ea_a660_309c234564f5row1_col4\" class=\"data row1 col4\" >0.3317</td>\n",
       "                        <td id=\"T_a1530d6c_fc21_11ea_a660_309c234564f5row1_col5\" class=\"data row1 col5\" >0.1235</td>\n",
       "                        <td id=\"T_a1530d6c_fc21_11ea_a660_309c234564f5row1_col6\" class=\"data row1 col6\" >0.2042</td>\n",
       "            </tr>\n",
       "            <tr>\n",
       "                        <th id=\"T_a1530d6c_fc21_11ea_a660_309c234564f5level0_row2\" class=\"row_heading level0 row2\" >2</th>\n",
       "                        <td id=\"T_a1530d6c_fc21_11ea_a660_309c234564f5row2_col0\" class=\"data row2 col0\" >0.4878</td>\n",
       "                        <td id=\"T_a1530d6c_fc21_11ea_a660_309c234564f5row2_col1\" class=\"data row2 col1\" >0.7122</td>\n",
       "                        <td id=\"T_a1530d6c_fc21_11ea_a660_309c234564f5row2_col2\" class=\"data row2 col2\" >0.8377</td>\n",
       "                        <td id=\"T_a1530d6c_fc21_11ea_a660_309c234564f5row2_col3\" class=\"data row2 col3\" >0.2023</td>\n",
       "                        <td id=\"T_a1530d6c_fc21_11ea_a660_309c234564f5row2_col4\" class=\"data row2 col4\" >0.3259</td>\n",
       "                        <td id=\"T_a1530d6c_fc21_11ea_a660_309c234564f5row2_col5\" class=\"data row2 col5\" >0.1152</td>\n",
       "                        <td id=\"T_a1530d6c_fc21_11ea_a660_309c234564f5row2_col6\" class=\"data row2 col6\" >0.1929</td>\n",
       "            </tr>\n",
       "            <tr>\n",
       "                        <th id=\"T_a1530d6c_fc21_11ea_a660_309c234564f5level0_row3\" class=\"row_heading level0 row3\" >3</th>\n",
       "                        <td id=\"T_a1530d6c_fc21_11ea_a660_309c234564f5row3_col0\" class=\"data row3 col0\" >0.4695</td>\n",
       "                        <td id=\"T_a1530d6c_fc21_11ea_a660_309c234564f5row3_col1\" class=\"data row3 col1\" >0.7036</td>\n",
       "                        <td id=\"T_a1530d6c_fc21_11ea_a660_309c234564f5row3_col2\" class=\"data row3 col2\" >0.8406</td>\n",
       "                        <td id=\"T_a1530d6c_fc21_11ea_a660_309c234564f5row3_col3\" class=\"data row3 col3\" >0.1968</td>\n",
       "                        <td id=\"T_a1530d6c_fc21_11ea_a660_309c234564f5row3_col4\" class=\"data row3 col4\" >0.3190</td>\n",
       "                        <td id=\"T_a1530d6c_fc21_11ea_a660_309c234564f5row3_col5\" class=\"data row3 col5\" >0.1045</td>\n",
       "                        <td id=\"T_a1530d6c_fc21_11ea_a660_309c234564f5row3_col6\" class=\"data row3 col6\" >0.1808</td>\n",
       "            </tr>\n",
       "            <tr>\n",
       "                        <th id=\"T_a1530d6c_fc21_11ea_a660_309c234564f5level0_row4\" class=\"row_heading level0 row4\" >4</th>\n",
       "                        <td id=\"T_a1530d6c_fc21_11ea_a660_309c234564f5row4_col0\" class=\"data row4 col0\" >0.4946</td>\n",
       "                        <td id=\"T_a1530d6c_fc21_11ea_a660_309c234564f5row4_col1\" class=\"data row4 col1\" >0.7237</td>\n",
       "                        <td id=\"T_a1530d6c_fc21_11ea_a660_309c234564f5row4_col2\" class=\"data row4 col2\" >0.8321</td>\n",
       "                        <td id=\"T_a1530d6c_fc21_11ea_a660_309c234564f5row4_col3\" class=\"data row4 col3\" >0.2037</td>\n",
       "                        <td id=\"T_a1530d6c_fc21_11ea_a660_309c234564f5row4_col4\" class=\"data row4 col4\" >0.3273</td>\n",
       "                        <td id=\"T_a1530d6c_fc21_11ea_a660_309c234564f5row4_col5\" class=\"data row4 col5\" >0.1179</td>\n",
       "                        <td id=\"T_a1530d6c_fc21_11ea_a660_309c234564f5row4_col6\" class=\"data row4 col6\" >0.1946</td>\n",
       "            </tr>\n",
       "            <tr>\n",
       "                        <th id=\"T_a1530d6c_fc21_11ea_a660_309c234564f5level0_row5\" class=\"row_heading level0 row5\" >5</th>\n",
       "                        <td id=\"T_a1530d6c_fc21_11ea_a660_309c234564f5row5_col0\" class=\"data row5 col0\" >0.4598</td>\n",
       "                        <td id=\"T_a1530d6c_fc21_11ea_a660_309c234564f5row5_col1\" class=\"data row5 col1\" >0.7086</td>\n",
       "                        <td id=\"T_a1530d6c_fc21_11ea_a660_309c234564f5row5_col2\" class=\"data row5 col2\" >0.8764</td>\n",
       "                        <td id=\"T_a1530d6c_fc21_11ea_a660_309c234564f5row5_col3\" class=\"data row5 col3\" >0.1988</td>\n",
       "                        <td id=\"T_a1530d6c_fc21_11ea_a660_309c234564f5row5_col4\" class=\"data row5 col4\" >0.3241</td>\n",
       "                        <td id=\"T_a1530d6c_fc21_11ea_a660_309c234564f5row5_col5\" class=\"data row5 col5\" >0.1096</td>\n",
       "                        <td id=\"T_a1530d6c_fc21_11ea_a660_309c234564f5row5_col6\" class=\"data row5 col6\" >0.1966</td>\n",
       "            </tr>\n",
       "            <tr>\n",
       "                        <th id=\"T_a1530d6c_fc21_11ea_a660_309c234564f5level0_row6\" class=\"row_heading level0 row6\" >6</th>\n",
       "                        <td id=\"T_a1530d6c_fc21_11ea_a660_309c234564f5row6_col0\" class=\"data row6 col0\" >0.4976</td>\n",
       "                        <td id=\"T_a1530d6c_fc21_11ea_a660_309c234564f5row6_col1\" class=\"data row6 col1\" >0.7047</td>\n",
       "                        <td id=\"T_a1530d6c_fc21_11ea_a660_309c234564f5row6_col2\" class=\"data row6 col2\" >0.8189</td>\n",
       "                        <td id=\"T_a1530d6c_fc21_11ea_a660_309c234564f5row6_col3\" class=\"data row6 col3\" >0.2028</td>\n",
       "                        <td id=\"T_a1530d6c_fc21_11ea_a660_309c234564f5row6_col4\" class=\"data row6 col4\" >0.3251</td>\n",
       "                        <td id=\"T_a1530d6c_fc21_11ea_a660_309c234564f5row6_col5\" class=\"data row6 col5\" >0.1156</td>\n",
       "                        <td id=\"T_a1530d6c_fc21_11ea_a660_309c234564f5row6_col6\" class=\"data row6 col6\" >0.1886</td>\n",
       "            </tr>\n",
       "            <tr>\n",
       "                        <th id=\"T_a1530d6c_fc21_11ea_a660_309c234564f5level0_row7\" class=\"row_heading level0 row7\" >7</th>\n",
       "                        <td id=\"T_a1530d6c_fc21_11ea_a660_309c234564f5row7_col0\" class=\"data row7 col0\" >0.4960</td>\n",
       "                        <td id=\"T_a1530d6c_fc21_11ea_a660_309c234564f5row7_col1\" class=\"data row7 col1\" >0.7159</td>\n",
       "                        <td id=\"T_a1530d6c_fc21_11ea_a660_309c234564f5row7_col2\" class=\"data row7 col2\" >0.8338</td>\n",
       "                        <td id=\"T_a1530d6c_fc21_11ea_a660_309c234564f5row7_col3\" class=\"data row7 col3\" >0.2043</td>\n",
       "                        <td id=\"T_a1530d6c_fc21_11ea_a660_309c234564f5row7_col4\" class=\"data row7 col4\" >0.3282</td>\n",
       "                        <td id=\"T_a1530d6c_fc21_11ea_a660_309c234564f5row7_col5\" class=\"data row7 col5\" >0.1193</td>\n",
       "                        <td id=\"T_a1530d6c_fc21_11ea_a660_309c234564f5row7_col6\" class=\"data row7 col6\" >0.1966</td>\n",
       "            </tr>\n",
       "            <tr>\n",
       "                        <th id=\"T_a1530d6c_fc21_11ea_a660_309c234564f5level0_row8\" class=\"row_heading level0 row8\" >8</th>\n",
       "                        <td id=\"T_a1530d6c_fc21_11ea_a660_309c234564f5row8_col0\" class=\"data row8 col0\" >0.4915</td>\n",
       "                        <td id=\"T_a1530d6c_fc21_11ea_a660_309c234564f5row8_col1\" class=\"data row8 col1\" >0.7179</td>\n",
       "                        <td id=\"T_a1530d6c_fc21_11ea_a660_309c234564f5row8_col2\" class=\"data row8 col2\" >0.8385</td>\n",
       "                        <td id=\"T_a1530d6c_fc21_11ea_a660_309c234564f5row8_col3\" class=\"data row8 col3\" >0.2035</td>\n",
       "                        <td id=\"T_a1530d6c_fc21_11ea_a660_309c234564f5row8_col4\" class=\"data row8 col4\" >0.3275</td>\n",
       "                        <td id=\"T_a1530d6c_fc21_11ea_a660_309c234564f5row8_col5\" class=\"data row8 col5\" >0.1179</td>\n",
       "                        <td id=\"T_a1530d6c_fc21_11ea_a660_309c234564f5row8_col6\" class=\"data row8 col6\" >0.1962</td>\n",
       "            </tr>\n",
       "            <tr>\n",
       "                        <th id=\"T_a1530d6c_fc21_11ea_a660_309c234564f5level0_row9\" class=\"row_heading level0 row9\" >9</th>\n",
       "                        <td id=\"T_a1530d6c_fc21_11ea_a660_309c234564f5row9_col0\" class=\"data row9 col0\" >0.4901</td>\n",
       "                        <td id=\"T_a1530d6c_fc21_11ea_a660_309c234564f5row9_col1\" class=\"data row9 col1\" >0.7155</td>\n",
       "                        <td id=\"T_a1530d6c_fc21_11ea_a660_309c234564f5row9_col2\" class=\"data row9 col2\" >0.8480</td>\n",
       "                        <td id=\"T_a1530d6c_fc21_11ea_a660_309c234564f5row9_col3\" class=\"data row9 col3\" >0.2044</td>\n",
       "                        <td id=\"T_a1530d6c_fc21_11ea_a660_309c234564f5row9_col4\" class=\"data row9 col4\" >0.3294</td>\n",
       "                        <td id=\"T_a1530d6c_fc21_11ea_a660_309c234564f5row9_col5\" class=\"data row9 col5\" >0.1199</td>\n",
       "                        <td id=\"T_a1530d6c_fc21_11ea_a660_309c234564f5row9_col6\" class=\"data row9 col6\" >0.2011</td>\n",
       "            </tr>\n",
       "            <tr>\n",
       "                        <th id=\"T_a1530d6c_fc21_11ea_a660_309c234564f5level0_row10\" class=\"row_heading level0 row10\" >Mean</th>\n",
       "                        <td id=\"T_a1530d6c_fc21_11ea_a660_309c234564f5row10_col0\" class=\"data row10 col0\" >0.4851</td>\n",
       "                        <td id=\"T_a1530d6c_fc21_11ea_a660_309c234564f5row10_col1\" class=\"data row10 col1\" >0.7109</td>\n",
       "                        <td id=\"T_a1530d6c_fc21_11ea_a660_309c234564f5row10_col2\" class=\"data row10 col2\" >0.8420</td>\n",
       "                        <td id=\"T_a1530d6c_fc21_11ea_a660_309c234564f5row10_col3\" class=\"data row10 col3\" >0.2020</td>\n",
       "                        <td id=\"T_a1530d6c_fc21_11ea_a660_309c234564f5row10_col4\" class=\"data row10 col4\" >0.3258</td>\n",
       "                        <td id=\"T_a1530d6c_fc21_11ea_a660_309c234564f5row10_col5\" class=\"data row10 col5\" >0.1149</td>\n",
       "                        <td id=\"T_a1530d6c_fc21_11ea_a660_309c234564f5row10_col6\" class=\"data row10 col6\" >0.1936</td>\n",
       "            </tr>\n",
       "            <tr>\n",
       "                        <th id=\"T_a1530d6c_fc21_11ea_a660_309c234564f5level0_row11\" class=\"row_heading level0 row11\" >SD</th>\n",
       "                        <td id=\"T_a1530d6c_fc21_11ea_a660_309c234564f5row11_col0\" class=\"data row11 col0\" >0.0134</td>\n",
       "                        <td id=\"T_a1530d6c_fc21_11ea_a660_309c234564f5row11_col1\" class=\"data row11 col1\" >0.0072</td>\n",
       "                        <td id=\"T_a1530d6c_fc21_11ea_a660_309c234564f5row11_col2\" class=\"data row11 col2\" >0.0142</td>\n",
       "                        <td id=\"T_a1530d6c_fc21_11ea_a660_309c234564f5row11_col3\" class=\"data row11 col3\" >0.0031</td>\n",
       "                        <td id=\"T_a1530d6c_fc21_11ea_a660_309c234564f5row11_col4\" class=\"data row11 col4\" >0.0037</td>\n",
       "                        <td id=\"T_a1530d6c_fc21_11ea_a660_309c234564f5row11_col5\" class=\"data row11 col5\" >0.0060</td>\n",
       "                        <td id=\"T_a1530d6c_fc21_11ea_a660_309c234564f5row11_col6\" class=\"data row11 col6\" >0.0068</td>\n",
       "            </tr>\n",
       "    </tbody></table>"
      ],
      "text/plain": [
       "<pandas.io.formats.style.Styler at 0x1cc1d917080>"
      ]
     },
     "metadata": {},
     "output_type": "display_data"
    }
   ],
   "source": [
    "nb = create_model('nb', fold=10)"
   ]
  },
  {
   "cell_type": "markdown",
   "metadata": {},
   "source": [
    "## Evaluate Models"
   ]
  },
  {
   "cell_type": "code",
   "execution_count": 36,
   "metadata": {},
   "outputs": [
    {
     "data": {
      "application/vnd.jupyter.widget-view+json": {
       "model_id": "77c06f335aaf48b3932d14046261e414",
       "version_major": 2,
       "version_minor": 0
      },
      "text/plain": [
       "interactive(children=(ToggleButtons(description='Plot Type:', icons=('',), options=(('Hyperparameters', 'param…"
      ]
     },
     "metadata": {},
     "output_type": "display_data"
    }
   ],
   "source": [
    "evaluate_model(nb)"
   ]
  },
  {
   "cell_type": "code",
   "execution_count": 37,
   "metadata": {},
   "outputs": [
    {
     "data": {
      "image/png": "[encoded data removed]",
      "text/plain": [
       "<Figure size 576x396 with 1 Axes>"
      ]
     },
     "metadata": {},
     "output_type": "display_data"
    }
   ],
   "source": [
    "plot_model(nb, plot='confusion_matrix')"
   ]
  },
  {
   "cell_type": "code",
   "execution_count": 38,
   "metadata": {},
   "outputs": [
    {
     "data": {
      "image/png": "[encoded data removed]",
      "text/plain": [
       "<Figure size 576x396 with 1 Axes>"
      ]
     },
     "metadata": {},
     "output_type": "display_data"
    }
   ],
   "source": [
    "plot_model(nb, plot = 'error')"
   ]
  },
  {
   "cell_type": "code",
   "execution_count": 39,
   "metadata": {},
   "outputs": [
    {
     "data": {
      "image/png": "[encoded data removed]",
      "text/plain": [
       "<Figure size 576x396 with 2 Axes>"
      ]
     },
     "metadata": {},
     "output_type": "display_data"
    }
   ],
   "source": [
    "plot_model(nb, plot = 'class_report')"
   ]
  },
  {
   "cell_type": "code",
   "execution_count": 41,
   "metadata": {},
   "outputs": [
    {
     "data": {
      "image/png": "[encoded data removed]",
      "text/plain": [
       "<Figure size 576x396 with 1 Axes>"
      ]
     },
     "metadata": {},
     "output_type": "display_data"
    }
   ],
   "source": [
    "plot_model(nb, plot = 'boundary')"
   ]
  },
  {
   "cell_type": "code",
   "execution_count": 42,
   "metadata": {},
   "outputs": [],
   "source": [
    "#plot_model(nb, plot='learning')"
   ]
  },
  {
   "cell_type": "code",
   "execution_count": 43,
   "metadata": {},
   "outputs": [],
   "source": [
    "#plot_model(nb, plot = 'manifold')"
   ]
  },
  {
   "cell_type": "code",
   "execution_count": 44,
   "metadata": {},
   "outputs": [],
   "source": [
    "#plot_model(nb, plot = 'calibration')"
   ]
  },
  {
   "cell_type": "code",
   "execution_count": 45,
   "metadata": {},
   "outputs": [],
   "source": [
    "#plot_model(nb, plot = 'vc')"
   ]
  },
  {
   "cell_type": "code",
   "execution_count": 46,
   "metadata": {},
   "outputs": [],
   "source": [
    "#plot_model(nb, plot='dimension')"
   ]
  },
  {
   "cell_type": "code",
   "execution_count": 48,
   "metadata": {},
   "outputs": [],
   "source": [
    "#plot_model(nb, plot = 'feature')"
   ]
  },
  {
   "cell_type": "code",
   "execution_count": 49,
   "metadata": {
    "scrolled": true
   },
   "outputs": [
    {
     "data": {
      "text/html": [
       "<div>\n",
       "<style scoped>\n",
       "    .dataframe tbody tr th:only-of-type {\n",
       "        vertical-align: middle;\n",
       "    }\n",
       "\n",
       "    .dataframe tbody tr th {\n",
       "        vertical-align: top;\n",
       "    }\n",
       "\n",
       "    .dataframe thead th {\n",
       "        text-align: right;\n",
       "    }\n",
       "</style>\n",
       "<table border=\"1\" class=\"dataframe\">\n",
       "  <thead>\n",
       "    <tr style=\"text-align: right;\">\n",
       "      <th></th>\n",
       "      <th>Parameters</th>\n",
       "    </tr>\n",
       "  </thead>\n",
       "  <tbody>\n",
       "    <tr>\n",
       "      <th>priors</th>\n",
       "      <td>NaN</td>\n",
       "    </tr>\n",
       "    <tr>\n",
       "      <th>var_smoothing</th>\n",
       "      <td>1.000000e-09</td>\n",
       "    </tr>\n",
       "  </tbody>\n",
       "</table>\n",
       "</div>"
      ],
      "text/plain": [
       "                 Parameters\n",
       "priors                  NaN\n",
       "var_smoothing  1.000000e-09"
      ]
     },
     "metadata": {},
     "output_type": "display_data"
    }
   ],
   "source": [
    "plot_model(nb, plot = 'parameter')"
   ]
  },
  {
   "cell_type": "markdown",
   "metadata": {},
   "source": [
    "## Tune Model"
   ]
  },
  {
   "cell_type": "code",
   "execution_count": 50,
   "metadata": {},
   "outputs": [
    {
     "data": {
      "text/html": [
       "<style  type=\"text/css\" >\n",
       "#T_428b4a6c_fc24_11ea_862f_309c234564f5row10_col0,#T_428b4a6c_fc24_11ea_862f_309c234564f5row10_col1,#T_428b4a6c_fc24_11ea_862f_309c234564f5row10_col2,#T_428b4a6c_fc24_11ea_862f_309c234564f5row10_col3,#T_428b4a6c_fc24_11ea_862f_309c234564f5row10_col4,#T_428b4a6c_fc24_11ea_862f_309c234564f5row10_col5,#T_428b4a6c_fc24_11ea_862f_309c234564f5row10_col6{\n",
       "            background:  yellow;\n",
       "        }</style><table id=\"T_428b4a6c_fc24_11ea_862f_309c234564f5\" ><thead>    <tr>        <th class=\"blank level0\" ></th>        <th class=\"col_heading level0 col0\" >Accuracy</th>        <th class=\"col_heading level0 col1\" >AUC</th>        <th class=\"col_heading level0 col2\" >Recall</th>        <th class=\"col_heading level0 col3\" >Prec.</th>        <th class=\"col_heading level0 col4\" >F1</th>        <th class=\"col_heading level0 col5\" >Kappa</th>        <th class=\"col_heading level0 col6\" >MCC</th>    </tr></thead><tbody>\n",
       "                <tr>\n",
       "                        <th id=\"T_428b4a6c_fc24_11ea_862f_309c234564f5level0_row0\" class=\"row_heading level0 row0\" >0</th>\n",
       "                        <td id=\"T_428b4a6c_fc24_11ea_862f_309c234564f5row0_col0\" class=\"data row0 col0\" >0.4670</td>\n",
       "                        <td id=\"T_428b4a6c_fc24_11ea_862f_309c234564f5row0_col1\" class=\"data row0 col1\" >0.6980</td>\n",
       "                        <td id=\"T_428b4a6c_fc24_11ea_862f_309c234564f5row0_col2\" class=\"data row0 col2\" >0.8500</td>\n",
       "                        <td id=\"T_428b4a6c_fc24_11ea_862f_309c234564f5row0_col3\" class=\"data row0 col3\" >0.1974</td>\n",
       "                        <td id=\"T_428b4a6c_fc24_11ea_862f_309c234564f5row0_col4\" class=\"data row0 col4\" >0.3204</td>\n",
       "                        <td id=\"T_428b4a6c_fc24_11ea_862f_309c234564f5row0_col5\" class=\"data row0 col5\" >0.1059</td>\n",
       "                        <td id=\"T_428b4a6c_fc24_11ea_862f_309c234564f5row0_col6\" class=\"data row0 col6\" >0.1849</td>\n",
       "            </tr>\n",
       "            <tr>\n",
       "                        <th id=\"T_428b4a6c_fc24_11ea_862f_309c234564f5level0_row1\" class=\"row_heading level0 row1\" >1</th>\n",
       "                        <td id=\"T_428b4a6c_fc24_11ea_862f_309c234564f5row1_col0\" class=\"data row1 col0\" >0.4971</td>\n",
       "                        <td id=\"T_428b4a6c_fc24_11ea_862f_309c234564f5row1_col1\" class=\"data row1 col1\" >0.7094</td>\n",
       "                        <td id=\"T_428b4a6c_fc24_11ea_862f_309c234564f5row1_col2\" class=\"data row1 col2\" >0.8443</td>\n",
       "                        <td id=\"T_428b4a6c_fc24_11ea_862f_309c234564f5row1_col3\" class=\"data row1 col3\" >0.2064</td>\n",
       "                        <td id=\"T_428b4a6c_fc24_11ea_862f_309c234564f5row1_col4\" class=\"data row1 col4\" >0.3317</td>\n",
       "                        <td id=\"T_428b4a6c_fc24_11ea_862f_309c234564f5row1_col5\" class=\"data row1 col5\" >0.1235</td>\n",
       "                        <td id=\"T_428b4a6c_fc24_11ea_862f_309c234564f5row1_col6\" class=\"data row1 col6\" >0.2042</td>\n",
       "            </tr>\n",
       "            <tr>\n",
       "                        <th id=\"T_428b4a6c_fc24_11ea_862f_309c234564f5level0_row2\" class=\"row_heading level0 row2\" >2</th>\n",
       "                        <td id=\"T_428b4a6c_fc24_11ea_862f_309c234564f5row2_col0\" class=\"data row2 col0\" >0.4878</td>\n",
       "                        <td id=\"T_428b4a6c_fc24_11ea_862f_309c234564f5row2_col1\" class=\"data row2 col1\" >0.7122</td>\n",
       "                        <td id=\"T_428b4a6c_fc24_11ea_862f_309c234564f5row2_col2\" class=\"data row2 col2\" >0.8377</td>\n",
       "                        <td id=\"T_428b4a6c_fc24_11ea_862f_309c234564f5row2_col3\" class=\"data row2 col3\" >0.2023</td>\n",
       "                        <td id=\"T_428b4a6c_fc24_11ea_862f_309c234564f5row2_col4\" class=\"data row2 col4\" >0.3259</td>\n",
       "                        <td id=\"T_428b4a6c_fc24_11ea_862f_309c234564f5row2_col5\" class=\"data row2 col5\" >0.1152</td>\n",
       "                        <td id=\"T_428b4a6c_fc24_11ea_862f_309c234564f5row2_col6\" class=\"data row2 col6\" >0.1929</td>\n",
       "            </tr>\n",
       "            <tr>\n",
       "                        <th id=\"T_428b4a6c_fc24_11ea_862f_309c234564f5level0_row3\" class=\"row_heading level0 row3\" >3</th>\n",
       "                        <td id=\"T_428b4a6c_fc24_11ea_862f_309c234564f5row3_col0\" class=\"data row3 col0\" >0.4695</td>\n",
       "                        <td id=\"T_428b4a6c_fc24_11ea_862f_309c234564f5row3_col1\" class=\"data row3 col1\" >0.7036</td>\n",
       "                        <td id=\"T_428b4a6c_fc24_11ea_862f_309c234564f5row3_col2\" class=\"data row3 col2\" >0.8406</td>\n",
       "                        <td id=\"T_428b4a6c_fc24_11ea_862f_309c234564f5row3_col3\" class=\"data row3 col3\" >0.1968</td>\n",
       "                        <td id=\"T_428b4a6c_fc24_11ea_862f_309c234564f5row3_col4\" class=\"data row3 col4\" >0.3190</td>\n",
       "                        <td id=\"T_428b4a6c_fc24_11ea_862f_309c234564f5row3_col5\" class=\"data row3 col5\" >0.1045</td>\n",
       "                        <td id=\"T_428b4a6c_fc24_11ea_862f_309c234564f5row3_col6\" class=\"data row3 col6\" >0.1808</td>\n",
       "            </tr>\n",
       "            <tr>\n",
       "                        <th id=\"T_428b4a6c_fc24_11ea_862f_309c234564f5level0_row4\" class=\"row_heading level0 row4\" >4</th>\n",
       "                        <td id=\"T_428b4a6c_fc24_11ea_862f_309c234564f5row4_col0\" class=\"data row4 col0\" >0.4946</td>\n",
       "                        <td id=\"T_428b4a6c_fc24_11ea_862f_309c234564f5row4_col1\" class=\"data row4 col1\" >0.7237</td>\n",
       "                        <td id=\"T_428b4a6c_fc24_11ea_862f_309c234564f5row4_col2\" class=\"data row4 col2\" >0.8321</td>\n",
       "                        <td id=\"T_428b4a6c_fc24_11ea_862f_309c234564f5row4_col3\" class=\"data row4 col3\" >0.2037</td>\n",
       "                        <td id=\"T_428b4a6c_fc24_11ea_862f_309c234564f5row4_col4\" class=\"data row4 col4\" >0.3273</td>\n",
       "                        <td id=\"T_428b4a6c_fc24_11ea_862f_309c234564f5row4_col5\" class=\"data row4 col5\" >0.1179</td>\n",
       "                        <td id=\"T_428b4a6c_fc24_11ea_862f_309c234564f5row4_col6\" class=\"data row4 col6\" >0.1946</td>\n",
       "            </tr>\n",
       "            <tr>\n",
       "                        <th id=\"T_428b4a6c_fc24_11ea_862f_309c234564f5level0_row5\" class=\"row_heading level0 row5\" >5</th>\n",
       "                        <td id=\"T_428b4a6c_fc24_11ea_862f_309c234564f5row5_col0\" class=\"data row5 col0\" >0.4598</td>\n",
       "                        <td id=\"T_428b4a6c_fc24_11ea_862f_309c234564f5row5_col1\" class=\"data row5 col1\" >0.7086</td>\n",
       "                        <td id=\"T_428b4a6c_fc24_11ea_862f_309c234564f5row5_col2\" class=\"data row5 col2\" >0.8764</td>\n",
       "                        <td id=\"T_428b4a6c_fc24_11ea_862f_309c234564f5row5_col3\" class=\"data row5 col3\" >0.1988</td>\n",
       "                        <td id=\"T_428b4a6c_fc24_11ea_862f_309c234564f5row5_col4\" class=\"data row5 col4\" >0.3241</td>\n",
       "                        <td id=\"T_428b4a6c_fc24_11ea_862f_309c234564f5row5_col5\" class=\"data row5 col5\" >0.1096</td>\n",
       "                        <td id=\"T_428b4a6c_fc24_11ea_862f_309c234564f5row5_col6\" class=\"data row5 col6\" >0.1966</td>\n",
       "            </tr>\n",
       "            <tr>\n",
       "                        <th id=\"T_428b4a6c_fc24_11ea_862f_309c234564f5level0_row6\" class=\"row_heading level0 row6\" >6</th>\n",
       "                        <td id=\"T_428b4a6c_fc24_11ea_862f_309c234564f5row6_col0\" class=\"data row6 col0\" >0.4976</td>\n",
       "                        <td id=\"T_428b4a6c_fc24_11ea_862f_309c234564f5row6_col1\" class=\"data row6 col1\" >0.7047</td>\n",
       "                        <td id=\"T_428b4a6c_fc24_11ea_862f_309c234564f5row6_col2\" class=\"data row6 col2\" >0.8189</td>\n",
       "                        <td id=\"T_428b4a6c_fc24_11ea_862f_309c234564f5row6_col3\" class=\"data row6 col3\" >0.2028</td>\n",
       "                        <td id=\"T_428b4a6c_fc24_11ea_862f_309c234564f5row6_col4\" class=\"data row6 col4\" >0.3251</td>\n",
       "                        <td id=\"T_428b4a6c_fc24_11ea_862f_309c234564f5row6_col5\" class=\"data row6 col5\" >0.1156</td>\n",
       "                        <td id=\"T_428b4a6c_fc24_11ea_862f_309c234564f5row6_col6\" class=\"data row6 col6\" >0.1886</td>\n",
       "            </tr>\n",
       "            <tr>\n",
       "                        <th id=\"T_428b4a6c_fc24_11ea_862f_309c234564f5level0_row7\" class=\"row_heading level0 row7\" >7</th>\n",
       "                        <td id=\"T_428b4a6c_fc24_11ea_862f_309c234564f5row7_col0\" class=\"data row7 col0\" >0.4960</td>\n",
       "                        <td id=\"T_428b4a6c_fc24_11ea_862f_309c234564f5row7_col1\" class=\"data row7 col1\" >0.7159</td>\n",
       "                        <td id=\"T_428b4a6c_fc24_11ea_862f_309c234564f5row7_col2\" class=\"data row7 col2\" >0.8338</td>\n",
       "                        <td id=\"T_428b4a6c_fc24_11ea_862f_309c234564f5row7_col3\" class=\"data row7 col3\" >0.2043</td>\n",
       "                        <td id=\"T_428b4a6c_fc24_11ea_862f_309c234564f5row7_col4\" class=\"data row7 col4\" >0.3282</td>\n",
       "                        <td id=\"T_428b4a6c_fc24_11ea_862f_309c234564f5row7_col5\" class=\"data row7 col5\" >0.1193</td>\n",
       "                        <td id=\"T_428b4a6c_fc24_11ea_862f_309c234564f5row7_col6\" class=\"data row7 col6\" >0.1966</td>\n",
       "            </tr>\n",
       "            <tr>\n",
       "                        <th id=\"T_428b4a6c_fc24_11ea_862f_309c234564f5level0_row8\" class=\"row_heading level0 row8\" >8</th>\n",
       "                        <td id=\"T_428b4a6c_fc24_11ea_862f_309c234564f5row8_col0\" class=\"data row8 col0\" >0.4915</td>\n",
       "                        <td id=\"T_428b4a6c_fc24_11ea_862f_309c234564f5row8_col1\" class=\"data row8 col1\" >0.7179</td>\n",
       "                        <td id=\"T_428b4a6c_fc24_11ea_862f_309c234564f5row8_col2\" class=\"data row8 col2\" >0.8385</td>\n",
       "                        <td id=\"T_428b4a6c_fc24_11ea_862f_309c234564f5row8_col3\" class=\"data row8 col3\" >0.2035</td>\n",
       "                        <td id=\"T_428b4a6c_fc24_11ea_862f_309c234564f5row8_col4\" class=\"data row8 col4\" >0.3275</td>\n",
       "                        <td id=\"T_428b4a6c_fc24_11ea_862f_309c234564f5row8_col5\" class=\"data row8 col5\" >0.1179</td>\n",
       "                        <td id=\"T_428b4a6c_fc24_11ea_862f_309c234564f5row8_col6\" class=\"data row8 col6\" >0.1962</td>\n",
       "            </tr>\n",
       "            <tr>\n",
       "                        <th id=\"T_428b4a6c_fc24_11ea_862f_309c234564f5level0_row9\" class=\"row_heading level0 row9\" >9</th>\n",
       "                        <td id=\"T_428b4a6c_fc24_11ea_862f_309c234564f5row9_col0\" class=\"data row9 col0\" >0.4901</td>\n",
       "                        <td id=\"T_428b4a6c_fc24_11ea_862f_309c234564f5row9_col1\" class=\"data row9 col1\" >0.7155</td>\n",
       "                        <td id=\"T_428b4a6c_fc24_11ea_862f_309c234564f5row9_col2\" class=\"data row9 col2\" >0.8480</td>\n",
       "                        <td id=\"T_428b4a6c_fc24_11ea_862f_309c234564f5row9_col3\" class=\"data row9 col3\" >0.2044</td>\n",
       "                        <td id=\"T_428b4a6c_fc24_11ea_862f_309c234564f5row9_col4\" class=\"data row9 col4\" >0.3294</td>\n",
       "                        <td id=\"T_428b4a6c_fc24_11ea_862f_309c234564f5row9_col5\" class=\"data row9 col5\" >0.1199</td>\n",
       "                        <td id=\"T_428b4a6c_fc24_11ea_862f_309c234564f5row9_col6\" class=\"data row9 col6\" >0.2011</td>\n",
       "            </tr>\n",
       "            <tr>\n",
       "                        <th id=\"T_428b4a6c_fc24_11ea_862f_309c234564f5level0_row10\" class=\"row_heading level0 row10\" >Mean</th>\n",
       "                        <td id=\"T_428b4a6c_fc24_11ea_862f_309c234564f5row10_col0\" class=\"data row10 col0\" >0.4851</td>\n",
       "                        <td id=\"T_428b4a6c_fc24_11ea_862f_309c234564f5row10_col1\" class=\"data row10 col1\" >0.7109</td>\n",
       "                        <td id=\"T_428b4a6c_fc24_11ea_862f_309c234564f5row10_col2\" class=\"data row10 col2\" >0.8420</td>\n",
       "                        <td id=\"T_428b4a6c_fc24_11ea_862f_309c234564f5row10_col3\" class=\"data row10 col3\" >0.2020</td>\n",
       "                        <td id=\"T_428b4a6c_fc24_11ea_862f_309c234564f5row10_col4\" class=\"data row10 col4\" >0.3258</td>\n",
       "                        <td id=\"T_428b4a6c_fc24_11ea_862f_309c234564f5row10_col5\" class=\"data row10 col5\" >0.1149</td>\n",
       "                        <td id=\"T_428b4a6c_fc24_11ea_862f_309c234564f5row10_col6\" class=\"data row10 col6\" >0.1936</td>\n",
       "            </tr>\n",
       "            <tr>\n",
       "                        <th id=\"T_428b4a6c_fc24_11ea_862f_309c234564f5level0_row11\" class=\"row_heading level0 row11\" >SD</th>\n",
       "                        <td id=\"T_428b4a6c_fc24_11ea_862f_309c234564f5row11_col0\" class=\"data row11 col0\" >0.0134</td>\n",
       "                        <td id=\"T_428b4a6c_fc24_11ea_862f_309c234564f5row11_col1\" class=\"data row11 col1\" >0.0072</td>\n",
       "                        <td id=\"T_428b4a6c_fc24_11ea_862f_309c234564f5row11_col2\" class=\"data row11 col2\" >0.0142</td>\n",
       "                        <td id=\"T_428b4a6c_fc24_11ea_862f_309c234564f5row11_col3\" class=\"data row11 col3\" >0.0031</td>\n",
       "                        <td id=\"T_428b4a6c_fc24_11ea_862f_309c234564f5row11_col4\" class=\"data row11 col4\" >0.0037</td>\n",
       "                        <td id=\"T_428b4a6c_fc24_11ea_862f_309c234564f5row11_col5\" class=\"data row11 col5\" >0.0060</td>\n",
       "                        <td id=\"T_428b4a6c_fc24_11ea_862f_309c234564f5row11_col6\" class=\"data row11 col6\" >0.0068</td>\n",
       "            </tr>\n",
       "    </tbody></table>"
      ],
      "text/plain": [
       "<pandas.io.formats.style.Styler at 0x1cc370b0780>"
      ]
     },
     "metadata": {},
     "output_type": "display_data"
    }
   ],
   "source": [
    "tuned_nb = tune_model(nb, optimize = 'Recall')"
   ]
  },
  {
   "cell_type": "code",
   "execution_count": 58,
   "metadata": {
    "scrolled": true
   },
   "outputs": [
    {
     "data": {
      "text/html": [
       "<style  type=\"text/css\" >\n",
       "#T_a4567976_fb96_11ea_a080_309c234564f5row10_col0,#T_a4567976_fb96_11ea_a080_309c234564f5row10_col1,#T_a4567976_fb96_11ea_a080_309c234564f5row10_col2,#T_a4567976_fb96_11ea_a080_309c234564f5row10_col3,#T_a4567976_fb96_11ea_a080_309c234564f5row10_col4,#T_a4567976_fb96_11ea_a080_309c234564f5row10_col5,#T_a4567976_fb96_11ea_a080_309c234564f5row10_col6{\n",
       "            background:  yellow;\n",
       "        }</style><table id=\"T_a4567976_fb96_11ea_a080_309c234564f5\" ><thead>    <tr>        <th class=\"blank level0\" ></th>        <th class=\"col_heading level0 col0\" >Accuracy</th>        <th class=\"col_heading level0 col1\" >AUC</th>        <th class=\"col_heading level0 col2\" >Recall</th>        <th class=\"col_heading level0 col3\" >Prec.</th>        <th class=\"col_heading level0 col4\" >F1</th>        <th class=\"col_heading level0 col5\" >Kappa</th>        <th class=\"col_heading level0 col6\" >MCC</th>    </tr></thead><tbody>\n",
       "                <tr>\n",
       "                        <th id=\"T_a4567976_fb96_11ea_a080_309c234564f5level0_row0\" class=\"row_heading level0 row0\" >0</th>\n",
       "                        <td id=\"T_a4567976_fb96_11ea_a080_309c234564f5row0_col0\" class=\"data row0 col0\" >0.5168</td>\n",
       "                        <td id=\"T_a4567976_fb96_11ea_a080_309c234564f5row0_col1\" class=\"data row0 col1\" >0.7348</td>\n",
       "                        <td id=\"T_a4567976_fb96_11ea_a080_309c234564f5row0_col2\" class=\"data row0 col2\" >0.8221</td>\n",
       "                        <td id=\"T_a4567976_fb96_11ea_a080_309c234564f5row0_col3\" class=\"data row0 col3\" >0.2095</td>\n",
       "                        <td id=\"T_a4567976_fb96_11ea_a080_309c234564f5row0_col4\" class=\"data row0 col4\" >0.3340</td>\n",
       "                        <td id=\"T_a4567976_fb96_11ea_a080_309c234564f5row0_col5\" class=\"data row0 col5\" >0.1295</td>\n",
       "                        <td id=\"T_a4567976_fb96_11ea_a080_309c234564f5row0_col6\" class=\"data row0 col6\" >0.2054</td>\n",
       "            </tr>\n",
       "            <tr>\n",
       "                        <th id=\"T_a4567976_fb96_11ea_a080_309c234564f5level0_row1\" class=\"row_heading level0 row1\" >1</th>\n",
       "                        <td id=\"T_a4567976_fb96_11ea_a080_309c234564f5row1_col0\" class=\"data row1 col0\" >0.5076</td>\n",
       "                        <td id=\"T_a4567976_fb96_11ea_a080_309c234564f5row1_col1\" class=\"data row1 col1\" >0.7405</td>\n",
       "                        <td id=\"T_a4567976_fb96_11ea_a080_309c234564f5row1_col2\" class=\"data row1 col2\" >0.8335</td>\n",
       "                        <td id=\"T_a4567976_fb96_11ea_a080_309c234564f5row1_col3\" class=\"data row1 col3\" >0.2079</td>\n",
       "                        <td id=\"T_a4567976_fb96_11ea_a080_309c234564f5row1_col4\" class=\"data row1 col4\" >0.3328</td>\n",
       "                        <td id=\"T_a4567976_fb96_11ea_a080_309c234564f5row1_col5\" class=\"data row1 col5\" >0.1269</td>\n",
       "                        <td id=\"T_a4567976_fb96_11ea_a080_309c234564f5row1_col6\" class=\"data row1 col6\" >0.2053</td>\n",
       "            </tr>\n",
       "            <tr>\n",
       "                        <th id=\"T_a4567976_fb96_11ea_a080_309c234564f5level0_row2\" class=\"row_heading level0 row2\" >2</th>\n",
       "                        <td id=\"T_a4567976_fb96_11ea_a080_309c234564f5row2_col0\" class=\"data row2 col0\" >0.5114</td>\n",
       "                        <td id=\"T_a4567976_fb96_11ea_a080_309c234564f5row2_col1\" class=\"data row2 col1\" >0.7208</td>\n",
       "                        <td id=\"T_a4567976_fb96_11ea_a080_309c234564f5row2_col2\" class=\"data row2 col2\" >0.8070</td>\n",
       "                        <td id=\"T_a4567976_fb96_11ea_a080_309c234564f5row2_col3\" class=\"data row2 col3\" >0.2053</td>\n",
       "                        <td id=\"T_a4567976_fb96_11ea_a080_309c234564f5row2_col4\" class=\"data row2 col4\" >0.3274</td>\n",
       "                        <td id=\"T_a4567976_fb96_11ea_a080_309c234564f5row2_col5\" class=\"data row2 col5\" >0.1208</td>\n",
       "                        <td id=\"T_a4567976_fb96_11ea_a080_309c234564f5row2_col6\" class=\"data row2 col6\" >0.1919</td>\n",
       "            </tr>\n",
       "            <tr>\n",
       "                        <th id=\"T_a4567976_fb96_11ea_a080_309c234564f5level0_row3\" class=\"row_heading level0 row3\" >3</th>\n",
       "                        <td id=\"T_a4567976_fb96_11ea_a080_309c234564f5row3_col0\" class=\"data row3 col0\" >0.5192</td>\n",
       "                        <td id=\"T_a4567976_fb96_11ea_a080_309c234564f5row3_col1\" class=\"data row3 col1\" >0.7382</td>\n",
       "                        <td id=\"T_a4567976_fb96_11ea_a080_309c234564f5row3_col2\" class=\"data row3 col2\" >0.8269</td>\n",
       "                        <td id=\"T_a4567976_fb96_11ea_a080_309c234564f5row3_col3\" class=\"data row3 col3\" >0.2111</td>\n",
       "                        <td id=\"T_a4567976_fb96_11ea_a080_309c234564f5row3_col4\" class=\"data row3 col4\" >0.3363</td>\n",
       "                        <td id=\"T_a4567976_fb96_11ea_a080_309c234564f5row3_col5\" class=\"data row3 col5\" >0.1327</td>\n",
       "                        <td id=\"T_a4567976_fb96_11ea_a080_309c234564f5row3_col6\" class=\"data row3 col6\" >0.2101</td>\n",
       "            </tr>\n",
       "            <tr>\n",
       "                        <th id=\"T_a4567976_fb96_11ea_a080_309c234564f5level0_row4\" class=\"row_heading level0 row4\" >4</th>\n",
       "                        <td id=\"T_a4567976_fb96_11ea_a080_309c234564f5row4_col0\" class=\"data row4 col0\" >0.5051</td>\n",
       "                        <td id=\"T_a4567976_fb96_11ea_a080_309c234564f5row4_col1\" class=\"data row4 col1\" >0.7266</td>\n",
       "                        <td id=\"T_a4567976_fb96_11ea_a080_309c234564f5row4_col2\" class=\"data row4 col2\" >0.8127</td>\n",
       "                        <td id=\"T_a4567976_fb96_11ea_a080_309c234564f5row4_col3\" class=\"data row4 col3\" >0.2040</td>\n",
       "                        <td id=\"T_a4567976_fb96_11ea_a080_309c234564f5row4_col4\" class=\"data row4 col4\" >0.3261</td>\n",
       "                        <td id=\"T_a4567976_fb96_11ea_a080_309c234564f5row4_col5\" class=\"data row4 col5\" >0.1184</td>\n",
       "                        <td id=\"T_a4567976_fb96_11ea_a080_309c234564f5row4_col6\" class=\"data row4 col6\" >0.1905</td>\n",
       "            </tr>\n",
       "            <tr>\n",
       "                        <th id=\"T_a4567976_fb96_11ea_a080_309c234564f5level0_row5\" class=\"row_heading level0 row5\" >5</th>\n",
       "                        <td id=\"T_a4567976_fb96_11ea_a080_309c234564f5row5_col0\" class=\"data row5 col0\" >0.5266</td>\n",
       "                        <td id=\"T_a4567976_fb96_11ea_a080_309c234564f5row5_col1\" class=\"data row5 col1\" >0.7359</td>\n",
       "                        <td id=\"T_a4567976_fb96_11ea_a080_309c234564f5row5_col2\" class=\"data row5 col2\" >0.8110</td>\n",
       "                        <td id=\"T_a4567976_fb96_11ea_a080_309c234564f5row5_col3\" class=\"data row5 col3\" >0.2116</td>\n",
       "                        <td id=\"T_a4567976_fb96_11ea_a080_309c234564f5row5_col4\" class=\"data row5 col4\" >0.3357</td>\n",
       "                        <td id=\"T_a4567976_fb96_11ea_a080_309c234564f5row5_col5\" class=\"data row5 col5\" >0.1328</td>\n",
       "                        <td id=\"T_a4567976_fb96_11ea_a080_309c234564f5row5_col6\" class=\"data row5 col6\" >0.2062</td>\n",
       "            </tr>\n",
       "            <tr>\n",
       "                        <th id=\"T_a4567976_fb96_11ea_a080_309c234564f5level0_row6\" class=\"row_heading level0 row6\" >6</th>\n",
       "                        <td id=\"T_a4567976_fb96_11ea_a080_309c234564f5row6_col0\" class=\"data row6 col0\" >0.5160</td>\n",
       "                        <td id=\"T_a4567976_fb96_11ea_a080_309c234564f5row6_col1\" class=\"data row6 col1\" >0.7409</td>\n",
       "                        <td id=\"T_a4567976_fb96_11ea_a080_309c234564f5row6_col2\" class=\"data row6 col2\" >0.8261</td>\n",
       "                        <td id=\"T_a4567976_fb96_11ea_a080_309c234564f5row6_col3\" class=\"data row6 col3\" >0.2100</td>\n",
       "                        <td id=\"T_a4567976_fb96_11ea_a080_309c234564f5row6_col4\" class=\"data row6 col4\" >0.3349</td>\n",
       "                        <td id=\"T_a4567976_fb96_11ea_a080_309c234564f5row6_col5\" class=\"data row6 col5\" >0.1303</td>\n",
       "                        <td id=\"T_a4567976_fb96_11ea_a080_309c234564f5row6_col6\" class=\"data row6 col6\" >0.2072</td>\n",
       "            </tr>\n",
       "            <tr>\n",
       "                        <th id=\"T_a4567976_fb96_11ea_a080_309c234564f5level0_row7\" class=\"row_heading level0 row7\" >7</th>\n",
       "                        <td id=\"T_a4567976_fb96_11ea_a080_309c234564f5row7_col0\" class=\"data row7 col0\" >0.5113</td>\n",
       "                        <td id=\"T_a4567976_fb96_11ea_a080_309c234564f5row7_col1\" class=\"data row7 col1\" >0.7303</td>\n",
       "                        <td id=\"T_a4567976_fb96_11ea_a080_309c234564f5row7_col2\" class=\"data row7 col2\" >0.8108</td>\n",
       "                        <td id=\"T_a4567976_fb96_11ea_a080_309c234564f5row7_col3\" class=\"data row7 col3\" >0.2059</td>\n",
       "                        <td id=\"T_a4567976_fb96_11ea_a080_309c234564f5row7_col4\" class=\"data row7 col4\" >0.3284</td>\n",
       "                        <td id=\"T_a4567976_fb96_11ea_a080_309c234564f5row7_col5\" class=\"data row7 col5\" >0.1220</td>\n",
       "                        <td id=\"T_a4567976_fb96_11ea_a080_309c234564f5row7_col6\" class=\"data row7 col6\" >0.1942</td>\n",
       "            </tr>\n",
       "            <tr>\n",
       "                        <th id=\"T_a4567976_fb96_11ea_a080_309c234564f5level0_row8\" class=\"row_heading level0 row8\" >8</th>\n",
       "                        <td id=\"T_a4567976_fb96_11ea_a080_309c234564f5row8_col0\" class=\"data row8 col0\" >0.5151</td>\n",
       "                        <td id=\"T_a4567976_fb96_11ea_a080_309c234564f5row8_col1\" class=\"data row8 col1\" >0.7323</td>\n",
       "                        <td id=\"T_a4567976_fb96_11ea_a080_309c234564f5row8_col2\" class=\"data row8 col2\" >0.8146</td>\n",
       "                        <td id=\"T_a4567976_fb96_11ea_a080_309c234564f5row8_col3\" class=\"data row8 col3\" >0.2078</td>\n",
       "                        <td id=\"T_a4567976_fb96_11ea_a080_309c234564f5row8_col4\" class=\"data row8 col4\" >0.3312</td>\n",
       "                        <td id=\"T_a4567976_fb96_11ea_a080_309c234564f5row8_col5\" class=\"data row8 col5\" >0.1259</td>\n",
       "                        <td id=\"T_a4567976_fb96_11ea_a080_309c234564f5row8_col6\" class=\"data row8 col6\" >0.1994</td>\n",
       "            </tr>\n",
       "            <tr>\n",
       "                        <th id=\"T_a4567976_fb96_11ea_a080_309c234564f5level0_row9\" class=\"row_heading level0 row9\" >9</th>\n",
       "                        <td id=\"T_a4567976_fb96_11ea_a080_309c234564f5row9_col0\" class=\"data row9 col0\" >0.5145</td>\n",
       "                        <td id=\"T_a4567976_fb96_11ea_a080_309c234564f5row9_col1\" class=\"data row9 col1\" >0.7240</td>\n",
       "                        <td id=\"T_a4567976_fb96_11ea_a080_309c234564f5row9_col2\" class=\"data row9 col2\" >0.8108</td>\n",
       "                        <td id=\"T_a4567976_fb96_11ea_a080_309c234564f5row9_col3\" class=\"data row9 col3\" >0.2071</td>\n",
       "                        <td id=\"T_a4567976_fb96_11ea_a080_309c234564f5row9_col4\" class=\"data row9 col4\" >0.3299</td>\n",
       "                        <td id=\"T_a4567976_fb96_11ea_a080_309c234564f5row9_col5\" class=\"data row9 col5\" >0.1242</td>\n",
       "                        <td id=\"T_a4567976_fb96_11ea_a080_309c234564f5row9_col6\" class=\"data row9 col6\" >0.1967</td>\n",
       "            </tr>\n",
       "            <tr>\n",
       "                        <th id=\"T_a4567976_fb96_11ea_a080_309c234564f5level0_row10\" class=\"row_heading level0 row10\" >Mean</th>\n",
       "                        <td id=\"T_a4567976_fb96_11ea_a080_309c234564f5row10_col0\" class=\"data row10 col0\" >0.5143</td>\n",
       "                        <td id=\"T_a4567976_fb96_11ea_a080_309c234564f5row10_col1\" class=\"data row10 col1\" >0.7324</td>\n",
       "                        <td id=\"T_a4567976_fb96_11ea_a080_309c234564f5row10_col2\" class=\"data row10 col2\" >0.8175</td>\n",
       "                        <td id=\"T_a4567976_fb96_11ea_a080_309c234564f5row10_col3\" class=\"data row10 col3\" >0.2080</td>\n",
       "                        <td id=\"T_a4567976_fb96_11ea_a080_309c234564f5row10_col4\" class=\"data row10 col4\" >0.3317</td>\n",
       "                        <td id=\"T_a4567976_fb96_11ea_a080_309c234564f5row10_col5\" class=\"data row10 col5\" >0.1264</td>\n",
       "                        <td id=\"T_a4567976_fb96_11ea_a080_309c234564f5row10_col6\" class=\"data row10 col6\" >0.2007</td>\n",
       "            </tr>\n",
       "            <tr>\n",
       "                        <th id=\"T_a4567976_fb96_11ea_a080_309c234564f5level0_row11\" class=\"row_heading level0 row11\" >SD</th>\n",
       "                        <td id=\"T_a4567976_fb96_11ea_a080_309c234564f5row11_col0\" class=\"data row11 col0\" >0.0058</td>\n",
       "                        <td id=\"T_a4567976_fb96_11ea_a080_309c234564f5row11_col1\" class=\"data row11 col1\" >0.0066</td>\n",
       "                        <td id=\"T_a4567976_fb96_11ea_a080_309c234564f5row11_col2\" class=\"data row11 col2\" >0.0084</td>\n",
       "                        <td id=\"T_a4567976_fb96_11ea_a080_309c234564f5row11_col3\" class=\"data row11 col3\" >0.0024</td>\n",
       "                        <td id=\"T_a4567976_fb96_11ea_a080_309c234564f5row11_col4\" class=\"data row11 col4\" >0.0034</td>\n",
       "                        <td id=\"T_a4567976_fb96_11ea_a080_309c234564f5row11_col5\" class=\"data row11 col5\" >0.0047</td>\n",
       "                        <td id=\"T_a4567976_fb96_11ea_a080_309c234564f5row11_col6\" class=\"data row11 col6\" >0.0067</td>\n",
       "            </tr>\n",
       "    </tbody></table>"
      ],
      "text/plain": [
       "<pandas.io.formats.style.Styler at 0x2c005fa2e48>"
      ]
     },
     "metadata": {},
     "output_type": "display_data"
    }
   ],
   "source": [
    "bagged_nb = ensemble_model(nb)"
   ]
  },
  {
   "cell_type": "code",
   "execution_count": 51,
   "metadata": {
    "scrolled": false
   },
   "outputs": [
    {
     "data": {
      "text/html": [
       "<style  type=\"text/css\" >\n",
       "#T_fc4344f4_fc24_11ea_be1f_309c234564f5row10_col0,#T_fc4344f4_fc24_11ea_be1f_309c234564f5row10_col1,#T_fc4344f4_fc24_11ea_be1f_309c234564f5row10_col2,#T_fc4344f4_fc24_11ea_be1f_309c234564f5row10_col3,#T_fc4344f4_fc24_11ea_be1f_309c234564f5row10_col4,#T_fc4344f4_fc24_11ea_be1f_309c234564f5row10_col5,#T_fc4344f4_fc24_11ea_be1f_309c234564f5row10_col6{\n",
       "            background:  yellow;\n",
       "        }</style><table id=\"T_fc4344f4_fc24_11ea_be1f_309c234564f5\" ><thead>    <tr>        <th class=\"blank level0\" ></th>        <th class=\"col_heading level0 col0\" >Accuracy</th>        <th class=\"col_heading level0 col1\" >AUC</th>        <th class=\"col_heading level0 col2\" >Recall</th>        <th class=\"col_heading level0 col3\" >Prec.</th>        <th class=\"col_heading level0 col4\" >F1</th>        <th class=\"col_heading level0 col5\" >Kappa</th>        <th class=\"col_heading level0 col6\" >MCC</th>    </tr></thead><tbody>\n",
       "                <tr>\n",
       "                        <th id=\"T_fc4344f4_fc24_11ea_be1f_309c234564f5level0_row0\" class=\"row_heading level0 row0\" >0</th>\n",
       "                        <td id=\"T_fc4344f4_fc24_11ea_be1f_309c234564f5row0_col0\" class=\"data row0 col0\" >0.4744</td>\n",
       "                        <td id=\"T_fc4344f4_fc24_11ea_be1f_309c234564f5row0_col1\" class=\"data row0 col1\" >0.5802</td>\n",
       "                        <td id=\"T_fc4344f4_fc24_11ea_be1f_309c234564f5row0_col2\" class=\"data row0 col2\" >0.6217</td>\n",
       "                        <td id=\"T_fc4344f4_fc24_11ea_be1f_309c234564f5row0_col3\" class=\"data row0 col3\" >0.1636</td>\n",
       "                        <td id=\"T_fc4344f4_fc24_11ea_be1f_309c234564f5row0_col4\" class=\"data row0 col4\" >0.2590</td>\n",
       "                        <td id=\"T_fc4344f4_fc24_11ea_be1f_309c234564f5row0_col5\" class=\"data row0 col5\" >0.0327</td>\n",
       "                        <td id=\"T_fc4344f4_fc24_11ea_be1f_309c234564f5row0_col6\" class=\"data row0 col6\" >0.0505</td>\n",
       "            </tr>\n",
       "            <tr>\n",
       "                        <th id=\"T_fc4344f4_fc24_11ea_be1f_309c234564f5level0_row1\" class=\"row_heading level0 row1\" >1</th>\n",
       "                        <td id=\"T_fc4344f4_fc24_11ea_be1f_309c234564f5row1_col0\" class=\"data row1 col0\" >0.6045</td>\n",
       "                        <td id=\"T_fc4344f4_fc24_11ea_be1f_309c234564f5row1_col1\" class=\"data row1 col1\" >0.5373</td>\n",
       "                        <td id=\"T_fc4344f4_fc24_11ea_be1f_309c234564f5row1_col2\" class=\"data row1 col2\" >0.3991</td>\n",
       "                        <td id=\"T_fc4344f4_fc24_11ea_be1f_309c234564f5row1_col3\" class=\"data row1 col3\" >0.1613</td>\n",
       "                        <td id=\"T_fc4344f4_fc24_11ea_be1f_309c234564f5row1_col4\" class=\"data row1 col4\" >0.2297</td>\n",
       "                        <td id=\"T_fc4344f4_fc24_11ea_be1f_309c234564f5row1_col5\" class=\"data row1 col5\" >0.0243</td>\n",
       "                        <td id=\"T_fc4344f4_fc24_11ea_be1f_309c234564f5row1_col6\" class=\"data row1 col6\" >0.0289</td>\n",
       "            </tr>\n",
       "            <tr>\n",
       "                        <th id=\"T_fc4344f4_fc24_11ea_be1f_309c234564f5level0_row2\" class=\"row_heading level0 row2\" >2</th>\n",
       "                        <td id=\"T_fc4344f4_fc24_11ea_be1f_309c234564f5row2_col0\" class=\"data row2 col0\" >0.5564</td>\n",
       "                        <td id=\"T_fc4344f4_fc24_11ea_be1f_309c234564f5row2_col1\" class=\"data row2 col1\" >0.4774</td>\n",
       "                        <td id=\"T_fc4344f4_fc24_11ea_be1f_309c234564f5row2_col2\" class=\"data row2 col2\" >0.3594</td>\n",
       "                        <td id=\"T_fc4344f4_fc24_11ea_be1f_309c234564f5row2_col3\" class=\"data row2 col3\" >0.1321</td>\n",
       "                        <td id=\"T_fc4344f4_fc24_11ea_be1f_309c234564f5row2_col4\" class=\"data row2 col4\" >0.1932</td>\n",
       "                        <td id=\"T_fc4344f4_fc24_11ea_be1f_309c234564f5row2_col5\" class=\"data row2 col5\" >-0.0292</td>\n",
       "                        <td id=\"T_fc4344f4_fc24_11ea_be1f_309c234564f5row2_col6\" class=\"data row2 col6\" >-0.0362</td>\n",
       "            </tr>\n",
       "            <tr>\n",
       "                        <th id=\"T_fc4344f4_fc24_11ea_be1f_309c234564f5level0_row3\" class=\"row_heading level0 row3\" >3</th>\n",
       "                        <td id=\"T_fc4344f4_fc24_11ea_be1f_309c234564f5row3_col0\" class=\"data row3 col0\" >0.3870</td>\n",
       "                        <td id=\"T_fc4344f4_fc24_11ea_be1f_309c234564f5row3_col1\" class=\"data row3 col1\" >0.5340</td>\n",
       "                        <td id=\"T_fc4344f4_fc24_11ea_be1f_309c234564f5row3_col2\" class=\"data row3 col2\" >0.7104</td>\n",
       "                        <td id=\"T_fc4344f4_fc24_11ea_be1f_309c234564f5row3_col3\" class=\"data row3 col3\" >0.1555</td>\n",
       "                        <td id=\"T_fc4344f4_fc24_11ea_be1f_309c234564f5row3_col4\" class=\"data row3 col4\" >0.2551</td>\n",
       "                        <td id=\"T_fc4344f4_fc24_11ea_be1f_309c234564f5row3_col5\" class=\"data row3 col5\" >0.0167</td>\n",
       "                        <td id=\"T_fc4344f4_fc24_11ea_be1f_309c234564f5row3_col6\" class=\"data row3 col6\" >0.0313</td>\n",
       "            </tr>\n",
       "            <tr>\n",
       "                        <th id=\"T_fc4344f4_fc24_11ea_be1f_309c234564f5level0_row4\" class=\"row_heading level0 row4\" >4</th>\n",
       "                        <td id=\"T_fc4344f4_fc24_11ea_be1f_309c234564f5row4_col0\" class=\"data row4 col0\" >0.2146</td>\n",
       "                        <td id=\"T_fc4344f4_fc24_11ea_be1f_309c234564f5row4_col1\" class=\"data row4 col1\" >0.4969</td>\n",
       "                        <td id=\"T_fc4344f4_fc24_11ea_be1f_309c234564f5row4_col2\" class=\"data row4 col2\" >0.9236</td>\n",
       "                        <td id=\"T_fc4344f4_fc24_11ea_be1f_309c234564f5row4_col3\" class=\"data row4 col3\" >0.1499</td>\n",
       "                        <td id=\"T_fc4344f4_fc24_11ea_be1f_309c234564f5row4_col4\" class=\"data row4 col4\" >0.2579</td>\n",
       "                        <td id=\"T_fc4344f4_fc24_11ea_be1f_309c234564f5row4_col5\" class=\"data row4 col5\" >0.0048</td>\n",
       "                        <td id=\"T_fc4344f4_fc24_11ea_be1f_309c234564f5row4_col6\" class=\"data row4 col6\" >0.0189</td>\n",
       "            </tr>\n",
       "            <tr>\n",
       "                        <th id=\"T_fc4344f4_fc24_11ea_be1f_309c234564f5level0_row5\" class=\"row_heading level0 row5\" >5</th>\n",
       "                        <td id=\"T_fc4344f4_fc24_11ea_be1f_309c234564f5row5_col0\" class=\"data row5 col0\" >0.3204</td>\n",
       "                        <td id=\"T_fc4344f4_fc24_11ea_be1f_309c234564f5row5_col1\" class=\"data row5 col1\" >0.4577</td>\n",
       "                        <td id=\"T_fc4344f4_fc24_11ea_be1f_309c234564f5row5_col2\" class=\"data row5 col2\" >0.6406</td>\n",
       "                        <td id=\"T_fc4344f4_fc24_11ea_be1f_309c234564f5row5_col3\" class=\"data row5 col3\" >0.1313</td>\n",
       "                        <td id=\"T_fc4344f4_fc24_11ea_be1f_309c234564f5row5_col4\" class=\"data row5 col4\" >0.2179</td>\n",
       "                        <td id=\"T_fc4344f4_fc24_11ea_be1f_309c234564f5row5_col5\" class=\"data row5 col5\" >-0.0363</td>\n",
       "                        <td id=\"T_fc4344f4_fc24_11ea_be1f_309c234564f5row5_col6\" class=\"data row5 col6\" >-0.0749</td>\n",
       "            </tr>\n",
       "            <tr>\n",
       "                        <th id=\"T_fc4344f4_fc24_11ea_be1f_309c234564f5level0_row6\" class=\"row_heading level0 row6\" >6</th>\n",
       "                        <td id=\"T_fc4344f4_fc24_11ea_be1f_309c234564f5row6_col0\" class=\"data row6 col0\" >0.4645</td>\n",
       "                        <td id=\"T_fc4344f4_fc24_11ea_be1f_309c234564f5row6_col1\" class=\"data row6 col1\" >0.5437</td>\n",
       "                        <td id=\"T_fc4344f4_fc24_11ea_be1f_309c234564f5row6_col2\" class=\"data row6 col2\" >0.5915</td>\n",
       "                        <td id=\"T_fc4344f4_fc24_11ea_be1f_309c234564f5row6_col3\" class=\"data row6 col3\" >0.1554</td>\n",
       "                        <td id=\"T_fc4344f4_fc24_11ea_be1f_309c234564f5row6_col4\" class=\"data row6 col4\" >0.2461</td>\n",
       "                        <td id=\"T_fc4344f4_fc24_11ea_be1f_309c234564f5row6_col5\" class=\"data row6 col5\" >0.0157</td>\n",
       "                        <td id=\"T_fc4344f4_fc24_11ea_be1f_309c234564f5row6_col6\" class=\"data row6 col6\" >0.0243</td>\n",
       "            </tr>\n",
       "            <tr>\n",
       "                        <th id=\"T_fc4344f4_fc24_11ea_be1f_309c234564f5level0_row7\" class=\"row_heading level0 row7\" >7</th>\n",
       "                        <td id=\"T_fc4344f4_fc24_11ea_be1f_309c234564f5row7_col0\" class=\"data row7 col0\" >0.5718</td>\n",
       "                        <td id=\"T_fc4344f4_fc24_11ea_be1f_309c234564f5row7_col1\" class=\"data row7 col1\" >0.5848</td>\n",
       "                        <td id=\"T_fc4344f4_fc24_11ea_be1f_309c234564f5row7_col2\" class=\"data row7 col2\" >0.5156</td>\n",
       "                        <td id=\"T_fc4344f4_fc24_11ea_be1f_309c234564f5row7_col3\" class=\"data row7 col3\" >0.1759</td>\n",
       "                        <td id=\"T_fc4344f4_fc24_11ea_be1f_309c234564f5row7_col4\" class=\"data row7 col4\" >0.2623</td>\n",
       "                        <td id=\"T_fc4344f4_fc24_11ea_be1f_309c234564f5row7_col5\" class=\"data row7 col5\" >0.0540</td>\n",
       "                        <td id=\"T_fc4344f4_fc24_11ea_be1f_309c234564f5row7_col6\" class=\"data row7 col6\" >0.0695</td>\n",
       "            </tr>\n",
       "            <tr>\n",
       "                        <th id=\"T_fc4344f4_fc24_11ea_be1f_309c234564f5level0_row8\" class=\"row_heading level0 row8\" >8</th>\n",
       "                        <td id=\"T_fc4344f4_fc24_11ea_be1f_309c234564f5row8_col0\" class=\"data row8 col0\" >0.6845</td>\n",
       "                        <td id=\"T_fc4344f4_fc24_11ea_be1f_309c234564f5row8_col1\" class=\"data row8 col1\" >0.4941</td>\n",
       "                        <td id=\"T_fc4344f4_fc24_11ea_be1f_309c234564f5row8_col2\" class=\"data row8 col2\" >0.1671</td>\n",
       "                        <td id=\"T_fc4344f4_fc24_11ea_be1f_309c234564f5row8_col3\" class=\"data row8 col3\" >0.1136</td>\n",
       "                        <td id=\"T_fc4344f4_fc24_11ea_be1f_309c234564f5row8_col4\" class=\"data row8 col4\" >0.1353</td>\n",
       "                        <td id=\"T_fc4344f4_fc24_11ea_be1f_309c234564f5row8_col5\" class=\"data row8 col5\" >-0.0492</td>\n",
       "                        <td id=\"T_fc4344f4_fc24_11ea_be1f_309c234564f5row8_col6\" class=\"data row8 col6\" >-0.0506</td>\n",
       "            </tr>\n",
       "            <tr>\n",
       "                        <th id=\"T_fc4344f4_fc24_11ea_be1f_309c234564f5level0_row9\" class=\"row_heading level0 row9\" >9</th>\n",
       "                        <td id=\"T_fc4344f4_fc24_11ea_be1f_309c234564f5row9_col0\" class=\"data row9 col0\" >0.8359</td>\n",
       "                        <td id=\"T_fc4344f4_fc24_11ea_be1f_309c234564f5row9_col1\" class=\"data row9 col1\" >0.4687</td>\n",
       "                        <td id=\"T_fc4344f4_fc24_11ea_be1f_309c234564f5row9_col2\" class=\"data row9 col2\" >0.0057</td>\n",
       "                        <td id=\"T_fc4344f4_fc24_11ea_be1f_309c234564f5row9_col3\" class=\"data row9 col3\" >0.0462</td>\n",
       "                        <td id=\"T_fc4344f4_fc24_11ea_be1f_309c234564f5row9_col4\" class=\"data row9 col4\" >0.0101</td>\n",
       "                        <td id=\"T_fc4344f4_fc24_11ea_be1f_309c234564f5row9_col5\" class=\"data row9 col5\" >-0.0229</td>\n",
       "                        <td id=\"T_fc4344f4_fc24_11ea_be1f_309c234564f5row9_col6\" class=\"data row9 col6\" >-0.0389</td>\n",
       "            </tr>\n",
       "            <tr>\n",
       "                        <th id=\"T_fc4344f4_fc24_11ea_be1f_309c234564f5level0_row10\" class=\"row_heading level0 row10\" >Mean</th>\n",
       "                        <td id=\"T_fc4344f4_fc24_11ea_be1f_309c234564f5row10_col0\" class=\"data row10 col0\" >0.5114</td>\n",
       "                        <td id=\"T_fc4344f4_fc24_11ea_be1f_309c234564f5row10_col1\" class=\"data row10 col1\" >0.5175</td>\n",
       "                        <td id=\"T_fc4344f4_fc24_11ea_be1f_309c234564f5row10_col2\" class=\"data row10 col2\" >0.4935</td>\n",
       "                        <td id=\"T_fc4344f4_fc24_11ea_be1f_309c234564f5row10_col3\" class=\"data row10 col3\" >0.1385</td>\n",
       "                        <td id=\"T_fc4344f4_fc24_11ea_be1f_309c234564f5row10_col4\" class=\"data row10 col4\" >0.2067</td>\n",
       "                        <td id=\"T_fc4344f4_fc24_11ea_be1f_309c234564f5row10_col5\" class=\"data row10 col5\" >0.0011</td>\n",
       "                        <td id=\"T_fc4344f4_fc24_11ea_be1f_309c234564f5row10_col6\" class=\"data row10 col6\" >0.0023</td>\n",
       "            </tr>\n",
       "            <tr>\n",
       "                        <th id=\"T_fc4344f4_fc24_11ea_be1f_309c234564f5level0_row11\" class=\"row_heading level0 row11\" >SD</th>\n",
       "                        <td id=\"T_fc4344f4_fc24_11ea_be1f_309c234564f5row11_col0\" class=\"data row11 col0\" >0.1712</td>\n",
       "                        <td id=\"T_fc4344f4_fc24_11ea_be1f_309c234564f5row11_col1\" class=\"data row11 col1\" >0.0428</td>\n",
       "                        <td id=\"T_fc4344f4_fc24_11ea_be1f_309c234564f5row11_col2\" class=\"data row11 col2\" >0.2553</td>\n",
       "                        <td id=\"T_fc4344f4_fc24_11ea_be1f_309c234564f5row11_col3\" class=\"data row11 col3\" >0.0353</td>\n",
       "                        <td id=\"T_fc4344f4_fc24_11ea_be1f_309c234564f5row11_col4\" class=\"data row11 col4\" >0.0755</td>\n",
       "                        <td id=\"T_fc4344f4_fc24_11ea_be1f_309c234564f5row11_col5\" class=\"data row11 col5\" >0.0320</td>\n",
       "                        <td id=\"T_fc4344f4_fc24_11ea_be1f_309c234564f5row11_col6\" class=\"data row11 col6\" >0.0459</td>\n",
       "            </tr>\n",
       "    </tbody></table>"
      ],
      "text/plain": [
       "<pandas.io.formats.style.Styler at 0x1cc3708a9b0>"
      ]
     },
     "metadata": {},
     "output_type": "display_data"
    }
   ],
   "source": [
    "boosted_nb = ensemble_model(nb, method='Boosting')"
   ]
  },
  {
   "cell_type": "code",
   "execution_count": null,
   "metadata": {},
   "outputs": [
    {
     "data": {
      "application/vnd.jupyter.widget-view+json": {
       "model_id": "99a3ffd89eac451595be7604a0479b11",
       "version_major": 2,
       "version_minor": 0
      },
      "text/plain": [
       "IntProgress(value=0, description='Processing: ', max=14)"
      ]
     },
     "metadata": {},
     "output_type": "display_data"
    },
    {
     "data": {
      "text/html": [
       "<div>\n",
       "<style scoped>\n",
       "    .dataframe tbody tr th:only-of-type {\n",
       "        vertical-align: middle;\n",
       "    }\n",
       "\n",
       "    .dataframe tbody tr th {\n",
       "        vertical-align: top;\n",
       "    }\n",
       "\n",
       "    .dataframe thead th {\n",
       "        text-align: right;\n",
       "    }\n",
       "</style>\n",
       "<table border=\"1\" class=\"dataframe\">\n",
       "  <thead>\n",
       "    <tr style=\"text-align: right;\">\n",
       "      <th></th>\n",
       "      <th></th>\n",
       "      <th></th>\n",
       "    </tr>\n",
       "    <tr>\n",
       "      <th></th>\n",
       "      <th></th>\n",
       "      <th></th>\n",
       "    </tr>\n",
       "  </thead>\n",
       "  <tbody>\n",
       "    <tr>\n",
       "      <th>Initiated</th>\n",
       "      <td>. . . . . . . . . . . . . . . . . .</td>\n",
       "      <td>20:45:02</td>\n",
       "    </tr>\n",
       "    <tr>\n",
       "      <th>Status</th>\n",
       "      <td>. . . . . . . . . . . . . . . . . .</td>\n",
       "      <td>Fitting Fold 7 of 10</td>\n",
       "    </tr>\n",
       "    <tr>\n",
       "      <th>ETC</th>\n",
       "      <td>. . . . . . . . . . . . . . . . . .</td>\n",
       "      <td>25.2 Seconds Remaining</td>\n",
       "    </tr>\n",
       "  </tbody>\n",
       "</table>\n",
       "</div>"
      ],
      "text/plain": [
       "                                                                      \n",
       "                                                                      \n",
       "Initiated  . . . . . . . . . . . . . . . . . .                20:45:02\n",
       "Status     . . . . . . . . . . . . . . . . . .    Fitting Fold 7 of 10\n",
       "ETC        . . . . . . . . . . . . . . . . . .  25.2 Seconds Remaining"
      ]
     },
     "metadata": {},
     "output_type": "display_data"
    },
    {
     "data": {
      "text/html": [
       "<div>\n",
       "<style scoped>\n",
       "    .dataframe tbody tr th:only-of-type {\n",
       "        vertical-align: middle;\n",
       "    }\n",
       "\n",
       "    .dataframe tbody tr th {\n",
       "        vertical-align: top;\n",
       "    }\n",
       "\n",
       "    .dataframe thead th {\n",
       "        text-align: right;\n",
       "    }\n",
       "</style>\n",
       "<table border=\"1\" class=\"dataframe\">\n",
       "  <thead>\n",
       "    <tr style=\"text-align: right;\">\n",
       "      <th></th>\n",
       "      <th>Accuracy</th>\n",
       "      <th>AUC</th>\n",
       "      <th>Recall</th>\n",
       "      <th>Prec.</th>\n",
       "      <th>F1</th>\n",
       "      <th>Kappa</th>\n",
       "      <th>MCC</th>\n",
       "    </tr>\n",
       "  </thead>\n",
       "  <tbody>\n",
       "    <tr>\n",
       "      <th>0</th>\n",
       "      <td>0.5302</td>\n",
       "      <td>0.7347</td>\n",
       "      <td>0.8079</td>\n",
       "      <td>0.2124</td>\n",
       "      <td>0.3364</td>\n",
       "      <td>0.1343</td>\n",
       "      <td>0.2072</td>\n",
       "    </tr>\n",
       "    <tr>\n",
       "      <th>1</th>\n",
       "      <td>0.5200</td>\n",
       "      <td>0.7405</td>\n",
       "      <td>0.8231</td>\n",
       "      <td>0.2109</td>\n",
       "      <td>0.3357</td>\n",
       "      <td>0.1321</td>\n",
       "      <td>0.2085</td>\n",
       "    </tr>\n",
       "    <tr>\n",
       "      <th>2</th>\n",
       "      <td>0.5236</td>\n",
       "      <td>0.7209</td>\n",
       "      <td>0.7871</td>\n",
       "      <td>0.2068</td>\n",
       "      <td>0.3275</td>\n",
       "      <td>0.1227</td>\n",
       "      <td>0.1894</td>\n",
       "    </tr>\n",
       "    <tr>\n",
       "      <th>3</th>\n",
       "      <td>0.5352</td>\n",
       "      <td>0.7382</td>\n",
       "      <td>0.8098</td>\n",
       "      <td>0.2146</td>\n",
       "      <td>0.3393</td>\n",
       "      <td>0.1386</td>\n",
       "      <td>0.2123</td>\n",
       "    </tr>\n",
       "    <tr>\n",
       "      <th>4</th>\n",
       "      <td>0.5220</td>\n",
       "      <td>0.7265</td>\n",
       "      <td>0.7975</td>\n",
       "      <td>0.2077</td>\n",
       "      <td>0.3296</td>\n",
       "      <td>0.1250</td>\n",
       "      <td>0.1944</td>\n",
       "    </tr>\n",
       "    <tr>\n",
       "      <th>5</th>\n",
       "      <td>0.5358</td>\n",
       "      <td>0.7358</td>\n",
       "      <td>0.7902</td>\n",
       "      <td>0.2120</td>\n",
       "      <td>0.3343</td>\n",
       "      <td>0.1325</td>\n",
       "      <td>0.2009</td>\n",
       "    </tr>\n",
       "  </tbody>\n",
       "</table>\n",
       "</div>"
      ],
      "text/plain": [
       "   Accuracy     AUC  Recall   Prec.      F1   Kappa     MCC\n",
       "0    0.5302  0.7347  0.8079  0.2124  0.3364  0.1343  0.2072\n",
       "1    0.5200  0.7405  0.8231  0.2109  0.3357  0.1321  0.2085\n",
       "2    0.5236  0.7209  0.7871  0.2068  0.3275  0.1227  0.1894\n",
       "3    0.5352  0.7382  0.8098  0.2146  0.3393  0.1386  0.2123\n",
       "4    0.5220  0.7265  0.7975  0.2077  0.3296  0.1250  0.1944\n",
       "5    0.5358  0.7358  0.7902  0.2120  0.3343  0.1325  0.2009"
      ]
     },
     "metadata": {},
     "output_type": "display_data"
    }
   ],
   "source": [
    "calibrated_nb = calibrate_model(nb)"
   ]
  },
  {
   "cell_type": "markdown",
   "metadata": {},
   "source": [
    "# Predict models"
   ]
  },
  {
   "cell_type": "code",
   "execution_count": 56,
   "metadata": {
    "scrolled": true
   },
   "outputs": [
    {
     "data": {
      "text/html": [
       "<div>\n",
       "<style scoped>\n",
       "    .dataframe tbody tr th:only-of-type {\n",
       "        vertical-align: middle;\n",
       "    }\n",
       "\n",
       "    .dataframe tbody tr th {\n",
       "        vertical-align: top;\n",
       "    }\n",
       "\n",
       "    .dataframe thead th {\n",
       "        text-align: right;\n",
       "    }\n",
       "</style>\n",
       "<table border=\"1\" class=\"dataframe\">\n",
       "  <thead>\n",
       "    <tr style=\"text-align: right;\">\n",
       "      <th></th>\n",
       "      <th>Model</th>\n",
       "      <th>Accuracy</th>\n",
       "      <th>AUC</th>\n",
       "      <th>Recall</th>\n",
       "      <th>Prec.</th>\n",
       "      <th>F1</th>\n",
       "      <th>Kappa</th>\n",
       "      <th>MCC</th>\n",
       "    </tr>\n",
       "  </thead>\n",
       "  <tbody>\n",
       "    <tr>\n",
       "      <th>0</th>\n",
       "      <td>Naive Bayes</td>\n",
       "      <td>0.5784</td>\n",
       "      <td>0.7391</td>\n",
       "      <td>0.8011</td>\n",
       "      <td>0.2314</td>\n",
       "      <td>0.3591</td>\n",
       "      <td>0.169</td>\n",
       "      <td>0.2419</td>\n",
       "    </tr>\n",
       "  </tbody>\n",
       "</table>\n",
       "</div>"
      ],
      "text/plain": [
       "         Model  Accuracy     AUC  Recall   Prec.      F1  Kappa     MCC\n",
       "0  Naive Bayes    0.5784  0.7391  0.8011  0.2314  0.3591  0.169  0.2419"
      ]
     },
     "metadata": {},
     "output_type": "display_data"
    }
   ],
   "source": [
    "predicted_nb = predict_model(nb)"
   ]
  },
  {
   "cell_type": "code",
   "execution_count": 57,
   "metadata": {
    "scrolled": true
   },
   "outputs": [
    {
     "data": {
      "text/html": [
       "<div>\n",
       "<style scoped>\n",
       "    .dataframe tbody tr th:only-of-type {\n",
       "        vertical-align: middle;\n",
       "    }\n",
       "\n",
       "    .dataframe tbody tr th {\n",
       "        vertical-align: top;\n",
       "    }\n",
       "\n",
       "    .dataframe thead th {\n",
       "        text-align: right;\n",
       "    }\n",
       "</style>\n",
       "<table border=\"1\" class=\"dataframe\">\n",
       "  <thead>\n",
       "    <tr style=\"text-align: right;\">\n",
       "      <th></th>\n",
       "      <th>Model</th>\n",
       "      <th>Accuracy</th>\n",
       "      <th>AUC</th>\n",
       "      <th>Recall</th>\n",
       "      <th>Prec.</th>\n",
       "      <th>F1</th>\n",
       "      <th>Kappa</th>\n",
       "      <th>MCC</th>\n",
       "    </tr>\n",
       "  </thead>\n",
       "  <tbody>\n",
       "    <tr>\n",
       "      <th>0</th>\n",
       "      <td>Naive Bayes</td>\n",
       "      <td>0.5784</td>\n",
       "      <td>0.7391</td>\n",
       "      <td>0.8011</td>\n",
       "      <td>0.2314</td>\n",
       "      <td>0.3591</td>\n",
       "      <td>0.169</td>\n",
       "      <td>0.2419</td>\n",
       "    </tr>\n",
       "  </tbody>\n",
       "</table>\n",
       "</div>"
      ],
      "text/plain": [
       "         Model  Accuracy     AUC  Recall   Prec.      F1  Kappa     MCC\n",
       "0  Naive Bayes    0.5784  0.7391  0.8011  0.2314  0.3591  0.169  0.2419"
      ]
     },
     "metadata": {},
     "output_type": "display_data"
    }
   ],
   "source": [
    "predicted_nb_tuned = predict_model(tuned_nb)"
   ]
  },
  {
   "cell_type": "code",
   "execution_count": 61,
   "metadata": {
    "scrolled": false
   },
   "outputs": [
    {
     "data": {
      "text/html": [
       "<div>\n",
       "<style scoped>\n",
       "    .dataframe tbody tr th:only-of-type {\n",
       "        vertical-align: middle;\n",
       "    }\n",
       "\n",
       "    .dataframe tbody tr th {\n",
       "        vertical-align: top;\n",
       "    }\n",
       "\n",
       "    .dataframe thead th {\n",
       "        text-align: right;\n",
       "    }\n",
       "</style>\n",
       "<table border=\"1\" class=\"dataframe\">\n",
       "  <thead>\n",
       "    <tr style=\"text-align: right;\">\n",
       "      <th></th>\n",
       "      <th>Model</th>\n",
       "      <th>Accuracy</th>\n",
       "      <th>AUC</th>\n",
       "      <th>Recall</th>\n",
       "      <th>Prec.</th>\n",
       "      <th>F1</th>\n",
       "      <th>Kappa</th>\n",
       "      <th>MCC</th>\n",
       "    </tr>\n",
       "  </thead>\n",
       "  <tbody>\n",
       "    <tr>\n",
       "      <th>0</th>\n",
       "      <td>Bagging Classifier</td>\n",
       "      <td>0.5633</td>\n",
       "      <td>0.7384</td>\n",
       "      <td>0.8087</td>\n",
       "      <td>0.2259</td>\n",
       "      <td>0.3531</td>\n",
       "      <td>0.1594</td>\n",
       "      <td>0.234</td>\n",
       "    </tr>\n",
       "  </tbody>\n",
       "</table>\n",
       "</div>"
      ],
      "text/plain": [
       "                Model  Accuracy     AUC  Recall   Prec.      F1   Kappa    MCC\n",
       "0  Bagging Classifier    0.5633  0.7384  0.8087  0.2259  0.3531  0.1594  0.234"
      ]
     },
     "metadata": {},
     "output_type": "display_data"
    }
   ],
   "source": [
    "predicted_nb_bagged = predict_model(bagged_nb)"
   ]
  },
  {
   "cell_type": "code",
   "execution_count": 69,
   "metadata": {
    "scrolled": false
   },
   "outputs": [
    {
     "data": {
      "text/html": [
       "<div>\n",
       "<style scoped>\n",
       "    .dataframe tbody tr th:only-of-type {\n",
       "        vertical-align: middle;\n",
       "    }\n",
       "\n",
       "    .dataframe tbody tr th {\n",
       "        vertical-align: top;\n",
       "    }\n",
       "\n",
       "    .dataframe thead th {\n",
       "        text-align: right;\n",
       "    }\n",
       "</style>\n",
       "<table border=\"1\" class=\"dataframe\">\n",
       "  <thead>\n",
       "    <tr style=\"text-align: right;\">\n",
       "      <th></th>\n",
       "      <th>Model</th>\n",
       "      <th>Accuracy</th>\n",
       "      <th>AUC</th>\n",
       "      <th>Recall</th>\n",
       "      <th>Prec.</th>\n",
       "      <th>F1</th>\n",
       "      <th>Kappa</th>\n",
       "      <th>MCC</th>\n",
       "    </tr>\n",
       "  </thead>\n",
       "  <tbody>\n",
       "    <tr>\n",
       "      <th>0</th>\n",
       "      <td>Voting Classifier</td>\n",
       "      <td>0.8048</td>\n",
       "      <td>0.762</td>\n",
       "      <td>0.4414</td>\n",
       "      <td>0.3656</td>\n",
       "      <td>0.4</td>\n",
       "      <td>0.2846</td>\n",
       "      <td>0.2864</td>\n",
       "    </tr>\n",
       "  </tbody>\n",
       "</table>\n",
       "</div>"
      ],
      "text/plain": [
       "               Model  Accuracy    AUC  Recall   Prec.   F1   Kappa     MCC\n",
       "0  Voting Classifier    0.8048  0.762  0.4414  0.3656  0.4  0.2846  0.2864"
      ]
     },
     "metadata": {},
     "output_type": "display_data"
    }
   ],
   "source": [
    "predicted_blended_top3 = predict_model(blended_top3)"
   ]
  },
  {
   "cell_type": "markdown",
   "metadata": {},
   "source": [
    "# The golden moment... put 10% sample test data through the models..."
   ]
  },
  {
   "cell_type": "markdown",
   "metadata": {},
   "source": [
    "# Recombine test_features, test_target at first train/test/split\n",
    " This \"test\" set was split BEFORE Oversampling. PyCaret takes the \"train\" from this split and splits it internally again. Since we have no control of how PyCaret does this we needed to do a train/test split before we input the training set into PyCaret. Now we will recombine the test_features and test_target into one new df"
   ]
  },
  {
   "cell_type": "code",
   "execution_count": 51,
   "metadata": {},
   "outputs": [
    {
     "data": {
      "text/plain": [
       "(26633, 32)"
      ]
     },
     "execution_count": 51,
     "metadata": {},
     "output_type": "execute_result"
    }
   ],
   "source": [
    "test_features.shape"
   ]
  },
  {
   "cell_type": "code",
   "execution_count": 52,
   "metadata": {},
   "outputs": [
    {
     "data": {
      "text/plain": [
       "(26633,)"
      ]
     },
     "execution_count": 52,
     "metadata": {},
     "output_type": "execute_result"
    }
   ],
   "source": [
    "test_target.shape"
   ]
  },
  {
   "cell_type": "code",
   "execution_count": 53,
   "metadata": {},
   "outputs": [],
   "source": [
    "test_df = test_features.copy()"
   ]
  },
  {
   "cell_type": "code",
   "execution_count": 54,
   "metadata": {},
   "outputs": [],
   "source": [
    "test_df['zeroBalCode'] = test_target"
   ]
  },
  {
   "cell_type": "code",
   "execution_count": 55,
   "metadata": {},
   "outputs": [
    {
     "data": {
      "text/plain": [
       "(26633, 33)"
      ]
     },
     "execution_count": 55,
     "metadata": {},
     "output_type": "execute_result"
    }
   ],
   "source": [
    "test_df.shape"
   ]
  },
  {
   "cell_type": "code",
   "execution_count": 56,
   "metadata": {
    "scrolled": true
   },
   "outputs": [
    {
     "name": "stdout",
     "output_type": "stream",
     "text": [
      "#############################################\n",
      "This \"Test\" set has not been oversamplied\n",
      "0    22708\n",
      "1     3925\n",
      "Name: zeroBalCode, dtype: int64\n",
      "Positive samples are 14.74%\n"
     ]
    }
   ],
   "source": [
    "totalTestCount = test_df.zeroBalCode.value_counts().sum()\n",
    "posTestCount = test_df.zeroBalCode.value_counts()[1]\n",
    "print('#############################################')\n",
    "print('This \"Test\" set has not been oversamplied')\n",
    "print(test_df.zeroBalCode.value_counts())\n",
    "print(f'Positive samples are {round(posTestCount/totalTestCount*100,2)}%')"
   ]
  },
  {
   "cell_type": "markdown",
   "metadata": {},
   "source": [
    "## Create Confusion Matrix output functions"
   ]
  },
  {
   "cell_type": "code",
   "execution_count": 57,
   "metadata": {},
   "outputs": [],
   "source": [
    "def calc_confusion(row):\n",
    "    if ((row['zeroBalCode'] == 0) & (row['Label'] == 0)):\n",
    "        value = 'TrueNegative'\n",
    "    elif ((row['zeroBalCode'] == 0) & (row['Label'] == 1)):\n",
    "        value = 'FalsePositive'\n",
    "    elif ((row['zeroBalCode'] == 1) & (row['Label'] == 1)):\n",
    "        value = 'TruePositive'\n",
    "    elif ((row['zeroBalCode'] == 1) & (row['Label'] == 0)):\n",
    "        value = 'FalseNegative'\n",
    "    else:\n",
    "        value = 'Undefined'\n",
    "    return value"
   ]
  },
  {
   "cell_type": "code",
   "execution_count": 58,
   "metadata": {},
   "outputs": [],
   "source": [
    "def cM(df):\n",
    "    print(f'           ##############################')\n",
    "    print(f'           #             #              #')\n",
    "    print(f'         0 #    {df[\"TrueNegative\"]}     #     {df[\"FalsePositive\"]}      #')\n",
    "    print(f'  True     #             #              #')\n",
    "    print(f'  Class    ##############################')\n",
    "    print(f'           #             #              #')\n",
    "    print(f'         1 #    {df[\"FalseNegative\"]}      #     {df[\"TruePositive\"]}      #')\n",
    "    print(f'           #             #              #')\n",
    "    print(f'           ##############################')\n",
    "    print(f'                  0              1        ')\n",
    "    print(f'                  Predicted Class           ')\n"
   ]
  },
  {
   "cell_type": "code",
   "execution_count": 59,
   "metadata": {},
   "outputs": [],
   "source": [
    "def cMCalc():\n",
    "    # 0 or 2 = Predict equals truth, 1 = Predict doesn't equal truth\n",
    "    totalNegative = confusionMatrix['TrueNegative'] + confusionMatrix['FalseNegative']\n",
    "    totalPositive = confusionMatrix['TruePositive'] + confusionMatrix['FalsePositive']\n",
    "    total = totalNegative + totalPositive\n",
    "    trueNegativePct = confusionMatrix['TrueNegative'] / total * 100\n",
    "    falseNegativePct = confusionMatrix['FalseNegative'] / total * 100\n",
    "    truePositivePct = confusionMatrix['TruePositive'] / total * 100\n",
    "    falsePositivePct = confusionMatrix['FalsePositive'] / total * 100\n",
    "\n",
    "    # Accuracy Calculation\n",
    "    accuracy = (confusionMatrix['TruePositive'] + confusionMatrix['TrueNegative'])/(totalPositive + totalNegative)\n",
    "    # Recall Calculation\n",
    "    recall = (confusionMatrix['TruePositive']/(confusionMatrix['TruePositive'] + confusionMatrix['FalseNegative']))\n",
    "    # Precision Calculation\n",
    "    precision = (confusionMatrix['TruePositive']/(confusionMatrix['TruePositive'] + confusionMatrix['FalsePositive']))\n",
    "\n",
    "    print(f'TrueNegative:  {round(trueNegativePct,2)}%')\n",
    "    print(f'FalseNegative:  {round(falseNegativePct,2)}%')\n",
    "    print(f'TruePositive:   {round(truePositivePct,2)}%')\n",
    "    print(f'FalsePositive: {round(falsePositivePct,2)}%')\n",
    "    print(f'#####################################################')\n",
    "    print(f'Accuracy: {round(accuracy,2)*100}%   Recall: {round(recall,2)*100}%   Precision: {round(precision,2)*100}%')\n",
    "    print(f'#####################################################')"
   ]
  },
  {
   "cell_type": "markdown",
   "metadata": {},
   "source": [
    "# Evaluate Models"
   ]
  },
  {
   "cell_type": "markdown",
   "metadata": {},
   "source": [
    "# Naive Bayes Classifier"
   ]
  },
  {
   "cell_type": "code",
   "execution_count": 176,
   "metadata": {},
   "outputs": [
    {
     "data": {
      "text/html": [
       "<style  type=\"text/css\" >\n",
       "#T_88101680_fad9_11ea_954c_309c234564f5row10_col0,#T_88101680_fad9_11ea_954c_309c234564f5row10_col1,#T_88101680_fad9_11ea_954c_309c234564f5row10_col2,#T_88101680_fad9_11ea_954c_309c234564f5row10_col3,#T_88101680_fad9_11ea_954c_309c234564f5row10_col4,#T_88101680_fad9_11ea_954c_309c234564f5row10_col5,#T_88101680_fad9_11ea_954c_309c234564f5row10_col6{\n",
       "            background:  yellow;\n",
       "        }</style><table id=\"T_88101680_fad9_11ea_954c_309c234564f5\" ><thead>    <tr>        <th class=\"blank level0\" ></th>        <th class=\"col_heading level0 col0\" >Accuracy</th>        <th class=\"col_heading level0 col1\" >AUC</th>        <th class=\"col_heading level0 col2\" >Recall</th>        <th class=\"col_heading level0 col3\" >Prec.</th>        <th class=\"col_heading level0 col4\" >F1</th>        <th class=\"col_heading level0 col5\" >Kappa</th>        <th class=\"col_heading level0 col6\" >MCC</th>    </tr></thead><tbody>\n",
       "                <tr>\n",
       "                        <th id=\"T_88101680_fad9_11ea_954c_309c234564f5level0_row0\" class=\"row_heading level0 row0\" >0</th>\n",
       "                        <td id=\"T_88101680_fad9_11ea_954c_309c234564f5row0_col0\" class=\"data row0 col0\" >0.5997</td>\n",
       "                        <td id=\"T_88101680_fad9_11ea_954c_309c234564f5row0_col1\" class=\"data row0 col1\" >0.7389</td>\n",
       "                        <td id=\"T_88101680_fad9_11ea_954c_309c234564f5row0_col2\" class=\"data row0 col2\" >0.7566</td>\n",
       "                        <td id=\"T_88101680_fad9_11ea_954c_309c234564f5row0_col3\" class=\"data row0 col3\" >0.2352</td>\n",
       "                        <td id=\"T_88101680_fad9_11ea_954c_309c234564f5row0_col4\" class=\"data row0 col4\" >0.3589</td>\n",
       "                        <td id=\"T_88101680_fad9_11ea_954c_309c234564f5row0_col5\" class=\"data row0 col5\" >0.1718</td>\n",
       "                        <td id=\"T_88101680_fad9_11ea_954c_309c234564f5row0_col6\" class=\"data row0 col6\" >0.2340</td>\n",
       "            </tr>\n",
       "            <tr>\n",
       "                        <th id=\"T_88101680_fad9_11ea_954c_309c234564f5level0_row1\" class=\"row_heading level0 row1\" >1</th>\n",
       "                        <td id=\"T_88101680_fad9_11ea_954c_309c234564f5row1_col0\" class=\"data row1 col0\" >0.6060</td>\n",
       "                        <td id=\"T_88101680_fad9_11ea_954c_309c234564f5row1_col1\" class=\"data row1 col1\" >0.7492</td>\n",
       "                        <td id=\"T_88101680_fad9_11ea_954c_309c234564f5row1_col2\" class=\"data row1 col2\" >0.7820</td>\n",
       "                        <td id=\"T_88101680_fad9_11ea_954c_309c234564f5row1_col3\" class=\"data row1 col3\" >0.2424</td>\n",
       "                        <td id=\"T_88101680_fad9_11ea_954c_309c234564f5row1_col4\" class=\"data row1 col4\" >0.3701</td>\n",
       "                        <td id=\"T_88101680_fad9_11ea_954c_309c234564f5row1_col5\" class=\"data row1 col5\" >0.1862</td>\n",
       "                        <td id=\"T_88101680_fad9_11ea_954c_309c234564f5row1_col6\" class=\"data row1 col6\" >0.2541</td>\n",
       "            </tr>\n",
       "            <tr>\n",
       "                        <th id=\"T_88101680_fad9_11ea_954c_309c234564f5level0_row2\" class=\"row_heading level0 row2\" >2</th>\n",
       "                        <td id=\"T_88101680_fad9_11ea_954c_309c234564f5row2_col0\" class=\"data row2 col0\" >0.6023</td>\n",
       "                        <td id=\"T_88101680_fad9_11ea_954c_309c234564f5row2_col1\" class=\"data row2 col1\" >0.7402</td>\n",
       "                        <td id=\"T_88101680_fad9_11ea_954c_309c234564f5row2_col2\" class=\"data row2 col2\" >0.7528</td>\n",
       "                        <td id=\"T_88101680_fad9_11ea_954c_309c234564f5row2_col3\" class=\"data row2 col3\" >0.2358</td>\n",
       "                        <td id=\"T_88101680_fad9_11ea_954c_309c234564f5row2_col4\" class=\"data row2 col4\" >0.3592</td>\n",
       "                        <td id=\"T_88101680_fad9_11ea_954c_309c234564f5row2_col5\" class=\"data row2 col5\" >0.1726</td>\n",
       "                        <td id=\"T_88101680_fad9_11ea_954c_309c234564f5row2_col6\" class=\"data row2 col6\" >0.2340</td>\n",
       "            </tr>\n",
       "            <tr>\n",
       "                        <th id=\"T_88101680_fad9_11ea_954c_309c234564f5level0_row3\" class=\"row_heading level0 row3\" >3</th>\n",
       "                        <td id=\"T_88101680_fad9_11ea_954c_309c234564f5row3_col0\" class=\"data row3 col0\" >0.6005</td>\n",
       "                        <td id=\"T_88101680_fad9_11ea_954c_309c234564f5row3_col1\" class=\"data row3 col1\" >0.7358</td>\n",
       "                        <td id=\"T_88101680_fad9_11ea_954c_309c234564f5row3_col2\" class=\"data row3 col2\" >0.7669</td>\n",
       "                        <td id=\"T_88101680_fad9_11ea_954c_309c234564f5row3_col3\" class=\"data row3 col3\" >0.2373</td>\n",
       "                        <td id=\"T_88101680_fad9_11ea_954c_309c234564f5row3_col4\" class=\"data row3 col4\" >0.3624</td>\n",
       "                        <td id=\"T_88101680_fad9_11ea_954c_309c234564f5row3_col5\" class=\"data row3 col5\" >0.1761</td>\n",
       "                        <td id=\"T_88101680_fad9_11ea_954c_309c234564f5row3_col6\" class=\"data row3 col6\" >0.2407</td>\n",
       "            </tr>\n",
       "            <tr>\n",
       "                        <th id=\"T_88101680_fad9_11ea_954c_309c234564f5level0_row4\" class=\"row_heading level0 row4\" >4</th>\n",
       "                        <td id=\"T_88101680_fad9_11ea_954c_309c234564f5row4_col0\" class=\"data row4 col0\" >0.6115</td>\n",
       "                        <td id=\"T_88101680_fad9_11ea_954c_309c234564f5row4_col1\" class=\"data row4 col1\" >0.7472</td>\n",
       "                        <td id=\"T_88101680_fad9_11ea_954c_309c234564f5row4_col2\" class=\"data row4 col2\" >0.7792</td>\n",
       "                        <td id=\"T_88101680_fad9_11ea_954c_309c234564f5row4_col3\" class=\"data row4 col3\" >0.2449</td>\n",
       "                        <td id=\"T_88101680_fad9_11ea_954c_309c234564f5row4_col4\" class=\"data row4 col4\" >0.3726</td>\n",
       "                        <td id=\"T_88101680_fad9_11ea_954c_309c234564f5row4_col5\" class=\"data row4 col5\" >0.1902</td>\n",
       "                        <td id=\"T_88101680_fad9_11ea_954c_309c234564f5row4_col6\" class=\"data row4 col6\" >0.2573</td>\n",
       "            </tr>\n",
       "            <tr>\n",
       "                        <th id=\"T_88101680_fad9_11ea_954c_309c234564f5level0_row5\" class=\"row_heading level0 row5\" >5</th>\n",
       "                        <td id=\"T_88101680_fad9_11ea_954c_309c234564f5row5_col0\" class=\"data row5 col0\" >0.6024</td>\n",
       "                        <td id=\"T_88101680_fad9_11ea_954c_309c234564f5row5_col1\" class=\"data row5 col1\" >0.7501</td>\n",
       "                        <td id=\"T_88101680_fad9_11ea_954c_309c234564f5row5_col2\" class=\"data row5 col2\" >0.7843</td>\n",
       "                        <td id=\"T_88101680_fad9_11ea_954c_309c234564f5row5_col3\" class=\"data row5 col3\" >0.2410</td>\n",
       "                        <td id=\"T_88101680_fad9_11ea_954c_309c234564f5row5_col4\" class=\"data row5 col4\" >0.3686</td>\n",
       "                        <td id=\"T_88101680_fad9_11ea_954c_309c234564f5row5_col5\" class=\"data row5 col5\" >0.1839</td>\n",
       "                        <td id=\"T_88101680_fad9_11ea_954c_309c234564f5row5_col6\" class=\"data row5 col6\" >0.2524</td>\n",
       "            </tr>\n",
       "            <tr>\n",
       "                        <th id=\"T_88101680_fad9_11ea_954c_309c234564f5level0_row6\" class=\"row_heading level0 row6\" >6</th>\n",
       "                        <td id=\"T_88101680_fad9_11ea_954c_309c234564f5row6_col0\" class=\"data row6 col0\" >0.6004</td>\n",
       "                        <td id=\"T_88101680_fad9_11ea_954c_309c234564f5row6_col1\" class=\"data row6 col1\" >0.7389</td>\n",
       "                        <td id=\"T_88101680_fad9_11ea_954c_309c234564f5row6_col2\" class=\"data row6 col2\" >0.7613</td>\n",
       "                        <td id=\"T_88101680_fad9_11ea_954c_309c234564f5row6_col3\" class=\"data row6 col3\" >0.2363</td>\n",
       "                        <td id=\"T_88101680_fad9_11ea_954c_309c234564f5row6_col4\" class=\"data row6 col4\" >0.3607</td>\n",
       "                        <td id=\"T_88101680_fad9_11ea_954c_309c234564f5row6_col5\" class=\"data row6 col5\" >0.1740</td>\n",
       "                        <td id=\"T_88101680_fad9_11ea_954c_309c234564f5row6_col6\" class=\"data row6 col6\" >0.2373</td>\n",
       "            </tr>\n",
       "            <tr>\n",
       "                        <th id=\"T_88101680_fad9_11ea_954c_309c234564f5level0_row7\" class=\"row_heading level0 row7\" >7</th>\n",
       "                        <td id=\"T_88101680_fad9_11ea_954c_309c234564f5row7_col0\" class=\"data row7 col0\" >0.5954</td>\n",
       "                        <td id=\"T_88101680_fad9_11ea_954c_309c234564f5row7_col1\" class=\"data row7 col1\" >0.7393</td>\n",
       "                        <td id=\"T_88101680_fad9_11ea_954c_309c234564f5row7_col2\" class=\"data row7 col2\" >0.7646</td>\n",
       "                        <td id=\"T_88101680_fad9_11ea_954c_309c234564f5row7_col3\" class=\"data row7 col3\" >0.2344</td>\n",
       "                        <td id=\"T_88101680_fad9_11ea_954c_309c234564f5row7_col4\" class=\"data row7 col4\" >0.3588</td>\n",
       "                        <td id=\"T_88101680_fad9_11ea_954c_309c234564f5row7_col5\" class=\"data row7 col5\" >0.1709</td>\n",
       "                        <td id=\"T_88101680_fad9_11ea_954c_309c234564f5row7_col6\" class=\"data row7 col6\" >0.2350</td>\n",
       "            </tr>\n",
       "            <tr>\n",
       "                        <th id=\"T_88101680_fad9_11ea_954c_309c234564f5level0_row8\" class=\"row_heading level0 row8\" >8</th>\n",
       "                        <td id=\"T_88101680_fad9_11ea_954c_309c234564f5row8_col0\" class=\"data row8 col0\" >0.6072</td>\n",
       "                        <td id=\"T_88101680_fad9_11ea_954c_309c234564f5row8_col1\" class=\"data row8 col1\" >0.7410</td>\n",
       "                        <td id=\"T_88101680_fad9_11ea_954c_309c234564f5row8_col2\" class=\"data row8 col2\" >0.7646</td>\n",
       "                        <td id=\"T_88101680_fad9_11ea_954c_309c234564f5row8_col3\" class=\"data row8 col3\" >0.2403</td>\n",
       "                        <td id=\"T_88101680_fad9_11ea_954c_309c234564f5row8_col4\" class=\"data row8 col4\" >0.3656</td>\n",
       "                        <td id=\"T_88101680_fad9_11ea_954c_309c234564f5row8_col5\" class=\"data row8 col5\" >0.1811</td>\n",
       "                        <td id=\"T_88101680_fad9_11ea_954c_309c234564f5row8_col6\" class=\"data row8 col6\" >0.2451</td>\n",
       "            </tr>\n",
       "            <tr>\n",
       "                        <th id=\"T_88101680_fad9_11ea_954c_309c234564f5level0_row9\" class=\"row_heading level0 row9\" >9</th>\n",
       "                        <td id=\"T_88101680_fad9_11ea_954c_309c234564f5row9_col0\" class=\"data row9 col0\" >0.6102</td>\n",
       "                        <td id=\"T_88101680_fad9_11ea_954c_309c234564f5row9_col1\" class=\"data row9 col1\" >0.7556</td>\n",
       "                        <td id=\"T_88101680_fad9_11ea_954c_309c234564f5row9_col2\" class=\"data row9 col2\" >0.7877</td>\n",
       "                        <td id=\"T_88101680_fad9_11ea_954c_309c234564f5row9_col3\" class=\"data row9 col3\" >0.2455</td>\n",
       "                        <td id=\"T_88101680_fad9_11ea_954c_309c234564f5row9_col4\" class=\"data row9 col4\" >0.3744</td>\n",
       "                        <td id=\"T_88101680_fad9_11ea_954c_309c234564f5row9_col5\" class=\"data row9 col5\" >0.1919</td>\n",
       "                        <td id=\"T_88101680_fad9_11ea_954c_309c234564f5row9_col6\" class=\"data row9 col6\" >0.2610</td>\n",
       "            </tr>\n",
       "            <tr>\n",
       "                        <th id=\"T_88101680_fad9_11ea_954c_309c234564f5level0_row10\" class=\"row_heading level0 row10\" >Mean</th>\n",
       "                        <td id=\"T_88101680_fad9_11ea_954c_309c234564f5row10_col0\" class=\"data row10 col0\" >0.6036</td>\n",
       "                        <td id=\"T_88101680_fad9_11ea_954c_309c234564f5row10_col1\" class=\"data row10 col1\" >0.7436</td>\n",
       "                        <td id=\"T_88101680_fad9_11ea_954c_309c234564f5row10_col2\" class=\"data row10 col2\" >0.7700</td>\n",
       "                        <td id=\"T_88101680_fad9_11ea_954c_309c234564f5row10_col3\" class=\"data row10 col3\" >0.2393</td>\n",
       "                        <td id=\"T_88101680_fad9_11ea_954c_309c234564f5row10_col4\" class=\"data row10 col4\" >0.3651</td>\n",
       "                        <td id=\"T_88101680_fad9_11ea_954c_309c234564f5row10_col5\" class=\"data row10 col5\" >0.1799</td>\n",
       "                        <td id=\"T_88101680_fad9_11ea_954c_309c234564f5row10_col6\" class=\"data row10 col6\" >0.2451</td>\n",
       "            </tr>\n",
       "            <tr>\n",
       "                        <th id=\"T_88101680_fad9_11ea_954c_309c234564f5level0_row11\" class=\"row_heading level0 row11\" >SD</th>\n",
       "                        <td id=\"T_88101680_fad9_11ea_954c_309c234564f5row11_col0\" class=\"data row11 col0\" >0.0048</td>\n",
       "                        <td id=\"T_88101680_fad9_11ea_954c_309c234564f5row11_col1\" class=\"data row11 col1\" >0.0061</td>\n",
       "                        <td id=\"T_88101680_fad9_11ea_954c_309c234564f5row11_col2\" class=\"data row11 col2\" >0.0117</td>\n",
       "                        <td id=\"T_88101680_fad9_11ea_954c_309c234564f5row11_col3\" class=\"data row11 col3\" >0.0039</td>\n",
       "                        <td id=\"T_88101680_fad9_11ea_954c_309c234564f5row11_col4\" class=\"data row11 col4\" >0.0057</td>\n",
       "                        <td id=\"T_88101680_fad9_11ea_954c_309c234564f5row11_col5\" class=\"data row11 col5\" >0.0074</td>\n",
       "                        <td id=\"T_88101680_fad9_11ea_954c_309c234564f5row11_col6\" class=\"data row11 col6\" >0.0098</td>\n",
       "            </tr>\n",
       "    </tbody></table>"
      ],
      "text/plain": [
       "<pandas.io.formats.style.Styler at 0x24281596c18>"
      ]
     },
     "metadata": {},
     "output_type": "display_data"
    }
   ],
   "source": [
    "tuned_nb = tune_model(nb, optimize = 'AUC')"
   ]
  },
  {
   "cell_type": "code",
   "execution_count": 177,
   "metadata": {},
   "outputs": [
    {
     "data": {
      "text/html": [
       "<style  type=\"text/css\" >\n",
       "#T_0d584236_fada_11ea_a044_309c234564f5row10_col0,#T_0d584236_fada_11ea_a044_309c234564f5row10_col1,#T_0d584236_fada_11ea_a044_309c234564f5row10_col2,#T_0d584236_fada_11ea_a044_309c234564f5row10_col3,#T_0d584236_fada_11ea_a044_309c234564f5row10_col4,#T_0d584236_fada_11ea_a044_309c234564f5row10_col5,#T_0d584236_fada_11ea_a044_309c234564f5row10_col6{\n",
       "            background:  yellow;\n",
       "        }</style><table id=\"T_0d584236_fada_11ea_a044_309c234564f5\" ><thead>    <tr>        <th class=\"blank level0\" ></th>        <th class=\"col_heading level0 col0\" >Accuracy</th>        <th class=\"col_heading level0 col1\" >AUC</th>        <th class=\"col_heading level0 col2\" >Recall</th>        <th class=\"col_heading level0 col3\" >Prec.</th>        <th class=\"col_heading level0 col4\" >F1</th>        <th class=\"col_heading level0 col5\" >Kappa</th>        <th class=\"col_heading level0 col6\" >MCC</th>    </tr></thead><tbody>\n",
       "                <tr>\n",
       "                        <th id=\"T_0d584236_fada_11ea_a044_309c234564f5level0_row0\" class=\"row_heading level0 row0\" >0</th>\n",
       "                        <td id=\"T_0d584236_fada_11ea_a044_309c234564f5row0_col0\" class=\"data row0 col0\" >0.6232</td>\n",
       "                        <td id=\"T_0d584236_fada_11ea_a044_309c234564f5row0_col1\" class=\"data row0 col1\" >0.7390</td>\n",
       "                        <td id=\"T_0d584236_fada_11ea_a044_309c234564f5row0_col2\" class=\"data row0 col2\" >0.7345</td>\n",
       "                        <td id=\"T_0d584236_fada_11ea_a044_309c234564f5row0_col3\" class=\"data row0 col3\" >0.2437</td>\n",
       "                        <td id=\"T_0d584236_fada_11ea_a044_309c234564f5row0_col4\" class=\"data row0 col4\" >0.3660</td>\n",
       "                        <td id=\"T_0d584236_fada_11ea_a044_309c234564f5row0_col5\" class=\"data row0 col5\" >0.1847</td>\n",
       "                        <td id=\"T_0d584236_fada_11ea_a044_309c234564f5row0_col6\" class=\"data row0 col6\" >0.2418</td>\n",
       "            </tr>\n",
       "            <tr>\n",
       "                        <th id=\"T_0d584236_fada_11ea_a044_309c234564f5level0_row1\" class=\"row_heading level0 row1\" >1</th>\n",
       "                        <td id=\"T_0d584236_fada_11ea_a044_309c234564f5row1_col0\" class=\"data row1 col0\" >0.6307</td>\n",
       "                        <td id=\"T_0d584236_fada_11ea_a044_309c234564f5row1_col1\" class=\"data row1 col1\" >0.7493</td>\n",
       "                        <td id=\"T_0d584236_fada_11ea_a044_309c234564f5row1_col2\" class=\"data row1 col2\" >0.7613</td>\n",
       "                        <td id=\"T_0d584236_fada_11ea_a044_309c234564f5row1_col3\" class=\"data row1 col3\" >0.2523</td>\n",
       "                        <td id=\"T_0d584236_fada_11ea_a044_309c234564f5row1_col4\" class=\"data row1 col4\" >0.3790</td>\n",
       "                        <td id=\"T_0d584236_fada_11ea_a044_309c234564f5row1_col5\" class=\"data row1 col5\" >0.2014</td>\n",
       "                        <td id=\"T_0d584236_fada_11ea_a044_309c234564f5row1_col6\" class=\"data row1 col6\" >0.2638</td>\n",
       "            </tr>\n",
       "            <tr>\n",
       "                        <th id=\"T_0d584236_fada_11ea_a044_309c234564f5level0_row2\" class=\"row_heading level0 row2\" >2</th>\n",
       "                        <td id=\"T_0d584236_fada_11ea_a044_309c234564f5row2_col0\" class=\"data row2 col0\" >0.6291</td>\n",
       "                        <td id=\"T_0d584236_fada_11ea_a044_309c234564f5row2_col1\" class=\"data row2 col1\" >0.7403</td>\n",
       "                        <td id=\"T_0d584236_fada_11ea_a044_309c234564f5row2_col2\" class=\"data row2 col2\" >0.7387</td>\n",
       "                        <td id=\"T_0d584236_fada_11ea_a044_309c234564f5row2_col3\" class=\"data row2 col3\" >0.2477</td>\n",
       "                        <td id=\"T_0d584236_fada_11ea_a044_309c234564f5row2_col4\" class=\"data row2 col4\" >0.3710</td>\n",
       "                        <td id=\"T_0d584236_fada_11ea_a044_309c234564f5row2_col5\" class=\"data row2 col5\" >0.1917</td>\n",
       "                        <td id=\"T_0d584236_fada_11ea_a044_309c234564f5row2_col6\" class=\"data row2 col6\" >0.2494</td>\n",
       "            </tr>\n",
       "            <tr>\n",
       "                        <th id=\"T_0d584236_fada_11ea_a044_309c234564f5level0_row3\" class=\"row_heading level0 row3\" >3</th>\n",
       "                        <td id=\"T_0d584236_fada_11ea_a044_309c234564f5row3_col0\" class=\"data row3 col0\" >0.6239</td>\n",
       "                        <td id=\"T_0d584236_fada_11ea_a044_309c234564f5row3_col1\" class=\"data row3 col1\" >0.7358</td>\n",
       "                        <td id=\"T_0d584236_fada_11ea_a044_309c234564f5row3_col2\" class=\"data row3 col2\" >0.7448</td>\n",
       "                        <td id=\"T_0d584236_fada_11ea_a044_309c234564f5row3_col3\" class=\"data row3 col3\" >0.2458</td>\n",
       "                        <td id=\"T_0d584236_fada_11ea_a044_309c234564f5row3_col4\" class=\"data row3 col4\" >0.3697</td>\n",
       "                        <td id=\"T_0d584236_fada_11ea_a044_309c234564f5row3_col5\" class=\"data row3 col5\" >0.1892</td>\n",
       "                        <td id=\"T_0d584236_fada_11ea_a044_309c234564f5row3_col6\" class=\"data row3 col6\" >0.2483</td>\n",
       "            </tr>\n",
       "            <tr>\n",
       "                        <th id=\"T_0d584236_fada_11ea_a044_309c234564f5level0_row4\" class=\"row_heading level0 row4\" >4</th>\n",
       "                        <td id=\"T_0d584236_fada_11ea_a044_309c234564f5row4_col0\" class=\"data row4 col0\" >0.6353</td>\n",
       "                        <td id=\"T_0d584236_fada_11ea_a044_309c234564f5row4_col1\" class=\"data row4 col1\" >0.7473</td>\n",
       "                        <td id=\"T_0d584236_fada_11ea_a044_309c234564f5row4_col2\" class=\"data row4 col2\" >0.7556</td>\n",
       "                        <td id=\"T_0d584236_fada_11ea_a044_309c234564f5row4_col3\" class=\"data row4 col3\" >0.2540</td>\n",
       "                        <td id=\"T_0d584236_fada_11ea_a044_309c234564f5row4_col4\" class=\"data row4 col4\" >0.3802</td>\n",
       "                        <td id=\"T_0d584236_fada_11ea_a044_309c234564f5row4_col5\" class=\"data row4 col5\" >0.2038</td>\n",
       "                        <td id=\"T_0d584236_fada_11ea_a044_309c234564f5row4_col6\" class=\"data row4 col6\" >0.2647</td>\n",
       "            </tr>\n",
       "            <tr>\n",
       "                        <th id=\"T_0d584236_fada_11ea_a044_309c234564f5level0_row5\" class=\"row_heading level0 row5\" >5</th>\n",
       "                        <td id=\"T_0d584236_fada_11ea_a044_309c234564f5row5_col0\" class=\"data row5 col0\" >0.6265</td>\n",
       "                        <td id=\"T_0d584236_fada_11ea_a044_309c234564f5row5_col1\" class=\"data row5 col1\" >0.7501</td>\n",
       "                        <td id=\"T_0d584236_fada_11ea_a044_309c234564f5row5_col2\" class=\"data row5 col2\" >0.7569</td>\n",
       "                        <td id=\"T_0d584236_fada_11ea_a044_309c234564f5row5_col3\" class=\"data row5 col3\" >0.2492</td>\n",
       "                        <td id=\"T_0d584236_fada_11ea_a044_309c234564f5row5_col4\" class=\"data row5 col4\" >0.3749</td>\n",
       "                        <td id=\"T_0d584236_fada_11ea_a044_309c234564f5row5_col5\" class=\"data row5 col5\" >0.1959</td>\n",
       "                        <td id=\"T_0d584236_fada_11ea_a044_309c234564f5row5_col6\" class=\"data row5 col6\" >0.2575</td>\n",
       "            </tr>\n",
       "            <tr>\n",
       "                        <th id=\"T_0d584236_fada_11ea_a044_309c234564f5level0_row6\" class=\"row_heading level0 row6\" >6</th>\n",
       "                        <td id=\"T_0d584236_fada_11ea_a044_309c234564f5row6_col0\" class=\"data row6 col0\" >0.6260</td>\n",
       "                        <td id=\"T_0d584236_fada_11ea_a044_309c234564f5row6_col1\" class=\"data row6 col1\" >0.7389</td>\n",
       "                        <td id=\"T_0d584236_fada_11ea_a044_309c234564f5row6_col2\" class=\"data row6 col2\" >0.7392</td>\n",
       "                        <td id=\"T_0d584236_fada_11ea_a044_309c234564f5row6_col3\" class=\"data row6 col3\" >0.2460</td>\n",
       "                        <td id=\"T_0d584236_fada_11ea_a044_309c234564f5row6_col4\" class=\"data row6 col4\" >0.3692</td>\n",
       "                        <td id=\"T_0d584236_fada_11ea_a044_309c234564f5row6_col5\" class=\"data row6 col5\" >0.1890</td>\n",
       "                        <td id=\"T_0d584236_fada_11ea_a044_309c234564f5row6_col6\" class=\"data row6 col6\" >0.2469</td>\n",
       "            </tr>\n",
       "            <tr>\n",
       "                        <th id=\"T_0d584236_fada_11ea_a044_309c234564f5level0_row7\" class=\"row_heading level0 row7\" >7</th>\n",
       "                        <td id=\"T_0d584236_fada_11ea_a044_309c234564f5row7_col0\" class=\"data row7 col0\" >0.6227</td>\n",
       "                        <td id=\"T_0d584236_fada_11ea_a044_309c234564f5row7_col1\" class=\"data row7 col1\" >0.7393</td>\n",
       "                        <td id=\"T_0d584236_fada_11ea_a044_309c234564f5row7_col2\" class=\"data row7 col2\" >0.7382</td>\n",
       "                        <td id=\"T_0d584236_fada_11ea_a044_309c234564f5row7_col3\" class=\"data row7 col3\" >0.2440</td>\n",
       "                        <td id=\"T_0d584236_fada_11ea_a044_309c234564f5row7_col4\" class=\"data row7 col4\" >0.3668</td>\n",
       "                        <td id=\"T_0d584236_fada_11ea_a044_309c234564f5row7_col5\" class=\"data row7 col5\" >0.1856</td>\n",
       "                        <td id=\"T_0d584236_fada_11ea_a044_309c234564f5row7_col6\" class=\"data row7 col6\" >0.2434</td>\n",
       "            </tr>\n",
       "            <tr>\n",
       "                        <th id=\"T_0d584236_fada_11ea_a044_309c234564f5level0_row8\" class=\"row_heading level0 row8\" >8</th>\n",
       "                        <td id=\"T_0d584236_fada_11ea_a044_309c234564f5row8_col0\" class=\"data row8 col0\" >0.6316</td>\n",
       "                        <td id=\"T_0d584236_fada_11ea_a044_309c234564f5row8_col1\" class=\"data row8 col1\" >0.7410</td>\n",
       "                        <td id=\"T_0d584236_fada_11ea_a044_309c234564f5row8_col2\" class=\"data row8 col2\" >0.7425</td>\n",
       "                        <td id=\"T_0d584236_fada_11ea_a044_309c234564f5row8_col3\" class=\"data row8 col3\" >0.2498</td>\n",
       "                        <td id=\"T_0d584236_fada_11ea_a044_309c234564f5row8_col4\" class=\"data row8 col4\" >0.3738</td>\n",
       "                        <td id=\"T_0d584236_fada_11ea_a044_309c234564f5row8_col5\" class=\"data row8 col5\" >0.1955</td>\n",
       "                        <td id=\"T_0d584236_fada_11ea_a044_309c234564f5row8_col6\" class=\"data row8 col6\" >0.2539</td>\n",
       "            </tr>\n",
       "            <tr>\n",
       "                        <th id=\"T_0d584236_fada_11ea_a044_309c234564f5level0_row9\" class=\"row_heading level0 row9\" >9</th>\n",
       "                        <td id=\"T_0d584236_fada_11ea_a044_309c234564f5row9_col0\" class=\"data row9 col0\" >0.6344</td>\n",
       "                        <td id=\"T_0d584236_fada_11ea_a044_309c234564f5row9_col1\" class=\"data row9 col1\" >0.7556</td>\n",
       "                        <td id=\"T_0d584236_fada_11ea_a044_309c234564f5row9_col2\" class=\"data row9 col2\" >0.7637</td>\n",
       "                        <td id=\"T_0d584236_fada_11ea_a044_309c234564f5row9_col3\" class=\"data row9 col3\" >0.2548</td>\n",
       "                        <td id=\"T_0d584236_fada_11ea_a044_309c234564f5row9_col4\" class=\"data row9 col4\" >0.3821</td>\n",
       "                        <td id=\"T_0d584236_fada_11ea_a044_309c234564f5row9_col5\" class=\"data row9 col5\" >0.2058</td>\n",
       "                        <td id=\"T_0d584236_fada_11ea_a044_309c234564f5row9_col6\" class=\"data row9 col6\" >0.2685</td>\n",
       "            </tr>\n",
       "            <tr>\n",
       "                        <th id=\"T_0d584236_fada_11ea_a044_309c234564f5level0_row10\" class=\"row_heading level0 row10\" >Mean</th>\n",
       "                        <td id=\"T_0d584236_fada_11ea_a044_309c234564f5row10_col0\" class=\"data row10 col0\" >0.6283</td>\n",
       "                        <td id=\"T_0d584236_fada_11ea_a044_309c234564f5row10_col1\" class=\"data row10 col1\" >0.7437</td>\n",
       "                        <td id=\"T_0d584236_fada_11ea_a044_309c234564f5row10_col2\" class=\"data row10 col2\" >0.7475</td>\n",
       "                        <td id=\"T_0d584236_fada_11ea_a044_309c234564f5row10_col3\" class=\"data row10 col3\" >0.2487</td>\n",
       "                        <td id=\"T_0d584236_fada_11ea_a044_309c234564f5row10_col4\" class=\"data row10 col4\" >0.3733</td>\n",
       "                        <td id=\"T_0d584236_fada_11ea_a044_309c234564f5row10_col5\" class=\"data row10 col5\" >0.1943</td>\n",
       "                        <td id=\"T_0d584236_fada_11ea_a044_309c234564f5row10_col6\" class=\"data row10 col6\" >0.2538</td>\n",
       "            </tr>\n",
       "            <tr>\n",
       "                        <th id=\"T_0d584236_fada_11ea_a044_309c234564f5level0_row11\" class=\"row_heading level0 row11\" >SD</th>\n",
       "                        <td id=\"T_0d584236_fada_11ea_a044_309c234564f5row11_col0\" class=\"data row11 col0\" >0.0043</td>\n",
       "                        <td id=\"T_0d584236_fada_11ea_a044_309c234564f5row11_col1\" class=\"data row11 col1\" >0.0061</td>\n",
       "                        <td id=\"T_0d584236_fada_11ea_a044_309c234564f5row11_col2\" class=\"data row11 col2\" >0.0102</td>\n",
       "                        <td id=\"T_0d584236_fada_11ea_a044_309c234564f5row11_col3\" class=\"data row11 col3\" >0.0038</td>\n",
       "                        <td id=\"T_0d584236_fada_11ea_a044_309c234564f5row11_col4\" class=\"data row11 col4\" >0.0054</td>\n",
       "                        <td id=\"T_0d584236_fada_11ea_a044_309c234564f5row11_col5\" class=\"data row11 col5\" >0.0071</td>\n",
       "                        <td id=\"T_0d584236_fada_11ea_a044_309c234564f5row11_col6\" class=\"data row11 col6\" >0.0089</td>\n",
       "            </tr>\n",
       "    </tbody></table>"
      ],
      "text/plain": [
       "<pandas.io.formats.style.Styler at 0x24281596d30>"
      ]
     },
     "metadata": {},
     "output_type": "display_data"
    }
   ],
   "source": [
    "calibrated_nb = calibrate_model(tuned_nb)"
   ]
  },
  {
   "cell_type": "code",
   "execution_count": 140,
   "metadata": {},
   "outputs": [
    {
     "data": {
      "text/html": [
       "        <script type=\"text/javascript\">\n",
       "        window.PlotlyConfig = {MathJaxConfig: 'local'};\n",
       "        if (window.MathJax) {MathJax.Hub.Config({SVG: {font: \"STIX-Web\"}});}\n",
       "        if (typeof require !== 'undefined') {\n",
       "        require.undef(\"plotly\");\n",
       "        requirejs.config({\n",
       "            paths: {\n",
       "                'plotly': ['https://cdn.plot.ly/plotly-latest.min']\n",
       "            }\n",
       "        });\n",
       "        require(['plotly'], function(Plotly) {\n",
       "            window._Plotly = Plotly;\n",
       "        });\n",
       "        }\n",
       "        </script>\n",
       "        "
      ]
     },
     "metadata": {},
     "output_type": "display_data"
    },
    {
     "data": {
      "application/vnd.plotly.v1+json": {
       "config": {
        "plotlyServerURL": "https://plot.ly"
       },
       "data": [
        {
         "hovertemplate": "Probability Threshold=%{x}<br>Cost Function=%{y}<extra></extra>",
         "legendgroup": "",
         "line": {
          "color": "#636efa",
          "dash": "solid",
          "shape": "linear"
         },
         "mode": "lines",
         "name": "",
         "orientation": "v",
         "showlegend": false,
         "type": "scatter",
         "x": [
          0,
          0.01,
          0.02,
          0.03,
          0.04,
          0.05,
          0.06,
          0.07,
          0.08,
          0.09,
          0.1,
          0.11,
          0.12,
          0.13,
          0.14,
          0.15,
          0.16,
          0.17,
          0.18,
          0.19,
          0.2,
          0.21,
          0.22,
          0.23,
          0.24,
          0.25,
          0.26,
          0.27,
          0.28,
          0.29,
          0.3,
          0.31,
          0.32,
          0.33,
          0.34,
          0.35000000000000003,
          0.36,
          0.37,
          0.38,
          0.39,
          0.4,
          0.41000000000000003,
          0.42,
          0.43,
          0.44,
          0.45,
          0.46,
          0.47000000000000003,
          0.48,
          0.49,
          0.5,
          0.51,
          0.52,
          0.53,
          0.54,
          0.55,
          0.56,
          0.5700000000000001,
          0.58,
          0.59,
          0.6,
          0.61,
          0.62,
          0.63,
          0.64,
          0.65,
          0.66,
          0.67,
          0.68,
          0.6900000000000001,
          0.7000000000000001,
          0.71,
          0.72,
          0.73,
          0.74,
          0.75,
          0.76,
          0.77,
          0.78,
          0.79,
          0.8,
          0.81,
          0.8200000000000001,
          0.8300000000000001,
          0.84,
          0.85,
          0.86,
          0.87,
          0.88,
          0.89,
          0.9,
          0.91,
          0.92,
          0.93,
          0.9400000000000001,
          0.9500000000000001,
          0.96,
          0.97,
          0.98,
          0.99
         ],
         "xaxis": "x",
         "y": [
          0,
          14454000,
          14891000,
          15205000,
          15537000,
          15797000,
          16062000,
          16330000,
          16507000,
          16757000,
          16971000,
          17158000,
          17340000,
          17526000,
          17705000,
          17783000,
          17889000,
          18000000,
          18097000,
          18230000,
          18336000,
          18448000,
          18545000,
          18664000,
          18775000,
          18832000,
          18936000,
          19040000,
          19092000,
          19161000,
          19272000,
          19345000,
          19463000,
          19506000,
          19582000,
          19611000,
          19704000,
          19778000,
          19803000,
          19865000,
          19947000,
          20015000,
          20104000,
          20124000,
          20136000,
          20193000,
          20245000,
          20306000,
          20411000,
          20499000,
          20554000,
          20615000,
          20672000,
          20676000,
          20781000,
          20826000,
          20895000,
          20935000,
          21013000,
          21014000,
          21095000,
          21126000,
          21157000,
          21204000,
          21178000,
          21232000,
          21232000,
          21246000,
          21326000,
          21368000,
          21375000,
          21416000,
          21433000,
          21510000,
          21591000,
          21671000,
          21774000,
          21820000,
          21891000,
          21957000,
          21994000,
          21991000,
          21988000,
          22016000,
          22022000,
          22091000,
          22074000,
          22092000,
          22153000,
          22117000,
          22027000,
          22024000,
          22059000,
          22043000,
          22004000,
          21970000,
          21876000,
          21716000,
          21531000,
          21190000
         ],
         "yaxis": "y"
        }
       ],
       "layout": {
        "legend": {
         "tracegroupgap": 0
        },
        "margin": {
         "t": 60
        },
        "plot_bgcolor": "rgb(245,245,245)",
        "shapes": [
         {
          "line": {
           "color": "red",
           "width": 2
          },
          "type": "line",
          "x0": 0.88,
          "x1": 0.88,
          "y0": 0,
          "y1": 22153000
         }
        ],
        "template": {
         "data": {
          "bar": [
           {
            "error_x": {
             "color": "#2a3f5f"
            },
            "error_y": {
             "color": "#2a3f5f"
            },
            "marker": {
             "line": {
              "color": "#E5ECF6",
              "width": 0.5
             }
            },
            "type": "bar"
           }
          ],
          "barpolar": [
           {
            "marker": {
             "line": {
              "color": "#E5ECF6",
              "width": 0.5
             }
            },
            "type": "barpolar"
           }
          ],
          "carpet": [
           {
            "aaxis": {
             "endlinecolor": "#2a3f5f",
             "gridcolor": "white",
             "linecolor": "white",
             "minorgridcolor": "white",
             "startlinecolor": "#2a3f5f"
            },
            "baxis": {
             "endlinecolor": "#2a3f5f",
             "gridcolor": "white",
             "linecolor": "white",
             "minorgridcolor": "white",
             "startlinecolor": "#2a3f5f"
            },
            "type": "carpet"
           }
          ],
          "choropleth": [
           {
            "colorbar": {
             "outlinewidth": 0,
             "ticks": ""
            },
            "type": "choropleth"
           }
          ],
          "contour": [
           {
            "colorbar": {
             "outlinewidth": 0,
             "ticks": ""
            },
            "colorscale": [
             [
              0,
              "#0d0887"
             ],
             [
              0.1111111111111111,
              "#46039f"
             ],
             [
              0.2222222222222222,
              "#7201a8"
             ],
             [
              0.3333333333333333,
              "#9c179e"
             ],
             [
              0.4444444444444444,
              "#bd3786"
             ],
             [
              0.5555555555555556,
              "#d8576b"
             ],
             [
              0.6666666666666666,
              "#ed7953"
             ],
             [
              0.7777777777777778,
              "#fb9f3a"
             ],
             [
              0.8888888888888888,
              "#fdca26"
             ],
             [
              1,
              "#f0f921"
             ]
            ],
            "type": "contour"
           }
          ],
          "contourcarpet": [
           {
            "colorbar": {
             "outlinewidth": 0,
             "ticks": ""
            },
            "type": "contourcarpet"
           }
          ],
          "heatmap": [
           {
            "colorbar": {
             "outlinewidth": 0,
             "ticks": ""
            },
            "colorscale": [
             [
              0,
              "#0d0887"
             ],
             [
              0.1111111111111111,
              "#46039f"
             ],
             [
              0.2222222222222222,
              "#7201a8"
             ],
             [
              0.3333333333333333,
              "#9c179e"
             ],
             [
              0.4444444444444444,
              "#bd3786"
             ],
             [
              0.5555555555555556,
              "#d8576b"
             ],
             [
              0.6666666666666666,
              "#ed7953"
             ],
             [
              0.7777777777777778,
              "#fb9f3a"
             ],
             [
              0.8888888888888888,
              "#fdca26"
             ],
             [
              1,
              "#f0f921"
             ]
            ],
            "type": "heatmap"
           }
          ],
          "heatmapgl": [
           {
            "colorbar": {
             "outlinewidth": 0,
             "ticks": ""
            },
            "colorscale": [
             [
              0,
              "#0d0887"
             ],
             [
              0.1111111111111111,
              "#46039f"
             ],
             [
              0.2222222222222222,
              "#7201a8"
             ],
             [
              0.3333333333333333,
              "#9c179e"
             ],
             [
              0.4444444444444444,
              "#bd3786"
             ],
             [
              0.5555555555555556,
              "#d8576b"
             ],
             [
              0.6666666666666666,
              "#ed7953"
             ],
             [
              0.7777777777777778,
              "#fb9f3a"
             ],
             [
              0.8888888888888888,
              "#fdca26"
             ],
             [
              1,
              "#f0f921"
             ]
            ],
            "type": "heatmapgl"
           }
          ],
          "histogram": [
           {
            "marker": {
             "colorbar": {
              "outlinewidth": 0,
              "ticks": ""
             }
            },
            "type": "histogram"
           }
          ],
          "histogram2d": [
           {
            "colorbar": {
             "outlinewidth": 0,
             "ticks": ""
            },
            "colorscale": [
             [
              0,
              "#0d0887"
             ],
             [
              0.1111111111111111,
              "#46039f"
             ],
             [
              0.2222222222222222,
              "#7201a8"
             ],
             [
              0.3333333333333333,
              "#9c179e"
             ],
             [
              0.4444444444444444,
              "#bd3786"
             ],
             [
              0.5555555555555556,
              "#d8576b"
             ],
             [
              0.6666666666666666,
              "#ed7953"
             ],
             [
              0.7777777777777778,
              "#fb9f3a"
             ],
             [
              0.8888888888888888,
              "#fdca26"
             ],
             [
              1,
              "#f0f921"
             ]
            ],
            "type": "histogram2d"
           }
          ],
          "histogram2dcontour": [
           {
            "colorbar": {
             "outlinewidth": 0,
             "ticks": ""
            },
            "colorscale": [
             [
              0,
              "#0d0887"
             ],
             [
              0.1111111111111111,
              "#46039f"
             ],
             [
              0.2222222222222222,
              "#7201a8"
             ],
             [
              0.3333333333333333,
              "#9c179e"
             ],
             [
              0.4444444444444444,
              "#bd3786"
             ],
             [
              0.5555555555555556,
              "#d8576b"
             ],
             [
              0.6666666666666666,
              "#ed7953"
             ],
             [
              0.7777777777777778,
              "#fb9f3a"
             ],
             [
              0.8888888888888888,
              "#fdca26"
             ],
             [
              1,
              "#f0f921"
             ]
            ],
            "type": "histogram2dcontour"
           }
          ],
          "mesh3d": [
           {
            "colorbar": {
             "outlinewidth": 0,
             "ticks": ""
            },
            "type": "mesh3d"
           }
          ],
          "parcoords": [
           {
            "line": {
             "colorbar": {
              "outlinewidth": 0,
              "ticks": ""
             }
            },
            "type": "parcoords"
           }
          ],
          "pie": [
           {
            "automargin": true,
            "type": "pie"
           }
          ],
          "scatter": [
           {
            "marker": {
             "colorbar": {
              "outlinewidth": 0,
              "ticks": ""
             }
            },
            "type": "scatter"
           }
          ],
          "scatter3d": [
           {
            "line": {
             "colorbar": {
              "outlinewidth": 0,
              "ticks": ""
             }
            },
            "marker": {
             "colorbar": {
              "outlinewidth": 0,
              "ticks": ""
             }
            },
            "type": "scatter3d"
           }
          ],
          "scattercarpet": [
           {
            "marker": {
             "colorbar": {
              "outlinewidth": 0,
              "ticks": ""
             }
            },
            "type": "scattercarpet"
           }
          ],
          "scattergeo": [
           {
            "marker": {
             "colorbar": {
              "outlinewidth": 0,
              "ticks": ""
             }
            },
            "type": "scattergeo"
           }
          ],
          "scattergl": [
           {
            "marker": {
             "colorbar": {
              "outlinewidth": 0,
              "ticks": ""
             }
            },
            "type": "scattergl"
           }
          ],
          "scattermapbox": [
           {
            "marker": {
             "colorbar": {
              "outlinewidth": 0,
              "ticks": ""
             }
            },
            "type": "scattermapbox"
           }
          ],
          "scatterpolar": [
           {
            "marker": {
             "colorbar": {
              "outlinewidth": 0,
              "ticks": ""
             }
            },
            "type": "scatterpolar"
           }
          ],
          "scatterpolargl": [
           {
            "marker": {
             "colorbar": {
              "outlinewidth": 0,
              "ticks": ""
             }
            },
            "type": "scatterpolargl"
           }
          ],
          "scatterternary": [
           {
            "marker": {
             "colorbar": {
              "outlinewidth": 0,
              "ticks": ""
             }
            },
            "type": "scatterternary"
           }
          ],
          "surface": [
           {
            "colorbar": {
             "outlinewidth": 0,
             "ticks": ""
            },
            "colorscale": [
             [
              0,
              "#0d0887"
             ],
             [
              0.1111111111111111,
              "#46039f"
             ],
             [
              0.2222222222222222,
              "#7201a8"
             ],
             [
              0.3333333333333333,
              "#9c179e"
             ],
             [
              0.4444444444444444,
              "#bd3786"
             ],
             [
              0.5555555555555556,
              "#d8576b"
             ],
             [
              0.6666666666666666,
              "#ed7953"
             ],
             [
              0.7777777777777778,
              "#fb9f3a"
             ],
             [
              0.8888888888888888,
              "#fdca26"
             ],
             [
              1,
              "#f0f921"
             ]
            ],
            "type": "surface"
           }
          ],
          "table": [
           {
            "cells": {
             "fill": {
              "color": "#EBF0F8"
             },
             "line": {
              "color": "white"
             }
            },
            "header": {
             "fill": {
              "color": "#C8D4E3"
             },
             "line": {
              "color": "white"
             }
            },
            "type": "table"
           }
          ]
         },
         "layout": {
          "annotationdefaults": {
           "arrowcolor": "#2a3f5f",
           "arrowhead": 0,
           "arrowwidth": 1
          },
          "coloraxis": {
           "colorbar": {
            "outlinewidth": 0,
            "ticks": ""
           }
          },
          "colorscale": {
           "diverging": [
            [
             0,
             "#8e0152"
            ],
            [
             0.1,
             "#c51b7d"
            ],
            [
             0.2,
             "#de77ae"
            ],
            [
             0.3,
             "#f1b6da"
            ],
            [
             0.4,
             "#fde0ef"
            ],
            [
             0.5,
             "#f7f7f7"
            ],
            [
             0.6,
             "#e6f5d0"
            ],
            [
             0.7,
             "#b8e186"
            ],
            [
             0.8,
             "#7fbc41"
            ],
            [
             0.9,
             "#4d9221"
            ],
            [
             1,
             "#276419"
            ]
           ],
           "sequential": [
            [
             0,
             "#0d0887"
            ],
            [
             0.1111111111111111,
             "#46039f"
            ],
            [
             0.2222222222222222,
             "#7201a8"
            ],
            [
             0.3333333333333333,
             "#9c179e"
            ],
            [
             0.4444444444444444,
             "#bd3786"
            ],
            [
             0.5555555555555556,
             "#d8576b"
            ],
            [
             0.6666666666666666,
             "#ed7953"
            ],
            [
             0.7777777777777778,
             "#fb9f3a"
            ],
            [
             0.8888888888888888,
             "#fdca26"
            ],
            [
             1,
             "#f0f921"
            ]
           ],
           "sequentialminus": [
            [
             0,
             "#0d0887"
            ],
            [
             0.1111111111111111,
             "#46039f"
            ],
            [
             0.2222222222222222,
             "#7201a8"
            ],
            [
             0.3333333333333333,
             "#9c179e"
            ],
            [
             0.4444444444444444,
             "#bd3786"
            ],
            [
             0.5555555555555556,
             "#d8576b"
            ],
            [
             0.6666666666666666,
             "#ed7953"
            ],
            [
             0.7777777777777778,
             "#fb9f3a"
            ],
            [
             0.8888888888888888,
             "#fdca26"
            ],
            [
             1,
             "#f0f921"
            ]
           ]
          },
          "colorway": [
           "#636efa",
           "#EF553B",
           "#00cc96",
           "#ab63fa",
           "#FFA15A",
           "#19d3f3",
           "#FF6692",
           "#B6E880",
           "#FF97FF",
           "#FECB52"
          ],
          "font": {
           "color": "#2a3f5f"
          },
          "geo": {
           "bgcolor": "white",
           "lakecolor": "white",
           "landcolor": "#E5ECF6",
           "showlakes": true,
           "showland": true,
           "subunitcolor": "white"
          },
          "hoverlabel": {
           "align": "left"
          },
          "hovermode": "closest",
          "mapbox": {
           "style": "light"
          },
          "paper_bgcolor": "white",
          "plot_bgcolor": "#E5ECF6",
          "polar": {
           "angularaxis": {
            "gridcolor": "white",
            "linecolor": "white",
            "ticks": ""
           },
           "bgcolor": "#E5ECF6",
           "radialaxis": {
            "gridcolor": "white",
            "linecolor": "white",
            "ticks": ""
           }
          },
          "scene": {
           "xaxis": {
            "backgroundcolor": "#E5ECF6",
            "gridcolor": "white",
            "gridwidth": 2,
            "linecolor": "white",
            "showbackground": true,
            "ticks": "",
            "zerolinecolor": "white"
           },
           "yaxis": {
            "backgroundcolor": "#E5ECF6",
            "gridcolor": "white",
            "gridwidth": 2,
            "linecolor": "white",
            "showbackground": true,
            "ticks": "",
            "zerolinecolor": "white"
           },
           "zaxis": {
            "backgroundcolor": "#E5ECF6",
            "gridcolor": "white",
            "gridwidth": 2,
            "linecolor": "white",
            "showbackground": true,
            "ticks": "",
            "zerolinecolor": "white"
           }
          },
          "shapedefaults": {
           "line": {
            "color": "#2a3f5f"
           }
          },
          "ternary": {
           "aaxis": {
            "gridcolor": "white",
            "linecolor": "white",
            "ticks": ""
           },
           "baxis": {
            "gridcolor": "white",
            "linecolor": "white",
            "ticks": ""
           },
           "bgcolor": "#E5ECF6",
           "caxis": {
            "gridcolor": "white",
            "linecolor": "white",
            "ticks": ""
           }
          },
          "title": {
           "x": 0.05
          },
          "xaxis": {
           "automargin": true,
           "gridcolor": "white",
           "linecolor": "white",
           "ticks": "",
           "title": {
            "standoff": 15
           },
           "zerolinecolor": "white",
           "zerolinewidth": 2
          },
          "yaxis": {
           "automargin": true,
           "gridcolor": "white",
           "linecolor": "white",
           "ticks": "",
           "title": {
            "standoff": 15
           },
           "zerolinecolor": "white",
           "zerolinewidth": 2
          }
         }
        },
        "title": {
         "text": "GaussianNB Probability Threshold Optimization",
         "x": 0.45,
         "xanchor": "center",
         "y": 0.95,
         "yanchor": "top"
        },
        "xaxis": {
         "anchor": "y",
         "domain": [
          0,
          1
         ],
         "title": {
          "text": "Probability Threshold"
         }
        },
        "yaxis": {
         "anchor": "x",
         "domain": [
          0,
          1
         ],
         "title": {
          "text": "Cost Function"
         }
        }
       }
      },
      "text/html": [
       "<div>\n",
       "        \n",
       "        \n",
       "            <div id=\"5a826ece-055c-41cf-86a7-48dcf82c59c9\" class=\"plotly-graph-div\" style=\"height:525px; width:100%;\"></div>\n",
       "            <script type=\"text/javascript\">\n",
       "                require([\"plotly\"], function(Plotly) {\n",
       "                    window.PLOTLYENV=window.PLOTLYENV || {};\n",
       "                    \n",
       "                if (document.getElementById(\"5a826ece-055c-41cf-86a7-48dcf82c59c9\")) {\n",
       "                    Plotly.newPlot(\n",
       "                        '5a826ece-055c-41cf-86a7-48dcf82c59c9',\n",
       "                        [{\"hovertemplate\": \"Probability Threshold=%{x}<br>Cost Function=%{y}<extra></extra>\", \"legendgroup\": \"\", \"line\": {\"color\": \"#636efa\", \"dash\": \"solid\", \"shape\": \"linear\"}, \"mode\": \"lines\", \"name\": \"\", \"orientation\": \"v\", \"showlegend\": false, \"type\": \"scatter\", \"x\": [0.0, 0.01, 0.02, 0.03, 0.04, 0.05, 0.06, 0.07, 0.08, 0.09, 0.1, 0.11, 0.12, 0.13, 0.14, 0.15, 0.16, 0.17, 0.18, 0.19, 0.2, 0.21, 0.22, 0.23, 0.24, 0.25, 0.26, 0.27, 0.28, 0.29, 0.3, 0.31, 0.32, 0.33, 0.34, 0.35000000000000003, 0.36, 0.37, 0.38, 0.39, 0.4, 0.41000000000000003, 0.42, 0.43, 0.44, 0.45, 0.46, 0.47000000000000003, 0.48, 0.49, 0.5, 0.51, 0.52, 0.53, 0.54, 0.55, 0.56, 0.5700000000000001, 0.58, 0.59, 0.6, 0.61, 0.62, 0.63, 0.64, 0.65, 0.66, 0.67, 0.68, 0.6900000000000001, 0.7000000000000001, 0.71, 0.72, 0.73, 0.74, 0.75, 0.76, 0.77, 0.78, 0.79, 0.8, 0.81, 0.8200000000000001, 0.8300000000000001, 0.84, 0.85, 0.86, 0.87, 0.88, 0.89, 0.9, 0.91, 0.92, 0.93, 0.9400000000000001, 0.9500000000000001, 0.96, 0.97, 0.98, 0.99], \"xaxis\": \"x\", \"y\": [0, 14454000, 14891000, 15205000, 15537000, 15797000, 16062000, 16330000, 16507000, 16757000, 16971000, 17158000, 17340000, 17526000, 17705000, 17783000, 17889000, 18000000, 18097000, 18230000, 18336000, 18448000, 18545000, 18664000, 18775000, 18832000, 18936000, 19040000, 19092000, 19161000, 19272000, 19345000, 19463000, 19506000, 19582000, 19611000, 19704000, 19778000, 19803000, 19865000, 19947000, 20015000, 20104000, 20124000, 20136000, 20193000, 20245000, 20306000, 20411000, 20499000, 20554000, 20615000, 20672000, 20676000, 20781000, 20826000, 20895000, 20935000, 21013000, 21014000, 21095000, 21126000, 21157000, 21204000, 21178000, 21232000, 21232000, 21246000, 21326000, 21368000, 21375000, 21416000, 21433000, 21510000, 21591000, 21671000, 21774000, 21820000, 21891000, 21957000, 21994000, 21991000, 21988000, 22016000, 22022000, 22091000, 22074000, 22092000, 22153000, 22117000, 22027000, 22024000, 22059000, 22043000, 22004000, 21970000, 21876000, 21716000, 21531000, 21190000], \"yaxis\": \"y\"}],\n",
       "                        {\"legend\": {\"tracegroupgap\": 0}, \"margin\": {\"t\": 60}, \"plot_bgcolor\": \"rgb(245,245,245)\", \"shapes\": [{\"line\": {\"color\": \"red\", \"width\": 2}, \"type\": \"line\", \"x0\": 0.88, \"x1\": 0.88, \"y0\": 0, \"y1\": 22153000}], \"template\": {\"data\": {\"bar\": [{\"error_x\": {\"color\": \"#2a3f5f\"}, \"error_y\": {\"color\": \"#2a3f5f\"}, \"marker\": {\"line\": {\"color\": \"#E5ECF6\", \"width\": 0.5}}, \"type\": \"bar\"}], \"barpolar\": [{\"marker\": {\"line\": {\"color\": \"#E5ECF6\", \"width\": 0.5}}, \"type\": \"barpolar\"}], \"carpet\": [{\"aaxis\": {\"endlinecolor\": \"#2a3f5f\", \"gridcolor\": \"white\", \"linecolor\": \"white\", \"minorgridcolor\": \"white\", \"startlinecolor\": \"#2a3f5f\"}, \"baxis\": {\"endlinecolor\": \"#2a3f5f\", \"gridcolor\": \"white\", \"linecolor\": \"white\", \"minorgridcolor\": \"white\", \"startlinecolor\": \"#2a3f5f\"}, \"type\": \"carpet\"}], \"choropleth\": [{\"colorbar\": {\"outlinewidth\": 0, \"ticks\": \"\"}, \"type\": \"choropleth\"}], \"contour\": [{\"colorbar\": {\"outlinewidth\": 0, \"ticks\": \"\"}, \"colorscale\": [[0.0, \"#0d0887\"], [0.1111111111111111, \"#46039f\"], [0.2222222222222222, \"#7201a8\"], [0.3333333333333333, \"#9c179e\"], [0.4444444444444444, \"#bd3786\"], [0.5555555555555556, \"#d8576b\"], [0.6666666666666666, \"#ed7953\"], [0.7777777777777778, \"#fb9f3a\"], [0.8888888888888888, \"#fdca26\"], [1.0, \"#f0f921\"]], \"type\": \"contour\"}], \"contourcarpet\": [{\"colorbar\": {\"outlinewidth\": 0, \"ticks\": \"\"}, \"type\": \"contourcarpet\"}], \"heatmap\": [{\"colorbar\": {\"outlinewidth\": 0, \"ticks\": \"\"}, \"colorscale\": [[0.0, \"#0d0887\"], [0.1111111111111111, \"#46039f\"], [0.2222222222222222, \"#7201a8\"], [0.3333333333333333, \"#9c179e\"], [0.4444444444444444, \"#bd3786\"], [0.5555555555555556, \"#d8576b\"], [0.6666666666666666, \"#ed7953\"], [0.7777777777777778, \"#fb9f3a\"], [0.8888888888888888, \"#fdca26\"], [1.0, \"#f0f921\"]], \"type\": \"heatmap\"}], \"heatmapgl\": [{\"colorbar\": {\"outlinewidth\": 0, \"ticks\": \"\"}, \"colorscale\": [[0.0, \"#0d0887\"], [0.1111111111111111, \"#46039f\"], [0.2222222222222222, \"#7201a8\"], [0.3333333333333333, \"#9c179e\"], [0.4444444444444444, \"#bd3786\"], [0.5555555555555556, \"#d8576b\"], [0.6666666666666666, \"#ed7953\"], [0.7777777777777778, \"#fb9f3a\"], [0.8888888888888888, \"#fdca26\"], [1.0, \"#f0f921\"]], \"type\": \"heatmapgl\"}], \"histogram\": [{\"marker\": {\"colorbar\": {\"outlinewidth\": 0, \"ticks\": \"\"}}, \"type\": \"histogram\"}], \"histogram2d\": [{\"colorbar\": {\"outlinewidth\": 0, \"ticks\": \"\"}, \"colorscale\": [[0.0, \"#0d0887\"], [0.1111111111111111, \"#46039f\"], [0.2222222222222222, \"#7201a8\"], [0.3333333333333333, \"#9c179e\"], [0.4444444444444444, \"#bd3786\"], [0.5555555555555556, \"#d8576b\"], [0.6666666666666666, \"#ed7953\"], [0.7777777777777778, \"#fb9f3a\"], [0.8888888888888888, \"#fdca26\"], [1.0, \"#f0f921\"]], \"type\": \"histogram2d\"}], \"histogram2dcontour\": [{\"colorbar\": {\"outlinewidth\": 0, \"ticks\": \"\"}, \"colorscale\": [[0.0, \"#0d0887\"], [0.1111111111111111, \"#46039f\"], [0.2222222222222222, \"#7201a8\"], [0.3333333333333333, \"#9c179e\"], [0.4444444444444444, \"#bd3786\"], [0.5555555555555556, \"#d8576b\"], [0.6666666666666666, \"#ed7953\"], [0.7777777777777778, \"#fb9f3a\"], [0.8888888888888888, \"#fdca26\"], [1.0, \"#f0f921\"]], \"type\": \"histogram2dcontour\"}], \"mesh3d\": [{\"colorbar\": {\"outlinewidth\": 0, \"ticks\": \"\"}, \"type\": \"mesh3d\"}], \"parcoords\": [{\"line\": {\"colorbar\": {\"outlinewidth\": 0, \"ticks\": \"\"}}, \"type\": \"parcoords\"}], \"pie\": [{\"automargin\": true, \"type\": \"pie\"}], \"scatter\": [{\"marker\": {\"colorbar\": {\"outlinewidth\": 0, \"ticks\": \"\"}}, \"type\": \"scatter\"}], \"scatter3d\": [{\"line\": {\"colorbar\": {\"outlinewidth\": 0, \"ticks\": \"\"}}, \"marker\": {\"colorbar\": {\"outlinewidth\": 0, \"ticks\": \"\"}}, \"type\": \"scatter3d\"}], \"scattercarpet\": [{\"marker\": {\"colorbar\": {\"outlinewidth\": 0, \"ticks\": \"\"}}, \"type\": \"scattercarpet\"}], \"scattergeo\": [{\"marker\": {\"colorbar\": {\"outlinewidth\": 0, \"ticks\": \"\"}}, \"type\": \"scattergeo\"}], \"scattergl\": [{\"marker\": {\"colorbar\": {\"outlinewidth\": 0, \"ticks\": \"\"}}, \"type\": \"scattergl\"}], \"scattermapbox\": [{\"marker\": {\"colorbar\": {\"outlinewidth\": 0, \"ticks\": \"\"}}, \"type\": \"scattermapbox\"}], \"scatterpolar\": [{\"marker\": {\"colorbar\": {\"outlinewidth\": 0, \"ticks\": \"\"}}, \"type\": \"scatterpolar\"}], \"scatterpolargl\": [{\"marker\": {\"colorbar\": {\"outlinewidth\": 0, \"ticks\": \"\"}}, \"type\": \"scatterpolargl\"}], \"scatterternary\": [{\"marker\": {\"colorbar\": {\"outlinewidth\": 0, \"ticks\": \"\"}}, \"type\": \"scatterternary\"}], \"surface\": [{\"colorbar\": {\"outlinewidth\": 0, \"ticks\": \"\"}, \"colorscale\": [[0.0, \"#0d0887\"], [0.1111111111111111, \"#46039f\"], [0.2222222222222222, \"#7201a8\"], [0.3333333333333333, \"#9c179e\"], [0.4444444444444444, \"#bd3786\"], [0.5555555555555556, \"#d8576b\"], [0.6666666666666666, \"#ed7953\"], [0.7777777777777778, \"#fb9f3a\"], [0.8888888888888888, \"#fdca26\"], [1.0, \"#f0f921\"]], \"type\": \"surface\"}], \"table\": [{\"cells\": {\"fill\": {\"color\": \"#EBF0F8\"}, \"line\": {\"color\": \"white\"}}, \"header\": {\"fill\": {\"color\": \"#C8D4E3\"}, \"line\": {\"color\": \"white\"}}, \"type\": \"table\"}]}, \"layout\": {\"annotationdefaults\": {\"arrowcolor\": \"#2a3f5f\", \"arrowhead\": 0, \"arrowwidth\": 1}, \"coloraxis\": {\"colorbar\": {\"outlinewidth\": 0, \"ticks\": \"\"}}, \"colorscale\": {\"diverging\": [[0, \"#8e0152\"], [0.1, \"#c51b7d\"], [0.2, \"#de77ae\"], [0.3, \"#f1b6da\"], [0.4, \"#fde0ef\"], [0.5, \"#f7f7f7\"], [0.6, \"#e6f5d0\"], [0.7, \"#b8e186\"], [0.8, \"#7fbc41\"], [0.9, \"#4d9221\"], [1, \"#276419\"]], \"sequential\": [[0.0, \"#0d0887\"], [0.1111111111111111, \"#46039f\"], [0.2222222222222222, \"#7201a8\"], [0.3333333333333333, \"#9c179e\"], [0.4444444444444444, \"#bd3786\"], [0.5555555555555556, \"#d8576b\"], [0.6666666666666666, \"#ed7953\"], [0.7777777777777778, \"#fb9f3a\"], [0.8888888888888888, \"#fdca26\"], [1.0, \"#f0f921\"]], \"sequentialminus\": [[0.0, \"#0d0887\"], [0.1111111111111111, \"#46039f\"], [0.2222222222222222, \"#7201a8\"], [0.3333333333333333, \"#9c179e\"], [0.4444444444444444, \"#bd3786\"], [0.5555555555555556, \"#d8576b\"], [0.6666666666666666, \"#ed7953\"], [0.7777777777777778, \"#fb9f3a\"], [0.8888888888888888, \"#fdca26\"], [1.0, \"#f0f921\"]]}, \"colorway\": [\"#636efa\", \"#EF553B\", \"#00cc96\", \"#ab63fa\", \"#FFA15A\", \"#19d3f3\", \"#FF6692\", \"#B6E880\", \"#FF97FF\", \"#FECB52\"], \"font\": {\"color\": \"#2a3f5f\"}, \"geo\": {\"bgcolor\": \"white\", \"lakecolor\": \"white\", \"landcolor\": \"#E5ECF6\", \"showlakes\": true, \"showland\": true, \"subunitcolor\": \"white\"}, \"hoverlabel\": {\"align\": \"left\"}, \"hovermode\": \"closest\", \"mapbox\": {\"style\": \"light\"}, \"paper_bgcolor\": \"white\", \"plot_bgcolor\": \"#E5ECF6\", \"polar\": {\"angularaxis\": {\"gridcolor\": \"white\", \"linecolor\": \"white\", \"ticks\": \"\"}, \"bgcolor\": \"#E5ECF6\", \"radialaxis\": {\"gridcolor\": \"white\", \"linecolor\": \"white\", \"ticks\": \"\"}}, \"scene\": {\"xaxis\": {\"backgroundcolor\": \"#E5ECF6\", \"gridcolor\": \"white\", \"gridwidth\": 2, \"linecolor\": \"white\", \"showbackground\": true, \"ticks\": \"\", \"zerolinecolor\": \"white\"}, \"yaxis\": {\"backgroundcolor\": \"#E5ECF6\", \"gridcolor\": \"white\", \"gridwidth\": 2, \"linecolor\": \"white\", \"showbackground\": true, \"ticks\": \"\", \"zerolinecolor\": \"white\"}, \"zaxis\": {\"backgroundcolor\": \"#E5ECF6\", \"gridcolor\": \"white\", \"gridwidth\": 2, \"linecolor\": \"white\", \"showbackground\": true, \"ticks\": \"\", \"zerolinecolor\": \"white\"}}, \"shapedefaults\": {\"line\": {\"color\": \"#2a3f5f\"}}, \"ternary\": {\"aaxis\": {\"gridcolor\": \"white\", \"linecolor\": \"white\", \"ticks\": \"\"}, \"baxis\": {\"gridcolor\": \"white\", \"linecolor\": \"white\", \"ticks\": \"\"}, \"bgcolor\": \"#E5ECF6\", \"caxis\": {\"gridcolor\": \"white\", \"linecolor\": \"white\", \"ticks\": \"\"}}, \"title\": {\"x\": 0.05}, \"xaxis\": {\"automargin\": true, \"gridcolor\": \"white\", \"linecolor\": \"white\", \"ticks\": \"\", \"title\": {\"standoff\": 15}, \"zerolinecolor\": \"white\", \"zerolinewidth\": 2}, \"yaxis\": {\"automargin\": true, \"gridcolor\": \"white\", \"linecolor\": \"white\", \"ticks\": \"\", \"title\": {\"standoff\": 15}, \"zerolinecolor\": \"white\", \"zerolinewidth\": 2}}}, \"title\": {\"text\": \"GaussianNB Probability Threshold Optimization\", \"x\": 0.45, \"xanchor\": \"center\", \"y\": 0.95, \"yanchor\": \"top\"}, \"xaxis\": {\"anchor\": \"y\", \"domain\": [0.0, 1.0], \"title\": {\"text\": \"Probability Threshold\"}}, \"yaxis\": {\"anchor\": \"x\", \"domain\": [0.0, 1.0], \"title\": {\"text\": \"Cost Function\"}}},\n",
       "                        {\"responsive\": true}\n",
       "                    ).then(function(){\n",
       "                            \n",
       "var gd = document.getElementById('5a826ece-055c-41cf-86a7-48dcf82c59c9');\n",
       "var x = new MutationObserver(function (mutations, observer) {{\n",
       "        var display = window.getComputedStyle(gd).display;\n",
       "        if (!display || display === 'none') {{\n",
       "            console.log([gd, 'removed!']);\n",
       "            Plotly.purge(gd);\n",
       "            observer.disconnect();\n",
       "        }}\n",
       "}});\n",
       "\n",
       "// Listen for the removal of the full notebook cells\n",
       "var notebookContainer = gd.closest('#notebook-container');\n",
       "if (notebookContainer) {{\n",
       "    x.observe(notebookContainer, {childList: true});\n",
       "}}\n",
       "\n",
       "// Listen for the clearing of the current output cell\n",
       "var outputEl = gd.closest('.output');\n",
       "if (outputEl) {{\n",
       "    x.observe(outputEl, {childList: true});\n",
       "}}\n",
       "\n",
       "                        })\n",
       "                };\n",
       "                });\n",
       "            </script>\n",
       "        </div>"
      ]
     },
     "metadata": {},
     "output_type": "display_data"
    },
    {
     "name": "stdout",
     "output_type": "stream",
     "text": [
      "Optimized Probability Threshold: 0.88 | Optimized Cost Function: 22153000\n"
     ]
    }
   ],
   "source": [
    "#optimize threshold for trained model\n",
    "optimize_threshold(tuned_nb, true_negative = 1000, false_negative = -5000)"
   ]
  },
  {
   "cell_type": "code",
   "execution_count": 166,
   "metadata": {},
   "outputs": [],
   "source": [
    "final_nb = finalize_model(tuned_nb)"
   ]
  },
  {
   "cell_type": "code",
   "execution_count": 167,
   "metadata": {},
   "outputs": [],
   "source": [
    "predictions = predict_model(final_nb, data=test_df)"
   ]
  },
  {
   "cell_type": "code",
   "execution_count": 168,
   "metadata": {},
   "outputs": [
    {
     "data": {
      "text/html": [
       "<div>\n",
       "<style scoped>\n",
       "    .dataframe tbody tr th:only-of-type {\n",
       "        vertical-align: middle;\n",
       "    }\n",
       "\n",
       "    .dataframe tbody tr th {\n",
       "        vertical-align: top;\n",
       "    }\n",
       "\n",
       "    .dataframe thead th {\n",
       "        text-align: right;\n",
       "    }\n",
       "</style>\n",
       "<table border=\"1\" class=\"dataframe\">\n",
       "  <thead>\n",
       "    <tr style=\"text-align: right;\">\n",
       "      <th></th>\n",
       "      <th>Unnamed: 0.1</th>\n",
       "      <th>origChannel</th>\n",
       "      <th>sellerName</th>\n",
       "      <th>origIntRate</th>\n",
       "      <th>origUPB</th>\n",
       "      <th>origLoanTerm</th>\n",
       "      <th>origLTV</th>\n",
       "      <th>origCLTV</th>\n",
       "      <th>numBorrowers</th>\n",
       "      <th>origDebtIncRatio</th>\n",
       "      <th>loanPurp</th>\n",
       "      <th>propState</th>\n",
       "      <th>zipCode</th>\n",
       "      <th>pMIperct</th>\n",
       "      <th>mortInsType</th>\n",
       "      <th>bestCreditScore</th>\n",
       "      <th>worstCreditScore</th>\n",
       "      <th>avgCreditScore</th>\n",
       "      <th>loanAge</th>\n",
       "      <th>mSA</th>\n",
       "      <th>fmacRateMax</th>\n",
       "      <th>fmacRateMin</th>\n",
       "      <th>fmacRateAvg</th>\n",
       "      <th>fmacRateVolatility</th>\n",
       "      <th>rateDiffAbove</th>\n",
       "      <th>rateDiffBelow</th>\n",
       "      <th>rateDiffAvg</th>\n",
       "      <th>rateDiffAbovePct</th>\n",
       "      <th>rateDiffBelowPct</th>\n",
       "      <th>rateDiffAvgPct</th>\n",
       "      <th>origYear</th>\n",
       "      <th>origMonth</th>\n",
       "      <th>zeroBalCode</th>\n",
       "      <th>Label</th>\n",
       "      <th>Score</th>\n",
       "    </tr>\n",
       "  </thead>\n",
       "  <tbody>\n",
       "    <tr>\n",
       "      <th>0</th>\n",
       "      <td>1362689</td>\n",
       "      <td>C</td>\n",
       "      <td>JPMORGAN CHASE BANK, NA</td>\n",
       "      <td>6.000</td>\n",
       "      <td>42000</td>\n",
       "      <td>360</td>\n",
       "      <td>68</td>\n",
       "      <td>68</td>\n",
       "      <td>1</td>\n",
       "      <td>30</td>\n",
       "      <td>C</td>\n",
       "      <td>MO</td>\n",
       "      <td>656</td>\n",
       "      <td>0.0</td>\n",
       "      <td>0</td>\n",
       "      <td>698</td>\n",
       "      <td>698</td>\n",
       "      <td>698</td>\n",
       "      <td>99</td>\n",
       "      <td>44180</td>\n",
       "      <td>6.03</td>\n",
       "      <td>5.83</td>\n",
       "      <td>5.9325</td>\n",
       "      <td>0.034305</td>\n",
       "      <td>-0.030</td>\n",
       "      <td>-0.170</td>\n",
       "      <td>0.0675</td>\n",
       "      <td>-0.004975</td>\n",
       "      <td>-0.029160</td>\n",
       "      <td>0.011378</td>\n",
       "      <td>2003</td>\n",
       "      <td>11</td>\n",
       "      <td>1</td>\n",
       "      <td>1</td>\n",
       "      <td>0.6684</td>\n",
       "    </tr>\n",
       "    <tr>\n",
       "      <th>1</th>\n",
       "      <td>1450254</td>\n",
       "      <td>R</td>\n",
       "      <td>OTHER</td>\n",
       "      <td>5.375</td>\n",
       "      <td>63000</td>\n",
       "      <td>180</td>\n",
       "      <td>79</td>\n",
       "      <td>79</td>\n",
       "      <td>2</td>\n",
       "      <td>43</td>\n",
       "      <td>C</td>\n",
       "      <td>LA</td>\n",
       "      <td>703</td>\n",
       "      <td>0.0</td>\n",
       "      <td>0</td>\n",
       "      <td>665</td>\n",
       "      <td>636</td>\n",
       "      <td>650</td>\n",
       "      <td>100</td>\n",
       "      <td>12940</td>\n",
       "      <td>5.72</td>\n",
       "      <td>5.58</td>\n",
       "      <td>5.6350</td>\n",
       "      <td>0.025090</td>\n",
       "      <td>-0.345</td>\n",
       "      <td>0.205</td>\n",
       "      <td>-0.2600</td>\n",
       "      <td>-0.060315</td>\n",
       "      <td>0.036738</td>\n",
       "      <td>-0.046140</td>\n",
       "      <td>2004</td>\n",
       "      <td>2</td>\n",
       "      <td>0</td>\n",
       "      <td>1</td>\n",
       "      <td>0.5075</td>\n",
       "    </tr>\n",
       "    <tr>\n",
       "      <th>2</th>\n",
       "      <td>2306435</td>\n",
       "      <td>C</td>\n",
       "      <td>BANK OF AMERICA, N.A.</td>\n",
       "      <td>5.000</td>\n",
       "      <td>256000</td>\n",
       "      <td>360</td>\n",
       "      <td>48</td>\n",
       "      <td>48</td>\n",
       "      <td>2</td>\n",
       "      <td>40</td>\n",
       "      <td>R</td>\n",
       "      <td>KY</td>\n",
       "      <td>410</td>\n",
       "      <td>0.0</td>\n",
       "      <td>0</td>\n",
       "      <td>771</td>\n",
       "      <td>769</td>\n",
       "      <td>770</td>\n",
       "      <td>95</td>\n",
       "      <td>17140</td>\n",
       "      <td>5.53</td>\n",
       "      <td>5.10</td>\n",
       "      <td>5.2860</td>\n",
       "      <td>0.084314</td>\n",
       "      <td>-0.530</td>\n",
       "      <td>0.100</td>\n",
       "      <td>-0.2860</td>\n",
       "      <td>-0.095841</td>\n",
       "      <td>0.019608</td>\n",
       "      <td>-0.054105</td>\n",
       "      <td>2008</td>\n",
       "      <td>12</td>\n",
       "      <td>0</td>\n",
       "      <td>0</td>\n",
       "      <td>0.0146</td>\n",
       "    </tr>\n",
       "    <tr>\n",
       "      <th>3</th>\n",
       "      <td>64951</td>\n",
       "      <td>B</td>\n",
       "      <td>OTHER</td>\n",
       "      <td>7.875</td>\n",
       "      <td>107000</td>\n",
       "      <td>240</td>\n",
       "      <td>80</td>\n",
       "      <td>80</td>\n",
       "      <td>2</td>\n",
       "      <td>28</td>\n",
       "      <td>P</td>\n",
       "      <td>CO</td>\n",
       "      <td>809</td>\n",
       "      <td>0.0</td>\n",
       "      <td>0</td>\n",
       "      <td>698</td>\n",
       "      <td>657</td>\n",
       "      <td>677</td>\n",
       "      <td>66</td>\n",
       "      <td>17820</td>\n",
       "      <td>8.12</td>\n",
       "      <td>7.96</td>\n",
       "      <td>8.0275</td>\n",
       "      <td>0.020101</td>\n",
       "      <td>-0.245</td>\n",
       "      <td>0.085</td>\n",
       "      <td>-0.1525</td>\n",
       "      <td>-0.030172</td>\n",
       "      <td>0.010678</td>\n",
       "      <td>-0.018997</td>\n",
       "      <td>2000</td>\n",
       "      <td>8</td>\n",
       "      <td>0</td>\n",
       "      <td>0</td>\n",
       "      <td>0.0476</td>\n",
       "    </tr>\n",
       "    <tr>\n",
       "      <th>4</th>\n",
       "      <td>1237528</td>\n",
       "      <td>B</td>\n",
       "      <td>FLAGSTAR BANK, FSB</td>\n",
       "      <td>5.875</td>\n",
       "      <td>210000</td>\n",
       "      <td>240</td>\n",
       "      <td>71</td>\n",
       "      <td>71</td>\n",
       "      <td>1</td>\n",
       "      <td>49</td>\n",
       "      <td>C</td>\n",
       "      <td>NY</td>\n",
       "      <td>115</td>\n",
       "      <td>0.0</td>\n",
       "      <td>0</td>\n",
       "      <td>604</td>\n",
       "      <td>604</td>\n",
       "      <td>604</td>\n",
       "      <td>138</td>\n",
       "      <td>35620</td>\n",
       "      <td>6.34</td>\n",
       "      <td>6.14</td>\n",
       "      <td>6.2640</td>\n",
       "      <td>0.032573</td>\n",
       "      <td>-0.465</td>\n",
       "      <td>0.265</td>\n",
       "      <td>-0.3890</td>\n",
       "      <td>-0.073344</td>\n",
       "      <td>0.043160</td>\n",
       "      <td>-0.062101</td>\n",
       "      <td>2003</td>\n",
       "      <td>8</td>\n",
       "      <td>0</td>\n",
       "      <td>1</td>\n",
       "      <td>0.6378</td>\n",
       "    </tr>\n",
       "  </tbody>\n",
       "</table>\n",
       "</div>"
      ],
      "text/plain": [
       "   Unnamed: 0.1 origChannel               sellerName  origIntRate  origUPB  \\\n",
       "0       1362689           C  JPMORGAN CHASE BANK, NA        6.000    42000   \n",
       "1       1450254           R                    OTHER        5.375    63000   \n",
       "2       2306435           C    BANK OF AMERICA, N.A.        5.000   256000   \n",
       "3         64951           B                    OTHER        7.875   107000   \n",
       "4       1237528           B       FLAGSTAR BANK, FSB        5.875   210000   \n",
       "\n",
       "   origLoanTerm  origLTV  origCLTV  numBorrowers  origDebtIncRatio loanPurp  \\\n",
       "0           360       68        68             1                30        C   \n",
       "1           180       79        79             2                43        C   \n",
       "2           360       48        48             2                40        R   \n",
       "3           240       80        80             2                28        P   \n",
       "4           240       71        71             1                49        C   \n",
       "\n",
       "  propState  zipCode  pMIperct  mortInsType  bestCreditScore  \\\n",
       "0        MO      656       0.0            0              698   \n",
       "1        LA      703       0.0            0              665   \n",
       "2        KY      410       0.0            0              771   \n",
       "3        CO      809       0.0            0              698   \n",
       "4        NY      115       0.0            0              604   \n",
       "\n",
       "   worstCreditScore  avgCreditScore  loanAge    mSA  fmacRateMax  fmacRateMin  \\\n",
       "0               698             698       99  44180         6.03         5.83   \n",
       "1               636             650      100  12940         5.72         5.58   \n",
       "2               769             770       95  17140         5.53         5.10   \n",
       "3               657             677       66  17820         8.12         7.96   \n",
       "4               604             604      138  35620         6.34         6.14   \n",
       "\n",
       "   fmacRateAvg  fmacRateVolatility  rateDiffAbove  rateDiffBelow  rateDiffAvg  \\\n",
       "0       5.9325            0.034305         -0.030         -0.170       0.0675   \n",
       "1       5.6350            0.025090         -0.345          0.205      -0.2600   \n",
       "2       5.2860            0.084314         -0.530          0.100      -0.2860   \n",
       "3       8.0275            0.020101         -0.245          0.085      -0.1525   \n",
       "4       6.2640            0.032573         -0.465          0.265      -0.3890   \n",
       "\n",
       "   rateDiffAbovePct  rateDiffBelowPct  rateDiffAvgPct  origYear  origMonth  \\\n",
       "0         -0.004975         -0.029160        0.011378      2003         11   \n",
       "1         -0.060315          0.036738       -0.046140      2004          2   \n",
       "2         -0.095841          0.019608       -0.054105      2008         12   \n",
       "3         -0.030172          0.010678       -0.018997      2000          8   \n",
       "4         -0.073344          0.043160       -0.062101      2003          8   \n",
       "\n",
       "   zeroBalCode  Label   Score  \n",
       "0            1      1  0.6684  \n",
       "1            0      1  0.5075  \n",
       "2            0      0  0.0146  \n",
       "3            0      0  0.0476  \n",
       "4            0      1  0.6378  "
      ]
     },
     "execution_count": 168,
     "metadata": {},
     "output_type": "execute_result"
    }
   ],
   "source": [
    "pd.set_option('max_columns',None)\n",
    "predictions.head()"
   ]
  },
  {
   "cell_type": "code",
   "execution_count": 169,
   "metadata": {},
   "outputs": [],
   "source": [
    "results = predictions[['zeroBalCode','Label','Score']]"
   ]
  },
  {
   "cell_type": "code",
   "execution_count": 170,
   "metadata": {},
   "outputs": [
    {
     "data": {
      "text/plain": [
       "0    17594\n",
       "1     9039\n",
       "Name: Label, dtype: int64"
      ]
     },
     "execution_count": 170,
     "metadata": {},
     "output_type": "execute_result"
    }
   ],
   "source": [
    "predictions.Label.value_counts()"
   ]
  },
  {
   "cell_type": "code",
   "execution_count": 171,
   "metadata": {},
   "outputs": [],
   "source": [
    "results['Confusion'] = results.apply(calc_confusion, axis=1)"
   ]
  },
  {
   "cell_type": "code",
   "execution_count": 172,
   "metadata": {},
   "outputs": [],
   "source": [
    "confusionMatrix = results.Confusion.value_counts().to_dict()"
   ]
  },
  {
   "cell_type": "code",
   "execution_count": 173,
   "metadata": {
    "scrolled": false
   },
   "outputs": [
    {
     "name": "stdout",
     "output_type": "stream",
     "text": [
      "           ##############################\n",
      "           #             #              #\n",
      "         0 #    16256     #     6452      #\n",
      "  True     #             #              #\n",
      "  Class    ##############################\n",
      "           #             #              #\n",
      "         1 #    1338      #     2587      #\n",
      "           #             #              #\n",
      "           ##############################\n",
      "                  0              1        \n",
      "                  Predicted Class           \n"
     ]
    }
   ],
   "source": [
    "cM(confusionMatrix)"
   ]
  },
  {
   "cell_type": "code",
   "execution_count": 174,
   "metadata": {},
   "outputs": [
    {
     "name": "stdout",
     "output_type": "stream",
     "text": [
      "TrueNegative:  61.04%\n",
      "FalseNegative:  5.02%\n",
      "TruePositive:   9.71%\n",
      "FalsePositive: 24.23%\n",
      "#####################################################\n",
      "Accuracy: 71.0%   Recall: 66.0%   Precision: 28.999999999999996%\n",
      "#####################################################\n"
     ]
    }
   ],
   "source": [
    "cMCalc()"
   ]
  },
  {
   "cell_type": "code",
   "execution_count": null,
   "metadata": {},
   "outputs": [],
   "source": []
  },
  {
   "cell_type": "code",
   "execution_count": 175,
   "metadata": {
    "scrolled": false
   },
   "outputs": [
    {
     "data": {
      "text/html": [
       "<div>\n",
       "<style scoped>\n",
       "    .dataframe tbody tr th:only-of-type {\n",
       "        vertical-align: middle;\n",
       "    }\n",
       "\n",
       "    .dataframe tbody tr th {\n",
       "        vertical-align: top;\n",
       "    }\n",
       "\n",
       "    .dataframe thead th {\n",
       "        text-align: right;\n",
       "    }\n",
       "</style>\n",
       "<table border=\"1\" class=\"dataframe\">\n",
       "  <thead>\n",
       "    <tr style=\"text-align: right;\">\n",
       "      <th></th>\n",
       "      <th>Model</th>\n",
       "      <th>Accuracy</th>\n",
       "      <th>AUC</th>\n",
       "      <th>Recall</th>\n",
       "      <th>Prec.</th>\n",
       "      <th>F1</th>\n",
       "      <th>Kappa</th>\n",
       "      <th>MCC</th>\n",
       "    </tr>\n",
       "  </thead>\n",
       "  <tbody>\n",
       "    <tr>\n",
       "      <th>0</th>\n",
       "      <td>Naive Bayes</td>\n",
       "      <td>0.6269</td>\n",
       "      <td>0.7423</td>\n",
       "      <td>0.7649</td>\n",
       "      <td>0.2508</td>\n",
       "      <td>0.3778</td>\n",
       "      <td>0.1992</td>\n",
       "      <td>0.2625</td>\n",
       "    </tr>\n",
       "  </tbody>\n",
       "</table>\n",
       "</div>"
      ],
      "text/plain": [
       "         Model  Accuracy     AUC  Recall   Prec.      F1   Kappa     MCC\n",
       "0  Naive Bayes    0.6269  0.7423  0.7649  0.2508  0.3778  0.1992  0.2625"
      ]
     },
     "metadata": {},
     "output_type": "display_data"
    }
   ],
   "source": [
    "pred_holdout = predict_model(final_nb)"
   ]
  },
  {
   "cell_type": "code",
   "execution_count": 179,
   "metadata": {},
   "outputs": [
    {
     "name": "stdout",
     "output_type": "stream",
     "text": [
      "Transformation Pipeline and Model Succesfully Saved\n"
     ]
    }
   ],
   "source": [
    "save_model(tuned_nb, 'np.tuned10pct_091920')"
   ]
  },
  {
   "cell_type": "code",
   "execution_count": 137,
   "metadata": {
    "scrolled": true
   },
   "outputs": [],
   "source": [
    "#save_model(calibrated_et, 'extraTreesCalibrated2.5OS5050_082220')"
   ]
  }
 ],
 "metadata": {
  "kernelspec": {
   "display_name": "MortgageML",
   "language": "python",
   "name": "mortgageml"
  },
  "language_info": {
   "codemirror_mode": {
    "name": "ipython",
    "version": 3
   },
   "file_extension": ".py",
   "mimetype": "text/x-python",
   "name": "python",
   "nbconvert_exporter": "python",
   "pygments_lexer": "ipython3",
   "version": "3.6.10"
  }
 },
 "nbformat": 4,
 "nbformat_minor": 4
}
