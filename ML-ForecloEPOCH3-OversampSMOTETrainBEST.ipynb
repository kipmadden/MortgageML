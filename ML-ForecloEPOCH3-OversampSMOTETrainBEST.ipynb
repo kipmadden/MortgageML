{
 "cells": [
  {
   "cell_type": "markdown",
   "metadata": {},
   "source": [
    "# ML Foreclosure Binary Classification - EPOCH 3 data\n",
    "## SMOTE Oversampling\n",
    "\n",
    "    target = zeroBalCode (set to object dtype) \n",
    "    Binary classification sets zeroBalCode to either \"0\" or \"1\" for the 7 possible outcomes\n",
    "    \n",
    "    \"0\" = \"Loan Success\"\n",
    "        * 01 = Prepaid or Matured\n",
    "\n",
    "    \"1\" =  \"Loan Failure\" - Most likely loss of money (but not necessarily) one of below conditions:\n",
    "        * 02 = Third Party Sale\n",
    "        * 03 = Short Sale\n",
    "        * 06 = Repurchased\n",
    "        * 09 = Deed-in-Lieu,REO\n",
    "        * 15 = Note Sale\n",
    "        * 16 = Reperforming Loan Sale"
   ]
  },
  {
   "cell_type": "code",
   "execution_count": 34,
   "metadata": {
    "_cell_guid": "79c7e3d0-c299-4dcb-8224-4455121ee9b0",
    "_kg_hide-output": true,
    "_uuid": "d629ff2d2480ee46fbb7e2d37f6b5fab8052498a"
   },
   "outputs": [],
   "source": [
    "import pandas as pd\n",
    "import numpy as np\n",
    "import matplotlib.pyplot as plt\n",
    "from sklearn.model_selection import train_test_split\n",
    "#!pip install pycaret\n",
    "from imblearn.over_sampling import RandomOverSampler\n",
    "from imblearn.over_sampling import SMOTE, ADASYN\n",
    "from pycaret.classification import *\n",
    "#from pycaret.regression import *"
   ]
  },
  {
   "cell_type": "markdown",
   "metadata": {},
   "source": [
    "# Importing the data - only use *.ML.csv files!!!\n",
    "If you have *.MLReady.csv then [click here](#MLReady)"
   ]
  },
  {
   "cell_type": "code",
   "execution_count": 35,
   "metadata": {
    "scrolled": true
   },
   "outputs": [
    {
     "data": {
      "text/html": [
       "<div>\n",
       "<style scoped>\n",
       "    .dataframe tbody tr th:only-of-type {\n",
       "        vertical-align: middle;\n",
       "    }\n",
       "\n",
       "    .dataframe tbody tr th {\n",
       "        vertical-align: top;\n",
       "    }\n",
       "\n",
       "    .dataframe thead th {\n",
       "        text-align: right;\n",
       "    }\n",
       "</style>\n",
       "<table border=\"1\" class=\"dataframe\">\n",
       "  <thead>\n",
       "    <tr style=\"text-align: right;\">\n",
       "      <th></th>\n",
       "      <th>Unnamed: 0</th>\n",
       "      <th>Unnamed: 0.1</th>\n",
       "      <th>id</th>\n",
       "      <th>origChannel</th>\n",
       "      <th>origIntRate</th>\n",
       "      <th>origUPB</th>\n",
       "      <th>origDate</th>\n",
       "      <th>firstPmtDate</th>\n",
       "      <th>origLTV</th>\n",
       "      <th>numBorrowers</th>\n",
       "      <th>...</th>\n",
       "      <th>fmacRateMin</th>\n",
       "      <th>fmacRateAvg</th>\n",
       "      <th>fmacRateVolatility</th>\n",
       "      <th>fredRate</th>\n",
       "      <th>rateDiffAbove</th>\n",
       "      <th>rateDiffBelow</th>\n",
       "      <th>rateDiffAvg</th>\n",
       "      <th>rateDiffAbovePct</th>\n",
       "      <th>rateDiffBelowPct</th>\n",
       "      <th>rateDiffAvgPct</th>\n",
       "    </tr>\n",
       "  </thead>\n",
       "  <tbody>\n",
       "    <tr>\n",
       "      <th>0</th>\n",
       "      <td>1265166</td>\n",
       "      <td>1265166</td>\n",
       "      <td>100495721320</td>\n",
       "      <td>1</td>\n",
       "      <td>4.375</td>\n",
       "      <td>310000</td>\n",
       "      <td>2013-11-01</td>\n",
       "      <td>2014-01-01</td>\n",
       "      <td>64.0</td>\n",
       "      <td>1.0</td>\n",
       "      <td>...</td>\n",
       "      <td>4.16</td>\n",
       "      <td>4.255</td>\n",
       "      <td>0.045673</td>\n",
       "      <td>2.65</td>\n",
       "      <td>0.025</td>\n",
       "      <td>-0.215</td>\n",
       "      <td>0.120</td>\n",
       "      <td>0.005747</td>\n",
       "      <td>-0.051683</td>\n",
       "      <td>0.028202</td>\n",
       "    </tr>\n",
       "    <tr>\n",
       "      <th>1</th>\n",
       "      <td>1265167</td>\n",
       "      <td>1265167</td>\n",
       "      <td>102361386857</td>\n",
       "      <td>1</td>\n",
       "      <td>4.625</td>\n",
       "      <td>142000</td>\n",
       "      <td>2013-11-01</td>\n",
       "      <td>2014-01-01</td>\n",
       "      <td>69.0</td>\n",
       "      <td>1.0</td>\n",
       "      <td>...</td>\n",
       "      <td>4.16</td>\n",
       "      <td>4.255</td>\n",
       "      <td>0.045673</td>\n",
       "      <td>2.65</td>\n",
       "      <td>0.275</td>\n",
       "      <td>-0.465</td>\n",
       "      <td>0.370</td>\n",
       "      <td>0.063218</td>\n",
       "      <td>-0.111779</td>\n",
       "      <td>0.086957</td>\n",
       "    </tr>\n",
       "    <tr>\n",
       "      <th>2</th>\n",
       "      <td>1265168</td>\n",
       "      <td>1265168</td>\n",
       "      <td>102516953457</td>\n",
       "      <td>1</td>\n",
       "      <td>5.000</td>\n",
       "      <td>124000</td>\n",
       "      <td>2013-11-01</td>\n",
       "      <td>2014-01-01</td>\n",
       "      <td>80.0</td>\n",
       "      <td>1.0</td>\n",
       "      <td>...</td>\n",
       "      <td>4.16</td>\n",
       "      <td>4.255</td>\n",
       "      <td>0.045673</td>\n",
       "      <td>2.65</td>\n",
       "      <td>0.650</td>\n",
       "      <td>-0.840</td>\n",
       "      <td>0.745</td>\n",
       "      <td>0.149425</td>\n",
       "      <td>-0.201923</td>\n",
       "      <td>0.175088</td>\n",
       "    </tr>\n",
       "    <tr>\n",
       "      <th>3</th>\n",
       "      <td>1265169</td>\n",
       "      <td>1265169</td>\n",
       "      <td>103711862089</td>\n",
       "      <td>3</td>\n",
       "      <td>4.490</td>\n",
       "      <td>170000</td>\n",
       "      <td>2013-11-01</td>\n",
       "      <td>2014-01-01</td>\n",
       "      <td>54.0</td>\n",
       "      <td>2.0</td>\n",
       "      <td>...</td>\n",
       "      <td>4.16</td>\n",
       "      <td>4.255</td>\n",
       "      <td>0.045673</td>\n",
       "      <td>2.65</td>\n",
       "      <td>0.140</td>\n",
       "      <td>-0.330</td>\n",
       "      <td>0.235</td>\n",
       "      <td>0.032184</td>\n",
       "      <td>-0.079327</td>\n",
       "      <td>0.055229</td>\n",
       "    </tr>\n",
       "    <tr>\n",
       "      <th>4</th>\n",
       "      <td>1265170</td>\n",
       "      <td>1265170</td>\n",
       "      <td>104417831957</td>\n",
       "      <td>3</td>\n",
       "      <td>4.750</td>\n",
       "      <td>100000</td>\n",
       "      <td>2013-11-01</td>\n",
       "      <td>2014-01-01</td>\n",
       "      <td>32.0</td>\n",
       "      <td>1.0</td>\n",
       "      <td>...</td>\n",
       "      <td>4.16</td>\n",
       "      <td>4.255</td>\n",
       "      <td>0.045673</td>\n",
       "      <td>2.65</td>\n",
       "      <td>0.400</td>\n",
       "      <td>-0.590</td>\n",
       "      <td>0.495</td>\n",
       "      <td>0.091954</td>\n",
       "      <td>-0.141827</td>\n",
       "      <td>0.116334</td>\n",
       "    </tr>\n",
       "  </tbody>\n",
       "</table>\n",
       "<p>5 rows × 60 columns</p>\n",
       "</div>"
      ],
      "text/plain": [
       "   Unnamed: 0  Unnamed: 0.1            id  origChannel  origIntRate  origUPB  \\\n",
       "0     1265166       1265166  100495721320            1        4.375   310000   \n",
       "1     1265167       1265167  102361386857            1        4.625   142000   \n",
       "2     1265168       1265168  102516953457            1        5.000   124000   \n",
       "3     1265169       1265169  103711862089            3        4.490   170000   \n",
       "4     1265170       1265170  104417831957            3        4.750   100000   \n",
       "\n",
       "     origDate firstPmtDate  origLTV  numBorrowers  ...  fmacRateMin  \\\n",
       "0  2013-11-01   2014-01-01     64.0           1.0  ...         4.16   \n",
       "1  2013-11-01   2014-01-01     69.0           1.0  ...         4.16   \n",
       "2  2013-11-01   2014-01-01     80.0           1.0  ...         4.16   \n",
       "3  2013-11-01   2014-01-01     54.0           2.0  ...         4.16   \n",
       "4  2013-11-01   2014-01-01     32.0           1.0  ...         4.16   \n",
       "\n",
       "   fmacRateAvg  fmacRateVolatility  fredRate  rateDiffAbove  rateDiffBelow  \\\n",
       "0        4.255            0.045673      2.65          0.025         -0.215   \n",
       "1        4.255            0.045673      2.65          0.275         -0.465   \n",
       "2        4.255            0.045673      2.65          0.650         -0.840   \n",
       "3        4.255            0.045673      2.65          0.140         -0.330   \n",
       "4        4.255            0.045673      2.65          0.400         -0.590   \n",
       "\n",
       "   rateDiffAvg  rateDiffAbovePct  rateDiffBelowPct  rateDiffAvgPct  \n",
       "0        0.120          0.005747         -0.051683        0.028202  \n",
       "1        0.370          0.063218         -0.111779        0.086957  \n",
       "2        0.745          0.149425         -0.201923        0.175088  \n",
       "3        0.235          0.032184         -0.079327        0.055229  \n",
       "4        0.495          0.091954         -0.141827        0.116334  \n",
       "\n",
       "[5 rows x 60 columns]"
      ]
     },
     "execution_count": 35,
     "metadata": {},
     "output_type": "execute_result"
    }
   ],
   "source": [
    "df=pd.read_csv(\"data/FM_Acq_Perf_FMAC_EPOCH3_ML.csv\")\n",
    "df.head()"
   ]
  },
  {
   "cell_type": "code",
   "execution_count": 36,
   "metadata": {},
   "outputs": [
    {
     "name": "stdout",
     "output_type": "stream",
     "text": [
      "<class 'pandas.core.frame.DataFrame'>\n",
      "RangeIndex: 35388 entries, 0 to 35387\n",
      "Data columns (total 60 columns):\n",
      "Unnamed: 0                    35388 non-null int64\n",
      "Unnamed: 0.1                  35388 non-null int64\n",
      "id                            35388 non-null int64\n",
      "origChannel                   35388 non-null int64\n",
      "origIntRate                   35388 non-null float64\n",
      "origUPB                       35388 non-null int64\n",
      "origDate                      35388 non-null object\n",
      "firstPmtDate                  35388 non-null object\n",
      "origLTV                       35388 non-null float64\n",
      "numBorrowers                  35388 non-null float64\n",
      "origDebtIncRatio              35388 non-null float64\n",
      "borrCreditScore               35388 non-null float64\n",
      "loanPurp                      35388 non-null int64\n",
      "zipCode                       35388 non-null int64\n",
      "pMIperct                      35388 non-null float64\n",
      "mortInsType                   35388 non-null float64\n",
      "bestCreditScore               35388 non-null float64\n",
      "worstCreditScore              35388 non-null float64\n",
      "avgCreditScore                35388 non-null float64\n",
      "bankNumber                    35388 non-null int64\n",
      "stateNumber                   35388 non-null int64\n",
      "rptPeriod                     35388 non-null object\n",
      "currIntRate                   35388 non-null float64\n",
      "currUPB                       35387 non-null float64\n",
      "loanAge                       35388 non-null int64\n",
      "monMatur                      35388 non-null float64\n",
      "mSA                           35388 non-null int64\n",
      "zeroBalCode                   35388 non-null float64\n",
      "zeroBalDate                   35388 non-null object\n",
      "lastPdInstDate                1595 non-null object\n",
      "forecloDate                   1510 non-null object\n",
      "dispDate                      1125 non-null object\n",
      "forecloCost                   1124 non-null float64\n",
      "propRepCost                   767 non-null float64\n",
      "recovCosts                    380 non-null float64\n",
      "miscCost                      940 non-null float64\n",
      "holdTaxCost                   886 non-null float64\n",
      "saleProceed                   1085 non-null float64\n",
      "credEnhProceed                297 non-null float64\n",
      "repurchProceed                11 non-null float64\n",
      "otherForecloProceed           535 non-null float64\n",
      "nonIntUPB                     302 non-null float64\n",
      "prinForgivBal                 0 non-null float64\n",
      "repurchMakeWholeProceedFlg    35388 non-null int64\n",
      "forecloPrinWriteOffAmnt       0 non-null float64\n",
      "servActivIndicator            0 non-null float64\n",
      "deliqGood                     35388 non-null int64\n",
      "deliqBad                      35388 non-null int64\n",
      "deliqMax                      35388 non-null float64\n",
      "fmacRateMax                   35388 non-null float64\n",
      "fmacRateMin                   35388 non-null float64\n",
      "fmacRateAvg                   35388 non-null float64\n",
      "fmacRateVolatility            35388 non-null float64\n",
      "fredRate                      35388 non-null float64\n",
      "rateDiffAbove                 35388 non-null float64\n",
      "rateDiffBelow                 35388 non-null float64\n",
      "rateDiffAvg                   35388 non-null float64\n",
      "rateDiffAbovePct              35388 non-null float64\n",
      "rateDiffBelowPct              35388 non-null float64\n",
      "rateDiffAvgPct                35388 non-null float64\n",
      "dtypes: float64(39), int64(14), object(7)\n",
      "memory usage: 16.2+ MB\n"
     ]
    }
   ],
   "source": [
    "df.info()"
   ]
  },
  {
   "cell_type": "markdown",
   "metadata": {},
   "source": [
    "## Remove columns not involved in 'Foreclosure or Not' query"
   ]
  },
  {
   "cell_type": "code",
   "execution_count": 37,
   "metadata": {},
   "outputs": [],
   "source": [
    "df.drop(['Unnamed: 0','Unnamed: 0.1','id','firstPmtDate','rptPeriod','currIntRate','currUPB','loanAge','monMatur',\\\n",
    "         'zeroBalDate','lastPdInstDate','forecloDate','dispDate','forecloCost','propRepCost','recovCosts',\\\n",
    "         'miscCost','holdTaxCost','saleProceed','credEnhProceed','repurchProceed','otherForecloProceed',\\\n",
    "         'nonIntUPB','prinForgivBal','repurchMakeWholeProceedFlg','forecloPrinWriteOffAmnt','servActivIndicator',\\\n",
    "         'deliqGood','deliqBad','deliqMax'],1,inplace=True)"
   ]
  },
  {
   "cell_type": "code",
   "execution_count": 38,
   "metadata": {},
   "outputs": [
    {
     "name": "stdout",
     "output_type": "stream",
     "text": [
      "<class 'pandas.core.frame.DataFrame'>\n",
      "RangeIndex: 35388 entries, 0 to 35387\n",
      "Data columns (total 30 columns):\n",
      "origChannel           35388 non-null int64\n",
      "origIntRate           35388 non-null float64\n",
      "origUPB               35388 non-null int64\n",
      "origDate              35388 non-null object\n",
      "origLTV               35388 non-null float64\n",
      "numBorrowers          35388 non-null float64\n",
      "origDebtIncRatio      35388 non-null float64\n",
      "borrCreditScore       35388 non-null float64\n",
      "loanPurp              35388 non-null int64\n",
      "zipCode               35388 non-null int64\n",
      "pMIperct              35388 non-null float64\n",
      "mortInsType           35388 non-null float64\n",
      "bestCreditScore       35388 non-null float64\n",
      "worstCreditScore      35388 non-null float64\n",
      "avgCreditScore        35388 non-null float64\n",
      "bankNumber            35388 non-null int64\n",
      "stateNumber           35388 non-null int64\n",
      "mSA                   35388 non-null int64\n",
      "zeroBalCode           35388 non-null float64\n",
      "fmacRateMax           35388 non-null float64\n",
      "fmacRateMin           35388 non-null float64\n",
      "fmacRateAvg           35388 non-null float64\n",
      "fmacRateVolatility    35388 non-null float64\n",
      "fredRate              35388 non-null float64\n",
      "rateDiffAbove         35388 non-null float64\n",
      "rateDiffBelow         35388 non-null float64\n",
      "rateDiffAvg           35388 non-null float64\n",
      "rateDiffAbovePct      35388 non-null float64\n",
      "rateDiffBelowPct      35388 non-null float64\n",
      "rateDiffAvgPct        35388 non-null float64\n",
      "dtypes: float64(22), int64(7), object(1)\n",
      "memory usage: 8.1+ MB\n"
     ]
    }
   ],
   "source": [
    "df.info()"
   ]
  },
  {
   "cell_type": "markdown",
   "metadata": {},
   "source": [
    "## Engineer originDate into Date features"
   ]
  },
  {
   "cell_type": "code",
   "execution_count": 39,
   "metadata": {},
   "outputs": [],
   "source": [
    "df['origDate'] = pd.to_datetime(df['origDate'])"
   ]
  },
  {
   "cell_type": "code",
   "execution_count": 40,
   "metadata": {},
   "outputs": [],
   "source": [
    "df['origYear'] = df['origDate'].dt.year\n",
    "df['origMonth'] = df['origDate'].dt.month"
   ]
  },
  {
   "cell_type": "code",
   "execution_count": 41,
   "metadata": {},
   "outputs": [],
   "source": [
    "df.drop(['origDate'],1,inplace=True)"
   ]
  },
  {
   "cell_type": "code",
   "execution_count": 42,
   "metadata": {
    "scrolled": true
   },
   "outputs": [
    {
     "data": {
      "text/html": [
       "<div>\n",
       "<style scoped>\n",
       "    .dataframe tbody tr th:only-of-type {\n",
       "        vertical-align: middle;\n",
       "    }\n",
       "\n",
       "    .dataframe tbody tr th {\n",
       "        vertical-align: top;\n",
       "    }\n",
       "\n",
       "    .dataframe thead th {\n",
       "        text-align: right;\n",
       "    }\n",
       "</style>\n",
       "<table border=\"1\" class=\"dataframe\">\n",
       "  <thead>\n",
       "    <tr style=\"text-align: right;\">\n",
       "      <th></th>\n",
       "      <th>origYear</th>\n",
       "      <th>origMonth</th>\n",
       "    </tr>\n",
       "  </thead>\n",
       "  <tbody>\n",
       "    <tr>\n",
       "      <th>35383</th>\n",
       "      <td>2019</td>\n",
       "      <td>3</td>\n",
       "    </tr>\n",
       "    <tr>\n",
       "      <th>35384</th>\n",
       "      <td>2019</td>\n",
       "      <td>3</td>\n",
       "    </tr>\n",
       "    <tr>\n",
       "      <th>35385</th>\n",
       "      <td>2019</td>\n",
       "      <td>3</td>\n",
       "    </tr>\n",
       "    <tr>\n",
       "      <th>35386</th>\n",
       "      <td>2019</td>\n",
       "      <td>3</td>\n",
       "    </tr>\n",
       "    <tr>\n",
       "      <th>35387</th>\n",
       "      <td>2019</td>\n",
       "      <td>3</td>\n",
       "    </tr>\n",
       "  </tbody>\n",
       "</table>\n",
       "</div>"
      ],
      "text/plain": [
       "       origYear  origMonth\n",
       "35383      2019          3\n",
       "35384      2019          3\n",
       "35385      2019          3\n",
       "35386      2019          3\n",
       "35387      2019          3"
      ]
     },
     "execution_count": 42,
     "metadata": {},
     "output_type": "execute_result"
    }
   ],
   "source": [
    "df[['origYear','origMonth']].tail()"
   ]
  },
  {
   "cell_type": "markdown",
   "metadata": {},
   "source": [
    "# Turn zero Balance Code Into binary \"0\" GOOD and \"1\" BAD"
   ]
  },
  {
   "cell_type": "code",
   "execution_count": 43,
   "metadata": {},
   "outputs": [
    {
     "data": {
      "text/plain": [
       "array([ 1.,  9., 16.,  3.,  2.,  6., 15.])"
      ]
     },
     "execution_count": 43,
     "metadata": {},
     "output_type": "execute_result"
    }
   ],
   "source": [
    "df.zeroBalCode.unique()"
   ]
  },
  {
   "cell_type": "code",
   "execution_count": 44,
   "metadata": {},
   "outputs": [],
   "source": [
    "df['zeroBalCode'] = df.zeroBalCode.replace(1,0)\n",
    "df['zeroBalCode'] = df.zeroBalCode.replace([9,3,16,6,2,15],1)"
   ]
  },
  {
   "cell_type": "code",
   "execution_count": 45,
   "metadata": {},
   "outputs": [
    {
     "data": {
      "text/plain": [
       "array([0., 1.])"
      ]
     },
     "execution_count": 45,
     "metadata": {},
     "output_type": "execute_result"
    }
   ],
   "source": [
    "df.zeroBalCode.unique()"
   ]
  },
  {
   "cell_type": "code",
   "execution_count": 46,
   "metadata": {
    "scrolled": false
   },
   "outputs": [
    {
     "name": "stdout",
     "output_type": "stream",
     "text": [
      "<class 'pandas.core.frame.DataFrame'>\n",
      "RangeIndex: 35388 entries, 0 to 35387\n",
      "Data columns (total 31 columns):\n",
      "origChannel           35388 non-null int64\n",
      "origIntRate           35388 non-null float64\n",
      "origUPB               35388 non-null int64\n",
      "origLTV               35388 non-null float64\n",
      "numBorrowers          35388 non-null float64\n",
      "origDebtIncRatio      35388 non-null float64\n",
      "borrCreditScore       35388 non-null float64\n",
      "loanPurp              35388 non-null int64\n",
      "zipCode               35388 non-null int64\n",
      "pMIperct              35388 non-null float64\n",
      "mortInsType           35388 non-null float64\n",
      "bestCreditScore       35388 non-null float64\n",
      "worstCreditScore      35388 non-null float64\n",
      "avgCreditScore        35388 non-null float64\n",
      "bankNumber            35388 non-null int64\n",
      "stateNumber           35388 non-null int64\n",
      "mSA                   35388 non-null int64\n",
      "zeroBalCode           35388 non-null float64\n",
      "fmacRateMax           35388 non-null float64\n",
      "fmacRateMin           35388 non-null float64\n",
      "fmacRateAvg           35388 non-null float64\n",
      "fmacRateVolatility    35388 non-null float64\n",
      "fredRate              35388 non-null float64\n",
      "rateDiffAbove         35388 non-null float64\n",
      "rateDiffBelow         35388 non-null float64\n",
      "rateDiffAvg           35388 non-null float64\n",
      "rateDiffAbovePct      35388 non-null float64\n",
      "rateDiffBelowPct      35388 non-null float64\n",
      "rateDiffAvgPct        35388 non-null float64\n",
      "origYear              35388 non-null int64\n",
      "origMonth             35388 non-null int64\n",
      "dtypes: float64(22), int64(9)\n",
      "memory usage: 8.4 MB\n"
     ]
    }
   ],
   "source": [
    "#Checking datatypes of individual feature\n",
    "df.info()"
   ]
  },
  {
   "cell_type": "markdown",
   "metadata": {},
   "source": [
    "# Review values for dates and slice (if needed) the timeframe you want"
   ]
  },
  {
   "cell_type": "code",
   "execution_count": 47,
   "metadata": {},
   "outputs": [
    {
     "data": {
      "text/plain": [
       "array([2013, 2014, 2015, 2016, 2017, 2018, 2019], dtype=int64)"
      ]
     },
     "execution_count": 47,
     "metadata": {},
     "output_type": "execute_result"
    }
   ],
   "source": [
    "df.origYear.unique()"
   ]
  },
  {
   "cell_type": "code",
   "execution_count": 48,
   "metadata": {},
   "outputs": [
    {
     "data": {
      "text/plain": [
       "array([11, 12,  1,  2,  3,  5,  4,  6,  7,  9,  8, 10], dtype=int64)"
      ]
     },
     "execution_count": 48,
     "metadata": {},
     "output_type": "execute_result"
    }
   ],
   "source": [
    "df['origMonth'].unique()"
   ]
  },
  {
   "cell_type": "markdown",
   "metadata": {},
   "source": [
    "# Coerce the column dtype (int in this case)"
   ]
  },
  {
   "cell_type": "code",
   "execution_count": 49,
   "metadata": {},
   "outputs": [],
   "source": [
    "df = df.astype({'origLTV':'int','numBorrowers':'int','origDebtIncRatio':'int',\\\n",
    "               'borrCreditScore':'int','mortInsType':'int','bestCreditScore':'int',\\\n",
    "               'worstCreditScore':'int','avgCreditScore':'int','zeroBalCode':'int'})\n",
    "#,'zeroBalCode':'int'"
   ]
  },
  {
   "cell_type": "code",
   "execution_count": 50,
   "metadata": {},
   "outputs": [
    {
     "name": "stdout",
     "output_type": "stream",
     "text": [
      "<class 'pandas.core.frame.DataFrame'>\n",
      "RangeIndex: 35388 entries, 0 to 35387\n",
      "Data columns (total 31 columns):\n",
      "origChannel           35388 non-null int64\n",
      "origIntRate           35388 non-null float64\n",
      "origUPB               35388 non-null int64\n",
      "origLTV               35388 non-null int32\n",
      "numBorrowers          35388 non-null int32\n",
      "origDebtIncRatio      35388 non-null int32\n",
      "borrCreditScore       35388 non-null int32\n",
      "loanPurp              35388 non-null int64\n",
      "zipCode               35388 non-null int64\n",
      "pMIperct              35388 non-null float64\n",
      "mortInsType           35388 non-null int32\n",
      "bestCreditScore       35388 non-null int32\n",
      "worstCreditScore      35388 non-null int32\n",
      "avgCreditScore        35388 non-null int32\n",
      "bankNumber            35388 non-null int64\n",
      "stateNumber           35388 non-null int64\n",
      "mSA                   35388 non-null int64\n",
      "zeroBalCode           35388 non-null int32\n",
      "fmacRateMax           35388 non-null float64\n",
      "fmacRateMin           35388 non-null float64\n",
      "fmacRateAvg           35388 non-null float64\n",
      "fmacRateVolatility    35388 non-null float64\n",
      "fredRate              35388 non-null float64\n",
      "rateDiffAbove         35388 non-null float64\n",
      "rateDiffBelow         35388 non-null float64\n",
      "rateDiffAvg           35388 non-null float64\n",
      "rateDiffAbovePct      35388 non-null float64\n",
      "rateDiffBelowPct      35388 non-null float64\n",
      "rateDiffAvgPct        35388 non-null float64\n",
      "origYear              35388 non-null int64\n",
      "origMonth             35388 non-null int64\n",
      "dtypes: float64(13), int32(9), int64(9)\n",
      "memory usage: 7.2 MB\n"
     ]
    }
   ],
   "source": [
    "df.info()"
   ]
  },
  {
   "cell_type": "markdown",
   "metadata": {},
   "source": [
    "<a id='MLReady'></a>"
   ]
  },
  {
   "cell_type": "markdown",
   "metadata": {},
   "source": [
    "<a id='MLReady'></a>\n",
    "## *MLReady.csv file loading point\n",
    "uncomment one of the boxes below"
   ]
  },
  {
   "cell_type": "code",
   "execution_count": 51,
   "metadata": {},
   "outputs": [],
   "source": [
    "#df.to_csv('D:\\FM_FULL_EPOCH3_MLReady.csv')"
   ]
  },
  {
   "cell_type": "code",
   "execution_count": 52,
   "metadata": {},
   "outputs": [],
   "source": [
    "#df = pd.read_csv('D:\\FM_FULL_EPOCH2_MLReady.csv')"
   ]
  },
  {
   "cell_type": "markdown",
   "metadata": {},
   "source": [
    "# Oversampling (Since we are starting with only 17.2% of our predicted class)"
   ]
  },
  {
   "cell_type": "code",
   "execution_count": 54,
   "metadata": {},
   "outputs": [
    {
     "name": "stdout",
     "output_type": "stream",
     "text": [
      "We have 17.17% Foreclosures in our dataset\n"
     ]
    }
   ],
   "source": [
    "good = df.zeroBalCode.value_counts()[0]\n",
    "bad = df.zeroBalCode.value_counts()[1]\n",
    "perct_bad = round(good/bad,2)\n",
    "print(f'We have {perct_bad}% Foreclosures in our dataset')"
   ]
  },
  {
   "cell_type": "code",
   "execution_count": 55,
   "metadata": {},
   "outputs": [],
   "source": [
    "training_features, test_features, \\\n",
    "training_target, test_target, = train_test_split(\n",
    "    df.drop(['zeroBalCode'], axis=1)\n",
    "    , df['zeroBalCode']\n",
    "    , test_size = .1\n",
    "    , random_state=12\n",
    ")"
   ]
  },
  {
   "cell_type": "code",
   "execution_count": 22,
   "metadata": {},
   "outputs": [],
   "source": [
    "# Further split the training data into training/validation\n",
    "x_train, x_val, y_train, y_val = train_test_split(\n",
    "    training_features\n",
    "    , training_target\n",
    "    , test_size = .1\n",
    "    ,random_state=12\n",
    ")"
   ]
  },
  {
   "cell_type": "code",
   "execution_count": 24,
   "metadata": {},
   "outputs": [],
   "source": [
    "# For the training data, randomly sample \n",
    "ros = RandomOverSampler(sampling_strategy=0.2)\n",
    "x_train_res, y_train_res = ros.fit_sample(x_train, y_train)"
   ]
  },
  {
   "cell_type": "code",
   "execution_count": 57,
   "metadata": {},
   "outputs": [
    {
     "name": "stdout",
     "output_type": "stream",
     "text": [
      "#############################################\n",
      "Before oversampling: \"Closed\" crushes \"Default\" and causes issues:\n",
      "0    30081\n",
      "1     1768\n",
      "Name: zeroBalCode, dtype: int64\n",
      "\n",
      "0    3004\n",
      "1     181\n",
      "Name: zeroBalCode, dtype: int64\n",
      "\n",
      "After oversampling: \"Closed\" and \"Default\" are equal\n",
      "0    27077\n",
      "1     5415\n",
      "Name: zeroBalCode, dtype: int64\n"
     ]
    }
   ],
   "source": [
    "print('#############################################')\n",
    "print('Before oversampling: \"Closed\" crushes \"Default\" and causes issues:')\n",
    "print(training_target.value_counts())\n",
    "print('')\n",
    "print(y_val.value_counts())\n",
    "print('')\n",
    "print('After oversampling: \"Closed\" and \"Default\" are equal')\n",
    "print(y_train_res.value_counts())"
   ]
  },
  {
   "cell_type": "markdown",
   "metadata": {},
   "source": [
    "# Recombine X_train_res, y_train_res so PyCaret can deal with one df"
   ]
  },
  {
   "cell_type": "code",
   "execution_count": 26,
   "metadata": {},
   "outputs": [
    {
     "data": {
      "text/plain": [
       "(32492,)"
      ]
     },
     "execution_count": 26,
     "metadata": {},
     "output_type": "execute_result"
    }
   ],
   "source": [
    "y_train_res.shape"
   ]
  },
  {
   "cell_type": "code",
   "execution_count": 27,
   "metadata": {},
   "outputs": [],
   "source": [
    "df = x_train_res.copy()"
   ]
  },
  {
   "cell_type": "code",
   "execution_count": 28,
   "metadata": {},
   "outputs": [],
   "source": [
    "df['zeroBalCode'] = y_train_res"
   ]
  },
  {
   "cell_type": "code",
   "execution_count": 29,
   "metadata": {},
   "outputs": [
    {
     "data": {
      "text/plain": [
       "(32492, 31)"
      ]
     },
     "execution_count": 29,
     "metadata": {},
     "output_type": "execute_result"
    }
   ],
   "source": [
    "df.shape"
   ]
  },
  {
   "cell_type": "markdown",
   "metadata": {},
   "source": [
    "# Review metrics last time before run (to have record of starting values)"
   ]
  },
  {
   "cell_type": "code",
   "execution_count": 30,
   "metadata": {},
   "outputs": [
    {
     "name": "stdout",
     "output_type": "stream",
     "text": [
      "<class 'pandas.core.frame.DataFrame'>\n",
      "RangeIndex: 32492 entries, 0 to 32491\n",
      "Data columns (total 31 columns):\n",
      "origChannel           32492 non-null int64\n",
      "origIntRate           32492 non-null float64\n",
      "origUPB               32492 non-null int64\n",
      "origLTV               32492 non-null int32\n",
      "numBorrowers          32492 non-null int32\n",
      "origDebtIncRatio      32492 non-null int32\n",
      "borrCreditScore       32492 non-null int32\n",
      "loanPurp              32492 non-null int64\n",
      "zipCode               32492 non-null int64\n",
      "pMIperct              32492 non-null float64\n",
      "mortInsType           32492 non-null int32\n",
      "bestCreditScore       32492 non-null int32\n",
      "worstCreditScore      32492 non-null int32\n",
      "avgCreditScore        32492 non-null int32\n",
      "bankNumber            32492 non-null int64\n",
      "stateNumber           32492 non-null int64\n",
      "mSA                   32492 non-null int64\n",
      "fmacRateMax           32492 non-null float64\n",
      "fmacRateMin           32492 non-null float64\n",
      "fmacRateAvg           32492 non-null float64\n",
      "fmacRateVolatility    32492 non-null float64\n",
      "fredRate              32492 non-null float64\n",
      "rateDiffAbove         32492 non-null float64\n",
      "rateDiffBelow         32492 non-null float64\n",
      "rateDiffAvg           32492 non-null float64\n",
      "rateDiffAbovePct      32492 non-null float64\n",
      "rateDiffBelowPct      32492 non-null float64\n",
      "rateDiffAvgPct        32492 non-null float64\n",
      "origYear              32492 non-null int64\n",
      "origMonth             32492 non-null int64\n",
      "zeroBalCode           32492 non-null int32\n",
      "dtypes: float64(13), int32(9), int64(9)\n",
      "memory usage: 6.6 MB\n"
     ]
    }
   ],
   "source": [
    "df.info()"
   ]
  },
  {
   "cell_type": "code",
   "execution_count": 32,
   "metadata": {},
   "outputs": [
    {
     "data": {
      "text/html": [
       "<div>\n",
       "<style scoped>\n",
       "    .dataframe tbody tr th:only-of-type {\n",
       "        vertical-align: middle;\n",
       "    }\n",
       "\n",
       "    .dataframe tbody tr th {\n",
       "        vertical-align: top;\n",
       "    }\n",
       "\n",
       "    .dataframe thead th {\n",
       "        text-align: right;\n",
       "    }\n",
       "</style>\n",
       "<table border=\"1\" class=\"dataframe\">\n",
       "  <thead>\n",
       "    <tr style=\"text-align: right;\">\n",
       "      <th></th>\n",
       "      <th>origChannel</th>\n",
       "      <th>origIntRate</th>\n",
       "      <th>origUPB</th>\n",
       "      <th>origLTV</th>\n",
       "      <th>numBorrowers</th>\n",
       "      <th>origDebtIncRatio</th>\n",
       "      <th>borrCreditScore</th>\n",
       "      <th>loanPurp</th>\n",
       "      <th>zipCode</th>\n",
       "      <th>pMIperct</th>\n",
       "      <th>mortInsType</th>\n",
       "      <th>bestCreditScore</th>\n",
       "      <th>worstCreditScore</th>\n",
       "      <th>avgCreditScore</th>\n",
       "      <th>bankNumber</th>\n",
       "      <th>stateNumber</th>\n",
       "      <th>mSA</th>\n",
       "      <th>fmacRateMax</th>\n",
       "      <th>fmacRateMin</th>\n",
       "      <th>fmacRateAvg</th>\n",
       "      <th>fmacRateVolatility</th>\n",
       "      <th>fredRate</th>\n",
       "      <th>rateDiffAbove</th>\n",
       "      <th>rateDiffBelow</th>\n",
       "      <th>rateDiffAvg</th>\n",
       "      <th>rateDiffAbovePct</th>\n",
       "      <th>rateDiffBelowPct</th>\n",
       "      <th>rateDiffAvgPct</th>\n",
       "      <th>origYear</th>\n",
       "      <th>origMonth</th>\n",
       "      <th>zeroBalCode</th>\n",
       "    </tr>\n",
       "  </thead>\n",
       "  <tbody>\n",
       "    <tr>\n",
       "      <th>0</th>\n",
       "      <td>2</td>\n",
       "      <td>4.250</td>\n",
       "      <td>206000</td>\n",
       "      <td>80</td>\n",
       "      <td>2</td>\n",
       "      <td>32</td>\n",
       "      <td>751</td>\n",
       "      <td>2</td>\n",
       "      <td>750</td>\n",
       "      <td>0.0</td>\n",
       "      <td>0</td>\n",
       "      <td>751</td>\n",
       "      <td>712</td>\n",
       "      <td>731</td>\n",
       "      <td>54</td>\n",
       "      <td>45</td>\n",
       "      <td>19100</td>\n",
       "      <td>3.91</td>\n",
       "      <td>3.86</td>\n",
       "      <td>3.890</td>\n",
       "      <td>0.012953</td>\n",
       "      <td>2.17</td>\n",
       "      <td>0.340</td>\n",
       "      <td>-0.390</td>\n",
       "      <td>0.360</td>\n",
       "      <td>0.086957</td>\n",
       "      <td>-0.101036</td>\n",
       "      <td>0.092545</td>\n",
       "      <td>2015</td>\n",
       "      <td>9</td>\n",
       "      <td>0</td>\n",
       "    </tr>\n",
       "    <tr>\n",
       "      <th>1</th>\n",
       "      <td>1</td>\n",
       "      <td>4.250</td>\n",
       "      <td>205000</td>\n",
       "      <td>65</td>\n",
       "      <td>1</td>\n",
       "      <td>25</td>\n",
       "      <td>692</td>\n",
       "      <td>1</td>\n",
       "      <td>925</td>\n",
       "      <td>0.0</td>\n",
       "      <td>0</td>\n",
       "      <td>692</td>\n",
       "      <td>692</td>\n",
       "      <td>692</td>\n",
       "      <td>80</td>\n",
       "      <td>4</td>\n",
       "      <td>40140</td>\n",
       "      <td>3.73</td>\n",
       "      <td>3.63</td>\n",
       "      <td>3.670</td>\n",
       "      <td>0.027548</td>\n",
       "      <td>2.17</td>\n",
       "      <td>0.520</td>\n",
       "      <td>-0.620</td>\n",
       "      <td>0.580</td>\n",
       "      <td>0.139410</td>\n",
       "      <td>-0.170799</td>\n",
       "      <td>0.158038</td>\n",
       "      <td>2015</td>\n",
       "      <td>1</td>\n",
       "      <td>0</td>\n",
       "    </tr>\n",
       "    <tr>\n",
       "      <th>2</th>\n",
       "      <td>3</td>\n",
       "      <td>4.125</td>\n",
       "      <td>295000</td>\n",
       "      <td>69</td>\n",
       "      <td>1</td>\n",
       "      <td>44</td>\n",
       "      <td>691</td>\n",
       "      <td>2</td>\n",
       "      <td>946</td>\n",
       "      <td>0.0</td>\n",
       "      <td>0</td>\n",
       "      <td>691</td>\n",
       "      <td>691</td>\n",
       "      <td>691</td>\n",
       "      <td>17</td>\n",
       "      <td>4</td>\n",
       "      <td>41860</td>\n",
       "      <td>3.70</td>\n",
       "      <td>3.65</td>\n",
       "      <td>3.672</td>\n",
       "      <td>0.013699</td>\n",
       "      <td>1.87</td>\n",
       "      <td>0.425</td>\n",
       "      <td>-0.475</td>\n",
       "      <td>0.453</td>\n",
       "      <td>0.114865</td>\n",
       "      <td>-0.130137</td>\n",
       "      <td>0.123366</td>\n",
       "      <td>2015</td>\n",
       "      <td>4</td>\n",
       "      <td>0</td>\n",
       "    </tr>\n",
       "    <tr>\n",
       "      <th>3</th>\n",
       "      <td>1</td>\n",
       "      <td>4.750</td>\n",
       "      <td>475000</td>\n",
       "      <td>76</td>\n",
       "      <td>2</td>\n",
       "      <td>30</td>\n",
       "      <td>638</td>\n",
       "      <td>2</td>\n",
       "      <td>906</td>\n",
       "      <td>0.0</td>\n",
       "      <td>0</td>\n",
       "      <td>638</td>\n",
       "      <td>637</td>\n",
       "      <td>637</td>\n",
       "      <td>39</td>\n",
       "      <td>4</td>\n",
       "      <td>31080</td>\n",
       "      <td>3.48</td>\n",
       "      <td>3.41</td>\n",
       "      <td>3.440</td>\n",
       "      <td>0.020528</td>\n",
       "      <td>1.46</td>\n",
       "      <td>1.270</td>\n",
       "      <td>-1.340</td>\n",
       "      <td>1.310</td>\n",
       "      <td>0.364943</td>\n",
       "      <td>-0.392962</td>\n",
       "      <td>0.380814</td>\n",
       "      <td>2016</td>\n",
       "      <td>7</td>\n",
       "      <td>0</td>\n",
       "    </tr>\n",
       "    <tr>\n",
       "      <th>4</th>\n",
       "      <td>1</td>\n",
       "      <td>4.500</td>\n",
       "      <td>85000</td>\n",
       "      <td>46</td>\n",
       "      <td>2</td>\n",
       "      <td>35</td>\n",
       "      <td>637</td>\n",
       "      <td>1</td>\n",
       "      <td>570</td>\n",
       "      <td>0.0</td>\n",
       "      <td>0</td>\n",
       "      <td>639</td>\n",
       "      <td>637</td>\n",
       "      <td>638</td>\n",
       "      <td>66</td>\n",
       "      <td>43</td>\n",
       "      <td>0</td>\n",
       "      <td>4.09</td>\n",
       "      <td>3.98</td>\n",
       "      <td>4.046</td>\n",
       "      <td>0.027638</td>\n",
       "      <td>2.43</td>\n",
       "      <td>0.410</td>\n",
       "      <td>-0.520</td>\n",
       "      <td>0.454</td>\n",
       "      <td>0.100244</td>\n",
       "      <td>-0.130653</td>\n",
       "      <td>0.112210</td>\n",
       "      <td>2015</td>\n",
       "      <td>7</td>\n",
       "      <td>0</td>\n",
       "    </tr>\n",
       "  </tbody>\n",
       "</table>\n",
       "</div>"
      ],
      "text/plain": [
       "   origChannel  origIntRate  origUPB  origLTV  numBorrowers  origDebtIncRatio  \\\n",
       "0            2        4.250   206000       80             2                32   \n",
       "1            1        4.250   205000       65             1                25   \n",
       "2            3        4.125   295000       69             1                44   \n",
       "3            1        4.750   475000       76             2                30   \n",
       "4            1        4.500    85000       46             2                35   \n",
       "\n",
       "   borrCreditScore  loanPurp  zipCode  pMIperct  mortInsType  bestCreditScore  \\\n",
       "0              751         2      750       0.0            0              751   \n",
       "1              692         1      925       0.0            0              692   \n",
       "2              691         2      946       0.0            0              691   \n",
       "3              638         2      906       0.0            0              638   \n",
       "4              637         1      570       0.0            0              639   \n",
       "\n",
       "   worstCreditScore  avgCreditScore  bankNumber  stateNumber    mSA  \\\n",
       "0               712             731          54           45  19100   \n",
       "1               692             692          80            4  40140   \n",
       "2               691             691          17            4  41860   \n",
       "3               637             637          39            4  31080   \n",
       "4               637             638          66           43      0   \n",
       "\n",
       "   fmacRateMax  fmacRateMin  fmacRateAvg  fmacRateVolatility  fredRate  \\\n",
       "0         3.91         3.86        3.890            0.012953      2.17   \n",
       "1         3.73         3.63        3.670            0.027548      2.17   \n",
       "2         3.70         3.65        3.672            0.013699      1.87   \n",
       "3         3.48         3.41        3.440            0.020528      1.46   \n",
       "4         4.09         3.98        4.046            0.027638      2.43   \n",
       "\n",
       "   rateDiffAbove  rateDiffBelow  rateDiffAvg  rateDiffAbovePct  \\\n",
       "0          0.340         -0.390        0.360          0.086957   \n",
       "1          0.520         -0.620        0.580          0.139410   \n",
       "2          0.425         -0.475        0.453          0.114865   \n",
       "3          1.270         -1.340        1.310          0.364943   \n",
       "4          0.410         -0.520        0.454          0.100244   \n",
       "\n",
       "   rateDiffBelowPct  rateDiffAvgPct  origYear  origMonth  zeroBalCode  \n",
       "0         -0.101036        0.092545      2015          9            0  \n",
       "1         -0.170799        0.158038      2015          1            0  \n",
       "2         -0.130137        0.123366      2015          4            0  \n",
       "3         -0.392962        0.380814      2016          7            0  \n",
       "4         -0.130653        0.112210      2015          7            0  "
      ]
     },
     "execution_count": 32,
     "metadata": {},
     "output_type": "execute_result"
    }
   ],
   "source": [
    "pd.set_option('max_columns',None)\n",
    "df.head()"
   ]
  },
  {
   "cell_type": "markdown",
   "metadata": {},
   "source": [
    "# Pycaret - Setup with categorical definition"
   ]
  },
  {
   "cell_type": "markdown",
   "metadata": {},
   "source": [
    "### Use complex setup "
   ]
  },
  {
   "cell_type": "code",
   "execution_count": 33,
   "metadata": {},
   "outputs": [
    {
     "name": "stdout",
     "output_type": "stream",
     "text": [
      " \n",
      "Setup Succesfully Completed!\n"
     ]
    },
    {
     "data": {
      "text/html": [
       "<style  type=\"text/css\" >\n",
       "    #T_1e9074d2_9e6e_11ea_88fc_24ee9a7c8c6erow15_col1 {\n",
       "            background-color:  lightgreen;\n",
       "        }    #T_1e9074d2_9e6e_11ea_88fc_24ee9a7c8c6erow22_col1 {\n",
       "            background-color:  lightgreen;\n",
       "        }    #T_1e9074d2_9e6e_11ea_88fc_24ee9a7c8c6erow25_col1 {\n",
       "            background-color:  lightgreen;\n",
       "        }    #T_1e9074d2_9e6e_11ea_88fc_24ee9a7c8c6erow26_col1 {\n",
       "            background-color:  lightgreen;\n",
       "        }    #T_1e9074d2_9e6e_11ea_88fc_24ee9a7c8c6erow37_col1 {\n",
       "            background-color:  lightgreen;\n",
       "        }</style><table id=\"T_1e9074d2_9e6e_11ea_88fc_24ee9a7c8c6e\" ><thead>    <tr>        <th class=\"blank level0\" ></th>        <th class=\"col_heading level0 col0\" >Description</th>        <th class=\"col_heading level0 col1\" >Value</th>    </tr></thead><tbody>\n",
       "                <tr>\n",
       "                        <th id=\"T_1e9074d2_9e6e_11ea_88fc_24ee9a7c8c6elevel0_row0\" class=\"row_heading level0 row0\" >0</th>\n",
       "                        <td id=\"T_1e9074d2_9e6e_11ea_88fc_24ee9a7c8c6erow0_col0\" class=\"data row0 col0\" >session_id</td>\n",
       "                        <td id=\"T_1e9074d2_9e6e_11ea_88fc_24ee9a7c8c6erow0_col1\" class=\"data row0 col1\" >1155</td>\n",
       "            </tr>\n",
       "            <tr>\n",
       "                        <th id=\"T_1e9074d2_9e6e_11ea_88fc_24ee9a7c8c6elevel0_row1\" class=\"row_heading level0 row1\" >1</th>\n",
       "                        <td id=\"T_1e9074d2_9e6e_11ea_88fc_24ee9a7c8c6erow1_col0\" class=\"data row1 col0\" >Target Type</td>\n",
       "                        <td id=\"T_1e9074d2_9e6e_11ea_88fc_24ee9a7c8c6erow1_col1\" class=\"data row1 col1\" >Binary</td>\n",
       "            </tr>\n",
       "            <tr>\n",
       "                        <th id=\"T_1e9074d2_9e6e_11ea_88fc_24ee9a7c8c6elevel0_row2\" class=\"row_heading level0 row2\" >2</th>\n",
       "                        <td id=\"T_1e9074d2_9e6e_11ea_88fc_24ee9a7c8c6erow2_col0\" class=\"data row2 col0\" >Label Encoded</td>\n",
       "                        <td id=\"T_1e9074d2_9e6e_11ea_88fc_24ee9a7c8c6erow2_col1\" class=\"data row2 col1\" >None</td>\n",
       "            </tr>\n",
       "            <tr>\n",
       "                        <th id=\"T_1e9074d2_9e6e_11ea_88fc_24ee9a7c8c6elevel0_row3\" class=\"row_heading level0 row3\" >3</th>\n",
       "                        <td id=\"T_1e9074d2_9e6e_11ea_88fc_24ee9a7c8c6erow3_col0\" class=\"data row3 col0\" >Original Data</td>\n",
       "                        <td id=\"T_1e9074d2_9e6e_11ea_88fc_24ee9a7c8c6erow3_col1\" class=\"data row3 col1\" >(32492, 31)</td>\n",
       "            </tr>\n",
       "            <tr>\n",
       "                        <th id=\"T_1e9074d2_9e6e_11ea_88fc_24ee9a7c8c6elevel0_row4\" class=\"row_heading level0 row4\" >4</th>\n",
       "                        <td id=\"T_1e9074d2_9e6e_11ea_88fc_24ee9a7c8c6erow4_col0\" class=\"data row4 col0\" >Missing Values </td>\n",
       "                        <td id=\"T_1e9074d2_9e6e_11ea_88fc_24ee9a7c8c6erow4_col1\" class=\"data row4 col1\" >False</td>\n",
       "            </tr>\n",
       "            <tr>\n",
       "                        <th id=\"T_1e9074d2_9e6e_11ea_88fc_24ee9a7c8c6elevel0_row5\" class=\"row_heading level0 row5\" >5</th>\n",
       "                        <td id=\"T_1e9074d2_9e6e_11ea_88fc_24ee9a7c8c6erow5_col0\" class=\"data row5 col0\" >Numeric Features </td>\n",
       "                        <td id=\"T_1e9074d2_9e6e_11ea_88fc_24ee9a7c8c6erow5_col1\" class=\"data row5 col1\" >21</td>\n",
       "            </tr>\n",
       "            <tr>\n",
       "                        <th id=\"T_1e9074d2_9e6e_11ea_88fc_24ee9a7c8c6elevel0_row6\" class=\"row_heading level0 row6\" >6</th>\n",
       "                        <td id=\"T_1e9074d2_9e6e_11ea_88fc_24ee9a7c8c6erow6_col0\" class=\"data row6 col0\" >Categorical Features </td>\n",
       "                        <td id=\"T_1e9074d2_9e6e_11ea_88fc_24ee9a7c8c6erow6_col1\" class=\"data row6 col1\" >9</td>\n",
       "            </tr>\n",
       "            <tr>\n",
       "                        <th id=\"T_1e9074d2_9e6e_11ea_88fc_24ee9a7c8c6elevel0_row7\" class=\"row_heading level0 row7\" >7</th>\n",
       "                        <td id=\"T_1e9074d2_9e6e_11ea_88fc_24ee9a7c8c6erow7_col0\" class=\"data row7 col0\" >Ordinal Features </td>\n",
       "                        <td id=\"T_1e9074d2_9e6e_11ea_88fc_24ee9a7c8c6erow7_col1\" class=\"data row7 col1\" >False</td>\n",
       "            </tr>\n",
       "            <tr>\n",
       "                        <th id=\"T_1e9074d2_9e6e_11ea_88fc_24ee9a7c8c6elevel0_row8\" class=\"row_heading level0 row8\" >8</th>\n",
       "                        <td id=\"T_1e9074d2_9e6e_11ea_88fc_24ee9a7c8c6erow8_col0\" class=\"data row8 col0\" >High Cardinality Features </td>\n",
       "                        <td id=\"T_1e9074d2_9e6e_11ea_88fc_24ee9a7c8c6erow8_col1\" class=\"data row8 col1\" >False</td>\n",
       "            </tr>\n",
       "            <tr>\n",
       "                        <th id=\"T_1e9074d2_9e6e_11ea_88fc_24ee9a7c8c6elevel0_row9\" class=\"row_heading level0 row9\" >9</th>\n",
       "                        <td id=\"T_1e9074d2_9e6e_11ea_88fc_24ee9a7c8c6erow9_col0\" class=\"data row9 col0\" >High Cardinality Method </td>\n",
       "                        <td id=\"T_1e9074d2_9e6e_11ea_88fc_24ee9a7c8c6erow9_col1\" class=\"data row9 col1\" >None</td>\n",
       "            </tr>\n",
       "            <tr>\n",
       "                        <th id=\"T_1e9074d2_9e6e_11ea_88fc_24ee9a7c8c6elevel0_row10\" class=\"row_heading level0 row10\" >10</th>\n",
       "                        <td id=\"T_1e9074d2_9e6e_11ea_88fc_24ee9a7c8c6erow10_col0\" class=\"data row10 col0\" >Sampled Data</td>\n",
       "                        <td id=\"T_1e9074d2_9e6e_11ea_88fc_24ee9a7c8c6erow10_col1\" class=\"data row10 col1\" >(12346, 31)</td>\n",
       "            </tr>\n",
       "            <tr>\n",
       "                        <th id=\"T_1e9074d2_9e6e_11ea_88fc_24ee9a7c8c6elevel0_row11\" class=\"row_heading level0 row11\" >11</th>\n",
       "                        <td id=\"T_1e9074d2_9e6e_11ea_88fc_24ee9a7c8c6erow11_col0\" class=\"data row11 col0\" >Transformed Train Set</td>\n",
       "                        <td id=\"T_1e9074d2_9e6e_11ea_88fc_24ee9a7c8c6erow11_col1\" class=\"data row11 col1\" >(8642, 1120)</td>\n",
       "            </tr>\n",
       "            <tr>\n",
       "                        <th id=\"T_1e9074d2_9e6e_11ea_88fc_24ee9a7c8c6elevel0_row12\" class=\"row_heading level0 row12\" >12</th>\n",
       "                        <td id=\"T_1e9074d2_9e6e_11ea_88fc_24ee9a7c8c6erow12_col0\" class=\"data row12 col0\" >Transformed Test Set</td>\n",
       "                        <td id=\"T_1e9074d2_9e6e_11ea_88fc_24ee9a7c8c6erow12_col1\" class=\"data row12 col1\" >(3704, 1120)</td>\n",
       "            </tr>\n",
       "            <tr>\n",
       "                        <th id=\"T_1e9074d2_9e6e_11ea_88fc_24ee9a7c8c6elevel0_row13\" class=\"row_heading level0 row13\" >13</th>\n",
       "                        <td id=\"T_1e9074d2_9e6e_11ea_88fc_24ee9a7c8c6erow13_col0\" class=\"data row13 col0\" >Numeric Imputer </td>\n",
       "                        <td id=\"T_1e9074d2_9e6e_11ea_88fc_24ee9a7c8c6erow13_col1\" class=\"data row13 col1\" >mean</td>\n",
       "            </tr>\n",
       "            <tr>\n",
       "                        <th id=\"T_1e9074d2_9e6e_11ea_88fc_24ee9a7c8c6elevel0_row14\" class=\"row_heading level0 row14\" >14</th>\n",
       "                        <td id=\"T_1e9074d2_9e6e_11ea_88fc_24ee9a7c8c6erow14_col0\" class=\"data row14 col0\" >Categorical Imputer </td>\n",
       "                        <td id=\"T_1e9074d2_9e6e_11ea_88fc_24ee9a7c8c6erow14_col1\" class=\"data row14 col1\" >constant</td>\n",
       "            </tr>\n",
       "            <tr>\n",
       "                        <th id=\"T_1e9074d2_9e6e_11ea_88fc_24ee9a7c8c6elevel0_row15\" class=\"row_heading level0 row15\" >15</th>\n",
       "                        <td id=\"T_1e9074d2_9e6e_11ea_88fc_24ee9a7c8c6erow15_col0\" class=\"data row15 col0\" >Normalize </td>\n",
       "                        <td id=\"T_1e9074d2_9e6e_11ea_88fc_24ee9a7c8c6erow15_col1\" class=\"data row15 col1\" >True</td>\n",
       "            </tr>\n",
       "            <tr>\n",
       "                        <th id=\"T_1e9074d2_9e6e_11ea_88fc_24ee9a7c8c6elevel0_row16\" class=\"row_heading level0 row16\" >16</th>\n",
       "                        <td id=\"T_1e9074d2_9e6e_11ea_88fc_24ee9a7c8c6erow16_col0\" class=\"data row16 col0\" >Normalize Method </td>\n",
       "                        <td id=\"T_1e9074d2_9e6e_11ea_88fc_24ee9a7c8c6erow16_col1\" class=\"data row16 col1\" >zscore</td>\n",
       "            </tr>\n",
       "            <tr>\n",
       "                        <th id=\"T_1e9074d2_9e6e_11ea_88fc_24ee9a7c8c6elevel0_row17\" class=\"row_heading level0 row17\" >17</th>\n",
       "                        <td id=\"T_1e9074d2_9e6e_11ea_88fc_24ee9a7c8c6erow17_col0\" class=\"data row17 col0\" >Transformation </td>\n",
       "                        <td id=\"T_1e9074d2_9e6e_11ea_88fc_24ee9a7c8c6erow17_col1\" class=\"data row17 col1\" >False</td>\n",
       "            </tr>\n",
       "            <tr>\n",
       "                        <th id=\"T_1e9074d2_9e6e_11ea_88fc_24ee9a7c8c6elevel0_row18\" class=\"row_heading level0 row18\" >18</th>\n",
       "                        <td id=\"T_1e9074d2_9e6e_11ea_88fc_24ee9a7c8c6erow18_col0\" class=\"data row18 col0\" >Transformation Method </td>\n",
       "                        <td id=\"T_1e9074d2_9e6e_11ea_88fc_24ee9a7c8c6erow18_col1\" class=\"data row18 col1\" >None</td>\n",
       "            </tr>\n",
       "            <tr>\n",
       "                        <th id=\"T_1e9074d2_9e6e_11ea_88fc_24ee9a7c8c6elevel0_row19\" class=\"row_heading level0 row19\" >19</th>\n",
       "                        <td id=\"T_1e9074d2_9e6e_11ea_88fc_24ee9a7c8c6erow19_col0\" class=\"data row19 col0\" >PCA </td>\n",
       "                        <td id=\"T_1e9074d2_9e6e_11ea_88fc_24ee9a7c8c6erow19_col1\" class=\"data row19 col1\" >False</td>\n",
       "            </tr>\n",
       "            <tr>\n",
       "                        <th id=\"T_1e9074d2_9e6e_11ea_88fc_24ee9a7c8c6elevel0_row20\" class=\"row_heading level0 row20\" >20</th>\n",
       "                        <td id=\"T_1e9074d2_9e6e_11ea_88fc_24ee9a7c8c6erow20_col0\" class=\"data row20 col0\" >PCA Method </td>\n",
       "                        <td id=\"T_1e9074d2_9e6e_11ea_88fc_24ee9a7c8c6erow20_col1\" class=\"data row20 col1\" >None</td>\n",
       "            </tr>\n",
       "            <tr>\n",
       "                        <th id=\"T_1e9074d2_9e6e_11ea_88fc_24ee9a7c8c6elevel0_row21\" class=\"row_heading level0 row21\" >21</th>\n",
       "                        <td id=\"T_1e9074d2_9e6e_11ea_88fc_24ee9a7c8c6erow21_col0\" class=\"data row21 col0\" >PCA Components </td>\n",
       "                        <td id=\"T_1e9074d2_9e6e_11ea_88fc_24ee9a7c8c6erow21_col1\" class=\"data row21 col1\" >None</td>\n",
       "            </tr>\n",
       "            <tr>\n",
       "                        <th id=\"T_1e9074d2_9e6e_11ea_88fc_24ee9a7c8c6elevel0_row22\" class=\"row_heading level0 row22\" >22</th>\n",
       "                        <td id=\"T_1e9074d2_9e6e_11ea_88fc_24ee9a7c8c6erow22_col0\" class=\"data row22 col0\" >Ignore Low Variance </td>\n",
       "                        <td id=\"T_1e9074d2_9e6e_11ea_88fc_24ee9a7c8c6erow22_col1\" class=\"data row22 col1\" >True</td>\n",
       "            </tr>\n",
       "            <tr>\n",
       "                        <th id=\"T_1e9074d2_9e6e_11ea_88fc_24ee9a7c8c6elevel0_row23\" class=\"row_heading level0 row23\" >23</th>\n",
       "                        <td id=\"T_1e9074d2_9e6e_11ea_88fc_24ee9a7c8c6erow23_col0\" class=\"data row23 col0\" >Combine Rare Levels </td>\n",
       "                        <td id=\"T_1e9074d2_9e6e_11ea_88fc_24ee9a7c8c6erow23_col1\" class=\"data row23 col1\" >False</td>\n",
       "            </tr>\n",
       "            <tr>\n",
       "                        <th id=\"T_1e9074d2_9e6e_11ea_88fc_24ee9a7c8c6elevel0_row24\" class=\"row_heading level0 row24\" >24</th>\n",
       "                        <td id=\"T_1e9074d2_9e6e_11ea_88fc_24ee9a7c8c6erow24_col0\" class=\"data row24 col0\" >Rare Level Threshold </td>\n",
       "                        <td id=\"T_1e9074d2_9e6e_11ea_88fc_24ee9a7c8c6erow24_col1\" class=\"data row24 col1\" >None</td>\n",
       "            </tr>\n",
       "            <tr>\n",
       "                        <th id=\"T_1e9074d2_9e6e_11ea_88fc_24ee9a7c8c6elevel0_row25\" class=\"row_heading level0 row25\" >25</th>\n",
       "                        <td id=\"T_1e9074d2_9e6e_11ea_88fc_24ee9a7c8c6erow25_col0\" class=\"data row25 col0\" >Numeric Binning </td>\n",
       "                        <td id=\"T_1e9074d2_9e6e_11ea_88fc_24ee9a7c8c6erow25_col1\" class=\"data row25 col1\" >True</td>\n",
       "            </tr>\n",
       "            <tr>\n",
       "                        <th id=\"T_1e9074d2_9e6e_11ea_88fc_24ee9a7c8c6elevel0_row26\" class=\"row_heading level0 row26\" >26</th>\n",
       "                        <td id=\"T_1e9074d2_9e6e_11ea_88fc_24ee9a7c8c6erow26_col0\" class=\"data row26 col0\" >Remove Outliers </td>\n",
       "                        <td id=\"T_1e9074d2_9e6e_11ea_88fc_24ee9a7c8c6erow26_col1\" class=\"data row26 col1\" >True</td>\n",
       "            </tr>\n",
       "            <tr>\n",
       "                        <th id=\"T_1e9074d2_9e6e_11ea_88fc_24ee9a7c8c6elevel0_row27\" class=\"row_heading level0 row27\" >27</th>\n",
       "                        <td id=\"T_1e9074d2_9e6e_11ea_88fc_24ee9a7c8c6erow27_col0\" class=\"data row27 col0\" >Outliers Threshold </td>\n",
       "                        <td id=\"T_1e9074d2_9e6e_11ea_88fc_24ee9a7c8c6erow27_col1\" class=\"data row27 col1\" >0.05</td>\n",
       "            </tr>\n",
       "            <tr>\n",
       "                        <th id=\"T_1e9074d2_9e6e_11ea_88fc_24ee9a7c8c6elevel0_row28\" class=\"row_heading level0 row28\" >28</th>\n",
       "                        <td id=\"T_1e9074d2_9e6e_11ea_88fc_24ee9a7c8c6erow28_col0\" class=\"data row28 col0\" >Remove Multicollinearity </td>\n",
       "                        <td id=\"T_1e9074d2_9e6e_11ea_88fc_24ee9a7c8c6erow28_col1\" class=\"data row28 col1\" >False</td>\n",
       "            </tr>\n",
       "            <tr>\n",
       "                        <th id=\"T_1e9074d2_9e6e_11ea_88fc_24ee9a7c8c6elevel0_row29\" class=\"row_heading level0 row29\" >29</th>\n",
       "                        <td id=\"T_1e9074d2_9e6e_11ea_88fc_24ee9a7c8c6erow29_col0\" class=\"data row29 col0\" >Multicollinearity Threshold </td>\n",
       "                        <td id=\"T_1e9074d2_9e6e_11ea_88fc_24ee9a7c8c6erow29_col1\" class=\"data row29 col1\" >None</td>\n",
       "            </tr>\n",
       "            <tr>\n",
       "                        <th id=\"T_1e9074d2_9e6e_11ea_88fc_24ee9a7c8c6elevel0_row30\" class=\"row_heading level0 row30\" >30</th>\n",
       "                        <td id=\"T_1e9074d2_9e6e_11ea_88fc_24ee9a7c8c6erow30_col0\" class=\"data row30 col0\" >Clustering </td>\n",
       "                        <td id=\"T_1e9074d2_9e6e_11ea_88fc_24ee9a7c8c6erow30_col1\" class=\"data row30 col1\" >False</td>\n",
       "            </tr>\n",
       "            <tr>\n",
       "                        <th id=\"T_1e9074d2_9e6e_11ea_88fc_24ee9a7c8c6elevel0_row31\" class=\"row_heading level0 row31\" >31</th>\n",
       "                        <td id=\"T_1e9074d2_9e6e_11ea_88fc_24ee9a7c8c6erow31_col0\" class=\"data row31 col0\" >Clustering Iteration </td>\n",
       "                        <td id=\"T_1e9074d2_9e6e_11ea_88fc_24ee9a7c8c6erow31_col1\" class=\"data row31 col1\" >None</td>\n",
       "            </tr>\n",
       "            <tr>\n",
       "                        <th id=\"T_1e9074d2_9e6e_11ea_88fc_24ee9a7c8c6elevel0_row32\" class=\"row_heading level0 row32\" >32</th>\n",
       "                        <td id=\"T_1e9074d2_9e6e_11ea_88fc_24ee9a7c8c6erow32_col0\" class=\"data row32 col0\" >Polynomial Features </td>\n",
       "                        <td id=\"T_1e9074d2_9e6e_11ea_88fc_24ee9a7c8c6erow32_col1\" class=\"data row32 col1\" >False</td>\n",
       "            </tr>\n",
       "            <tr>\n",
       "                        <th id=\"T_1e9074d2_9e6e_11ea_88fc_24ee9a7c8c6elevel0_row33\" class=\"row_heading level0 row33\" >33</th>\n",
       "                        <td id=\"T_1e9074d2_9e6e_11ea_88fc_24ee9a7c8c6erow33_col0\" class=\"data row33 col0\" >Polynomial Degree </td>\n",
       "                        <td id=\"T_1e9074d2_9e6e_11ea_88fc_24ee9a7c8c6erow33_col1\" class=\"data row33 col1\" >None</td>\n",
       "            </tr>\n",
       "            <tr>\n",
       "                        <th id=\"T_1e9074d2_9e6e_11ea_88fc_24ee9a7c8c6elevel0_row34\" class=\"row_heading level0 row34\" >34</th>\n",
       "                        <td id=\"T_1e9074d2_9e6e_11ea_88fc_24ee9a7c8c6erow34_col0\" class=\"data row34 col0\" >Trignometry Features </td>\n",
       "                        <td id=\"T_1e9074d2_9e6e_11ea_88fc_24ee9a7c8c6erow34_col1\" class=\"data row34 col1\" >False</td>\n",
       "            </tr>\n",
       "            <tr>\n",
       "                        <th id=\"T_1e9074d2_9e6e_11ea_88fc_24ee9a7c8c6elevel0_row35\" class=\"row_heading level0 row35\" >35</th>\n",
       "                        <td id=\"T_1e9074d2_9e6e_11ea_88fc_24ee9a7c8c6erow35_col0\" class=\"data row35 col0\" >Polynomial Threshold </td>\n",
       "                        <td id=\"T_1e9074d2_9e6e_11ea_88fc_24ee9a7c8c6erow35_col1\" class=\"data row35 col1\" >None</td>\n",
       "            </tr>\n",
       "            <tr>\n",
       "                        <th id=\"T_1e9074d2_9e6e_11ea_88fc_24ee9a7c8c6elevel0_row36\" class=\"row_heading level0 row36\" >36</th>\n",
       "                        <td id=\"T_1e9074d2_9e6e_11ea_88fc_24ee9a7c8c6erow36_col0\" class=\"data row36 col0\" >Group Features </td>\n",
       "                        <td id=\"T_1e9074d2_9e6e_11ea_88fc_24ee9a7c8c6erow36_col1\" class=\"data row36 col1\" >False</td>\n",
       "            </tr>\n",
       "            <tr>\n",
       "                        <th id=\"T_1e9074d2_9e6e_11ea_88fc_24ee9a7c8c6elevel0_row37\" class=\"row_heading level0 row37\" >37</th>\n",
       "                        <td id=\"T_1e9074d2_9e6e_11ea_88fc_24ee9a7c8c6erow37_col0\" class=\"data row37 col0\" >Feature Selection </td>\n",
       "                        <td id=\"T_1e9074d2_9e6e_11ea_88fc_24ee9a7c8c6erow37_col1\" class=\"data row37 col1\" >True</td>\n",
       "            </tr>\n",
       "            <tr>\n",
       "                        <th id=\"T_1e9074d2_9e6e_11ea_88fc_24ee9a7c8c6elevel0_row38\" class=\"row_heading level0 row38\" >38</th>\n",
       "                        <td id=\"T_1e9074d2_9e6e_11ea_88fc_24ee9a7c8c6erow38_col0\" class=\"data row38 col0\" >Features Selection Threshold </td>\n",
       "                        <td id=\"T_1e9074d2_9e6e_11ea_88fc_24ee9a7c8c6erow38_col1\" class=\"data row38 col1\" >0.8</td>\n",
       "            </tr>\n",
       "            <tr>\n",
       "                        <th id=\"T_1e9074d2_9e6e_11ea_88fc_24ee9a7c8c6elevel0_row39\" class=\"row_heading level0 row39\" >39</th>\n",
       "                        <td id=\"T_1e9074d2_9e6e_11ea_88fc_24ee9a7c8c6erow39_col0\" class=\"data row39 col0\" >Feature Interaction </td>\n",
       "                        <td id=\"T_1e9074d2_9e6e_11ea_88fc_24ee9a7c8c6erow39_col1\" class=\"data row39 col1\" >False</td>\n",
       "            </tr>\n",
       "            <tr>\n",
       "                        <th id=\"T_1e9074d2_9e6e_11ea_88fc_24ee9a7c8c6elevel0_row40\" class=\"row_heading level0 row40\" >40</th>\n",
       "                        <td id=\"T_1e9074d2_9e6e_11ea_88fc_24ee9a7c8c6erow40_col0\" class=\"data row40 col0\" >Feature Ratio </td>\n",
       "                        <td id=\"T_1e9074d2_9e6e_11ea_88fc_24ee9a7c8c6erow40_col1\" class=\"data row40 col1\" >False</td>\n",
       "            </tr>\n",
       "            <tr>\n",
       "                        <th id=\"T_1e9074d2_9e6e_11ea_88fc_24ee9a7c8c6elevel0_row41\" class=\"row_heading level0 row41\" >41</th>\n",
       "                        <td id=\"T_1e9074d2_9e6e_11ea_88fc_24ee9a7c8c6erow41_col0\" class=\"data row41 col0\" >Interaction Threshold </td>\n",
       "                        <td id=\"T_1e9074d2_9e6e_11ea_88fc_24ee9a7c8c6erow41_col1\" class=\"data row41 col1\" >None</td>\n",
       "            </tr>\n",
       "    </tbody></table>"
      ],
      "text/plain": [
       "<pandas.io.formats.style.Styler at 0x1b77c4317b8>"
      ]
     },
     "metadata": {},
     "output_type": "display_data"
    }
   ],
   "source": [
    "model_setup = setup(\n",
    "    df\n",
    "    , target = 'zeroBalCode' # PyCaret will list this as \"Label\"\n",
    "    , pca = False \n",
    "    , ignore_low_variance = True # Variance is calculated using the ratio of unique values to the number of samples, and the ratio of the most common value to the frequency of the second most common value.\n",
    "    , normalize = True\n",
    "    , ignore_features = None\n",
    "    , handle_unknown_categorical = True\n",
    "    , remove_outliers = True # outliers from the training data are removed using PCA linear dimensionality reduction using the Singular Value Decomposition technique.\n",
    "    , bin_numeric_features = [\n",
    "            'origIntRate'\n",
    "            , 'origUPB'\n",
    "            , 'origLTV'\n",
    "            , 'origDebtIncRatio'\n",
    "            , 'bestCreditScore'\n",
    "            , 'avgCreditScore'\n",
    "            , 'worstCreditScore'\n",
    "        ] # Set to True to bin numerics using K Means\n",
    "    , feature_selection = True\n",
    "    , silent = True\n",
    "    , profile = False\n",
    "    , categorical_features = [\n",
    "            'origChannel'\n",
    "            , 'numBorrowers'\n",
    "            , 'loanPurp'\n",
    "            , 'zipCode'\n",
    "            , 'bankNumber'\n",
    "            , 'stateNumber'\n",
    "            , 'origYear'\n",
    "            , 'origMonth'\n",
    "            , 'mSA'\n",
    "        ]\n",
    "        , numeric_features = [\n",
    "            'origIntRate'\n",
    "            , 'origUPB'\n",
    "            , 'origLTV'\n",
    "            , 'pMIperct'\n",
    "            , 'origDebtIncRatio'\n",
    "            , 'worstCreditScore'\n",
    "            , 'bestCreditScore'\n",
    "            , 'avgCreditScore'\n",
    "            , 'rateDiffAbove'\n",
    "            , 'rateDiffBelow'\n",
    "            , 'rateDiffAvg'\n",
    "            , 'rateDiffAbovePct'\n",
    "            , 'rateDiffBelowPct'\n",
    "            , 'rateDiffAvgPct'\n",
    "        ]\n",
    ")\n"
   ]
  },
  {
   "cell_type": "markdown",
   "metadata": {},
   "source": [
    "## Compare Models with no blacklist exclusions"
   ]
  },
  {
   "cell_type": "code",
   "execution_count": 32,
   "metadata": {
    "scrolled": false
   },
   "outputs": [
    {
     "data": {
      "text/html": [
       "<style  type=\"text/css\" >\n",
       "    #T_267ea6b4_9e61_11ea_ad23_24ee9a7c8c6e th {\n",
       "          text-align: left;\n",
       "    }    #T_267ea6b4_9e61_11ea_ad23_24ee9a7c8c6erow0_col0 {\n",
       "            text-align:  left;\n",
       "        }    #T_267ea6b4_9e61_11ea_ad23_24ee9a7c8c6erow0_col1 {\n",
       "            background-color:  yellow;\n",
       "            text-align:  left;\n",
       "        }    #T_267ea6b4_9e61_11ea_ad23_24ee9a7c8c6erow0_col2 {\n",
       "            background-color:  yellow;\n",
       "            text-align:  left;\n",
       "        }    #T_267ea6b4_9e61_11ea_ad23_24ee9a7c8c6erow0_col3 {\n",
       "            background-color:  yellow;\n",
       "            text-align:  left;\n",
       "        }    #T_267ea6b4_9e61_11ea_ad23_24ee9a7c8c6erow0_col4 {\n",
       "            background-color:  yellow;\n",
       "            text-align:  left;\n",
       "        }    #T_267ea6b4_9e61_11ea_ad23_24ee9a7c8c6erow0_col5 {\n",
       "            background-color:  yellow;\n",
       "            text-align:  left;\n",
       "        }    #T_267ea6b4_9e61_11ea_ad23_24ee9a7c8c6erow0_col6 {\n",
       "            background-color:  yellow;\n",
       "            text-align:  left;\n",
       "        }    #T_267ea6b4_9e61_11ea_ad23_24ee9a7c8c6erow1_col0 {\n",
       "            text-align:  left;\n",
       "        }    #T_267ea6b4_9e61_11ea_ad23_24ee9a7c8c6erow1_col1 {\n",
       "            : ;\n",
       "            text-align:  left;\n",
       "        }    #T_267ea6b4_9e61_11ea_ad23_24ee9a7c8c6erow1_col2 {\n",
       "            background-color:  yellow;\n",
       "            text-align:  left;\n",
       "        }    #T_267ea6b4_9e61_11ea_ad23_24ee9a7c8c6erow1_col3 {\n",
       "            : ;\n",
       "            text-align:  left;\n",
       "        }    #T_267ea6b4_9e61_11ea_ad23_24ee9a7c8c6erow1_col4 {\n",
       "            : ;\n",
       "            text-align:  left;\n",
       "        }    #T_267ea6b4_9e61_11ea_ad23_24ee9a7c8c6erow1_col5 {\n",
       "            : ;\n",
       "            text-align:  left;\n",
       "        }    #T_267ea6b4_9e61_11ea_ad23_24ee9a7c8c6erow1_col6 {\n",
       "            : ;\n",
       "            text-align:  left;\n",
       "        }    #T_267ea6b4_9e61_11ea_ad23_24ee9a7c8c6erow2_col0 {\n",
       "            text-align:  left;\n",
       "        }    #T_267ea6b4_9e61_11ea_ad23_24ee9a7c8c6erow2_col1 {\n",
       "            : ;\n",
       "            text-align:  left;\n",
       "        }    #T_267ea6b4_9e61_11ea_ad23_24ee9a7c8c6erow2_col2 {\n",
       "            : ;\n",
       "            text-align:  left;\n",
       "        }    #T_267ea6b4_9e61_11ea_ad23_24ee9a7c8c6erow2_col3 {\n",
       "            background-color:  yellow;\n",
       "            text-align:  left;\n",
       "        }    #T_267ea6b4_9e61_11ea_ad23_24ee9a7c8c6erow2_col4 {\n",
       "            : ;\n",
       "            text-align:  left;\n",
       "        }    #T_267ea6b4_9e61_11ea_ad23_24ee9a7c8c6erow2_col5 {\n",
       "            : ;\n",
       "            text-align:  left;\n",
       "        }    #T_267ea6b4_9e61_11ea_ad23_24ee9a7c8c6erow2_col6 {\n",
       "            : ;\n",
       "            text-align:  left;\n",
       "        }    #T_267ea6b4_9e61_11ea_ad23_24ee9a7c8c6erow3_col0 {\n",
       "            text-align:  left;\n",
       "        }    #T_267ea6b4_9e61_11ea_ad23_24ee9a7c8c6erow3_col1 {\n",
       "            : ;\n",
       "            text-align:  left;\n",
       "        }    #T_267ea6b4_9e61_11ea_ad23_24ee9a7c8c6erow3_col2 {\n",
       "            : ;\n",
       "            text-align:  left;\n",
       "        }    #T_267ea6b4_9e61_11ea_ad23_24ee9a7c8c6erow3_col3 {\n",
       "            : ;\n",
       "            text-align:  left;\n",
       "        }    #T_267ea6b4_9e61_11ea_ad23_24ee9a7c8c6erow3_col4 {\n",
       "            : ;\n",
       "            text-align:  left;\n",
       "        }    #T_267ea6b4_9e61_11ea_ad23_24ee9a7c8c6erow3_col5 {\n",
       "            : ;\n",
       "            text-align:  left;\n",
       "        }    #T_267ea6b4_9e61_11ea_ad23_24ee9a7c8c6erow3_col6 {\n",
       "            : ;\n",
       "            text-align:  left;\n",
       "        }    #T_267ea6b4_9e61_11ea_ad23_24ee9a7c8c6erow4_col0 {\n",
       "            text-align:  left;\n",
       "        }    #T_267ea6b4_9e61_11ea_ad23_24ee9a7c8c6erow4_col1 {\n",
       "            : ;\n",
       "            text-align:  left;\n",
       "        }    #T_267ea6b4_9e61_11ea_ad23_24ee9a7c8c6erow4_col2 {\n",
       "            : ;\n",
       "            text-align:  left;\n",
       "        }    #T_267ea6b4_9e61_11ea_ad23_24ee9a7c8c6erow4_col3 {\n",
       "            : ;\n",
       "            text-align:  left;\n",
       "        }    #T_267ea6b4_9e61_11ea_ad23_24ee9a7c8c6erow4_col4 {\n",
       "            : ;\n",
       "            text-align:  left;\n",
       "        }    #T_267ea6b4_9e61_11ea_ad23_24ee9a7c8c6erow4_col5 {\n",
       "            : ;\n",
       "            text-align:  left;\n",
       "        }    #T_267ea6b4_9e61_11ea_ad23_24ee9a7c8c6erow4_col6 {\n",
       "            : ;\n",
       "            text-align:  left;\n",
       "        }    #T_267ea6b4_9e61_11ea_ad23_24ee9a7c8c6erow5_col0 {\n",
       "            text-align:  left;\n",
       "        }    #T_267ea6b4_9e61_11ea_ad23_24ee9a7c8c6erow5_col1 {\n",
       "            : ;\n",
       "            text-align:  left;\n",
       "        }    #T_267ea6b4_9e61_11ea_ad23_24ee9a7c8c6erow5_col2 {\n",
       "            : ;\n",
       "            text-align:  left;\n",
       "        }    #T_267ea6b4_9e61_11ea_ad23_24ee9a7c8c6erow5_col3 {\n",
       "            : ;\n",
       "            text-align:  left;\n",
       "        }    #T_267ea6b4_9e61_11ea_ad23_24ee9a7c8c6erow5_col4 {\n",
       "            : ;\n",
       "            text-align:  left;\n",
       "        }    #T_267ea6b4_9e61_11ea_ad23_24ee9a7c8c6erow5_col5 {\n",
       "            : ;\n",
       "            text-align:  left;\n",
       "        }    #T_267ea6b4_9e61_11ea_ad23_24ee9a7c8c6erow5_col6 {\n",
       "            : ;\n",
       "            text-align:  left;\n",
       "        }    #T_267ea6b4_9e61_11ea_ad23_24ee9a7c8c6erow6_col0 {\n",
       "            text-align:  left;\n",
       "        }    #T_267ea6b4_9e61_11ea_ad23_24ee9a7c8c6erow6_col1 {\n",
       "            : ;\n",
       "            text-align:  left;\n",
       "        }    #T_267ea6b4_9e61_11ea_ad23_24ee9a7c8c6erow6_col2 {\n",
       "            : ;\n",
       "            text-align:  left;\n",
       "        }    #T_267ea6b4_9e61_11ea_ad23_24ee9a7c8c6erow6_col3 {\n",
       "            : ;\n",
       "            text-align:  left;\n",
       "        }    #T_267ea6b4_9e61_11ea_ad23_24ee9a7c8c6erow6_col4 {\n",
       "            : ;\n",
       "            text-align:  left;\n",
       "        }    #T_267ea6b4_9e61_11ea_ad23_24ee9a7c8c6erow6_col5 {\n",
       "            : ;\n",
       "            text-align:  left;\n",
       "        }    #T_267ea6b4_9e61_11ea_ad23_24ee9a7c8c6erow6_col6 {\n",
       "            : ;\n",
       "            text-align:  left;\n",
       "        }    #T_267ea6b4_9e61_11ea_ad23_24ee9a7c8c6erow7_col0 {\n",
       "            text-align:  left;\n",
       "        }    #T_267ea6b4_9e61_11ea_ad23_24ee9a7c8c6erow7_col1 {\n",
       "            : ;\n",
       "            text-align:  left;\n",
       "        }    #T_267ea6b4_9e61_11ea_ad23_24ee9a7c8c6erow7_col2 {\n",
       "            : ;\n",
       "            text-align:  left;\n",
       "        }    #T_267ea6b4_9e61_11ea_ad23_24ee9a7c8c6erow7_col3 {\n",
       "            : ;\n",
       "            text-align:  left;\n",
       "        }    #T_267ea6b4_9e61_11ea_ad23_24ee9a7c8c6erow7_col4 {\n",
       "            : ;\n",
       "            text-align:  left;\n",
       "        }    #T_267ea6b4_9e61_11ea_ad23_24ee9a7c8c6erow7_col5 {\n",
       "            : ;\n",
       "            text-align:  left;\n",
       "        }    #T_267ea6b4_9e61_11ea_ad23_24ee9a7c8c6erow7_col6 {\n",
       "            : ;\n",
       "            text-align:  left;\n",
       "        }    #T_267ea6b4_9e61_11ea_ad23_24ee9a7c8c6erow8_col0 {\n",
       "            text-align:  left;\n",
       "        }    #T_267ea6b4_9e61_11ea_ad23_24ee9a7c8c6erow8_col1 {\n",
       "            : ;\n",
       "            text-align:  left;\n",
       "        }    #T_267ea6b4_9e61_11ea_ad23_24ee9a7c8c6erow8_col2 {\n",
       "            : ;\n",
       "            text-align:  left;\n",
       "        }    #T_267ea6b4_9e61_11ea_ad23_24ee9a7c8c6erow8_col3 {\n",
       "            : ;\n",
       "            text-align:  left;\n",
       "        }    #T_267ea6b4_9e61_11ea_ad23_24ee9a7c8c6erow8_col4 {\n",
       "            : ;\n",
       "            text-align:  left;\n",
       "        }    #T_267ea6b4_9e61_11ea_ad23_24ee9a7c8c6erow8_col5 {\n",
       "            : ;\n",
       "            text-align:  left;\n",
       "        }    #T_267ea6b4_9e61_11ea_ad23_24ee9a7c8c6erow8_col6 {\n",
       "            : ;\n",
       "            text-align:  left;\n",
       "        }    #T_267ea6b4_9e61_11ea_ad23_24ee9a7c8c6erow9_col0 {\n",
       "            text-align:  left;\n",
       "        }    #T_267ea6b4_9e61_11ea_ad23_24ee9a7c8c6erow9_col1 {\n",
       "            : ;\n",
       "            text-align:  left;\n",
       "        }    #T_267ea6b4_9e61_11ea_ad23_24ee9a7c8c6erow9_col2 {\n",
       "            : ;\n",
       "            text-align:  left;\n",
       "        }    #T_267ea6b4_9e61_11ea_ad23_24ee9a7c8c6erow9_col3 {\n",
       "            : ;\n",
       "            text-align:  left;\n",
       "        }    #T_267ea6b4_9e61_11ea_ad23_24ee9a7c8c6erow9_col4 {\n",
       "            : ;\n",
       "            text-align:  left;\n",
       "        }    #T_267ea6b4_9e61_11ea_ad23_24ee9a7c8c6erow9_col5 {\n",
       "            : ;\n",
       "            text-align:  left;\n",
       "        }    #T_267ea6b4_9e61_11ea_ad23_24ee9a7c8c6erow9_col6 {\n",
       "            : ;\n",
       "            text-align:  left;\n",
       "        }    #T_267ea6b4_9e61_11ea_ad23_24ee9a7c8c6erow10_col0 {\n",
       "            text-align:  left;\n",
       "        }    #T_267ea6b4_9e61_11ea_ad23_24ee9a7c8c6erow10_col1 {\n",
       "            : ;\n",
       "            text-align:  left;\n",
       "        }    #T_267ea6b4_9e61_11ea_ad23_24ee9a7c8c6erow10_col2 {\n",
       "            : ;\n",
       "            text-align:  left;\n",
       "        }    #T_267ea6b4_9e61_11ea_ad23_24ee9a7c8c6erow10_col3 {\n",
       "            : ;\n",
       "            text-align:  left;\n",
       "        }    #T_267ea6b4_9e61_11ea_ad23_24ee9a7c8c6erow10_col4 {\n",
       "            : ;\n",
       "            text-align:  left;\n",
       "        }    #T_267ea6b4_9e61_11ea_ad23_24ee9a7c8c6erow10_col5 {\n",
       "            : ;\n",
       "            text-align:  left;\n",
       "        }    #T_267ea6b4_9e61_11ea_ad23_24ee9a7c8c6erow10_col6 {\n",
       "            : ;\n",
       "            text-align:  left;\n",
       "        }    #T_267ea6b4_9e61_11ea_ad23_24ee9a7c8c6erow11_col0 {\n",
       "            text-align:  left;\n",
       "        }    #T_267ea6b4_9e61_11ea_ad23_24ee9a7c8c6erow11_col1 {\n",
       "            : ;\n",
       "            text-align:  left;\n",
       "        }    #T_267ea6b4_9e61_11ea_ad23_24ee9a7c8c6erow11_col2 {\n",
       "            : ;\n",
       "            text-align:  left;\n",
       "        }    #T_267ea6b4_9e61_11ea_ad23_24ee9a7c8c6erow11_col3 {\n",
       "            : ;\n",
       "            text-align:  left;\n",
       "        }    #T_267ea6b4_9e61_11ea_ad23_24ee9a7c8c6erow11_col4 {\n",
       "            : ;\n",
       "            text-align:  left;\n",
       "        }    #T_267ea6b4_9e61_11ea_ad23_24ee9a7c8c6erow11_col5 {\n",
       "            : ;\n",
       "            text-align:  left;\n",
       "        }    #T_267ea6b4_9e61_11ea_ad23_24ee9a7c8c6erow11_col6 {\n",
       "            : ;\n",
       "            text-align:  left;\n",
       "        }    #T_267ea6b4_9e61_11ea_ad23_24ee9a7c8c6erow12_col0 {\n",
       "            text-align:  left;\n",
       "        }    #T_267ea6b4_9e61_11ea_ad23_24ee9a7c8c6erow12_col1 {\n",
       "            : ;\n",
       "            text-align:  left;\n",
       "        }    #T_267ea6b4_9e61_11ea_ad23_24ee9a7c8c6erow12_col2 {\n",
       "            : ;\n",
       "            text-align:  left;\n",
       "        }    #T_267ea6b4_9e61_11ea_ad23_24ee9a7c8c6erow12_col3 {\n",
       "            : ;\n",
       "            text-align:  left;\n",
       "        }    #T_267ea6b4_9e61_11ea_ad23_24ee9a7c8c6erow12_col4 {\n",
       "            : ;\n",
       "            text-align:  left;\n",
       "        }    #T_267ea6b4_9e61_11ea_ad23_24ee9a7c8c6erow12_col5 {\n",
       "            : ;\n",
       "            text-align:  left;\n",
       "        }    #T_267ea6b4_9e61_11ea_ad23_24ee9a7c8c6erow12_col6 {\n",
       "            : ;\n",
       "            text-align:  left;\n",
       "        }    #T_267ea6b4_9e61_11ea_ad23_24ee9a7c8c6erow13_col0 {\n",
       "            text-align:  left;\n",
       "        }    #T_267ea6b4_9e61_11ea_ad23_24ee9a7c8c6erow13_col1 {\n",
       "            : ;\n",
       "            text-align:  left;\n",
       "        }    #T_267ea6b4_9e61_11ea_ad23_24ee9a7c8c6erow13_col2 {\n",
       "            : ;\n",
       "            text-align:  left;\n",
       "        }    #T_267ea6b4_9e61_11ea_ad23_24ee9a7c8c6erow13_col3 {\n",
       "            : ;\n",
       "            text-align:  left;\n",
       "        }    #T_267ea6b4_9e61_11ea_ad23_24ee9a7c8c6erow13_col4 {\n",
       "            : ;\n",
       "            text-align:  left;\n",
       "        }    #T_267ea6b4_9e61_11ea_ad23_24ee9a7c8c6erow13_col5 {\n",
       "            : ;\n",
       "            text-align:  left;\n",
       "        }    #T_267ea6b4_9e61_11ea_ad23_24ee9a7c8c6erow13_col6 {\n",
       "            : ;\n",
       "            text-align:  left;\n",
       "        }    #T_267ea6b4_9e61_11ea_ad23_24ee9a7c8c6erow14_col0 {\n",
       "            text-align:  left;\n",
       "        }    #T_267ea6b4_9e61_11ea_ad23_24ee9a7c8c6erow14_col1 {\n",
       "            : ;\n",
       "            text-align:  left;\n",
       "        }    #T_267ea6b4_9e61_11ea_ad23_24ee9a7c8c6erow14_col2 {\n",
       "            : ;\n",
       "            text-align:  left;\n",
       "        }    #T_267ea6b4_9e61_11ea_ad23_24ee9a7c8c6erow14_col3 {\n",
       "            background-color:  yellow;\n",
       "            text-align:  left;\n",
       "        }    #T_267ea6b4_9e61_11ea_ad23_24ee9a7c8c6erow14_col4 {\n",
       "            : ;\n",
       "            text-align:  left;\n",
       "        }    #T_267ea6b4_9e61_11ea_ad23_24ee9a7c8c6erow14_col5 {\n",
       "            : ;\n",
       "            text-align:  left;\n",
       "        }    #T_267ea6b4_9e61_11ea_ad23_24ee9a7c8c6erow14_col6 {\n",
       "            : ;\n",
       "            text-align:  left;\n",
       "        }</style><table id=\"T_267ea6b4_9e61_11ea_ad23_24ee9a7c8c6e\" ><thead>    <tr>        <th class=\"blank level0\" ></th>        <th class=\"col_heading level0 col0\" >Model</th>        <th class=\"col_heading level0 col1\" >Accuracy</th>        <th class=\"col_heading level0 col2\" >AUC</th>        <th class=\"col_heading level0 col3\" >Recall</th>        <th class=\"col_heading level0 col4\" >Prec.</th>        <th class=\"col_heading level0 col5\" >F1</th>        <th class=\"col_heading level0 col6\" >Kappa</th>    </tr></thead><tbody>\n",
       "                <tr>\n",
       "                        <th id=\"T_267ea6b4_9e61_11ea_ad23_24ee9a7c8c6elevel0_row0\" class=\"row_heading level0 row0\" >0</th>\n",
       "                        <td id=\"T_267ea6b4_9e61_11ea_ad23_24ee9a7c8c6erow0_col0\" class=\"data row0 col0\" >Extra Trees Classifier</td>\n",
       "                        <td id=\"T_267ea6b4_9e61_11ea_ad23_24ee9a7c8c6erow0_col1\" class=\"data row0 col1\" >0.9986</td>\n",
       "                        <td id=\"T_267ea6b4_9e61_11ea_ad23_24ee9a7c8c6erow0_col2\" class=\"data row0 col2\" >1</td>\n",
       "                        <td id=\"T_267ea6b4_9e61_11ea_ad23_24ee9a7c8c6erow0_col3\" class=\"data row0 col3\" >1</td>\n",
       "                        <td id=\"T_267ea6b4_9e61_11ea_ad23_24ee9a7c8c6erow0_col4\" class=\"data row0 col4\" >0.9972</td>\n",
       "                        <td id=\"T_267ea6b4_9e61_11ea_ad23_24ee9a7c8c6erow0_col5\" class=\"data row0 col5\" >0.9986</td>\n",
       "                        <td id=\"T_267ea6b4_9e61_11ea_ad23_24ee9a7c8c6erow0_col6\" class=\"data row0 col6\" >0.9972</td>\n",
       "            </tr>\n",
       "            <tr>\n",
       "                        <th id=\"T_267ea6b4_9e61_11ea_ad23_24ee9a7c8c6elevel0_row1\" class=\"row_heading level0 row1\" >1</th>\n",
       "                        <td id=\"T_267ea6b4_9e61_11ea_ad23_24ee9a7c8c6erow1_col0\" class=\"data row1 col0\" >Random Forest Classifier</td>\n",
       "                        <td id=\"T_267ea6b4_9e61_11ea_ad23_24ee9a7c8c6erow1_col1\" class=\"data row1 col1\" >0.9916</td>\n",
       "                        <td id=\"T_267ea6b4_9e61_11ea_ad23_24ee9a7c8c6erow1_col2\" class=\"data row1 col2\" >1</td>\n",
       "                        <td id=\"T_267ea6b4_9e61_11ea_ad23_24ee9a7c8c6erow1_col3\" class=\"data row1 col3\" >0.9998</td>\n",
       "                        <td id=\"T_267ea6b4_9e61_11ea_ad23_24ee9a7c8c6erow1_col4\" class=\"data row1 col4\" >0.9841</td>\n",
       "                        <td id=\"T_267ea6b4_9e61_11ea_ad23_24ee9a7c8c6erow1_col5\" class=\"data row1 col5\" >0.9919</td>\n",
       "                        <td id=\"T_267ea6b4_9e61_11ea_ad23_24ee9a7c8c6erow1_col6\" class=\"data row1 col6\" >0.9833</td>\n",
       "            </tr>\n",
       "            <tr>\n",
       "                        <th id=\"T_267ea6b4_9e61_11ea_ad23_24ee9a7c8c6elevel0_row2\" class=\"row_heading level0 row2\" >2</th>\n",
       "                        <td id=\"T_267ea6b4_9e61_11ea_ad23_24ee9a7c8c6erow2_col0\" class=\"data row2 col0\" >Decision Tree Classifier</td>\n",
       "                        <td id=\"T_267ea6b4_9e61_11ea_ad23_24ee9a7c8c6erow2_col1\" class=\"data row2 col1\" >0.9506</td>\n",
       "                        <td id=\"T_267ea6b4_9e61_11ea_ad23_24ee9a7c8c6erow2_col2\" class=\"data row2 col2\" >0.9495</td>\n",
       "                        <td id=\"T_267ea6b4_9e61_11ea_ad23_24ee9a7c8c6erow2_col3\" class=\"data row2 col3\" >1</td>\n",
       "                        <td id=\"T_267ea6b4_9e61_11ea_ad23_24ee9a7c8c6erow2_col4\" class=\"data row2 col4\" >0.9118</td>\n",
       "                        <td id=\"T_267ea6b4_9e61_11ea_ad23_24ee9a7c8c6erow2_col5\" class=\"data row2 col5\" >0.9539</td>\n",
       "                        <td id=\"T_267ea6b4_9e61_11ea_ad23_24ee9a7c8c6erow2_col6\" class=\"data row2 col6\" >0.9009</td>\n",
       "            </tr>\n",
       "            <tr>\n",
       "                        <th id=\"T_267ea6b4_9e61_11ea_ad23_24ee9a7c8c6elevel0_row3\" class=\"row_heading level0 row3\" >3</th>\n",
       "                        <td id=\"T_267ea6b4_9e61_11ea_ad23_24ee9a7c8c6erow3_col0\" class=\"data row3 col0\" >CatBoost Classifier</td>\n",
       "                        <td id=\"T_267ea6b4_9e61_11ea_ad23_24ee9a7c8c6erow3_col1\" class=\"data row3 col1\" >0.9144</td>\n",
       "                        <td id=\"T_267ea6b4_9e61_11ea_ad23_24ee9a7c8c6erow3_col2\" class=\"data row3 col2\" >0.9689</td>\n",
       "                        <td id=\"T_267ea6b4_9e61_11ea_ad23_24ee9a7c8c6erow3_col3\" class=\"data row3 col3\" >0.9734</td>\n",
       "                        <td id=\"T_267ea6b4_9e61_11ea_ad23_24ee9a7c8c6erow3_col4\" class=\"data row3 col4\" >0.8735</td>\n",
       "                        <td id=\"T_267ea6b4_9e61_11ea_ad23_24ee9a7c8c6erow3_col5\" class=\"data row3 col5\" >0.9207</td>\n",
       "                        <td id=\"T_267ea6b4_9e61_11ea_ad23_24ee9a7c8c6erow3_col6\" class=\"data row3 col6\" >0.8283</td>\n",
       "            </tr>\n",
       "            <tr>\n",
       "                        <th id=\"T_267ea6b4_9e61_11ea_ad23_24ee9a7c8c6elevel0_row4\" class=\"row_heading level0 row4\" >4</th>\n",
       "                        <td id=\"T_267ea6b4_9e61_11ea_ad23_24ee9a7c8c6erow4_col0\" class=\"data row4 col0\" >K Neighbors Classifier</td>\n",
       "                        <td id=\"T_267ea6b4_9e61_11ea_ad23_24ee9a7c8c6erow4_col1\" class=\"data row4 col1\" >0.8985</td>\n",
       "                        <td id=\"T_267ea6b4_9e61_11ea_ad23_24ee9a7c8c6erow4_col2\" class=\"data row4 col2\" >0.9621</td>\n",
       "                        <td id=\"T_267ea6b4_9e61_11ea_ad23_24ee9a7c8c6erow4_col3\" class=\"data row4 col3\" >0.9996</td>\n",
       "                        <td id=\"T_267ea6b4_9e61_11ea_ad23_24ee9a7c8c6erow4_col4\" class=\"data row4 col4\" >0.8344</td>\n",
       "                        <td id=\"T_267ea6b4_9e61_11ea_ad23_24ee9a7c8c6erow4_col5\" class=\"data row4 col5\" >0.9096</td>\n",
       "                        <td id=\"T_267ea6b4_9e61_11ea_ad23_24ee9a7c8c6erow4_col6\" class=\"data row4 col6\" >0.796</td>\n",
       "            </tr>\n",
       "            <tr>\n",
       "                        <th id=\"T_267ea6b4_9e61_11ea_ad23_24ee9a7c8c6elevel0_row5\" class=\"row_heading level0 row5\" >5</th>\n",
       "                        <td id=\"T_267ea6b4_9e61_11ea_ad23_24ee9a7c8c6erow5_col0\" class=\"data row5 col0\" >Light Gradient Boosting Machine</td>\n",
       "                        <td id=\"T_267ea6b4_9e61_11ea_ad23_24ee9a7c8c6erow5_col1\" class=\"data row5 col1\" >0.8685</td>\n",
       "                        <td id=\"T_267ea6b4_9e61_11ea_ad23_24ee9a7c8c6erow5_col2\" class=\"data row5 col2\" >0.9379</td>\n",
       "                        <td id=\"T_267ea6b4_9e61_11ea_ad23_24ee9a7c8c6erow5_col3\" class=\"data row5 col3\" >0.9294</td>\n",
       "                        <td id=\"T_267ea6b4_9e61_11ea_ad23_24ee9a7c8c6erow5_col4\" class=\"data row5 col4\" >0.8326</td>\n",
       "                        <td id=\"T_267ea6b4_9e61_11ea_ad23_24ee9a7c8c6erow5_col5\" class=\"data row5 col5\" >0.8783</td>\n",
       "                        <td id=\"T_267ea6b4_9e61_11ea_ad23_24ee9a7c8c6erow5_col6\" class=\"data row5 col6\" >0.7362</td>\n",
       "            </tr>\n",
       "            <tr>\n",
       "                        <th id=\"T_267ea6b4_9e61_11ea_ad23_24ee9a7c8c6elevel0_row6\" class=\"row_heading level0 row6\" >6</th>\n",
       "                        <td id=\"T_267ea6b4_9e61_11ea_ad23_24ee9a7c8c6erow6_col0\" class=\"data row6 col0\" >SVM - Linear Kernel</td>\n",
       "                        <td id=\"T_267ea6b4_9e61_11ea_ad23_24ee9a7c8c6erow6_col1\" class=\"data row6 col1\" >0.802</td>\n",
       "                        <td id=\"T_267ea6b4_9e61_11ea_ad23_24ee9a7c8c6erow6_col2\" class=\"data row6 col2\" >0</td>\n",
       "                        <td id=\"T_267ea6b4_9e61_11ea_ad23_24ee9a7c8c6erow6_col3\" class=\"data row6 col3\" >0.8323</td>\n",
       "                        <td id=\"T_267ea6b4_9e61_11ea_ad23_24ee9a7c8c6erow6_col4\" class=\"data row6 col4\" >0.7915</td>\n",
       "                        <td id=\"T_267ea6b4_9e61_11ea_ad23_24ee9a7c8c6erow6_col5\" class=\"data row6 col5\" >0.8111</td>\n",
       "                        <td id=\"T_267ea6b4_9e61_11ea_ad23_24ee9a7c8c6erow6_col6\" class=\"data row6 col6\" >0.6034</td>\n",
       "            </tr>\n",
       "            <tr>\n",
       "                        <th id=\"T_267ea6b4_9e61_11ea_ad23_24ee9a7c8c6elevel0_row7\" class=\"row_heading level0 row7\" >7</th>\n",
       "                        <td id=\"T_267ea6b4_9e61_11ea_ad23_24ee9a7c8c6erow7_col0\" class=\"data row7 col0\" >Linear Discriminant Analysis</td>\n",
       "                        <td id=\"T_267ea6b4_9e61_11ea_ad23_24ee9a7c8c6erow7_col1\" class=\"data row7 col1\" >0.8009</td>\n",
       "                        <td id=\"T_267ea6b4_9e61_11ea_ad23_24ee9a7c8c6erow7_col2\" class=\"data row7 col2\" >0.8744</td>\n",
       "                        <td id=\"T_267ea6b4_9e61_11ea_ad23_24ee9a7c8c6erow7_col3\" class=\"data row7 col3\" >0.8328</td>\n",
       "                        <td id=\"T_267ea6b4_9e61_11ea_ad23_24ee9a7c8c6erow7_col4\" class=\"data row7 col4\" >0.7891</td>\n",
       "                        <td id=\"T_267ea6b4_9e61_11ea_ad23_24ee9a7c8c6erow7_col5\" class=\"data row7 col5\" >0.8103</td>\n",
       "                        <td id=\"T_267ea6b4_9e61_11ea_ad23_24ee9a7c8c6erow7_col6\" class=\"data row7 col6\" >0.6012</td>\n",
       "            </tr>\n",
       "            <tr>\n",
       "                        <th id=\"T_267ea6b4_9e61_11ea_ad23_24ee9a7c8c6elevel0_row8\" class=\"row_heading level0 row8\" >8</th>\n",
       "                        <td id=\"T_267ea6b4_9e61_11ea_ad23_24ee9a7c8c6erow8_col0\" class=\"data row8 col0\" >Ridge Classifier</td>\n",
       "                        <td id=\"T_267ea6b4_9e61_11ea_ad23_24ee9a7c8c6erow8_col1\" class=\"data row8 col1\" >0.7996</td>\n",
       "                        <td id=\"T_267ea6b4_9e61_11ea_ad23_24ee9a7c8c6erow8_col2\" class=\"data row8 col2\" >0</td>\n",
       "                        <td id=\"T_267ea6b4_9e61_11ea_ad23_24ee9a7c8c6erow8_col3\" class=\"data row8 col3\" >0.8314</td>\n",
       "                        <td id=\"T_267ea6b4_9e61_11ea_ad23_24ee9a7c8c6erow8_col4\" class=\"data row8 col4\" >0.788</td>\n",
       "                        <td id=\"T_267ea6b4_9e61_11ea_ad23_24ee9a7c8c6erow8_col5\" class=\"data row8 col5\" >0.8091</td>\n",
       "                        <td id=\"T_267ea6b4_9e61_11ea_ad23_24ee9a7c8c6erow8_col6\" class=\"data row8 col6\" >0.5985</td>\n",
       "            </tr>\n",
       "            <tr>\n",
       "                        <th id=\"T_267ea6b4_9e61_11ea_ad23_24ee9a7c8c6elevel0_row9\" class=\"row_heading level0 row9\" >9</th>\n",
       "                        <td id=\"T_267ea6b4_9e61_11ea_ad23_24ee9a7c8c6erow9_col0\" class=\"data row9 col0\" >Logistic Regression</td>\n",
       "                        <td id=\"T_267ea6b4_9e61_11ea_ad23_24ee9a7c8c6erow9_col1\" class=\"data row9 col1\" >0.7984</td>\n",
       "                        <td id=\"T_267ea6b4_9e61_11ea_ad23_24ee9a7c8c6erow9_col2\" class=\"data row9 col2\" >0.8699</td>\n",
       "                        <td id=\"T_267ea6b4_9e61_11ea_ad23_24ee9a7c8c6erow9_col3\" class=\"data row9 col3\" >0.8268</td>\n",
       "                        <td id=\"T_267ea6b4_9e61_11ea_ad23_24ee9a7c8c6erow9_col4\" class=\"data row9 col4\" >0.7887</td>\n",
       "                        <td id=\"T_267ea6b4_9e61_11ea_ad23_24ee9a7c8c6erow9_col5\" class=\"data row9 col5\" >0.8073</td>\n",
       "                        <td id=\"T_267ea6b4_9e61_11ea_ad23_24ee9a7c8c6erow9_col6\" class=\"data row9 col6\" >0.5961</td>\n",
       "            </tr>\n",
       "            <tr>\n",
       "                        <th id=\"T_267ea6b4_9e61_11ea_ad23_24ee9a7c8c6elevel0_row10\" class=\"row_heading level0 row10\" >10</th>\n",
       "                        <td id=\"T_267ea6b4_9e61_11ea_ad23_24ee9a7c8c6erow10_col0\" class=\"data row10 col0\" >Gradient Boosting Classifier</td>\n",
       "                        <td id=\"T_267ea6b4_9e61_11ea_ad23_24ee9a7c8c6erow10_col1\" class=\"data row10 col1\" >0.7789</td>\n",
       "                        <td id=\"T_267ea6b4_9e61_11ea_ad23_24ee9a7c8c6erow10_col2\" class=\"data row10 col2\" >0.8522</td>\n",
       "                        <td id=\"T_267ea6b4_9e61_11ea_ad23_24ee9a7c8c6erow10_col3\" class=\"data row10 col3\" >0.8359</td>\n",
       "                        <td id=\"T_267ea6b4_9e61_11ea_ad23_24ee9a7c8c6erow10_col4\" class=\"data row10 col4\" >0.7568</td>\n",
       "                        <td id=\"T_267ea6b4_9e61_11ea_ad23_24ee9a7c8c6erow10_col5\" class=\"data row10 col5\" >0.7943</td>\n",
       "                        <td id=\"T_267ea6b4_9e61_11ea_ad23_24ee9a7c8c6erow10_col6\" class=\"data row10 col6\" >0.5566</td>\n",
       "            </tr>\n",
       "            <tr>\n",
       "                        <th id=\"T_267ea6b4_9e61_11ea_ad23_24ee9a7c8c6elevel0_row11\" class=\"row_heading level0 row11\" >11</th>\n",
       "                        <td id=\"T_267ea6b4_9e61_11ea_ad23_24ee9a7c8c6erow11_col0\" class=\"data row11 col0\" >Extreme Gradient Boosting</td>\n",
       "                        <td id=\"T_267ea6b4_9e61_11ea_ad23_24ee9a7c8c6erow11_col1\" class=\"data row11 col1\" >0.7766</td>\n",
       "                        <td id=\"T_267ea6b4_9e61_11ea_ad23_24ee9a7c8c6erow11_col2\" class=\"data row11 col2\" >0.8513</td>\n",
       "                        <td id=\"T_267ea6b4_9e61_11ea_ad23_24ee9a7c8c6erow11_col3\" class=\"data row11 col3\" >0.8351</td>\n",
       "                        <td id=\"T_267ea6b4_9e61_11ea_ad23_24ee9a7c8c6erow11_col4\" class=\"data row11 col4\" >0.754</td>\n",
       "                        <td id=\"T_267ea6b4_9e61_11ea_ad23_24ee9a7c8c6erow11_col5\" class=\"data row11 col5\" >0.7924</td>\n",
       "                        <td id=\"T_267ea6b4_9e61_11ea_ad23_24ee9a7c8c6erow11_col6\" class=\"data row11 col6\" >0.552</td>\n",
       "            </tr>\n",
       "            <tr>\n",
       "                        <th id=\"T_267ea6b4_9e61_11ea_ad23_24ee9a7c8c6elevel0_row12\" class=\"row_heading level0 row12\" >12</th>\n",
       "                        <td id=\"T_267ea6b4_9e61_11ea_ad23_24ee9a7c8c6erow12_col0\" class=\"data row12 col0\" >Ada Boost Classifier</td>\n",
       "                        <td id=\"T_267ea6b4_9e61_11ea_ad23_24ee9a7c8c6erow12_col1\" class=\"data row12 col1\" >0.7548</td>\n",
       "                        <td id=\"T_267ea6b4_9e61_11ea_ad23_24ee9a7c8c6erow12_col2\" class=\"data row12 col2\" >0.8236</td>\n",
       "                        <td id=\"T_267ea6b4_9e61_11ea_ad23_24ee9a7c8c6erow12_col3\" class=\"data row12 col3\" >0.7926</td>\n",
       "                        <td id=\"T_267ea6b4_9e61_11ea_ad23_24ee9a7c8c6erow12_col4\" class=\"data row12 col4\" >0.7443</td>\n",
       "                        <td id=\"T_267ea6b4_9e61_11ea_ad23_24ee9a7c8c6erow12_col5\" class=\"data row12 col5\" >0.7676</td>\n",
       "                        <td id=\"T_267ea6b4_9e61_11ea_ad23_24ee9a7c8c6erow12_col6\" class=\"data row12 col6\" >0.5088</td>\n",
       "            </tr>\n",
       "            <tr>\n",
       "                        <th id=\"T_267ea6b4_9e61_11ea_ad23_24ee9a7c8c6elevel0_row13\" class=\"row_heading level0 row13\" >13</th>\n",
       "                        <td id=\"T_267ea6b4_9e61_11ea_ad23_24ee9a7c8c6erow13_col0\" class=\"data row13 col0\" >Naive Bayes</td>\n",
       "                        <td id=\"T_267ea6b4_9e61_11ea_ad23_24ee9a7c8c6erow13_col1\" class=\"data row13 col1\" >0.7079</td>\n",
       "                        <td id=\"T_267ea6b4_9e61_11ea_ad23_24ee9a7c8c6erow13_col2\" class=\"data row13 col2\" >0.7227</td>\n",
       "                        <td id=\"T_267ea6b4_9e61_11ea_ad23_24ee9a7c8c6erow13_col3\" class=\"data row13 col3\" >0.8924</td>\n",
       "                        <td id=\"T_267ea6b4_9e61_11ea_ad23_24ee9a7c8c6erow13_col4\" class=\"data row13 col4\" >0.6579</td>\n",
       "                        <td id=\"T_267ea6b4_9e61_11ea_ad23_24ee9a7c8c6erow13_col5\" class=\"data row13 col5\" >0.7574</td>\n",
       "                        <td id=\"T_267ea6b4_9e61_11ea_ad23_24ee9a7c8c6erow13_col6\" class=\"data row13 col6\" >0.411</td>\n",
       "            </tr>\n",
       "            <tr>\n",
       "                        <th id=\"T_267ea6b4_9e61_11ea_ad23_24ee9a7c8c6elevel0_row14\" class=\"row_heading level0 row14\" >14</th>\n",
       "                        <td id=\"T_267ea6b4_9e61_11ea_ad23_24ee9a7c8c6erow14_col0\" class=\"data row14 col0\" >Quadratic Discriminant Analysis</td>\n",
       "                        <td id=\"T_267ea6b4_9e61_11ea_ad23_24ee9a7c8c6erow14_col1\" class=\"data row14 col1\" >0.5916</td>\n",
       "                        <td id=\"T_267ea6b4_9e61_11ea_ad23_24ee9a7c8c6erow14_col2\" class=\"data row14 col2\" >0.5826</td>\n",
       "                        <td id=\"T_267ea6b4_9e61_11ea_ad23_24ee9a7c8c6erow14_col3\" class=\"data row14 col3\" >1</td>\n",
       "                        <td id=\"T_267ea6b4_9e61_11ea_ad23_24ee9a7c8c6erow14_col4\" class=\"data row14 col4\" >0.5557</td>\n",
       "                        <td id=\"T_267ea6b4_9e61_11ea_ad23_24ee9a7c8c6erow14_col5\" class=\"data row14 col5\" >0.7144</td>\n",
       "                        <td id=\"T_267ea6b4_9e61_11ea_ad23_24ee9a7c8c6erow14_col6\" class=\"data row14 col6\" >0.1682</td>\n",
       "            </tr>\n",
       "    </tbody></table>"
      ],
      "text/plain": [
       "<pandas.io.formats.style.Styler at 0x1a51d68a0f0>"
      ]
     },
     "execution_count": 32,
     "metadata": {},
     "output_type": "execute_result"
    }
   ],
   "source": [
    "model_results=compare_models() #blacklist = ['tr','ransac'],'lar','par','huber','llar','lasso','en','ridge','omp','br','svm'])\n",
    "model_results"
   ]
  },
  {
   "cell_type": "markdown",
   "metadata": {},
   "source": [
    "## Create models "
   ]
  },
  {
   "cell_type": "markdown",
   "metadata": {},
   "source": [
    "### Extra Trees Classifier"
   ]
  },
  {
   "cell_type": "code",
   "execution_count": 33,
   "metadata": {},
   "outputs": [
    {
     "data": {
      "text/html": [
       "<div>\n",
       "<style scoped>\n",
       "    .dataframe tbody tr th:only-of-type {\n",
       "        vertical-align: middle;\n",
       "    }\n",
       "\n",
       "    .dataframe tbody tr th {\n",
       "        vertical-align: top;\n",
       "    }\n",
       "\n",
       "    .dataframe thead th {\n",
       "        text-align: right;\n",
       "    }\n",
       "</style>\n",
       "<table border=\"1\" class=\"dataframe\">\n",
       "  <thead>\n",
       "    <tr style=\"text-align: right;\">\n",
       "      <th></th>\n",
       "      <th>Accuracy</th>\n",
       "      <th>AUC</th>\n",
       "      <th>Recall</th>\n",
       "      <th>Prec.</th>\n",
       "      <th>F1</th>\n",
       "      <th>Kappa</th>\n",
       "    </tr>\n",
       "  </thead>\n",
       "  <tbody>\n",
       "    <tr>\n",
       "      <th>0</th>\n",
       "      <td>0.9986</td>\n",
       "      <td>1.0</td>\n",
       "      <td>1.0</td>\n",
       "      <td>0.9973</td>\n",
       "      <td>0.9986</td>\n",
       "      <td>0.9972</td>\n",
       "    </tr>\n",
       "    <tr>\n",
       "      <th>1</th>\n",
       "      <td>0.9997</td>\n",
       "      <td>1.0</td>\n",
       "      <td>1.0</td>\n",
       "      <td>0.9995</td>\n",
       "      <td>0.9997</td>\n",
       "      <td>0.9994</td>\n",
       "    </tr>\n",
       "    <tr>\n",
       "      <th>2</th>\n",
       "      <td>0.9972</td>\n",
       "      <td>1.0</td>\n",
       "      <td>1.0</td>\n",
       "      <td>0.9946</td>\n",
       "      <td>0.9973</td>\n",
       "      <td>0.9944</td>\n",
       "    </tr>\n",
       "    <tr>\n",
       "      <th>3</th>\n",
       "      <td>0.9994</td>\n",
       "      <td>1.0</td>\n",
       "      <td>1.0</td>\n",
       "      <td>0.9989</td>\n",
       "      <td>0.9995</td>\n",
       "      <td>0.9989</td>\n",
       "    </tr>\n",
       "    <tr>\n",
       "      <th>4</th>\n",
       "      <td>0.9989</td>\n",
       "      <td>1.0</td>\n",
       "      <td>1.0</td>\n",
       "      <td>0.9978</td>\n",
       "      <td>0.9989</td>\n",
       "      <td>0.9978</td>\n",
       "    </tr>\n",
       "    <tr>\n",
       "      <th>5</th>\n",
       "      <td>0.9981</td>\n",
       "      <td>1.0</td>\n",
       "      <td>1.0</td>\n",
       "      <td>0.9962</td>\n",
       "      <td>0.9981</td>\n",
       "      <td>0.9961</td>\n",
       "    </tr>\n",
       "    <tr>\n",
       "      <th>6</th>\n",
       "      <td>0.9994</td>\n",
       "      <td>1.0</td>\n",
       "      <td>1.0</td>\n",
       "      <td>0.9989</td>\n",
       "      <td>0.9995</td>\n",
       "      <td>0.9989</td>\n",
       "    </tr>\n",
       "    <tr>\n",
       "      <th>7</th>\n",
       "      <td>0.9975</td>\n",
       "      <td>1.0</td>\n",
       "      <td>1.0</td>\n",
       "      <td>0.9951</td>\n",
       "      <td>0.9976</td>\n",
       "      <td>0.9950</td>\n",
       "    </tr>\n",
       "    <tr>\n",
       "      <th>8</th>\n",
       "      <td>0.9983</td>\n",
       "      <td>1.0</td>\n",
       "      <td>1.0</td>\n",
       "      <td>0.9967</td>\n",
       "      <td>0.9984</td>\n",
       "      <td>0.9967</td>\n",
       "    </tr>\n",
       "    <tr>\n",
       "      <th>9</th>\n",
       "      <td>0.9986</td>\n",
       "      <td>1.0</td>\n",
       "      <td>1.0</td>\n",
       "      <td>0.9973</td>\n",
       "      <td>0.9986</td>\n",
       "      <td>0.9972</td>\n",
       "    </tr>\n",
       "    <tr>\n",
       "      <th>Mean</th>\n",
       "      <td>0.9986</td>\n",
       "      <td>1.0</td>\n",
       "      <td>1.0</td>\n",
       "      <td>0.9972</td>\n",
       "      <td>0.9986</td>\n",
       "      <td>0.9972</td>\n",
       "    </tr>\n",
       "    <tr>\n",
       "      <th>SD</th>\n",
       "      <td>0.0008</td>\n",
       "      <td>0.0</td>\n",
       "      <td>0.0</td>\n",
       "      <td>0.0015</td>\n",
       "      <td>0.0008</td>\n",
       "      <td>0.0016</td>\n",
       "    </tr>\n",
       "  </tbody>\n",
       "</table>\n",
       "</div>"
      ],
      "text/plain": [
       "      Accuracy  AUC  Recall   Prec.      F1   Kappa\n",
       "0       0.9986  1.0     1.0  0.9973  0.9986  0.9972\n",
       "1       0.9997  1.0     1.0  0.9995  0.9997  0.9994\n",
       "2       0.9972  1.0     1.0  0.9946  0.9973  0.9944\n",
       "3       0.9994  1.0     1.0  0.9989  0.9995  0.9989\n",
       "4       0.9989  1.0     1.0  0.9978  0.9989  0.9978\n",
       "5       0.9981  1.0     1.0  0.9962  0.9981  0.9961\n",
       "6       0.9994  1.0     1.0  0.9989  0.9995  0.9989\n",
       "7       0.9975  1.0     1.0  0.9951  0.9976  0.9950\n",
       "8       0.9983  1.0     1.0  0.9967  0.9984  0.9967\n",
       "9       0.9986  1.0     1.0  0.9973  0.9986  0.9972\n",
       "Mean    0.9986  1.0     1.0  0.9972  0.9986  0.9972\n",
       "SD      0.0008  0.0     0.0  0.0015  0.0008  0.0016"
      ]
     },
     "metadata": {},
     "output_type": "display_data"
    }
   ],
   "source": [
    "et = create_model('et', fold=10)"
   ]
  },
  {
   "cell_type": "code",
   "execution_count": 44,
   "metadata": {},
   "outputs": [
    {
     "data": {
      "image/png": "[encoded data removed]",
      "text/plain": [
       "<Figure size 576x396 with 1 Axes>"
      ]
     },
     "metadata": {},
     "output_type": "display_data"
    }
   ],
   "source": [
    "plot_model(et, plot = 'confusion_matrix')"
   ]
  },
  {
   "cell_type": "markdown",
   "metadata": {},
   "source": [
    "### Extra Trees Classifier just guessed everything beyond belief really"
   ]
  },
  {
   "cell_type": "code",
   "execution_count": 41,
   "metadata": {},
   "outputs": [
    {
     "data": {
      "image/png": "[encoded data removed]",
      "text/plain": [
       "<Figure size 576x360 with 1 Axes>"
      ]
     },
     "metadata": {
      "needs_background": "light"
     },
     "output_type": "display_data"
    }
   ],
   "source": [
    "plot_model(et, plot = 'feature')"
   ]
  },
  {
   "cell_type": "markdown",
   "metadata": {},
   "source": [
    "#### CatBoost"
   ]
  },
  {
   "cell_type": "code",
   "execution_count": 34,
   "metadata": {},
   "outputs": [],
   "source": [
    "#catboost =create_model('catboost', fold = 10)"
   ]
  },
  {
   "cell_type": "markdown",
   "metadata": {},
   "source": [
    "#### Light Gradient Boosting Machine (lgbm)"
   ]
  },
  {
   "cell_type": "code",
   "execution_count": 79,
   "metadata": {},
   "outputs": [
    {
     "data": {
      "text/html": [
       "<div>\n",
       "<style scoped>\n",
       "    .dataframe tbody tr th:only-of-type {\n",
       "        vertical-align: middle;\n",
       "    }\n",
       "\n",
       "    .dataframe tbody tr th {\n",
       "        vertical-align: top;\n",
       "    }\n",
       "\n",
       "    .dataframe thead th {\n",
       "        text-align: right;\n",
       "    }\n",
       "</style>\n",
       "<table border=\"1\" class=\"dataframe\">\n",
       "  <thead>\n",
       "    <tr style=\"text-align: right;\">\n",
       "      <th></th>\n",
       "      <th>Accuracy</th>\n",
       "      <th>AUC</th>\n",
       "      <th>Recall</th>\n",
       "      <th>Prec.</th>\n",
       "      <th>F1</th>\n",
       "      <th>Kappa</th>\n",
       "    </tr>\n",
       "  </thead>\n",
       "  <tbody>\n",
       "    <tr>\n",
       "      <th>0</th>\n",
       "      <td>0.8609</td>\n",
       "      <td>0.9341</td>\n",
       "      <td>0.9277</td>\n",
       "      <td>0.8227</td>\n",
       "      <td>0.8720</td>\n",
       "      <td>0.7209</td>\n",
       "    </tr>\n",
       "    <tr>\n",
       "      <th>1</th>\n",
       "      <td>0.8706</td>\n",
       "      <td>0.9428</td>\n",
       "      <td>0.9408</td>\n",
       "      <td>0.8290</td>\n",
       "      <td>0.8814</td>\n",
       "      <td>0.7404</td>\n",
       "    </tr>\n",
       "    <tr>\n",
       "      <th>2</th>\n",
       "      <td>0.8670</td>\n",
       "      <td>0.9373</td>\n",
       "      <td>0.9342</td>\n",
       "      <td>0.8276</td>\n",
       "      <td>0.8777</td>\n",
       "      <td>0.7332</td>\n",
       "    </tr>\n",
       "    <tr>\n",
       "      <th>3</th>\n",
       "      <td>0.8770</td>\n",
       "      <td>0.9405</td>\n",
       "      <td>0.9473</td>\n",
       "      <td>0.8344</td>\n",
       "      <td>0.8872</td>\n",
       "      <td>0.7532</td>\n",
       "    </tr>\n",
       "    <tr>\n",
       "      <th>4</th>\n",
       "      <td>0.8592</td>\n",
       "      <td>0.9329</td>\n",
       "      <td>0.9130</td>\n",
       "      <td>0.8288</td>\n",
       "      <td>0.8689</td>\n",
       "      <td>0.7176</td>\n",
       "    </tr>\n",
       "    <tr>\n",
       "      <th>5</th>\n",
       "      <td>0.8745</td>\n",
       "      <td>0.9386</td>\n",
       "      <td>0.9288</td>\n",
       "      <td>0.8418</td>\n",
       "      <td>0.8831</td>\n",
       "      <td>0.7483</td>\n",
       "    </tr>\n",
       "    <tr>\n",
       "      <th>6</th>\n",
       "      <td>0.8775</td>\n",
       "      <td>0.9429</td>\n",
       "      <td>0.9386</td>\n",
       "      <td>0.8403</td>\n",
       "      <td>0.8867</td>\n",
       "      <td>0.7543</td>\n",
       "    </tr>\n",
       "    <tr>\n",
       "      <th>7</th>\n",
       "      <td>0.8650</td>\n",
       "      <td>0.9344</td>\n",
       "      <td>0.9184</td>\n",
       "      <td>0.8341</td>\n",
       "      <td>0.8742</td>\n",
       "      <td>0.7294</td>\n",
       "    </tr>\n",
       "    <tr>\n",
       "      <th>8</th>\n",
       "      <td>0.8664</td>\n",
       "      <td>0.9369</td>\n",
       "      <td>0.9222</td>\n",
       "      <td>0.8338</td>\n",
       "      <td>0.8758</td>\n",
       "      <td>0.7321</td>\n",
       "    </tr>\n",
       "    <tr>\n",
       "      <th>9</th>\n",
       "      <td>0.8667</td>\n",
       "      <td>0.9386</td>\n",
       "      <td>0.9233</td>\n",
       "      <td>0.8336</td>\n",
       "      <td>0.8762</td>\n",
       "      <td>0.7327</td>\n",
       "    </tr>\n",
       "    <tr>\n",
       "      <th>Mean</th>\n",
       "      <td>0.8685</td>\n",
       "      <td>0.9379</td>\n",
       "      <td>0.9294</td>\n",
       "      <td>0.8326</td>\n",
       "      <td>0.8783</td>\n",
       "      <td>0.7362</td>\n",
       "    </tr>\n",
       "    <tr>\n",
       "      <th>SD</th>\n",
       "      <td>0.0060</td>\n",
       "      <td>0.0033</td>\n",
       "      <td>0.0102</td>\n",
       "      <td>0.0055</td>\n",
       "      <td>0.0058</td>\n",
       "      <td>0.0120</td>\n",
       "    </tr>\n",
       "  </tbody>\n",
       "</table>\n",
       "</div>"
      ],
      "text/plain": [
       "      Accuracy     AUC  Recall   Prec.      F1   Kappa\n",
       "0       0.8609  0.9341  0.9277  0.8227  0.8720  0.7209\n",
       "1       0.8706  0.9428  0.9408  0.8290  0.8814  0.7404\n",
       "2       0.8670  0.9373  0.9342  0.8276  0.8777  0.7332\n",
       "3       0.8770  0.9405  0.9473  0.8344  0.8872  0.7532\n",
       "4       0.8592  0.9329  0.9130  0.8288  0.8689  0.7176\n",
       "5       0.8745  0.9386  0.9288  0.8418  0.8831  0.7483\n",
       "6       0.8775  0.9429  0.9386  0.8403  0.8867  0.7543\n",
       "7       0.8650  0.9344  0.9184  0.8341  0.8742  0.7294\n",
       "8       0.8664  0.9369  0.9222  0.8338  0.8758  0.7321\n",
       "9       0.8667  0.9386  0.9233  0.8336  0.8762  0.7327\n",
       "Mean    0.8685  0.9379  0.9294  0.8326  0.8783  0.7362\n",
       "SD      0.0060  0.0033  0.0102  0.0055  0.0058  0.0120"
      ]
     },
     "metadata": {},
     "output_type": "display_data"
    }
   ],
   "source": [
    "lightgbm = create_model('lightgbm', fold = 10)"
   ]
  },
  {
   "cell_type": "markdown",
   "metadata": {},
   "source": [
    "## Tune Models"
   ]
  },
  {
   "cell_type": "markdown",
   "metadata": {},
   "source": [
    "#### Tuned Light GBM"
   ]
  },
  {
   "cell_type": "code",
   "execution_count": 80,
   "metadata": {},
   "outputs": [
    {
     "data": {
      "text/html": [
       "<div>\n",
       "<style scoped>\n",
       "    .dataframe tbody tr th:only-of-type {\n",
       "        vertical-align: middle;\n",
       "    }\n",
       "\n",
       "    .dataframe tbody tr th {\n",
       "        vertical-align: top;\n",
       "    }\n",
       "\n",
       "    .dataframe thead th {\n",
       "        text-align: right;\n",
       "    }\n",
       "</style>\n",
       "<table border=\"1\" class=\"dataframe\">\n",
       "  <thead>\n",
       "    <tr style=\"text-align: right;\">\n",
       "      <th></th>\n",
       "      <th>Accuracy</th>\n",
       "      <th>AUC</th>\n",
       "      <th>Recall</th>\n",
       "      <th>Prec.</th>\n",
       "      <th>F1</th>\n",
       "      <th>Kappa</th>\n",
       "    </tr>\n",
       "  </thead>\n",
       "  <tbody>\n",
       "    <tr>\n",
       "      <th>0</th>\n",
       "      <td>0.9686</td>\n",
       "      <td>0.9966</td>\n",
       "      <td>1.0000</td>\n",
       "      <td>0.9421</td>\n",
       "      <td>0.9702</td>\n",
       "      <td>0.9371</td>\n",
       "    </tr>\n",
       "    <tr>\n",
       "      <th>1</th>\n",
       "      <td>0.9672</td>\n",
       "      <td>0.9975</td>\n",
       "      <td>1.0000</td>\n",
       "      <td>0.9397</td>\n",
       "      <td>0.9689</td>\n",
       "      <td>0.9344</td>\n",
       "    </tr>\n",
       "    <tr>\n",
       "      <th>2</th>\n",
       "      <td>0.9689</td>\n",
       "      <td>0.9948</td>\n",
       "      <td>1.0000</td>\n",
       "      <td>0.9426</td>\n",
       "      <td>0.9705</td>\n",
       "      <td>0.9377</td>\n",
       "    </tr>\n",
       "    <tr>\n",
       "      <th>3</th>\n",
       "      <td>0.9717</td>\n",
       "      <td>0.9965</td>\n",
       "      <td>1.0000</td>\n",
       "      <td>0.9475</td>\n",
       "      <td>0.9730</td>\n",
       "      <td>0.9433</td>\n",
       "    </tr>\n",
       "    <tr>\n",
       "      <th>4</th>\n",
       "      <td>0.9675</td>\n",
       "      <td>0.9975</td>\n",
       "      <td>1.0000</td>\n",
       "      <td>0.9402</td>\n",
       "      <td>0.9692</td>\n",
       "      <td>0.9349</td>\n",
       "    </tr>\n",
       "    <tr>\n",
       "      <th>5</th>\n",
       "      <td>0.9678</td>\n",
       "      <td>0.9967</td>\n",
       "      <td>0.9989</td>\n",
       "      <td>0.9416</td>\n",
       "      <td>0.9694</td>\n",
       "      <td>0.9355</td>\n",
       "    </tr>\n",
       "    <tr>\n",
       "      <th>6</th>\n",
       "      <td>0.9689</td>\n",
       "      <td>0.9982</td>\n",
       "      <td>1.0000</td>\n",
       "      <td>0.9426</td>\n",
       "      <td>0.9704</td>\n",
       "      <td>0.9377</td>\n",
       "    </tr>\n",
       "    <tr>\n",
       "      <th>7</th>\n",
       "      <td>0.9686</td>\n",
       "      <td>0.9963</td>\n",
       "      <td>1.0000</td>\n",
       "      <td>0.9421</td>\n",
       "      <td>0.9702</td>\n",
       "      <td>0.9371</td>\n",
       "    </tr>\n",
       "    <tr>\n",
       "      <th>8</th>\n",
       "      <td>0.9675</td>\n",
       "      <td>0.9960</td>\n",
       "      <td>1.0000</td>\n",
       "      <td>0.9402</td>\n",
       "      <td>0.9692</td>\n",
       "      <td>0.9349</td>\n",
       "    </tr>\n",
       "    <tr>\n",
       "      <th>9</th>\n",
       "      <td>0.9728</td>\n",
       "      <td>0.9966</td>\n",
       "      <td>1.0000</td>\n",
       "      <td>0.9494</td>\n",
       "      <td>0.9740</td>\n",
       "      <td>0.9455</td>\n",
       "    </tr>\n",
       "    <tr>\n",
       "      <th>Mean</th>\n",
       "      <td>0.9690</td>\n",
       "      <td>0.9967</td>\n",
       "      <td>0.9999</td>\n",
       "      <td>0.9428</td>\n",
       "      <td>0.9705</td>\n",
       "      <td>0.9378</td>\n",
       "    </tr>\n",
       "    <tr>\n",
       "      <th>SD</th>\n",
       "      <td>0.0018</td>\n",
       "      <td>0.0009</td>\n",
       "      <td>0.0003</td>\n",
       "      <td>0.0030</td>\n",
       "      <td>0.0016</td>\n",
       "      <td>0.0035</td>\n",
       "    </tr>\n",
       "  </tbody>\n",
       "</table>\n",
       "</div>"
      ],
      "text/plain": [
       "      Accuracy     AUC  Recall   Prec.      F1   Kappa\n",
       "0       0.9686  0.9966  1.0000  0.9421  0.9702  0.9371\n",
       "1       0.9672  0.9975  1.0000  0.9397  0.9689  0.9344\n",
       "2       0.9689  0.9948  1.0000  0.9426  0.9705  0.9377\n",
       "3       0.9717  0.9965  1.0000  0.9475  0.9730  0.9433\n",
       "4       0.9675  0.9975  1.0000  0.9402  0.9692  0.9349\n",
       "5       0.9678  0.9967  0.9989  0.9416  0.9694  0.9355\n",
       "6       0.9689  0.9982  1.0000  0.9426  0.9704  0.9377\n",
       "7       0.9686  0.9963  1.0000  0.9421  0.9702  0.9371\n",
       "8       0.9675  0.9960  1.0000  0.9402  0.9692  0.9349\n",
       "9       0.9728  0.9966  1.0000  0.9494  0.9740  0.9455\n",
       "Mean    0.9690  0.9967  0.9999  0.9428  0.9705  0.9378\n",
       "SD      0.0018  0.0009  0.0003  0.0030  0.0016  0.0035"
      ]
     },
     "metadata": {},
     "output_type": "display_data"
    }
   ],
   "source": [
    "tuned_lightgbm = tune_model('lightgbm') # fold=10"
   ]
  },
  {
   "cell_type": "markdown",
   "metadata": {},
   "source": [
    "### LigthGBM had marked improvements on all metrics!!\n",
    "#### Improved:  Accuracy AUC   Recall    Precision F1   Kappa\n",
    "#### Declined: \n",
    "                    Accuracy\t AUC\t Recall\t Prec.\t  F1\t    Kappa\n",
    "    Untuned:  Mean\t0.8685\t0.9379\t0.9294\t0.8326\t0.8783\t0.7362\n",
    "    Tuned:    Mean\t0.9690\t0.9967\t0.9999\t0.9428\t0.9705\t0.9378"
   ]
  },
  {
   "cell_type": "code",
   "execution_count": 39,
   "metadata": {},
   "outputs": [],
   "source": [
    "#plot_model(tuned_lightgbm, plot = 'vc')"
   ]
  },
  {
   "cell_type": "markdown",
   "metadata": {},
   "source": [
    "#### Tuned CatBoost"
   ]
  },
  {
   "cell_type": "code",
   "execution_count": 36,
   "metadata": {},
   "outputs": [],
   "source": [
    "#tuned_catboost = tune_model('catboost') # from fold=50"
   ]
  },
  {
   "cell_type": "markdown",
   "metadata": {},
   "source": [
    "### CatBoost had marked improvements on all metrics!!\n",
    "#### Improved:  Accuracy AUC   Recall    Precision F1   Kappa\n",
    "#### Declined:     \n",
    "                    Accuracy\t AUC\t Recall\t Prec.\t  F1\t    Kappa\n",
    "    Untuned:  Mean\t0.7693\t0.8472\t0.8259\t0.7417\t0.7815\t0.5386\n",
    "    Tuned:    Mean\t0.8567\t0.9280\t0.9240\t0.8142\t0.8656\t0.7134"
   ]
  },
  {
   "cell_type": "markdown",
   "metadata": {},
   "source": [
    "### Let's see if we can improve with more folds set at 50"
   ]
  },
  {
   "cell_type": "code",
   "execution_count": 38,
   "metadata": {},
   "outputs": [],
   "source": [
    "#tuned_lightgbm50 = tune_model('lightgbm', fold=50) # fold = 50"
   ]
  },
  {
   "cell_type": "markdown",
   "metadata": {},
   "source": [
    "### LigthGBM continued to improve on all metrics!!\n",
    "#### Improved:  Accuracy AUC   Recall    Precision F1   Kappa\n",
    "#### Declined: \n",
    "                    Accuracy\t AUC\t Recall\t Prec.\t  F1\t    Kappa\n",
    "    Untuned:  Mean\t0.7436\t0.8209\t0.8035\t0.7172\t0.7579\t0.4872\n",
    "    Tuned10:  Mean\t0.8648\t0.9298\t0.9314\t0.8217\t0.8731\t0.7296\n",
    "    Tuned50:  Mean\t0.8723\t0.9372\t0.9393\t0.8283\t0.8803\t0.7447"
   ]
  },
  {
   "cell_type": "markdown",
   "metadata": {},
   "source": [
    "### Let's see if we can improve with more folds set at 100"
   ]
  },
  {
   "cell_type": "code",
   "execution_count": 40,
   "metadata": {},
   "outputs": [],
   "source": [
    "#tuned_lightgbm100 = tune_model('lightgbm', fold=100) # fold = 50"
   ]
  },
  {
   "cell_type": "markdown",
   "metadata": {},
   "source": [
    "### LigthGBM continued to improve on all metrics!!\n",
    "#### Improved:  Accuracy AUC   Recall    Precision F1   Kappa\n",
    "#### Declined: \n",
    "                    Accuracy\t AUC\t Recall\t Prec.\t  F1\t    Kappa\n",
    "    Untuned:  Mean\t0.7436\t0.8209\t0.8035\t0.7172\t0.7579\t0.4872\n",
    "    Tuned10:  Mean\t0.8648\t0.9298\t0.9314\t0.8217\t0.8731\t0.7296\n",
    "    Tuned50:  Mean\t0.8723\t0.9372\t0.9393\t0.8283\t0.8803\t0.7447\n",
    "    Tuned100: Mean\t0.8739\t0.9383\t0.9399\t0.8303\t0.8816\t0.7477"
   ]
  },
  {
   "cell_type": "code",
   "execution_count": 42,
   "metadata": {
    "scrolled": false
   },
   "outputs": [],
   "source": [
    "#plot_model(tuned_lightgbm100, plot = 'feature')"
   ]
  },
  {
   "cell_type": "markdown",
   "metadata": {},
   "source": [
    "#### XGBoost"
   ]
  },
  {
   "cell_type": "code",
   "execution_count": 38,
   "metadata": {},
   "outputs": [],
   "source": [
    "#tuned_xgboost = tune_model('xgboost')"
   ]
  },
  {
   "cell_type": "markdown",
   "metadata": {},
   "source": [
    "Didn't tune xgboost since it takes about 5 hours and I don't see a big benefit tuning the above models"
   ]
  },
  {
   "cell_type": "markdown",
   "metadata": {},
   "source": [
    "## Ensemble models"
   ]
  },
  {
   "cell_type": "code",
   "execution_count": 39,
   "metadata": {},
   "outputs": [],
   "source": [
    "#catboost_bagged = ensemble_model(catboost)"
   ]
  },
  {
   "cell_type": "markdown",
   "metadata": {},
   "source": [
    "### CatBoost had great improvements with Ensemble Bagging\n",
    "#### Improved:  Accuracy   AUC   Recall   F1   Kappa\n",
    "#### Declined:   Precision    \n",
    "                    Accuracy\t AUC\t Recall\t Prec.\t  F1\t    Kappa\n",
    "    Untuned:  Mean\t0.8661\t0.7938\t0.0730\t0.5686\t0.1293\t0.1014\n",
    "    Bagging:  Mean\t0.8664\t0.7972\t0.0837\t0.5637\t0.1456\t0.1145"
   ]
  },
  {
   "cell_type": "code",
   "execution_count": 40,
   "metadata": {},
   "outputs": [],
   "source": [
    "#catboost_boosted = ensemble_model(catboost)"
   ]
  },
  {
   "cell_type": "markdown",
   "metadata": {},
   "source": [
    "## Blend 3 chosen Models"
   ]
  },
  {
   "cell_type": "markdown",
   "metadata": {},
   "source": [
    "#### First blend 'non-tuned' models"
   ]
  },
  {
   "cell_type": "code",
   "execution_count": 41,
   "metadata": {},
   "outputs": [],
   "source": [
    "#blend3 = blend_models(estimator_list = [catboost, lightgbm, xgboost])"
   ]
  },
  {
   "cell_type": "markdown",
   "metadata": {},
   "source": [
    "#### Next blend tuned models"
   ]
  },
  {
   "cell_type": "markdown",
   "metadata": {},
   "source": [
    "# Evaluate Models"
   ]
  },
  {
   "cell_type": "markdown",
   "metadata": {},
   "source": [
    "## Extra Trees Classifier (\"Fast Set\" - some plots take longer and they are commented out"
   ]
  },
  {
   "cell_type": "code",
   "execution_count": 45,
   "metadata": {},
   "outputs": [
    {
     "data": {
      "image/png": "[encoded data removed]",
      "text/plain": [
       "<Figure size 576x396 with 1 Axes>"
      ]
     },
     "metadata": {},
     "output_type": "display_data"
    }
   ],
   "source": [
    "plot_model(et) #Super Fast"
   ]
  },
  {
   "cell_type": "code",
   "execution_count": 46,
   "metadata": {},
   "outputs": [],
   "source": [
    "#plot_model(et, plot = 'threshold') #Medium Speed"
   ]
  },
  {
   "cell_type": "code",
   "execution_count": 47,
   "metadata": {
    "scrolled": false
   },
   "outputs": [
    {
     "data": {
      "image/png": "[encoded data removed]",
      "text/plain": [
       "<Figure size 576x396 with 1 Axes>"
      ]
     },
     "metadata": {},
     "output_type": "display_data"
    }
   ],
   "source": [
    "plot_model(et, plot = 'pr')  #Super Fast"
   ]
  },
  {
   "cell_type": "code",
   "execution_count": 43,
   "metadata": {
    "scrolled": false
   },
   "outputs": [
    {
     "data": {
      "image/png": "[encoded data removed]",
      "text/plain": [
       "<Figure size 576x396 with 1 Axes>"
      ]
     },
     "metadata": {},
     "output_type": "display_data"
    }
   ],
   "source": [
    "plot_model(et, plot='confusion_matrix') #Super Fast"
   ]
  },
  {
   "cell_type": "code",
   "execution_count": 48,
   "metadata": {
    "scrolled": false
   },
   "outputs": [
    {
     "data": {
      "image/png": "[encoded data removed]",
      "text/plain": [
       "<Figure size 576x396 with 1 Axes>"
      ]
     },
     "metadata": {},
     "output_type": "display_data"
    }
   ],
   "source": [
    "plot_model(et, plot = 'error') #Super Fast"
   ]
  },
  {
   "cell_type": "code",
   "execution_count": 49,
   "metadata": {
    "scrolled": false
   },
   "outputs": [
    {
     "data": {
      "image/png": "[encoded data removed]",
      "text/plain": [
       "<Figure size 576x396 with 2 Axes>"
      ]
     },
     "metadata": {},
     "output_type": "display_data"
    }
   ],
   "source": [
    "plot_model(et, plot = 'class_report') #Super Fast"
   ]
  },
  {
   "cell_type": "code",
   "execution_count": 50,
   "metadata": {
    "scrolled": false
   },
   "outputs": [
    {
     "data": {
      "image/png": "[encoded data removed]",
      "text/plain": [
       "<Figure size 576x396 with 1 Axes>"
      ]
     },
     "metadata": {},
     "output_type": "display_data"
    }
   ],
   "source": [
    "plot_model(et, plot = 'boundary') #Super Fast"
   ]
  },
  {
   "cell_type": "code",
   "execution_count": 51,
   "metadata": {
    "scrolled": false
   },
   "outputs": [],
   "source": [
    "#plot_model(et, plot='learning') #Slow"
   ]
  },
  {
   "cell_type": "code",
   "execution_count": 52,
   "metadata": {},
   "outputs": [],
   "source": [
    "#plot_model(et, plot = 'calibration') #Very Very Slow"
   ]
  },
  {
   "cell_type": "code",
   "execution_count": 53,
   "metadata": {},
   "outputs": [],
   "source": [
    "#plot_model(et,, plot = 'vc') #Very Slow"
   ]
  },
  {
   "cell_type": "code",
   "execution_count": 54,
   "metadata": {},
   "outputs": [],
   "source": [
    "#plot_model(et, plot='dimension')  # Slow"
   ]
  },
  {
   "cell_type": "code",
   "execution_count": 55,
   "metadata": {
    "scrolled": false
   },
   "outputs": [
    {
     "data": {
      "image/png": "[encoded data removed]",
      "text/plain": [
       "<Figure size 576x360 with 1 Axes>"
      ]
     },
     "metadata": {},
     "output_type": "display_data"
    }
   ],
   "source": [
    "plot_model(et, plot = 'feature') #Super Fast"
   ]
  },
  {
   "cell_type": "code",
   "execution_count": 56,
   "metadata": {
    "scrolled": true
   },
   "outputs": [
    {
     "data": {
      "text/html": [
       "<div>\n",
       "<style scoped>\n",
       "    .dataframe tbody tr th:only-of-type {\n",
       "        vertical-align: middle;\n",
       "    }\n",
       "\n",
       "    .dataframe tbody tr th {\n",
       "        vertical-align: top;\n",
       "    }\n",
       "\n",
       "    .dataframe thead th {\n",
       "        text-align: right;\n",
       "    }\n",
       "</style>\n",
       "<table border=\"1\" class=\"dataframe\">\n",
       "  <thead>\n",
       "    <tr style=\"text-align: right;\">\n",
       "      <th></th>\n",
       "      <th>Parameters</th>\n",
       "    </tr>\n",
       "  </thead>\n",
       "  <tbody>\n",
       "    <tr>\n",
       "      <th>bootstrap</th>\n",
       "      <td>False</td>\n",
       "    </tr>\n",
       "    <tr>\n",
       "      <th>ccp_alpha</th>\n",
       "      <td>0</td>\n",
       "    </tr>\n",
       "    <tr>\n",
       "      <th>class_weight</th>\n",
       "      <td>None</td>\n",
       "    </tr>\n",
       "    <tr>\n",
       "      <th>criterion</th>\n",
       "      <td>gini</td>\n",
       "    </tr>\n",
       "    <tr>\n",
       "      <th>max_depth</th>\n",
       "      <td>None</td>\n",
       "    </tr>\n",
       "    <tr>\n",
       "      <th>max_features</th>\n",
       "      <td>auto</td>\n",
       "    </tr>\n",
       "    <tr>\n",
       "      <th>max_leaf_nodes</th>\n",
       "      <td>None</td>\n",
       "    </tr>\n",
       "    <tr>\n",
       "      <th>max_samples</th>\n",
       "      <td>None</td>\n",
       "    </tr>\n",
       "    <tr>\n",
       "      <th>min_impurity_decrease</th>\n",
       "      <td>0</td>\n",
       "    </tr>\n",
       "    <tr>\n",
       "      <th>min_impurity_split</th>\n",
       "      <td>None</td>\n",
       "    </tr>\n",
       "    <tr>\n",
       "      <th>min_samples_leaf</th>\n",
       "      <td>1</td>\n",
       "    </tr>\n",
       "    <tr>\n",
       "      <th>min_samples_split</th>\n",
       "      <td>2</td>\n",
       "    </tr>\n",
       "    <tr>\n",
       "      <th>min_weight_fraction_leaf</th>\n",
       "      <td>0</td>\n",
       "    </tr>\n",
       "    <tr>\n",
       "      <th>n_estimators</th>\n",
       "      <td>100</td>\n",
       "    </tr>\n",
       "    <tr>\n",
       "      <th>n_jobs</th>\n",
       "      <td>None</td>\n",
       "    </tr>\n",
       "    <tr>\n",
       "      <th>oob_score</th>\n",
       "      <td>False</td>\n",
       "    </tr>\n",
       "    <tr>\n",
       "      <th>random_state</th>\n",
       "      <td>8370</td>\n",
       "    </tr>\n",
       "    <tr>\n",
       "      <th>verbose</th>\n",
       "      <td>0</td>\n",
       "    </tr>\n",
       "    <tr>\n",
       "      <th>warm_start</th>\n",
       "      <td>False</td>\n",
       "    </tr>\n",
       "  </tbody>\n",
       "</table>\n",
       "</div>"
      ],
      "text/plain": [
       "                         Parameters\n",
       "bootstrap                     False\n",
       "ccp_alpha                         0\n",
       "class_weight                   None\n",
       "criterion                      gini\n",
       "max_depth                      None\n",
       "max_features                   auto\n",
       "max_leaf_nodes                 None\n",
       "max_samples                    None\n",
       "min_impurity_decrease             0\n",
       "min_impurity_split             None\n",
       "min_samples_leaf                  1\n",
       "min_samples_split                 2\n",
       "min_weight_fraction_leaf          0\n",
       "n_estimators                    100\n",
       "n_jobs                         None\n",
       "oob_score                     False\n",
       "random_state                   8370\n",
       "verbose                           0\n",
       "warm_start                    False"
      ]
     },
     "metadata": {},
     "output_type": "display_data"
    }
   ],
   "source": [
    "plot_model(et, plot = 'parameter') #Super Fast"
   ]
  },
  {
   "cell_type": "markdown",
   "metadata": {},
   "source": [
    "## Light GBM (\"Fast Set\" - some plots take longer and they are commented out"
   ]
  },
  {
   "cell_type": "code",
   "execution_count": 94,
   "metadata": {},
   "outputs": [
    {
     "data": {
      "image/png": "[encoded data removed]",
      "text/plain": [
       "<Figure size 576x396 with 1 Axes>"
      ]
     },
     "metadata": {},
     "output_type": "display_data"
    }
   ],
   "source": [
    "plot_model(tuned_lightgbm) #Super Fast"
   ]
  },
  {
   "cell_type": "code",
   "execution_count": 95,
   "metadata": {},
   "outputs": [],
   "source": [
    "#plot_model(tuned_lightgbm, plot = 'threshold') #Medium Speed"
   ]
  },
  {
   "cell_type": "code",
   "execution_count": 96,
   "metadata": {
    "scrolled": false
   },
   "outputs": [
    {
     "data": {
      "image/png": "[encoded data removed]",
      "text/plain": [
       "<Figure size 576x396 with 1 Axes>"
      ]
     },
     "metadata": {},
     "output_type": "display_data"
    }
   ],
   "source": [
    "plot_model(tuned_lightgbm, plot = 'pr')  #Super Fast"
   ]
  },
  {
   "cell_type": "code",
   "execution_count": 97,
   "metadata": {
    "scrolled": false
   },
   "outputs": [
    {
     "data": {
      "image/png": "[encoded data removed]",
      "text/plain": [
       "<Figure size 576x396 with 1 Axes>"
      ]
     },
     "metadata": {},
     "output_type": "display_data"
    }
   ],
   "source": [
    "plot_model(tuned_lightgbm, plot='confusion_matrix') #Super Fast"
   ]
  },
  {
   "cell_type": "code",
   "execution_count": 98,
   "metadata": {
    "scrolled": false
   },
   "outputs": [
    {
     "data": {
      "image/png": "[encoded data removed]",
      "text/plain": [
       "<Figure size 576x396 with 1 Axes>"
      ]
     },
     "metadata": {},
     "output_type": "display_data"
    }
   ],
   "source": [
    "plot_model(tuned_lightgbm, plot = 'error') #Super Fast"
   ]
  },
  {
   "cell_type": "code",
   "execution_count": 99,
   "metadata": {
    "scrolled": false
   },
   "outputs": [
    {
     "data": {
      "image/png": "[encoded data removed]",
      "text/plain": [
       "<Figure size 576x396 with 2 Axes>"
      ]
     },
     "metadata": {},
     "output_type": "display_data"
    }
   ],
   "source": [
    "plot_model(tuned_lightgbm, plot = 'class_report') #Super Fast"
   ]
  },
  {
   "cell_type": "code",
   "execution_count": 100,
   "metadata": {
    "scrolled": false
   },
   "outputs": [
    {
     "data": {
      "image/png": "[encoded data removed]",
      "text/plain": [
       "<Figure size 576x396 with 1 Axes>"
      ]
     },
     "metadata": {},
     "output_type": "display_data"
    }
   ],
   "source": [
    "plot_model(tuned_lightgbm, plot = 'boundary') #Super Fast"
   ]
  },
  {
   "cell_type": "code",
   "execution_count": 101,
   "metadata": {
    "scrolled": false
   },
   "outputs": [],
   "source": [
    "#plot_model(tuned_lightgbm, plot='learning') #Slow"
   ]
  },
  {
   "cell_type": "code",
   "execution_count": 102,
   "metadata": {},
   "outputs": [],
   "source": [
    "#plot_model(tuned_lightgbm, plot = 'calibration') #Very Very Slow"
   ]
  },
  {
   "cell_type": "code",
   "execution_count": 103,
   "metadata": {},
   "outputs": [],
   "source": [
    "#plot_model(tuned_lightgbm,, plot = 'vc') #Very Slow"
   ]
  },
  {
   "cell_type": "code",
   "execution_count": 104,
   "metadata": {},
   "outputs": [],
   "source": [
    "#plot_model(tuned_lightgbm, plot='dimension')  # Slow"
   ]
  },
  {
   "cell_type": "code",
   "execution_count": 105,
   "metadata": {
    "scrolled": false
   },
   "outputs": [
    {
     "data": {
      "image/png": "[encoded data removed]",
      "text/plain": [
       "<Figure size 576x360 with 1 Axes>"
      ]
     },
     "metadata": {},
     "output_type": "display_data"
    }
   ],
   "source": [
    "plot_model(tuned_lightgbm, plot = 'feature') #Super Fast"
   ]
  },
  {
   "cell_type": "code",
   "execution_count": 107,
   "metadata": {
    "scrolled": false
   },
   "outputs": [
    {
     "data": {
      "text/html": [
       "<div>\n",
       "<style scoped>\n",
       "    .dataframe tbody tr th:only-of-type {\n",
       "        vertical-align: middle;\n",
       "    }\n",
       "\n",
       "    .dataframe tbody tr th {\n",
       "        vertical-align: top;\n",
       "    }\n",
       "\n",
       "    .dataframe thead th {\n",
       "        text-align: right;\n",
       "    }\n",
       "</style>\n",
       "<table border=\"1\" class=\"dataframe\">\n",
       "  <thead>\n",
       "    <tr style=\"text-align: right;\">\n",
       "      <th></th>\n",
       "      <th>Parameters</th>\n",
       "    </tr>\n",
       "  </thead>\n",
       "  <tbody>\n",
       "    <tr>\n",
       "      <th>boosting_type</th>\n",
       "      <td>gbdt</td>\n",
       "    </tr>\n",
       "    <tr>\n",
       "      <th>class_weight</th>\n",
       "      <td>None</td>\n",
       "    </tr>\n",
       "    <tr>\n",
       "      <th>colsample_bytree</th>\n",
       "      <td>1</td>\n",
       "    </tr>\n",
       "    <tr>\n",
       "      <th>importance_type</th>\n",
       "      <td>split</td>\n",
       "    </tr>\n",
       "    <tr>\n",
       "      <th>learning_rate</th>\n",
       "      <td>0.4</td>\n",
       "    </tr>\n",
       "    <tr>\n",
       "      <th>max_depth</th>\n",
       "      <td>30</td>\n",
       "    </tr>\n",
       "    <tr>\n",
       "      <th>min_child_samples</th>\n",
       "      <td>20</td>\n",
       "    </tr>\n",
       "    <tr>\n",
       "      <th>min_child_weight</th>\n",
       "      <td>0.001</td>\n",
       "    </tr>\n",
       "    <tr>\n",
       "      <th>min_split_gain</th>\n",
       "      <td>0.1</td>\n",
       "    </tr>\n",
       "    <tr>\n",
       "      <th>n_estimators</th>\n",
       "      <td>170</td>\n",
       "    </tr>\n",
       "    <tr>\n",
       "      <th>n_jobs</th>\n",
       "      <td>-1</td>\n",
       "    </tr>\n",
       "    <tr>\n",
       "      <th>num_leaves</th>\n",
       "      <td>70</td>\n",
       "    </tr>\n",
       "    <tr>\n",
       "      <th>objective</th>\n",
       "      <td>None</td>\n",
       "    </tr>\n",
       "    <tr>\n",
       "      <th>random_state</th>\n",
       "      <td>8370</td>\n",
       "    </tr>\n",
       "    <tr>\n",
       "      <th>reg_alpha</th>\n",
       "      <td>0.5</td>\n",
       "    </tr>\n",
       "    <tr>\n",
       "      <th>reg_lambda</th>\n",
       "      <td>0.5</td>\n",
       "    </tr>\n",
       "    <tr>\n",
       "      <th>silent</th>\n",
       "      <td>True</td>\n",
       "    </tr>\n",
       "    <tr>\n",
       "      <th>subsample</th>\n",
       "      <td>1</td>\n",
       "    </tr>\n",
       "    <tr>\n",
       "      <th>subsample_for_bin</th>\n",
       "      <td>200000</td>\n",
       "    </tr>\n",
       "    <tr>\n",
       "      <th>subsample_freq</th>\n",
       "      <td>0</td>\n",
       "    </tr>\n",
       "  </tbody>\n",
       "</table>\n",
       "</div>"
      ],
      "text/plain": [
       "                  Parameters\n",
       "boosting_type           gbdt\n",
       "class_weight            None\n",
       "colsample_bytree           1\n",
       "importance_type        split\n",
       "learning_rate            0.4\n",
       "max_depth                 30\n",
       "min_child_samples         20\n",
       "min_child_weight       0.001\n",
       "min_split_gain           0.1\n",
       "n_estimators             170\n",
       "n_jobs                    -1\n",
       "num_leaves                70\n",
       "objective               None\n",
       "random_state            8370\n",
       "reg_alpha                0.5\n",
       "reg_lambda               0.5\n",
       "silent                  True\n",
       "subsample                  1\n",
       "subsample_for_bin     200000\n",
       "subsample_freq             0"
      ]
     },
     "metadata": {},
     "output_type": "display_data"
    }
   ],
   "source": [
    "plot_model(tuned_lightgbm, plot = 'parameter') #Super Fast"
   ]
  },
  {
   "cell_type": "code",
   "execution_count": 42,
   "metadata": {},
   "outputs": [],
   "source": [
    "#blendTuned3 = blend_models(estimator_list = [tuned_catboost, tuned_lightgbm, tuned_xgboost])"
   ]
  },
  {
   "cell_type": "markdown",
   "metadata": {},
   "source": [
    "# Interpret Models"
   ]
  },
  {
   "cell_type": "markdown",
   "metadata": {},
   "source": [
    "## Extra Tree Classifier (et)"
   ]
  },
  {
   "cell_type": "code",
   "execution_count": null,
   "metadata": {},
   "outputs": [],
   "source": [
    "#interpret_model(et plot = 'summary')"
   ]
  },
  {
   "cell_type": "code",
   "execution_count": null,
   "metadata": {},
   "outputs": [],
   "source": [
    "#interpret_model(et, plot='correlation', feature='avgCreditScore')"
   ]
  },
  {
   "cell_type": "markdown",
   "metadata": {},
   "source": [
    "# Predict models using the \"Oversampled\" test holdout within PyCaret"
   ]
  },
  {
   "cell_type": "markdown",
   "metadata": {},
   "source": [
    "#### CatBoost"
   ]
  },
  {
   "cell_type": "code",
   "execution_count": 57,
   "metadata": {},
   "outputs": [
    {
     "data": {
      "text/html": [
       "<div>\n",
       "<style scoped>\n",
       "    .dataframe tbody tr th:only-of-type {\n",
       "        vertical-align: middle;\n",
       "    }\n",
       "\n",
       "    .dataframe tbody tr th {\n",
       "        vertical-align: top;\n",
       "    }\n",
       "\n",
       "    .dataframe thead th {\n",
       "        text-align: right;\n",
       "    }\n",
       "</style>\n",
       "<table border=\"1\" class=\"dataframe\">\n",
       "  <thead>\n",
       "    <tr style=\"text-align: right;\">\n",
       "      <th></th>\n",
       "      <th>Model</th>\n",
       "      <th>Accuracy</th>\n",
       "      <th>AUC</th>\n",
       "      <th>Recall</th>\n",
       "      <th>Prec.</th>\n",
       "      <th>F1</th>\n",
       "      <th>Kappa</th>\n",
       "    </tr>\n",
       "  </thead>\n",
       "  <tbody>\n",
       "    <tr>\n",
       "      <th>0</th>\n",
       "      <td>Extra Trees Classifier</td>\n",
       "      <td>0.9992</td>\n",
       "      <td>1.0</td>\n",
       "      <td>1.0</td>\n",
       "      <td>0.9985</td>\n",
       "      <td>0.9992</td>\n",
       "      <td>0.9984</td>\n",
       "    </tr>\n",
       "  </tbody>\n",
       "</table>\n",
       "</div>"
      ],
      "text/plain": [
       "                    Model  Accuracy  AUC  Recall   Prec.      F1   Kappa\n",
       "0  Extra Trees Classifier    0.9992  1.0     1.0  0.9985  0.9992  0.9984"
      ]
     },
     "metadata": {},
     "output_type": "display_data"
    }
   ],
   "source": [
    "pred_holdout = predict_model(et)"
   ]
  },
  {
   "cell_type": "markdown",
   "metadata": {},
   "source": [
    "#### Tuned CatBoost"
   ]
  },
  {
   "cell_type": "code",
   "execution_count": 82,
   "metadata": {
    "scrolled": true
   },
   "outputs": [],
   "source": [
    "#pred_holdout_tuned = predict_model(tuned_catboost)"
   ]
  },
  {
   "cell_type": "markdown",
   "metadata": {},
   "source": [
    "#### Light GBM"
   ]
  },
  {
   "cell_type": "code",
   "execution_count": 83,
   "metadata": {
    "scrolled": true
   },
   "outputs": [
    {
     "data": {
      "text/html": [
       "<div>\n",
       "<style scoped>\n",
       "    .dataframe tbody tr th:only-of-type {\n",
       "        vertical-align: middle;\n",
       "    }\n",
       "\n",
       "    .dataframe tbody tr th {\n",
       "        vertical-align: top;\n",
       "    }\n",
       "\n",
       "    .dataframe thead th {\n",
       "        text-align: right;\n",
       "    }\n",
       "</style>\n",
       "<table border=\"1\" class=\"dataframe\">\n",
       "  <thead>\n",
       "    <tr style=\"text-align: right;\">\n",
       "      <th></th>\n",
       "      <th>Model</th>\n",
       "      <th>Accuracy</th>\n",
       "      <th>AUC</th>\n",
       "      <th>Recall</th>\n",
       "      <th>Prec.</th>\n",
       "      <th>F1</th>\n",
       "      <th>Kappa</th>\n",
       "    </tr>\n",
       "  </thead>\n",
       "  <tbody>\n",
       "    <tr>\n",
       "      <th>0</th>\n",
       "      <td>Light Gradient Boosting Machine</td>\n",
       "      <td>0.8687</td>\n",
       "      <td>0.9388</td>\n",
       "      <td>0.9226</td>\n",
       "      <td>0.8371</td>\n",
       "      <td>0.8778</td>\n",
       "      <td>0.7368</td>\n",
       "    </tr>\n",
       "  </tbody>\n",
       "</table>\n",
       "</div>"
      ],
      "text/plain": [
       "                             Model  Accuracy     AUC  Recall   Prec.      F1  \\\n",
       "0  Light Gradient Boosting Machine    0.8687  0.9388  0.9226  0.8371  0.8778   \n",
       "\n",
       "    Kappa  \n",
       "0  0.7368  "
      ]
     },
     "metadata": {},
     "output_type": "display_data"
    }
   ],
   "source": [
    "pred_holdout = predict_model(lightgbm)"
   ]
  },
  {
   "cell_type": "markdown",
   "metadata": {},
   "source": [
    "#### Tuned Light GBM"
   ]
  },
  {
   "cell_type": "code",
   "execution_count": 84,
   "metadata": {
    "scrolled": true
   },
   "outputs": [
    {
     "data": {
      "text/html": [
       "<div>\n",
       "<style scoped>\n",
       "    .dataframe tbody tr th:only-of-type {\n",
       "        vertical-align: middle;\n",
       "    }\n",
       "\n",
       "    .dataframe tbody tr th {\n",
       "        vertical-align: top;\n",
       "    }\n",
       "\n",
       "    .dataframe thead th {\n",
       "        text-align: right;\n",
       "    }\n",
       "</style>\n",
       "<table border=\"1\" class=\"dataframe\">\n",
       "  <thead>\n",
       "    <tr style=\"text-align: right;\">\n",
       "      <th></th>\n",
       "      <th>Model</th>\n",
       "      <th>Accuracy</th>\n",
       "      <th>AUC</th>\n",
       "      <th>Recall</th>\n",
       "      <th>Prec.</th>\n",
       "      <th>F1</th>\n",
       "      <th>Kappa</th>\n",
       "    </tr>\n",
       "  </thead>\n",
       "  <tbody>\n",
       "    <tr>\n",
       "      <th>0</th>\n",
       "      <td>Light Gradient Boosting Machine</td>\n",
       "      <td>0.9725</td>\n",
       "      <td>0.9971</td>\n",
       "      <td>1.0</td>\n",
       "      <td>0.949</td>\n",
       "      <td>0.9738</td>\n",
       "      <td>0.945</td>\n",
       "    </tr>\n",
       "  </tbody>\n",
       "</table>\n",
       "</div>"
      ],
      "text/plain": [
       "                             Model  Accuracy     AUC  Recall  Prec.      F1  \\\n",
       "0  Light Gradient Boosting Machine    0.9725  0.9971     1.0  0.949  0.9738   \n",
       "\n",
       "   Kappa  \n",
       "0  0.945  "
      ]
     },
     "metadata": {},
     "output_type": "display_data"
    }
   ],
   "source": [
    "pred_holdout_tuned = predict_model(tuned_lightgbm)"
   ]
  },
  {
   "cell_type": "markdown",
   "metadata": {},
   "source": [
    "# The golden moment... put 10% sample test data through the models..."
   ]
  },
  {
   "cell_type": "markdown",
   "metadata": {},
   "source": [
    "# Recombine test_features, test_target at first train/test/split\n",
    " This \"test\" set was split BEFORE Oversampling. PyCaret takes the \"train\" from this split and splits it internally again. Since we have no control of how PyCaret does this we needed to do a train/test split before we input the training set into PyCaret. Now we will recombine the test_features and test_target into one new df"
   ]
  },
  {
   "cell_type": "code",
   "execution_count": 108,
   "metadata": {},
   "outputs": [
    {
     "data": {
      "text/plain": [
       "(3539, 30)"
      ]
     },
     "execution_count": 108,
     "metadata": {},
     "output_type": "execute_result"
    }
   ],
   "source": [
    "test_features.shape"
   ]
  },
  {
   "cell_type": "code",
   "execution_count": 109,
   "metadata": {},
   "outputs": [
    {
     "data": {
      "text/plain": [
       "(3539,)"
      ]
     },
     "execution_count": 109,
     "metadata": {},
     "output_type": "execute_result"
    }
   ],
   "source": [
    "test_target.shape"
   ]
  },
  {
   "cell_type": "code",
   "execution_count": 110,
   "metadata": {},
   "outputs": [],
   "source": [
    "test_df = test_features.copy()"
   ]
  },
  {
   "cell_type": "code",
   "execution_count": 111,
   "metadata": {},
   "outputs": [],
   "source": [
    "test_df['zeroBalCode'] = test_target"
   ]
  },
  {
   "cell_type": "code",
   "execution_count": 112,
   "metadata": {},
   "outputs": [
    {
     "data": {
      "text/plain": [
       "(3539, 31)"
      ]
     },
     "execution_count": 112,
     "metadata": {},
     "output_type": "execute_result"
    }
   ],
   "source": [
    "test_df.shape"
   ]
  },
  {
   "cell_type": "code",
   "execution_count": 113,
   "metadata": {
    "scrolled": true
   },
   "outputs": [
    {
     "name": "stdout",
     "output_type": "stream",
     "text": [
      "#############################################\n",
      "This \"Test\" set has not been oversamplied\n",
      "0    3359\n",
      "1     180\n",
      "Name: zeroBalCode, dtype: int64\n",
      "Positive samples are 5.09%\n"
     ]
    }
   ],
   "source": [
    "totalTestCount = test_df.zeroBalCode.value_counts().sum()\n",
    "posTestCount = test_df.zeroBalCode.value_counts()[1]\n",
    "print('#############################################')\n",
    "print('This \"Test\" set has not been oversamplied')\n",
    "print(test_df.zeroBalCode.value_counts())\n",
    "print(f'Positive samples are {round(posTestCount/totalTestCount*100,2)}%')"
   ]
  },
  {
   "cell_type": "markdown",
   "metadata": {},
   "source": [
    "# Recombine validation features / targets x_val, y_val\n",
    " This \"validation\" set was split BEFORE Oversampling. PyCaret takes the \"train\" from this split and splits it internally again. Since we have no control of how PyCaret does this we needed to do a train/validation split before we input the training set into PyCaret. Now we will recombine the test_features and test_target into one new df"
   ]
  },
  {
   "cell_type": "code",
   "execution_count": 56,
   "metadata": {},
   "outputs": [
    {
     "data": {
      "text/plain": [
       "(3185, 30)"
      ]
     },
     "execution_count": 56,
     "metadata": {},
     "output_type": "execute_result"
    }
   ],
   "source": [
    "x_val.shape"
   ]
  },
  {
   "cell_type": "code",
   "execution_count": 58,
   "metadata": {},
   "outputs": [
    {
     "data": {
      "text/plain": [
       "(3185,)"
      ]
     },
     "execution_count": 58,
     "metadata": {},
     "output_type": "execute_result"
    }
   ],
   "source": [
    "y_val.shape"
   ]
  },
  {
   "cell_type": "code",
   "execution_count": 59,
   "metadata": {},
   "outputs": [],
   "source": [
    "validation_df = x_val.copy()"
   ]
  },
  {
   "cell_type": "code",
   "execution_count": 60,
   "metadata": {},
   "outputs": [],
   "source": [
    "validation_df['zeroBalCode'] = y_val"
   ]
  },
  {
   "cell_type": "code",
   "execution_count": 61,
   "metadata": {},
   "outputs": [
    {
     "data": {
      "text/plain": [
       "(3185, 31)"
      ]
     },
     "execution_count": 61,
     "metadata": {},
     "output_type": "execute_result"
    }
   ],
   "source": [
    "validation_df.shape"
   ]
  },
  {
   "cell_type": "code",
   "execution_count": 64,
   "metadata": {
    "scrolled": true
   },
   "outputs": [
    {
     "name": "stdout",
     "output_type": "stream",
     "text": [
      "#############################################\n",
      "This \"Validation\" set has not been oversamplied\n",
      "0    3004\n",
      "1     181\n",
      "Name: zeroBalCode, dtype: int64\n",
      "Positive samples are 5.68%\n"
     ]
    }
   ],
   "source": [
    "totalTestCount = validation_df.zeroBalCode.value_counts().sum()\n",
    "posTestCount = validation_df.zeroBalCode.value_counts()[1]\n",
    "print('#############################################')\n",
    "print('This \"Validation\" set has not been oversamplied')\n",
    "print(validation_df.zeroBalCode.value_counts())\n",
    "print(f'Positive samples are {round(posTestCount/totalTestCount*100,2)}%')"
   ]
  },
  {
   "cell_type": "markdown",
   "metadata": {},
   "source": [
    "## Create function for confusion matrix"
   ]
  },
  {
   "cell_type": "code",
   "execution_count": 71,
   "metadata": {},
   "outputs": [],
   "source": [
    "def calc_confusion(row):\n",
    "    if ((row['zeroBalCode'] == 0) & (row['Label'] == 0)):\n",
    "        value = 'TrueNegative'\n",
    "    elif ((row['zeroBalCode'] == 0) & (row['Label'] == 1)):\n",
    "        value = 'FalseNegative'\n",
    "    elif ((row['zeroBalCode'] == 1) & (row['Label'] == 1)):\n",
    "        value = 'TruePositive'\n",
    "    elif ((row['zeroBalCode'] == 1) & (row['Label'] == 0)):\n",
    "        value = 'FalsePositive'\n",
    "    else:\n",
    "        value = 'Undefined'\n",
    "    return value"
   ]
  },
  {
   "cell_type": "markdown",
   "metadata": {},
   "source": [
    "# Extra Trees Classifier"
   ]
  },
  {
   "cell_type": "code",
   "execution_count": 67,
   "metadata": {},
   "outputs": [],
   "source": [
    "predictions = predict_model(et, data=test_df)"
   ]
  },
  {
   "cell_type": "code",
   "execution_count": 68,
   "metadata": {},
   "outputs": [
    {
     "data": {
      "text/html": [
       "<div>\n",
       "<style scoped>\n",
       "    .dataframe tbody tr th:only-of-type {\n",
       "        vertical-align: middle;\n",
       "    }\n",
       "\n",
       "    .dataframe tbody tr th {\n",
       "        vertical-align: top;\n",
       "    }\n",
       "\n",
       "    .dataframe thead th {\n",
       "        text-align: right;\n",
       "    }\n",
       "</style>\n",
       "<table border=\"1\" class=\"dataframe\">\n",
       "  <thead>\n",
       "    <tr style=\"text-align: right;\">\n",
       "      <th></th>\n",
       "      <th>origChannel</th>\n",
       "      <th>origIntRate</th>\n",
       "      <th>origUPB</th>\n",
       "      <th>origLTV</th>\n",
       "      <th>numBorrowers</th>\n",
       "      <th>origDebtIncRatio</th>\n",
       "      <th>borrCreditScore</th>\n",
       "      <th>loanPurp</th>\n",
       "      <th>zipCode</th>\n",
       "      <th>pMIperct</th>\n",
       "      <th>mortInsType</th>\n",
       "      <th>bestCreditScore</th>\n",
       "      <th>worstCreditScore</th>\n",
       "      <th>avgCreditScore</th>\n",
       "      <th>bankNumber</th>\n",
       "      <th>stateNumber</th>\n",
       "      <th>mSA</th>\n",
       "      <th>fmacRateMax</th>\n",
       "      <th>fmacRateMin</th>\n",
       "      <th>fmacRateAvg</th>\n",
       "      <th>fmacRateVolatility</th>\n",
       "      <th>fredRate</th>\n",
       "      <th>rateDiffAbove</th>\n",
       "      <th>rateDiffBelow</th>\n",
       "      <th>rateDiffAvg</th>\n",
       "      <th>rateDiffAbovePct</th>\n",
       "      <th>rateDiffBelowPct</th>\n",
       "      <th>rateDiffAvgPct</th>\n",
       "      <th>origYear</th>\n",
       "      <th>origMonth</th>\n",
       "      <th>zeroBalCode</th>\n",
       "      <th>Label</th>\n",
       "      <th>Score</th>\n",
       "    </tr>\n",
       "  </thead>\n",
       "  <tbody>\n",
       "    <tr>\n",
       "      <th>0</th>\n",
       "      <td>3</td>\n",
       "      <td>4.375</td>\n",
       "      <td>236000</td>\n",
       "      <td>60</td>\n",
       "      <td>1</td>\n",
       "      <td>45</td>\n",
       "      <td>671</td>\n",
       "      <td>1</td>\n",
       "      <td>900</td>\n",
       "      <td>0.0</td>\n",
       "      <td>0</td>\n",
       "      <td>671</td>\n",
       "      <td>671</td>\n",
       "      <td>671</td>\n",
       "      <td>1</td>\n",
       "      <td>4</td>\n",
       "      <td>31080</td>\n",
       "      <td>3.97</td>\n",
       "      <td>3.79</td>\n",
       "      <td>3.8725</td>\n",
       "      <td>0.047493</td>\n",
       "      <td>2.27</td>\n",
       "      <td>0.405</td>\n",
       "      <td>-0.585</td>\n",
       "      <td>0.5025</td>\n",
       "      <td>0.102015</td>\n",
       "      <td>-0.154354</td>\n",
       "      <td>0.129761</td>\n",
       "      <td>2016</td>\n",
       "      <td>1</td>\n",
       "      <td>0</td>\n",
       "      <td>0</td>\n",
       "      <td>0.15</td>\n",
       "    </tr>\n",
       "    <tr>\n",
       "      <th>1</th>\n",
       "      <td>1</td>\n",
       "      <td>4.250</td>\n",
       "      <td>264000</td>\n",
       "      <td>84</td>\n",
       "      <td>1</td>\n",
       "      <td>31</td>\n",
       "      <td>728</td>\n",
       "      <td>2</td>\n",
       "      <td>17</td>\n",
       "      <td>12.0</td>\n",
       "      <td>2</td>\n",
       "      <td>728</td>\n",
       "      <td>728</td>\n",
       "      <td>728</td>\n",
       "      <td>54</td>\n",
       "      <td>20</td>\n",
       "      <td>14460</td>\n",
       "      <td>3.87</td>\n",
       "      <td>3.80</td>\n",
       "      <td>3.8400</td>\n",
       "      <td>0.018421</td>\n",
       "      <td>2.12</td>\n",
       "      <td>0.380</td>\n",
       "      <td>-0.450</td>\n",
       "      <td>0.4100</td>\n",
       "      <td>0.098191</td>\n",
       "      <td>-0.118421</td>\n",
       "      <td>0.106771</td>\n",
       "      <td>2015</td>\n",
       "      <td>5</td>\n",
       "      <td>0</td>\n",
       "      <td>0</td>\n",
       "      <td>0.19</td>\n",
       "    </tr>\n",
       "    <tr>\n",
       "      <th>2</th>\n",
       "      <td>1</td>\n",
       "      <td>3.990</td>\n",
       "      <td>626000</td>\n",
       "      <td>77</td>\n",
       "      <td>1</td>\n",
       "      <td>44</td>\n",
       "      <td>745</td>\n",
       "      <td>1</td>\n",
       "      <td>968</td>\n",
       "      <td>0.0</td>\n",
       "      <td>0</td>\n",
       "      <td>745</td>\n",
       "      <td>745</td>\n",
       "      <td>745</td>\n",
       "      <td>66</td>\n",
       "      <td>12</td>\n",
       "      <td>46520</td>\n",
       "      <td>3.64</td>\n",
       "      <td>3.57</td>\n",
       "      <td>3.6000</td>\n",
       "      <td>0.019608</td>\n",
       "      <td>1.83</td>\n",
       "      <td>0.350</td>\n",
       "      <td>-0.420</td>\n",
       "      <td>0.3900</td>\n",
       "      <td>0.096154</td>\n",
       "      <td>-0.117647</td>\n",
       "      <td>0.108333</td>\n",
       "      <td>2016</td>\n",
       "      <td>5</td>\n",
       "      <td>0</td>\n",
       "      <td>0</td>\n",
       "      <td>0.08</td>\n",
       "    </tr>\n",
       "    <tr>\n",
       "      <th>3</th>\n",
       "      <td>3</td>\n",
       "      <td>4.250</td>\n",
       "      <td>305000</td>\n",
       "      <td>79</td>\n",
       "      <td>1</td>\n",
       "      <td>45</td>\n",
       "      <td>716</td>\n",
       "      <td>1</td>\n",
       "      <td>917</td>\n",
       "      <td>0.0</td>\n",
       "      <td>0</td>\n",
       "      <td>716</td>\n",
       "      <td>716</td>\n",
       "      <td>716</td>\n",
       "      <td>80</td>\n",
       "      <td>4</td>\n",
       "      <td>40140</td>\n",
       "      <td>3.70</td>\n",
       "      <td>3.65</td>\n",
       "      <td>3.6720</td>\n",
       "      <td>0.013699</td>\n",
       "      <td>1.87</td>\n",
       "      <td>0.550</td>\n",
       "      <td>-0.600</td>\n",
       "      <td>0.5780</td>\n",
       "      <td>0.148649</td>\n",
       "      <td>-0.164384</td>\n",
       "      <td>0.157407</td>\n",
       "      <td>2015</td>\n",
       "      <td>4</td>\n",
       "      <td>0</td>\n",
       "      <td>0</td>\n",
       "      <td>0.14</td>\n",
       "    </tr>\n",
       "    <tr>\n",
       "      <th>4</th>\n",
       "      <td>1</td>\n",
       "      <td>4.000</td>\n",
       "      <td>250000</td>\n",
       "      <td>80</td>\n",
       "      <td>2</td>\n",
       "      <td>34</td>\n",
       "      <td>797</td>\n",
       "      <td>1</td>\n",
       "      <td>850</td>\n",
       "      <td>0.0</td>\n",
       "      <td>0</td>\n",
       "      <td>797</td>\n",
       "      <td>787</td>\n",
       "      <td>792</td>\n",
       "      <td>54</td>\n",
       "      <td>3</td>\n",
       "      <td>38060</td>\n",
       "      <td>3.94</td>\n",
       "      <td>3.84</td>\n",
       "      <td>3.9050</td>\n",
       "      <td>0.026042</td>\n",
       "      <td>2.20</td>\n",
       "      <td>0.060</td>\n",
       "      <td>-0.160</td>\n",
       "      <td>0.0950</td>\n",
       "      <td>0.015228</td>\n",
       "      <td>-0.041667</td>\n",
       "      <td>0.024328</td>\n",
       "      <td>2015</td>\n",
       "      <td>8</td>\n",
       "      <td>0</td>\n",
       "      <td>0</td>\n",
       "      <td>0.02</td>\n",
       "    </tr>\n",
       "  </tbody>\n",
       "</table>\n",
       "</div>"
      ],
      "text/plain": [
       "   origChannel  origIntRate  origUPB  origLTV  numBorrowers  origDebtIncRatio  \\\n",
       "0            3        4.375   236000       60             1                45   \n",
       "1            1        4.250   264000       84             1                31   \n",
       "2            1        3.990   626000       77             1                44   \n",
       "3            3        4.250   305000       79             1                45   \n",
       "4            1        4.000   250000       80             2                34   \n",
       "\n",
       "   borrCreditScore  loanPurp  zipCode  pMIperct  mortInsType  bestCreditScore  \\\n",
       "0              671         1      900       0.0            0              671   \n",
       "1              728         2       17      12.0            2              728   \n",
       "2              745         1      968       0.0            0              745   \n",
       "3              716         1      917       0.0            0              716   \n",
       "4              797         1      850       0.0            0              797   \n",
       "\n",
       "   worstCreditScore  avgCreditScore  bankNumber  stateNumber    mSA  \\\n",
       "0               671             671           1            4  31080   \n",
       "1               728             728          54           20  14460   \n",
       "2               745             745          66           12  46520   \n",
       "3               716             716          80            4  40140   \n",
       "4               787             792          54            3  38060   \n",
       "\n",
       "   fmacRateMax  fmacRateMin  fmacRateAvg  fmacRateVolatility  fredRate  \\\n",
       "0         3.97         3.79       3.8725            0.047493      2.27   \n",
       "1         3.87         3.80       3.8400            0.018421      2.12   \n",
       "2         3.64         3.57       3.6000            0.019608      1.83   \n",
       "3         3.70         3.65       3.6720            0.013699      1.87   \n",
       "4         3.94         3.84       3.9050            0.026042      2.20   \n",
       "\n",
       "   rateDiffAbove  rateDiffBelow  rateDiffAvg  rateDiffAbovePct  \\\n",
       "0          0.405         -0.585       0.5025          0.102015   \n",
       "1          0.380         -0.450       0.4100          0.098191   \n",
       "2          0.350         -0.420       0.3900          0.096154   \n",
       "3          0.550         -0.600       0.5780          0.148649   \n",
       "4          0.060         -0.160       0.0950          0.015228   \n",
       "\n",
       "   rateDiffBelowPct  rateDiffAvgPct  origYear  origMonth  zeroBalCode  Label  \\\n",
       "0         -0.154354        0.129761      2016          1            0      0   \n",
       "1         -0.118421        0.106771      2015          5            0      0   \n",
       "2         -0.117647        0.108333      2016          5            0      0   \n",
       "3         -0.164384        0.157407      2015          4            0      0   \n",
       "4         -0.041667        0.024328      2015          8            0      0   \n",
       "\n",
       "   Score  \n",
       "0   0.15  \n",
       "1   0.19  \n",
       "2   0.08  \n",
       "3   0.14  \n",
       "4   0.02  "
      ]
     },
     "execution_count": 68,
     "metadata": {},
     "output_type": "execute_result"
    }
   ],
   "source": [
    "pd.set_option('max_columns',None)\n",
    "predictions.head()"
   ]
  },
  {
   "cell_type": "code",
   "execution_count": 69,
   "metadata": {},
   "outputs": [],
   "source": [
    "results = predictions[['zeroBalCode','Label','Score']]"
   ]
  },
  {
   "cell_type": "code",
   "execution_count": 70,
   "metadata": {},
   "outputs": [
    {
     "data": {
      "text/plain": [
       "0    3514\n",
       "1      25\n",
       "Name: Label, dtype: int64"
      ]
     },
     "execution_count": 70,
     "metadata": {},
     "output_type": "execute_result"
    }
   ],
   "source": [
    "predictions.Label.value_counts()"
   ]
  },
  {
   "cell_type": "code",
   "execution_count": 72,
   "metadata": {},
   "outputs": [],
   "source": [
    "results['Confusion'] = results.apply(calc_confusion, axis=1)"
   ]
  },
  {
   "cell_type": "code",
   "execution_count": 73,
   "metadata": {},
   "outputs": [],
   "source": [
    "confusionMatrix = results.Confusion.value_counts().to_dict()"
   ]
  },
  {
   "cell_type": "code",
   "execution_count": 78,
   "metadata": {},
   "outputs": [
    {
     "name": "stdout",
     "output_type": "stream",
     "text": [
      "           ##############################\n",
      "           #             #              #\n",
      "         0 #    3345     #     169      #\n",
      "  True     #             #              #\n",
      "  Class    ##############################\n",
      "           #             #              #\n",
      "         1 #    14       #     11       #\n",
      "           #             #              #\n",
      "           ##############################\n",
      "                  0              1        \n",
      "                  Predicted Class           \n"
     ]
    }
   ],
   "source": [
    "print(f'           ##############################')\n",
    "print(f'           #             #              #')\n",
    "print(f'         0 #    {confusionMatrix[\"TrueNegative\"]}     #     {confusionMatrix[\"FalsePositive\"]}      #')\n",
    "print(f'  True     #             #              #')\n",
    "print(f'  Class    ##############################')\n",
    "print(f'           #             #              #')\n",
    "print(f'         1 #    {confusionMatrix[\"FalseNegative\"]}       #     {confusionMatrix[\"TruePositive\"]}       #')\n",
    "print(f'           #             #              #')\n",
    "print(f'           ##############################')\n",
    "print(f'                  0              1        ')\n",
    "print(f'                  Predicted Class           ')"
   ]
  },
  {
   "cell_type": "code",
   "execution_count": 75,
   "metadata": {},
   "outputs": [
    {
     "name": "stdout",
     "output_type": "stream",
     "text": [
      "TrueNegative:  99.58%\n",
      "FalseNegative:  0.42%\n",
      "TruePosiive:   6.11%\n",
      "FalsePositive: 93.89%\n"
     ]
    }
   ],
   "source": [
    "# 0 or 2 = Predict equals truth, 1 = Predict doesn't equal truth\n",
    "totalNegative = confusionMatrix['TrueNegative'] + confusionMatrix['FalseNegative']\n",
    "totalPositive = confusionMatrix['TruePositive'] + confusionMatrix['FalsePositive']\n",
    "trueNegativePct = confusionMatrix['TrueNegative'] / totalNegative * 100\n",
    "falseNegativePct = confusionMatrix['FalseNegative'] / totalNegative * 100\n",
    "truePositivePct = confusionMatrix['TruePositive'] / totalPositive * 100\n",
    "falsePositivePct = confusionMatrix['FalsePositive'] / totalPositive * 100\n",
    "\n",
    "print(f'TrueNegative:  {round(trueNegativePct,2)}%')\n",
    "print(f'FalseNegative:  {round(falseNegativePct,2)}%')\n",
    "print(f'TruePosiive:   {round(truePositivePct,2)}%')\n",
    "print(f'FalsePositive: {round(falsePositivePct,2)}%')"
   ]
  },
  {
   "cell_type": "markdown",
   "metadata": {},
   "source": [
    "#### Well this is disappointing... The non-oversampled test dataset performed worse than random flipping a coin!"
   ]
  },
  {
   "cell_type": "code",
   "execution_count": 76,
   "metadata": {},
   "outputs": [],
   "source": [
    "#save_model(ett, 'tunedCatboost_EPOCH2_Over50_50_052520')"
   ]
  },
  {
   "cell_type": "markdown",
   "metadata": {},
   "source": [
    "# Tuned Light GBM Fold = 10"
   ]
  },
  {
   "cell_type": "code",
   "execution_count": 114,
   "metadata": {},
   "outputs": [],
   "source": [
    "predictions = predict_model(tuned_lightgbm, data=test_df)"
   ]
  },
  {
   "cell_type": "code",
   "execution_count": 115,
   "metadata": {},
   "outputs": [
    {
     "data": {
      "text/html": [
       "<div>\n",
       "<style scoped>\n",
       "    .dataframe tbody tr th:only-of-type {\n",
       "        vertical-align: middle;\n",
       "    }\n",
       "\n",
       "    .dataframe tbody tr th {\n",
       "        vertical-align: top;\n",
       "    }\n",
       "\n",
       "    .dataframe thead th {\n",
       "        text-align: right;\n",
       "    }\n",
       "</style>\n",
       "<table border=\"1\" class=\"dataframe\">\n",
       "  <thead>\n",
       "    <tr style=\"text-align: right;\">\n",
       "      <th></th>\n",
       "      <th>origChannel</th>\n",
       "      <th>origIntRate</th>\n",
       "      <th>origUPB</th>\n",
       "      <th>origLTV</th>\n",
       "      <th>numBorrowers</th>\n",
       "      <th>origDebtIncRatio</th>\n",
       "      <th>borrCreditScore</th>\n",
       "      <th>loanPurp</th>\n",
       "      <th>zipCode</th>\n",
       "      <th>pMIperct</th>\n",
       "      <th>mortInsType</th>\n",
       "      <th>bestCreditScore</th>\n",
       "      <th>worstCreditScore</th>\n",
       "      <th>avgCreditScore</th>\n",
       "      <th>bankNumber</th>\n",
       "      <th>stateNumber</th>\n",
       "      <th>mSA</th>\n",
       "      <th>fmacRateMax</th>\n",
       "      <th>fmacRateMin</th>\n",
       "      <th>fmacRateAvg</th>\n",
       "      <th>fmacRateVolatility</th>\n",
       "      <th>fredRate</th>\n",
       "      <th>rateDiffAbove</th>\n",
       "      <th>rateDiffBelow</th>\n",
       "      <th>rateDiffAvg</th>\n",
       "      <th>rateDiffAbovePct</th>\n",
       "      <th>rateDiffBelowPct</th>\n",
       "      <th>rateDiffAvgPct</th>\n",
       "      <th>origYear</th>\n",
       "      <th>origMonth</th>\n",
       "      <th>zeroBalCode</th>\n",
       "      <th>Label</th>\n",
       "      <th>Score</th>\n",
       "    </tr>\n",
       "  </thead>\n",
       "  <tbody>\n",
       "    <tr>\n",
       "      <th>0</th>\n",
       "      <td>3</td>\n",
       "      <td>4.375</td>\n",
       "      <td>236000</td>\n",
       "      <td>60</td>\n",
       "      <td>1</td>\n",
       "      <td>45</td>\n",
       "      <td>671</td>\n",
       "      <td>1</td>\n",
       "      <td>900</td>\n",
       "      <td>0.0</td>\n",
       "      <td>0</td>\n",
       "      <td>671</td>\n",
       "      <td>671</td>\n",
       "      <td>671</td>\n",
       "      <td>1</td>\n",
       "      <td>4</td>\n",
       "      <td>31080</td>\n",
       "      <td>3.97</td>\n",
       "      <td>3.79</td>\n",
       "      <td>3.8725</td>\n",
       "      <td>0.047493</td>\n",
       "      <td>2.27</td>\n",
       "      <td>0.405</td>\n",
       "      <td>-0.585</td>\n",
       "      <td>0.5025</td>\n",
       "      <td>0.102015</td>\n",
       "      <td>-0.154354</td>\n",
       "      <td>0.129761</td>\n",
       "      <td>2016</td>\n",
       "      <td>1</td>\n",
       "      <td>0</td>\n",
       "      <td>0</td>\n",
       "      <td>0.1326</td>\n",
       "    </tr>\n",
       "    <tr>\n",
       "      <th>1</th>\n",
       "      <td>1</td>\n",
       "      <td>4.250</td>\n",
       "      <td>264000</td>\n",
       "      <td>84</td>\n",
       "      <td>1</td>\n",
       "      <td>31</td>\n",
       "      <td>728</td>\n",
       "      <td>2</td>\n",
       "      <td>17</td>\n",
       "      <td>12.0</td>\n",
       "      <td>2</td>\n",
       "      <td>728</td>\n",
       "      <td>728</td>\n",
       "      <td>728</td>\n",
       "      <td>54</td>\n",
       "      <td>20</td>\n",
       "      <td>14460</td>\n",
       "      <td>3.87</td>\n",
       "      <td>3.80</td>\n",
       "      <td>3.8400</td>\n",
       "      <td>0.018421</td>\n",
       "      <td>2.12</td>\n",
       "      <td>0.380</td>\n",
       "      <td>-0.450</td>\n",
       "      <td>0.4100</td>\n",
       "      <td>0.098191</td>\n",
       "      <td>-0.118421</td>\n",
       "      <td>0.106771</td>\n",
       "      <td>2015</td>\n",
       "      <td>5</td>\n",
       "      <td>0</td>\n",
       "      <td>1</td>\n",
       "      <td>0.6123</td>\n",
       "    </tr>\n",
       "    <tr>\n",
       "      <th>2</th>\n",
       "      <td>1</td>\n",
       "      <td>3.990</td>\n",
       "      <td>626000</td>\n",
       "      <td>77</td>\n",
       "      <td>1</td>\n",
       "      <td>44</td>\n",
       "      <td>745</td>\n",
       "      <td>1</td>\n",
       "      <td>968</td>\n",
       "      <td>0.0</td>\n",
       "      <td>0</td>\n",
       "      <td>745</td>\n",
       "      <td>745</td>\n",
       "      <td>745</td>\n",
       "      <td>66</td>\n",
       "      <td>12</td>\n",
       "      <td>46520</td>\n",
       "      <td>3.64</td>\n",
       "      <td>3.57</td>\n",
       "      <td>3.6000</td>\n",
       "      <td>0.019608</td>\n",
       "      <td>1.83</td>\n",
       "      <td>0.350</td>\n",
       "      <td>-0.420</td>\n",
       "      <td>0.3900</td>\n",
       "      <td>0.096154</td>\n",
       "      <td>-0.117647</td>\n",
       "      <td>0.108333</td>\n",
       "      <td>2016</td>\n",
       "      <td>5</td>\n",
       "      <td>0</td>\n",
       "      <td>0</td>\n",
       "      <td>0.0345</td>\n",
       "    </tr>\n",
       "    <tr>\n",
       "      <th>3</th>\n",
       "      <td>3</td>\n",
       "      <td>4.250</td>\n",
       "      <td>305000</td>\n",
       "      <td>79</td>\n",
       "      <td>1</td>\n",
       "      <td>45</td>\n",
       "      <td>716</td>\n",
       "      <td>1</td>\n",
       "      <td>917</td>\n",
       "      <td>0.0</td>\n",
       "      <td>0</td>\n",
       "      <td>716</td>\n",
       "      <td>716</td>\n",
       "      <td>716</td>\n",
       "      <td>80</td>\n",
       "      <td>4</td>\n",
       "      <td>40140</td>\n",
       "      <td>3.70</td>\n",
       "      <td>3.65</td>\n",
       "      <td>3.6720</td>\n",
       "      <td>0.013699</td>\n",
       "      <td>1.87</td>\n",
       "      <td>0.550</td>\n",
       "      <td>-0.600</td>\n",
       "      <td>0.5780</td>\n",
       "      <td>0.148649</td>\n",
       "      <td>-0.164384</td>\n",
       "      <td>0.157407</td>\n",
       "      <td>2015</td>\n",
       "      <td>4</td>\n",
       "      <td>0</td>\n",
       "      <td>0</td>\n",
       "      <td>0.3047</td>\n",
       "    </tr>\n",
       "    <tr>\n",
       "      <th>4</th>\n",
       "      <td>1</td>\n",
       "      <td>4.000</td>\n",
       "      <td>250000</td>\n",
       "      <td>80</td>\n",
       "      <td>2</td>\n",
       "      <td>34</td>\n",
       "      <td>797</td>\n",
       "      <td>1</td>\n",
       "      <td>850</td>\n",
       "      <td>0.0</td>\n",
       "      <td>0</td>\n",
       "      <td>797</td>\n",
       "      <td>787</td>\n",
       "      <td>792</td>\n",
       "      <td>54</td>\n",
       "      <td>3</td>\n",
       "      <td>38060</td>\n",
       "      <td>3.94</td>\n",
       "      <td>3.84</td>\n",
       "      <td>3.9050</td>\n",
       "      <td>0.026042</td>\n",
       "      <td>2.20</td>\n",
       "      <td>0.060</td>\n",
       "      <td>-0.160</td>\n",
       "      <td>0.0950</td>\n",
       "      <td>0.015228</td>\n",
       "      <td>-0.041667</td>\n",
       "      <td>0.024328</td>\n",
       "      <td>2015</td>\n",
       "      <td>8</td>\n",
       "      <td>0</td>\n",
       "      <td>0</td>\n",
       "      <td>0.0252</td>\n",
       "    </tr>\n",
       "  </tbody>\n",
       "</table>\n",
       "</div>"
      ],
      "text/plain": [
       "   origChannel  origIntRate  origUPB  origLTV  numBorrowers  origDebtIncRatio  \\\n",
       "0            3        4.375   236000       60             1                45   \n",
       "1            1        4.250   264000       84             1                31   \n",
       "2            1        3.990   626000       77             1                44   \n",
       "3            3        4.250   305000       79             1                45   \n",
       "4            1        4.000   250000       80             2                34   \n",
       "\n",
       "   borrCreditScore  loanPurp  zipCode  pMIperct  mortInsType  bestCreditScore  \\\n",
       "0              671         1      900       0.0            0              671   \n",
       "1              728         2       17      12.0            2              728   \n",
       "2              745         1      968       0.0            0              745   \n",
       "3              716         1      917       0.0            0              716   \n",
       "4              797         1      850       0.0            0              797   \n",
       "\n",
       "   worstCreditScore  avgCreditScore  bankNumber  stateNumber    mSA  \\\n",
       "0               671             671           1            4  31080   \n",
       "1               728             728          54           20  14460   \n",
       "2               745             745          66           12  46520   \n",
       "3               716             716          80            4  40140   \n",
       "4               787             792          54            3  38060   \n",
       "\n",
       "   fmacRateMax  fmacRateMin  fmacRateAvg  fmacRateVolatility  fredRate  \\\n",
       "0         3.97         3.79       3.8725            0.047493      2.27   \n",
       "1         3.87         3.80       3.8400            0.018421      2.12   \n",
       "2         3.64         3.57       3.6000            0.019608      1.83   \n",
       "3         3.70         3.65       3.6720            0.013699      1.87   \n",
       "4         3.94         3.84       3.9050            0.026042      2.20   \n",
       "\n",
       "   rateDiffAbove  rateDiffBelow  rateDiffAvg  rateDiffAbovePct  \\\n",
       "0          0.405         -0.585       0.5025          0.102015   \n",
       "1          0.380         -0.450       0.4100          0.098191   \n",
       "2          0.350         -0.420       0.3900          0.096154   \n",
       "3          0.550         -0.600       0.5780          0.148649   \n",
       "4          0.060         -0.160       0.0950          0.015228   \n",
       "\n",
       "   rateDiffBelowPct  rateDiffAvgPct  origYear  origMonth  zeroBalCode  Label  \\\n",
       "0         -0.154354        0.129761      2016          1            0      0   \n",
       "1         -0.118421        0.106771      2015          5            0      1   \n",
       "2         -0.117647        0.108333      2016          5            0      0   \n",
       "3         -0.164384        0.157407      2015          4            0      0   \n",
       "4         -0.041667        0.024328      2015          8            0      0   \n",
       "\n",
       "    Score  \n",
       "0  0.1326  \n",
       "1  0.6123  \n",
       "2  0.0345  \n",
       "3  0.3047  \n",
       "4  0.0252  "
      ]
     },
     "execution_count": 115,
     "metadata": {},
     "output_type": "execute_result"
    }
   ],
   "source": [
    "pd.set_option('max_columns',None)\n",
    "predictions.head()"
   ]
  },
  {
   "cell_type": "code",
   "execution_count": 116,
   "metadata": {},
   "outputs": [],
   "source": [
    "results = predictions[['zeroBalCode','Label','Score']]"
   ]
  },
  {
   "cell_type": "code",
   "execution_count": 117,
   "metadata": {},
   "outputs": [
    {
     "data": {
      "text/plain": [
       "0    3109\n",
       "1     430\n",
       "Name: Label, dtype: int64"
      ]
     },
     "execution_count": 117,
     "metadata": {},
     "output_type": "execute_result"
    }
   ],
   "source": [
    "predictions.Label.value_counts()"
   ]
  },
  {
   "cell_type": "code",
   "execution_count": 118,
   "metadata": {},
   "outputs": [],
   "source": [
    "def calc_confusion(row):\n",
    "    if ((row['zeroBalCode'] == 0) & (row['Label'] == 0)):\n",
    "        value = 'TrueNegative'\n",
    "    elif ((row['zeroBalCode'] == 0) & (row['Label'] == 1)):\n",
    "        value = 'FalseNegative'\n",
    "    elif ((row['zeroBalCode'] == 1) & (row['Label'] == 1)):\n",
    "        value = 'TruePositive'\n",
    "    elif ((row['zeroBalCode'] == 1) & (row['Label'] == 0)):\n",
    "        value = 'FalsePositive'\n",
    "    else:\n",
    "        value = 'Undefined'\n",
    "    return value"
   ]
  },
  {
   "cell_type": "code",
   "execution_count": 119,
   "metadata": {},
   "outputs": [],
   "source": [
    "results['Confusion'] = results.apply(calc_confusion, axis=1)"
   ]
  },
  {
   "cell_type": "code",
   "execution_count": 120,
   "metadata": {},
   "outputs": [],
   "source": [
    "confusionMatrix = results.Confusion.value_counts().to_dict()"
   ]
  },
  {
   "cell_type": "code",
   "execution_count": 123,
   "metadata": {},
   "outputs": [
    {
     "name": "stdout",
     "output_type": "stream",
     "text": [
      "           ##############################\n",
      "           #             #              #\n",
      "         0 #    2986     #     123      #\n",
      "  True     #             #              #\n",
      "  Class    ##############################\n",
      "           #             #              #\n",
      "         1 #    373      #     57       #\n",
      "           #             #              #\n",
      "           ##############################\n",
      "                  0              1        \n",
      "                  Predicted Class           \n"
     ]
    }
   ],
   "source": [
    "print(f'           ##############################')\n",
    "print(f'           #             #              #')\n",
    "print(f'         0 #    {confusionMatrix[\"TrueNegative\"]}     #     {confusionMatrix[\"FalsePositive\"]}      #')\n",
    "print(f'  True     #             #              #')\n",
    "print(f'  Class    ##############################')\n",
    "print(f'           #             #              #')\n",
    "print(f'         1 #    {confusionMatrix[\"FalseNegative\"]}      #     {confusionMatrix[\"TruePositive\"]}       #')\n",
    "print(f'           #             #              #')\n",
    "print(f'           ##############################')\n",
    "print(f'                  0              1        ')\n",
    "print(f'                  Predicted Class           ')"
   ]
  },
  {
   "cell_type": "code",
   "execution_count": 122,
   "metadata": {},
   "outputs": [
    {
     "name": "stdout",
     "output_type": "stream",
     "text": [
      "TrueNegative:  88.9%\n",
      "FalseNegative:  11.1%\n",
      "TruePosiive:   31.67%\n",
      "FalsePositive: 68.33%\n"
     ]
    }
   ],
   "source": [
    "# 0 or 2 = Predict equals truth, 1 = Predict doesn't equal truth\n",
    "totalNegative = confusionMatrix['TrueNegative'] + confusionMatrix['FalseNegative']\n",
    "totalPositive = confusionMatrix['TruePositive'] + confusionMatrix['FalsePositive']\n",
    "trueNegativePct = confusionMatrix['TrueNegative'] / totalNegative * 100\n",
    "falseNegativePct = confusionMatrix['FalseNegative'] / totalNegative * 100\n",
    "truePositivePct = confusionMatrix['TruePositive'] / totalPositive * 100\n",
    "falsePositivePct = confusionMatrix['FalsePositive'] / totalPositive * 100\n",
    "\n",
    "print(f'TrueNegative:  {round(trueNegativePct,2)}%')\n",
    "print(f'FalseNegative:  {round(falseNegativePct,2)}%')\n",
    "print(f'TruePosiive:   {round(truePositivePct,2)}%')\n",
    "print(f'FalsePositive: {round(falsePositivePct,2)}%')"
   ]
  },
  {
   "cell_type": "markdown",
   "metadata": {},
   "source": [
    "#### Well this is disappointing... The non-oversampled test dataset performed worse than random flipping a coin!"
   ]
  },
  {
   "cell_type": "code",
   "execution_count": 120,
   "metadata": {},
   "outputs": [
    {
     "name": "stdout",
     "output_type": "stream",
     "text": [
      "Transformation Pipeline and Model Succesfully Saved\n"
     ]
    }
   ],
   "source": [
    "#save_model(tuned_lightgbm, 'tunedLGBM_EPOCH2_Over50_50_052520')"
   ]
  },
  {
   "cell_type": "markdown",
   "metadata": {},
   "source": [
    "# Tuned Light GBM Fold = 100"
   ]
  },
  {
   "cell_type": "code",
   "execution_count": 140,
   "metadata": {},
   "outputs": [],
   "source": [
    "predictions = predict_model(tuned_lightgbm100, data=test_df)"
   ]
  },
  {
   "cell_type": "code",
   "execution_count": 141,
   "metadata": {},
   "outputs": [
    {
     "data": {
      "text/html": [
       "<div>\n",
       "<style scoped>\n",
       "    .dataframe tbody tr th:only-of-type {\n",
       "        vertical-align: middle;\n",
       "    }\n",
       "\n",
       "    .dataframe tbody tr th {\n",
       "        vertical-align: top;\n",
       "    }\n",
       "\n",
       "    .dataframe thead th {\n",
       "        text-align: right;\n",
       "    }\n",
       "</style>\n",
       "<table border=\"1\" class=\"dataframe\">\n",
       "  <thead>\n",
       "    <tr style=\"text-align: right;\">\n",
       "      <th></th>\n",
       "      <th>origChannel</th>\n",
       "      <th>origIntRate</th>\n",
       "      <th>origUPB</th>\n",
       "      <th>origLTV</th>\n",
       "      <th>numBorrowers</th>\n",
       "      <th>origDebtIncRatio</th>\n",
       "      <th>borrCreditScore</th>\n",
       "      <th>loanPurp</th>\n",
       "      <th>zipCode</th>\n",
       "      <th>pMIperct</th>\n",
       "      <th>mortInsType</th>\n",
       "      <th>bestCreditScore</th>\n",
       "      <th>worstCreditScore</th>\n",
       "      <th>avgCreditScore</th>\n",
       "      <th>bankNumber</th>\n",
       "      <th>stateNumber</th>\n",
       "      <th>mSA</th>\n",
       "      <th>fmacRateMax</th>\n",
       "      <th>fmacRateMin</th>\n",
       "      <th>fmacRateAvg</th>\n",
       "      <th>fmacRateVolatility</th>\n",
       "      <th>fredRate</th>\n",
       "      <th>rateDiffAbove</th>\n",
       "      <th>rateDiffBelow</th>\n",
       "      <th>rateDiffAvg</th>\n",
       "      <th>rateDiffAbovePct</th>\n",
       "      <th>rateDiffBelowPct</th>\n",
       "      <th>rateDiffAvgPct</th>\n",
       "      <th>origYear</th>\n",
       "      <th>origMonth</th>\n",
       "      <th>zeroBalCode</th>\n",
       "      <th>Label</th>\n",
       "      <th>Score</th>\n",
       "    </tr>\n",
       "  </thead>\n",
       "  <tbody>\n",
       "    <tr>\n",
       "      <th>0</th>\n",
       "      <td>3</td>\n",
       "      <td>4.990</td>\n",
       "      <td>173000</td>\n",
       "      <td>70</td>\n",
       "      <td>1</td>\n",
       "      <td>37</td>\n",
       "      <td>663</td>\n",
       "      <td>2</td>\n",
       "      <td>972</td>\n",
       "      <td>0.0</td>\n",
       "      <td>0</td>\n",
       "      <td>663</td>\n",
       "      <td>663</td>\n",
       "      <td>663</td>\n",
       "      <td>27</td>\n",
       "      <td>38</td>\n",
       "      <td>38900</td>\n",
       "      <td>4.91</td>\n",
       "      <td>4.78</td>\n",
       "      <td>4.8400</td>\n",
       "      <td>0.027197</td>\n",
       "      <td>3.46</td>\n",
       "      <td>0.080</td>\n",
       "      <td>-0.210</td>\n",
       "      <td>0.1500</td>\n",
       "      <td>0.016293</td>\n",
       "      <td>-0.043933</td>\n",
       "      <td>0.030992</td>\n",
       "      <td>2011</td>\n",
       "      <td>4</td>\n",
       "      <td>0</td>\n",
       "      <td>0</td>\n",
       "      <td>0.4960</td>\n",
       "    </tr>\n",
       "    <tr>\n",
       "      <th>1</th>\n",
       "      <td>1</td>\n",
       "      <td>5.625</td>\n",
       "      <td>122000</td>\n",
       "      <td>70</td>\n",
       "      <td>1</td>\n",
       "      <td>21</td>\n",
       "      <td>650</td>\n",
       "      <td>1</td>\n",
       "      <td>170</td>\n",
       "      <td>0.0</td>\n",
       "      <td>0</td>\n",
       "      <td>650</td>\n",
       "      <td>650</td>\n",
       "      <td>650</td>\n",
       "      <td>80</td>\n",
       "      <td>39</td>\n",
       "      <td>30140</td>\n",
       "      <td>5.25</td>\n",
       "      <td>5.04</td>\n",
       "      <td>5.1300</td>\n",
       "      <td>0.041667</td>\n",
       "      <td>2.87</td>\n",
       "      <td>0.375</td>\n",
       "      <td>-0.585</td>\n",
       "      <td>0.4950</td>\n",
       "      <td>0.071429</td>\n",
       "      <td>-0.116071</td>\n",
       "      <td>0.096491</td>\n",
       "      <td>2009</td>\n",
       "      <td>2</td>\n",
       "      <td>0</td>\n",
       "      <td>1</td>\n",
       "      <td>0.8841</td>\n",
       "    </tr>\n",
       "    <tr>\n",
       "      <th>2</th>\n",
       "      <td>2</td>\n",
       "      <td>4.875</td>\n",
       "      <td>188000</td>\n",
       "      <td>70</td>\n",
       "      <td>2</td>\n",
       "      <td>52</td>\n",
       "      <td>772</td>\n",
       "      <td>1</td>\n",
       "      <td>837</td>\n",
       "      <td>0.0</td>\n",
       "      <td>0</td>\n",
       "      <td>772</td>\n",
       "      <td>742</td>\n",
       "      <td>757</td>\n",
       "      <td>3</td>\n",
       "      <td>14</td>\n",
       "      <td>14260</td>\n",
       "      <td>5.59</td>\n",
       "      <td>5.29</td>\n",
       "      <td>5.4200</td>\n",
       "      <td>0.056711</td>\n",
       "      <td>3.71</td>\n",
       "      <td>-0.715</td>\n",
       "      <td>0.415</td>\n",
       "      <td>-0.5450</td>\n",
       "      <td>-0.127907</td>\n",
       "      <td>0.078450</td>\n",
       "      <td>-0.100554</td>\n",
       "      <td>2009</td>\n",
       "      <td>6</td>\n",
       "      <td>0</td>\n",
       "      <td>1</td>\n",
       "      <td>0.5111</td>\n",
       "    </tr>\n",
       "    <tr>\n",
       "      <th>3</th>\n",
       "      <td>1</td>\n",
       "      <td>3.750</td>\n",
       "      <td>262000</td>\n",
       "      <td>70</td>\n",
       "      <td>1</td>\n",
       "      <td>21</td>\n",
       "      <td>775</td>\n",
       "      <td>1</td>\n",
       "      <td>900</td>\n",
       "      <td>0.0</td>\n",
       "      <td>0</td>\n",
       "      <td>775</td>\n",
       "      <td>775</td>\n",
       "      <td>775</td>\n",
       "      <td>54</td>\n",
       "      <td>4</td>\n",
       "      <td>31080</td>\n",
       "      <td>3.56</td>\n",
       "      <td>3.51</td>\n",
       "      <td>3.5325</td>\n",
       "      <td>0.014245</td>\n",
       "      <td>2.04</td>\n",
       "      <td>0.190</td>\n",
       "      <td>-0.240</td>\n",
       "      <td>0.2175</td>\n",
       "      <td>0.053371</td>\n",
       "      <td>-0.068376</td>\n",
       "      <td>0.061571</td>\n",
       "      <td>2013</td>\n",
       "      <td>2</td>\n",
       "      <td>0</td>\n",
       "      <td>0</td>\n",
       "      <td>0.1210</td>\n",
       "    </tr>\n",
       "    <tr>\n",
       "      <th>4</th>\n",
       "      <td>2</td>\n",
       "      <td>3.625</td>\n",
       "      <td>259000</td>\n",
       "      <td>80</td>\n",
       "      <td>1</td>\n",
       "      <td>45</td>\n",
       "      <td>732</td>\n",
       "      <td>2</td>\n",
       "      <td>500</td>\n",
       "      <td>0.0</td>\n",
       "      <td>0</td>\n",
       "      <td>732</td>\n",
       "      <td>732</td>\n",
       "      <td>732</td>\n",
       "      <td>53</td>\n",
       "      <td>13</td>\n",
       "      <td>19780</td>\n",
       "      <td>3.62</td>\n",
       "      <td>3.49</td>\n",
       "      <td>3.5500</td>\n",
       "      <td>0.037249</td>\n",
       "      <td>1.67</td>\n",
       "      <td>0.005</td>\n",
       "      <td>-0.135</td>\n",
       "      <td>0.0750</td>\n",
       "      <td>0.001381</td>\n",
       "      <td>-0.038682</td>\n",
       "      <td>0.021127</td>\n",
       "      <td>2012</td>\n",
       "      <td>7</td>\n",
       "      <td>0</td>\n",
       "      <td>0</td>\n",
       "      <td>0.1902</td>\n",
       "    </tr>\n",
       "  </tbody>\n",
       "</table>\n",
       "</div>"
      ],
      "text/plain": [
       "   origChannel  origIntRate  origUPB  origLTV  numBorrowers  origDebtIncRatio  \\\n",
       "0            3        4.990   173000       70             1                37   \n",
       "1            1        5.625   122000       70             1                21   \n",
       "2            2        4.875   188000       70             2                52   \n",
       "3            1        3.750   262000       70             1                21   \n",
       "4            2        3.625   259000       80             1                45   \n",
       "\n",
       "   borrCreditScore  loanPurp  zipCode  pMIperct  mortInsType  bestCreditScore  \\\n",
       "0              663         2      972       0.0            0              663   \n",
       "1              650         1      170       0.0            0              650   \n",
       "2              772         1      837       0.0            0              772   \n",
       "3              775         1      900       0.0            0              775   \n",
       "4              732         2      500       0.0            0              732   \n",
       "\n",
       "   worstCreditScore  avgCreditScore  bankNumber  stateNumber    mSA  \\\n",
       "0               663             663          27           38  38900   \n",
       "1               650             650          80           39  30140   \n",
       "2               742             757           3           14  14260   \n",
       "3               775             775          54            4  31080   \n",
       "4               732             732          53           13  19780   \n",
       "\n",
       "   fmacRateMax  fmacRateMin  fmacRateAvg  fmacRateVolatility  fredRate  \\\n",
       "0         4.91         4.78       4.8400            0.027197      3.46   \n",
       "1         5.25         5.04       5.1300            0.041667      2.87   \n",
       "2         5.59         5.29       5.4200            0.056711      3.71   \n",
       "3         3.56         3.51       3.5325            0.014245      2.04   \n",
       "4         3.62         3.49       3.5500            0.037249      1.67   \n",
       "\n",
       "   rateDiffAbove  rateDiffBelow  rateDiffAvg  rateDiffAbovePct  \\\n",
       "0          0.080         -0.210       0.1500          0.016293   \n",
       "1          0.375         -0.585       0.4950          0.071429   \n",
       "2         -0.715          0.415      -0.5450         -0.127907   \n",
       "3          0.190         -0.240       0.2175          0.053371   \n",
       "4          0.005         -0.135       0.0750          0.001381   \n",
       "\n",
       "   rateDiffBelowPct  rateDiffAvgPct  origYear  origMonth  zeroBalCode  Label  \\\n",
       "0         -0.043933        0.030992      2011          4            0      0   \n",
       "1         -0.116071        0.096491      2009          2            0      1   \n",
       "2          0.078450       -0.100554      2009          6            0      1   \n",
       "3         -0.068376        0.061571      2013          2            0      0   \n",
       "4         -0.038682        0.021127      2012          7            0      0   \n",
       "\n",
       "    Score  \n",
       "0  0.4960  \n",
       "1  0.8841  \n",
       "2  0.5111  \n",
       "3  0.1210  \n",
       "4  0.1902  "
      ]
     },
     "execution_count": 141,
     "metadata": {},
     "output_type": "execute_result"
    }
   ],
   "source": [
    "pd.set_option('max_columns',None)\n",
    "predictions.head()"
   ]
  },
  {
   "cell_type": "code",
   "execution_count": 142,
   "metadata": {},
   "outputs": [],
   "source": [
    "results = predictions[['zeroBalCode','Label','Score']]"
   ]
  },
  {
   "cell_type": "code",
   "execution_count": 143,
   "metadata": {},
   "outputs": [
    {
     "data": {
      "text/plain": [
       "0    8908\n",
       "1    3062\n",
       "Name: Label, dtype: int64"
      ]
     },
     "execution_count": 143,
     "metadata": {},
     "output_type": "execute_result"
    }
   ],
   "source": [
    "predictions.Label.value_counts()"
   ]
  },
  {
   "cell_type": "code",
   "execution_count": 144,
   "metadata": {},
   "outputs": [],
   "source": [
    "def calc_confusion(row):\n",
    "    if ((row['zeroBalCode'] == 0) & (row['Label'] == 0)):\n",
    "        value = 'TrueNegative'\n",
    "    elif ((row['zeroBalCode'] == 0) & (row['Label'] == 1)):\n",
    "        value = 'FalseNegative'\n",
    "    elif ((row['zeroBalCode'] == 1) & (row['Label'] == 1)):\n",
    "        value = 'TruePositive'\n",
    "    elif ((row['zeroBalCode'] == 1) & (row['Label'] == 0)):\n",
    "        value = 'FalsePositive'\n",
    "    else:\n",
    "        value = 'Undefined'\n",
    "    return value"
   ]
  },
  {
   "cell_type": "code",
   "execution_count": 145,
   "metadata": {},
   "outputs": [],
   "source": [
    "results['Confusion'] = results.apply(calc_confusion, axis=1)"
   ]
  },
  {
   "cell_type": "code",
   "execution_count": 146,
   "metadata": {},
   "outputs": [],
   "source": [
    "confusionMatrix = results.Confusion.value_counts().to_dict()"
   ]
  },
  {
   "cell_type": "code",
   "execution_count": 149,
   "metadata": {},
   "outputs": [
    {
     "name": "stdout",
     "output_type": "stream",
     "text": [
      "           ##############################\n",
      "           #             #              #\n",
      "         0 #    8046     #     862      #\n",
      "  True     #             #              #\n",
      "  Class    ##############################\n",
      "           #             #              #\n",
      "         1 #    2261     #     801      #\n",
      "           #             #              #\n",
      "           ##############################\n",
      "                  0              1        \n",
      "                  Predicted Class           \n"
     ]
    }
   ],
   "source": [
    "print(f'           ##############################')\n",
    "print(f'           #             #              #')\n",
    "print(f'         0 #    {confusionMatrix[\"TrueNegative\"]}     #     {confusionMatrix[\"FalsePositive\"]}      #')\n",
    "print(f'  True     #             #              #')\n",
    "print(f'  Class    ##############################')\n",
    "print(f'           #             #              #')\n",
    "print(f'         1 #    {confusionMatrix[\"FalseNegative\"]}     #     {confusionMatrix[\"TruePositive\"]}      #')\n",
    "print(f'           #             #              #')\n",
    "print(f'           ##############################')\n",
    "print(f'                  0              1        ')\n",
    "print(f'                  Predicted Class           ')"
   ]
  },
  {
   "cell_type": "code",
   "execution_count": 150,
   "metadata": {},
   "outputs": [
    {
     "name": "stdout",
     "output_type": "stream",
     "text": [
      "TrueNegative:  78.06%\n",
      "FalseNegative:  21.94%\n",
      "TruePosiive:   48.17%\n",
      "FalsePositive: 51.83%\n"
     ]
    }
   ],
   "source": [
    "# 0 or 2 = Predict equals truth, 1 = Predict doesn't equal truth\n",
    "totalNegative = confusionMatrix['TrueNegative'] + confusionMatrix['FalseNegative']\n",
    "totalPositive = confusionMatrix['TruePositive'] + confusionMatrix['FalsePositive']\n",
    "trueNegativePct = confusionMatrix['TrueNegative'] / totalNegative * 100\n",
    "falseNegativePct = confusionMatrix['FalseNegative'] / totalNegative * 100\n",
    "truePositivePct = confusionMatrix['TruePositive'] / totalPositive * 100\n",
    "falsePositivePct = confusionMatrix['FalsePositive'] / totalPositive * 100\n",
    "\n",
    "print(f'TrueNegative:  {round(trueNegativePct,2)}%')\n",
    "print(f'FalseNegative:  {round(falseNegativePct,2)}%')\n",
    "print(f'TruePosiive:   {round(truePositivePct,2)}%')\n",
    "print(f'FalsePositive: {round(falsePositivePct,2)}%')"
   ]
  },
  {
   "cell_type": "markdown",
   "metadata": {},
   "source": [
    "#### Well this is disappointing... The non-oversampled test dataset performed worse than random flipping a coin!"
   ]
  },
  {
   "cell_type": "code",
   "execution_count": 151,
   "metadata": {},
   "outputs": [
    {
     "name": "stdout",
     "output_type": "stream",
     "text": [
      "Transformation Pipeline and Model Succesfully Saved\n"
     ]
    }
   ],
   "source": [
    "save_model(tuned_lightgbm100, 'tuned100LGBM_EPOCH2_Over50_50_052520')"
   ]
  }
 ],
 "metadata": {
  "kernelspec": {
   "display_name": "mlpycaret",
   "language": "python",
   "name": "mlpycaret"
  },
  "language_info": {
   "codemirror_mode": {
    "name": "ipython",
    "version": 3
   },
   "file_extension": ".py",
   "mimetype": "text/x-python",
   "name": "python",
   "nbconvert_exporter": "python",
   "pygments_lexer": "ipython3",
   "version": "3.6.10"
  }
 },
 "nbformat": 4,
 "nbformat_minor": 4
}
