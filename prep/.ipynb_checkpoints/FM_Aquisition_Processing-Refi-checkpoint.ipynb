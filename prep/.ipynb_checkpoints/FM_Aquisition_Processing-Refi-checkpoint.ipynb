{
 "cells": [
  {
   "cell_type": "markdown",
   "metadata": {},
   "source": [
    "## Import Dependencies"
   ]
  },
  {
   "cell_type": "code",
   "execution_count": 1,
   "metadata": {},
   "outputs": [
    {
     "ename": "ModuleNotFoundError",
     "evalue": "No module named 'settings'",
     "output_type": "error",
     "traceback": [
      "\u001b[1;31m---------------------------------------------------------------------------\u001b[0m",
      "\u001b[1;31mModuleNotFoundError\u001b[0m                       Traceback (most recent call last)",
      "\u001b[1;32m<ipython-input-1-2387e5043741>\u001b[0m in \u001b[0;36m<module>\u001b[1;34m\u001b[0m\n\u001b[0;32m      4\u001b[0m \u001b[1;32mimport\u001b[0m \u001b[0mglob\u001b[0m\u001b[1;33m\u001b[0m\u001b[1;33m\u001b[0m\u001b[0m\n\u001b[0;32m      5\u001b[0m \u001b[1;32mfrom\u001b[0m \u001b[0mdatetime\u001b[0m \u001b[1;32mimport\u001b[0m \u001b[0mdatetime\u001b[0m\u001b[1;33m,\u001b[0m \u001b[0mtimedelta\u001b[0m\u001b[1;33m\u001b[0m\u001b[1;33m\u001b[0m\u001b[0m\n\u001b[1;32m----> 6\u001b[1;33m \u001b[1;32mfrom\u001b[0m \u001b[0msettings\u001b[0m \u001b[1;32mimport\u001b[0m \u001b[1;33m*\u001b[0m\u001b[1;33m\u001b[0m\u001b[1;33m\u001b[0m\u001b[0m\n\u001b[0m",
      "\u001b[1;31mModuleNotFoundError\u001b[0m: No module named 'settings'"
     ]
    }
   ],
   "source": [
    "import csv\n",
    "from pathlib import Path\n",
    "import pandas as pd\n",
    "import glob\n",
    "from datetime import datetime, timedelta\n",
    "from settings import *"
   ]
  },
  {
   "cell_type": "code",
   "execution_count": 15,
   "metadata": {},
   "outputs": [],
   "source": [
    "outputFileName = 'FMAcqProcessedRefi.csv'"
   ]
  },
  {
   "cell_type": "markdown",
   "metadata": {},
   "source": [
    "# Get the Single-Family Loan Acquisition Data Files from Fannie Mae\n",
    "\n",
    "From the Fannie Mae [website:](https://loanperformancedata.fanniemae.com/lppub/index.html#Single-Family_Loan_Performance_Data_Files) we downloaded the Acquisition dataset (998MB zip file)\n",
    "\n",
    "The [Acquisition file layout](https://loanperformancedata.fanniemae.com/lppub-docs/FNMA_SF_Loan_Performance_File_layout.pdf) was as follows:\n",
    "![Acquisition File Layout](images/AcquisitionFileLayoutMedium.jpg)"
   ]
  },
  {
   "cell_type": "code",
   "execution_count": 16,
   "metadata": {},
   "outputs": [],
   "source": [
    "# Create mapping for the header of the files based on above file format\n",
    "headerline = ['loanIdentifier','origChannel','sellerName','origIntRate','origUPB','origLoanTerm',\\\n",
    "         'origDate','firstPmtDate','origLTV','origCLTV','numBorrowers','origDebtIncRatio',\\\n",
    "         'borrCreditScore','firstTHBI','loanPurp','propType','numUnits','occType','propState',\\\n",
    "         'zipCode','pMIperct','prodType','coborrCreditScore','mortInsType','relocMortInd']"
   ]
  },
  {
   "cell_type": "code",
   "execution_count": 18,
   "metadata": {},
   "outputs": [],
   "source": [
    "# Loop through each file from the unzipped download file - which gave a set of 76 individual files\n",
    "\n",
    "#Create an empty array to hold dataframes to later concatonate\n",
    "li = []\n",
    "\n",
    "#Loop through every file in the directory and append into array\n",
    "for in_path in Path('D:\\Acquisition_All').glob('Acquisition*.txt'):\n",
    "    df = pd.read_csv(in_path, sep=\"|\", index_col=None, header=None)\n",
    "    li.append(df)\n",
    "\n",
    "#Concatonate all the array elements into one giant dataframe\n",
    "df = pd.concat(li, axis=0, ignore_index=True)\n",
    "df.columns = headerline"
   ]
  },
  {
   "cell_type": "code",
   "execution_count": 19,
   "metadata": {},
   "outputs": [
    {
     "data": {
      "text/plain": [
       "(41294721, 25)"
      ]
     },
     "execution_count": 19,
     "metadata": {},
     "output_type": "execute_result"
    }
   ],
   "source": [
    "df.shape"
   ]
  },
  {
   "cell_type": "code",
   "execution_count": 20,
   "metadata": {
    "scrolled": false
   },
   "outputs": [
    {
     "name": "stdout",
     "output_type": "stream",
     "text": [
      "<class 'pandas.core.frame.DataFrame'>\n",
      "RangeIndex: 41294721 entries, 0 to 41294720\n",
      "Data columns (total 25 columns):\n",
      "loanIdentifier       int64\n",
      "origChannel          object\n",
      "sellerName           object\n",
      "origIntRate          float64\n",
      "origUPB              int64\n",
      "origLoanTerm         int64\n",
      "origDate             object\n",
      "firstPmtDate         object\n",
      "origLTV              float64\n",
      "origCLTV             float64\n",
      "numBorrowers         float64\n",
      "origDebtIncRatio     float64\n",
      "borrCreditScore      float64\n",
      "firstTHBI            object\n",
      "loanPurp             object\n",
      "propType             object\n",
      "numUnits             int64\n",
      "occType              object\n",
      "propState            object\n",
      "zipCode              int64\n",
      "pMIperct             float64\n",
      "prodType             object\n",
      "coborrCreditScore    float64\n",
      "mortInsType          float64\n",
      "relocMortInd         object\n",
      "dtypes: float64(9), int64(5), object(11)\n",
      "memory usage: 7.7+ GB\n"
     ]
    }
   ],
   "source": [
    "#Review the columns for datatypes and how many non-null values \n",
    "df.info()"
   ]
  },
  {
   "cell_type": "code",
   "execution_count": 21,
   "metadata": {},
   "outputs": [
    {
     "data": {
      "text/html": [
       "<div>\n",
       "<style scoped>\n",
       "    .dataframe tbody tr th:only-of-type {\n",
       "        vertical-align: middle;\n",
       "    }\n",
       "\n",
       "    .dataframe tbody tr th {\n",
       "        vertical-align: top;\n",
       "    }\n",
       "\n",
       "    .dataframe thead th {\n",
       "        text-align: right;\n",
       "    }\n",
       "</style>\n",
       "<table border=\"1\" class=\"dataframe\">\n",
       "  <thead>\n",
       "    <tr style=\"text-align: right;\">\n",
       "      <th></th>\n",
       "      <th>loanIdentifier</th>\n",
       "      <th>origChannel</th>\n",
       "      <th>sellerName</th>\n",
       "      <th>origIntRate</th>\n",
       "      <th>origUPB</th>\n",
       "      <th>origLoanTerm</th>\n",
       "      <th>origDate</th>\n",
       "      <th>firstPmtDate</th>\n",
       "      <th>origLTV</th>\n",
       "      <th>origCLTV</th>\n",
       "      <th>...</th>\n",
       "      <th>propType</th>\n",
       "      <th>numUnits</th>\n",
       "      <th>occType</th>\n",
       "      <th>propState</th>\n",
       "      <th>zipCode</th>\n",
       "      <th>pMIperct</th>\n",
       "      <th>prodType</th>\n",
       "      <th>coborrCreditScore</th>\n",
       "      <th>mortInsType</th>\n",
       "      <th>relocMortInd</th>\n",
       "    </tr>\n",
       "  </thead>\n",
       "  <tbody>\n",
       "    <tr>\n",
       "      <th>0</th>\n",
       "      <td>100007365142</td>\n",
       "      <td>R</td>\n",
       "      <td>JPMORGAN CHASE BANK, NA</td>\n",
       "      <td>8.000</td>\n",
       "      <td>75000</td>\n",
       "      <td>360</td>\n",
       "      <td>12/1999</td>\n",
       "      <td>02/2000</td>\n",
       "      <td>79.0</td>\n",
       "      <td>NaN</td>\n",
       "      <td>...</td>\n",
       "      <td>SF</td>\n",
       "      <td>1</td>\n",
       "      <td>P</td>\n",
       "      <td>PA</td>\n",
       "      <td>173</td>\n",
       "      <td>NaN</td>\n",
       "      <td>FRM</td>\n",
       "      <td>NaN</td>\n",
       "      <td>NaN</td>\n",
       "      <td>N</td>\n",
       "    </tr>\n",
       "    <tr>\n",
       "      <th>1</th>\n",
       "      <td>100007386460</td>\n",
       "      <td>B</td>\n",
       "      <td>JPMORGAN CHASE BANK, NA</td>\n",
       "      <td>7.875</td>\n",
       "      <td>55000</td>\n",
       "      <td>180</td>\n",
       "      <td>01/2000</td>\n",
       "      <td>03/2000</td>\n",
       "      <td>69.0</td>\n",
       "      <td>NaN</td>\n",
       "      <td>...</td>\n",
       "      <td>CO</td>\n",
       "      <td>1</td>\n",
       "      <td>P</td>\n",
       "      <td>MD</td>\n",
       "      <td>208</td>\n",
       "      <td>NaN</td>\n",
       "      <td>FRM</td>\n",
       "      <td>NaN</td>\n",
       "      <td>NaN</td>\n",
       "      <td>N</td>\n",
       "    </tr>\n",
       "    <tr>\n",
       "      <th>2</th>\n",
       "      <td>100011322040</td>\n",
       "      <td>C</td>\n",
       "      <td>AMTRUST BANK</td>\n",
       "      <td>7.750</td>\n",
       "      <td>123000</td>\n",
       "      <td>360</td>\n",
       "      <td>11/1999</td>\n",
       "      <td>01/2000</td>\n",
       "      <td>80.0</td>\n",
       "      <td>NaN</td>\n",
       "      <td>...</td>\n",
       "      <td>SF</td>\n",
       "      <td>1</td>\n",
       "      <td>P</td>\n",
       "      <td>MO</td>\n",
       "      <td>630</td>\n",
       "      <td>NaN</td>\n",
       "      <td>FRM</td>\n",
       "      <td>NaN</td>\n",
       "      <td>NaN</td>\n",
       "      <td>N</td>\n",
       "    </tr>\n",
       "    <tr>\n",
       "      <th>3</th>\n",
       "      <td>100015192562</td>\n",
       "      <td>R</td>\n",
       "      <td>OTHER</td>\n",
       "      <td>8.500</td>\n",
       "      <td>51000</td>\n",
       "      <td>360</td>\n",
       "      <td>02/2000</td>\n",
       "      <td>04/2000</td>\n",
       "      <td>95.0</td>\n",
       "      <td>NaN</td>\n",
       "      <td>...</td>\n",
       "      <td>SF</td>\n",
       "      <td>1</td>\n",
       "      <td>P</td>\n",
       "      <td>GA</td>\n",
       "      <td>316</td>\n",
       "      <td>25.0</td>\n",
       "      <td>FRM</td>\n",
       "      <td>NaN</td>\n",
       "      <td>1.0</td>\n",
       "      <td>N</td>\n",
       "    </tr>\n",
       "    <tr>\n",
       "      <th>4</th>\n",
       "      <td>100015874399</td>\n",
       "      <td>C</td>\n",
       "      <td>CITIMORTGAGE, INC.</td>\n",
       "      <td>8.750</td>\n",
       "      <td>242000</td>\n",
       "      <td>360</td>\n",
       "      <td>02/2000</td>\n",
       "      <td>04/2000</td>\n",
       "      <td>95.0</td>\n",
       "      <td>NaN</td>\n",
       "      <td>...</td>\n",
       "      <td>SF</td>\n",
       "      <td>1</td>\n",
       "      <td>P</td>\n",
       "      <td>FL</td>\n",
       "      <td>335</td>\n",
       "      <td>30.0</td>\n",
       "      <td>FRM</td>\n",
       "      <td>NaN</td>\n",
       "      <td>1.0</td>\n",
       "      <td>N</td>\n",
       "    </tr>\n",
       "  </tbody>\n",
       "</table>\n",
       "<p>5 rows × 25 columns</p>\n",
       "</div>"
      ],
      "text/plain": [
       "   loanIdentifier origChannel               sellerName  origIntRate  origUPB  \\\n",
       "0    100007365142           R  JPMORGAN CHASE BANK, NA        8.000    75000   \n",
       "1    100007386460           B  JPMORGAN CHASE BANK, NA        7.875    55000   \n",
       "2    100011322040           C             AMTRUST BANK        7.750   123000   \n",
       "3    100015192562           R                    OTHER        8.500    51000   \n",
       "4    100015874399           C       CITIMORTGAGE, INC.        8.750   242000   \n",
       "\n",
       "   origLoanTerm origDate firstPmtDate  origLTV  origCLTV  ...  propType  \\\n",
       "0           360  12/1999      02/2000     79.0       NaN  ...        SF   \n",
       "1           180  01/2000      03/2000     69.0       NaN  ...        CO   \n",
       "2           360  11/1999      01/2000     80.0       NaN  ...        SF   \n",
       "3           360  02/2000      04/2000     95.0       NaN  ...        SF   \n",
       "4           360  02/2000      04/2000     95.0       NaN  ...        SF   \n",
       "\n",
       "   numUnits  occType propState zipCode pMIperct  prodType coborrCreditScore  \\\n",
       "0         1        P        PA     173      NaN       FRM               NaN   \n",
       "1         1        P        MD     208      NaN       FRM               NaN   \n",
       "2         1        P        MO     630      NaN       FRM               NaN   \n",
       "3         1        P        GA     316     25.0       FRM               NaN   \n",
       "4         1        P        FL     335     30.0       FRM               NaN   \n",
       "\n",
       "  mortInsType  relocMortInd  \n",
       "0         NaN             N  \n",
       "1         NaN             N  \n",
       "2         NaN             N  \n",
       "3         1.0             N  \n",
       "4         1.0             N  \n",
       "\n",
       "[5 rows x 25 columns]"
      ]
     },
     "execution_count": 21,
     "metadata": {},
     "output_type": "execute_result"
    }
   ],
   "source": [
    "df.head()"
   ]
  },
  {
   "cell_type": "markdown",
   "metadata": {},
   "source": [
    "### Convert the origDate,firstPmtDate columns from strings to datetime datatypes\n",
    "Since this will be such a large dataset I tested a number of methods to change datatypes"
   ]
  },
  {
   "cell_type": "markdown",
   "metadata": {},
   "source": [
    "`%timeit df['origDate'] = pd.to_datetime(df['origDate'], format='%m/%Y')`  \n",
    "5.43 ms ± 457 µs per loop (mean ± std. dev. of 7 runs, 1 loop each)\n",
    "\n",
    "`%timeit df['origDate'].apply(lambda _: datetime.strptime(_,\"%m/%Y\"))')`  \n",
    "5.48 ms ± 91.7 µs per loop (mean ± std. dev. of 7 runs, 100 loops each)\n",
    "\n",
    "Not much difference in speeds so I'll choose the `to_datetime` method"
   ]
  },
  {
   "cell_type": "code",
   "execution_count": 22,
   "metadata": {},
   "outputs": [],
   "source": [
    "df['origDate'] = pd.to_datetime(df['origDate'], format='%m/%Y')\n",
    "df['firstPmtDate'] = pd.to_datetime(df['firstPmtDate'], format='%m/%Y')"
   ]
  },
  {
   "cell_type": "markdown",
   "metadata": {},
   "source": [
    "### Filter out records with values we aren't interested in examining:"
   ]
  },
  {
   "cell_type": "markdown",
   "metadata": {},
   "source": [
    "Using the [Glossary](https://loanperformancedata.fanniemae.com/lppub-docs/FNMA_SF_Loan_Performance_Glossary.pdf) of column names we made the following selections:\n",
    "![Property Type](images/propertyType.jpg)\n",
    "* Property type: only want 'SF' - 'Single Family'"
   ]
  },
  {
   "cell_type": "code",
   "execution_count": 23,
   "metadata": {},
   "outputs": [
    {
     "data": {
      "text/plain": [
       "(30336301, 25)"
      ]
     },
     "execution_count": 23,
     "metadata": {},
     "output_type": "execute_result"
    }
   ],
   "source": [
    "propTypeFilter = ['SF']\n",
    "df = df[df.propType.isin(propTypeFilter)]\n",
    "df.shape"
   ]
  },
  {
   "cell_type": "markdown",
   "metadata": {},
   "source": [
    "![Number of Units](images/numUnits.jpg)\n",
    "* Number of Units: only want '1'"
   ]
  },
  {
   "cell_type": "code",
   "execution_count": 24,
   "metadata": {},
   "outputs": [
    {
     "data": {
      "text/plain": [
       "(29308889, 25)"
      ]
     },
     "execution_count": 24,
     "metadata": {},
     "output_type": "execute_result"
    }
   ],
   "source": [
    "numUnitsFilter = [1]\n",
    "df = df[df.numUnits.isin(numUnitsFilter)]\n",
    "df.shape"
   ]
  },
  {
   "cell_type": "markdown",
   "metadata": {},
   "source": [
    "![Number of Units](images/occType.jpg)\n",
    "* Number of Units: only want 'P'"
   ]
  },
  {
   "cell_type": "code",
   "execution_count": 25,
   "metadata": {},
   "outputs": [
    {
     "data": {
      "text/plain": [
       "(26796326, 25)"
      ]
     },
     "execution_count": 25,
     "metadata": {},
     "output_type": "execute_result"
    }
   ],
   "source": [
    "occTypeFilter = ['P']\n",
    "df = df[df.occType.isin(occTypeFilter)]\n",
    "df.shape"
   ]
  },
  {
   "cell_type": "markdown",
   "metadata": {},
   "source": [
    "![Number of Units](images/loanPurp.jpg)\n",
    "* Number of Units: only want 'C,R,U'"
   ]
  },
  {
   "cell_type": "code",
   "execution_count": 26,
   "metadata": {},
   "outputs": [
    {
     "data": {
      "text/plain": [
       "(18820785, 25)"
      ]
     },
     "execution_count": 26,
     "metadata": {},
     "output_type": "execute_result"
    }
   ],
   "source": [
    "loanPurpFilter = ['C','R','U']\n",
    "df = df[df.loanPurp.isin(loanPurpFilter)]\n",
    "df.shape"
   ]
  },
  {
   "cell_type": "markdown",
   "metadata": {},
   "source": [
    "![Number of Units](images/origLoanTerm.jpg)\n",
    "* Number of Units: only want '360'"
   ]
  },
  {
   "cell_type": "code",
   "execution_count": 27,
   "metadata": {},
   "outputs": [
    {
     "data": {
      "text/plain": [
       "(10786188, 25)"
      ]
     },
     "execution_count": 27,
     "metadata": {},
     "output_type": "execute_result"
    }
   ],
   "source": [
    "origLoanTermFilter = [360]\n",
    "df = df[df.origLoanTerm.isin(origLoanTermFilter)]\n",
    "df.shape"
   ]
  },
  {
   "cell_type": "markdown",
   "metadata": {},
   "source": [
    "### Fill null values with 0 for the following columns\n",
    "We can't have NaN or Null values for the machine learning part to come"
   ]
  },
  {
   "cell_type": "code",
   "execution_count": 28,
   "metadata": {},
   "outputs": [],
   "source": [
    "df['mortInsType'] = df['mortInsType'].fillna(0)\n",
    "df['pMIperct'] = df['pMIperct'].fillna(0)\n",
    "df['origCLTV'] = df['origCLTV'].fillna(0)"
   ]
  },
  {
   "cell_type": "markdown",
   "metadata": {},
   "source": [
    "## Calculate the 'Best', 'Worst' and 'Avg' Credit Score\n",
    "Given that there is a Borrower Credit Score and a Co-Borrower Credit Score and that there are Null values for each we want to create calculated columns where no Null values exist and then drop the original columns"
   ]
  },
  {
   "cell_type": "code",
   "execution_count": 29,
   "metadata": {},
   "outputs": [],
   "source": [
    "df['bestCreditScore'] = df[['borrCreditScore','coborrCreditScore']].max(axis=1)\n",
    "df['worstCreditScore'] = df[['borrCreditScore','coborrCreditScore']].min(axis=1)\n",
    "df['avgCreditScore'] = df[['borrCreditScore','coborrCreditScore']].mean(axis=1)"
   ]
  },
  {
   "cell_type": "markdown",
   "metadata": {},
   "source": [
    "### Get rid of records where there are NaN or NULL values for:\n",
    "* 'Borrower Credit Score'\n",
    "* 'Debt to Income Ratio'\n",
    "* 'Number of Borrowers'"
   ]
  },
  {
   "cell_type": "code",
   "execution_count": 30,
   "metadata": {},
   "outputs": [],
   "source": [
    "df = df[df['borrCreditScore'].notna() &\\\n",
    "        df['origDebtIncRatio'].notna() &\\\n",
    "        df['numBorrowers'].notna()]"
   ]
  },
  {
   "cell_type": "markdown",
   "metadata": {},
   "source": [
    "### Drop all columns where there is only a single value (and coborrower Credit Score)"
   ]
  },
  {
   "cell_type": "code",
   "execution_count": 31,
   "metadata": {
    "scrolled": false
   },
   "outputs": [],
   "source": [
    "df = df.drop(['prodType','firstTHBI','relocMortInd','occType','numUnits','origLoanTerm','coborrCreditScore','propType'], axis=1)"
   ]
  },
  {
   "cell_type": "markdown",
   "metadata": {},
   "source": [
    "### Map text values to integers (Machine Learning will require this later)\n",
    "\n",
    "![OrigChannel](images/origChannel.jpg)"
   ]
  },
  {
   "cell_type": "code",
   "execution_count": 32,
   "metadata": {},
   "outputs": [],
   "source": [
    "df['origChannel'] = df['origChannel'].replace(['R','B','C'],[1,2,3])\n",
    "df['origChannel'] = pd.to_numeric(df['origChannel'])"
   ]
  },
  {
   "cell_type": "markdown",
   "metadata": {},
   "source": [
    "![Loan Purpose](images/loanPurp.jpg)"
   ]
  },
  {
   "cell_type": "code",
   "execution_count": 33,
   "metadata": {},
   "outputs": [],
   "source": [
    "df['loanPurp'] = df['loanPurp'].replace(['C','R','U'],[1,2,3])\n",
    "df['loanPurp'] = pd.to_numeric(df['loanPurp'])"
   ]
  },
  {
   "cell_type": "code",
   "execution_count": 34,
   "metadata": {},
   "outputs": [
    {
     "data": {
      "text/plain": [
       "array([2, 1, 3], dtype=int64)"
      ]
     },
     "execution_count": 34,
     "metadata": {},
     "output_type": "execute_result"
    }
   ],
   "source": [
    "df['loanPurp'].unique()"
   ]
  },
  {
   "cell_type": "code",
   "execution_count": 35,
   "metadata": {},
   "outputs": [
    {
     "name": "stdout",
     "output_type": "stream",
     "text": [
      "<class 'pandas.core.frame.DataFrame'>\n",
      "Int64Index: 10535111 entries, 0 to 41294703\n",
      "Data columns (total 20 columns):\n",
      "loanIdentifier      int64\n",
      "origChannel         int64\n",
      "sellerName          object\n",
      "origIntRate         float64\n",
      "origUPB             int64\n",
      "origDate            datetime64[ns]\n",
      "firstPmtDate        datetime64[ns]\n",
      "origLTV             float64\n",
      "origCLTV            float64\n",
      "numBorrowers        float64\n",
      "origDebtIncRatio    float64\n",
      "borrCreditScore     float64\n",
      "loanPurp            int64\n",
      "propState           object\n",
      "zipCode             int64\n",
      "pMIperct            float64\n",
      "mortInsType         float64\n",
      "bestCreditScore     float64\n",
      "worstCreditScore    float64\n",
      "avgCreditScore      float64\n",
      "dtypes: datetime64[ns](2), float64(11), int64(5), object(2)\n",
      "memory usage: 1.6+ GB\n"
     ]
    }
   ],
   "source": [
    "df.info()"
   ]
  },
  {
   "cell_type": "code",
   "execution_count": 36,
   "metadata": {},
   "outputs": [
    {
     "data": {
      "text/html": [
       "<div>\n",
       "<style scoped>\n",
       "    .dataframe tbody tr th:only-of-type {\n",
       "        vertical-align: middle;\n",
       "    }\n",
       "\n",
       "    .dataframe tbody tr th {\n",
       "        vertical-align: top;\n",
       "    }\n",
       "\n",
       "    .dataframe thead th {\n",
       "        text-align: right;\n",
       "    }\n",
       "</style>\n",
       "<table border=\"1\" class=\"dataframe\">\n",
       "  <thead>\n",
       "    <tr style=\"text-align: right;\">\n",
       "      <th></th>\n",
       "      <th>loanIdentifier</th>\n",
       "      <th>origChannel</th>\n",
       "      <th>sellerName</th>\n",
       "      <th>origIntRate</th>\n",
       "      <th>origUPB</th>\n",
       "      <th>origDate</th>\n",
       "      <th>firstPmtDate</th>\n",
       "      <th>origLTV</th>\n",
       "      <th>origCLTV</th>\n",
       "      <th>numBorrowers</th>\n",
       "      <th>origDebtIncRatio</th>\n",
       "      <th>borrCreditScore</th>\n",
       "      <th>loanPurp</th>\n",
       "      <th>propState</th>\n",
       "      <th>zipCode</th>\n",
       "      <th>pMIperct</th>\n",
       "      <th>mortInsType</th>\n",
       "      <th>bestCreditScore</th>\n",
       "      <th>worstCreditScore</th>\n",
       "      <th>avgCreditScore</th>\n",
       "    </tr>\n",
       "  </thead>\n",
       "  <tbody>\n",
       "    <tr>\n",
       "      <th>0</th>\n",
       "      <td>100007365142</td>\n",
       "      <td>1</td>\n",
       "      <td>JPMORGAN CHASE BANK, NA</td>\n",
       "      <td>8.000</td>\n",
       "      <td>75000</td>\n",
       "      <td>1999-12-01</td>\n",
       "      <td>2000-02-01</td>\n",
       "      <td>79.0</td>\n",
       "      <td>0.0</td>\n",
       "      <td>1.0</td>\n",
       "      <td>62.0</td>\n",
       "      <td>763.0</td>\n",
       "      <td>2</td>\n",
       "      <td>PA</td>\n",
       "      <td>173</td>\n",
       "      <td>0.0</td>\n",
       "      <td>0.0</td>\n",
       "      <td>763.0</td>\n",
       "      <td>763.0</td>\n",
       "      <td>763.0</td>\n",
       "    </tr>\n",
       "    <tr>\n",
       "      <th>25</th>\n",
       "      <td>100094030068</td>\n",
       "      <td>3</td>\n",
       "      <td>CITIMORTGAGE, INC.</td>\n",
       "      <td>7.750</td>\n",
       "      <td>152000</td>\n",
       "      <td>1999-11-01</td>\n",
       "      <td>2000-01-01</td>\n",
       "      <td>85.0</td>\n",
       "      <td>0.0</td>\n",
       "      <td>1.0</td>\n",
       "      <td>41.0</td>\n",
       "      <td>604.0</td>\n",
       "      <td>2</td>\n",
       "      <td>NV</td>\n",
       "      <td>891</td>\n",
       "      <td>25.0</td>\n",
       "      <td>1.0</td>\n",
       "      <td>604.0</td>\n",
       "      <td>604.0</td>\n",
       "      <td>604.0</td>\n",
       "    </tr>\n",
       "    <tr>\n",
       "      <th>30</th>\n",
       "      <td>100118647578</td>\n",
       "      <td>2</td>\n",
       "      <td>JPMORGAN CHASE BANK, NA</td>\n",
       "      <td>7.750</td>\n",
       "      <td>106000</td>\n",
       "      <td>1999-11-01</td>\n",
       "      <td>2000-01-01</td>\n",
       "      <td>80.0</td>\n",
       "      <td>0.0</td>\n",
       "      <td>2.0</td>\n",
       "      <td>27.0</td>\n",
       "      <td>652.0</td>\n",
       "      <td>2</td>\n",
       "      <td>OR</td>\n",
       "      <td>972</td>\n",
       "      <td>0.0</td>\n",
       "      <td>0.0</td>\n",
       "      <td>696.0</td>\n",
       "      <td>652.0</td>\n",
       "      <td>674.0</td>\n",
       "    </tr>\n",
       "    <tr>\n",
       "      <th>32</th>\n",
       "      <td>100122555751</td>\n",
       "      <td>1</td>\n",
       "      <td>GMAC MORTGAGE, LLC</td>\n",
       "      <td>8.250</td>\n",
       "      <td>191000</td>\n",
       "      <td>2000-02-01</td>\n",
       "      <td>2000-04-01</td>\n",
       "      <td>78.0</td>\n",
       "      <td>0.0</td>\n",
       "      <td>1.0</td>\n",
       "      <td>52.0</td>\n",
       "      <td>676.0</td>\n",
       "      <td>1</td>\n",
       "      <td>CA</td>\n",
       "      <td>921</td>\n",
       "      <td>0.0</td>\n",
       "      <td>0.0</td>\n",
       "      <td>676.0</td>\n",
       "      <td>676.0</td>\n",
       "      <td>676.0</td>\n",
       "    </tr>\n",
       "    <tr>\n",
       "      <th>34</th>\n",
       "      <td>100123116925</td>\n",
       "      <td>3</td>\n",
       "      <td>BANK OF AMERICA, N.A.</td>\n",
       "      <td>7.875</td>\n",
       "      <td>240000</td>\n",
       "      <td>1999-12-01</td>\n",
       "      <td>2000-02-01</td>\n",
       "      <td>74.0</td>\n",
       "      <td>0.0</td>\n",
       "      <td>3.0</td>\n",
       "      <td>40.0</td>\n",
       "      <td>718.0</td>\n",
       "      <td>2</td>\n",
       "      <td>CA</td>\n",
       "      <td>940</td>\n",
       "      <td>0.0</td>\n",
       "      <td>0.0</td>\n",
       "      <td>718.0</td>\n",
       "      <td>685.0</td>\n",
       "      <td>701.5</td>\n",
       "    </tr>\n",
       "  </tbody>\n",
       "</table>\n",
       "</div>"
      ],
      "text/plain": [
       "    loanIdentifier  origChannel               sellerName  origIntRate  \\\n",
       "0     100007365142            1  JPMORGAN CHASE BANK, NA        8.000   \n",
       "25    100094030068            3       CITIMORTGAGE, INC.        7.750   \n",
       "30    100118647578            2  JPMORGAN CHASE BANK, NA        7.750   \n",
       "32    100122555751            1       GMAC MORTGAGE, LLC        8.250   \n",
       "34    100123116925            3    BANK OF AMERICA, N.A.        7.875   \n",
       "\n",
       "    origUPB   origDate firstPmtDate  origLTV  origCLTV  numBorrowers  \\\n",
       "0     75000 1999-12-01   2000-02-01     79.0       0.0           1.0   \n",
       "25   152000 1999-11-01   2000-01-01     85.0       0.0           1.0   \n",
       "30   106000 1999-11-01   2000-01-01     80.0       0.0           2.0   \n",
       "32   191000 2000-02-01   2000-04-01     78.0       0.0           1.0   \n",
       "34   240000 1999-12-01   2000-02-01     74.0       0.0           3.0   \n",
       "\n",
       "    origDebtIncRatio  borrCreditScore  loanPurp propState  zipCode  pMIperct  \\\n",
       "0               62.0            763.0         2        PA      173       0.0   \n",
       "25              41.0            604.0         2        NV      891      25.0   \n",
       "30              27.0            652.0         2        OR      972       0.0   \n",
       "32              52.0            676.0         1        CA      921       0.0   \n",
       "34              40.0            718.0         2        CA      940       0.0   \n",
       "\n",
       "    mortInsType  bestCreditScore  worstCreditScore  avgCreditScore  \n",
       "0           0.0            763.0             763.0           763.0  \n",
       "25          1.0            604.0             604.0           604.0  \n",
       "30          0.0            696.0             652.0           674.0  \n",
       "32          0.0            676.0             676.0           676.0  \n",
       "34          0.0            718.0             685.0           701.5  "
      ]
     },
     "execution_count": 36,
     "metadata": {},
     "output_type": "execute_result"
    }
   ],
   "source": [
    "df.head()"
   ]
  },
  {
   "cell_type": "code",
   "execution_count": 37,
   "metadata": {},
   "outputs": [
    {
     "data": {
      "text/plain": [
       "10535111"
      ]
     },
     "execution_count": 37,
     "metadata": {},
     "output_type": "execute_result"
    }
   ],
   "source": [
    "# Check if updated files from Fannie Mae have created duplicate entries for a given loan Identifier \n",
    "#(number should equal the number of records if there are no duplicates)\n",
    "df.groupby('loanIdentifier').loanIdentifier.nunique().sum()"
   ]
  },
  {
   "cell_type": "code",
   "execution_count": 38,
   "metadata": {},
   "outputs": [],
   "source": [
    "sellerNames = df['sellerName'].unique()\n",
    "statesList = df['propState'].unique()\n",
    "#sellerNames"
   ]
  },
  {
   "cell_type": "code",
   "execution_count": 39,
   "metadata": {},
   "outputs": [
    {
     "data": {
      "text/plain": [
       "array(['JPMORGAN CHASE BANK, NA', 'CITIMORTGAGE, INC.',\n",
       "       'GMAC MORTGAGE, LLC', 'BANK OF AMERICA, N.A.',\n",
       "       'FIRST TENNESSEE BANK NATIONAL ASSOCIATION', 'OTHER',\n",
       "       'SUNTRUST MORTGAGE INC.',\n",
       "       'JPMORGAN CHASE BANK, NATIONAL ASSOCIATION',\n",
       "       'NETBANK FUNDING SERVICES', 'WELLS FARGO BANK, N.A.',\n",
       "       'FLAGSTAR BANK, FSB', 'JP MORGAN CHASE BANK, NA', 'REGIONS BANK',\n",
       "       'AMTRUST BANK', 'RBC MORTGAGE COMPANY',\n",
       "       'BISHOPS GATE RESIDENTIAL MORTGAGE TRUST',\n",
       "       'HARWOOD STREET FUNDING I, LLC', 'USAA FEDERAL SAVINGS BANK',\n",
       "       'FLEET NATIONAL BANK', 'IRWIN MORTGAGE, CORPORATION',\n",
       "       'DOWNEY SAVINGS AND LOAN ASSOCIATION, F.A.', 'PNC BANK, N.A.',\n",
       "       'WITMER FUNDING, LLC', 'PROVIDENT FUNDING ASSOCIATES, L.P.',\n",
       "       'PRINCIPAL RESIDENTIAL MORTGAGE CAPITAL RESOURCES, LLC',\n",
       "       'CAPITAL ONE, NATIONAL ASSOCIATION', 'CHASE HOME FINANCE',\n",
       "       'HSBC BANK USA, NATIONAL ASSOCIATION', 'PULTE MORTGAGE, L.L.C.',\n",
       "       'FLAGSTAR CAPITAL MARKETS CORPORATION',\n",
       "       'CHASE HOME FINANCE (CIE 1)', 'FREEDOM MORTGAGE CORP.',\n",
       "       'GMAC MORTGAGE, LLC (USAA FEDERAL SAVINGS BANK)',\n",
       "       'FDIC, RECEIVER, INDYMAC FEDERAL BANK FSB',\n",
       "       'CHASE HOME FINANCE, LLC',\n",
       "       'CHASE HOME FINANCE FRANKLIN AMERICAN MORTGAGE COMPANY',\n",
       "       'PHH MORTGAGE CORPORATION', 'ALLY BANK', 'METLIFE BANK, NA',\n",
       "       'U.S. BANK N.A.', 'NEW YORK COMMUNITY BANK', 'QUICKEN LOANS INC.',\n",
       "       'NYCB MORTGAGE COMPANY, LLC', 'WELLS FARGO BANK,  NA',\n",
       "       'FRANKLIN AMERICAN MORTGAGE COMPANY',\n",
       "       'CHICAGO MORTGAGE SOLUTIONS DBA INTERBANK MORTGAGE COMPANY',\n",
       "       'FIFTH THIRD BANK', 'HOMEWARD RESIDENTIAL, INC.', 'FREMONT BANK',\n",
       "       'PENNYMAC CORP.', 'CASHCALL, INC.', 'STEARNS LENDING, LLC',\n",
       "       'CHICAGO MORTGAGE SOLUTIONS DBA INTERFIRST MORTGAGE COMPANY',\n",
       "       'AMERISAVE MORTGAGE CORPORATION',\n",
       "       'FEDERAL HOME LOAN BANK OF CHICAGO',\n",
       "       'UNITED SHORE FINANCIAL SERVICES, LLC D/B/A UNITED WHOLESALE MORTGAGE',\n",
       "       'NATIONSTAR MORTGAGE, LLC', 'STONEGATE MORTGAGE CORPORATION',\n",
       "       'DITECH FINANCIAL LLC', 'PACIFIC UNION FINANCIAL, LLC',\n",
       "       'HOMEBRIDGE FINANCIAL SERVICES, INC.',\n",
       "       'SIERRA PACIFIC MORTGAGE COMPANY, INC.', 'PROSPECT MORTGAGE, LLC',\n",
       "       'LOANDEPOT.COM, LLC',\n",
       "       'J.P. MORGAN MADISON AVENUE SECURITIES TRUST, SERIES 2014-1',\n",
       "       'IMPAC MORTGAGE CORP.', 'SUNTRUST BANK',\n",
       "       'J.P. MORGAN MADISON AVENUE SECURITIES TRUST, SERIES 2015-1',\n",
       "       'GUILD MORTGAGE COMPANY', 'PMT CREDIT RISK TRANSFER TRUST 2015-2',\n",
       "       'AMERIHOME MORTGAGE COMPANY, LLC', 'CALIBER HOME LOANS, INC.',\n",
       "       'WELLS FARGO CREDIT RISK TRANSFER SECURITIES TRUST 2015',\n",
       "       'FINANCE OF AMERICA MORTGAGE LLC', 'MOVEMENT MORTGAGE, LLC',\n",
       "       'PMT CREDIT RISK TRANSFER TRUST 2016-1', 'PMTT4',\n",
       "       'TRUIST BANK (FORMERLY SUNTRUST BANK)',\n",
       "       'FAIRWAY INDEPENDENT MORTGAGE CORPORATION',\n",
       "       'UNITED SHORE FINANCIAL SERVICES, LLC DBA UNITED WHOLESALE MORTGAGE',\n",
       "       'CMG MORTGAGE, INC', 'LAKEVIEW LOAN SERVICING, LLC',\n",
       "       'EAGLE HOME MORTGAGE, LLC', 'QUICKEN LOANS, LLC'], dtype=object)"
      ]
     },
     "execution_count": 39,
     "metadata": {},
     "output_type": "execute_result"
    }
   ],
   "source": [
    "sellerNames"
   ]
  },
  {
   "cell_type": "code",
   "execution_count": 40,
   "metadata": {},
   "outputs": [
    {
     "data": {
      "text/plain": [
       "'data/FMAcqProcessed.csv'"
      ]
     },
     "execution_count": 40,
     "metadata": {},
     "output_type": "execute_result"
    }
   ],
   "source": [
    "pathparts = (DATA_DIR,outputFileName)\n",
    "outpath = \"/\".join(pathparts)\n",
    "outpath"
   ]
  },
  {
   "cell_type": "markdown",
   "metadata": {},
   "source": [
    "## Output Processed *.txt files into *.csv file"
   ]
  },
  {
   "cell_type": "code",
   "execution_count": 41,
   "metadata": {},
   "outputs": [],
   "source": [
    "df.to_csv(outpath)"
   ]
  },
  {
   "cell_type": "code",
   "execution_count": null,
   "metadata": {},
   "outputs": [],
   "source": []
  }
 ],
 "metadata": {
  "kernelspec": {
   "display_name": "Python 3",
   "language": "python",
   "name": "python3"
  },
  "language_info": {
   "codemirror_mode": {
    "name": "ipython",
    "version": 3
   },
   "file_extension": ".py",
   "mimetype": "text/x-python",
   "name": "python",
   "nbconvert_exporter": "python",
   "pygments_lexer": "ipython3",
   "version": "3.7.7"
  }
 },
 "nbformat": 4,
 "nbformat_minor": 2
}
