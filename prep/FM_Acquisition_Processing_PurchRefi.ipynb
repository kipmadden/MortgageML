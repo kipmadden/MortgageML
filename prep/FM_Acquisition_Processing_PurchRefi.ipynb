{
 "cells": [
  {
   "cell_type": "markdown",
   "metadata": {},
   "source": [
    "# Process the Mortgage Acquisition files\n",
    "\n",
    "    Include Mortgages where:\n",
    "    \n",
    "    Property Type       = Single Family\n",
    "    Number of Units     = 1\n",
    "    Occupancy Type      = Principal\n",
    "    Loan Purpose        = Purchase, Cash-Out Refi, No Cash-Out Refi, Refinance-Not Specified\n",
    "    Original Loan (Term)= 60-419 months"
   ]
  },
  {
   "cell_type": "markdown",
   "metadata": {},
   "source": [
    "## Import Dependencies"
   ]
  },
  {
   "cell_type": "code",
   "execution_count": 1,
   "metadata": {},
   "outputs": [],
   "source": [
    "import csv\n",
    "from pathlib import Path\n",
    "import pandas as pd\n",
    "import glob\n",
    "from datetime import datetime, timedelta\n",
    "import seaborn as sns\n",
    "from settings_prep import *"
   ]
  },
  {
   "cell_type": "code",
   "execution_count": 2,
   "metadata": {},
   "outputs": [],
   "source": [
    "outputFileName = 'FMAcqProcessedPurchRefi.csv'"
   ]
  },
  {
   "cell_type": "markdown",
   "metadata": {},
   "source": [
    "# Get the Single-Family Loan Acquisition Data Files from Fannie Mae\n",
    "\n",
    "From the Fannie Mae [website:](https://loanperformancedata.fanniemae.com/lppub/index.html#Single-Family_Loan_Performance_Data_Files) we downloaded the Acquisition dataset (998MB zip file)\n",
    "\n",
    "The [Acquisition file layout](https://loanperformancedata.fanniemae.com/lppub-docs/FNMA_SF_Loan_Performance_File_layout.pdf) was as follows:\n",
    "![Acquisition File Layout](../images/AcquisitionFileLayoutMedium.jpg)"
   ]
  },
  {
   "cell_type": "code",
   "execution_count": 3,
   "metadata": {},
   "outputs": [],
   "source": [
    "# Create mapping for the header of the files based on above file format\n",
    "headerline = ['loanIdentifier','origChannel','sellerName','origIntRate','origUPB','origLoanTerm',\\\n",
    "         'origDate','firstPmtDate','origLTV','origCLTV','numBorrowers','origDebtIncRatio',\\\n",
    "         'borrCreditScore','firstTHBI','loanPurp','propType','numUnits','occType','propState',\\\n",
    "         'zipCode','pMIperct','prodType','coborrCreditScore','mortInsType','relocMortInd']"
   ]
  },
  {
   "cell_type": "code",
   "execution_count": 4,
   "metadata": {},
   "outputs": [],
   "source": [
    "# Loop through each file from the unzipped download file - which gave a set of 76 individual files\n",
    "\n",
    "#Create an empty array to hold dataframes to later concatonate\n",
    "li = []\n",
    "\n",
    "#Loop through every file in the directory and append into array\n",
    "for in_path in Path('D:\\Acquisition_All').glob('Acquisition*.txt'):\n",
    "    df = pd.read_csv(in_path, sep=\"|\", index_col=None, header=None)\n",
    "    li.append(df)\n",
    "\n",
    "#Concatonate all the array elements into one giant dataframe\n",
    "df = pd.concat(li, axis=0, ignore_index=True)\n",
    "df.columns = headerline"
   ]
  },
  {
   "cell_type": "code",
   "execution_count": 5,
   "metadata": {},
   "outputs": [
    {
     "data": {
      "text/plain": [
       "(41294721, 25)"
      ]
     },
     "execution_count": 5,
     "metadata": {},
     "output_type": "execute_result"
    }
   ],
   "source": [
    "df.shape"
   ]
  },
  {
   "cell_type": "code",
   "execution_count": 6,
   "metadata": {
    "scrolled": false
   },
   "outputs": [
    {
     "name": "stdout",
     "output_type": "stream",
     "text": [
      "<class 'pandas.core.frame.DataFrame'>\n",
      "RangeIndex: 41294721 entries, 0 to 41294720\n",
      "Data columns (total 25 columns):\n",
      " #   Column             Dtype  \n",
      "---  ------             -----  \n",
      " 0   loanIdentifier     int64  \n",
      " 1   origChannel        object \n",
      " 2   sellerName         object \n",
      " 3   origIntRate        float64\n",
      " 4   origUPB            int64  \n",
      " 5   origLoanTerm       int64  \n",
      " 6   origDate           object \n",
      " 7   firstPmtDate       object \n",
      " 8   origLTV            float64\n",
      " 9   origCLTV           float64\n",
      " 10  numBorrowers       float64\n",
      " 11  origDebtIncRatio   float64\n",
      " 12  borrCreditScore    float64\n",
      " 13  firstTHBI          object \n",
      " 14  loanPurp           object \n",
      " 15  propType           object \n",
      " 16  numUnits           int64  \n",
      " 17  occType            object \n",
      " 18  propState          object \n",
      " 19  zipCode            int64  \n",
      " 20  pMIperct           float64\n",
      " 21  prodType           object \n",
      " 22  coborrCreditScore  float64\n",
      " 23  mortInsType        float64\n",
      " 24  relocMortInd       object \n",
      "dtypes: float64(9), int64(5), object(11)\n",
      "memory usage: 7.7+ GB\n"
     ]
    }
   ],
   "source": [
    "#Review the columns for datatypes and how many non-null values \n",
    "df.info()"
   ]
  },
  {
   "cell_type": "code",
   "execution_count": 7,
   "metadata": {},
   "outputs": [
    {
     "data": {
      "text/html": [
       "<div>\n",
       "<style scoped>\n",
       "    .dataframe tbody tr th:only-of-type {\n",
       "        vertical-align: middle;\n",
       "    }\n",
       "\n",
       "    .dataframe tbody tr th {\n",
       "        vertical-align: top;\n",
       "    }\n",
       "\n",
       "    .dataframe thead th {\n",
       "        text-align: right;\n",
       "    }\n",
       "</style>\n",
       "<table border=\"1\" class=\"dataframe\">\n",
       "  <thead>\n",
       "    <tr style=\"text-align: right;\">\n",
       "      <th></th>\n",
       "      <th>loanIdentifier</th>\n",
       "      <th>origChannel</th>\n",
       "      <th>sellerName</th>\n",
       "      <th>origIntRate</th>\n",
       "      <th>origUPB</th>\n",
       "      <th>origLoanTerm</th>\n",
       "      <th>origDate</th>\n",
       "      <th>firstPmtDate</th>\n",
       "      <th>origLTV</th>\n",
       "      <th>origCLTV</th>\n",
       "      <th>...</th>\n",
       "      <th>propType</th>\n",
       "      <th>numUnits</th>\n",
       "      <th>occType</th>\n",
       "      <th>propState</th>\n",
       "      <th>zipCode</th>\n",
       "      <th>pMIperct</th>\n",
       "      <th>prodType</th>\n",
       "      <th>coborrCreditScore</th>\n",
       "      <th>mortInsType</th>\n",
       "      <th>relocMortInd</th>\n",
       "    </tr>\n",
       "  </thead>\n",
       "  <tbody>\n",
       "    <tr>\n",
       "      <th>0</th>\n",
       "      <td>100007365142</td>\n",
       "      <td>R</td>\n",
       "      <td>JPMORGAN CHASE BANK, NA</td>\n",
       "      <td>8.000</td>\n",
       "      <td>75000</td>\n",
       "      <td>360</td>\n",
       "      <td>12/1999</td>\n",
       "      <td>02/2000</td>\n",
       "      <td>79.0</td>\n",
       "      <td>NaN</td>\n",
       "      <td>...</td>\n",
       "      <td>SF</td>\n",
       "      <td>1</td>\n",
       "      <td>P</td>\n",
       "      <td>PA</td>\n",
       "      <td>173</td>\n",
       "      <td>NaN</td>\n",
       "      <td>FRM</td>\n",
       "      <td>NaN</td>\n",
       "      <td>NaN</td>\n",
       "      <td>N</td>\n",
       "    </tr>\n",
       "    <tr>\n",
       "      <th>1</th>\n",
       "      <td>100007386460</td>\n",
       "      <td>B</td>\n",
       "      <td>JPMORGAN CHASE BANK, NA</td>\n",
       "      <td>7.875</td>\n",
       "      <td>55000</td>\n",
       "      <td>180</td>\n",
       "      <td>01/2000</td>\n",
       "      <td>03/2000</td>\n",
       "      <td>69.0</td>\n",
       "      <td>NaN</td>\n",
       "      <td>...</td>\n",
       "      <td>CO</td>\n",
       "      <td>1</td>\n",
       "      <td>P</td>\n",
       "      <td>MD</td>\n",
       "      <td>208</td>\n",
       "      <td>NaN</td>\n",
       "      <td>FRM</td>\n",
       "      <td>NaN</td>\n",
       "      <td>NaN</td>\n",
       "      <td>N</td>\n",
       "    </tr>\n",
       "    <tr>\n",
       "      <th>2</th>\n",
       "      <td>100011322040</td>\n",
       "      <td>C</td>\n",
       "      <td>AMTRUST BANK</td>\n",
       "      <td>7.750</td>\n",
       "      <td>123000</td>\n",
       "      <td>360</td>\n",
       "      <td>11/1999</td>\n",
       "      <td>01/2000</td>\n",
       "      <td>80.0</td>\n",
       "      <td>NaN</td>\n",
       "      <td>...</td>\n",
       "      <td>SF</td>\n",
       "      <td>1</td>\n",
       "      <td>P</td>\n",
       "      <td>MO</td>\n",
       "      <td>630</td>\n",
       "      <td>NaN</td>\n",
       "      <td>FRM</td>\n",
       "      <td>NaN</td>\n",
       "      <td>NaN</td>\n",
       "      <td>N</td>\n",
       "    </tr>\n",
       "    <tr>\n",
       "      <th>3</th>\n",
       "      <td>100015192562</td>\n",
       "      <td>R</td>\n",
       "      <td>OTHER</td>\n",
       "      <td>8.500</td>\n",
       "      <td>51000</td>\n",
       "      <td>360</td>\n",
       "      <td>02/2000</td>\n",
       "      <td>04/2000</td>\n",
       "      <td>95.0</td>\n",
       "      <td>NaN</td>\n",
       "      <td>...</td>\n",
       "      <td>SF</td>\n",
       "      <td>1</td>\n",
       "      <td>P</td>\n",
       "      <td>GA</td>\n",
       "      <td>316</td>\n",
       "      <td>25.0</td>\n",
       "      <td>FRM</td>\n",
       "      <td>NaN</td>\n",
       "      <td>1.0</td>\n",
       "      <td>N</td>\n",
       "    </tr>\n",
       "    <tr>\n",
       "      <th>4</th>\n",
       "      <td>100015874399</td>\n",
       "      <td>C</td>\n",
       "      <td>CITIMORTGAGE, INC.</td>\n",
       "      <td>8.750</td>\n",
       "      <td>242000</td>\n",
       "      <td>360</td>\n",
       "      <td>02/2000</td>\n",
       "      <td>04/2000</td>\n",
       "      <td>95.0</td>\n",
       "      <td>NaN</td>\n",
       "      <td>...</td>\n",
       "      <td>SF</td>\n",
       "      <td>1</td>\n",
       "      <td>P</td>\n",
       "      <td>FL</td>\n",
       "      <td>335</td>\n",
       "      <td>30.0</td>\n",
       "      <td>FRM</td>\n",
       "      <td>NaN</td>\n",
       "      <td>1.0</td>\n",
       "      <td>N</td>\n",
       "    </tr>\n",
       "  </tbody>\n",
       "</table>\n",
       "<p>5 rows × 25 columns</p>\n",
       "</div>"
      ],
      "text/plain": [
       "   loanIdentifier origChannel               sellerName  origIntRate  origUPB  \\\n",
       "0    100007365142           R  JPMORGAN CHASE BANK, NA        8.000    75000   \n",
       "1    100007386460           B  JPMORGAN CHASE BANK, NA        7.875    55000   \n",
       "2    100011322040           C             AMTRUST BANK        7.750   123000   \n",
       "3    100015192562           R                    OTHER        8.500    51000   \n",
       "4    100015874399           C       CITIMORTGAGE, INC.        8.750   242000   \n",
       "\n",
       "   origLoanTerm origDate firstPmtDate  origLTV  origCLTV  ...  propType  \\\n",
       "0           360  12/1999      02/2000     79.0       NaN  ...        SF   \n",
       "1           180  01/2000      03/2000     69.0       NaN  ...        CO   \n",
       "2           360  11/1999      01/2000     80.0       NaN  ...        SF   \n",
       "3           360  02/2000      04/2000     95.0       NaN  ...        SF   \n",
       "4           360  02/2000      04/2000     95.0       NaN  ...        SF   \n",
       "\n",
       "   numUnits  occType propState zipCode pMIperct  prodType coborrCreditScore  \\\n",
       "0         1        P        PA     173      NaN       FRM               NaN   \n",
       "1         1        P        MD     208      NaN       FRM               NaN   \n",
       "2         1        P        MO     630      NaN       FRM               NaN   \n",
       "3         1        P        GA     316     25.0       FRM               NaN   \n",
       "4         1        P        FL     335     30.0       FRM               NaN   \n",
       "\n",
       "  mortInsType  relocMortInd  \n",
       "0         NaN             N  \n",
       "1         NaN             N  \n",
       "2         NaN             N  \n",
       "3         1.0             N  \n",
       "4         1.0             N  \n",
       "\n",
       "[5 rows x 25 columns]"
      ]
     },
     "execution_count": 7,
     "metadata": {},
     "output_type": "execute_result"
    }
   ],
   "source": [
    "df.head()"
   ]
  },
  {
   "cell_type": "markdown",
   "metadata": {},
   "source": [
    "### Let's take a look at how many null values there are in each column"
   ]
  },
  {
   "cell_type": "code",
   "execution_count": 8,
   "metadata": {},
   "outputs": [
    {
     "data": {
      "text/plain": [
       "loanIdentifier              0\n",
       "origChannel                 0\n",
       "sellerName                  0\n",
       "origIntRate                 6\n",
       "origUPB                     0\n",
       "origLoanTerm                0\n",
       "origDate                    0\n",
       "firstPmtDate                0\n",
       "origLTV                    11\n",
       "origCLTV               307137\n",
       "numBorrowers             9850\n",
       "origDebtIncRatio       765890\n",
       "borrCreditScore        160888\n",
       "firstTHBI                   0\n",
       "loanPurp                    0\n",
       "propType                    0\n",
       "numUnits                    0\n",
       "occType                     0\n",
       "propState                   0\n",
       "zipCode                     0\n",
       "pMIperct             33624509\n",
       "prodType                    0\n",
       "coborrCreditScore    20781879\n",
       "mortInsType          33624509\n",
       "relocMortInd                0\n",
       "dtype: int64"
      ]
     },
     "execution_count": 8,
     "metadata": {},
     "output_type": "execute_result"
    }
   ],
   "source": [
    "df.apply(lambda x: x.isnull().sum(), axis=0)"
   ]
  },
  {
   "cell_type": "markdown",
   "metadata": {},
   "source": [
    "### Convert the origDate,firstPmtDate columns from strings to datetime datatypes\n",
    "Since this will be such a large dataset I tested a number of methods to change datatypes"
   ]
  },
  {
   "cell_type": "markdown",
   "metadata": {},
   "source": [
    "`%timeit df['origDate'] = pd.to_datetime(df['origDate'], format='%m/%Y')`  \n",
    "5.43 ms ± 457 µs per loop (mean ± std. dev. of 7 runs, 1 loop each)\n",
    "\n",
    "`%timeit df['origDate'].apply(lambda _: datetime.strptime(_,\"%m/%Y\"))')`  \n",
    "5.48 ms ± 91.7 µs per loop (mean ± std. dev. of 7 runs, 100 loops each)\n",
    "\n",
    "Not much difference in speeds so I'll choose the `to_datetime` method"
   ]
  },
  {
   "cell_type": "code",
   "execution_count": 9,
   "metadata": {},
   "outputs": [],
   "source": [
    "df['origDate'] = pd.to_datetime(df['origDate'], format='%m/%Y')\n",
    "df['firstPmtDate'] = pd.to_datetime(df['firstPmtDate'], format='%m/%Y')"
   ]
  },
  {
   "cell_type": "markdown",
   "metadata": {},
   "source": [
    "### Filter out records with values we aren't interested in examining:"
   ]
  },
  {
   "cell_type": "markdown",
   "metadata": {},
   "source": [
    "Using the [Glossary](https://loanperformancedata.fanniemae.com/lppub-docs/FNMA_SF_Loan_Performance_Glossary.pdf) of column names we made the following selections:\n",
    "![Property Type](images/propertyType.jpg)\n",
    "* Property type: only want 'SF' - 'Single Family'"
   ]
  },
  {
   "cell_type": "code",
   "execution_count": 10,
   "metadata": {},
   "outputs": [
    {
     "data": {
      "text/plain": [
       "<AxesSubplot:xlabel='propType', ylabel='count'>"
      ]
     },
     "execution_count": 10,
     "metadata": {},
     "output_type": "execute_result"
    },
    {
     "data": {
      "image/png": "[encoded data removed]",
      "text/plain": [
       "<Figure size 432x288 with 1 Axes>"
      ]
     },
     "metadata": {
      "needs_background": "light"
     },
     "output_type": "display_data"
    }
   ],
   "source": [
    "sns.countplot(df['propType'])"
   ]
  },
  {
   "cell_type": "markdown",
   "metadata": {},
   "source": [
    "### Most property type loans were made for Single Family loans - so we can eliminate the others"
   ]
  },
  {
   "cell_type": "code",
   "execution_count": 11,
   "metadata": {},
   "outputs": [
    {
     "data": {
      "text/plain": [
       "(30336301, 25)"
      ]
     },
     "execution_count": 11,
     "metadata": {},
     "output_type": "execute_result"
    }
   ],
   "source": [
    "propTypeFilter = ['SF']\n",
    "df = df[df.propType.isin(propTypeFilter)]\n",
    "df.shape"
   ]
  },
  {
   "cell_type": "markdown",
   "metadata": {},
   "source": [
    "![Number of Units](images/numUnits.jpg)\n",
    "* Number of Units: only want '1'"
   ]
  },
  {
   "cell_type": "code",
   "execution_count": 12,
   "metadata": {
    "scrolled": false
   },
   "outputs": [
    {
     "data": {
      "text/plain": [
       "<AxesSubplot:xlabel='numUnits', ylabel='count'>"
      ]
     },
     "execution_count": 12,
     "metadata": {},
     "output_type": "execute_result"
    },
    {
     "data": {
      "image/png": "[encoded data removed]",
      "text/plain": [
       "<Figure size 432x288 with 1 Axes>"
      ]
     },
     "metadata": {
      "needs_background": "light"
     },
     "output_type": "display_data"
    }
   ],
   "source": [
    "sns.countplot(df['numUnits'])"
   ]
  },
  {
   "cell_type": "markdown",
   "metadata": {},
   "source": [
    "### Most Number of Units were \"1\" - so we can eliminate the others"
   ]
  },
  {
   "cell_type": "code",
   "execution_count": 13,
   "metadata": {},
   "outputs": [
    {
     "data": {
      "text/plain": [
       "(29308889, 25)"
      ]
     },
     "execution_count": 13,
     "metadata": {},
     "output_type": "execute_result"
    }
   ],
   "source": [
    "numUnitsFilter = [1]\n",
    "df = df[df.numUnits.isin(numUnitsFilter)]\n",
    "df.shape"
   ]
  },
  {
   "cell_type": "markdown",
   "metadata": {},
   "source": [
    "![Occupany Type](images/occType.jpg)\n",
    "* Occupancy Type: only want 'Principal'"
   ]
  },
  {
   "cell_type": "code",
   "execution_count": 14,
   "metadata": {
    "scrolled": false
   },
   "outputs": [
    {
     "data": {
      "text/plain": [
       "<AxesSubplot:xlabel='occType', ylabel='count'>"
      ]
     },
     "execution_count": 14,
     "metadata": {},
     "output_type": "execute_result"
    },
    {
     "data": {
      "image/png": "[encoded data removed]",
      "text/plain": [
       "<Figure size 432x288 with 1 Axes>"
      ]
     },
     "metadata": {
      "needs_background": "light"
     },
     "output_type": "display_data"
    }
   ],
   "source": [
    "sns.countplot(df['occType'])"
   ]
  },
  {
   "cell_type": "markdown",
   "metadata": {},
   "source": [
    "### Most Occupancy Type loans were for \"Principal\" - so we can eliminate the others"
   ]
  },
  {
   "cell_type": "code",
   "execution_count": 15,
   "metadata": {},
   "outputs": [
    {
     "data": {
      "text/plain": [
       "(26796326, 25)"
      ]
     },
     "execution_count": 15,
     "metadata": {},
     "output_type": "execute_result"
    }
   ],
   "source": [
    "occTypeFilter = ['P']\n",
    "df = df[df.occType.isin(occTypeFilter)]\n",
    "df.shape"
   ]
  },
  {
   "cell_type": "markdown",
   "metadata": {},
   "source": [
    "![Loan Purpose](images/loanPurp.jpg)\n",
    "* Loan Purpose: we want 'All'"
   ]
  },
  {
   "cell_type": "code",
   "execution_count": 16,
   "metadata": {
    "scrolled": false
   },
   "outputs": [
    {
     "data": {
      "text/plain": [
       "<AxesSubplot:xlabel='loanPurp', ylabel='count'>"
      ]
     },
     "execution_count": 16,
     "metadata": {},
     "output_type": "execute_result"
    },
    {
     "data": {
      "image/png": "[encoded data removed]",
      "text/plain": [
       "<Figure size 432x288 with 1 Axes>"
      ]
     },
     "metadata": {
      "needs_background": "light"
     },
     "output_type": "display_data"
    }
   ],
   "source": [
    "sns.countplot(df['loanPurp'])"
   ]
  },
  {
   "cell_type": "markdown",
   "metadata": {},
   "source": [
    "### Loan Purpose was almost evenly distributed amongst P, C, R - so we won't eliminate anything here"
   ]
  },
  {
   "cell_type": "code",
   "execution_count": 17,
   "metadata": {},
   "outputs": [
    {
     "data": {
      "text/plain": [
       "(26796326, 25)"
      ]
     },
     "execution_count": 17,
     "metadata": {},
     "output_type": "execute_result"
    }
   ],
   "source": [
    "# loanPurpFilter = ['C','R','U']\n",
    "# df = df[df.loanPurp.isin(loanPurpFilter)]\n",
    "df.shape"
   ]
  },
  {
   "cell_type": "markdown",
   "metadata": {},
   "source": [
    "![Number of Units](images/origLoanTerm.jpg)\n",
    "* Number of Units: only want '360'"
   ]
  },
  {
   "cell_type": "code",
   "execution_count": 18,
   "metadata": {
    "scrolled": false
   },
   "outputs": [
    {
     "data": {
      "text/plain": [
       "<AxesSubplot:xlabel='origLoanTerm', ylabel='count'>"
      ]
     },
     "execution_count": 18,
     "metadata": {},
     "output_type": "execute_result"
    },
    {
     "data": {
      "image/png": "[encoded data removed]",
      "text/plain": [
       "<Figure size 432x288 with 1 Axes>"
      ]
     },
     "metadata": {
      "needs_background": "light"
     },
     "output_type": "display_data"
    }
   ],
   "source": [
    "sns.countplot(df['origLoanTerm'])"
   ]
  },
  {
   "cell_type": "markdown",
   "metadata": {},
   "source": [
    "### Loan Term had several \"spikes\" of different loan terms with 360 being the most prevalent - decided we won't eliminate anything here"
   ]
  },
  {
   "cell_type": "code",
   "execution_count": 19,
   "metadata": {},
   "outputs": [
    {
     "data": {
      "text/plain": [
       "(26796326, 25)"
      ]
     },
     "execution_count": 19,
     "metadata": {},
     "output_type": "execute_result"
    }
   ],
   "source": [
    "# origLoanTermFilter = [360]\n",
    "# df = df[df.origLoanTerm.isin(origLoanTermFilter)]\n",
    "df.shape"
   ]
  },
  {
   "cell_type": "markdown",
   "metadata": {},
   "source": [
    "### Let's see how these filters affected the count of null values in each column"
   ]
  },
  {
   "cell_type": "code",
   "execution_count": 20,
   "metadata": {},
   "outputs": [
    {
     "data": {
      "text/plain": [
       "loanIdentifier              0\n",
       "origChannel                 0\n",
       "sellerName                  0\n",
       "origIntRate                 3\n",
       "origUPB                     0\n",
       "origLoanTerm                0\n",
       "origDate                    0\n",
       "firstPmtDate                0\n",
       "origLTV                     6\n",
       "origCLTV               235736\n",
       "numBorrowers             7472\n",
       "origDebtIncRatio       517299\n",
       "borrCreditScore        111064\n",
       "firstTHBI                   0\n",
       "loanPurp                    0\n",
       "propType                    0\n",
       "numUnits                    0\n",
       "occType                     0\n",
       "propState                   0\n",
       "zipCode                     0\n",
       "pMIperct             21802254\n",
       "prodType                    0\n",
       "coborrCreditScore    13056416\n",
       "mortInsType          21802254\n",
       "relocMortInd                0\n",
       "dtype: int64"
      ]
     },
     "execution_count": 20,
     "metadata": {},
     "output_type": "execute_result"
    }
   ],
   "source": [
    "df.apply(lambda x: x.isnull().sum(), axis=0)"
   ]
  },
  {
   "cell_type": "markdown",
   "metadata": {},
   "source": [
    "### Fill null values with 0 for the following columns\n",
    "We can't have NaN or Null values for the machine learning part to come"
   ]
  },
  {
   "cell_type": "code",
   "execution_count": 21,
   "metadata": {},
   "outputs": [],
   "source": [
    "df['mortInsType'] = df['mortInsType'].fillna(0)\n",
    "df['pMIperct'] = df['pMIperct'].fillna(0)\n",
    "# df['origCLTV'] = df['origCLTV'].fillna(0)"
   ]
  },
  {
   "cell_type": "markdown",
   "metadata": {},
   "source": [
    "## Calculate the 'Best', 'Worst' and 'Avg' Credit Score\n",
    "Given that there is a Borrower Credit Score and a Co-Borrower Credit Score and that there are Null values for each we want to create calculated columns where no Null values exist and then drop the original columns"
   ]
  },
  {
   "cell_type": "code",
   "execution_count": 22,
   "metadata": {},
   "outputs": [],
   "source": [
    "df['bestCreditScore'] = df[['borrCreditScore','coborrCreditScore']].max(axis=1)\n",
    "df['worstCreditScore'] = df[['borrCreditScore','coborrCreditScore']].min(axis=1)\n",
    "df['avgCreditScore'] = df[['borrCreditScore','coborrCreditScore']].mean(axis=1)"
   ]
  },
  {
   "cell_type": "markdown",
   "metadata": {},
   "source": [
    "### Get rid of records where there are NaN or NULL values for:\n",
    "* 'origIntRate'\n",
    "* 'origLTV'\n",
    "* 'origCLTV'\n",
    "* 'numBorrowers'\n",
    "* 'origDebtIncRatio'\n",
    "* 'bestCreditScore'\n",
    "* 'worstCreditScore'\n",
    "* 'avgCreditScore'\n",
    "* 'numBorrowers'"
   ]
  },
  {
   "cell_type": "code",
   "execution_count": 23,
   "metadata": {},
   "outputs": [],
   "source": [
    "df = df[df['origIntRate'].notna() &\\\n",
    "        df['origLTV'].notna() &\\\n",
    "        df['origCLTV'].notna() &\\\n",
    "        df['numBorrowers'].notna() &\\\n",
    "        df['origDebtIncRatio'].notna() &\\\n",
    "        df['bestCreditScore'].notna() &\\\n",
    "        df['worstCreditScore'].notna() &\\\n",
    "        df['avgCreditScore'].notna() &\\\n",
    "        df['numBorrowers'].notna()]"
   ]
  },
  {
   "cell_type": "markdown",
   "metadata": {},
   "source": [
    "### Drop all columns where there is only a single value and also coborrower Credit Score and original credit score  (since we now have the calculated values of 'best', 'worst' and 'avg'\n",
    "* 'borrCreditScore'\n",
    "* 'coborrCreditScore'"
   ]
  },
  {
   "cell_type": "code",
   "execution_count": 24,
   "metadata": {
    "scrolled": false
   },
   "outputs": [],
   "source": [
    "df = df.drop(['prodType','firstTHBI','relocMortInd','occType','numUnits','coborrCreditScore', 'borrCreditScore','propType'], axis=1)"
   ]
  },
  {
   "cell_type": "code",
   "execution_count": 25,
   "metadata": {},
   "outputs": [
    {
     "data": {
      "text/plain": [
       "loanIdentifier      0\n",
       "origChannel         0\n",
       "sellerName          0\n",
       "origIntRate         0\n",
       "origUPB             0\n",
       "origLoanTerm        0\n",
       "origDate            0\n",
       "firstPmtDate        0\n",
       "origLTV             0\n",
       "origCLTV            0\n",
       "numBorrowers        0\n",
       "origDebtIncRatio    0\n",
       "loanPurp            0\n",
       "propState           0\n",
       "zipCode             0\n",
       "pMIperct            0\n",
       "mortInsType         0\n",
       "bestCreditScore     0\n",
       "worstCreditScore    0\n",
       "avgCreditScore      0\n",
       "dtype: int64"
      ]
     },
     "execution_count": 25,
     "metadata": {},
     "output_type": "execute_result"
    }
   ],
   "source": [
    "df.apply(lambda x: x.isnull().sum(), axis=0)"
   ]
  },
  {
   "cell_type": "code",
   "execution_count": 26,
   "metadata": {},
   "outputs": [
    {
     "name": "stdout",
     "output_type": "stream",
     "text": [
      "<class 'pandas.core.frame.DataFrame'>\n",
      "Int64Index: 25993874 entries, 711 to 41294720\n",
      "Data columns (total 20 columns):\n",
      " #   Column            Dtype         \n",
      "---  ------            -----         \n",
      " 0   loanIdentifier    int64         \n",
      " 1   origChannel       object        \n",
      " 2   sellerName        object        \n",
      " 3   origIntRate       float64       \n",
      " 4   origUPB           int64         \n",
      " 5   origLoanTerm      int64         \n",
      " 6   origDate          datetime64[ns]\n",
      " 7   firstPmtDate      datetime64[ns]\n",
      " 8   origLTV           float64       \n",
      " 9   origCLTV          float64       \n",
      " 10  numBorrowers      float64       \n",
      " 11  origDebtIncRatio  float64       \n",
      " 12  loanPurp          object        \n",
      " 13  propState         object        \n",
      " 14  zipCode           int64         \n",
      " 15  pMIperct          float64       \n",
      " 16  mortInsType       float64       \n",
      " 17  bestCreditScore   float64       \n",
      " 18  worstCreditScore  float64       \n",
      " 19  avgCreditScore    float64       \n",
      "dtypes: datetime64[ns](2), float64(10), int64(4), object(4)\n",
      "memory usage: 4.1+ GB\n"
     ]
    }
   ],
   "source": [
    "df.info()"
   ]
  },
  {
   "cell_type": "code",
   "execution_count": 27,
   "metadata": {},
   "outputs": [
    {
     "data": {
      "text/html": [
       "<div>\n",
       "<style scoped>\n",
       "    .dataframe tbody tr th:only-of-type {\n",
       "        vertical-align: middle;\n",
       "    }\n",
       "\n",
       "    .dataframe tbody tr th {\n",
       "        vertical-align: top;\n",
       "    }\n",
       "\n",
       "    .dataframe thead th {\n",
       "        text-align: right;\n",
       "    }\n",
       "</style>\n",
       "<table border=\"1\" class=\"dataframe\">\n",
       "  <thead>\n",
       "    <tr style=\"text-align: right;\">\n",
       "      <th></th>\n",
       "      <th>loanIdentifier</th>\n",
       "      <th>origChannel</th>\n",
       "      <th>sellerName</th>\n",
       "      <th>origIntRate</th>\n",
       "      <th>origUPB</th>\n",
       "      <th>origLoanTerm</th>\n",
       "      <th>origDate</th>\n",
       "      <th>firstPmtDate</th>\n",
       "      <th>origLTV</th>\n",
       "      <th>origCLTV</th>\n",
       "      <th>numBorrowers</th>\n",
       "      <th>origDebtIncRatio</th>\n",
       "      <th>loanPurp</th>\n",
       "      <th>propState</th>\n",
       "      <th>zipCode</th>\n",
       "      <th>pMIperct</th>\n",
       "      <th>mortInsType</th>\n",
       "      <th>bestCreditScore</th>\n",
       "      <th>worstCreditScore</th>\n",
       "      <th>avgCreditScore</th>\n",
       "    </tr>\n",
       "  </thead>\n",
       "  <tbody>\n",
       "    <tr>\n",
       "      <th>711</th>\n",
       "      <td>102575552799</td>\n",
       "      <td>R</td>\n",
       "      <td>OTHER</td>\n",
       "      <td>7.625</td>\n",
       "      <td>253000</td>\n",
       "      <td>360</td>\n",
       "      <td>2000-02-01</td>\n",
       "      <td>2000-04-01</td>\n",
       "      <td>79.0</td>\n",
       "      <td>95.0</td>\n",
       "      <td>2.0</td>\n",
       "      <td>21.0</td>\n",
       "      <td>R</td>\n",
       "      <td>IN</td>\n",
       "      <td>468</td>\n",
       "      <td>0.0</td>\n",
       "      <td>0.0</td>\n",
       "      <td>656.0</td>\n",
       "      <td>655.0</td>\n",
       "      <td>655.5</td>\n",
       "    </tr>\n",
       "    <tr>\n",
       "      <th>752</th>\n",
       "      <td>102718910405</td>\n",
       "      <td>R</td>\n",
       "      <td>JPMORGAN CHASE BANK, NA</td>\n",
       "      <td>8.500</td>\n",
       "      <td>187000</td>\n",
       "      <td>360</td>\n",
       "      <td>2000-02-01</td>\n",
       "      <td>2000-04-01</td>\n",
       "      <td>80.0</td>\n",
       "      <td>90.0</td>\n",
       "      <td>2.0</td>\n",
       "      <td>31.0</td>\n",
       "      <td>P</td>\n",
       "      <td>MI</td>\n",
       "      <td>483</td>\n",
       "      <td>0.0</td>\n",
       "      <td>0.0</td>\n",
       "      <td>712.0</td>\n",
       "      <td>706.0</td>\n",
       "      <td>709.0</td>\n",
       "    </tr>\n",
       "    <tr>\n",
       "      <th>785</th>\n",
       "      <td>102891952623</td>\n",
       "      <td>R</td>\n",
       "      <td>JPMORGAN CHASE BANK, NA</td>\n",
       "      <td>8.625</td>\n",
       "      <td>150000</td>\n",
       "      <td>360</td>\n",
       "      <td>2000-01-01</td>\n",
       "      <td>2000-03-01</td>\n",
       "      <td>80.0</td>\n",
       "      <td>95.0</td>\n",
       "      <td>1.0</td>\n",
       "      <td>37.0</td>\n",
       "      <td>P</td>\n",
       "      <td>MA</td>\n",
       "      <td>21</td>\n",
       "      <td>0.0</td>\n",
       "      <td>0.0</td>\n",
       "      <td>717.0</td>\n",
       "      <td>717.0</td>\n",
       "      <td>717.0</td>\n",
       "    </tr>\n",
       "    <tr>\n",
       "      <th>841</th>\n",
       "      <td>103123692845</td>\n",
       "      <td>B</td>\n",
       "      <td>JPMORGAN CHASE BANK, NA</td>\n",
       "      <td>8.500</td>\n",
       "      <td>243000</td>\n",
       "      <td>360</td>\n",
       "      <td>2000-02-01</td>\n",
       "      <td>2000-04-01</td>\n",
       "      <td>80.0</td>\n",
       "      <td>95.0</td>\n",
       "      <td>1.0</td>\n",
       "      <td>49.0</td>\n",
       "      <td>P</td>\n",
       "      <td>CA</td>\n",
       "      <td>926</td>\n",
       "      <td>0.0</td>\n",
       "      <td>0.0</td>\n",
       "      <td>682.0</td>\n",
       "      <td>682.0</td>\n",
       "      <td>682.0</td>\n",
       "    </tr>\n",
       "    <tr>\n",
       "      <th>1526</th>\n",
       "      <td>105732468779</td>\n",
       "      <td>C</td>\n",
       "      <td>REGIONS BANK</td>\n",
       "      <td>8.250</td>\n",
       "      <td>103000</td>\n",
       "      <td>360</td>\n",
       "      <td>2000-02-01</td>\n",
       "      <td>2000-04-01</td>\n",
       "      <td>80.0</td>\n",
       "      <td>90.0</td>\n",
       "      <td>2.0</td>\n",
       "      <td>20.0</td>\n",
       "      <td>P</td>\n",
       "      <td>TX</td>\n",
       "      <td>781</td>\n",
       "      <td>0.0</td>\n",
       "      <td>0.0</td>\n",
       "      <td>747.0</td>\n",
       "      <td>694.0</td>\n",
       "      <td>720.5</td>\n",
       "    </tr>\n",
       "  </tbody>\n",
       "</table>\n",
       "</div>"
      ],
      "text/plain": [
       "      loanIdentifier origChannel               sellerName  origIntRate  \\\n",
       "711     102575552799           R                    OTHER        7.625   \n",
       "752     102718910405           R  JPMORGAN CHASE BANK, NA        8.500   \n",
       "785     102891952623           R  JPMORGAN CHASE BANK, NA        8.625   \n",
       "841     103123692845           B  JPMORGAN CHASE BANK, NA        8.500   \n",
       "1526    105732468779           C             REGIONS BANK        8.250   \n",
       "\n",
       "      origUPB  origLoanTerm   origDate firstPmtDate  origLTV  origCLTV  \\\n",
       "711    253000           360 2000-02-01   2000-04-01     79.0      95.0   \n",
       "752    187000           360 2000-02-01   2000-04-01     80.0      90.0   \n",
       "785    150000           360 2000-01-01   2000-03-01     80.0      95.0   \n",
       "841    243000           360 2000-02-01   2000-04-01     80.0      95.0   \n",
       "1526   103000           360 2000-02-01   2000-04-01     80.0      90.0   \n",
       "\n",
       "      numBorrowers  origDebtIncRatio loanPurp propState  zipCode  pMIperct  \\\n",
       "711            2.0              21.0        R        IN      468       0.0   \n",
       "752            2.0              31.0        P        MI      483       0.0   \n",
       "785            1.0              37.0        P        MA       21       0.0   \n",
       "841            1.0              49.0        P        CA      926       0.0   \n",
       "1526           2.0              20.0        P        TX      781       0.0   \n",
       "\n",
       "      mortInsType  bestCreditScore  worstCreditScore  avgCreditScore  \n",
       "711           0.0            656.0             655.0           655.5  \n",
       "752           0.0            712.0             706.0           709.0  \n",
       "785           0.0            717.0             717.0           717.0  \n",
       "841           0.0            682.0             682.0           682.0  \n",
       "1526          0.0            747.0             694.0           720.5  "
      ]
     },
     "execution_count": 27,
     "metadata": {},
     "output_type": "execute_result"
    }
   ],
   "source": [
    "df.head()"
   ]
  },
  {
   "cell_type": "code",
   "execution_count": 28,
   "metadata": {},
   "outputs": [
    {
     "data": {
      "text/plain": [
       "25993874"
      ]
     },
     "execution_count": 28,
     "metadata": {},
     "output_type": "execute_result"
    }
   ],
   "source": [
    "# Check if updated files from Fannie Mae have created duplicate entries for a given loan Identifier \n",
    "#(number should equal the number of records if there are no duplicates)\n",
    "df.groupby('loanIdentifier').loanIdentifier.nunique().sum()"
   ]
  },
  {
   "cell_type": "code",
   "execution_count": 29,
   "metadata": {},
   "outputs": [
    {
     "data": {
      "text/plain": [
       "'D:\\\\data/FMAcqProcessedPurchRefi.csv'"
      ]
     },
     "execution_count": 29,
     "metadata": {},
     "output_type": "execute_result"
    }
   ],
   "source": [
    "pathparts = (DATA_DIR,outputFileName)\n",
    "outpath = \"/\".join(pathparts)\n",
    "outpath"
   ]
  },
  {
   "cell_type": "markdown",
   "metadata": {},
   "source": [
    "## Output Processed *.txt files into *.csv file"
   ]
  },
  {
   "cell_type": "code",
   "execution_count": 30,
   "metadata": {},
   "outputs": [],
   "source": [
    "df.to_csv(outpath)"
   ]
  },
  {
   "cell_type": "code",
   "execution_count": null,
   "metadata": {},
   "outputs": [],
   "source": []
  }
 ],
 "metadata": {
  "kernelspec": {
   "display_name": "MortgageML",
   "language": "python",
   "name": "mortgageml"
  },
  "language_info": {
   "codemirror_mode": {
    "name": "ipython",
    "version": 3
   },
   "file_extension": ".py",
   "mimetype": "text/x-python",
   "name": "python",
   "nbconvert_exporter": "python",
   "pygments_lexer": "ipython3",
   "version": "3.6.10"
  }
 },
 "nbformat": 4,
 "nbformat_minor": 2
}
